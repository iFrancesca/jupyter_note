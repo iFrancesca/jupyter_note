{
 "cells": [
  {
   "cell_type": "code",
   "execution_count": 1,
   "metadata": {},
   "outputs": [
    {
     "data": {
      "text/plain": [
       "\"yaml Ain't Makeuo Language\\n**无类型键值对  key:value\\n   name : 北京理工大学\\n**缩进表达所属关系\\n   name:\\n       newname:北京理工大学\\n       oldname:延安自然科学院\\n** - 表达并列关系\\n\""
      ]
     },
     "execution_count": 1,
     "metadata": {},
     "output_type": "execute_result"
    }
   ],
   "source": [
    "#信息标记的三种方法\n",
    "'''标记后的信息科形成信息组织结构，增加了信息维度\n",
    "标记的结构与信息一样具有重要价值\n",
    "标记后的信息可用于通信、存储或展示\n",
    "标记后的信息更利于程序理解和运用'''\n",
    "#htnl信息标记\n",
    "'''hyper text makeup language\n",
    "是www（world for wide web)的信息组织方式'''\n",
    "'''https://www.cnblogs.com/key221/p/9524062.html'''\n",
    "#xml\n",
    "'''**eXtensible Makeup Language\n",
    "<img  src=''\"China.jpg\"size=\"10\">...</img>\n",
    "名称name  属性 attribute         \n",
    "     标签\n",
    "**<img src=\"chian.jpg\" size=\"10\"/>   空元素的缩写形式\n",
    "<!--This is a .comment,very useful -->  注释书写形式\n",
    "**<name>...</name>\n",
    "<name />\n",
    "<!--    -->'''\n",
    "#json\n",
    "'''JavaScript Object Notation\n",
    "**有类型的键值对key:value\n",
    "               e.g  \"name\":\"北京理工大学\"\n",
    "                     \"name\":[\"北京理工大学\",\"延安自然科学院\"]                         多用[,]组织\n",
    "                     \"name\":{\"name\":\"北京理工大学\",\"oldname\":\"延安自然科学院\"}        键值对嵌套用{,}\n",
    "'''\n",
    "#yaml\n",
    "'''yaml Ain't Makeuo Language\n",
    "**无类型键值对  key:value\n",
    "   name : 北京理工大学\n",
    "**缩进表达所属关系\n",
    "   name:\n",
    "       newname:北京理工大学\n",
    "       oldname:延安自然科学院\n",
    "** - 表达并列关系\n",
    "   name:\n",
    "   -北京理工大学\n",
    "   -延安自然科学院\n",
    "** | 表达整块数据   # 表示注释\n",
    "     text:|         #学校介绍\n",
    "     北京理工大学（Beijing Institute of Technology）是中华人民共和\n",
    "     国工业和信息化部直属的一所以理工科为主干，工、理、管、文协调发展的全国重点大学。\n",
    "**key : value\n",
    "  key:  #comment\n",
    "  -value1\n",
    "  -value2\n",
    "  key:\n",
    "      subkey:subvalue\n",
    "'''\n"
   ]
  },
  {
   "cell_type": "code",
   "execution_count": 2,
   "metadata": {},
   "outputs": [
    {
     "data": {
      "text/plain": [
       "'https://blog.csdn.net/riba2534/article/details/68950203\\n*xml\\n<person>\\n    <firstname>Tian</firstname>\\n    <lastname>Song</lastname>\\n    <address>\\n            <streetAddr>中关村南大街5号</sreetAddr>\\n            <city>北京市</city>\\n            <zipcode>100081</zipcode>\\n    </address>\\n    <prof>Computer System</prof><prof>Security</prof>\\n/person>\\n*json\\n{\\n    \"firstname\":\"Tian\",\\n    \"lastname\":\"Song\",\\n    \"address\":{\\n                \"streetname\":\"中关村南大街5号\",\\n                \"city\":\"北京市\",\\n                \"zipcode\":\"100081\"\\n                },\\n    \"prof\"   :[\"Computer System\",\"Security\"]\\n}\\n#yaml\\nfirstname:Tian\\nlastname:Song\\naddress  \\n'"
      ]
     },
     "execution_count": 2,
     "metadata": {},
     "output_type": "execute_result"
    }
   ],
   "source": [
    "#三种标记形式的比较\n",
    "'''https://blog.csdn.net/riba2534/article/details/68950203\n",
    "*xml\n",
    "<person>\n",
    "    <firstname>Tian</firstname>\n",
    "    <lastname>Song</lastname>\n",
    "    <address>\n",
    "            <streetAddr>中关村南大街5号</sreetAddr>\n",
    "            <city>北京市</city>\n",
    "            <zipcode>100081</zipcode>\n",
    "    </address>\n",
    "    <prof>Computer System</prof><prof>Security</prof>\n",
    "/person>\n",
    "*json\n",
    "{\n",
    "    \"firstname\":\"Tian\",\n",
    "    \"lastname\":\"Song\",\n",
    "    \"address\":{\n",
    "                \"streetname\":\"中关村南大街5号\",\n",
    "                \"city\":\"北京市\",\n",
    "                \"zipcode\":\"100081\"\n",
    "                },\n",
    "    \"prof\"   :[\"Computer System\",\"Security\"]\n",
    "}\n",
    "*yaml\n",
    "firstname:Tian\n",
    "lastname:Song\n",
    "address :\n",
    "    streetaddr:中关村南大街5号\n",
    "    city  :北京市\n",
    "    zipcode:100081\n",
    "prof   :\n",
    "-computer system\n",
    "-security\n",
    "'''\n",
    "\"\"\"\n",
    "xml 最早的通用性息标记语言，可拓展性好，但繁琐\n",
    "json 信息有类型，适合程序处理（js)，较XML简洁\n",
    "yaml 信息无类型，文本信息比例最高，可读性好\n",
    "\"\"\"\n",
    "\"\"\"\n",
    "xml  Internet上的信息交互与传递\n",
    "json 移动应用云端和节点的信息通信，无注释\n",
    "yaml 各类系统的配置文件，有注释易懂\n",
    "\"\"\""
   ]
  },
  {
   "cell_type": "code",
   "execution_count": 5,
   "metadata": {},
   "outputs": [
    {
     "name": "stdout",
     "output_type": "stream",
     "text": [
      "http://www.icourse163.org/course/BIT-268001\n",
      "http://www.icourse163.org/course/BIT-1001870001\n"
     ]
    }
   ],
   "source": [
    "#信息提取的一般方法\n",
    "\"\"\"\n",
    "*从标记的信息中提取所关注的内容\n",
    "xml json yaml\n",
    "方法一：完整解析信息的标记形式，再提取关键信息\n",
    "           xml json yaml\n",
    "        需要标记解析器，例如：bs4库的标签树遍历\n",
    "        \n",
    "        优点：信息解析准确\n",
    "        缺点：提取过程繁琐，速度慢\n",
    "方法二：无视标记形式，直接搜索关键信息\n",
    "                搜索\n",
    "        对信息的文本查找函数即可\n",
    "        \n",
    "        优点：提取过程简介，速度较快\n",
    "        缺点：提取结果准确性与信息内容相关\n",
    "融合方法\n",
    "        结合形式解析与搜索方法，提取关键信息\n",
    "          xml json yaml 搜索\n",
    "        需要标记解析器及文本查找函数\n",
    "实例：\n",
    "    提取HTML中所有URL链接\n",
    "    \n",
    "    思路：1）搜索到所有<a>标签\n",
    "           2）解析<a>标签格式，提取herf后的链接内容\n",
    "\"\"\"\n",
    "import requests\n",
    "r=requests.get('https://python123.io/ws/demo.html')\n",
    "demo=r.text\n",
    "from bs4 import BeautifulSoup\n",
    "soup=BeautifulSoup(demo,\"html.parser\")\n",
    "for link in soup.find_all('a'):\n",
    "    print(link.get('href'))"
   ]
  },
  {
   "cell_type": "code",
   "execution_count": null,
   "metadata": {},
   "outputs": [],
   "source": [
    "#基于bs4库的HTML内容查找方法\n",
    "'''<>.find_all(name,attrs,recursive,string,**kwargs)\n",
    "       返回一个列表类型，储存查找的结果\n",
    "\n",
    "       '''"
   ]
  },
  {
   "cell_type": "code",
   "execution_count": 7,
   "metadata": {},
   "outputs": [
    {
     "name": "stdout",
     "output_type": "stream",
     "text": [
      "[<a class=\"py1\" href=\"http://www.icourse163.org/course/BIT-268001\" id=\"link1\">Basic Python</a>, <a class=\"py2\" href=\"http://www.icourse163.org/course/BIT-1001870001\" id=\"link2\">Advanced Python</a>]\n",
      "[<b>The demo python introduces several python courses.</b>, <a class=\"py1\" href=\"http://www.icourse163.org/course/BIT-268001\" id=\"link1\">Basic Python</a>, <a class=\"py2\" href=\"http://www.icourse163.org/course/BIT-1001870001\" id=\"link2\">Advanced Python</a>]\n",
      "html\n",
      "head\n",
      "title\n",
      "body\n",
      "p\n",
      "b\n",
      "p\n",
      "a\n",
      "a\n"
     ]
    }
   ],
   "source": [
    "#name  :对标签名称的检索字符串\n",
    "print(soup.find_all('a'))\n",
    "print(soup.find_all(['a','b']))\n",
    "for tag in soup.find_all(True):\n",
    "    print(tag.name)\n"
   ]
  },
  {
   "cell_type": "code",
   "execution_count": 8,
   "metadata": {},
   "outputs": [
    {
     "name": "stdout",
     "output_type": "stream",
     "text": [
      "body\n",
      "b\n"
     ]
    }
   ],
   "source": [
    "import re \n",
    "for tag in soup.find_all(re.compile('b')):\n",
    "    print(tag.name)"
   ]
  },
  {
   "cell_type": "code",
   "execution_count": 20,
   "metadata": {},
   "outputs": [
    {
     "name": "stdout",
     "output_type": "stream",
     "text": [
      "[<p class=\"course\">Python is a wonderful general-purpose programming language. You can learn Python from novice to professional by tracking the following courses:\r\n",
      "<a class=\"py1\" href=\"http://www.icourse163.org/course/BIT-268001\" id=\"link1\">Basic Python</a> and <a class=\"py2\" href=\"http://www.icourse163.org/course/BIT-1001870001\" id=\"link2\">Advanced Python</a>.</p>]\n",
      "[<a class=\"py1\" href=\"http://www.icourse163.org/course/BIT-268001\" id=\"link1\">Basic Python</a>]\n",
      "[]\n",
      "[<a class=\"py1\" href=\"http://www.icourse163.org/course/BIT-268001\" id=\"link1\">Basic Python</a>, <a class=\"py2\" href=\"http://www.icourse163.org/course/BIT-1001870001\" id=\"link2\">Advanced Python</a>]\n"
     ]
    }
   ],
   "source": [
    "#attrs:对标签属性值的检索字符串，可标注属性检索\n",
    "print(soup.find_all('p','course'))\n",
    "print(soup.find_all(id='link1'))\n",
    "print(soup.find_all(id='link'))\n",
    "import re\n",
    "print(soup.find_all(id=re.compile('link')))"
   ]
  },
  {
   "cell_type": "code",
   "execution_count": 21,
   "metadata": {},
   "outputs": [
    {
     "name": "stdout",
     "output_type": "stream",
     "text": [
      "[]\n"
     ]
    }
   ],
   "source": [
    "#recursive:是否对子孙全部检索，默认True\n",
    "print(soup.find_all('a',recursive=False))"
   ]
  },
  {
   "cell_type": "code",
   "execution_count": 23,
   "metadata": {},
   "outputs": [
    {
     "name": "stdout",
     "output_type": "stream",
     "text": [
      "['Basic Python']\n",
      "['This is a python demo page', 'The demo python introduces several python courses.']\n"
     ]
    }
   ],
   "source": [
    "#string<>...</>中字符串区域的检索字符串\n",
    "print(soup.find_all(string='Basic Python'))\n",
    "import re\n",
    "print(soup.find_all(string=re.compile('python')))"
   ]
  },
  {
   "cell_type": "code",
   "execution_count": null,
   "metadata": {},
   "outputs": [],
   "source": [
    "#<tag>(..)等价于 <tag>.find_all(..)\n",
    "# soup(..)等价于  soup.find_all(..)"
   ]
  },
  {
   "cell_type": "code",
   "execution_count": 24,
   "metadata": {},
   "outputs": [
    {
     "name": "stdout",
     "output_type": "stream",
     "text": [
      "[]\n"
     ]
    }
   ],
   "source": [
    "#拓展方法\n",
    "'''<>.find                        搜索且只返回一个结果，同find_all()参数\n",
    " <>.find_parents()              在先辈节点中搜索，返回列表类型.........\n",
    " <>.find_parent()\n",
    " <>.find_next_siblings()           后续平行节点\n",
    " <>.find_next_sibling()\n",
    " <>.find_previous_sibling()        前续平行节点\n",
    " <>.find_previous_siblings()'''"
   ]
  }
 ],
 "metadata": {
  "kernelspec": {
   "display_name": "Python 3",
   "language": "python",
   "name": "python3"
  },
  "language_info": {
   "codemirror_mode": {
    "name": "ipython",
    "version": 3
   },
   "file_extension": ".py",
   "mimetype": "text/x-python",
   "name": "python",
   "nbconvert_exporter": "python",
   "pygments_lexer": "ipython3",
   "version": "3.7.4"
  }
 },
 "nbformat": 4,
 "nbformat_minor": 2
}
