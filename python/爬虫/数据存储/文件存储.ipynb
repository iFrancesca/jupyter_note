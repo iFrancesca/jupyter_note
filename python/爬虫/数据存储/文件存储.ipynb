{
 "cells": [
  {
   "cell_type": "markdown",
   "metadata": {},
   "source": [
    "# TXT文本存储"
   ]
  },
  {
   "cell_type": "markdown",
   "metadata": {},
   "source": [
    "* 几乎兼容任何平台\n",
    "* 不利于检索，数据结构.."
   ]
  },
  {
   "cell_type": "code",
   "execution_count": 35,
   "metadata": {},
   "outputs": [],
   "source": [
    "import requests\n",
    "import time\n",
    "from lxml import etree\n",
    "\n",
    "#爬取页面代码并解析\n",
    "def get_html(url):\n",
    "    try:\n",
    "        headers={\n",
    "        'User-Agent':'Mozilla/5.0 (Macintosh; Intel Mac OS X 10_14_2) AppleWebKit/537.36 (KHTML, like Gecko) Chrome/71.0.3578.98 Safari/537.36'\n",
    "            }\n",
    "        proxies={\n",
    "                \"http\": \"117.90.0.225:9000\"\n",
    "            }\n",
    "        response=requests.get(url,headers=headers,proxies=proxies,timeout=1)\n",
    "        response.raise_for_status\n",
    "        response.encoding='utf-8'\n",
    "        \n",
    "        html=response.text\n",
    "       \n",
    "        return html\n",
    "    \n",
    "    except:\n",
    "        print('爬取出错')\n",
    "\n",
    "def parse_one_page(html):\n",
    "    html=etree.HTML(html)\n",
    "    index=html.xpath('/html/body/div[3]/div[1]/div/div[1]/ol/li/div/div[1]/em/text()')\n",
    "    name=html.xpath('/html/body/div[3]/div[1]/div/div[1]/ol/li/div/div[2]/div[1]/a/span[1]/text()')\n",
    "    quote=html.xpath('/html/body/div[3]/div[1]/div/div[1]/ol/li/div/div[2]/div[2]/p[2]/span/text()')\n",
    "    \n",
    "    return index,name,quote\n",
    "\n",
    "def write_to_file(index,name,quote):\n",
    "    with open(\"d:/python/爬虫/txt文件/电影tpo_25.txt\",'a',encoding='utf-8') as f:\n",
    "        for i in range(len(index)):\n",
    "            f.write('\\n'.join([index[i],name[i],quote[i]]))\n",
    "            f.write('\\n'+'='*50+'\\n')\n",
    "\n",
    "\n",
    "def main(offset):\n",
    "    url= 'https://movie.douban.com/top250?start={}&filter='.format(str(offset))\n",
    "    html=get_html(url)\n",
    "    index,name,quote=parse_one_page(html)\n",
    "    write_to_file(index,name,quote)\n",
    "\n",
    "\n",
    "for i in range(10):\n",
    "    main(i*25)\n",
    "    time.sleep(1)\n"
   ]
  },
  {
   "cell_type": "markdown",
   "metadata": {},
   "source": [
    "# json文件存储"
   ]
  },
  {
   "cell_type": "markdown",
   "metadata": {},
   "source": [
    "> JavaScript Object Notation,JavaScript对象标记。通过对象和数组的组合表示数据。\n",
    "* 构造简单，结构化程度非常高\n",
    "* 轻量级的数据交换格式"
   ]
  },
  {
   "cell_type": "markdown",
   "metadata": {},
   "source": [
    "## 对象和数组"
   ]
  },
  {
   "cell_type": "markdown",
   "metadata": {},
   "source": [
    "* **对象**，在JavaScript中是使用花括号{}包括起来的内容，数据结构为{key1:value1,key2,value2,...}\n",
    "    的键值对结构。在面向对象的语言中，key为对象的属性，value为对应的值。键名可以使用整数和字符串表示。值的类型可以是任意类型。\n",
    "* **数组**，在JavaScript中是使用花括号[]包括起来的内容,数据结构为['java','javascript',...]的索引结构。\n",
    "在JavaScript中，数组是一种比较特殊的数据结构，它可以向对象那样使用键值对，但还是索引用的多。同样，值的类型可以是任意类型。\n"
   ]
  },
  {
   "cell_type": "markdown",
   "metadata": {},
   "source": [
    "## 读取json"
   ]
  },
  {
   "cell_type": "markdown",
   "metadata": {},
   "source": [
    ">**json库**实现JSON文件的读写操作（详细见python/python基础语法/7.7`mjson库的使用)"
   ]
  },
  {
   "cell_type": "markdown",
   "metadata": {},
   "source": [
    "* json字符串的表示需要用双引号"
   ]
  },
  {
   "cell_type": "markdown",
   "metadata": {},
   "source": [
    "* 为了输出中文，还需指定参数ensure_ascii='False'。另外还要规定文件输出的编码。\n",
    "e.g:with open(path,'w',encoding='utf-8') as file:\n",
    "        file.write(json.dumps(data,ensure_ascii='False'))"
   ]
  },
  {
   "cell_type": "code",
   "execution_count": 46,
   "metadata": {},
   "outputs": [
    {
     "name": "stdout",
     "output_type": "stream",
     "text": [
      "{'index': '1', 'image': 'https://p0.meituan.net/movie/ce4da3e03e655b5b88ed31b5cd7896cf62472.jpg@160w_220h_1e_1c', 'name': '霸王别姬', 'star': '张国荣,张丰毅,巩俐', 'releasetime': '', 'integer': '9.5'} <class 'dict'>\n"
     ]
    }
   ],
   "source": [
    "import json\n",
    "with open('d:/python/爬虫/txt文件/0.json','r',encoding='utf-8')as f:\n",
    "    d=f.read()\n",
    "    data=json.loads(d)\n",
    "    print(data,type(data))"
   ]
  },
  {
   "cell_type": "markdown",
   "metadata": {},
   "source": [
    "# CSV文件存储"
   ]
  },
  {
   "cell_type": "markdown",
   "metadata": {},
   "source": [
    "> Comma-Seperatied Values,逗号分隔值/字符分隔值。其文件以纯文本形式存储表格数据，"
   ]
  },
  {
   "cell_type": "markdown",
   "metadata": {},
   "source": [
    "### 1.写入"
   ]
  },
  {
   "cell_type": "markdown",
   "metadata": {},
   "source": [
    "* 传入**delemiter**参数，可修改列与列之间的分隔符"
   ]
  },
  {
   "cell_type": "code",
   "execution_count": 1,
   "metadata": {},
   "outputs": [],
   "source": [
    "import csv\n",
    "with open('d:/python/spyder/数据存储/data1a.csv','w',newline='') as f:\n",
    "    writer=csv.writer(f,delimiter=' ')\n",
    "    writer.writerow(['id','name','age'])\n",
    "    writer.writerow(['1001','mike',22])\n",
    "    writer.writerow(['1002','bob',20])\n",
    "    writer.writerow(['1003','jordan',21])\n",
    "    "
   ]
  },
  {
   "cell_type": "markdown",
   "metadata": {},
   "source": [
    "* **writerows()**方法可同时写入多行-->参数变为二维列表"
   ]
  },
  {
   "cell_type": "code",
   "execution_count": 73,
   "metadata": {},
   "outputs": [],
   "source": [
    "import csv\n",
    "with open('d:/python/爬虫/数据存储/data1b.csv','w',newline='') as f:\n",
    "    writer=csv.writer(f)\n",
    "    writer.writerow(['id','name','age'])\n",
    "    writer.writerows([['1001','mike',22],['1002','bob',20],['1003','jordan',21]])"
   ]
  },
  {
   "cell_type": "markdown",
   "metadata": {},
   "source": [
    "* 字典的写入方式"
   ]
  },
  {
   "cell_type": "code",
   "execution_count": 74,
   "metadata": {},
   "outputs": [],
   "source": [
    "import csv\n",
    "with open('d:/python/爬虫/数据存储/data1c.csv','w',newline='') as f:\n",
    "    fieldnames=['id','name','age']\n",
    "    writer=csv.DictWriter(f,fieldnames=fieldnames)\n",
    "    writer.writeheader()\n",
    "    writer.writerow({'id':1001,'name':'mike','age':22})\n",
    "    writer.writerow({'id':1002,'name':'bob','age':21})\n",
    "    writer.writerow({'id':1003,'name':'jordan','age':19})\n",
    "    \n",
    "    "
   ]
  },
  {
   "cell_type": "code",
   "execution_count": 75,
   "metadata": {},
   "outputs": [],
   "source": [
    "import csv\n",
    "with open('d:/python/爬虫/数据存储/data1d.csv','w',newline='') as f:\n",
    "    fieldnames=['id','name','age']\n",
    "    writer=csv.DictWriter(f,fieldnames=fieldnames,delimiter=' ')\n",
    "    writer.writeheader()\n",
    "    writer.writerows([{'id':1001,'name':'mike','age':22},{'id':1002,'name':'bob','age':21},{'id':1003,'name':'jordan','age':19}])\n",
    "\n",
    "    "
   ]
  },
  {
   "cell_type": "markdown",
   "metadata": {},
   "source": [
    "### 2.读取"
   ]
  },
  {
   "cell_type": "code",
   "execution_count": 1,
   "metadata": {},
   "outputs": [
    {
     "name": "stdout",
     "output_type": "stream",
     "text": [
      "['id name age']\n",
      "['1001 mike 22']\n",
      "['1002 bob 20']\n",
      "['1003 jordan 21']\n"
     ]
    }
   ],
   "source": [
    "import csv\n",
    "with open('d:/python/爬虫/数据存储/data1a.csv','r',encoding='utf-8') as f:\n",
    "    reader=csv.reader(f)\n",
    "    for row in reader:\n",
    "        print(row)"
   ]
  },
  {
   "cell_type": "code",
   "execution_count": 5,
   "metadata": {},
   "outputs": [
    {
     "name": "stdout",
     "output_type": "stream",
     "text": [
      "['1001 mike 22']\n"
     ]
    }
   ],
   "source": [
    "#要提取其中第二行\n",
    "import csv\n",
    "with open('d:/python/爬虫/数据存储/data1a.csv','r') as f:\n",
    "    reader = csv.reader(f)\n",
    "    for i,row in enumerate(reader):\n",
    "        if i == 1:\n",
    "            print(row)"
   ]
  },
  {
   "cell_type": "markdown",
   "metadata": {},
   "source": [
    "#### json-->csv"
   ]
  },
  {
   "cell_type": "markdown",
   "metadata": {},
   "source": [
    "* 实例"
   ]
  },
  {
   "cell_type": "code",
   "execution_count": 1,
   "metadata": {},
   "outputs": [],
   "source": [
    "import csv\n",
    "import json\n",
    "\n",
    "with open('d:/python/爬虫/txt文件/豆瓣电影top_250.txt','r',encoding='utf-8') as f:\n",
    "       fieldnames=['index','name','DaA','brief','score','quote']\n",
    "       items=f.readlines()\n",
    "       content=[]\n",
    "       for item in items:\n",
    "           content.append(eval(item.strip()))\n",
    "       \n",
    "with open('d:/python/爬虫/txt文件/豆瓣电影top_250.csv','a',encoding='utf-8',newline='') as ff:\n",
    "    writer=csv.DictWriter(ff,fieldnames=fieldnames)\n",
    "    writer.writeheader()\n",
    "    writer.writerows(content)\n",
    "    "
   ]
  },
  {
   "cell_type": "markdown",
   "metadata": {},
   "source": [
    "* 模板"
   ]
  },
  {
   "cell_type": "code",
   "execution_count": null,
   "metadata": {},
   "outputs": [],
   "source": [
    "import csv\n",
    "import json\n",
    "\n",
    "with open('''d:/python/爬虫/txt文件/豆瓣电影top_250.txt''','r',encoding='utf-8') as f:\n",
    "       fieldnames='''['index','name','DaA','score','quote']'''\n",
    "       items=f.readlines()\n",
    "       content=[]\n",
    "       for item in items:\n",
    "           content.append('''eval(item.strip())''')\n",
    "       \n",
    "with open('''d:/python/爬虫/txt文件/豆瓣电影top_250.csv''','a',encoding='utf-8',newline='') as ff:\n",
    "    writer=csv.DictWriter(ff,fieldnames=fieldnames)\n",
    "    writer.writeheader()\n",
    "    writer.writerows(content)\n"
   ]
  }
 ],
 "metadata": {
  "kernelspec": {
   "display_name": "Python 3",
   "language": "python",
   "name": "python3"
  },
  "language_info": {
   "codemirror_mode": {
    "name": "ipython",
    "version": 3
   },
   "file_extension": ".py",
   "mimetype": "text/x-python",
   "name": "python",
   "nbconvert_exporter": "python",
   "pygments_lexer": "ipython3",
   "version": "3.7.0"
  }
 },
 "nbformat": 4,
 "nbformat_minor": 2
}
