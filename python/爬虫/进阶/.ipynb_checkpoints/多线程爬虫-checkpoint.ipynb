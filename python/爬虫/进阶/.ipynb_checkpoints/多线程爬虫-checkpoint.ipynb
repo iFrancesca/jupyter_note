{
 "cells": [
  {
   "cell_type": "code",
   "execution_count": 3,
   "metadata": {},
   "outputs": [],
   "source": [
    "from threading import Thread\n",
    "import queue\n"
   ]
  },
  {
   "cell_type": "markdown",
   "metadata": {},
   "source": [
    "# queue"
   ]
  },
  {
   "cell_type": "code",
   "execution_count": 3,
   "metadata": {},
   "outputs": [],
   "source": [
    "from queue import Queue\n",
    "import queue"
   ]
  },
  {
   "cell_type": "code",
   "execution_count": 4,
   "metadata": {},
   "outputs": [
    {
     "ename": "AttributeError",
     "evalue": "module 'queue' has no attribute 'size'",
     "output_type": "error",
     "traceback": [
      "\u001b[1;31m---------------------------------------------------------------------------\u001b[0m",
      "\u001b[1;31mAttributeError\u001b[0m                            Traceback (most recent call last)",
      "\u001b[1;32m<ipython-input-4-861bfdb55c38>\u001b[0m in \u001b[0;36m<module>\u001b[1;34m()\u001b[0m\n\u001b[1;32m----> 1\u001b[1;33m \u001b[0mqueue\u001b[0m\u001b[1;33m.\u001b[0m\u001b[0msize\u001b[0m\u001b[1;33m(\u001b[0m\u001b[1;33m)\u001b[0m\u001b[1;33m\u001b[0m\u001b[1;33m\u001b[0m\u001b[0m\n\u001b[0m",
      "\u001b[1;31mAttributeError\u001b[0m: module 'queue' has no attribute 'size'"
     ]
    }
   ],
   "source": [
    "queue.size()"
   ]
  },
  {
   "cell_type": "code",
   "execution_count": null,
   "metadata": {},
   "outputs": [],
   "source": []
  },
  {
   "cell_type": "markdown",
   "metadata": {},
   "source": [
    "# multiprocessing.Pool类"
   ]
  },
  {
   "cell_type": "code",
   "execution_count": 5,
   "metadata": {},
   "outputs": [],
   "source": [
    "import multiprocessing"
   ]
  },
  {
   "cell_type": "code",
   "execution_count": 7,
   "metadata": {},
   "outputs": [],
   "source": [
    "def f(x):\n",
    "    return x*x\n",
    "cores=multiprocessing.cpu_count()\n",
    "pool=multiprocessing.Pool(processes=cores)\n",
    "xs=range(5)\n"
   ]
  },
  {
   "cell_type": "code",
   "execution_count": 10,
   "metadata": {},
   "outputs": [
    {
     "name": "stdout",
     "output_type": "stream",
     "text": [
      "4 <multiprocessing.pool.Pool object at 0x000001DC8AF96B88> range(0, 5)\n"
     ]
    }
   ],
   "source": [
    "print(cores,pool,xs)"
   ]
  },
  {
   "cell_type": "markdown",
   "metadata": {},
   "source": [
    "**method1:map**"
   ]
  },
  {
   "cell_type": "code",
   "execution_count": null,
   "metadata": {},
   "outputs": [],
   "source": [
    "print(pool.map(f,xs))          #map 直接返回列表"
   ]
  },
  {
   "cell_type": "markdown",
   "metadata": {},
   "source": [
    "**method2:imap**"
   ]
  },
  {
   "cell_type": "code",
   "execution_count": null,
   "metadata": {},
   "outputs": [],
   "source": [
    "for y in pool.imap(f,x5):           #而 i 开头的两个函数返回的是迭代器\n",
    "    print(y)"
   ]
  },
  {
   "cell_type": "markdown",
   "metadata": {},
   "source": [
    "**method3:imap_unordered**"
   ]
  },
  {
   "cell_type": "code",
   "execution_count": null,
   "metadata": {},
   "outputs": [],
   "source": [
    "for y in pool.imap_unordered(f,x5):      #imap_unordered 返回的是无序的\n",
    "    print(y)"
   ]
  },
  {
   "cell_type": "code",
   "execution_count": null,
   "metadata": {},
   "outputs": [],
   "source": [
    "cnt=0\n",
    "for y in pool.imap_unordered(f,x5):\n",
    "    sys.student.write('done{}{}'.format(cnt,len(xs)))\n",
    "    cnt+=1"
   ]
  },
  {
   "cell_type": "markdown",
   "metadata": {},
   "source": [
    "## 创建多线程\n",
    "#### 1.使用_thread.start_new_thread开辟子线程"
   ]
  },
  {
   "cell_type": "markdown",
   "metadata": {},
   "source": [
    "用这种方式创建的线程为【守护线程】（主线程死去“护卫”也随“主公”而去），主线程死掉，子线程也死掉(不管子线程是否执行完)。注意：python3以后已经放弃这种创建子线程的方式，所以在使用时可能会出错。"
   ]
  },
  {
   "cell_type": "code",
   "execution_count": null,
   "metadata": {},
   "outputs": [],
   "source": [
    "import _thread\n",
    "import threading\n",
    "import time\n",
    "\n",
    "def doSth(arg):\n",
    "    # 拿到当前线程的名称和线程号id\n",
    "    threadName = threading.current_thread().getName()\n",
    "    tid = threading.current_thread().ident\n",
    "    for i in range(5):\n",
    "        print(\"%s *%d @%s,tid=%d\" % (arg, i, threadName, tid))\n",
    "        time.sleep(2)\n",
    "\n",
    "def simpleThread():\n",
    "    # 创建子线程，执行doSth\n",
    "    # 用这种方式创建的线程为【守护线程】\n",
    "    #主线程死去“护卫”也随“主公”而去\n",
    "    _thread.start_new_thread(doSth,(\"开启了子线程\",))\n",
    "    mainThreadName = threading.current_thread().getName()\n",
    "    print(threading.current_thread())\n",
    "    for i in range(5):\n",
    "        print(\"我是主线程@%s\" % (mainThreadName))\n",
    "        time.sleep(1)\n",
    "\n",
    "        # 阻塞主线程，以使【守护线程】能够执行完毕\n",
    "    while True:\n",
    "        pass\n",
    "\n",
    "if __name__ == '__main__':\n",
    "    simpleThread()"
   ]
  },
  {
   "cell_type": "markdown",
   "metadata": {},
   "source": [
    "### 2.通过创建threading.Thread对象实现子线程"
   ]
  },
  {
   "cell_type": "code",
   "execution_count": null,
   "metadata": {},
   "outputs": [],
   "source": [
    "默认创建的不是守护进程，可以通过方法setDaemon(True)来修改"
   ]
  },
  {
   "cell_type": "code",
   "execution_count": null,
   "metadata": {},
   "outputs": [],
   "source": [
    "import threading\n",
    "import time\n",
    "\n",
    "def doSth(arg):\n",
    "    # 拿到当前线程的名称和线程号id\n",
    "    threadName = threading.current_thread().getName()\n",
    "    tid = threading.current_thread().ident\n",
    "    for i in range(5):\n",
    "        print(\"%s *%d @%s,tid=%d\" % (arg, i, threadName, tid))\n",
    "        time.sleep(2)\n",
    "\n",
    "def threadingThread():\n",
    "    # 默认不是【守护线程】\n",
    "    # args=(,) 必须是元组\n",
    "    t = threading.Thread(target=doSth,args=('我是子线程',))\n",
    "    # t.setDaemon(True)  # 设置为守护线程\n",
    "    # 设置主线程名称\n",
    "    t.setName('线程')\n",
    "    # 启动线程，调用run()方法\n",
    "    t.start()\n",
    "    # 等待子线程执行完\n",
    "    t.join()\n",
    "    # 获取线程名称\n",
    "    print(t.getName(),'执行完毕')\n",
    "\n",
    "if __name__ == '__main__':\n",
    "    threadingThread()"
   ]
  },
  {
   "cell_type": "markdown",
   "metadata": {},
   "source": [
    "### 3、通过继承threading.Thread类，进而创建对象实现子线程"
   ]
  },
  {
   "cell_type": "markdown",
   "metadata": {},
   "source": [
    "覆写父类的run方法。"
   ]
  },
  {
   "cell_type": "code",
   "execution_count": null,
   "metadata": {},
   "outputs": [],
   "source": [
    "import threading\n",
    "import time\n",
    "\n",
    "def doSth(arg):\n",
    "    # 拿到当前线程的名称和线程号id\n",
    "    threadName = threading.current_thread().getName()\n",
    "    tid = threading.current_thread().ident\n",
    "    print(\"%s  @%s,tid=%d\" % (arg, threadName, tid))\n",
    "    time.sleep(2)\n",
    "\n",
    "class MyThread(threading.Thread):\n",
    "    def __init__(self,name):\n",
    "        super().__init__()\n",
    "        # 覆盖了父类的name\n",
    "        self.name = name\n",
    "\n",
    "    # 覆写父类的run方法，\n",
    "    # run方法以内为【要跑在子线程内的业务逻辑】\n",
    "    #thread.start()会触发的业务逻辑\n",
    "    def run(self):\n",
    "        print(threading.current_thread().getName())\n",
    "        print(threading.current_thread().daemon)  \n",
    "        # 如果为True就是守护线程，\n",
    "        #threading.current_thread().ident  线程id\n",
    "        doSth(\"线程id为%d\"%threading.current_thread().ident)\n",
    "\n",
    "if __name__ == '__main__':\n",
    "    for i in range(5):\n",
    "        mt = MyThread('线程%d'%i)\n",
    "        #  启动线程\n",
    "        mt.start()"
   ]
  },
  {
   "cell_type": "markdown",
   "metadata": {},
   "source": [
    "### 4、几个重要的Adef importantAPI()"
   ]
  },
  {
   "cell_type": "code",
   "execution_count": null,
   "metadata": {},
   "outputs": [],
   "source": [
    "print(threading.currentThread())  # 返回当前的线程变量\n",
    "# 创建五条子线程\n",
    "t1 = threading.Thread(target=doSth, args=(\"巡山\",))\n",
    "t2 = threading.Thread(target=doSth, args=(\"巡水\",))\n",
    "t3 = threading.Thread(target=doSth, args=(\"巡鸟\",))\n",
    "\n",
    "\n",
    "t1.start()  # 开启线程\n",
    "t2.start()\n",
    "t3.start()\n",
    "\n",
    "print(t1.isAlive())  # 返回线程是否活动的\n",
    "print(t2.isDaemon())  # 是否是守护线程\n",
    "print(t3.getName())  # 返回线程名\n",
    "t3.setName(\"巡鸟\")  # 设置线程名\n",
    "print(t3.getName())\n",
    "print(t3.ident)  # 返回线程号\n",
    "\n",
    "# 返回一个包含正在运行的线程的list\n",
    "tlist = threading.enumerate()\n",
    "print(\"当前活动线程：\", tlist)\n",
    "\n",
    "# 返回正在运行的线程数量（在数值上等于len(tlist)）\n",
    "count = threading.active_count()\n",
    "print(\"当前活动线程有%d条\" % (count))`"
   ]
  },
  {
   "cell_type": "code",
   "execution_count": null,
   "metadata": {},
   "outputs": [],
   "source": [
    "print(threading.currentThread())"
   ]
  },
  {
   "cell_type": "code",
   "execution_count": null,
   "metadata": {},
   "outputs": [],
   "source": []
  }
 ],
 "metadata": {
  "kernelspec": {
   "display_name": "Python 3",
   "language": "python",
   "name": "python3"
  },
  "language_info": {
   "codemirror_mode": {
    "name": "ipython",
    "version": 3
   },
   "file_extension": ".py",
   "mimetype": "text/x-python",
   "name": "python",
   "nbconvert_exporter": "python",
   "pygments_lexer": "ipython3",
   "version": "3.7.4"
  }
 },
 "nbformat": 4,
 "nbformat_minor": 2
}
