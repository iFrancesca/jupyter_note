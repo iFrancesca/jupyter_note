{
 "cells": [
  {
   "cell_type": "code",
   "execution_count": null,
   "metadata": {},
   "outputs": [],
   "source": [
    "import requests\n",
    "import re\n",
    "import json\n",
    "import time\n",
    "from lxml import etree\n",
    "#爬取页面代码并解析\n",
    "def get_html(url):\n",
    "    try:\n",
    "        headers={\n",
    "        'User-Agent':'Mozilla/5.0 (Macintosh; Intel Mac OS X 10_14_2) AppleWebKit/537.36 (KHTML, like Gecko) Chrome/71.0.3578.98 Safari/537.36'\n",
    "            }\n",
    "        proxies={\n",
    "                \"http\": \"117.90.0.225:9000\"\n",
    "            }\n",
    "        response=requests.get(url,headers=headers,proxies=proxies,timeout=1)\n",
    "        response.raise_for_status\n",
    "        response.encoding='utf-8'\n",
    "        \n",
    "        html=response.text\n",
    "       \n",
    "        return html\n",
    "    \n",
    "    except:\n",
    "        print('爬取出错')"
   ]
  },
  {
   "cell_type": "code",
   "execution_count": null,
   "metadata": {},
   "outputs": [],
   "source": [
    "url='https://www.zhihu.com/question/367368391'\n",
    "h=get_html(url)\n",
    "print(h)\n",
    "html=etree.HTML(h)\n",
    "author=html.xpath('/html//a[contains(@class,\"UserLink-link\") and (data-za-detail-view-element_name,\"User\")/text()]')\n",
    "print(author)"
   ]
  },
  {
   "cell_type": "raw",
   "metadata": {},
   "source": [
    "/html/body/div[1]/div/main/div/div[2]/div[1]/div/div[2]/div/div/div/div[2]/div/div[1]/div/div[1]/div[1]/div/div[1]/span/div/div/a\n",
    "/html/body/div[1]/div/main/div/div[2]/div[1]/div/div[2]/div/div/div/div[2]/div/div[4]/div/div[1]/div[1]/div/div[1]/span/div/div/a\n",
    "/html/body/div[1]/div/main/div/div[2]/div[1]/div/div[2]/div/div/div/div[2]/div/div[10]/div/div[1]/div/div/div[1]/span/div/div/a"
   ]
  },
  {
   "cell_type": "raw",
   "metadata": {},
   "source": [
    "<a class=\"UserLink-link\" data-za-detail-view-element_name=\"User\" target=\"_blank\" href=\"//www.zhihu.com/people/guo-lin-kai-99\">郭木木</a>\n",
    "<a class=\"UserLink-link\" data-za-detail-view-element_name=\"User\" target=\"_blank\" href=\"//www.zhihu.com/org/zhi-hu-ke-xue\">知乎科学</a>"
   ]
  }
 ],
 "metadata": {
  "kernelspec": {
   "display_name": "Python 3",
   "language": "python",
   "name": "python3"
  },
  "language_info": {
   "codemirror_mode": {
    "name": "ipython",
    "version": 3
   },
   "file_extension": ".py",
   "mimetype": "text/x-python",
   "name": "python",
   "nbconvert_exporter": "python",
   "pygments_lexer": "ipython3",
   "version": "3.7.4"
  }
 },
 "nbformat": 4,
 "nbformat_minor": 2
}
