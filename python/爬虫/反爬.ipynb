{
 "cells": [
  {
   "cell_type": "markdown",
   "metadata": {},
   "source": [
    "## IP封锁\n",
    "* 解决方案\n",
    "**1.修改程序访问频率**"
   ]
  },
  {
   "cell_type": "code",
   "execution_count": 1,
   "metadata": {},
   "outputs": [],
   "source": [
    "import time\n",
    "#休息两秒\n",
    "time.sleep(2)"
   ]
  },
  {
   "cell_type": "markdown",
   "metadata": {},
   "source": [
    "**2.采用IP代理方式，进行对网站数据量的爬取**\n",
    "https://baike.baidu.com/item/%E4%BB%A3%E7%90%86%E6%9C%8D%E5%8A%A1%E5%99%A8/97996?fr=aladdin"
   ]
  },
  {
   "cell_type": "code",
   "execution_count": null,
   "metadata": {},
   "outputs": [],
   "source": [
    "#导入requests库,如果使用其他的自行导入\n",
    "import requests\n",
    "proxies = {\n",
    "  \"http\": \"http://127.0.0.1:8888\",\n",
    "  \"https\": \"http://127.0.0.11:1080\",\n",
    "}\n",
    "requests.get(url, proxies=proxies)\n"
   ]
  },
  {
   "cell_type": "markdown",
   "metadata": {},
   "source": [
    "## 协议头"
   ]
  },
  {
   "cell_type": "code",
   "execution_count": null,
   "metadata": {},
   "outputs": [],
   "source": [
    "headers = {'User-Agent':'Mozilla/5.0 (Windows NT 6.1) AppleWebKit/537.36 (KHTML, like Gecko) Chrome/55.0.2883.87 Safari/537.36}\n",
    "rs=requests.get('http://jianshu.com')"
   ]
  },
  {
   "cell_type": "code",
   "execution_count": 9,
   "metadata": {},
   "outputs": [
    {
     "name": "stdout",
     "output_type": "stream",
     "text": [
      "<html>\r\n",
      "<head><title>503 Service Temporarily Unavailable</title></head>\r\n",
      "<body bgcolor=\"white\">\r\n",
      "<center><h1>503 Service Temporarily Unavailable</h1></center>\r\n",
      "<hr><center>nginx/1.1.19</center>\r\n",
      "</body>\r\n",
      "</html>\r\n",
      "\n",
      "<html>\n",
      "<head><title>503 Service Temporarily Unavailable</title></head>\n",
      "<body bgcolor=\"white\">\n",
      "<center><h1>503 Service Temporarily Unavailable</h1></center>\n",
      "<hr/><center>nginx/1.1.19</center>\n",
      "</body>\n",
      "</html>\n",
      "\n"
     ]
    }
   ],
   "source": [
    "import requests\n",
    "from bs4 import BeautifulSoup\n",
    "url='https://www.xicidaili.com/'\n",
    "response=requests.get(url,timeout=2)\n",
    "t=response.text\n",
    "print(t)\n",
    "soup=BeautifulSoup(t,'html.parser')\n",
    "print(soup)"
   ]
  },
  {
   "cell_type": "code",
   "execution_count": null,
   "metadata": {},
   "outputs": [],
   "source": [
    "import requests\n",
    "from bs4 import BeautifulSoup\n",
    "url='https://www.xicidaili.com/'\n"
   ]
  },
  {
   "cell_type": "code",
   "execution_count": 10,
   "metadata": {},
   "outputs": [
    {
     "name": "stdout",
     "output_type": "stream",
     "text": [
      "Help on class Session in module requests.sessions:\n",
      "\n",
      "class Session(SessionRedirectMixin)\n",
      " |  A Requests session.\n",
      " |  \n",
      " |  Provides cookie persistence, connection-pooling, and configuration.\n",
      " |  \n",
      " |  Basic Usage::\n",
      " |  \n",
      " |    >>> import requests\n",
      " |    >>> s = requests.Session()\n",
      " |    >>> s.get('http://httpbin.org/get')\n",
      " |    <Response [200]>\n",
      " |  \n",
      " |  Or as a context manager::\n",
      " |  \n",
      " |    >>> with requests.Session() as s:\n",
      " |    >>>     s.get('http://httpbin.org/get')\n",
      " |    <Response [200]>\n",
      " |  \n",
      " |  Method resolution order:\n",
      " |      Session\n",
      " |      SessionRedirectMixin\n",
      " |      builtins.object\n",
      " |  \n",
      " |  Methods defined here:\n",
      " |  \n",
      " |  __enter__(self)\n",
      " |  \n",
      " |  __exit__(self, *args)\n",
      " |  \n",
      " |  __getstate__(self)\n",
      " |  \n",
      " |  __init__(self)\n",
      " |      Initialize self.  See help(type(self)) for accurate signature.\n",
      " |  \n",
      " |  __setstate__(self, state)\n",
      " |  \n",
      " |  close(self)\n",
      " |      Closes all adapters and as such the session\n",
      " |  \n",
      " |  delete(self, url, **kwargs)\n",
      " |      Sends a DELETE request. Returns :class:`Response` object.\n",
      " |      \n",
      " |      :param url: URL for the new :class:`Request` object.\n",
      " |      :param \\*\\*kwargs: Optional arguments that ``request`` takes.\n",
      " |      :rtype: requests.Response\n",
      " |  \n",
      " |  get(self, url, **kwargs)\n",
      " |      Sends a GET request. Returns :class:`Response` object.\n",
      " |      \n",
      " |      :param url: URL for the new :class:`Request` object.\n",
      " |      :param \\*\\*kwargs: Optional arguments that ``request`` takes.\n",
      " |      :rtype: requests.Response\n",
      " |  \n",
      " |  get_adapter(self, url)\n",
      " |      Returns the appropriate connection adapter for the given URL.\n",
      " |      \n",
      " |      :rtype: requests.adapters.BaseAdapter\n",
      " |  \n",
      " |  head(self, url, **kwargs)\n",
      " |      Sends a HEAD request. Returns :class:`Response` object.\n",
      " |      \n",
      " |      :param url: URL for the new :class:`Request` object.\n",
      " |      :param \\*\\*kwargs: Optional arguments that ``request`` takes.\n",
      " |      :rtype: requests.Response\n",
      " |  \n",
      " |  merge_environment_settings(self, url, proxies, stream, verify, cert)\n",
      " |      Check the environment and merge it with some settings.\n",
      " |      \n",
      " |      :rtype: dict\n",
      " |  \n",
      " |  mount(self, prefix, adapter)\n",
      " |      Registers a connection adapter to a prefix.\n",
      " |      \n",
      " |      Adapters are sorted in descending order by prefix length.\n",
      " |  \n",
      " |  options(self, url, **kwargs)\n",
      " |      Sends a OPTIONS request. Returns :class:`Response` object.\n",
      " |      \n",
      " |      :param url: URL for the new :class:`Request` object.\n",
      " |      :param \\*\\*kwargs: Optional arguments that ``request`` takes.\n",
      " |      :rtype: requests.Response\n",
      " |  \n",
      " |  patch(self, url, data=None, **kwargs)\n",
      " |      Sends a PATCH request. Returns :class:`Response` object.\n",
      " |      \n",
      " |      :param url: URL for the new :class:`Request` object.\n",
      " |      :param data: (optional) Dictionary, bytes, or file-like object to send in the body of the :class:`Request`.\n",
      " |      :param \\*\\*kwargs: Optional arguments that ``request`` takes.\n",
      " |      :rtype: requests.Response\n",
      " |  \n",
      " |  post(self, url, data=None, json=None, **kwargs)\n",
      " |      Sends a POST request. Returns :class:`Response` object.\n",
      " |      \n",
      " |      :param url: URL for the new :class:`Request` object.\n",
      " |      :param data: (optional) Dictionary, bytes, or file-like object to send in the body of the :class:`Request`.\n",
      " |      :param json: (optional) json to send in the body of the :class:`Request`.\n",
      " |      :param \\*\\*kwargs: Optional arguments that ``request`` takes.\n",
      " |      :rtype: requests.Response\n",
      " |  \n",
      " |  prepare_request(self, request)\n",
      " |      Constructs a :class:`PreparedRequest <PreparedRequest>` for\n",
      " |      transmission and returns it. The :class:`PreparedRequest` has settings\n",
      " |      merged from the :class:`Request <Request>` instance and those of the\n",
      " |      :class:`Session`.\n",
      " |      \n",
      " |      :param request: :class:`Request` instance to prepare with this\n",
      " |          session's settings.\n",
      " |      :rtype: requests.PreparedRequest\n",
      " |  \n",
      " |  put(self, url, data=None, **kwargs)\n",
      " |      Sends a PUT request. Returns :class:`Response` object.\n",
      " |      \n",
      " |      :param url: URL for the new :class:`Request` object.\n",
      " |      :param data: (optional) Dictionary, bytes, or file-like object to send in the body of the :class:`Request`.\n",
      " |      :param \\*\\*kwargs: Optional arguments that ``request`` takes.\n",
      " |      :rtype: requests.Response\n",
      " |  \n",
      " |  request(self, method, url, params=None, data=None, headers=None, cookies=None, files=None, auth=None, timeout=None, allow_redirects=True, proxies=None, hooks=None, stream=None, verify=None, cert=None, json=None)\n",
      " |      Constructs a :class:`Request <Request>`, prepares it and sends it.\n",
      " |      Returns :class:`Response <Response>` object.\n",
      " |      \n",
      " |      :param method: method for the new :class:`Request` object.\n",
      " |      :param url: URL for the new :class:`Request` object.\n",
      " |      :param params: (optional) Dictionary or bytes to be sent in the query\n",
      " |          string for the :class:`Request`.\n",
      " |      :param data: (optional) Dictionary, bytes, or file-like object to send\n",
      " |          in the body of the :class:`Request`.\n",
      " |      :param json: (optional) json to send in the body of the\n",
      " |          :class:`Request`.\n",
      " |      :param headers: (optional) Dictionary of HTTP Headers to send with the\n",
      " |          :class:`Request`.\n",
      " |      :param cookies: (optional) Dict or CookieJar object to send with the\n",
      " |          :class:`Request`.\n",
      " |      :param files: (optional) Dictionary of ``'filename': file-like-objects``\n",
      " |          for multipart encoding upload.\n",
      " |      :param auth: (optional) Auth tuple or callable to enable\n",
      " |          Basic/Digest/Custom HTTP Auth.\n",
      " |      :param timeout: (optional) How long to wait for the server to send\n",
      " |          data before giving up, as a float, or a :ref:`(connect timeout,\n",
      " |          read timeout) <timeouts>` tuple.\n",
      " |      :type timeout: float or tuple\n",
      " |      :param allow_redirects: (optional) Set to True by default.\n",
      " |      :type allow_redirects: bool\n",
      " |      :param proxies: (optional) Dictionary mapping protocol or protocol and\n",
      " |          hostname to the URL of the proxy.\n",
      " |      :param stream: (optional) whether to immediately download the response\n",
      " |          content. Defaults to ``False``.\n",
      " |      :param verify: (optional) Either a boolean, in which case it controls whether we verify\n",
      " |          the server's TLS certificate, or a string, in which case it must be a path\n",
      " |          to a CA bundle to use. Defaults to ``True``.\n",
      " |      :param cert: (optional) if String, path to ssl client cert file (.pem).\n",
      " |          If Tuple, ('cert', 'key') pair.\n",
      " |      :rtype: requests.Response\n",
      " |  \n",
      " |  send(self, request, **kwargs)\n",
      " |      Send a given PreparedRequest.\n",
      " |      \n",
      " |      :rtype: requests.Response\n",
      " |  \n",
      " |  ----------------------------------------------------------------------\n",
      " |  Data and other attributes defined here:\n",
      " |  \n",
      " |  __attrs__ = ['headers', 'cookies', 'auth', 'proxies', 'hooks', 'params...\n",
      " |  \n",
      " |  ----------------------------------------------------------------------\n",
      " |  Methods inherited from SessionRedirectMixin:\n",
      " |  \n",
      " |  get_redirect_target(self, resp)\n",
      " |      Receives a Response. Returns a redirect URI or ``None``\n",
      " |  \n",
      " |  rebuild_auth(self, prepared_request, response)\n",
      " |      When being redirected we may want to strip authentication from the\n",
      " |      request to avoid leaking credentials. This method intelligently removes\n",
      " |      and reapplies authentication where possible to avoid credential loss.\n",
      " |  \n",
      " |  rebuild_method(self, prepared_request, response)\n",
      " |      When being redirected we may want to change the method of the request\n",
      " |      based on certain specs or browser behavior.\n",
      " |  \n",
      " |  rebuild_proxies(self, prepared_request, proxies)\n",
      " |      This method re-evaluates the proxy configuration by considering the\n",
      " |      environment variables. If we are redirected to a URL covered by\n",
      " |      NO_PROXY, we strip the proxy configuration. Otherwise, we set missing\n",
      " |      proxy keys for this URL (in case they were stripped by a previous\n",
      " |      redirect).\n",
      " |      \n",
      " |      This method also replaces the Proxy-Authorization header where\n",
      " |      necessary.\n",
      " |      \n",
      " |      :rtype: dict\n",
      " |  \n",
      " |  resolve_redirects(self, resp, req, stream=False, timeout=None, verify=True, cert=None, proxies=None, yield_requests=False, **adapter_kwargs)\n",
      " |      Receives a Response. Returns a generator of Responses or Requests.\n",
      " |  \n",
      " |  ----------------------------------------------------------------------\n",
      " |  Data descriptors inherited from SessionRedirectMixin:\n",
      " |  \n",
      " |  __dict__\n",
      " |      dictionary for instance variables (if defined)\n",
      " |  \n",
      " |  __weakref__\n",
      " |      list of weak references to the object (if defined)\n",
      "\n"
     ]
    }
   ],
   "source": [
    "help(requests.Session)"
   ]
  },
  {
   "cell_type": "markdown",
   "metadata": {},
   "source": [
    "## 验证码\n"
   ]
  },
  {
   "cell_type": "markdown",
   "metadata": {},
   "source": [
    "* 解决方案：加入打码平台，具体自行百度"
   ]
  },
  {
   "cell_type": "markdown",
   "metadata": {},
   "source": [
    "## 需要登录才能获得信息"
   ]
  },
  {
   "cell_type": "markdown",
   "metadata": {},
   "source": [
    "* 解决方案： 1.小数据量（模拟登录后再去爬取，或者使用cookies 直接进行爬取）\n",
    "            2.申请诸多的账号去养这些号，然后登录，或者获得cookies进行爬取。"
   ]
  },
  {
   "cell_type": "markdown",
   "metadata": {},
   "source": [
    "## js图片类的反爬"
   ]
  },
  {
   "cell_type": "raw",
   "metadata": {},
   "source": [
    "例如爬虫在爬取网站的时候，会获取主页中的有效信息，但是对于他不需要的，爬虫不进行访问，而在真实用户用浏览器访问的时候会访问到主页上的js和图片资源，那么服务器端，就会判断该用户下是否访问了这些资源来判断是否爬虫。\n",
    "\n",
    "作者：记事本的记事本\n",
    "链接：https://www.jianshu.com/p/993e344e7242\n",
    "来源：简书\n",
    "著作权归作者所有。商业转载请联系作者获得授权，非商业转载请注明出处。"
   ]
  },
  {
   "cell_type": "markdown",
   "metadata": {},
   "source": [
    "* 解决方案：使用selenium\n",
    "* 介绍：Selenium [1] 是一个用于Web应用程序测试的工具。Selenium测试直接运行在浏览器中，就像真正的用户在操作一样。支持的浏览器包括IE（7, 8, 9, 10, 11），Mozilla Firefox，Safari，Google Chrome，Opera等。\n",
    "使用这个库即可以达到用户真实访问的目的\n"
   ]
  },
  {
   "cell_type": "code",
   "execution_count": 3,
   "metadata": {},
   "outputs": [
    {
     "ename": "ModuleNotFoundError",
     "evalue": "No module named 'selenium'",
     "output_type": "error",
     "traceback": [
      "\u001b[1;31m---------------------------------------------------------------------------\u001b[0m",
      "\u001b[1;31mModuleNotFoundError\u001b[0m                       Traceback (most recent call last)",
      "\u001b[1;32m<ipython-input-3-f0a9fce577be>\u001b[0m in \u001b[0;36m<module>\u001b[1;34m()\u001b[0m\n\u001b[1;32m----> 1\u001b[1;33m \u001b[1;32mfrom\u001b[0m \u001b[0mselenium\u001b[0m \u001b[1;32mimport\u001b[0m \u001b[0mwebdriver\u001b[0m\u001b[1;33m\u001b[0m\u001b[1;33m\u001b[0m\u001b[0m\n\u001b[0m\u001b[0;32m      2\u001b[0m \u001b[1;32mfrom\u001b[0m \u001b[0mselenium\u001b[0m\u001b[1;33m.\u001b[0m\u001b[0mwebdriver\u001b[0m\u001b[1;33m.\u001b[0m\u001b[0mcommon\u001b[0m\u001b[1;33m.\u001b[0m\u001b[0mkeys\u001b[0m \u001b[1;32mimport\u001b[0m \u001b[0mKeys\u001b[0m\u001b[1;33m\u001b[0m\u001b[1;33m\u001b[0m\u001b[0m\n\u001b[0;32m      3\u001b[0m \u001b[1;32mimport\u001b[0m \u001b[0mtime\u001b[0m\u001b[1;33m\u001b[0m\u001b[1;33m\u001b[0m\u001b[0m\n\u001b[0;32m      4\u001b[0m \u001b[0mdriver\u001b[0m \u001b[1;33m=\u001b[0m \u001b[0mwebdriver\u001b[0m\u001b[1;33m.\u001b[0m\u001b[0mChrome\u001b[0m\u001b[1;33m(\u001b[0m\u001b[1;33m)\u001b[0m\u001b[1;33m\u001b[0m\u001b[1;33m\u001b[0m\u001b[0m\n\u001b[0;32m      5\u001b[0m \u001b[0mdriver\u001b[0m\u001b[1;33m.\u001b[0m\u001b[0mget\u001b[0m\u001b[1;33m(\u001b[0m\u001b[1;34m'http://www.baidu.com'\u001b[0m\u001b[1;33m)\u001b[0m  \u001b[1;31m#打开百度首页\u001b[0m\u001b[1;33m\u001b[0m\u001b[1;33m\u001b[0m\u001b[0m\n",
      "\u001b[1;31mModuleNotFoundError\u001b[0m: No module named 'selenium'"
     ]
    }
   ],
   "source": [
    "from selenium import webdriver  \n",
    "from selenium.webdriver.common.keys import Keys \n",
    "import time\n",
    "driver = webdriver.Chrome()\n",
    "driver.get('http://www.baidu.com')  #打开百度首页\n",
    "driver.implicitly_wait(20) #智能等待20s\n",
    "\n",
    "driver.find_element_by_id('kw').send_keys('python') #在输入框中输入python\n",
    "driver.find_element_by_id('su').click()  #点击进行搜索\n"
   ]
  },
  {
   "cell_type": "code",
   "execution_count": null,
   "metadata": {},
   "outputs": [],
   "source": []
  },
  {
   "cell_type": "code",
   "execution_count": null,
   "metadata": {},
   "outputs": [],
   "source": []
  },
  {
   "cell_type": "code",
   "execution_count": null,
   "metadata": {},
   "outputs": [],
   "source": []
  }
 ],
 "metadata": {
  "kernelspec": {
   "display_name": "Python 3",
   "language": "python",
   "name": "python3"
  },
  "language_info": {
   "codemirror_mode": {
    "name": "ipython",
    "version": 3
   },
   "file_extension": ".py",
   "mimetype": "text/x-python",
   "name": "python",
   "nbconvert_exporter": "python",
   "pygments_lexer": "ipython3",
   "version": "3.7.4"
  }
 },
 "nbformat": 4,
 "nbformat_minor": 2
}
