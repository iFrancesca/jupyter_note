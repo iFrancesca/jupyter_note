{
 "cells": [
  {
   "cell_type": "markdown",
   "metadata": {},
   "source": [
    "### 中英文文本分离"
   ]
  },
  {
   "cell_type": "markdown",
   "metadata": {},
   "source": [
    "#### 1.超短文本,ASCII识别"
   ]
  },
  {
   "cell_type": "code",
   "execution_count": 1,
   "metadata": {},
   "outputs": [
    {
     "name": "stdout",
     "output_type": "stream",
     "text": [
      "China's Legend Holdings will split its several business arms to go public on stock markets, the group's president Zhu Linan said on Tuesday.\n"
     ]
    }
   ],
   "source": [
    "s = \"China's Legend Holdings will split its several business arms to go public on stock markets, the group's president Zhu Linan said on Tuesday.该集团总裁朱利安周二表示，中国联想控股将分拆其多个业务部门在股市上市。\"\n",
    "result = \"\".join(i for i in s if ord(i) < 256)\n",
    "print(result)"
   ]
  },
  {
   "cell_type": "code",
   "execution_count": 2,
   "metadata": {},
   "outputs": [
    {
     "name": "stdout",
     "output_type": "stream",
     "text": [
      "该集团总裁朱利安周二表示，中国联想控股将分拆其多个业务部门在股市上市。\n"
     ]
    }
   ],
   "source": [
    "s = \"China's Legend Holdings will split its several business arms to go public on stock markets, the group's president Zhu Linan said on Tuesday.该集团总裁朱利安周二表示，中国联想控股将分拆其多个业务部门在股市上市。\"\n",
    "result = \"\".join(i for i in s if ord(i) >= 256)\n",
    "print(result)"
   ]
  },
  {
   "cell_type": "markdown",
   "metadata": {},
   "source": [
    "#### 2.unicode编码识别\n",
    "> 中文的编码范围是：\\u4e00-\\u9fa5，相应的[^\\u4e00-\\u9fa5]可匹配非中文。\n",
    "> 匹配英文时，需要将空格[\\u0020]加入，不然单词之间没空格了"
   ]
  },
  {
   "cell_type": "code",
   "execution_count": 5,
   "metadata": {},
   "outputs": [
    {
     "name": "stdout",
     "output_type": "stream",
     "text": [
      "chinas legend holdings will split its several business arms to go public on stock markets, the groups president zhu linan said on tuesday\n"
     ]
    }
   ],
   "source": [
    "import re\n",
    "s = \"China's Legend Holdings will split its several business arms to go public on stock markets, the group's president Zhu Linan said on Tuesday.\\\n",
    "该集团总裁朱利安周二表示，中国联想控股将分拆其多个业务部门在股市上市。\"\n",
    "uncn = re.compile(r'[\\u0061-\\u007a,\\u0020]')\n",
    "en=''.join(uncn.findall(s.lower()))\n",
    "print(en)"
   ]
  },
  {
   "cell_type": "code",
   "execution_count": 6,
   "metadata": {},
   "outputs": [
    {
     "name": "stdout",
     "output_type": "stream",
     "text": [
      "该集团总裁朱利安周二表示中国联想控股将分拆其多个业务部门在股市上市\n"
     ]
    }
   ],
   "source": [
    "import re\n",
    "s = \"China's Legend Holdings will split its several business arms to go public on stock markets, the group's president Zhu Linan said on Tuesday.\\\n",
    "该集团总裁朱利安周二表示，中国联想控股将分拆其多个业务部门在股市上市。\"\n",
    "uncn = re.compile(r'[\\u4e00-\\u9fa5]')\n",
    "en=''.join(uncn.findall(s.lower()))\n",
    "print(en)"
   ]
  },
  {
   "cell_type": "code",
   "execution_count": null,
   "metadata": {},
   "outputs": [],
   "source": []
  }
 ],
 "metadata": {
  "kernelspec": {
   "display_name": "Python 3",
   "language": "python",
   "name": "python3"
  },
  "language_info": {
   "codemirror_mode": {
    "name": "ipython",
    "version": 3
   },
   "file_extension": ".py",
   "mimetype": "text/x-python",
   "name": "python",
   "nbconvert_exporter": "python",
   "pygments_lexer": "ipython3",
   "version": "3.7.4"
  }
 },
 "nbformat": 4,
 "nbformat_minor": 2
}
