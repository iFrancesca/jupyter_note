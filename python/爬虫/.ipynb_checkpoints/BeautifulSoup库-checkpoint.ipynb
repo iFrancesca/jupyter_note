{
 "cells": [
  {
   "cell_type": "markdown",
   "metadata": {},
   "source": [
    "## 理解"
   ]
  },
  {
   "cell_type": "raw",
   "metadata": {},
   "source": [
    "BeautifulSoup库是解析、遍历、维护“标签树”的功能库\n",
    "<html>\n",
    "    <body>\n",
    "         <p class=\"title\">...</p>    #标签树\n",
    "    </body>\n",
    "</html>\n",
    "              非属性字符串/注释.string\n",
    "<p   class=\"title\">...........</p>\n",
    "名称.name   属性Attributes（0或多个）.attrs\n",
    "\n",
    "<p>..</p>:标签 <tag>\n",
    "\n",
    "Beautiful Soup库，也叫beautifulsoup4或bs4"
   ]
  },
  {
   "cell_type": "raw",
   "metadata": {},
   "source": [
    "约定引用方式如下，即主要是用BeautifulSoup类\n",
    "from bs4 import BeautifulSoup\n",
    "import bs4\n",
    "soup=BeautifulSoup('<html>data</html>','html.parser')\n",
    "soup=BeautifulSoup(open('D://demmon.html'),'html.parser')"
   ]
  },
  {
   "cell_type": "code",
   "execution_count": 3,
   "metadata": {},
   "outputs": [
    {
     "name": "stdout",
     "output_type": "stream",
     "text": [
      "<html><head><title>This is a python demo page</title></head>\n",
      "<body>\n",
      "<p class=\"title\"><b>The demo python introduces several python courses.</b></p>\n",
      "<p class=\"course\">Python is a wonderful general-purpose programming language. You can learn Python from novice to professional by tracking the following courses:\r\n",
      "<a class=\"py1\" href=\"http://www.icourse163.org/course/BIT-268001\" id=\"link1\">Basic Python</a> and <a class=\"py2\" href=\"http://www.icourse163.org/course/BIT-1001870001\" id=\"link2\">Advanced Python</a>.</p>\n",
      "</body></html>\n",
      "<html>\n",
      " <head>\n",
      "  <title>\n",
      "   This is a python demo page\n",
      "  </title>\n",
      " </head>\n",
      " <body>\n",
      "  <p class=\"title\">\n",
      "   <b>\n",
      "    The demo python introduces several python courses.\n",
      "   </b>\n",
      "  </p>\n",
      "  <p class=\"course\">\n",
      "   Python is a wonderful general-purpose programming language. You can learn Python from novice to professional by tracking the following courses:\n",
      "   <a class=\"py1\" href=\"http://www.icourse163.org/course/BIT-268001\" id=\"link1\">\n",
      "    Basic Python\n",
      "   </a>\n",
      "   and\n",
      "   <a class=\"py2\" href=\"http://www.icourse163.org/course/BIT-1001870001\" id=\"link2\">\n",
      "    Advanced Python\n",
      "   </a>\n",
      "   .\n",
      "  </p>\n",
      " </body>\n",
      "</html>\n"
     ]
    }
   ],
   "source": [
    "from bs4 import BeautifulSoup\n",
    "import requests\n",
    "r=requests.get('https://python123.io/ws/demo.html')\n",
    "demo=r.text\n",
    "soup=BeautifulSoup(demo,\"html.parser\")\n",
    "print(soup)\n",
    "print(soup.prettify())"
   ]
  },
  {
   "cell_type": "markdown",
   "metadata": {},
   "source": [
    "### BeautifulSoup库解析器\n",
    "|解析器|使用方法|条件|\n",
    "|--|--|--|\n",
    "|bs4的HTML解析器|BeatifulSoup(mk,'html.parser')|安装bs4库|\n",
    "|lxml的HTML解析器|BeatifulSoup(mk,'lxml')|pip install lxml|\n",
    "|lxml的XML解析器|BeatifulSoup(mk,'xml')|pip install lxml|\n",
    "|html5lib解析器|BeatifulSoup(mk,'html5lib')|pip install hml5lib|\n",
    "|"
   ]
  },
  {
   "cell_type": "markdown",
   "metadata": {},
   "source": [
    "### BeautifulSoup类的基本元素"
   ]
  },
  {
   "cell_type": "raw",
   "metadata": {},
   "source": [
    "<p class='title'>...</p>           ：标签：Tag\n",
    "名称    属性       "
   ]
  },
  {
   "cell_type": "markdown",
   "metadata": {},
   "source": [
    "|基本元素      |         说明|\n",
    "|--|---|\n",
    "|Tag            |     标签，最基本的信息组织单元，分别用<>和</>标明开头和结尾|\n",
    "|Name            |    标签的名字,<p>...</p>的名字是'p',格式：<tag>/name|\n",
    "|Attibutes        |   标签的属性，字典形式组织，格式:<tag>.attrs|\n",
    "|NavigableString   |  标签内非属性字符串，<>...</>中字符串，格式：<tag>.string|\n",
    "|Comment            | 标签内字符串注释部分，一种特殊的Comment类型|"
   ]
  },
  {
   "cell_type": "code",
   "execution_count": 3,
   "metadata": {},
   "outputs": [
    {
     "name": "stdout",
     "output_type": "stream",
     "text": [
      "<title>This is a python demo page</title>\n"
     ]
    }
   ],
   "source": [
    "print(soup.title)"
   ]
  },
  {
   "cell_type": "code",
   "execution_count": 4,
   "metadata": {},
   "outputs": [
    {
     "name": "stdout",
     "output_type": "stream",
     "text": [
      "<body>\n",
      "<p class=\"title\"><b>The demo python introduces several python courses.</b></p>\n",
      "<p class=\"course\">Python is a wonderful general-purpose programming language. You can learn Python from novice to professional by tracking the following courses:\r\n",
      "<a class=\"py1\" href=\"http://www.icourse163.org/course/BIT-268001\" id=\"link1\">Basic Python</a> and <a class=\"py2\" href=\"http://www.icourse163.org/course/BIT-1001870001\" id=\"link2\">Advanced Python</a>.</p>\n",
      "</body>\n"
     ]
    }
   ],
   "source": [
    "tag=soup.body    #任何存在于HTML语法中的标签都可以用soup.<tag>访问获得\n",
    "print(tag)"
   ]
  },
  {
   "cell_type": "code",
   "execution_count": 9,
   "metadata": {},
   "outputs": [
    {
     "name": "stdout",
     "output_type": "stream",
     "text": [
      "<a class=\"py1\" href=\"http://www.icourse163.org/course/BIT-268001\" id=\"link1\">Basic Python</a>\n"
     ]
    }
   ],
   "source": [
    "tag=soup.a\n",
    "print(tag)      #当HTML文档中存在多个相同的<tag>对应内容时，woup.<tag>返回第一个"
   ]
  },
  {
   "cell_type": "markdown",
   "metadata": {},
   "source": [
    "* tag的名字"
   ]
  },
  {
   "cell_type": "code",
   "execution_count": 10,
   "metadata": {},
   "outputs": [
    {
     "name": "stdout",
     "output_type": "stream",
     "text": [
      "a \tp \tbody\n"
     ]
    }
   ],
   "source": [
    "print(soup.a.name,'\\t'+soup.a.parent.name,'\\t'+soup.a.parent.parent.name)  #每个tag都有自己的名字，通过<tag>/name获取，字符串类型"
   ]
  },
  {
   "cell_type": "markdown",
   "metadata": {},
   "source": [
    "* tag的属性"
   ]
  },
  {
   "cell_type": "code",
   "execution_count": 4,
   "metadata": {},
   "outputs": [
    {
     "name": "stdout",
     "output_type": "stream",
     "text": [
      "{'href': 'http://www.icourse163.org/course/BIT-268001', 'class': ['py1'], 'id': 'link1'} <class 'dict'>\n",
      "link1 <class 'str'>\n"
     ]
    }
   ],
   "source": [
    "tag=soup.a\n",
    "print(tag.attrs,type(tag.attrs))                \n",
    "print(tag.attrs['id'],type(tag.attrs['id']))  #一个<tag>可以有0或多个属性，字典类型 "
   ]
  },
  {
   "cell_type": "markdown",
   "metadata": {},
   "source": [
    "* tag的NavigableString"
   ]
  },
  {
   "cell_type": "code",
   "execution_count": 18,
   "metadata": {},
   "outputs": [
    {
     "name": "stdout",
     "output_type": "stream",
     "text": [
      "Basic Python\n",
      "<p class=\"title\"><b>The demo python introduces several python courses.</b></p> The demo python introduces several python courses.\n",
      "<class 'bs4.element.NavigableString'>\n"
     ]
    }
   ],
   "source": [
    "print(soup.a.string)\n",
    "print(soup.p,soup.p.string)  \n",
    "print(type(soup.p.string))   #NacigableString可以跨越多个层次"
   ]
  },
  {
   "cell_type": "markdown",
   "metadata": {},
   "source": [
    "* tag的Comment"
   ]
  },
  {
   "cell_type": "code",
   "execution_count": 19,
   "metadata": {},
   "outputs": [
    {
     "name": "stdout",
     "output_type": "stream",
     "text": [
      "This is a comment <class 'bs4.element.Comment'>\n",
      "This is not a comment <class 'bs4.element.NavigableString'>\n"
     ]
    }
   ],
   "source": [
    "newsoup=BeautifulSoup('<b><!--This is a comment--></b><p>This is not a comment</p>','html.parser')\n",
    "print(newsoup.b.string,type(newsoup.b.string))      #标签内字符串的注释部分，一种特殊的Comment类型\n",
    "print(newsoup.p.string,type(newsoup.p.string))"
   ]
  },
  {
   "cell_type": "markdown",
   "metadata": {},
   "source": [
    "## 基于bs4库的HTML内容遍历方法"
   ]
  },
  {
   "cell_type": "markdown",
   "metadata": {},
   "source": [
    "### html基本格式"
   ]
  },
  {
   "cell_type": "code",
   "execution_count": null,
   "metadata": {},
   "outputs": [],
   "source": [
    "<>...</>构成了所属关系，形成了标签的树形结构\n",
    "上行遍历，下行遍历，平行遍历"
   ]
  },
  {
   "cell_type": "code",
   "execution_count": 8,
   "metadata": {},
   "outputs": [
    {
     "name": "stdout",
     "output_type": "stream",
     "text": [
      "<html>\n",
      " <head>\n",
      "  <title>\n",
      "   This is a python demo page\n",
      "  </title>\n",
      " </head>\n",
      " <body>\n",
      "  <p class=\"title\">\n",
      "   <b>\n",
      "    The demo python introduces several python courses.\n",
      "   </b>\n",
      "  </p>\n",
      "  <p class=\"course\">\n",
      "   Python is a wonderful general-purpose programming language. You can learn Python from novice to professional by tracking the following courses:\n",
      "   <a class=\"py1\" href=\"http://www.icourse163.org/course/BIT-268001\" id=\"link1\">\n",
      "    Basic Python\n",
      "   </a>\n",
      "   and\n",
      "   <a class=\"py2\" href=\"http://www.icourse163.org/course/BIT-1001870001\" id=\"link2\">\n",
      "    Advanced Python\n",
      "   </a>\n",
      "   .\n",
      "  </p>\n",
      " </body>\n",
      "</html>\n"
     ]
    }
   ],
   "source": [
    "print(soup.prettify())"
   ]
  },
  {
   "cell_type": "markdown",
   "metadata": {},
   "source": [
    "### 标签树的下行遍历"
   ]
  },
  {
   "cell_type": "markdown",
   "metadata": {},
   "source": [
    "|属性            |   说明|\n",
    "|--|--|\n",
    "|.contents        |     子节点的列表，将<tag>所有儿子节点存入列表|\n",
    "|.children         |    子节点的迭代类型，与.content类似，用于循环遍历儿子节点|\n",
    "|.descendants       |   子孙节点的迭代类型，包含所有子孙节点，用于循环遍历|\n",
    "> BeautifulSoup类型是标签树的根节点"
   ]
  },
  {
   "cell_type": "code",
   "execution_count": 10,
   "metadata": {},
   "outputs": [
    {
     "name": "stdout",
     "output_type": "stream",
     "text": [
      "[<title>This is a python demo page</title>]\n"
     ]
    }
   ],
   "source": [
    "print(soup.head.contents)"
   ]
  },
  {
   "cell_type": "code",
   "execution_count": 11,
   "metadata": {},
   "outputs": [
    {
     "name": "stdout",
     "output_type": "stream",
     "text": [
      "['\\n', <p class=\"title\"><b>The demo python introduces several python courses.</b></p>, '\\n', <p class=\"course\">Python is a wonderful general-purpose programming language. You can learn Python from novice to professional by tracking the following courses:\r\n",
      "<a class=\"py1\" href=\"http://www.icourse163.org/course/BIT-268001\" id=\"link1\">Basic Python</a> and <a class=\"py2\" href=\"http://www.icourse163.org/course/BIT-1001870001\" id=\"link2\">Advanced Python</a>.</p>, '\\n']\n"
     ]
    }
   ],
   "source": [
    "print(soup.body.contents)"
   ]
  },
  {
   "cell_type": "code",
   "execution_count": 12,
   "metadata": {},
   "outputs": [
    {
     "name": "stdout",
     "output_type": "stream",
     "text": [
      "5 <p class=\"title\"><b>The demo python introduces several python courses.</b></p>\n"
     ]
    }
   ],
   "source": [
    "print(len(soup.body.contents),soup.body.contents[1])"
   ]
  },
  {
   "cell_type": "code",
   "execution_count": 18,
   "metadata": {},
   "outputs": [
    {
     "name": "stdout",
     "output_type": "stream",
     "text": [
      "\n",
      "\n",
      "<p class=\"title\"><b>The demo python introduces several python courses.</b></p>\n",
      "\n",
      "\n",
      "<p class=\"course\">Python is a wonderful general-purpose programming language. You can learn Python from novice to professional by tracking the following courses:\r\n",
      "<a class=\"py1\" href=\"http://www.icourse163.org/course/BIT-268001\" id=\"link1\">Basic Python</a> and <a class=\"py2\" href=\"http://www.icourse163.org/course/BIT-1001870001\" id=\"link2\">Advanced Python</a>.</p>\n",
      "\n",
      "\n"
     ]
    }
   ],
   "source": [
    "for child in soup.body.children:    #遍历儿子节点\n",
    "    print(child)"
   ]
  },
  {
   "cell_type": "code",
   "execution_count": 16,
   "metadata": {},
   "outputs": [
    {
     "name": "stdout",
     "output_type": "stream",
     "text": [
      "\n",
      "\n",
      "<p class=\"title\"><b>The demo python introduces several python courses.</b></p>\n",
      "<b>The demo python introduces several python courses.</b>\n",
      "The demo python introduces several python courses.\n",
      "\n",
      "\n",
      "<p class=\"course\">Python is a wonderful general-purpose programming language. You can learn Python from novice to professional by tracking the following courses:\r\n",
      "<a class=\"py1\" href=\"http://www.icourse163.org/course/BIT-268001\" id=\"link1\">Basic Python</a> and <a class=\"py2\" href=\"http://www.icourse163.org/course/BIT-1001870001\" id=\"link2\">Advanced Python</a>.</p>\n",
      "Python is a wonderful general-purpose programming language. You can learn Python from novice to professional by tracking the following courses:\r\n",
      "\n",
      "<a class=\"py1\" href=\"http://www.icourse163.org/course/BIT-268001\" id=\"link1\">Basic Python</a>\n",
      "Basic Python\n",
      " and \n",
      "<a class=\"py2\" href=\"http://www.icourse163.org/course/BIT-1001870001\" id=\"link2\">Advanced Python</a>\n",
      "Advanced Python\n",
      ".\n",
      "\n",
      "\n"
     ]
    }
   ],
   "source": [
    "for child in soup.body.descendants:      #遍历子孙节点\n",
    "    print(child)"
   ]
  },
  {
   "cell_type": "code",
   "execution_count": 17,
   "metadata": {},
   "outputs": [
    {
     "name": "stdout",
     "output_type": "stream",
     "text": [
      "<class 'NoneType'>\n"
     ]
    }
   ],
   "source": [
    "print(type(soup.body.descenders))"
   ]
  },
  {
   "cell_type": "markdown",
   "metadata": {},
   "source": [
    "### 标签树的上行遍历\n",
    "|属性      |     说明|\n",
    "|--|--|\n",
    "|.parent    |      节点的父亲标签|\n",
    "|.parents    |     节点先辈标签的迭代类型，用于循环遍历先辈节点|"
   ]
  },
  {
   "cell_type": "code",
   "execution_count": 19,
   "metadata": {},
   "outputs": [
    {
     "name": "stdout",
     "output_type": "stream",
     "text": [
      "<head><title>This is a python demo page</title></head>\n"
     ]
    },
    {
     "data": {
      "text/plain": [
       "bs4.element.Tag"
      ]
     },
     "execution_count": 19,
     "metadata": {},
     "output_type": "execute_result"
    }
   ],
   "source": [
    "soup=BeautifulSoup(demo,'html.parser')\n",
    "print(soup.title.parent)\n",
    "type(soup.title.parent)"
   ]
  },
  {
   "cell_type": "code",
   "execution_count": 20,
   "metadata": {},
   "outputs": [
    {
     "name": "stdout",
     "output_type": "stream",
     "text": [
      "<html><head><title>This is a python demo page</title></head>\n",
      "<body>\n",
      "<p class=\"title\"><b>The demo python introduces several python courses.</b></p>\n",
      "<p class=\"course\">Python is a wonderful general-purpose programming language. You can learn Python from novice to professional by tracking the following courses:\r\n",
      "<a class=\"py1\" href=\"http://www.icourse163.org/course/BIT-268001\" id=\"link1\">Basic Python</a> and <a class=\"py2\" href=\"http://www.icourse163.org/course/BIT-1001870001\" id=\"link2\">Advanced Python</a>.</p>\n",
      "</body></html>\n"
     ]
    }
   ],
   "source": [
    "print(soup.html.parent)"
   ]
  },
  {
   "cell_type": "code",
   "execution_count": 21,
   "metadata": {},
   "outputs": [
    {
     "name": "stdout",
     "output_type": "stream",
     "text": [
      "None\n"
     ]
    }
   ],
   "source": [
    "print(soup.parent)"
   ]
  },
  {
   "cell_type": "code",
   "execution_count": 22,
   "metadata": {},
   "outputs": [
    {
     "name": "stdout",
     "output_type": "stream",
     "text": [
      "p\n",
      "body\n",
      "html\n",
      "[document]\n"
     ]
    }
   ],
   "source": [
    "for parent in soup.a.parents:\n",
    "    if parent is None:\n",
    "        print(parent)\n",
    "    else:\n",
    "        print(parent.name)"
   ]
  },
  {
   "cell_type": "markdown",
   "metadata": {},
   "source": [
    "### 标签树的平行遍历\n",
    "> 行遍历发生在同一个父节点下的各节点间\n",
    "\n",
    "|属性|说明|\n",
    "|--|--|\n",
    "|.next_sibling   |返回按照HTML文本顺序的下一个平行节点标签|\n",
    "|.previous_sibling|   返回按照HTML文本顺序的上一个平行节点标签|\n",
    "|.next_siblings   |迭代类型，返回按照HTML文本顺序的后续所有平行节点标签|\n",
    "|.previous_siblings |  迭代类型，返回按照HTML文本顺序的前续所有平行节点标签|\n",
    "'''"
   ]
  },
  {
   "cell_type": "code",
   "execution_count": 23,
   "metadata": {},
   "outputs": [
    {
     "name": "stdout",
     "output_type": "stream",
     "text": [
      "<a class=\"py1\" href=\"http://www.icourse163.org/course/BIT-268001\" id=\"link1\">Basic Python</a>\n"
     ]
    }
   ],
   "source": [
    "print(soup.a)"
   ]
  },
  {
   "cell_type": "code",
   "execution_count": 24,
   "metadata": {},
   "outputs": [
    {
     "data": {
      "text/plain": [
       "' and '"
      ]
     },
     "execution_count": 24,
     "metadata": {},
     "output_type": "execute_result"
    }
   ],
   "source": [
    "soup.a.next_sibling"
   ]
  },
  {
   "cell_type": "code",
   "execution_count": 25,
   "metadata": {},
   "outputs": [
    {
     "data": {
      "text/plain": [
       "'Python is a wonderful general-purpose programming language. You can learn Python from novice to professional by tracking the following courses:\\r\\n'"
      ]
     },
     "execution_count": 25,
     "metadata": {},
     "output_type": "execute_result"
    }
   ],
   "source": [
    "soup.a.previous_sibling"
   ]
  },
  {
   "cell_type": "code",
   "execution_count": 27,
   "metadata": {},
   "outputs": [],
   "source": [
    "soup.a.previous_sibling.previous_sibling"
   ]
  },
  {
   "cell_type": "code",
   "execution_count": 28,
   "metadata": {},
   "outputs": [
    {
     "data": {
      "text/plain": [
       "<p class=\"course\">Python is a wonderful general-purpose programming language. You can learn Python from novice to professional by tracking the following courses:\n",
       "<a class=\"py1\" href=\"http://www.icourse163.org/course/BIT-268001\" id=\"link1\">Basic Python</a> and <a class=\"py2\" href=\"http://www.icourse163.org/course/BIT-1001870001\" id=\"link2\">Advanced Python</a>.</p>"
      ]
     },
     "execution_count": 28,
     "metadata": {},
     "output_type": "execute_result"
    }
   ],
   "source": [
    "soup.a.parent"
   ]
  },
  {
   "cell_type": "code",
   "execution_count": 29,
   "metadata": {},
   "outputs": [
    {
     "name": "stdout",
     "output_type": "stream",
     "text": [
      " and \n",
      "<a class=\"py2\" href=\"http://www.icourse163.org/course/BIT-1001870001\" id=\"link2\">Advanced Python</a>\n",
      ".\n"
     ]
    }
   ],
   "source": [
    "for sibling in soup.a.next_siblings:\n",
    "    print(sibling)         #遍历后续节点\n"
   ]
  },
  {
   "cell_type": "code",
   "execution_count": 31,
   "metadata": {},
   "outputs": [
    {
     "name": "stdout",
     "output_type": "stream",
     "text": [
      "Python is a wonderful general-purpose programming language. You can learn Python from novice to professional by tracking the following courses:\r\n",
      "\n"
     ]
    }
   ],
   "source": [
    "for sibling in soup.a.previous_siblings:\n",
    "    print(sibling)   #遍历前续节点"
   ]
  },
  {
   "cell_type": "markdown",
   "metadata": {},
   "source": [
    "## 基于bs4库的HTML格式输出\n",
    "### bs4库的prettify()方法"
   ]
  },
  {
   "cell_type": "code",
   "execution_count": 32,
   "metadata": {},
   "outputs": [
    {
     "name": "stdout",
     "output_type": "stream",
     "text": [
      "<html>\n",
      " <head>\n",
      "  <title>\n",
      "   This is a python demo page\n",
      "  </title>\n",
      " </head>\n",
      " <body>\n",
      "  <p class=\"title\">\n",
      "   <b>\n",
      "    The demo python introduces several python courses.\n",
      "   </b>\n",
      "  </p>\n",
      "  <p class=\"course\">\n",
      "   Python is a wonderful general-purpose programming language. You can learn Python from novice to professional by tracking the following courses:\n",
      "   <a class=\"py1\" href=\"http://www.icourse163.org/course/BIT-268001\" id=\"link1\">\n",
      "    Basic Python\n",
      "   </a>\n",
      "   and\n",
      "   <a class=\"py2\" href=\"http://www.icourse163.org/course/BIT-1001870001\" id=\"link2\">\n",
      "    Advanced Python\n",
      "   </a>\n",
      "   .\n",
      "  </p>\n",
      " </body>\n",
      "</html>\n"
     ]
    }
   ],
   "source": [
    "from bs4 import BeautifulSoup\n",
    "import requests\n",
    "r=requests.get('https://python123.io/ws/demo.html')\n",
    "demo=r.text\n",
    "soup=BeautifulSoup(demo,'html.parser')\n",
    "print(soup.prettify())"
   ]
  },
  {
   "cell_type": "markdown",
   "metadata": {},
   "source": [
    "* prettify()为HTML文本<>及其内容增加更加'\\n'\n",
    "* prettify()可用于标签，方法：<tag>.prettify()"
   ]
  },
  {
   "cell_type": "code",
   "execution_count": 4,
   "metadata": {},
   "outputs": [
    {
     "name": "stdout",
     "output_type": "stream",
     "text": [
      "<a class=\"py1\" href=\"http://www.icourse163.org/course/BIT-268001\" id=\"link1\">\n",
      " Basic Python\n",
      "</a>\n",
      "\n"
     ]
    }
   ],
   "source": [
    "print(soup.a.prettify())"
   ]
  },
  {
   "cell_type": "raw",
   "metadata": {},
   "source": [
    "bs4库的编码\n",
    "bs4库将任何HTML输入都变成utf-编码\n",
    "python 3.x默认支持编码是utf-8，解析无障碍"
   ]
  },
  {
   "cell_type": "code",
   "execution_count": 33,
   "metadata": {},
   "outputs": [
    {
     "name": "stdout",
     "output_type": "stream",
     "text": [
      "中文\n"
     ]
    }
   ],
   "source": [
    "soup=BeautifulSoup('<p>中文</p>','html.parser')\n",
    "print(soup.p.string)"
   ]
  },
  {
   "cell_type": "code",
   "execution_count": 34,
   "metadata": {},
   "outputs": [
    {
     "name": "stdout",
     "output_type": "stream",
     "text": [
      "<p>\n",
      " 中文\n",
      "</p>\n"
     ]
    }
   ],
   "source": [
    "print(soup.p.prettify())"
   ]
  },
  {
   "cell_type": "markdown",
   "metadata": {},
   "source": [
    "# 大学排名\n",
    "> http://www.zuihaodaxue.cn/zuihaodaxuepaiming2016.html"
   ]
  },
  {
   "cell_type": "markdown",
   "metadata": {},
   "source": [
    "**1.从网络上获取大学排名的网页内容**\n",
    "> getHTMLText()"
   ]
  },
  {
   "cell_type": "markdown",
   "metadata": {},
   "source": [
    "**2.提取网页内容中信息到合适的数据结构**\n",
    "> fillUnivList()"
   ]
  },
  {
   "cell_type": "markdown",
   "metadata": {},
   "source": [
    "**3.利用数据结构展示并输出结果**\n",
    "> printUnivList()"
   ]
  },
  {
   "cell_type": "code",
   "execution_count": 47,
   "metadata": {},
   "outputs": [
    {
     "name": "stdout",
     "output_type": "stream",
     "text": [
      "    排名    \t 学校名称 \t    总分    \n",
      "    1     \t 清华大学 \t   94.6   \n",
      "    2     \t 北京大学 \t   76.5   \n",
      "    3     \t 浙江大学 \t   72.9   \n",
      "    4     \t上海交通大学\t   72.1   \n",
      "    5     \t 复旦大学 \t   65.6   \n",
      "    6     \t中国科学技术大学\t   60.9   \n",
      "    7     \t华中科技大学\t   58.9   \n",
      "    7     \t 南京大学 \t   58.9   \n",
      "    9     \t 中山大学 \t   58.2   \n",
      "    10    \t哈尔滨工业大学\t   56.7   \n",
      "    11    \t北京航空航天大学\t   56.3   \n",
      "    12    \t 武汉大学 \t   56.2   \n",
      "    13    \t 同济大学 \t   55.7   \n",
      "    14    \t西安交通大学\t   55.0   \n",
      "    15    \t 四川大学 \t   54.4   \n",
      "    16    \t北京理工大学\t   54.0   \n",
      "    17    \t 东南大学 \t   53.6   \n",
      "    18    \t 南开大学 \t   52.8   \n",
      "    19    \t 天津大学 \t   52.3   \n",
      "    20    \t华南理工大学\t   52.0   \n"
     ]
    }
   ],
   "source": [
    "import requests\n",
    "from bs4 import BeautifulSoup\n",
    "import bs4\n",
    "def getHTMLText(url):\n",
    "    try:\n",
    "        r=requests.get(url)\n",
    "        r.raise_for_status()\n",
    "        r.encoding=r.apparent_encoding\n",
    "        return r.text\n",
    "    except:\n",
    "        return ''\n",
    "def fillUnivList(ulist,html):\n",
    "    soup=BeautifulSoup(html,'html.parser')\n",
    "    for tr in soup.find('tbody').children:\n",
    "        if isinstance(tr,bs4.element.Tag):           #Tag,不是tag\n",
    "            tds=tr('td')                  #将tr标签中的所有名字为td的标签存入一个list中\n",
    "            ulist.append([tds[0].string,tds[1].string,tds[3].string])\n",
    "    return ulist\n",
    "def printUnivList(ulist,num):\n",
    "    print('{:^10}\\t{:^6}\\t{:^10}'.format('排名','学校名称','总分'))\n",
    "    for i in range(num):\n",
    "        t=ulist[i]\n",
    "        print('{:^10}\\t{:^6}\\t{:^10}'.format(t[0],t[1],t[2]))\n",
    "def main():\n",
    "    uinfo=[]\n",
    "    num=20\n",
    "    url='http://www.zuihaodaxue.cn/zuihaodaxuepaiming2019.html'\n",
    "    html=getHTMLText(url)\n",
    "    ulist=fillUnivList(uinfo,html)\n",
    "    printUnivList(ulist,num)\n",
    "main()\n",
    "    \n",
    "    \n"
   ]
  },
  {
   "cell_type": "markdown",
   "metadata": {},
   "source": [
    "**优化**"
   ]
  },
  {
   "cell_type": "markdown",
   "metadata": {},
   "source": [
    "* 中文对齐问题\n",
    "> 当中文字符宽度不够时，采用西文字符填充；中西文字符占用宽度不够"
   ]
  },
  {
   "cell_type": "markdown",
   "metadata": {},
   "source": [
    "* 解决\n",
    "> 采用中文字符的空格填充 chr(12288)"
   ]
  },
  {
   "cell_type": "code",
   "execution_count": 48,
   "metadata": {},
   "outputs": [
    {
     "name": "stdout",
     "output_type": "stream",
     "text": [
      "    排名    \t　学校名称　\t　　　　总分　　　　\n",
      "    1     \t　清华大学　\t　　　94.6　　　\n",
      "    2     \t　北京大学　\t　　　76.5　　　\n",
      "    3     \t　浙江大学　\t　　　72.9　　　\n",
      "    4     \t上海交通大学\t　　　72.1　　　\n",
      "    5     \t　复旦大学　\t　　　65.6　　　\n",
      "    6     \t中国科学技术大学\t　　　60.9　　　\n",
      "    7     \t华中科技大学\t　　　58.9　　　\n",
      "    7     \t　南京大学　\t　　　58.9　　　\n",
      "    9     \t　中山大学　\t　　　58.2　　　\n",
      "    10    \t哈尔滨工业大学\t　　　56.7　　　\n",
      "    11    \t北京航空航天大学\t　　　56.3　　　\n",
      "    12    \t　武汉大学　\t　　　56.2　　　\n",
      "    13    \t　同济大学　\t　　　55.7　　　\n",
      "    14    \t西安交通大学\t　　　55.0　　　\n",
      "    15    \t　四川大学　\t　　　54.4　　　\n",
      "    16    \t北京理工大学\t　　　54.0　　　\n",
      "    17    \t　东南大学　\t　　　53.6　　　\n",
      "    18    \t　南开大学　\t　　　52.8　　　\n",
      "    19    \t　天津大学　\t　　　52.3　　　\n",
      "    20    \t华南理工大学\t　　　52.0　　　\n"
     ]
    }
   ],
   "source": [
    "import requests\n",
    "from bs4 import BeautifulSoup\n",
    "import bs4\n",
    "def getHTMLText(url):\n",
    "    try:\n",
    "        r=requests.get(url)\n",
    "        r.raise_for_status()\n",
    "        r.encoding=r.apparent_encoding\n",
    "        return r.text\n",
    "    except:\n",
    "        return ''\n",
    "def fillUnivList(ulist,html):\n",
    "    soup=BeautifulSoup(html,'html.parser')\n",
    "    for tr in soup.find('tbody').children:\n",
    "        if isinstance(tr,bs4.element.Tag):           #Tag,不是tag\n",
    "            tds=tr('td')                  #将tr标签中的所有名字为td的标签存入一个list中\n",
    "            ulist.append([tds[0].string,tds[1].string,tds[3].string])\n",
    "    return ulist\n",
    "def printUnivList(ulist,num):\n",
    "    tplt='{0:^10}\\t{1:{3}^6}\\t{2:{3}^10}'\n",
    "    print(tplt.format('排名','学校名称','总分',chr(12288)))\n",
    "    for i in range(num):\n",
    "        t=ulist[i]\n",
    "        print(tplt.format(t[0],t[1],t[2],chr(12288)))\n",
    "def main():\n",
    "    uinfo=[]\n",
    "    num=20\n",
    "    url='http://www.zuihaodaxue.cn/zuihaodaxuepaiming2019.html'\n",
    "    html=getHTMLText(url)\n",
    "    ulist=fillUnivList(uinfo,html)\n",
    "    printUnivList(ulist,num)\n",
    "main()\n",
    "    "
   ]
  },
  {
   "cell_type": "raw",
   "metadata": {},
   "source": [
    "采用requests-bs4路线实现了中国大学排名定向爬虫\n",
    "对中英文混排输出问题进行优化"
   ]
  }
 ],
 "metadata": {
  "kernelspec": {
   "display_name": "Python 3",
   "language": "python",
   "name": "python3"
  },
  "language_info": {
   "codemirror_mode": {
    "name": "ipython",
    "version": 3
   },
   "file_extension": ".py",
   "mimetype": "text/x-python",
   "name": "python",
   "nbconvert_exporter": "python",
   "pygments_lexer": "ipython3",
   "version": "3.7.4"
  }
 },
 "nbformat": 4,
 "nbformat_minor": 2
}
