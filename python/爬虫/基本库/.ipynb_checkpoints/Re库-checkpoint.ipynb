{
 "cells": [
  {
   "cell_type": "markdown",
   "metadata": {},
   "source": [
    "# Re(正则表达式）库入门)"
   ]
  },
  {
   "cell_type": "markdown",
   "metadata": {},
   "source": [
    "> 正则表达式详解，提取页面关键信息"
   ]
  },
  {
   "cell_type": "markdown",
   "metadata": {},
   "source": [
    "## 正则表达式的概念"
   ]
  },
  {
   "cell_type": "raw",
   "metadata": {},
   "source": [
    "regular expression,regex,RE\n",
    "优势-->简洁   一行就是特征（模式）"
   ]
  },
  {
   "cell_type": "raw",
   "metadata": {},
   "source": [
    "正则表达式是用来简洁表达一组字符串的表达式\n",
    "正则表达式是一种通用的字符串表达框架\n",
    "正则表达式是一种针对字符串表达“简洁”和“特征”的思想的工具\n",
    "正则表达式还可以用来判断某字符串的特征归属 \n"
   ]
  },
  {
   "cell_type": "raw",
   "metadata": {},
   "source": [
    "正则表达式在文本处理中十分常用：\n",
    "    表达文本类型的特征（病毒、入侵等）\n",
    "    同时查找或替换一组字符串\n",
    "    匹配字符串的全部或部分      最主要应用在字符串匹配中\n",
    "    ......"
   ]
  },
  {
   "cell_type": "markdown",
   "metadata": {},
   "source": [
    "## 语法"
   ]
  },
  {
   "cell_type": "markdown",
   "metadata": {},
   "source": [
    "> 由字符和操作符构成"
   ]
  },
  {
   "cell_type": "markdown",
   "metadata": {},
   "source": [
    "### 常用操作符"
   ]
  },
  {
   "cell_type": "markdown",
   "metadata": {},
   "source": [
    "|操作符|说明|实例|\n",
    "|--|--|--|\n",
    "|{m}|扩展前一个字符m次|ab{2}c表示abbc|\n",
    "|.|表示任何单个字符，除\\n| |\n",
    "|[]|字符集，对单个字符给出取值范围|[abc]表示a、b、c，[a-z]表示a到z单个字符|\n",
    "|[^]|非字符集，对单个字符给出排除范围|[^abc]表示非a或b或c的单个字符|\n",
    "|*|前一个字符0次或无限次扩展|abc*表示ab、abc、abcc、abccc等|\n",
    "|+|前一个字符1次或无限次扩展|abc+表示abcc、abccc等|\n",
    "|?|前一个字符0次或1次扩展|abc?表示ab、abc|\n",
    "|||左右表达式任意一个|abc\\def表示abc、def|\n",
    "\n"
   ]
  },
  {
   "cell_type": "markdown",
   "metadata": {},
   "source": [
    "|操作符|说明|实例|\n",
    "|--|--|--|\n",
    "|{m}|扩展前一个字符m次|ab{2}c表示abbc|\n",
    "|{m,n}|扩展前一个字符m至n次（含n）|ab{1,2}c表示abc、abbc|\n",
    "|^|匹配字符串开头|^abc表示abc且在一个字符串的开头|\n",
    "| $ |匹配字符串结尾 | abc$表示abc且在一个字符串的结尾|\n",
    "|()|分组标记，内部只能使用\\（竖直）操作符|(abc)表示abc,(abc\\def)表示abc\\def|\n",
    "|\\d|数字，等价于[0-9]| |\n",
    "|\\w|单词字符，等价于[A-Za-z0-9_]| |\n",
    "|\\s|匹配空白字符，包括制表符、换行符、回车符和空格符|\n",
    "|\\S|匹配非空白字符|\n"
   ]
  },
  {
   "cell_type": "markdown",
   "metadata": {},
   "source": [
    "#### 语法实例"
   ]
  },
  {
   "cell_type": "raw",
   "metadata": {},
   "source": [
    "P(Y|YT|YTH|YTHO)N      PN PYN  PYTN PYTHN PYTHON\n",
    "PYTHON+                 PYTHON PYTHONNN PYTHONNNN...\n",
    "PY[TH]ON                 PYTON PYHON\n",
    "PY[^TH]?ON                PYAON PYBON ...\n",
    "PY{:3}N                   PYN PYYN PYYYN PN"
   ]
  },
  {
   "cell_type": "markdown",
   "metadata": {},
   "source": [
    "#### 经典实例"
   ]
  },
  {
   "cell_type": "raw",
   "metadata": {},
   "source": [
    "^[A-Za-z]+$                      由26个字母组成的字符串\n",
    "^[A-Za-z0-9]+$                    由26个字母和数字组成的字符串\n",
    "^‐?\\d+$                           整数形式的字符串\n",
    "^[0‐9]*[1‐9][0‐9]*$             正整数形式的字符串\n",
    "[1‐9]\\d{5}                      中国境内邮政编码，6位\n",
    "[\\u4e00‐\\u9fa5]                 匹配中文字符\n",
    "\\d{3}‐\\d{8}|\\d{4}‐\\d{7}        国内电话号码，010-68913536\n"
   ]
  },
  {
   "cell_type": "markdown",
   "metadata": {},
   "source": [
    "#### 匹配IP地址的正则表示式"
   ]
  },
  {
   "cell_type": "raw",
   "metadata": {},
   "source": [
    "IP地址字符串形式的正则表达式（IP地址分4段，每段0-255）\n",
    "\\d+.\\d+.\\d+.\\d  或 \\d{1,3}.\\d{1,3}.\\d{1,3}.\\d{1,3}\n",
    "精确写法：  0-99       [1-9]?\\d\n",
    "            100-199     1\\d{2}\n",
    "            200-249     2[0,4]\\d\n",
    "            250-255      25[0,5]"
   ]
  },
  {
   "cell_type": "markdown",
   "metadata": {},
   "source": [
    "## Re库的基本使用"
   ]
  },
  {
   "cell_type": "markdown",
   "metadata": {},
   "source": [
    "### Re库介绍"
   ]
  },
  {
   "cell_type": "markdown",
   "metadata": {},
   "source": [
    "> Re库是Python的标准库，主要用于字符串匹配\n"
   ]
  },
  {
   "cell_type": "code",
   "execution_count": 1,
   "metadata": {},
   "outputs": [],
   "source": [
    "import re"
   ]
  },
  {
   "cell_type": "markdown",
   "metadata": {},
   "source": [
    "### 正则表达式的表示类型"
   ]
  },
  {
   "cell_type": "markdown",
   "metadata": {},
   "source": [
    "* raw string 类型（原生字符串类型）\n"
   ]
  },
  {
   "cell_type": "raw",
   "metadata": {},
   "source": [
    "表示为：r'text'\n",
    "e.g:   r'[1-9]\\d{5}\n",
    "       r'\\d{3}-\\d{8}|\\d{4}-\\d{7}\n",
    "    raw string是不包含对转义符再次转义的字符串"
   ]
  },
  {
   "cell_type": "markdown",
   "metadata": {},
   "source": [
    "* string类型"
   ]
  },
  {
   "cell_type": "raw",
   "metadata": {},
   "source": [
    "更繁琐\n",
    "e.g:  '[1-9]\\\\d{5}'\n",
    "       '\\\\d{3}-\\\\d{4}-\\\\d{7}'\n",
    "    建议：当正则表达式包含转义符时，使用raw string\n",
    "     "
   ]
  },
  {
   "cell_type": "markdown",
   "metadata": {},
   "source": [
    "### Re库主要功能函数"
   ]
  },
  {
   "cell_type": "markdown",
   "metadata": {},
   "source": [
    "|函数|说明|\n",
    "|--|--|\n",
    "|re.search()|在一个字符串中搜索匹配正则表达式的第一个位置，返回**match对象**|\n",
    "|re.match()|从一个字符串的开始位置起匹配正则表达式，返回**match对象**|\n",
    "|re.findall()|搜索字符串，以列表类型返回全部能匹配的子串|\n",
    "|re.split()|将一个字符串按照正则表达式匹配结果进行分割，返回列表类型|\n",
    "|re.finditer()|搜索字符串，返回一个匹配结果的迭代类型，每个迭代元素是**match对象**|\n",
    "|re.sub()|在一个字符串中替换所有匹配正则表达式的子串，返回替换后的字符串|"
   ]
  },
  {
   "cell_type": "markdown",
   "metadata": {},
   "source": [
    "* re.search(pattern,string,flags=0)\n",
    "    * pattern: 正则表达式的字符串或原生字符串\n",
    "    * string : 待匹配字符串\n",
    "    * flags :  正则表达式使用时的控制标记"
   ]
  },
  {
   "cell_type": "markdown",
   "metadata": {},
   "source": [
    "|常用标记|说明|\n",
    "|--|-|\n",
    "|re.I     re.IGNORE CASE|忽略正则表达式的大小写，[A-Z]能够匹配小写字符|\n",
    "|re.M     re.MULTILINE|正则表达式中的^操作符能够将给定字符串的每行当作匹配开始|\n",
    "|re.S      re.DOTALL|正则表达式中的.操作符能够匹配所有字符，默认匹配除换行外的所有字符|"
   ]
  },
  {
   "cell_type": "code",
   "execution_count": 8,
   "metadata": {},
   "outputs": [
    {
     "data": {
      "text/plain": [
       "['data-original=\"http://ww2.sinaimg.cn/bmiddle/9150e4e5gy1g74f16kbfqj20go0figmz.jpg\\n\"']"
      ]
     },
     "execution_count": 8,
     "metadata": {},
     "output_type": "execute_result"
    }
   ],
   "source": [
    "url=\"data-original=\\\"http://ww2.sinaimg.cn/bmiddle/9150e4e5gy1g74f16kbfqj20go0figmz.jpg\\n\\\"\"\n",
    "match=re.compile(r\"data-original=\\\".*?\\\"\",re.S)\n",
    "match.findall(url)"
   ]
  },
  {
   "cell_type": "code",
   "execution_count": 9,
   "metadata": {},
   "outputs": [
    {
     "data": {
      "text/plain": [
       "[]"
      ]
     },
     "execution_count": 9,
     "metadata": {},
     "output_type": "execute_result"
    }
   ],
   "source": [
    "url=\"data-original=\\\"http://ww2.sinaimg.cn/bmiddle/9150e4e5gy1g74f16kbfqj20go0figmz.jpg\\n\\\"\"\n",
    "match=re.compile(r\"data-original=\\\".*?\\\"\")\n",
    "match.findall(url)"
   ]
  },
  {
   "cell_type": "code",
   "execution_count": 21,
   "metadata": {},
   "outputs": [
    {
     "name": "stdout",
     "output_type": "stream",
     "text": [
      "['http://ww2.sinaimg.cn/bmiddle/9150e4e5gy1g74f16kbfqj20go0figmz.jpg']\n"
     ]
    }
   ],
   "source": [
    "url=\"data-original=\\\"http://ww2.sinaimg.cn/bmiddle/9150e4e5gy1g74f16kbfqj20go0figmz.jpg\\\"\"\n",
    "match=re.compile(r\"data-original=\\\"(.*)\\\"\",re.S)\n",
    "print(match.findall(url))"
   ]
  },
  {
   "cell_type": "markdown",
   "metadata": {},
   "source": [
    "* re.match(pattern,string,flags=0)\n",
    "> 从一个字符串的开始位置起匹配正则表达式，返回match对象"
   ]
  },
  {
   "cell_type": "code",
   "execution_count": 10,
   "metadata": {},
   "outputs": [],
   "source": [
    "import re\n",
    "match=re.match(r'[1-9]\\d{5}','BIT 100081')\n",
    "if match:\n",
    "    print(match.group(0))"
   ]
  },
  {
   "cell_type": "code",
   "execution_count": 11,
   "metadata": {},
   "outputs": [
    {
     "ename": "AttributeError",
     "evalue": "'NoneType' object has no attribute 'group'",
     "output_type": "error",
     "traceback": [
      "\u001b[1;31m---------------------------------------------------------------------------\u001b[0m",
      "\u001b[1;31mAttributeError\u001b[0m                            Traceback (most recent call last)",
      "\u001b[1;32m<ipython-input-11-4d972d6c40f1>\u001b[0m in \u001b[0;36m<module>\u001b[1;34m()\u001b[0m\n\u001b[1;32m----> 1\u001b[1;33m \u001b[0mmatch\u001b[0m\u001b[1;33m.\u001b[0m\u001b[0mgroup\u001b[0m\u001b[1;33m(\u001b[0m\u001b[1;36m0\u001b[0m\u001b[1;33m)\u001b[0m\u001b[1;33m\u001b[0m\u001b[1;33m\u001b[0m\u001b[0m\n\u001b[0m",
      "\u001b[1;31mAttributeError\u001b[0m: 'NoneType' object has no attribute 'group'"
     ]
    }
   ],
   "source": [
    "match.group(0)"
   ]
  },
  {
   "cell_type": "code",
   "execution_count": 12,
   "metadata": {},
   "outputs": [
    {
     "name": "stdout",
     "output_type": "stream",
     "text": [
      "100081\n"
     ]
    },
    {
     "data": {
      "text/plain": [
       "re.Match"
      ]
     },
     "execution_count": 12,
     "metadata": {},
     "output_type": "execute_result"
    }
   ],
   "source": [
    "match=re.match(r'[1-9]\\d{5}','100081  BIT')\n",
    "if match:\n",
    "    print(match.group(0))\n",
    "type(match)"
   ]
  },
  {
   "cell_type": "markdown",
   "metadata": {},
   "source": [
    "* re.findall(pattern,string,flags=0)\n",
    "> 搜索字符串，以列表类型返回全部能匹配的子串"
   ]
  },
  {
   "cell_type": "code",
   "execution_count": 3,
   "metadata": {},
   "outputs": [
    {
     "data": {
      "text/plain": [
       "['100818', '100084']"
      ]
     },
     "execution_count": 3,
     "metadata": {},
     "output_type": "execute_result"
    }
   ],
   "source": [
    "ls=re.findall('[1-9]\\d{5}','BIT100818 TSU100084')\n",
    "ls"
   ]
  },
  {
   "cell_type": "markdown",
   "metadata": {},
   "source": [
    "* re.split(pattern,string,maxsplit=0,flags=0)\n",
    "    * maxsplit:最大分割数，剩余部分作为最后一个元素输出\n",
    "> 将一个字符串按照正则表达式匹配结果进行分割返回列表类型\n",
    "\n",
    "    "
   ]
  },
  {
   "cell_type": "code",
   "execution_count": 4,
   "metadata": {},
   "outputs": [
    {
     "data": {
      "text/plain": [
       "['BIT', ' TSU', '']"
      ]
     },
     "execution_count": 4,
     "metadata": {},
     "output_type": "execute_result"
    }
   ],
   "source": [
    "re.split('[1-9]\\d{5}','BIT100818 TSU100084')"
   ]
  },
  {
   "cell_type": "code",
   "execution_count": 5,
   "metadata": {},
   "outputs": [
    {
     "data": {
      "text/plain": [
       "['BIT', ' TSU100084']"
      ]
     },
     "execution_count": 5,
     "metadata": {},
     "output_type": "execute_result"
    }
   ],
   "source": [
    "re.split('[1-9]\\d{5}','BIT100818 TSU100084',maxsplit=1)"
   ]
  },
  {
   "cell_type": "code",
   "execution_count": 14,
   "metadata": {},
   "outputs": [
    {
     "data": {
      "text/plain": [
       "['BIT', ' TSU', ' PK869422']"
      ]
     },
     "execution_count": 14,
     "metadata": {},
     "output_type": "execute_result"
    }
   ],
   "source": [
    "re.split('[1-9]\\d{5}','BIT123550 TSU526854 PK869422',maxsplit=2)"
   ]
  },
  {
   "cell_type": "markdown",
   "metadata": {},
   "source": [
    "* re.finditer(pattern,string,flags=0)\n",
    "> 搜索字符串，返回一个匹配结果的迭代类型，每个迭代元素是match对象"
   ]
  },
  {
   "cell_type": "code",
   "execution_count": 15,
   "metadata": {},
   "outputs": [
    {
     "name": "stdout",
     "output_type": "stream",
     "text": [
      "100818\n",
      "100084\n"
     ]
    }
   ],
   "source": [
    "for m in re.finditer('[1-9]\\d{5}','BIT100818 TSU100084'):\n",
    "    if m:\n",
    "        print(m.group(0))"
   ]
  },
  {
   "cell_type": "markdown",
   "metadata": {},
   "source": [
    "* re.sub(pattern,repl,string,count=0,flags=0)\n",
    "    * repl:替换匹配字符串的字符串\n",
    "    * count:匹配的最大替换次数\n",
    "> 在一个字符串中替换所有匹配正则表达式的子串，返回替换后的字符串\n"
   ]
  },
  {
   "cell_type": "code",
   "execution_count": 1,
   "metadata": {},
   "outputs": [
    {
     "data": {
      "text/plain": [
       "'bit:syj dds:syj df:syjd'"
      ]
     },
     "execution_count": 1,
     "metadata": {},
     "output_type": "execute_result"
    }
   ],
   "source": [
    "import re\n",
    "re.sub('[1-9]\\d{5}',':syj','bit123402 dds545443 df451236d')"
   ]
  },
  {
   "cell_type": "markdown",
   "metadata": {},
   "source": [
    "### Re库的另一种等价用法"
   ]
  },
  {
   "cell_type": "code",
   "execution_count": null,
   "metadata": {},
   "outputs": [],
   "source": [
    "rst=re.search(r'[1-9]\\d{5}','BIT 100081')  #函数式用法：一次性操作\n"
   ]
  },
  {
   "cell_type": "code",
   "execution_count": null,
   "metadata": {},
   "outputs": [],
   "source": [
    "pat=re.compile(r'[1-9]\\d{5}')\n",
    "rst=pat.search('BIT 100081')       #面向对象用法：编译后的多次操作"
   ]
  },
  {
   "cell_type": "markdown",
   "metadata": {},
   "source": [
    "* regex=re.complie(pattern,flags=0)\n",
    "> 将正则表达式的字符串形式编译成正则表达式对象"
   ]
  },
  {
   "cell_type": "code",
   "execution_count": null,
   "metadata": {},
   "outputs": [],
   "source": [
    "regex=re.compile(r'[1-9]\\d{5}')"
   ]
  },
  {
   "cell_type": "code",
   "execution_count": null,
   "metadata": {},
   "outputs": [],
   "source": [
    "if regex.search('bit456328fff'):\n",
    "    print(regex.search('bit456328fff').group(0))"
   ]
  },
  {
   "cell_type": "markdown",
   "metadata": {},
   "source": [
    "## Re库的Match对象"
   ]
  },
  {
   "cell_type": "markdown",
   "metadata": {},
   "source": [
    "### Match对象介绍\n",
    "> Match对象是一次匹配结果，包含匹配的很多信息"
   ]
  },
  {
   "cell_type": "code",
   "execution_count": null,
   "metadata": {},
   "outputs": [],
   "source": [
    "match=re.search(r'[1-9]\\d{5}','BIT 100081')\n",
    "if match:\n",
    "    print(match.group(0))\n",
    "type(match)"
   ]
  },
  {
   "cell_type": "markdown",
   "metadata": {},
   "source": [
    "### Match对象属性"
   ]
  },
  {
   "cell_type": "markdown",
   "metadata": {},
   "source": [
    "|属性|说明|\n",
    "|-|-|\n",
    "|.string|待匹配文本|\n",
    "|.re|匹配时使用的patter对象（正则表达式）|\n",
    "|.pos|正则表达式搜索文本的开始位置|\n",
    "|.endpos|正则表达式搜索文本的结束位置|"
   ]
  },
  {
   "cell_type": "markdown",
   "metadata": {},
   "source": [
    "### Match对象方法"
   ]
  },
  {
   "cell_type": "markdown",
   "metadata": {},
   "source": [
    "|方法|说明|\n",
    "|-|-|\n",
    "|.group(0)|获得匹配后的字符串|\n",
    "|.start()|匹配字符串在原始字符串的开始位置|\n",
    "|.end()|匹配字符串在原始字符串的结束位置|\n",
    "|.span()|返回(.start(),end())|"
   ]
  },
  {
   "cell_type": "markdown",
   "metadata": {},
   "source": [
    "### Match对象实例"
   ]
  },
  {
   "cell_type": "code",
   "execution_count": 5,
   "metadata": {},
   "outputs": [],
   "source": [
    "m=re.search(r'\\d[0-9]{7}','syj20000906')"
   ]
  },
  {
   "cell_type": "code",
   "execution_count": 6,
   "metadata": {},
   "outputs": [
    {
     "data": {
      "text/plain": [
       "'syj20000906'"
      ]
     },
     "execution_count": 6,
     "metadata": {},
     "output_type": "execute_result"
    }
   ],
   "source": [
    "m.string"
   ]
  },
  {
   "cell_type": "code",
   "execution_count": 7,
   "metadata": {},
   "outputs": [
    {
     "data": {
      "text/plain": [
       "re.compile(r'\\d[0-9]{7}', re.UNICODE)"
      ]
     },
     "execution_count": 7,
     "metadata": {},
     "output_type": "execute_result"
    }
   ],
   "source": [
    "m.re"
   ]
  },
  {
   "cell_type": "code",
   "execution_count": 8,
   "metadata": {},
   "outputs": [
    {
     "data": {
      "text/plain": [
       "0"
      ]
     },
     "execution_count": 8,
     "metadata": {},
     "output_type": "execute_result"
    }
   ],
   "source": [
    "m.pos"
   ]
  },
  {
   "cell_type": "code",
   "execution_count": 9,
   "metadata": {},
   "outputs": [
    {
     "data": {
      "text/plain": [
       "11"
      ]
     },
     "execution_count": 9,
     "metadata": {},
     "output_type": "execute_result"
    }
   ],
   "source": [
    "m.endpos"
   ]
  },
  {
   "cell_type": "code",
   "execution_count": 10,
   "metadata": {},
   "outputs": [
    {
     "data": {
      "text/plain": [
       "'20000906'"
      ]
     },
     "execution_count": 10,
     "metadata": {},
     "output_type": "execute_result"
    }
   ],
   "source": [
    "m.group(0)"
   ]
  },
  {
   "cell_type": "code",
   "execution_count": 11,
   "metadata": {},
   "outputs": [
    {
     "data": {
      "text/plain": [
       "(3, 11)"
      ]
     },
     "execution_count": 11,
     "metadata": {},
     "output_type": "execute_result"
    }
   ],
   "source": [
    "m.span()"
   ]
  },
  {
   "cell_type": "code",
   "execution_count": 12,
   "metadata": {},
   "outputs": [
    {
     "data": {
      "text/plain": [
       "tuple"
      ]
     },
     "execution_count": 12,
     "metadata": {},
     "output_type": "execute_result"
    }
   ],
   "source": [
    "type(m.span())"
   ]
  },
  {
   "cell_type": "markdown",
   "metadata": {},
   "source": [
    "## Re库的贪婪匹配和最小匹配"
   ]
  },
  {
   "cell_type": "code",
   "execution_count": 4,
   "metadata": {},
   "outputs": [
    {
     "data": {
      "text/plain": [
       "'PYANBNCNDN'"
      ]
     },
     "execution_count": 4,
     "metadata": {},
     "output_type": "execute_result"
    }
   ],
   "source": [
    "match=re.search(r'PY.*N','PYANBNCNDN')\n",
    "match.group(0)        #同时匹配长短不同的多项，返回哪一个？"
   ]
  },
  {
   "cell_type": "markdown",
   "metadata": {},
   "source": [
    "#### 贪婪匹配\n",
    "> Re库默认采用贪婪匹配，即输出匹配最长的子串"
   ]
  },
  {
   "cell_type": "markdown",
   "metadata": {},
   "source": [
    "#### 最小匹配\n",
    "> 输出最小字串"
   ]
  },
  {
   "cell_type": "code",
   "execution_count": 5,
   "metadata": {},
   "outputs": [
    {
     "data": {
      "text/plain": [
       "'PYAN'"
      ]
     },
     "execution_count": 5,
     "metadata": {},
     "output_type": "execute_result"
    }
   ],
   "source": [
    "import re\n",
    "match=re.search(r'PY.*?N','PYANBNCNDN')\n",
    "match.group(0) "
   ]
  },
  {
   "cell_type": "markdown",
   "metadata": {},
   "source": [
    "###### 最小匹配操作符\n",
    "|操作符|说明|\n",
    "|-|-|\n",
    "|*?| 前一个字符0次或无限次扩展，最小匹配|\n",
    "|+? |前一个字符1次或无限次扩展，最小匹配|\n",
    "|?? |前一个字符0次或1次扩展，最小匹配|\n",
    "|{m,n}? |扩展前一个字符m至n次（含n），最小匹配|\n",
    "> 只要长度输出可能不同的，都可以通过在操作符后增加？变成最小匹配"
   ]
  }
 ],
 "metadata": {
  "kernelspec": {
   "display_name": "Python 3",
   "language": "python",
   "name": "python3"
  },
  "language_info": {
   "codemirror_mode": {
    "name": "ipython",
    "version": 3
   },
   "file_extension": ".py",
   "mimetype": "text/x-python",
   "name": "python",
   "nbconvert_exporter": "python",
   "pygments_lexer": "ipython3",
   "version": "3.7.0"
  },
  "toc": {
   "base_numbering": 1,
   "nav_menu": {},
   "number_sections": true,
   "sideBar": true,
   "skip_h1_title": false,
   "title_cell": "Table of Contents",
   "title_sidebar": "Contents",
   "toc_cell": false,
   "toc_position": {
    "height": "calc(100% - 180px)",
    "left": "10px",
    "top": "150px",
    "width": "298.792px"
   },
   "toc_section_display": true,
   "toc_window_display": true
  }
 },
 "nbformat": 4,
 "nbformat_minor": 2
}
