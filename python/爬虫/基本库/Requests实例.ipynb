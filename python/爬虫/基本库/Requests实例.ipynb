{
 "cells": [
  {
   "cell_type": "markdown",
   "metadata": {},
   "source": [
    "## 京东商品页面的爬取"
   ]
  },
  {
   "cell_type": "code",
   "execution_count": 12,
   "metadata": {},
   "outputs": [
    {
     "name": "stdout",
     "output_type": "stream",
     "text": [
      "<!DOCTYPE HTML>\n",
      "<html lang=\"zh-CN\">\n",
      "<head>\n",
      "    <!-- shouji -->\n",
      "    <meta http-equiv=\"Content-Type\" content=\"text/html; charset=gbk\" />\n",
      "    <title>【华为荣耀8】荣耀8 4GB+64GB 全网通4G手机 魅海蓝【行情 报价 价格 评测】-京东</title>\n",
      "    <meta name=\"keywords\" content=\"HUAWEI荣耀8,华为荣耀8,华为荣耀8报价,HUAWEI荣耀8报价\"/>\n",
      "    <meta name=\"description\" content=\"【华为荣耀8】京东JD.COM提供华为荣耀8正品行货，并包括HUAWEI荣耀8网购指南，以及华为荣耀8图片、荣耀8参数、荣耀8评论、荣耀8心得、荣耀8技巧等信息，网购华为荣耀8上京东,放心又轻松\" />\n",
      "    <meta name=\"format-detection\" content=\"telephone=no\">\n",
      "    <meta http-equiv=\"mobile-agent\" content=\"format=xhtml; url=//item.m.jd.com/product/2967929.html\">\n",
      "    <meta http-equiv=\"mobile-agent\" content=\"format=html5; url=//item.m.jd.com/product/2967929.html\">\n",
      "    <meta http-equiv=\"X-UA-Compatible\" content=\"IE=Edge\">\n",
      "    <link rel=\"canonical\" href=\"//item.jd.com/2967929.html\"/>\n",
      "        <link rel=\"dns-prefetch\" href=\"//misc.360buyimg.com\"/>\n",
      "    <link rel=\"dns-prefetch\" href=\"//static.360buyimg.com\"/>\n",
      "    <link rel=\"dns-prefetch\" href=\"//img10.360buyimg.com\"/>\n",
      "    <link rel=\"dns\n"
     ]
    }
   ],
   "source": [
    "import requests\n",
    "url='http://item.jd.com/2967929.html'\n",
    "try:\n",
    "    r=requests.get(url)\n",
    "    r.raise_for_status()\n",
    "    r.encoding=r.apparent_encoding\n",
    "    print(r.text[:1000])\n",
    "except:\n",
    "    print('爬取失败')"
   ]
  },
  {
   "cell_type": "markdown",
   "metadata": {},
   "source": [
    "## 亚马逊商品页面的爬取"
   ]
  },
  {
   "cell_type": "code",
   "execution_count": 15,
   "metadata": {},
   "outputs": [
    {
     "name": "stdout",
     "output_type": "stream",
     "text": [
      "Error\n",
      "{'User-Agent': 'python-requests/2.19.1', 'Accept-Encoding': 'gzip, deflate', 'Accept': '*/*', 'Connection': 'keep-alive'}\n"
     ]
    }
   ],
   "source": [
    "try:\n",
    "    url='http://www.amazon.cn/gp/product/B01M8L5Z3Y'\n",
    "    r=requests.get(url)\n",
    "    r.encoding=r.apparent_encoding()\n",
    "    r.raise_for_status()\n",
    "    print(r.text[::200])\n",
    "except:\n",
    "    print('Error')\n",
    "print(r.request.headers)"
   ]
  },
  {
   "cell_type": "code",
   "execution_count": 23,
   "metadata": {},
   "outputs": [
    {
     "name": "stdout",
     "output_type": "stream",
     "text": [
      "<!DOCTYPE html>\n",
      "<!--[if lt IE 7]> <html lang=\"zh-CN\" class=\"a-no-js a-lt-ie9 a-lt-ie8 a-lt-ie7\"> <![endif]-->\n",
      "<!--[if IE 7]>    <html lang=\"zh-CN\" class=\"a-no-js a-lt-ie9 a-lt-ie8\"> <![endif]-->\n",
      "<!--[if IE 8]>    <html lang=\"zh-CN\" class=\"a-no-js a-lt-ie9\"> <![endif]-->\n",
      "<!--[if gt IE 8]><!-->\n",
      "<html class=\"a-no-js\" lang=\"zh-CN\"><!--<![endif]--><head>\n",
      "<meta http-equiv=\"content-type\" content=\"text/html; charset=UTF-8\">\n",
      "<meta charset=\"utf-8\">\n",
      "<meta http-equiv=\"X-UA-Compatible\" content=\"IE=edge,chrome=1\">\n",
      "<title dir=\"ltr\">Amazon CAPTCHA</title>\n",
      "<meta name=\"viewport\" content=\"width=device-width\">\n",
      "<link rel=\"stylesheet\" href=\"https://images-na.ssl-images-amazon.com/images/G/01/AUIClients/AmazonUI-3c913031596ca78a3768f4e934b1cc02ce238101.secure.min._V1_.css\">\n",
      "<script>\n",
      "\n",
      "if (true === true) {\n",
      "    var ue_t0 = (+ new Date()),\n",
      "        ue_csm = window,\n",
      "        ue = { t0: ue_t0, d: function() { return (+new Date() - ue_t0); } },\n",
      "        ue_furl = \"fls-cn.amazon.cn\",\n",
      "        ue_mid = \"AAHKV2X7AFYLW\",\n",
      " \n"
     ]
    }
   ],
   "source": [
    "try:\n",
    "    kv={'user-agent':'Mozilla/5.0'}\n",
    "    r=requests.get(url,headers=kv)\n",
    "    r.encoding='utf-8'\n",
    "    r.raise_for_status()\n",
    "    print(r.text[:1000])\n",
    "except:\n",
    "    print('Error')\n"
   ]
  },
  {
   "cell_type": "code",
   "execution_count": 24,
   "metadata": {},
   "outputs": [
    {
     "name": "stdout",
     "output_type": "stream",
     "text": [
      "200\n"
     ]
    }
   ],
   "source": [
    "print(r.status_code)"
   ]
  },
  {
   "cell_type": "code",
   "execution_count": 26,
   "metadata": {},
   "outputs": [
    {
     "data": {
      "text/plain": [
       "{'user-agent': 'Mozilla/5.0', 'Accept-Encoding': 'gzip, deflate', 'Accept': '*/*', 'Connection': 'keep-alive'}"
      ]
     },
     "execution_count": 26,
     "metadata": {},
     "output_type": "execute_result"
    }
   ],
   "source": [
    "r.request.headers"
   ]
  },
  {
   "cell_type": "markdown",
   "metadata": {},
   "source": [
    "## 百度/360搜索关键词提交"
   ]
  },
  {
   "cell_type": "raw",
   "metadata": {},
   "source": [
    "* 搜索关键词提交接口\n",
    "百度   ：http://www.baidu.com/s?wd=keyword\n",
    "360    :http://www.so.com/s?q=keyword"
   ]
  },
  {
   "cell_type": "code",
   "execution_count": 33,
   "metadata": {},
   "outputs": [
    {
     "data": {
      "text/plain": [
       "'http://www.baidu.com/s?wd=python'"
      ]
     },
     "execution_count": 33,
     "metadata": {},
     "output_type": "execute_result"
    }
   ],
   "source": [
    "url='http://www.baidu.com/s'\n",
    "r=requests.get(url,params={'wd':'python'})\n",
    "r.request.url"
   ]
  },
  {
   "cell_type": "code",
   "execution_count": null,
   "metadata": {},
   "outputs": [],
   "source": [
    "import requests\n",
    "keyword='Python'\n",
    "try:\n",
    "    kv={'wd':keyword}\n",
    "    r=requests.get('http://www.baidu.com/s',params=kv)   #在url后添加参数值kv\n",
    "    r.raise_for_status()\n",
    "    print(len(r.text))\n",
    "except:\n",
    "    print('爬取失败')\n"
   ]
  },
  {
   "cell_type": "code",
   "execution_count": null,
   "metadata": {},
   "outputs": [],
   "source": [
    "try:\n",
    "    kv={'wd':keyword}\n",
    "    r=requests.get(url,params=kv)\n",
    "    r.raise_for_status()\n",
    "    print(len(r.text))\n",
    "except:\n",
    "    print('Error')"
   ]
  },
  {
   "cell_type": "markdown",
   "metadata": {},
   "source": [
    "## 网络图片的爬取和存储"
   ]
  },
  {
   "cell_type": "markdown",
   "metadata": {},
   "source": [
    "* 网络图片的爬取"
   ]
  },
  {
   "cell_type": "raw",
   "metadata": {},
   "source": [
    "网络图片的格式：\n",
    "http://www.example.com/picture.jpg\n",
    "国家地理 ：http://www.nationalgeographic.com.cn/"
   ]
  },
  {
   "cell_type": "code",
   "execution_count": 2,
   "metadata": {},
   "outputs": [
    {
     "name": "stdout",
     "output_type": "stream",
     "text": [
      "文件保存成功\n"
     ]
    }
   ],
   "source": [
    "import requests\n",
    "import os\n",
    "url='http://image.nationalgeographic.com.cn/2017/0211/20170211061910157.jpg'\n",
    "root='D://新建文件夹//'\n",
    "path=root+url.split('/')[-1]\n",
    "try:\n",
    "    if not os.path.exists(root):\n",
    "        os.mkdir(root)\n",
    "    if not os.path.exists(path):\n",
    "        r=requests.get(url)\n",
    "        with open(path,'wb') as f:\n",
    "            f.write(r.content)\n",
    "            f.close()\n",
    "            print('文件保存成功')\n",
    "    else:\n",
    "        print('文件已存在')\n",
    "except:\n",
    "    print('爬取失败')\n"
   ]
  },
  {
   "cell_type": "markdown",
   "metadata": {},
   "source": [
    "## IP地址归属地的自动查询"
   ]
  },
  {
   "cell_type": "code",
   "execution_count": 5,
   "metadata": {},
   "outputs": [
    {
     "name": "stdout",
     "output_type": "stream",
     "text": [
      "value=\"查询\" class=\"form-btn\" />\r\n",
      "\t\t\t\t\t</form>\r\n",
      "\t\t\t\t</div>\r\n",
      "\t\t\t\t<div class=\"query-hd\">ip138.com IP查询(搜索IP地址的地理位置)</div>\r\n",
      "\t\t\t\t<h1 class=\"query\">您查询的IP：202.204.80.112</h1><p class=\"result\">本站主数据：北京市海淀区 北京理工大学 教育网</p><p class=\"result\">参考数据一：北京市 北京理工大学</p>\r\n",
      "\r\n",
      "\t\t\t</div>\r\n",
      "\t\t</div>\r\n",
      "\r\n",
      "\t\t<div class=\"footer\">\r\n",
      "\t\t\t<a href=\"http://www.miitbeian.gov.cn/\" rel=\"nofollow\" target=\"_blank\">沪ICP备10013467号-1</a>\r\n",
      "\t\t</div>\r\n",
      "\t</div>\r\n",
      "\r\n",
      "\t<script type=\"text/javascript\" src=\"/script/common.js\"></script></body>\r\n",
      "</html>\r\n",
      "\n"
     ]
    }
   ],
   "source": [
    "import requests\n",
    "try:\n",
    "    url='http://m.ip138.com/ip.asp?ip='\n",
    "    r=requests.get(url+'202.204.80.112')\n",
    "    r.raise_for_status()\n",
    "    r.encoding=r.apparent_encoding\n",
    "    print(r.text[-500:])\n",
    "except:\n",
    "    print('爬取失败')"
   ]
  },
  {
   "cell_type": "code",
   "execution_count": 3,
   "metadata": {},
   "outputs": [
    {
     "name": "stdout",
     "output_type": "stream",
     "text": [
      "Help on function exists in module genericpath:\n",
      "\n",
      "exists(path)\n",
      "    Test whether a path exists.  Returns False for broken symbolic links\n",
      "\n"
     ]
    }
   ],
   "source": [
    "import os\n",
    "help(os.path.exists)"
   ]
  }
 ],
 "metadata": {
  "kernelspec": {
   "display_name": "Python 3",
   "language": "python",
   "name": "python3"
  },
  "language_info": {
   "codemirror_mode": {
    "name": "ipython",
    "version": 3
   },
   "file_extension": ".py",
   "mimetype": "text/x-python",
   "name": "python",
   "nbconvert_exporter": "python",
   "pygments_lexer": "ipython3",
   "version": "3.7.4"
  }
 },
 "nbformat": 4,
 "nbformat_minor": 2
}
