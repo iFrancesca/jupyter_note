{
 "cells": [
  {
   "cell_type": "markdown",
   "metadata": {},
   "source": [
    "XPath:XML PathvLanguage,即XML路径语言，是一门在XML文档中查找信息的语言。\n",
    "        最初是用来搜寻XML文档的，但它同样适用于HTML文档的搜索"
   ]
  },
  {
   "cell_type": "markdown",
   "metadata": {},
   "source": [
    "**解析html字符串**:使用lxml.etree.HTML进行解析"
   ]
  },
  {
   "cell_type": "code",
   "execution_count": 57,
   "metadata": {},
   "outputs": [],
   "source": [
    "text='''\n",
    "<html><body><div>\n",
    "<u1>\n",
    "<li class=\"item-0\"><a herf=\"link1.html\">frist item</a></li>\n",
    "<li class=\"item-1\"><a herf=\"link2.html\">seconde item</a></li>\n",
    "<li class=\"item-3\"><a herf=\"link3.html\">third item</a></li>\n",
    "<li class=\"item-3\"><a herf=\"link4.html\">fourth item</a></li>\n",
    "<li class=\"item-4\"><a herf=\"link5.html\">fifth item</a>\n",
    "</li></u1>\n",
    "</div>\n",
    "\n",
    "  </body></html>\n",
    "  '''"
   ]
  },
  {
   "cell_type": "code",
   "execution_count": 58,
   "metadata": {},
   "outputs": [
    {
     "name": "stdout",
     "output_type": "stream",
     "text": [
      "<Element html at 0x1fc865f7f48> <class 'lxml.etree._Element'>\n",
      "<html><body><div>\n",
      "<u1>\n",
      "<li class=\"item-0\"><a herf=\"link1.html\">frist item</a></li>\n",
      "<li class=\"item-1\"><a herf=\"link2.html\">seconde item</a></li>\n",
      "<li class=\"item-2\"><a herf=\"link3.html\">third item</a></li>\n",
      "<li class=\"item-3\"><a herf=\"link4.html\">fourth item</a></li>\n",
      "<li class=\"item-4\"><a herf=\"link5.html\">fifth item</a>\n",
      "</li></u1>\n",
      "</div>\n",
      "\n",
      "  </body></html>\n"
     ]
    }
   ],
   "source": [
    "htmlElement=etree.HTML(text)\n",
    "print(htmlElement,type(htmlElement))\n",
    "print(etree.tostring(htmlElement,encoding='utf-8').decode('utf-8'))"
   ]
  },
  {
   "cell_type": "markdown",
   "metadata": {},
   "source": [
    "**解析hrml文件**：使用lxml.etree.parse进行解析"
   ]
  },
  {
   "cell_type": "code",
   "execution_count": 20,
   "metadata": {},
   "outputs": [
    {
     "name": "stdout",
     "output_type": "stream",
     "text": [
      "<html>\n",
      " <head>\n",
      "  <title>Directions for Starbuzz Coffee</title>\n",
      " </head>\n",
      " <body>\n",
      "  <h1>First</h1>\n",
      "  <p>......</p>\n",
      "  <h2>Second</h2>\n",
      "  <p>......</p>\n",
      "  <h3>Third</h3>\n",
      "  <p>......</p>\n",
      " </body>\n",
      " <a href=\"../lounge.html\">Back to lounge</a>\n",
      "</html>\n"
     ]
    }
   ],
   "source": [
    "from lxml import etree\n",
    "htmlElement=etree.parse('D:\\\\html\\\\code\\\\Starbuzz Coffee\\\\lounge\\\\about\\\\directions.html')\n",
    "print(etree.tostring(htmlElement,encoding='utf-8').decode('utf-8'))"
   ]
  },
  {
   "cell_type": "markdown",
   "metadata": {},
   "source": [
    "## XPath常用规则\n"
   ]
  },
  {
   "cell_type": "markdown",
   "metadata": {},
   "source": [
    "|表达式|描述|\n",
    "|-|-|\n",
    "|nodename|选取此节点的所有子节点|\n",
    "|/|从当前节点选取直接子节点|\n",
    "|//|从当前节点选取子孙节点|\n",
    "|.|选取当前节点|\n",
    "|..|选取当前节点的父节点|\n",
    "|@|选取属性"
   ]
  },
  {
   "cell_type": "markdown",
   "metadata": {},
   "source": [
    "> e.g://title[@lang='eng']   选择所有名称为title，同时属性lang的值为eng的节点"
   ]
  },
  {
   "cell_type": "markdown",
   "metadata": {},
   "source": [
    "* 通过lxml库，利用XPath进行html的解析"
   ]
  },
  {
   "cell_type": "code",
   "execution_count": 56,
   "metadata": {},
   "outputs": [
    {
     "name": "stdout",
     "output_type": "stream",
     "text": [
      "<class 'bytes'>\n",
      "<html><body><div>\n",
      "<u1>\n",
      "<li class=\"item-0\"><a herf=\"link1.html\">frist item</a></li>\n",
      "<li class=\"item-1\"><a herf=\"link2.html\">seconde item</a></li>\n",
      "<li class=\"item-2\"><a herf=\"link3.html\">third item</a></li>\n",
      "<li class=\"item-3\"><a herf=\"link4.html\">fourth item</a></li>\n",
      "<li class=\"item-4\"><a herf=\"link5.html\">fifth item</a>\n",
      "</li></u1>\n",
      "</div>\n",
      "\n",
      "  </body></html>\n",
      "<class 'str'>\n"
     ]
    }
   ],
   "source": [
    "from lxml import etree\n",
    "text='''\n",
    "<div>\n",
    "<u1>\n",
    "<li class=\"item-0\"><a herf=\"link1.html\">frist item</a></li>\n",
    "<li class=\"item-1\"><a herf=\"link2.html\">seconde item</a></li>\n",
    "<li class=\"item-2\"><a herf=\"link3.html\">third item</a></li>\n",
    "<li class=\"item-3\"><a herf=\"link4.html\">fourth item</a></li>\n",
    "<li class=\"item-4\"><a herf=\"link5.html\">fifth item</a>\n",
    "</u1>\n",
    "</div>\n",
    "\n",
    "  '''\n",
    "html=etree.HTML(text)\n",
    "result=etree.tostring(html)   #li节点的标签被补全，并自动添加了body\\html节点\n",
    "print(type(result))\n",
    "print(result.decode('utf-8'))\n",
    "print(type(result.decode('utf-8')))"
   ]
  },
  {
   "cell_type": "markdown",
   "metadata": {},
   "source": [
    "* **所有节点**"
   ]
  },
  {
   "cell_type": "code",
   "execution_count": 44,
   "metadata": {},
   "outputs": [
    {
     "name": "stdout",
     "output_type": "stream",
     "text": [
      "[<Element html at 0x1fc86619648>, <Element body at 0x1fc86602ac8>, <Element div at 0x1fc86602348>, <Element u1 at 0x1fc86602188>, <Element li at 0x1fc86602248>, <Element a at 0x1fc86602108>, <Element li at 0x1fc86602608>, <Element a at 0x1fc86602748>, <Element li at 0x1fc86602208>, <Element a at 0x1fc86602148>, <Element li at 0x1fc866024c8>, <Element a at 0x1fc86602948>, <Element li at 0x1fc86602888>, <Element a at 0x1fc86602488>]\n"
     ]
    }
   ],
   "source": [
    "html=etree.parse('D:\\\\html\\\\code\\\\text.html',etree.HTMLParser())\n",
    "result=html.xpath('//*')\n",
    "print(result)\n"
   ]
  },
  {
   "cell_type": "code",
   "execution_count": 46,
   "metadata": {},
   "outputs": [
    {
     "name": "stdout",
     "output_type": "stream",
     "text": [
      "[<Element li at 0x1fc8663e2c8>, <Element li at 0x1fc8663e308>, <Element li at 0x1fc8663e348>, <Element li at 0x1fc8663e388>, <Element li at 0x1fc8663e3c8>] \n",
      " <Element li at 0x1fc8663e2c8>\n"
     ]
    }
   ],
   "source": [
    "result=html.xpath('//li')\n",
    "print(result,'\\n',result[0])"
   ]
  },
  {
   "cell_type": "markdown",
   "metadata": {},
   "source": [
    "* **子节点**"
   ]
  },
  {
   "cell_type": "code",
   "execution_count": 64,
   "metadata": {},
   "outputs": [
    {
     "name": "stdout",
     "output_type": "stream",
     "text": [
      "[<Element a at 0x1fc86632588>, <Element a at 0x1fc86650908>, <Element a at 0x1fc866508c8>, <Element a at 0x1fc86650048>, <Element a at 0x1fc866501c8>]\n"
     ]
    }
   ],
   "source": [
    "html=etree.parse('D:\\\\html\\\\code\\\\text.html')\n",
    "result=html.xpath('//li/a')\n",
    "print(result)"
   ]
  },
  {
   "cell_type": "code",
   "execution_count": 65,
   "metadata": {},
   "outputs": [
    {
     "name": "stdout",
     "output_type": "stream",
     "text": [
      "[<Element a at 0x1fc86650a08>, <Element a at 0x1fc86650a88>, <Element a at 0x1fc86650ac8>, <Element a at 0x1fc86650b08>, <Element a at 0x1fc86650b48>]\n"
     ]
    }
   ],
   "source": [
    "html=etree.parse('D:\\\\html\\\\code\\\\text.html')\n",
    "result=html.xpath('//u1//a')\n",
    "print(result)"
   ]
  },
  {
   "cell_type": "code",
   "execution_count": 66,
   "metadata": {},
   "outputs": [
    {
     "name": "stdout",
     "output_type": "stream",
     "text": [
      "[]\n"
     ]
    }
   ],
   "source": [
    "html=etree.parse('D:\\\\html\\\\code\\\\text.html')\n",
    "result=html.xpath('//ul/a')\n",
    "print(result)"
   ]
  },
  {
   "cell_type": "markdown",
   "metadata": {},
   "source": [
    "* **父节点**"
   ]
  },
  {
   "cell_type": "raw",
   "metadata": {},
   "source": [
    "<li class=\"item-3\"><a herf=\"link4.html\">fourth item</a></li>\n"
   ]
  },
  {
   "cell_type": "markdown",
   "metadata": {},
   "source": [
    "*法一*  .."
   ]
  },
  {
   "cell_type": "code",
   "execution_count": 67,
   "metadata": {},
   "outputs": [
    {
     "data": {
      "text/plain": [
       "(['item-3'], list)"
      ]
     },
     "execution_count": 67,
     "metadata": {},
     "output_type": "execute_result"
    }
   ],
   "source": [
    "result=html.xpath('//a[@herf=\"link4.html\"]/../@class')\n",
    "result,type(result)"
   ]
  },
  {
   "cell_type": "markdown",
   "metadata": {},
   "source": [
    "*法二*  parent::"
   ]
  },
  {
   "cell_type": "code",
   "execution_count": 68,
   "metadata": {},
   "outputs": [
    {
     "data": {
      "text/plain": [
       "['item-3']"
      ]
     },
     "execution_count": 68,
     "metadata": {},
     "output_type": "execute_result"
    }
   ],
   "source": [
    "result=html.xpath('//a[@herf=\"link4.html\"]/parent::*/@class')\n",
    "result"
   ]
  },
  {
   "cell_type": "markdown",
   "metadata": {},
   "source": [
    "* **属性匹配**"
   ]
  },
  {
   "cell_type": "code",
   "execution_count": 69,
   "metadata": {},
   "outputs": [
    {
     "data": {
      "text/plain": [
       "[<Element li at 0x1fc8665a0c8>, <Element li at 0x1fc8665a108>]"
      ]
     },
     "execution_count": 69,
     "metadata": {},
     "output_type": "execute_result"
    }
   ],
   "source": [
    "result=html.xpath('//li[@class=\"item-0\"]')\n",
    "result"
   ]
  },
  {
   "cell_type": "markdown",
   "metadata": {},
   "source": [
    "* **文本获取**"
   ]
  },
  {
   "cell_type": "raw",
   "metadata": {},
   "source": [
    "<li class=\"item-0\"><a herf=\"link1.html\">frist item</a></li>\n",
    "<li class=\"item-0\"><a herf=\"link5.html\">fifth item</a>\n",
    "</li>"
   ]
  },
  {
   "cell_type": "code",
   "execution_count": 75,
   "metadata": {},
   "outputs": [
    {
     "name": "stdout",
     "output_type": "stream",
     "text": [
      "['\\n']\n"
     ]
    }
   ],
   "source": [
    "html=etree.parse('D:\\\\html\\\\code\\\\text.html')\n",
    "result=html.xpath('//li[@class=\"item-0\"]/text()')\n",
    "print(result)"
   ]
  },
  {
   "cell_type": "markdown",
   "metadata": {},
   "source": [
    "> 先选取a节点再获取文本"
   ]
  },
  {
   "cell_type": "code",
   "execution_count": 76,
   "metadata": {},
   "outputs": [
    {
     "name": "stdout",
     "output_type": "stream",
     "text": [
      "['frist item', 'fifth item']\n"
     ]
    }
   ],
   "source": [
    "result=html.xpath('//li[@class=\"item-0\"]/a/text()')\n",
    "print(result)"
   ]
  },
  {
   "cell_type": "markdown",
   "metadata": {},
   "source": [
    "> 使用//"
   ]
  },
  {
   "cell_type": "code",
   "execution_count": 77,
   "metadata": {},
   "outputs": [
    {
     "name": "stdout",
     "output_type": "stream",
     "text": [
      "['frist item', 'fifth item', '\\n']\n"
     ]
    }
   ],
   "source": [
    "result=html.xpath('//li[@class=\"item-0\"]//text()')\n",
    "print(result)"
   ]
  },
  {
   "cell_type": "markdown",
   "metadata": {},
   "source": [
    "* **属性获取**"
   ]
  },
  {
   "cell_type": "code",
   "execution_count": 78,
   "metadata": {},
   "outputs": [
    {
     "data": {
      "text/plain": [
       "['link1.html', 'link2.html', 'link3.html', 'link4.html', 'link5.html']"
      ]
     },
     "execution_count": 78,
     "metadata": {},
     "output_type": "execute_result"
    }
   ],
   "source": [
    "result=html.xpath('//a/@herf')\n",
    "result"
   ]
  },
  {
   "cell_type": "markdown",
   "metadata": {},
   "source": [
    "* **属性多值匹配**"
   ]
  },
  {
   "cell_type": "markdown",
   "metadata": {},
   "source": [
    "> 某个结点的某属性有多个值"
   ]
  },
  {
   "cell_type": "code",
   "execution_count": 79,
   "metadata": {},
   "outputs": [],
   "source": [
    "text='''\n",
    "<li class=\"li li-first\"><a herf=\"link.html\">first item</a></li>\n",
    "'''                       #li节点的class属性有两个值li和li-first\n",
    "html=etree.HTML(text)"
   ]
  },
  {
   "cell_type": "code",
   "execution_count": 81,
   "metadata": {},
   "outputs": [
    {
     "data": {
      "text/plain": [
       "[]"
      ]
     },
     "execution_count": 81,
     "metadata": {},
     "output_type": "execute_result"
    }
   ],
   "source": [
    "result=html.xpath('//li[@class=li]/a/text()')\n",
    "result"
   ]
  },
  {
   "cell_type": "code",
   "execution_count": 82,
   "metadata": {},
   "outputs": [
    {
     "data": {
      "text/plain": [
       "['first item']"
      ]
     },
     "execution_count": 82,
     "metadata": {},
     "output_type": "execute_result"
    }
   ],
   "source": [
    "result=html.xpath('//li[contains(@class,\"li\")]/a/text()')    \n",
    "#用contains()方法，第一个参数传入属性名称，第二个参数传入属性值\n",
    "result"
   ]
  },
  {
   "cell_type": "markdown",
   "metadata": {},
   "source": [
    "* **多属性匹配**"
   ]
  },
  {
   "cell_type": "markdown",
   "metadata": {},
   "source": [
    "> 需要根据多个属性确定一个节点"
   ]
  },
  {
   "cell_type": "code",
   "execution_count": 84,
   "metadata": {},
   "outputs": [],
   "source": [
    "text='''\n",
    "<li class=\"li li-first\" name=\"item\"><a herf=\"link.html\">first item</a></li>\n",
    "'''                       \n",
    "html=etree.HTML(text)"
   ]
  },
  {
   "cell_type": "code",
   "execution_count": 87,
   "metadata": {},
   "outputs": [
    {
     "name": "stdout",
     "output_type": "stream",
     "text": [
      "['first item']\n"
     ]
    }
   ],
   "source": [
    "result=html.xpath('//li[contains(@class,\"li\") and @name=\"item\"]/a/text()')\n",
    "print(result)"
   ]
  },
  {
   "cell_type": "markdown",
   "metadata": {},
   "source": [
    "#### 运算符"
   ]
  },
  {
   "cell_type": "markdown",
   "metadata": {},
   "source": [
    "|运算符|描述|实例|返回值|\n",
    "|-|-|-|-|\n",
    "|or|或|age=10 or age=20|如果age是10，返回true。如果age是21，返回false|\n",
    "|and|与|age>19 and age<21|...|\n",
    "|mod|计算除法的余数|5 mod 2|1|\n",
    "|||计算两个节点集|//book l //cd|返回所有拥有book和cd元素的节点|\n",
    "|+|加法|6+4|10|\n",
    "|-|减法|4-2|2|\n",
    "|*|乘法|6*4|24|\n",
    "|div|除法|8/4|2|\n",
    "|=|等于|age=19|如果age是19，返回true。否则返回false|\n",
    "|!=|不等于|age!=19|...|\n",
    "|<|小于|age<19|...|\n",
    "|<=|小于或等于|age<=19|...|\n",
    "|>|大于|age>19|...|\n",
    "|>=|大于或等于|age>=19|...|"
   ]
  },
  {
   "cell_type": "markdown",
   "metadata": {},
   "source": [
    "* **时序选择**"
   ]
  },
  {
   "cell_type": "markdown",
   "metadata": {},
   "source": [
    "> XPath中，提供了100多个函数，包括存取、数值、字符串、逻辑、节点、序列等处理功能\n",
    "https://www.w3school.com.cn/xpath/xpath_functions.asp"
   ]
  },
  {
   "cell_type": "code",
   "execution_count": 98,
   "metadata": {},
   "outputs": [
    {
     "name": "stdout",
     "output_type": "stream",
     "text": [
      "[]\n",
      "['fifth item']\n",
      "['seconde item']\n",
      "['third item']\n"
     ]
    }
   ],
   "source": [
    "text='''\n",
    "<u1>\n",
    "<li class=\"item-0 item\" name=\"item\"><a herf=\"link1.html\"><span>frist item</sapn></a></li>\n",
    "<li class=\"item-1\"><a herf=\"link2.html\">seconde item</a></li>\n",
    "<li class=\"item-invalid\"><a herf=\"link3.html\">third item</a></li>\n",
    "<li class=\"item-1\"><a herf=\"link4.html\">fourth item</a></li>\n",
    "<li class=\"item-0\"><a herf=\"link5.html\">fifth item</a>\n",
    "</u1>\n",
    "</div>\n",
    "'''\n",
    "html=etree.HTML(text)\n",
    "result=html.xpath('//li[1]/a/text()')\n",
    "print(result)\n",
    "result=html.xpath('//li[last()]/a/text()')   #last()函数\n",
    "print(result)\n",
    "result=html.xpath('//li[position()<3]/a/text()')   #positon()函数\n",
    "print(result)\n",
    "result=html.xpath('//li[last()-2]/a/text()')\n",
    "print(result)\n",
    "\n"
   ]
  },
  {
   "cell_type": "markdown",
   "metadata": {},
   "source": [
    "* **节点轴选择**"
   ]
  },
  {
   "cell_type": "code",
   "execution_count": 104,
   "metadata": {},
   "outputs": [
    {
     "name": "stdout",
     "output_type": "stream",
     "text": [
      "[<Element html at 0x1fc8661f0c8>, <Element body at 0x1fc86619ac8>, <Element u1 at 0x1fc865f7dc8>]\n",
      "[<Element u1 at 0x1fc865f7dc8>]\n",
      "['item-0 item', 'item']\n",
      "[<Element a at 0x1fc8665ad88>]\n",
      "[<Element span at 0x1fc8665acc8>]\n",
      "[<Element a at 0x1fc8665a488>]\n",
      "[<Element li at 0x1fc8665a208>, <Element li at 0x1fc8665ad88>, <Element li at 0x1fc8665adc8>, <Element li at 0x1fc8665ab88>]\n"
     ]
    }
   ],
   "source": [
    "result=html.xpath('//li[1]/ancestor::*')   \n",
    "print(result) \n",
    "#调用ancestor轴，获取所有祖先节点，其后需跟两个冒号。然后使用节点选择器，这里使用的是*\n",
    "result=html.xpath('//li[1]/ancestor::u1')\n",
    "print(result)\n",
    "result=html.xpath('//li[1]/attribute::*')\n",
    "print(result)\n",
    "result=html.xpath('//li[1]/child::a[@herf=\"link1.html\"]')\n",
    "print(result)\n",
    "result=html.xpath('//li[1]/descendant::span')\n",
    "print(result)\n",
    "result=html.xpath('//li[1]/following::*[2]')\n",
    "print(result)\n",
    "result=html.xpath('//li[1]/following-sibling::*')\n",
    "print(result)"
   ]
  },
  {
   "cell_type": "code",
   "execution_count": null,
   "metadata": {},
   "outputs": [],
   "source": []
  }
 ],
 "metadata": {
  "kernelspec": {
   "display_name": "Python 3",
   "language": "python",
   "name": "python3"
  },
  "language_info": {
   "codemirror_mode": {
    "name": "ipython",
    "version": 3
   },
   "file_extension": ".py",
   "mimetype": "text/x-python",
   "name": "python",
   "nbconvert_exporter": "python",
   "pygments_lexer": "ipython3",
   "version": "3.7.4"
  }
 },
 "nbformat": 4,
 "nbformat_minor": 2
}
