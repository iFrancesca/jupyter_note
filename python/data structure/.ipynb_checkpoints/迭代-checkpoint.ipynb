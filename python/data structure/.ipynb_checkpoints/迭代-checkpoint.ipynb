{
 "cells": [
  {
   "cell_type": "markdown",
   "metadata": {},
   "source": [
    "## 英式标尺"
   ]
  },
  {
   "cell_type": "code",
   "execution_count": 6,
   "metadata": {},
   "outputs": [],
   "source": [
    "def draw_line(tick_lenth,tick_label=''):    #绘制标尺的刻度线\n",
    "    line = '-'*tick_lenth\n",
    "    if tick_label:\n",
    "        line += ' '+tick_label\n",
    "    print(line)\n",
    "    \n",
    "def draw_interval(center_lenth):          #绘制刻度线间隔之间_副刻度线的序列\n",
    "    if center_lenth > 0:\n",
    "        draw_interval(center_lenth-1)\n",
    "        draw_line(center_lenth)\n",
    "        draw_interval(center_lenth-1)\n",
    "\n",
    "def draw_ruler(num_inches,major_length):    #num_inches是标尺的长度,major_length是主刻度线基本长度\n",
    "        draw_line(major_length,'0')\n",
    "        for j in range(1,1+num_inches):\n",
    "            draw_interval(major_length-1)\n",
    "            draw_line(major_length,str(j))"
   ]
  },
  {
   "cell_type": "code",
   "execution_count": 5,
   "metadata": {},
   "outputs": [
    {
     "name": "stdout",
     "output_type": "stream",
     "text": [
      "---- 0\n",
      "-\n",
      "--\n",
      "-\n",
      "---\n",
      "-\n",
      "--\n",
      "-\n",
      "---- 1\n",
      "-\n",
      "--\n",
      "-\n",
      "---\n",
      "-\n",
      "--\n",
      "-\n",
      "---- 2\n"
     ]
    }
   ],
   "source": [
    "major_length = 4\n",
    "num_inches =  2\n",
    "draw_ruler(num_inches,major_length)        "
   ]
  },
  {
   "cell_type": "code",
   "execution_count": null,
   "metadata": {},
   "outputs": [],
   "source": []
  },
  {
   "cell_type": "code",
   "execution_count": null,
   "metadata": {},
   "outputs": [],
   "source": []
  }
 ],
 "metadata": {
  "kernelspec": {
   "display_name": "Python 3",
   "language": "python",
   "name": "python3"
  },
  "language_info": {
   "codemirror_mode": {
    "name": "ipython",
    "version": 3
   },
   "file_extension": ".py",
   "mimetype": "text/x-python",
   "name": "python",
   "nbconvert_exporter": "python",
   "pygments_lexer": "ipython3",
   "version": "3.7.0"
  }
 },
 "nbformat": 4,
 "nbformat_minor": 2
}
