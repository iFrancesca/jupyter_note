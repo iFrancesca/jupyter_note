{
 "cells": [
  {
   "cell_type": "markdown",
   "metadata": {},
   "source": [
    "# 1.分布分析"
   ]
  },
  {
   "cell_type": "markdown",
   "metadata": {},
   "source": [
    "* 定量数据分布分析\n",
    "    * 1）求极差\n",
    "    * 2）决定组距与组数\n",
    "    * 3）决定分点\n",
    "    * 4）列出频率分布表\n",
    "    * 5）绘制频率分布直方图"
   ]
  },
  {
   "cell_type": "markdown",
   "metadata": {},
   "source": [
    "* 定性数据分布分析\n",
    "    * 常根据变量的分类类型来分组\n",
    "    * 饼图&条形图"
   ]
  },
  {
   "cell_type": "markdown",
   "metadata": {},
   "source": [
    "# 2.对比分析"
   ]
  },
  {
   "cell_type": "markdown",
   "metadata": {},
   "source": [
    "* 1）绝对数比较\n",
    "* 2）相对数比较：\n",
    "    * 1）结构相对数：产品合格率\n",
    "    * 2）比例相对数：同一总体不同部分的比例 e.g：人口性别比例\n",
    "    * 3）比较相对数：同一时期两个性质相同的指标数值对比 e.g 不同地区商品价格对比\n",
    "    * 4）强度相对数：两个性质不同但有一定联系的总量指标进行对比 e.g 人均国内生产总值用\"元/人\"表示\n",
    "    * 5）计划完成相对数：某一时期实际完成数与计划书的对比\n",
    "    * 6）动态相对数：将同一现象在不同时期的指标数值进行对比，用以说明发展方向和变化的速度 e.g发展速度、增长速度"
   ]
  },
  {
   "cell_type": "markdown",
   "metadata": {},
   "source": [
    "# 3.统计量分析\n",
    "## 集中趋势度量\n",
    "* 1）均值\n",
    "* 2）中位数\n",
    "* 3）众数\n",
    "## 离散趋势度量\n",
    "* 1）极差\n",
    "* 2）标准差\n",
    "* 3）变异系数--度量标准差相对于均值的离散趋势\n",
    "* 4）四分位数间距\n",
    "    * describe()给出一些基本统计量-->衍生出所需统计量"
   ]
  },
  {
   "cell_type": "markdown",
   "metadata": {},
   "source": [
    "* **餐饮销量数据统计量分析**"
   ]
  },
  {
   "cell_type": "code",
   "execution_count": 6,
   "metadata": {},
   "outputs": [
    {
     "name": "stdout",
     "output_type": "stream",
     "text": [
      "                销量\n",
      "日期                \n",
      "2015-03-01    51.0\n",
      "2015-02-28  2618.2\n",
      "2015-02-27  2608.4\n",
      "2015-02-26  2651.9\n",
      "2015-02-25  3442.1\n",
      "                销量\n",
      "count   195.000000\n",
      "mean   2744.595385\n",
      "std     424.739407\n",
      "min     865.000000\n",
      "25%    2460.600000\n",
      "50%    2655.900000\n",
      "75%    3023.200000\n",
      "max    4065.200000\n",
      "                销量\n",
      "count   195.000000\n",
      "mean   2744.595385\n",
      "std     424.739407\n",
      "min     865.000000\n",
      "25%    2460.600000\n",
      "50%    2655.900000\n",
      "75%    3023.200000\n",
      "max    4065.200000\n",
      "range  3200.200000\n",
      "var       0.154755\n",
      "dis     562.600000\n"
     ]
    }
   ],
   "source": [
    "from __future__ import print_function\n",
    "import pandas as pd\n",
    "\n",
    "catering_sale = 'D:\\\\python\\\\data analyse\\\\analyse and mining\\\\chapter3\\\\demo\\\\data\\\\catering_sale.xls' #餐饮数据\n",
    "data = pd.read_excel(catering_sale, index_col = u'日期') #读取数据，指定“日期”列为索引列\n",
    "print(data[:5])\n",
    "\n",
    "\n",
    "data = data[(data[u'销量'] > 400)&(data[u'销量'] < 5000)] #过滤异常数据\n",
    "statistics = data.describe() #保存基本统计量\n",
    "print(statistics)\n",
    "\n",
    "#衍生出所需统计量\n",
    "statistics.loc['range'] = statistics.loc['max']-statistics.loc['min'] #极差\n",
    "statistics.loc['var'] = statistics.loc['std']/statistics.loc['mean'] #变异系数\n",
    "statistics.loc['dis'] = statistics.loc['75%']-statistics.loc['25%'] #四分位数间距\n",
    "\n",
    "print(statistics)\n",
    "\n"
   ]
  },
  {
   "cell_type": "markdown",
   "metadata": {},
   "source": [
    "# 5.周期性分析"
   ]
  },
  {
   "cell_type": "markdown",
   "metadata": {},
   "source": [
    "> 探索某个变量是否随着时间变化而呈现出某种周期变化趋势"
   ]
  },
  {
   "cell_type": "markdown",
   "metadata": {},
   "source": [
    "# 6.贡献度分析(帕累托分析、20/80定律)"
   ]
  },
  {
   "cell_type": "markdown",
   "metadata": {},
   "source": [
    "* **菜品盈利数据 帕累托图**"
   ]
  },
  {
   "cell_type": "code",
   "execution_count": 10,
   "metadata": {},
   "outputs": [
    {
     "name": "stdout",
     "output_type": "stream",
     "text": [
      "      菜品ID    盈利\n",
      "菜品名             \n",
      "A1   17148  9173\n",
      "A2   17154  5729\n",
      "A3     109  4811\n",
      "A4     117  3594\n",
      "A5   17151  3195\n",
      "菜品名\n",
      "A1    9173\n",
      "A2    5729\n",
      "A3    4811\n",
      "A4    3594\n",
      "A5    3195\n",
      "Name: 盈利, dtype: int64\n"
     ]
    },
    {
     "data": {
      "text/plain": [
       "<Figure size 640x480 with 2 Axes>"
      ]
     },
     "metadata": {},
     "output_type": "display_data"
    }
   ],
   "source": [
    "\n",
    "from __future__ import print_function\n",
    "import pandas as pd\n",
    "\n",
    "#初始化参数\n",
    "dish_profit = 'D:\\\\python\\\\data analyse\\\\analyse and mining\\\\chapter3\\\\demo\\\\data\\\\catering_dish_profit.xls' #餐饮菜品盈利数据\n",
    "data = pd.read_excel(dish_profit, index_col = u'菜品名')\n",
    "print(data[:5])\n",
    "\n",
    "data = data[u'盈利'].copy()\n",
    "#data.sort(ascending = False)\n",
    "print(data[:5])\n"
   ]
  },
  {
   "cell_type": "code",
   "execution_count": 11,
   "metadata": {},
   "outputs": [
    {
     "data": {
      "image/png": "[encoded data removed]",
      "text/plain": [
       "<Figure size 432x288 with 2 Axes>"
      ]
     },
     "metadata": {
      "needs_background": "light"
     },
     "output_type": "display_data"
    }
   ],
   "source": [
    "import matplotlib.pyplot as plt #导入图像库\n",
    "plt.rcParams['font.sans-serif'] = ['SimHei'] #用来正常显示中文标签\n",
    "plt.rcParams['axes.unicode_minus'] = False #用来正常显示负号\n",
    "\n",
    "plt.figure()\n",
    "data.plot(kind='bar')\n",
    "plt.ylabel(u'盈利（元）')\n",
    "p = 1.0*data.cumsum()/data.sum()\n",
    "p.plot(color = 'r', secondary_y = True, style = '-o',linewidth = 2)\n",
    "plt.annotate(format(p[6], '.4%'), xy = (6, p[6]), xytext=(6*0.9, p[6]*0.9), arrowprops=dict(arrowstyle=\"->\", connectionstyle=\"arc3,rad=.2\")) #添加注释，即85%处的标记。这里包括了指定箭头样式。\n",
    "plt.ylabel(u'盈利（比例）')\n",
    "plt.show()"
   ]
  },
  {
   "cell_type": "markdown",
   "metadata": {},
   "source": [
    "# 6.相关性分析"
   ]
  },
  {
   "cell_type": "markdown",
   "metadata": {},
   "source": [
    "* 1）直接绘制散点图\n",
    "* 2）绘制散点图矩阵：考虑多个变量间的相关关系\n",
    "* 3）计算相关系数\n",
    "    * 1）pearson相关系数：要求连变量的取值服从正态分布\n",
    "    * 2）spearman秩相关系数：不服从正态分布的变量、分类或等及变量之间的关联性可采用spearman秩相关系数（也称等级相关系数）\n",
    "    * 3）判定系数：r²，衡量回归方程对Y的解释程度"
   ]
  },
  {
   "cell_type": "code",
   "execution_count": 17,
   "metadata": {},
   "outputs": [
    {
     "name": "stdout",
     "output_type": "stream",
     "text": [
      "            百合酱蒸凤爪  翡翠蒸香茜饺  金银蒜汁蒸排骨  乐膳真味鸡  蜜汁焗餐包  生炒菜心  铁板酸菜豆腐  香煎韭菜饺  香煎罗卜糕  \\\n",
      "日期                                                                              \n",
      "2015-01-01      17       6        8     24   13.0    13      18     10     10   \n",
      "2015-01-02      11      15       14     13    9.0    10      19     13     14   \n",
      "2015-01-03      10       8       12     13    8.0     3       7     11     10   \n",
      "2015-01-04       9       6        6      3   10.0     9       9     13     14   \n",
      "2015-01-05       4      10       13      8   12.0    10      17     11     13   \n",
      "\n",
      "            原汁原味菜心  \n",
      "日期                  \n",
      "2015-01-01      27  \n",
      "2015-01-02      13  \n",
      "2015-01-03       9  \n",
      "2015-01-04      13  \n",
      "2015-01-05      14  \n"
     ]
    },
    {
     "data": {
      "text/html": [
       "<div>\n",
       "<style scoped>\n",
       "    .dataframe tbody tr th:only-of-type {\n",
       "        vertical-align: middle;\n",
       "    }\n",
       "\n",
       "    .dataframe tbody tr th {\n",
       "        vertical-align: top;\n",
       "    }\n",
       "\n",
       "    .dataframe thead th {\n",
       "        text-align: right;\n",
       "    }\n",
       "</style>\n",
       "<table border=\"1\" class=\"dataframe\">\n",
       "  <thead>\n",
       "    <tr style=\"text-align: right;\">\n",
       "      <th></th>\n",
       "      <th>百合酱蒸凤爪</th>\n",
       "      <th>翡翠蒸香茜饺</th>\n",
       "      <th>金银蒜汁蒸排骨</th>\n",
       "      <th>乐膳真味鸡</th>\n",
       "      <th>蜜汁焗餐包</th>\n",
       "      <th>生炒菜心</th>\n",
       "      <th>铁板酸菜豆腐</th>\n",
       "      <th>香煎韭菜饺</th>\n",
       "      <th>香煎罗卜糕</th>\n",
       "      <th>原汁原味菜心</th>\n",
       "    </tr>\n",
       "  </thead>\n",
       "  <tbody>\n",
       "    <tr>\n",
       "      <th>百合酱蒸凤爪</th>\n",
       "      <td>1.000000</td>\n",
       "      <td>0.009206</td>\n",
       "      <td>0.016799</td>\n",
       "      <td>0.455638</td>\n",
       "      <td>0.098085</td>\n",
       "      <td>0.308496</td>\n",
       "      <td>0.204898</td>\n",
       "      <td>0.127448</td>\n",
       "      <td>-0.090276</td>\n",
       "      <td>0.428316</td>\n",
       "    </tr>\n",
       "    <tr>\n",
       "      <th>翡翠蒸香茜饺</th>\n",
       "      <td>0.009206</td>\n",
       "      <td>1.000000</td>\n",
       "      <td>0.304434</td>\n",
       "      <td>-0.012279</td>\n",
       "      <td>0.058745</td>\n",
       "      <td>-0.180446</td>\n",
       "      <td>-0.026908</td>\n",
       "      <td>0.062344</td>\n",
       "      <td>0.270276</td>\n",
       "      <td>0.020462</td>\n",
       "    </tr>\n",
       "    <tr>\n",
       "      <th>金银蒜汁蒸排骨</th>\n",
       "      <td>0.016799</td>\n",
       "      <td>0.304434</td>\n",
       "      <td>1.000000</td>\n",
       "      <td>0.035135</td>\n",
       "      <td>0.096218</td>\n",
       "      <td>-0.184290</td>\n",
       "      <td>0.187272</td>\n",
       "      <td>0.121543</td>\n",
       "      <td>0.077808</td>\n",
       "      <td>0.029074</td>\n",
       "    </tr>\n",
       "    <tr>\n",
       "      <th>乐膳真味鸡</th>\n",
       "      <td>0.455638</td>\n",
       "      <td>-0.012279</td>\n",
       "      <td>0.035135</td>\n",
       "      <td>1.000000</td>\n",
       "      <td>0.016006</td>\n",
       "      <td>0.325462</td>\n",
       "      <td>0.297692</td>\n",
       "      <td>-0.068866</td>\n",
       "      <td>-0.030222</td>\n",
       "      <td>0.421878</td>\n",
       "    </tr>\n",
       "    <tr>\n",
       "      <th>蜜汁焗餐包</th>\n",
       "      <td>0.098085</td>\n",
       "      <td>0.058745</td>\n",
       "      <td>0.096218</td>\n",
       "      <td>0.016006</td>\n",
       "      <td>1.000000</td>\n",
       "      <td>0.308454</td>\n",
       "      <td>0.502025</td>\n",
       "      <td>0.155428</td>\n",
       "      <td>0.171005</td>\n",
       "      <td>0.527844</td>\n",
       "    </tr>\n",
       "    <tr>\n",
       "      <th>生炒菜心</th>\n",
       "      <td>0.308496</td>\n",
       "      <td>-0.180446</td>\n",
       "      <td>-0.184290</td>\n",
       "      <td>0.325462</td>\n",
       "      <td>0.308454</td>\n",
       "      <td>1.000000</td>\n",
       "      <td>0.369787</td>\n",
       "      <td>0.038233</td>\n",
       "      <td>0.049898</td>\n",
       "      <td>0.122988</td>\n",
       "    </tr>\n",
       "    <tr>\n",
       "      <th>铁板酸菜豆腐</th>\n",
       "      <td>0.204898</td>\n",
       "      <td>-0.026908</td>\n",
       "      <td>0.187272</td>\n",
       "      <td>0.297692</td>\n",
       "      <td>0.502025</td>\n",
       "      <td>0.369787</td>\n",
       "      <td>1.000000</td>\n",
       "      <td>0.095543</td>\n",
       "      <td>0.157958</td>\n",
       "      <td>0.567332</td>\n",
       "    </tr>\n",
       "    <tr>\n",
       "      <th>香煎韭菜饺</th>\n",
       "      <td>0.127448</td>\n",
       "      <td>0.062344</td>\n",
       "      <td>0.121543</td>\n",
       "      <td>-0.068866</td>\n",
       "      <td>0.155428</td>\n",
       "      <td>0.038233</td>\n",
       "      <td>0.095543</td>\n",
       "      <td>1.000000</td>\n",
       "      <td>0.178336</td>\n",
       "      <td>0.049689</td>\n",
       "    </tr>\n",
       "    <tr>\n",
       "      <th>香煎罗卜糕</th>\n",
       "      <td>-0.090276</td>\n",
       "      <td>0.270276</td>\n",
       "      <td>0.077808</td>\n",
       "      <td>-0.030222</td>\n",
       "      <td>0.171005</td>\n",
       "      <td>0.049898</td>\n",
       "      <td>0.157958</td>\n",
       "      <td>0.178336</td>\n",
       "      <td>1.000000</td>\n",
       "      <td>0.088980</td>\n",
       "    </tr>\n",
       "    <tr>\n",
       "      <th>原汁原味菜心</th>\n",
       "      <td>0.428316</td>\n",
       "      <td>0.020462</td>\n",
       "      <td>0.029074</td>\n",
       "      <td>0.421878</td>\n",
       "      <td>0.527844</td>\n",
       "      <td>0.122988</td>\n",
       "      <td>0.567332</td>\n",
       "      <td>0.049689</td>\n",
       "      <td>0.088980</td>\n",
       "      <td>1.000000</td>\n",
       "    </tr>\n",
       "  </tbody>\n",
       "</table>\n",
       "</div>"
      ],
      "text/plain": [
       "           百合酱蒸凤爪    翡翠蒸香茜饺   金银蒜汁蒸排骨     乐膳真味鸡     蜜汁焗餐包      生炒菜心    铁板酸菜豆腐  \\\n",
       "百合酱蒸凤爪   1.000000  0.009206  0.016799  0.455638  0.098085  0.308496  0.204898   \n",
       "翡翠蒸香茜饺   0.009206  1.000000  0.304434 -0.012279  0.058745 -0.180446 -0.026908   \n",
       "金银蒜汁蒸排骨  0.016799  0.304434  1.000000  0.035135  0.096218 -0.184290  0.187272   \n",
       "乐膳真味鸡    0.455638 -0.012279  0.035135  1.000000  0.016006  0.325462  0.297692   \n",
       "蜜汁焗餐包    0.098085  0.058745  0.096218  0.016006  1.000000  0.308454  0.502025   \n",
       "生炒菜心     0.308496 -0.180446 -0.184290  0.325462  0.308454  1.000000  0.369787   \n",
       "铁板酸菜豆腐   0.204898 -0.026908  0.187272  0.297692  0.502025  0.369787  1.000000   \n",
       "香煎韭菜饺    0.127448  0.062344  0.121543 -0.068866  0.155428  0.038233  0.095543   \n",
       "香煎罗卜糕   -0.090276  0.270276  0.077808 -0.030222  0.171005  0.049898  0.157958   \n",
       "原汁原味菜心   0.428316  0.020462  0.029074  0.421878  0.527844  0.122988  0.567332   \n",
       "\n",
       "            香煎韭菜饺     香煎罗卜糕    原汁原味菜心  \n",
       "百合酱蒸凤爪   0.127448 -0.090276  0.428316  \n",
       "翡翠蒸香茜饺   0.062344  0.270276  0.020462  \n",
       "金银蒜汁蒸排骨  0.121543  0.077808  0.029074  \n",
       "乐膳真味鸡   -0.068866 -0.030222  0.421878  \n",
       "蜜汁焗餐包    0.155428  0.171005  0.527844  \n",
       "生炒菜心     0.038233  0.049898  0.122988  \n",
       "铁板酸菜豆腐   0.095543  0.157958  0.567332  \n",
       "香煎韭菜饺    1.000000  0.178336  0.049689  \n",
       "香煎罗卜糕    0.178336  1.000000  0.088980  \n",
       "原汁原味菜心   0.049689  0.088980  1.000000  "
      ]
     },
     "execution_count": 17,
     "metadata": {},
     "output_type": "execute_result"
    }
   ],
   "source": [
    "import pandas as pd\n",
    "\n",
    "catering_sale = 'D:\\\\python\\\\data analyse\\\\analyse and mining\\\\chapter3\\\\demo\\\\data\\\\catering_sale_all.xls' #餐饮数据，含有其他属性\n",
    "data = pd.read_excel(catering_sale,index_col = u'日期')\n",
    "print(data[:5])\n",
    "\n",
    "data.corr() #相关系数矩阵，即给出了任意两款菜式之间的相关系数\n"
   ]
  },
  {
   "cell_type": "code",
   "execution_count": 18,
   "metadata": {},
   "outputs": [
    {
     "data": {
      "text/plain": [
       "百合酱蒸凤爪     1.000000\n",
       "翡翠蒸香茜饺     0.009206\n",
       "金银蒜汁蒸排骨    0.016799\n",
       "乐膳真味鸡      0.455638\n",
       "蜜汁焗餐包      0.098085\n",
       "生炒菜心       0.308496\n",
       "铁板酸菜豆腐     0.204898\n",
       "香煎韭菜饺      0.127448\n",
       "香煎罗卜糕     -0.090276\n",
       "原汁原味菜心     0.428316\n",
       "Name: 百合酱蒸凤爪, dtype: float64"
      ]
     },
     "execution_count": 18,
     "metadata": {},
     "output_type": "execute_result"
    }
   ],
   "source": [
    "data.corr()[u'百合酱蒸凤爪'] #只显示“百合酱蒸凤爪”与其他菜式的相关系数"
   ]
  },
  {
   "cell_type": "code",
   "execution_count": 20,
   "metadata": {},
   "outputs": [
    {
     "data": {
      "text/plain": [
       "0.009205803051836475"
      ]
     },
     "execution_count": 20,
     "metadata": {},
     "output_type": "execute_result"
    }
   ],
   "source": [
    "data[u'百合酱蒸凤爪'].corr(data[u'翡翠蒸香茜饺'])  #计算“百合酱蒸凤爪”与“翡翠蒸香茜饺”的相关系数"
   ]
  }
 ],
 "metadata": {
  "kernelspec": {
   "display_name": "Python 3",
   "language": "python",
   "name": "python3"
  },
  "language_info": {
   "codemirror_mode": {
    "name": "ipython",
    "version": 3
   },
   "file_extension": ".py",
   "mimetype": "text/x-python",
   "name": "python",
   "nbconvert_exporter": "python",
   "pygments_lexer": "ipython3",
   "version": "3.7.0"
  }
 },
 "nbformat": 4,
 "nbformat_minor": 2
}
