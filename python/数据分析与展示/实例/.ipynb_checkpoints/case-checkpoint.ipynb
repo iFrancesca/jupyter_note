{
 "cells": [
  {
   "cell_type": "markdown",
   "metadata": {},
   "source": [
    "# 1家用电器用户行为分析与事件识别"
   ]
  },
  {
   "cell_type": "markdown",
   "metadata": {},
   "source": [
    "### 数据探索分析"
   ]
  },
  {
   "cell_type": "markdown",
   "metadata": {},
   "source": [
    "* 1、分布分析"
   ]
  },
  {
   "cell_type": "markdown",
   "metadata": {},
   "source": [
    "* 2、周期性分析"
   ]
  },
  {
   "cell_type": "markdown",
   "metadata": {},
   "source": [
    "### 数据预处理"
   ]
  },
  {
   "cell_type": "markdown",
   "metadata": {},
   "source": [
    "* 1、数据清洗\n",
    "    * 过滤非居民用电类别的用电数据\n",
    "    * 过滤节假日的用电数据"
   ]
  },
  {
   "cell_type": "markdown",
   "metadata": {},
   "source": [
    "* 2、缺失值处理"
   ]
  },
  {
   "cell_type": "code",
   "execution_count": 11,
   "metadata": {},
   "outputs": [
    {
     "name": "stdout",
     "output_type": "stream",
     "text": [
      "             0           1           2\n",
      "0   235.833300  324.034300  478.323100\n",
      "1   236.270800  325.637900  515.456400\n",
      "2   238.052100  328.089700  517.090900\n",
      "3   235.906300  203.462116  514.890000\n",
      "4   236.760400  268.832400  493.352591\n",
      "5   237.151181  404.048000  486.091200\n",
      "6   237.416700  391.265200  516.233000\n",
      "7   238.656300  380.824100  493.342382\n",
      "8   237.604200  388.023000  435.350800\n",
      "9   238.031300  206.434900  487.675000\n",
      "10  235.072900  237.348072  609.193564\n",
      "11  235.531300  400.078700  660.234700\n",
      "12  235.314951  411.206900  621.234600\n",
      "13  234.468800  395.234300  611.340800\n",
      "14  235.500000  344.822100  643.086300\n",
      "15  235.635400  385.643200  642.348200\n",
      "16  234.552100  401.623400  618.197198\n",
      "17  236.000000  409.648900  602.934700\n",
      "18  235.239600  416.879500  589.345700\n",
      "19  235.489600  420.748600  556.345200\n",
      "20  236.968800  408.963200  538.347000\n"
     ]
    },
    {
     "name": "stderr",
     "output_type": "stream",
     "text": [
      "D:\\programs\\code\\Anaconda3\\lib\\site-packages\\pandas\\core\\series.py:842: FutureWarning: \n",
      "Passing list-likes to .loc or [] with any missing label will raise\n",
      "KeyError in the future, you can use .reindex() as an alternative.\n",
      "\n",
      "See the documentation here:\n",
      "https://pandas.pydata.org/pandas-docs/stable/indexing.html#deprecate-loc-reindex-listlike\n",
      "  return self.loc[key]\n"
     ]
    }
   ],
   "source": [
    "import pandas as pd\n",
    "from scipy.interpolate import lagrange\n",
    "\n",
    "file = 'D:\\\\python\\\\data analyse\\\\analyse and mining\\\\chapter6\\\\demo'\n",
    "inputfile = file+'\\\\data\\\\missing_data.xls'\n",
    "outputfile = file+'\\\\exer\\\\missing_data_processed.xls'\n",
    "\n",
    "data = pd.read_excel(inputfile,header=None)\n",
    "\n",
    "#自定义列向量插值函数\n",
    "#s为列向量，n为被插值位置,k为去前后的数据个数,默认为5\n",
    "def ployinterp_columns(s,n,k=5):\n",
    "    y = s[list(range(n-k,n)) + list(range(n+1,n+k+1))]    #取数，不去第n个数\n",
    "    y  = y[y.notnull()]  #提出空值\n",
    "    return lagrange(y.index, list(y))(n)   #插值并返回插值结果\n",
    "\n",
    "#逐个元素判断是否需要插值\n",
    "for i in data.columns:\n",
    "    for j in range(len(data)):\n",
    "        if (data[i].isnull())[j]:  #如果为空即插值\n",
    "            #data[i][j] = ployinterp_columns(data[i],j)    --  index=j, columw=i\n",
    "            data.loc[j,i] = ployinterp_columns(data[i],j)  \n",
    "         \n",
    "data.to_excel(outputfile,header=None,index=False)"
   ]
  },
  {
   "cell_type": "code",
   "execution_count": 15,
   "metadata": {},
   "outputs": [],
   "source": [
    "from xlwings import view\n",
    "view(data)"
   ]
  },
  {
   "cell_type": "markdown",
   "metadata": {},
   "source": [
    "* 3、数据变换"
   ]
  },
  {
   "cell_type": "code",
   "execution_count": null,
   "metadata": {},
   "outputs": [],
   "source": []
  }
 ],
 "metadata": {
  "kernelspec": {
   "display_name": "Python 3",
   "language": "python",
   "name": "python3"
  },
  "language_info": {
   "codemirror_mode": {
    "name": "ipython",
    "version": 3
   },
   "file_extension": ".py",
   "mimetype": "text/x-python",
   "name": "python",
   "nbconvert_exporter": "python",
   "pygments_lexer": "ipython3",
   "version": "3.7.0"
  }
 },
 "nbformat": 4,
 "nbformat_minor": 2
}
