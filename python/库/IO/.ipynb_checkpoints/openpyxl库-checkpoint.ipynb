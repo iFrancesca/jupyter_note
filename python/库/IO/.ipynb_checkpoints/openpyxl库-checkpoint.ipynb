{
 "cells": [
  {
   "cell_type": "code",
   "execution_count": null,
   "metadata": {},
   "outputs": [],
   "source": [
    "import os\n",
    "os.path.abspath('.')"
   ]
  },
  {
   "cell_type": "code",
   "execution_count": 1,
   "metadata": {},
   "outputs": [
    {
     "name": "stdout",
     "output_type": "stream",
     "text": [
      "d:\\base\\jupyter\\python\\库\n"
     ]
    },
    {
     "data": {
      "text/plain": [
       "'D:\\\\python\\\\data manage\\\\script'"
      ]
     },
     "execution_count": 1,
     "metadata": {},
     "output_type": "execute_result"
    }
   ],
   "source": [
    "import os\n",
    "print(os.getcwd())  #当前路径\n",
    "\n",
    "#更改当前路径\n",
    "os.chdir('D:\\python\\data manage\\script')\n",
    "os.getcwd()"
   ]
  },
  {
   "cell_type": "code",
   "execution_count": null,
   "metadata": {},
   "outputs": [],
   "source": [
    "from openpy."
   ]
  },
  {
   "cell_type": "markdown",
   "metadata": {},
   "source": [
    "## 读取excel文件"
   ]
  },
  {
   "cell_type": "markdown",
   "metadata": {},
   "source": [
    "### 创建"
   ]
  },
  {
   "cell_type": "code",
   "execution_count": 3,
   "metadata": {},
   "outputs": [],
   "source": [
    "from openpyxl import Workbook\n",
    "#实例化\n",
    "wb = Workbook()\n",
    "#激活worksheet (实例化一个工作簿workbook后总会默认创建一个工作表worksheet)\n",
    "ws = wb.active"
   ]
  },
  {
   "cell_type": "code",
   "execution_count": 4,
   "metadata": {},
   "outputs": [
    {
     "data": {
      "text/plain": [
       "'Sheet'"
      ]
     },
     "execution_count": 4,
     "metadata": {},
     "output_type": "execute_result"
    }
   ],
   "source": [
    "ws.title"
   ]
  },
  {
   "cell_type": "code",
   "execution_count": 5,
   "metadata": {},
   "outputs": [],
   "source": [
    "#改变title颜色\n",
    "ws.sheet_properties.tabColor = '1072BA'"
   ]
  },
  {
   "cell_type": "code",
   "execution_count": 6,
   "metadata": {},
   "outputs": [],
   "source": [
    "ws1 = wb.create_sheet('Mysheet')     #在末尾插入\n",
    "ws2 = wb.create_sheet('Mysheet2',0)   #在最前端插入\n",
    "ws3 = wb.create_sheet('Mysheet3',-1)  #插入在倒数第二位置"
   ]
  },
  {
   "cell_type": "markdown",
   "metadata": {},
   "source": [
    "* 在单个工作簿创建工作表的副本"
   ]
  },
  {
   "cell_type": "code",
   "execution_count": 23,
   "metadata": {},
   "outputs": [],
   "source": [
    "source = wb.active\n",
    "target = wb.copy_worksheet(source)"
   ]
  },
  {
   "cell_type": "markdown",
   "metadata": {},
   "source": [
    "### 加载"
   ]
  },
  {
   "cell_type": "markdown",
   "metadata": {},
   "source": [
    "#### 从文件中加载"
   ]
  },
  {
   "cell_type": "markdown",
   "metadata": {},
   "source": [
    "* openpyxl.load_workbook()"
   ]
  },
  {
   "cell_type": "code",
   "execution_count": 28,
   "metadata": {},
   "outputs": [
    {
     "name": "stdout",
     "output_type": "stream",
     "text": [
      "Help on function load_workbook in module openpyxl.reader.excel:\n",
      "\n",
      "load_workbook(filename, read_only=False, keep_vba=False, data_only=False, keep_links=True)\n",
      "    Open the given filename and return the workbook\n",
      "    \n",
      "    :param filename: the path to open or a file-like object\n",
      "    :type filename: string or a file-like object open in binary mode c.f., :class:`zipfile.ZipFile`\n",
      "    \n",
      "    :param read_only: optimised for reading, content cannot be edited\n",
      "    :type read_only: bool\n",
      "    \n",
      "    :param keep_vba: preseve vba content (this does NOT mean you can use it)\n",
      "    :type keep_vba: bool\n",
      "    \n",
      "    :param data_only: controls whether cells with formulae have either the formula (default) or the value stored the last time Excel read the sheet\n",
      "    :type data_only: bool\n",
      "    \n",
      "    :param keep_links: whether links to external workbooks should be preserved. The default is True\n",
      "    :type keep_links: bool\n",
      "    \n",
      "    :rtype: :class:`openpyxl.workbook.Workbook`\n",
      "    \n",
      "    .. note::\n",
      "    \n",
      "        When using lazy load, all worksheets will be :class:`openpyxl.worksheet.iter_worksheet.IterableWorksheet`\n",
      "        and the returned workbook will be read-only.\n",
      "\n"
     ]
    }
   ],
   "source": [
    "help(load_workbook)"
   ]
  },
  {
   "cell_type": "code",
   "execution_count": 25,
   "metadata": {},
   "outputs": [
    {
     "data": {
      "text/plain": [
       "openpyxl.workbook.workbook.Workbook"
      ]
     },
     "execution_count": 25,
     "metadata": {},
     "output_type": "execute_result"
    }
   ],
   "source": [
    "from openpyxl import load_workbook\n",
    "wb = load_workbook('example.xlsx')\n",
    "type(wb)"
   ]
  },
  {
   "cell_type": "markdown",
   "metadata": {},
   "source": [
    "* 从工作簿获得工作表"
   ]
  },
  {
   "cell_type": "code",
   "execution_count": 26,
   "metadata": {},
   "outputs": [
    {
     "data": {
      "text/plain": [
       "['Sheet1', 'Sheet2', 'Sheet3']"
      ]
     },
     "execution_count": 26,
     "metadata": {},
     "output_type": "execute_result"
    }
   ],
   "source": [
    "wb.sheetnames"
   ]
  },
  {
   "cell_type": "code",
   "execution_count": 27,
   "metadata": {},
   "outputs": [
    {
     "data": {
      "text/plain": [
       "<Worksheet \"Sheet3\">"
      ]
     },
     "execution_count": 27,
     "metadata": {},
     "output_type": "execute_result"
    }
   ],
   "source": [
    "sheet = wb['Sheet3']\n",
    "sheet"
   ]
  },
  {
   "cell_type": "code",
   "execution_count": 28,
   "metadata": {},
   "outputs": [
    {
     "data": {
      "text/plain": [
       "openpyxl.worksheet.worksheet.Worksheet"
      ]
     },
     "execution_count": 28,
     "metadata": {},
     "output_type": "execute_result"
    }
   ],
   "source": [
    "type(sheet)"
   ]
  },
  {
   "cell_type": "code",
   "execution_count": 29,
   "metadata": {},
   "outputs": [
    {
     "data": {
      "text/plain": [
       "'Sheet3'"
      ]
     },
     "execution_count": 29,
     "metadata": {},
     "output_type": "execute_result"
    }
   ],
   "source": [
    "sheet.title"
   ]
  },
  {
   "cell_type": "code",
   "execution_count": 30,
   "metadata": {},
   "outputs": [
    {
     "data": {
      "text/plain": [
       "<Worksheet \"Sheet1\">"
      ]
     },
     "execution_count": 30,
     "metadata": {},
     "output_type": "execute_result"
    }
   ],
   "source": [
    "#取得工作簿的活动表（打开excel时出现的表）\n",
    "anotherSheet = wb.active\n",
    "anotherSheet"
   ]
  },
  {
   "cell_type": "markdown",
   "metadata": {},
   "source": [
    "* 从工作表中取得单元格"
   ]
  },
  {
   "cell_type": "code",
   "execution_count": 31,
   "metadata": {},
   "outputs": [
    {
     "data": {
      "text/plain": [
       "<generator object Worksheet.values at 0x000002AA7C126480>"
      ]
     },
     "execution_count": 31,
     "metadata": {},
     "output_type": "execute_result"
    }
   ],
   "source": [
    "sheet = wb['Sheet1']\n",
    "sheet.values"
   ]
  },
  {
   "cell_type": "code",
   "execution_count": 32,
   "metadata": {},
   "outputs": [
    {
     "data": {
      "text/plain": [
       "<Worksheet \"Sheet1\">"
      ]
     },
     "execution_count": 32,
     "metadata": {},
     "output_type": "execute_result"
    }
   ],
   "source": [
    "wb.active"
   ]
  },
  {
   "cell_type": "markdown",
   "metadata": {},
   "source": [
    "## 操作"
   ]
  },
  {
   "cell_type": "markdown",
   "metadata": {},
   "source": [
    "### 单元格"
   ]
  },
  {
   "cell_type": "markdown",
   "metadata": {},
   "source": [
    "#### 访问一个单元格"
   ]
  },
  {
   "cell_type": "markdown",
   "metadata": {},
   "source": [
    "* 直接通过工作表的坐标访问单元格"
   ]
  },
  {
   "cell_type": "code",
   "execution_count": 7,
   "metadata": {},
   "outputs": [],
   "source": [
    "c = ws['A4']"
   ]
  },
  {
   "cell_type": "markdown",
   "metadata": {},
   "source": [
    "> 如果单元格不存在，则创建一个单元格，可以直接赋值"
   ]
  },
  {
   "cell_type": "code",
   "execution_count": 8,
   "metadata": {},
   "outputs": [],
   "source": [
    "ws['A4'] = 4"
   ]
  },
  {
   "cell_type": "markdown",
   "metadata": {},
   "source": [
    "* worksheet.cell()方法访问单元格"
   ]
  },
  {
   "cell_type": "code",
   "execution_count": 9,
   "metadata": {},
   "outputs": [],
   "source": [
    "d = ws.cell(row=4,column=2,value=10)"
   ]
  },
  {
   "cell_type": "code",
   "execution_count": 10,
   "metadata": {},
   "outputs": [
    {
     "data": {
      "text/plain": [
       "<Cell 'Sheet'.B4>"
      ]
     },
     "execution_count": 10,
     "metadata": {},
     "output_type": "execute_result"
    }
   ],
   "source": [
    "d"
   ]
  },
  {
   "cell_type": "markdown",
   "metadata": {},
   "source": [
    "####  访问多个单元格"
   ]
  },
  {
   "cell_type": "markdown",
   "metadata": {},
   "source": [
    "* 使用切片"
   ]
  },
  {
   "cell_type": "code",
   "execution_count": 11,
   "metadata": {},
   "outputs": [
    {
     "data": {
      "text/plain": [
       "((<Cell 'Sheet'.A1>, <Cell 'Sheet'.B1>, <Cell 'Sheet'.C1>),\n",
       " (<Cell 'Sheet'.A2>, <Cell 'Sheet'.B2>, <Cell 'Sheet'.C2>))"
      ]
     },
     "execution_count": 11,
     "metadata": {},
     "output_type": "execute_result"
    }
   ],
   "source": [
    "cell_range = ws['A1:C2']\n",
    "cell_range"
   ]
  },
  {
   "cell_type": "markdown",
   "metadata": {},
   "source": [
    "* 行和列的范围指定"
   ]
  },
  {
   "cell_type": "code",
   "execution_count": 12,
   "metadata": {
    "scrolled": true
   },
   "outputs": [
    {
     "name": "stdout",
     "output_type": "stream",
     "text": [
      "(<Cell 'Sheet'.C1>, <Cell 'Sheet'.C2>, <Cell 'Sheet'.C3>, <Cell 'Sheet'.C4>)\n",
      "**************************************************\n",
      "((<Cell 'Sheet'.C1>, <Cell 'Sheet'.C2>, <Cell 'Sheet'.C3>, <Cell 'Sheet'.C4>), (<Cell 'Sheet'.D1>, <Cell 'Sheet'.D2>, <Cell 'Sheet'.D3>, <Cell 'Sheet'.D4>))\n"
     ]
    }
   ],
   "source": [
    "colC = ws['C']\n",
    "col_range = ws['C:D']\n",
    "\n",
    "print(colC)\n",
    "print('*'*50)\n",
    "print(col_range)"
   ]
  },
  {
   "cell_type": "code",
   "execution_count": 13,
   "metadata": {},
   "outputs": [
    {
     "name": "stdout",
     "output_type": "stream",
     "text": [
      "(<Cell 'Sheet'.A10>, <Cell 'Sheet'.B10>, <Cell 'Sheet'.C10>, <Cell 'Sheet'.D10>)\n",
      "**************************************************\n",
      "((<Cell 'Sheet'.A5>, <Cell 'Sheet'.B5>, <Cell 'Sheet'.C5>, <Cell 'Sheet'.D5>), (<Cell 'Sheet'.A6>, <Cell 'Sheet'.B6>, <Cell 'Sheet'.C6>, <Cell 'Sheet'.D6>), (<Cell 'Sheet'.A7>, <Cell 'Sheet'.B7>, <Cell 'Sheet'.C7>, <Cell 'Sheet'.D7>), (<Cell 'Sheet'.A8>, <Cell 'Sheet'.B8>, <Cell 'Sheet'.C8>, <Cell 'Sheet'.D8>), (<Cell 'Sheet'.A9>, <Cell 'Sheet'.B9>, <Cell 'Sheet'.C9>, <Cell 'Sheet'.D9>), (<Cell 'Sheet'.A10>, <Cell 'Sheet'.B10>, <Cell 'Sheet'.C10>, <Cell 'Sheet'.D10>))\n"
     ]
    }
   ],
   "source": [
    "row10 = ws[10]\n",
    "row_range = ws[5:10]\n",
    "\n",
    "print(row10)\n",
    "print('*'*50)\n",
    "print(row_range)"
   ]
  },
  {
   "cell_type": "markdown",
   "metadata": {},
   "source": [
    "* Worksheet.iter_rows()方法"
   ]
  },
  {
   "cell_type": "code",
   "execution_count": 14,
   "metadata": {},
   "outputs": [
    {
     "name": "stdout",
     "output_type": "stream",
     "text": [
      "<Cell 'Sheet'.A1>\n",
      "<Cell 'Sheet'.B1>\n",
      "<Cell 'Sheet'.C1>\n",
      "<Cell 'Sheet'.A2>\n",
      "<Cell 'Sheet'.B2>\n",
      "<Cell 'Sheet'.C2>\n"
     ]
    }
   ],
   "source": [
    "for row in ws.iter_rows(min_row=1,max_col=3,max_row=2):\n",
    "    for cell in row:\n",
    "        print(cell)"
   ]
  },
  {
   "cell_type": "markdown",
   "metadata": {},
   "source": [
    "* Worksheet.iter_cols()方法\n",
    "    * 返回指定范围的行\n",
    "> 出于对性能的考虑，该方法在只读模式下不可使用"
   ]
  },
  {
   "cell_type": "code",
   "execution_count": 15,
   "metadata": {},
   "outputs": [
    {
     "name": "stdout",
     "output_type": "stream",
     "text": [
      "<Cell 'Sheet'.A1>\n",
      "<Cell 'Sheet'.B1>\n",
      "<Cell 'Sheet'.A2>\n",
      "<Cell 'Sheet'.B2>\n",
      "<Cell 'Sheet'.A3>\n",
      "<Cell 'Sheet'.B3>\n"
     ]
    }
   ],
   "source": [
    "for row in ws.iter_rows(min_col=1,max_row=3,max_col=2):\n",
    "    for cell in row:\n",
    "        print(cell)"
   ]
  },
  {
   "cell_type": "markdown",
   "metadata": {},
   "source": [
    "* Worksheet.columns属性\n",
    "> 出于对性能的考虑，该方法在只读模式下不可使用"
   ]
  },
  {
   "cell_type": "code",
   "execution_count": 16,
   "metadata": {},
   "outputs": [
    {
     "data": {
      "text/plain": [
       "<generator object Worksheet._cells_by_col at 0x000002AA7C126228>"
      ]
     },
     "execution_count": 16,
     "metadata": {},
     "output_type": "execute_result"
    }
   ],
   "source": [
    "ws.columns"
   ]
  },
  {
   "cell_type": "code",
   "execution_count": 17,
   "metadata": {},
   "outputs": [
    {
     "data": {
      "text/plain": [
       "((<Cell 'Sheet'.A1>,\n",
       "  <Cell 'Sheet'.A2>,\n",
       "  <Cell 'Sheet'.A3>,\n",
       "  <Cell 'Sheet'.A4>,\n",
       "  <Cell 'Sheet'.A5>,\n",
       "  <Cell 'Sheet'.A6>,\n",
       "  <Cell 'Sheet'.A7>,\n",
       "  <Cell 'Sheet'.A8>,\n",
       "  <Cell 'Sheet'.A9>,\n",
       "  <Cell 'Sheet'.A10>),\n",
       " (<Cell 'Sheet'.B1>,\n",
       "  <Cell 'Sheet'.B2>,\n",
       "  <Cell 'Sheet'.B3>,\n",
       "  <Cell 'Sheet'.B4>,\n",
       "  <Cell 'Sheet'.B5>,\n",
       "  <Cell 'Sheet'.B6>,\n",
       "  <Cell 'Sheet'.B7>,\n",
       "  <Cell 'Sheet'.B8>,\n",
       "  <Cell 'Sheet'.B9>,\n",
       "  <Cell 'Sheet'.B10>),\n",
       " (<Cell 'Sheet'.C1>,\n",
       "  <Cell 'Sheet'.C2>,\n",
       "  <Cell 'Sheet'.C3>,\n",
       "  <Cell 'Sheet'.C4>,\n",
       "  <Cell 'Sheet'.C5>,\n",
       "  <Cell 'Sheet'.C6>,\n",
       "  <Cell 'Sheet'.C7>,\n",
       "  <Cell 'Sheet'.C8>,\n",
       "  <Cell 'Sheet'.C9>,\n",
       "  <Cell 'Sheet'.C10>),\n",
       " (<Cell 'Sheet'.D1>,\n",
       "  <Cell 'Sheet'.D2>,\n",
       "  <Cell 'Sheet'.D3>,\n",
       "  <Cell 'Sheet'.D4>,\n",
       "  <Cell 'Sheet'.D5>,\n",
       "  <Cell 'Sheet'.D6>,\n",
       "  <Cell 'Sheet'.D7>,\n",
       "  <Cell 'Sheet'.D8>,\n",
       "  <Cell 'Sheet'.D9>,\n",
       "  <Cell 'Sheet'.D10>))"
      ]
     },
     "execution_count": 17,
     "metadata": {},
     "output_type": "execute_result"
    }
   ],
   "source": [
    "tuple(ws.columns)"
   ]
  },
  {
   "cell_type": "markdown",
   "metadata": {},
   "source": [
    "####  只获取单元格的值"
   ]
  },
  {
   "cell_type": "markdown",
   "metadata": {},
   "source": [
    "* Worksheet.values以行的方式迭代返回工作表中所有单元格的值"
   ]
  },
  {
   "cell_type": "code",
   "execution_count": 18,
   "metadata": {},
   "outputs": [
    {
     "data": {
      "text/plain": [
       "<generator object Worksheet.values at 0x000002AA7C126408>"
      ]
     },
     "execution_count": 18,
     "metadata": {},
     "output_type": "execute_result"
    }
   ],
   "source": [
    "ws.values"
   ]
  },
  {
   "cell_type": "code",
   "execution_count": 19,
   "metadata": {},
   "outputs": [
    {
     "name": "stdout",
     "output_type": "stream",
     "text": [
      "None None None None None None None None None None None None 4 10 None None None None None None None None None None None None None None None None None None None None None None None None None None "
     ]
    }
   ],
   "source": [
    "for row in ws.values:\n",
    "    for value in row:\n",
    "        print(value,end=' ')"
   ]
  },
  {
   "cell_type": "markdown",
   "metadata": {},
   "source": [
    "* Worksheet.iter_rows()  Worksheet.iter_cols()设置values_only只返回单元格值"
   ]
  },
  {
   "cell_type": "code",
   "execution_count": 20,
   "metadata": {},
   "outputs": [
    {
     "name": "stdout",
     "output_type": "stream",
     "text": [
      "(None, None)\n",
      "(None, None)\n",
      "(None, None)\n"
     ]
    }
   ],
   "source": [
    "for row in ws.iter_rows(min_col=1,max_row=3,max_col=2,values_only=True):\n",
    "    print(row)\n",
    "# openpyxl版本低于2.6，使用参数values_only时程序报如下错误：\n",
    "    # iter_rows() got an unexpected keyword argument 'values_only'"
   ]
  },
  {
   "cell_type": "markdown",
   "metadata": {},
   "source": [
    "### 插入和删除行列，移动范围内单元格"
   ]
  },
  {
   "cell_type": "code",
   "execution_count": 104,
   "metadata": {},
   "outputs": [],
   "source": [
    "from openpyxl import Workbook\n",
    "wb = Workbook()\n",
    "ws = wb.active"
   ]
  },
  {
   "cell_type": "code",
   "execution_count": 105,
   "metadata": {},
   "outputs": [],
   "source": [
    "for irow in range(9):\n",
    "    ws.append(range(9))"
   ]
  },
  {
   "cell_type": "markdown",
   "metadata": {},
   "source": [
    "#### 插入行和列"
   ]
  },
  {
   "cell_type": "markdown",
   "metadata": {},
   "source": [
    "* [openpyxl.worksheet.worksheet.Worksheet.insert_rows()](https://openpyxl.readthedocs.io/en/stable/api/openpyxl.worksheet.worksheet.html#openpyxl.worksheet.worksheet.Worksheet.insert_rows)\n",
    "* [worksheet.worksheet.Worksheet.insert_cols()](https://openpyxl.readthedocs.io/en/stable/api/openpyxl.worksheet.worksheet.html#openpyxl.worksheet.worksheet.Worksheet.insert_cols)\n",
    "* [openpyxl.worksheet.worksheet.Worksheet.delete_rows()](https://openpyxl.readthedocs.io/en/stable/api/openpyxl.worksheet.worksheet.html#openpyxl.worksheet.worksheet.Worksheet.delete_rows)\n",
    "* [openpyxl.worksheet.worksheet.Worksheet.delete_cols()](https://openpyxl.readthedocs.io/en/stable/api/openpyxl.worksheet.worksheet.html#openpyxl.worksheet.worksheet.Worksheet.delete_cols)"
   ]
  },
  {
   "cell_type": "code",
   "execution_count": 106,
   "metadata": {},
   "outputs": [],
   "source": [
    "# 第七行处插入一行（第七行移到第八行）\n",
    "ws.insert_rows(7)"
   ]
  },
  {
   "cell_type": "markdown",
   "metadata": {},
   "source": [
    "#### 删除行和列"
   ]
  },
  {
   "cell_type": "code",
   "execution_count": 107,
   "metadata": {},
   "outputs": [],
   "source": [
    "# 删除F到H列\n",
    "ws.delete_cols(6,3)"
   ]
  },
  {
   "cell_type": "markdown",
   "metadata": {},
   "source": [
    "#### 移动所选区域的单元格"
   ]
  },
  {
   "cell_type": "code",
   "execution_count": 108,
   "metadata": {},
   "outputs": [],
   "source": [
    "# 将D4：F10 上移一行，向右移两列\n",
    "ws.move_range(\"D4:F10\",rows=-1,cols=2)"
   ]
  },
  {
   "cell_type": "code",
   "execution_count": 109,
   "metadata": {},
   "outputs": [],
   "source": [
    "ws['B20'] = \"=SUM(B1:B5)\"\n",
    "ws['B15'] = \"=SUM(B1:B5)\"\n",
    "ws['C20'] = \"=SUM(C1:C5)\"\n",
    "ws['C15'] = \"=SUM(C1:C5)\"\n",
    "\n",
    "# 公式中的相对引用移动一行\n",
    "ws.move_range(\"B20:C20\",rows=0,cols=2,translate=True)"
   ]
  },
  {
   "cell_type": "code",
   "execution_count": 110,
   "metadata": {},
   "outputs": [],
   "source": [
    "wb.save('move.xlsx')"
   ]
  },
  {
   "cell_type": "markdown",
   "metadata": {},
   "source": [
    "## 数据存储"
   ]
  },
  {
   "cell_type": "code",
   "execution_count": 21,
   "metadata": {},
   "outputs": [
    {
     "data": {
      "text/plain": [
       "'d:\\\\base\\\\jupyter\\\\python\\\\库'"
      ]
     },
     "execution_count": 21,
     "metadata": {},
     "output_type": "execute_result"
    }
   ],
   "source": [
    "import os\n",
    "os.getcwd()"
   ]
  },
  {
   "cell_type": "markdown",
   "metadata": {},
   "source": [
    "* 保存为文件\n",
    "> Workbook.save()"
   ]
  },
  {
   "cell_type": "code",
   "execution_count": 22,
   "metadata": {},
   "outputs": [],
   "source": [
    "wb.save('balances.xlsx')"
   ]
  },
  {
   "cell_type": "markdown",
   "metadata": {},
   "source": [
    "* 保存为数据流"
   ]
  },
  {
   "cell_type": "code",
   "execution_count": null,
   "metadata": {},
   "outputs": [],
   "source": []
  },
  {
   "cell_type": "markdown",
   "metadata": {},
   "source": [
    "## 单元格格式"
   ]
  },
  {
   "cell_type": "markdown",
   "metadata": {},
   "source": [
    "### 数字样式\n"
   ]
  },
  {
   "cell_type": "code",
   "execution_count": 45,
   "metadata": {},
   "outputs": [],
   "source": [
    "import datetime\n",
    "from openpyxl import Workbook\n",
    "wb = Workbook()\n",
    "ws = wb.active"
   ]
  },
  {
   "cell_type": "code",
   "execution_count": 46,
   "metadata": {},
   "outputs": [
    {
     "data": {
      "text/plain": [
       "'yyyy-mm-dd h:mm:ss'"
      ]
     },
     "execution_count": 46,
     "metadata": {},
     "output_type": "execute_result"
    }
   ],
   "source": [
    "# set data using a Pyhton datetime\n",
    "ws['A1'] = datetime.datetime(2010,7,21)\n",
    "ws['A1'].number_format"
   ]
  },
  {
   "cell_type": "code",
   "execution_count": 47,
   "metadata": {},
   "outputs": [
    {
     "data": {
      "text/plain": [
       "'0'"
      ]
     },
     "execution_count": 47,
     "metadata": {},
     "output_type": "execute_result"
    }
   ],
   "source": [
    "ws['A1'].number_format = '0'   #设置为数值格式  0为数字占位符\n",
    "ws['A1'].number_format"
   ]
  },
  {
   "cell_type": "markdown",
   "metadata": {},
   "source": [
    "### 字体风格"
   ]
  },
  {
   "cell_type": "markdown",
   "metadata": {},
   "source": [
    "## 函数公式"
   ]
  },
  {
   "cell_type": "code",
   "execution_count": 54,
   "metadata": {},
   "outputs": [],
   "source": [
    "import datetime\n",
    "from openpyxl import Workbook\n",
    "wb = Workbook()\n",
    "ws = wb.active"
   ]
  },
  {
   "cell_type": "code",
   "execution_count": 60,
   "metadata": {
    "scrolled": true
   },
   "outputs": [
    {
     "name": "stdout",
     "output_type": "stream",
     "text": [
      "(1,)\n",
      "(1,)\n",
      "(1,)\n",
      "(1,)\n",
      "(1,)\n"
     ]
    }
   ],
   "source": [
    "# 给多个单元格赋值\n",
    "for row in ws.iter_rows(min_row=1,max_col=1,max_row=5):\n",
    "    for cell in row:\n",
    "        cell.value = 1\n",
    "for row in ws.values:\n",
    "    print(row)"
   ]
  },
  {
   "cell_type": "code",
   "execution_count": 50,
   "metadata": {},
   "outputs": [
    {
     "name": "stdout",
     "output_type": "stream",
     "text": [
      "(1, '=SUM(A1:A3)')\n",
      "(1, '=SUM(A1:A5)')\n",
      "(1, None)\n",
      "(1, None)\n",
      "(1, None)\n"
     ]
    }
   ],
   "source": [
    "ws['B1'] = \"=SUM(A1:A3)\"\n",
    "ws['B2'] = \"=SUM(A1:A5)\"\n",
    "\n",
    "for row in ws.values:\n",
    "    print(row)"
   ]
  },
  {
   "cell_type": "code",
   "execution_count": 51,
   "metadata": {},
   "outputs": [],
   "source": [
    "wb.save(\"formula.xlsx\")"
   ]
  },
  {
   "cell_type": "markdown",
   "metadata": {},
   "source": [
    "* openpyxl不计算公式，但可以判断是否存在这么一个公式"
   ]
  },
  {
   "cell_type": "code",
   "execution_count": 3,
   "metadata": {},
   "outputs": [],
   "source": [
    "from openpyxl.utils import FORMULAE\n"
   ]
  },
  {
   "cell_type": "code",
   "execution_count": 5,
   "metadata": {},
   "outputs": [
    {
     "ename": "SyntaxError",
     "evalue": "invalid syntax (<ipython-input-5-4ff83b136d70>, line 1)",
     "output_type": "error",
     "traceback": [
      "\u001b[1;36m  File \u001b[1;32m\"<ipython-input-5-4ff83b136d70>\"\u001b[1;36m, line \u001b[1;32m1\u001b[0m\n\u001b[1;33m    \"SUM\" IN FORMULAE\u001b[0m\n\u001b[1;37m           ^\u001b[0m\n\u001b[1;31mSyntaxError\u001b[0m\u001b[1;31m:\u001b[0m invalid syntax\n"
     ]
    }
   ],
   "source": [
    "\"HEX2DEC\" IN FORMULAE"
   ]
  },
  {
   "cell_type": "markdown",
   "metadata": {},
   "source": [
    "## 单元格合并"
   ]
  },
  {
   "cell_type": "markdown",
   "metadata": {},
   "source": [
    "> 合并单元格时，除左上角单元格外，所有单元格都将从工作表删除"
   ]
  },
  {
   "cell_type": "markdown",
   "metadata": {},
   "source": [
    "* Worksheet.merge_cells\n",
    "* Worksheet.unmerge_cells"
   ]
  },
  {
   "cell_type": "code",
   "execution_count": 29,
   "metadata": {},
   "outputs": [],
   "source": [
    "from openpyxl.workbook import Workbook\n",
    "\n",
    "wb = Workbook()\n",
    "ws = wb.active\n",
    "\n",
    "ws.merge_cells('A2:D2')\n",
    "ws.unmerge_cells('A2:D2')\n",
    "    \n",
    "# 等效于以下方法\n",
    "ws.merge_cells(start_row=2, start_column=1, end_row=2, end_column=4)\n",
    "ws.unmerge_cells(start_row=2, start_column=1, end_row=2, end_column=4)"
   ]
  },
  {
   "cell_type": "markdown",
   "metadata": {},
   "source": [
    "## 插入图像"
   ]
  },
  {
   "cell_type": "code",
   "execution_count": 16,
   "metadata": {},
   "outputs": [],
   "source": [
    "from openpyxl.workbook import Workbook\n",
    "from openpyxl.drawing.image import Image\n",
    "\n",
    "wb = Workbook()\n",
    "ws = wb.active\n",
    "ws['A1'] = \"You should see three logos below\""
   ]
  },
  {
   "cell_type": "code",
   "execution_count": 17,
   "metadata": {},
   "outputs": [],
   "source": [
    "# create an image\n",
    "img = Image(\"logo.jfif\")"
   ]
  },
  {
   "cell_type": "code",
   "execution_count": 22,
   "metadata": {},
   "outputs": [],
   "source": [
    "# add to worksheet and anchor next to cells\n",
    "ws.add_image(img,'A1')\n",
    "wb.save('logo.xlsx')"
   ]
  },
  {
   "cell_type": "markdown",
   "metadata": {},
   "source": [
    "## 折叠"
   ]
  },
  {
   "cell_type": "code",
   "execution_count": 27,
   "metadata": {},
   "outputs": [],
   "source": [
    "from openpyxl.workbook import Workbook\n",
    "\n",
    "wb = Workbook()\n",
    "ws = wb.create_sheet()\n",
    "\n",
    "ws.column_dimensions.group('A','D',hidden=True)\n",
    "ws.row_dimensions.group(1,10,hidden=True)\n",
    "\n",
    "wb.save('group.xlsx')"
   ]
  },
  {
   "cell_type": "markdown",
   "metadata": {},
   "source": [
    "## 优化模式"
   ]
  },
  {
   "cell_type": "markdown",
   "metadata": {},
   "source": [
    "### 只读模式"
   ]
  },
  {
   "cell_type": "code",
   "execution_count": 2,
   "metadata": {},
   "outputs": [
    {
     "ename": "FileNotFoundError",
     "evalue": "[Errno 2] No such file or directory: 'large_file.xlsx'",
     "output_type": "error",
     "traceback": [
      "\u001b[1;31m---------------------------------------------------------------------------\u001b[0m",
      "\u001b[1;31mFileNotFoundError\u001b[0m                         Traceback (most recent call last)",
      "\u001b[1;32m<ipython-input-2-7145e98fc84b>\u001b[0m in \u001b[0;36m<module>\u001b[1;34m\u001b[0m\n\u001b[0;32m      1\u001b[0m \u001b[1;32mfrom\u001b[0m \u001b[0mopenpyxl\u001b[0m \u001b[1;32mimport\u001b[0m \u001b[0mload_workbook\u001b[0m\u001b[1;33m\u001b[0m\u001b[0m\n\u001b[1;32m----> 2\u001b[1;33m \u001b[0mwb\u001b[0m \u001b[1;33m=\u001b[0m \u001b[0mload_workbook\u001b[0m\u001b[1;33m(\u001b[0m\u001b[1;34m'large_file.xlsx'\u001b[0m\u001b[1;33m,\u001b[0m\u001b[0mread_only\u001b[0m\u001b[1;33m=\u001b[0m\u001b[1;32mTrue\u001b[0m\u001b[1;33m)\u001b[0m\u001b[1;33m\u001b[0m\u001b[0m\n\u001b[0m\u001b[0;32m      3\u001b[0m \u001b[0mws\u001b[0m \u001b[1;33m=\u001b[0m \u001b[0mwb\u001b[0m\u001b[1;33m[\u001b[0m\u001b[1;34m'big data'\u001b[0m\u001b[1;33m]\u001b[0m\u001b[1;33m\u001b[0m\u001b[0m\n\u001b[0;32m      4\u001b[0m \u001b[1;33m\u001b[0m\u001b[0m\n\u001b[0;32m      5\u001b[0m \u001b[1;32mfor\u001b[0m \u001b[0mrow\u001b[0m \u001b[1;32min\u001b[0m \u001b[0mws\u001b[0m\u001b[1;33m.\u001b[0m\u001b[0mrows\u001b[0m\u001b[1;33m:\u001b[0m\u001b[1;33m\u001b[0m\u001b[0m\n",
      "\u001b[1;32mD:\\programs\\code\\Anaconda3\\lib\\site-packages\\openpyxl\\reader\\excel.py\u001b[0m in \u001b[0;36mload_workbook\u001b[1;34m(filename, read_only, keep_vba, data_only, keep_links)\u001b[0m\n\u001b[0;32m    314\u001b[0m     \"\"\"\n\u001b[0;32m    315\u001b[0m     reader = ExcelReader(filename, read_only, keep_vba,\n\u001b[1;32m--> 316\u001b[1;33m                         data_only, keep_links)\n\u001b[0m\u001b[0;32m    317\u001b[0m     \u001b[0mreader\u001b[0m\u001b[1;33m.\u001b[0m\u001b[0mread\u001b[0m\u001b[1;33m(\u001b[0m\u001b[1;33m)\u001b[0m\u001b[1;33m\u001b[0m\u001b[0m\n\u001b[0;32m    318\u001b[0m     \u001b[1;32mreturn\u001b[0m \u001b[0mreader\u001b[0m\u001b[1;33m.\u001b[0m\u001b[0mwb\u001b[0m\u001b[1;33m\u001b[0m\u001b[0m\n",
      "\u001b[1;32mD:\\programs\\code\\Anaconda3\\lib\\site-packages\\openpyxl\\reader\\excel.py\u001b[0m in \u001b[0;36m__init__\u001b[1;34m(self, fn, read_only, keep_vba, data_only, keep_links)\u001b[0m\n\u001b[0;32m    122\u001b[0m     def __init__(self,  fn, read_only=False, keep_vba=KEEP_VBA,\n\u001b[0;32m    123\u001b[0m                   data_only=False, keep_links=True):\n\u001b[1;32m--> 124\u001b[1;33m         \u001b[0mself\u001b[0m\u001b[1;33m.\u001b[0m\u001b[0marchive\u001b[0m \u001b[1;33m=\u001b[0m \u001b[0m_validate_archive\u001b[0m\u001b[1;33m(\u001b[0m\u001b[0mfn\u001b[0m\u001b[1;33m)\u001b[0m\u001b[1;33m\u001b[0m\u001b[0m\n\u001b[0m\u001b[0;32m    125\u001b[0m         \u001b[0mself\u001b[0m\u001b[1;33m.\u001b[0m\u001b[0mvalid_files\u001b[0m \u001b[1;33m=\u001b[0m \u001b[0mself\u001b[0m\u001b[1;33m.\u001b[0m\u001b[0marchive\u001b[0m\u001b[1;33m.\u001b[0m\u001b[0mnamelist\u001b[0m\u001b[1;33m(\u001b[0m\u001b[1;33m)\u001b[0m\u001b[1;33m\u001b[0m\u001b[0m\n\u001b[0;32m    126\u001b[0m         \u001b[0mself\u001b[0m\u001b[1;33m.\u001b[0m\u001b[0mread_only\u001b[0m \u001b[1;33m=\u001b[0m \u001b[0mread_only\u001b[0m\u001b[1;33m\u001b[0m\u001b[0m\n",
      "\u001b[1;32mD:\\programs\\code\\Anaconda3\\lib\\site-packages\\openpyxl\\reader\\excel.py\u001b[0m in \u001b[0;36m_validate_archive\u001b[1;34m(filename)\u001b[0m\n\u001b[0;32m     94\u001b[0m             \u001b[1;32mraise\u001b[0m \u001b[0mInvalidFileException\u001b[0m\u001b[1;33m(\u001b[0m\u001b[0mmsg\u001b[0m\u001b[1;33m)\u001b[0m\u001b[1;33m\u001b[0m\u001b[0m\n\u001b[0;32m     95\u001b[0m \u001b[1;33m\u001b[0m\u001b[0m\n\u001b[1;32m---> 96\u001b[1;33m     \u001b[0marchive\u001b[0m \u001b[1;33m=\u001b[0m \u001b[0mZipFile\u001b[0m\u001b[1;33m(\u001b[0m\u001b[0mfilename\u001b[0m\u001b[1;33m,\u001b[0m \u001b[1;34m'r'\u001b[0m\u001b[1;33m)\u001b[0m\u001b[1;33m\u001b[0m\u001b[0m\n\u001b[0m\u001b[0;32m     97\u001b[0m     \u001b[1;32mreturn\u001b[0m \u001b[0marchive\u001b[0m\u001b[1;33m\u001b[0m\u001b[0m\n\u001b[0;32m     98\u001b[0m \u001b[1;33m\u001b[0m\u001b[0m\n",
      "\u001b[1;32mD:\\programs\\code\\Anaconda3\\lib\\zipfile.py\u001b[0m in \u001b[0;36m__init__\u001b[1;34m(self, file, mode, compression, allowZip64, compresslevel)\u001b[0m\n\u001b[0;32m   1180\u001b[0m             \u001b[1;32mwhile\u001b[0m \u001b[1;32mTrue\u001b[0m\u001b[1;33m:\u001b[0m\u001b[1;33m\u001b[0m\u001b[0m\n\u001b[0;32m   1181\u001b[0m                 \u001b[1;32mtry\u001b[0m\u001b[1;33m:\u001b[0m\u001b[1;33m\u001b[0m\u001b[0m\n\u001b[1;32m-> 1182\u001b[1;33m                     \u001b[0mself\u001b[0m\u001b[1;33m.\u001b[0m\u001b[0mfp\u001b[0m \u001b[1;33m=\u001b[0m \u001b[0mio\u001b[0m\u001b[1;33m.\u001b[0m\u001b[0mopen\u001b[0m\u001b[1;33m(\u001b[0m\u001b[0mfile\u001b[0m\u001b[1;33m,\u001b[0m \u001b[0mfilemode\u001b[0m\u001b[1;33m)\u001b[0m\u001b[1;33m\u001b[0m\u001b[0m\n\u001b[0m\u001b[0;32m   1183\u001b[0m                 \u001b[1;32mexcept\u001b[0m \u001b[0mOSError\u001b[0m\u001b[1;33m:\u001b[0m\u001b[1;33m\u001b[0m\u001b[0m\n\u001b[0;32m   1184\u001b[0m                     \u001b[1;32mif\u001b[0m \u001b[0mfilemode\u001b[0m \u001b[1;32min\u001b[0m \u001b[0mmodeDict\u001b[0m\u001b[1;33m:\u001b[0m\u001b[1;33m\u001b[0m\u001b[0m\n",
      "\u001b[1;31mFileNotFoundError\u001b[0m: [Errno 2] No such file or directory: 'large_file.xlsx'"
     ]
    }
   ],
   "source": [
    "from openpyxl import load_workbook\n",
    "wb = load_workbook('large_file.xlsx',read_only=True)\n",
    "ws = wb['big data']\n",
    "\n",
    "for row in ws.rows:\n",
    "    for cell in row:\n",
    "        print(cell.value)"
   ]
  },
  {
   "cell_type": "markdown",
   "metadata": {},
   "source": [
    "* 工作表的边界"
   ]
  },
  {
   "cell_type": "code",
   "execution_count": null,
   "metadata": {},
   "outputs": [],
   "source": []
  },
  {
   "cell_type": "markdown",
   "metadata": {},
   "source": [
    "### 只写模式"
   ]
  },
  {
   "cell_type": "code",
   "execution_count": 12,
   "metadata": {},
   "outputs": [],
   "source": [
    "from openpyxl import Workbook\n",
    "wb = Workbook(write_only=True)\n",
    "ws = wb.create_sheet()\n",
    "\n",
    "# now we'll fill it with 100 rows * 200 columns\n",
    "for irow in range(100):\n",
    "    ws.append([i for i in range(200)])\n",
    "    \n",
    "wb.save('new_big_file.xlsx')"
   ]
  },
  {
   "cell_type": "markdown",
   "metadata": {},
   "source": [
    "* 使单元格具有样式或注释  openpyxl.cell.WriteOnlyCell()\n",
    "    * 工作表必须用create_sheet()方法专门创建\n",
    "    * 只能用append()添加行\n",
    "    * write-only工作簿只能保存一次"
   ]
  },
  {
   "cell_type": "code",
   "execution_count": 63,
   "metadata": {},
   "outputs": [],
   "source": [
    "from openpyxl import Workbook\n",
    "wb = Workbook(write_only=True)\n",
    "ws = wb.create_sheet()"
   ]
  },
  {
   "cell_type": "code",
   "execution_count": 64,
   "metadata": {},
   "outputs": [
    {
     "name": "stderr",
     "output_type": "stream",
     "text": [
      "Exception ignored in: <generator object WorksheetWriter.get_stream at 0x00000178BD62B8B8>\n",
      "Traceback (most recent call last):\n",
      "  File \"D:\\programs\\code\\Anaconda3\\lib\\site-packages\\openpyxl\\worksheet\\_writer.py\", line 300, in get_stream\n",
      "    pass\n",
      "  File \"src/lxml/serializer.pxi\", line 1400, in lxml.etree._FileWriterElement.__exit__\n",
      "  File \"src/lxml/serializer.pxi\", line 1136, in lxml.etree._IncrementalFileWriter._write_end_element\n",
      "lxml.etree.LxmlSyntaxError: inconsistent exit action in context manager\n",
      "Exception ignored in: <generator object WriteOnlyWorksheet._write_rows at 0x00000178BD62BC78>\n",
      "Traceback (most recent call last):\n",
      "  File \"D:\\programs\\code\\Anaconda3\\lib\\site-packages\\openpyxl\\worksheet\\_write_only.py\", line 75, in _write_rows\n",
      "    pass\n",
      "  File \"src/lxml/serializer.pxi\", line 1400, in lxml.etree._FileWriterElement.__exit__\n",
      "  File \"src/lxml/serializer.pxi\", line 1134, in lxml.etree._IncrementalFileWriter._write_end_element\n",
      "lxml.etree.LxmlSyntaxError: not in an element\n"
     ]
    }
   ],
   "source": [
    "from openpyxl.cell import WriteOnlyCell\n",
    "from openpyxl.comments import Comment\n",
    "from openpyxl.styles import Font\n",
    "# cell在写入文档之前必须创建好\n",
    "cell = WriteOnlyCell(ws,value='hello world')\n",
    "cell.font = Font(name='Courier',size=36)\n",
    "cell.comment = Comment(text='A comment',author='syj')\n",
    "ws.append([cell, 3.14, None])\n",
    "\n",
    "# cell相当于一种单元格模式，填入到指定单元格中去\n",
    "# 在writeonlycell与cell不相同，writeonlycell不能指定cell的位置\n",
    "# cell在填入之前需要创建好\n",
    "cell2 = WriteOnlyCell(ws, value='hello world')\n",
    "ws.append([cell2, 3, None])\n",
    "wb.save('write_only_file.xlsx')"
   ]
  },
  {
   "cell_type": "markdown",
   "metadata": {},
   "source": [
    "## 与Pandas和Numpy协同使用"
   ]
  },
  {
   "cell_type": "markdown",
   "metadata": {},
   "source": [
    "### pandas Dataframs--->excel"
   ]
  },
  {
   "cell_type": "markdown",
   "metadata": {},
   "source": [
    "#### normal mode"
   ]
  },
  {
   "cell_type": "code",
   "execution_count": 2,
   "metadata": {},
   "outputs": [
    {
     "data": {
      "text/html": [
       "<div>\n",
       "<style scoped>\n",
       "    .dataframe tbody tr th:only-of-type {\n",
       "        vertical-align: middle;\n",
       "    }\n",
       "\n",
       "    .dataframe tbody tr th {\n",
       "        vertical-align: top;\n",
       "    }\n",
       "\n",
       "    .dataframe thead th {\n",
       "        text-align: right;\n",
       "    }\n",
       "</style>\n",
       "<table border=\"1\" class=\"dataframe\">\n",
       "  <thead>\n",
       "    <tr style=\"text-align: right;\">\n",
       "      <th></th>\n",
       "      <th>0</th>\n",
       "      <th>1</th>\n",
       "      <th>2</th>\n",
       "      <th>3</th>\n",
       "      <th>4</th>\n",
       "    </tr>\n",
       "  </thead>\n",
       "  <tbody>\n",
       "    <tr>\n",
       "      <th>c</th>\n",
       "      <td>0</td>\n",
       "      <td>1</td>\n",
       "      <td>2</td>\n",
       "      <td>3</td>\n",
       "      <td>4</td>\n",
       "    </tr>\n",
       "    <tr>\n",
       "      <th>a</th>\n",
       "      <td>5</td>\n",
       "      <td>6</td>\n",
       "      <td>7</td>\n",
       "      <td>8</td>\n",
       "      <td>9</td>\n",
       "    </tr>\n",
       "    <tr>\n",
       "      <th>d</th>\n",
       "      <td>10</td>\n",
       "      <td>11</td>\n",
       "      <td>12</td>\n",
       "      <td>13</td>\n",
       "      <td>14</td>\n",
       "    </tr>\n",
       "    <tr>\n",
       "      <th>b</th>\n",
       "      <td>15</td>\n",
       "      <td>16</td>\n",
       "      <td>17</td>\n",
       "      <td>18</td>\n",
       "      <td>19</td>\n",
       "    </tr>\n",
       "  </tbody>\n",
       "</table>\n",
       "</div>"
      ],
      "text/plain": [
       "    0   1   2   3   4\n",
       "c   0   1   2   3   4\n",
       "a   5   6   7   8   9\n",
       "d  10  11  12  13  14\n",
       "b  15  16  17  18  19"
      ]
     },
     "execution_count": 2,
     "metadata": {},
     "output_type": "execute_result"
    }
   ],
   "source": [
    "import pandas as pd\n",
    "import numpy as np\n",
    "df = pd.DataFrame(np.arange(20).reshape(4,5),index=['c','a','d','b'])\n",
    "df"
   ]
  },
  {
   "cell_type": "code",
   "execution_count": 7,
   "metadata": {},
   "outputs": [],
   "source": [
    "from openpyxl.utils.dataframe import dataframe_to_rows\n",
    "from openpyxl import Workbook\n",
    "wb = Workbook()\n",
    "ws = wb.active\n",
    "\n",
    "for r in dataframe_to_rows(df, index=True, header=True):\n",
    "    ws.append(r)\n",
    "    \n",
    "wb.save('pd2exc.xlsx')"
   ]
  },
  {
   "cell_type": "markdown",
   "metadata": {},
   "source": [
    "* highlighting the header and index"
   ]
  },
  {
   "cell_type": "code",
   "execution_count": 9,
   "metadata": {},
   "outputs": [],
   "source": [
    "wb = Workbook()\n",
    "ws = wb.active\n",
    "\n",
    "for r in dataframe_to_rows(df, index=True, header=True):\n",
    "    ws.append(r)\n",
    "\n",
    "# highliting\n",
    "for cell in ws['A'] + ws[1]:\n",
    "    cell.style = 'Pandas'\n",
    "    \n",
    "wb.save('pddas_openpyxl.xlsx')"
   ]
  },
  {
   "cell_type": "markdown",
   "metadata": {},
   "source": [
    "#### write-only mode"
   ]
  },
  {
   "cell_type": "code",
   "execution_count": 29,
   "metadata": {},
   "outputs": [],
   "source": [
    "from openpyxl.cell import WriteOnlyCell\n",
    "from openpyxl.utils.dataframe import dataframe_to_rows\n",
    "from openpyxl import Workbook\n",
    "\n",
    "wb = Workbook(write_only=True)\n",
    "ws = wb.create_sheet()\n",
    "\n",
    "# writeonly模式下，单元格智能填入一次\n",
    "# 所以不能通过先填入值，再填入格式的方式访问单元格\n",
    "# 需要直接填入  值+格式  的单元格\n",
    "cell = WriteOnlyCell(ws)\n",
    "cell.style = 'Pandas'\n",
    "\n",
    "def format_first_row(row,cell):\n",
    "    for c in row:\n",
    "        cell.value=c\n",
    "        yield cell\n",
    "\n",
    "rows = dataframe_to_rows(df, index=True, header=True)\n",
    "first_row = format_first_row(next(rows), cell)  #first_row为一个迭代器\n",
    "ws.append(first_row)"
   ]
  },
  {
   "cell_type": "code",
   "execution_count": 32,
   "metadata": {},
   "outputs": [
    {
     "name": "stdout",
     "output_type": "stream",
     "text": [
      "c\n",
      "<Cell 'Sheet'.A1>\n",
      "0\n",
      "<Cell 'Sheet'.A1>\n",
      "1\n",
      "<Cell 'Sheet'.A1>\n",
      "2\n",
      "<Cell 'Sheet'.A1>\n",
      "3\n",
      "<Cell 'Sheet'.A1>\n",
      "4\n",
      "<Cell 'Sheet'.A1>\n"
     ]
    },
    {
     "data": {
      "text/plain": [
       "[<Cell 'Sheet'.A1>,\n",
       " <Cell 'Sheet'.A1>,\n",
       " <Cell 'Sheet'.A1>,\n",
       " <Cell 'Sheet'.A1>,\n",
       " <Cell 'Sheet'.A1>,\n",
       " <Cell 'Sheet'.A1>]"
      ]
     },
     "execution_count": 32,
     "metadata": {},
     "output_type": "execute_result"
    }
   ],
   "source": [
    "list(format_first_row(next(rows), cell))"
   ]
  },
  {
   "cell_type": "code",
   "execution_count": 38,
   "metadata": {},
   "outputs": [
    {
     "name": "stdout",
     "output_type": "stream",
     "text": [
      "[<Cell 'Sheet'.F1>]\n",
      "[<Cell 'Sheet'.A2>, 0, 1, 2, 3, 4]\n",
      "[<Cell 'Sheet'.A3>, 5, 6, 7, 8, 9]\n",
      "[<Cell 'Sheet'.A4>, 10, 11, 12, 13, 14]\n",
      "[<Cell 'Sheet'.A5>, 15, 16, 17, 18, 19]\n"
     ]
    }
   ],
   "source": [
    "for row in rows:\n",
    "    row = list(row)\n",
    "    cell.value = row[0]\n",
    "    row[0] = cell   #用cell(包含值(=row[0])和格式的单元格） 替换掉row[0]（只有值）\n",
    "    print(row)\n",
    "    ws.append(row)\n",
    "    \n",
    "\n",
    "wb.save('openpyxl_stream.xlsx')"
   ]
  },
  {
   "cell_type": "markdown",
   "metadata": {},
   "source": [
    "### worksheet--->dataframe    "
   ]
  },
  {
   "cell_type": "code",
   "execution_count": 34,
   "metadata": {},
   "outputs": [],
   "source": [
    "from openpyxl import load_workbook\n",
    "wb = load_workbook('pd2exc.xlsx')\n",
    "ws = wb.active"
   ]
  },
  {
   "cell_type": "code",
   "execution_count": 35,
   "metadata": {},
   "outputs": [
    {
     "data": {
      "text/html": [
       "<div>\n",
       "<style scoped>\n",
       "    .dataframe tbody tr th:only-of-type {\n",
       "        vertical-align: middle;\n",
       "    }\n",
       "\n",
       "    .dataframe tbody tr th {\n",
       "        vertical-align: top;\n",
       "    }\n",
       "\n",
       "    .dataframe thead th {\n",
       "        text-align: right;\n",
       "    }\n",
       "</style>\n",
       "<table border=\"1\" class=\"dataframe\">\n",
       "  <thead>\n",
       "    <tr style=\"text-align: right;\">\n",
       "      <th></th>\n",
       "      <th>0</th>\n",
       "      <th>1</th>\n",
       "      <th>2</th>\n",
       "      <th>3</th>\n",
       "      <th>4</th>\n",
       "      <th>5</th>\n",
       "    </tr>\n",
       "  </thead>\n",
       "  <tbody>\n",
       "    <tr>\n",
       "      <th>0</th>\n",
       "      <td>None</td>\n",
       "      <td>0.0</td>\n",
       "      <td>1.0</td>\n",
       "      <td>2.0</td>\n",
       "      <td>3.0</td>\n",
       "      <td>4.0</td>\n",
       "    </tr>\n",
       "    <tr>\n",
       "      <th>1</th>\n",
       "      <td>None</td>\n",
       "      <td>NaN</td>\n",
       "      <td>NaN</td>\n",
       "      <td>NaN</td>\n",
       "      <td>NaN</td>\n",
       "      <td>NaN</td>\n",
       "    </tr>\n",
       "    <tr>\n",
       "      <th>2</th>\n",
       "      <td>c</td>\n",
       "      <td>0.0</td>\n",
       "      <td>1.0</td>\n",
       "      <td>2.0</td>\n",
       "      <td>3.0</td>\n",
       "      <td>4.0</td>\n",
       "    </tr>\n",
       "    <tr>\n",
       "      <th>3</th>\n",
       "      <td>a</td>\n",
       "      <td>5.0</td>\n",
       "      <td>6.0</td>\n",
       "      <td>7.0</td>\n",
       "      <td>8.0</td>\n",
       "      <td>9.0</td>\n",
       "    </tr>\n",
       "    <tr>\n",
       "      <th>4</th>\n",
       "      <td>d</td>\n",
       "      <td>10.0</td>\n",
       "      <td>11.0</td>\n",
       "      <td>12.0</td>\n",
       "      <td>13.0</td>\n",
       "      <td>14.0</td>\n",
       "    </tr>\n",
       "    <tr>\n",
       "      <th>5</th>\n",
       "      <td>b</td>\n",
       "      <td>15.0</td>\n",
       "      <td>16.0</td>\n",
       "      <td>17.0</td>\n",
       "      <td>18.0</td>\n",
       "      <td>19.0</td>\n",
       "    </tr>\n",
       "  </tbody>\n",
       "</table>\n",
       "</div>"
      ],
      "text/plain": [
       "      0     1     2     3     4     5\n",
       "0  None   0.0   1.0   2.0   3.0   4.0\n",
       "1  None   NaN   NaN   NaN   NaN   NaN\n",
       "2     c   0.0   1.0   2.0   3.0   4.0\n",
       "3     a   5.0   6.0   7.0   8.0   9.0\n",
       "4     d  10.0  11.0  12.0  13.0  14.0\n",
       "5     b  15.0  16.0  17.0  18.0  19.0"
      ]
     },
     "execution_count": 35,
     "metadata": {},
     "output_type": "execute_result"
    }
   ],
   "source": [
    "import pandas as pd\n",
    "import numpy as np\n",
    "\n",
    "df = pd.DataFrame(ws.values)\n",
    "df"
   ]
  },
  {
   "cell_type": "markdown",
   "metadata": {},
   "source": [
    "* worksheet has headers or indices"
   ]
  },
  {
   "cell_type": "code",
   "execution_count": 37,
   "metadata": {},
   "outputs": [],
   "source": [
    "from itertools import islice\n",
    "\n",
    "data = ws.values\n",
    "cols = next(data)[1:]\n",
    "data = list(data)\n",
    "idx = [r[0] for r in data]\n",
    "data = (islice(r,1,None) for r in data)  # 获取迭代器的切片\n",
    "df = pd.DataFrame(data, index=idx, columns=cols)"
   ]
  },
  {
   "cell_type": "code",
   "execution_count": 27,
   "metadata": {},
   "outputs": [
    {
     "data": {
      "text/html": [
       "<div>\n",
       "<style scoped>\n",
       "    .dataframe tbody tr th:only-of-type {\n",
       "        vertical-align: middle;\n",
       "    }\n",
       "\n",
       "    .dataframe tbody tr th {\n",
       "        vertical-align: top;\n",
       "    }\n",
       "\n",
       "    .dataframe thead th {\n",
       "        text-align: right;\n",
       "    }\n",
       "</style>\n",
       "<table border=\"1\" class=\"dataframe\">\n",
       "  <thead>\n",
       "    <tr style=\"text-align: right;\">\n",
       "      <th></th>\n",
       "      <th>0</th>\n",
       "      <th>1</th>\n",
       "      <th>2</th>\n",
       "      <th>3</th>\n",
       "      <th>4</th>\n",
       "    </tr>\n",
       "  </thead>\n",
       "  <tbody>\n",
       "    <tr>\n",
       "      <th>NaN</th>\n",
       "      <td>NaN</td>\n",
       "      <td>NaN</td>\n",
       "      <td>NaN</td>\n",
       "      <td>NaN</td>\n",
       "      <td>NaN</td>\n",
       "    </tr>\n",
       "    <tr>\n",
       "      <th>c</th>\n",
       "      <td>0.0</td>\n",
       "      <td>1.0</td>\n",
       "      <td>2.0</td>\n",
       "      <td>3.0</td>\n",
       "      <td>4.0</td>\n",
       "    </tr>\n",
       "    <tr>\n",
       "      <th>a</th>\n",
       "      <td>5.0</td>\n",
       "      <td>6.0</td>\n",
       "      <td>7.0</td>\n",
       "      <td>8.0</td>\n",
       "      <td>9.0</td>\n",
       "    </tr>\n",
       "    <tr>\n",
       "      <th>d</th>\n",
       "      <td>10.0</td>\n",
       "      <td>11.0</td>\n",
       "      <td>12.0</td>\n",
       "      <td>13.0</td>\n",
       "      <td>14.0</td>\n",
       "    </tr>\n",
       "    <tr>\n",
       "      <th>b</th>\n",
       "      <td>15.0</td>\n",
       "      <td>16.0</td>\n",
       "      <td>17.0</td>\n",
       "      <td>18.0</td>\n",
       "      <td>19.0</td>\n",
       "    </tr>\n",
       "  </tbody>\n",
       "</table>\n",
       "</div>"
      ],
      "text/plain": [
       "        0     1     2     3     4\n",
       "NaN   NaN   NaN   NaN   NaN   NaN\n",
       "c     0.0   1.0   2.0   3.0   4.0\n",
       "a     5.0   6.0   7.0   8.0   9.0\n",
       "d    10.0  11.0  12.0  13.0  14.0\n",
       "b    15.0  16.0  17.0  18.0  19.0"
      ]
     },
     "execution_count": 27,
     "metadata": {},
     "output_type": "execute_result"
    }
   ],
   "source": [
    "df"
   ]
  },
  {
   "cell_type": "markdown",
   "metadata": {},
   "source": [
    "## 实例"
   ]
  },
  {
   "cell_type": "markdown",
   "metadata": {},
   "source": [
    "### 写工作簿"
   ]
  },
  {
   "cell_type": "code",
   "execution_count": 4,
   "metadata": {},
   "outputs": [],
   "source": [
    "from openpyxl import Workbook\n",
    "from openpyxl.utils import get_column_letter\n",
    "\n",
    "wb = Workbook()\n",
    "dest_filename = 'empty_book.xlsx'"
   ]
  },
  {
   "cell_type": "code",
   "execution_count": 6,
   "metadata": {},
   "outputs": [],
   "source": [
    "ws1 = wb.active\n",
    "ws1.title = 'range names'\n",
    "\n",
    "for row in range(1,40):\n",
    "    ws1.append(range(600))"
   ]
  },
  {
   "cell_type": "code",
   "execution_count": 7,
   "metadata": {},
   "outputs": [],
   "source": [
    "ws2 = wb.create_sheet(title='Pi')\n",
    "ws2['F5'] = 3.14"
   ]
  },
  {
   "cell_type": "code",
   "execution_count": 14,
   "metadata": {},
   "outputs": [],
   "source": [
    "ws3 = wb.create_sheet(title='Data')\n",
    "for row in range(10,20):\n",
    "    for col in range(27,54):\n",
    "        ws3.cell(column=col,row=row,value='{}'.format(get_column_letter(col)))"
   ]
  },
  {
   "cell_type": "code",
   "execution_count": 15,
   "metadata": {},
   "outputs": [
    {
     "name": "stdout",
     "output_type": "stream",
     "text": [
      "AA\n"
     ]
    }
   ],
   "source": [
    "print(ws3['AA10'].value)"
   ]
  },
  {
   "cell_type": "code",
   "execution_count": 16,
   "metadata": {},
   "outputs": [],
   "source": [
    "wb.save(filename=dest_filename)"
   ]
  },
  {
   "cell_type": "markdown",
   "metadata": {},
   "source": [
    "### 读取已存在的工作簿"
   ]
  },
  {
   "cell_type": "code",
   "execution_count": 27,
   "metadata": {},
   "outputs": [
    {
     "name": "stdout",
     "output_type": "stream",
     "text": [
      "3\n"
     ]
    }
   ],
   "source": [
    "from openpyxl import load_workbook\n",
    "wb = load_workbook(filename='empty_book.xlsx')\n",
    "sheet_ranges = wb['range names']\n",
    "print(sheet_ranges['D18'].value)"
   ]
  },
  {
   "cell_type": "markdown",
   "metadata": {},
   "source": [
    "### 写工作簿2"
   ]
  },
  {
   "cell_type": "code",
   "execution_count": 22,
   "metadata": {},
   "outputs": [
    {
     "name": "stdout",
     "output_type": "stream",
     "text": [
      "TIME\tTITLE\tA-Z\t\n",
      "23:26:45\t1636212405.9859722\tAR\t\n",
      "23:26:45\t1636212405.9859722\tR\t\n",
      "23:26:45\t1636212405.9859722\tO\t\n",
      "23:26:45\t1636212405.9859722\tC\t\n",
      "23:26:45\t1636212405.9859722\tV\t\n",
      "23:26:45\t1636212405.9859722\tAN\t\n",
      "23:26:45\t1636212405.9859722\tAG\t\n",
      "23:26:45\t1636212405.9859722\tV\t\n",
      "23:26:45\t1636212405.9859722\tAT\t\n",
      "23:26:45\t1636212405.9859722\tAQ\t\n",
      "23:26:45\t1636212405.9859722\tK\t\n",
      "23:26:45\t1636212405.9859722\tP\t\n",
      "23:26:45\t1636212405.9859722\tB\t\n",
      "23:26:45\t1636212405.9859722\tG\t\n",
      "23:26:45\t1636212405.9859722\tX\t\n",
      "23:26:45\t1636212405.9859722\tAV\t\n",
      "23:26:45\t1636212405.9859722\tC\t\n",
      "23:26:45\t1636212405.9869742\tD\t\n",
      "23:26:45\t1636212405.9869742\tAK\t\n",
      "23:26:45\t1636212405.9869742\tAD\t\n",
      "23:26:45\t1636212405.9869742\tAC\t\n",
      "23:26:45\t1636212405.9869742\tP\t\n",
      "23:26:45\t1636212405.9869742\tH\t\n",
      "23:26:45\t1636212405.9869742\tAF\t\n",
      "23:26:45\t1636212405.9869742\tAD\t\n",
      "23:26:45\t1636212405.9869742\tAJ\t\n",
      "23:26:45\t1636212405.9869742\tAU\t\n",
      "23:26:45\t1636212405.9869742\tAF\t\n",
      "23:26:45\t1636212405.9869742\tAN\t\n",
      "23:26:45\t1636212405.9869742\tB\t\n",
      "23:26:45\t1636212405.9869742\tN\t\n",
      "23:26:45\t1636212405.9869742\tE\t\n",
      "23:26:45\t1636212405.9869742\tAP\t\n",
      "23:26:45\t1636212405.9869742\tU\t\n",
      "23:26:45\t1636212405.9869742\tAN\t\n",
      "23:26:45\t1636212405.9869742\tAP\t\n",
      "23:26:45\t1636212405.9869742\tAQ\t\n",
      "23:26:45\t1636212405.9869742\tAV\t\n",
      "23:26:45\t1636212405.9869742\tAQ\t\n",
      "23:26:45\t1636212405.9869742\tW\t\n",
      "23:26:45\t1636212405.9869742\tAR\t\n",
      "23:26:45\t1636212405.9869742\tT\t\n",
      "23:26:45\t1636212405.9869742\tAE\t\n",
      "23:26:45\t1636212405.9869742\tAR\t\n",
      "23:26:45\t1636212405.9869742\tAL\t\n",
      "23:26:45\t1636212405.9869742\tE\t\n",
      "23:26:45\t1636212405.9869742\tB\t\n",
      "23:26:45\t1636212405.9869742\tX\t\n",
      "23:26:45\t1636212405.9869742\tR\t\n",
      "23:26:45\t1636212405.9869742\tJ\t\n",
      "23:26:45\t1636212405.9869742\tX\t\n",
      "23:26:45\t1636212405.9869742\tN\t\n",
      "23:26:45\t1636212405.9869742\tP\t\n",
      "23:26:45\t1636212405.9869742\tAF\t\n",
      "23:26:45\t1636212405.9869742\tX\t\n",
      "23:26:45\t1636212405.9869742\tK\t\n",
      "23:26:45\t1636212405.9869742\tAJ\t\n",
      "23:26:45\t1636212405.9869742\tZ\t\n",
      "23:26:45\t1636212405.9869742\tAG\t\n",
      "23:26:45\t1636212405.9869742\tO\t\n",
      "23:26:45\t1636212405.9869742\tN\t\n",
      "23:26:45\t1636212405.9869742\tB\t\n",
      "23:26:45\t1636212405.9869742\tS\t\n",
      "23:26:45\t1636212405.9869742\tN\t\n",
      "23:26:45\t1636212405.9869742\tAI\t\n",
      "23:26:45\t1636212405.9869742\tE\t\n",
      "23:26:45\t1636212405.9869742\tV\t\n",
      "23:26:45\t1636212405.9869742\tAQ\t\n",
      "23:26:45\t1636212405.9869742\tO\t\n",
      "23:26:45\t1636212405.9869742\tA\t\n",
      "23:26:45\t1636212405.9869742\tL\t\n",
      "23:26:45\t1636212405.9869742\tF\t\n",
      "23:26:45\t1636212405.9869742\tAL\t\n",
      "23:26:45\t1636212405.9869742\tAR\t\n",
      "23:26:45\t1636212405.9869742\tAL\t\n",
      "23:26:45\t1636212405.9869742\tG\t\n",
      "23:26:45\t1636212405.9869742\tAJ\t\n",
      "23:26:45\t1636212405.9869742\tV\t\n",
      "23:26:45\t1636212405.9869742\tH\t\n",
      "23:26:45\t1636212405.9869742\tC\t\n",
      "23:26:45\t1636212405.9869742\tM\t\n",
      "23:26:45\t1636212405.9869742\tAP\t\n",
      "23:26:45\t1636212405.9879785\tZ\t\n",
      "23:26:45\t1636212405.9879785\tA\t\n",
      "23:26:45\t1636212405.9879785\tAA\t\n",
      "23:26:45\t1636212405.9879785\tP\t\n",
      "23:26:45\t1636212405.9879785\tV\t\n",
      "23:26:45\t1636212405.9879785\tAG\t\n",
      "23:26:45\t1636212405.9879785\tZ\t\n",
      "23:26:45\t1636212405.9879785\tK\t\n",
      "23:26:45\t1636212405.9879785\tA\t\n",
      "23:26:45\t1636212405.9879785\tAR\t\n",
      "23:26:45\t1636212405.9879785\tAN\t\n",
      "23:26:45\t1636212405.9879785\tL\t\n",
      "23:26:45\t1636212405.9879785\tG\t\n",
      "23:26:45\t1636212405.9879785\tAB\t\n",
      "23:26:45\t1636212405.9879785\tAO\t\n",
      "23:26:45\t1636212405.9879785\tAG\t\n",
      "23:26:45\t1636212405.9879785\tAF\t\n",
      "23:26:45\t1636212405.9879785\tS\t\n",
      "23:26:45\t1636212405.9879785\tE\t\n",
      "23:26:45\t1636212405.9879785\tR\t\n",
      "23:26:45\t1636212405.9879785\tAR\t\n",
      "23:26:45\t1636212405.9879785\tAP\t\n",
      "23:26:45\t1636212405.9879785\tI\t\n",
      "23:26:45\t1636212405.9879785\tT\t\n",
      "23:26:45\t1636212405.9879785\tF\t\n",
      "23:26:45\t1636212405.9879785\tAE\t\n",
      "23:26:45\t1636212405.9879785\tD\t\n",
      "23:26:45\t1636212405.9879785\tZ\t\n",
      "23:26:45\t1636212405.9879785\tW\t\n",
      "23:26:45\t1636212405.9879785\tT\t\n",
      "23:26:45\t1636212405.9879785\tAW\t\n",
      "23:26:45\t1636212405.9879785\tAP\t\n",
      "23:26:45\t1636212405.9879785\tAF\t\n",
      "23:26:45\t1636212405.9879785\tAN\t\n",
      "23:26:45\t1636212405.9879785\tZ\t\n",
      "23:26:45\t1636212405.9879785\tAU\t\n",
      "23:26:45\t1636212405.9879785\tAN\t\n",
      "23:26:45\t1636212405.9879785\tD\t\n",
      "23:26:45\t1636212405.9879785\tL\t\n",
      "23:26:45\t1636212405.9879785\tU\t\n",
      "23:26:45\t1636212405.9879785\tH\t\n",
      "23:26:45\t1636212405.9879785\tQ\t\n",
      "23:26:45\t1636212405.9879785\tI\t\n",
      "23:26:45\t1636212405.9879785\tC\t\n",
      "23:26:45\t1636212405.9879785\tAG\t\n",
      "23:26:45\t1636212405.9879785\tG\t\n",
      "23:26:45\t1636212405.9879785\tAP\t\n",
      "23:26:45\t1636212405.9879785\tI\t\n",
      "23:26:45\t1636212405.9879785\tAM\t\n",
      "23:26:45\t1636212405.9879785\tI\t\n",
      "23:26:45\t1636212405.9879785\tZ\t\n",
      "23:26:45\t1636212405.9879785\tAH\t\n",
      "23:26:45\t1636212405.9879785\tAW\t\n",
      "23:26:45\t1636212405.9879785\tAI\t\n",
      "23:26:45\t1636212405.9879785\tX\t\n",
      "23:26:45\t1636212405.9879785\tM\t\n",
      "23:26:45\t1636212405.9879785\tAB\t\n",
      "23:26:45\t1636212405.9879785\tJ\t\n",
      "23:26:45\t1636212405.9879785\tG\t\n",
      "23:26:45\t1636212405.9879785\tL\t\n",
      "23:26:45\t1636212405.9879785\tAV\t\n",
      "23:26:45\t1636212405.9890614\tV\t\n",
      "23:26:45\t1636212405.9890614\tE\t\n",
      "23:26:45\t1636212405.9890614\tT\t\n",
      "23:26:45\t1636212405.9890614\tP\t\n",
      "23:26:45\t1636212405.9890614\tZ\t\n",
      "23:26:45\t1636212405.9890614\tS\t\n",
      "23:26:45\t1636212405.9890614\tAM\t\n",
      "23:26:45\t1636212405.9890614\tAS\t\n",
      "23:26:45\t1636212405.9890614\tU\t\n",
      "23:26:45\t1636212405.9890614\tO\t\n",
      "23:26:45\t1636212405.9890614\tR\t\n",
      "23:26:45\t1636212405.9890614\tAU\t\n",
      "23:26:45\t1636212405.9890614\tR\t\n",
      "23:26:45\t1636212405.9890614\tAW\t\n",
      "23:26:45\t1636212405.9890614\tN\t\n",
      "23:26:45\t1636212405.9890614\tR\t\n",
      "23:26:45\t1636212405.9890614\tAG\t\n",
      "23:26:45\t1636212405.9890614\tAH\t\n",
      "23:26:45\t1636212405.9890614\tAV\t\n",
      "23:26:45\t1636212405.9890614\tW\t\n",
      "23:26:45\t1636212405.9890614\tAE\t\n",
      "23:26:45\t1636212405.9890614\tS\t\n",
      "23:26:45\t1636212405.9890614\tAS\t\n",
      "23:26:45\t1636212405.9890614\tZ\t\n",
      "23:26:45\t1636212405.9890614\tAA\t\n",
      "23:26:45\t1636212405.9890614\tL\t\n",
      "23:26:45\t1636212405.9890614\tAU\t\n",
      "23:26:45\t1636212405.9890614\tN\t\n",
      "23:26:45\t1636212405.9890614\tAR\t\n",
      "23:26:45\t1636212405.9890614\tZ\t\n",
      "23:26:45\t1636212405.9890614\tB\t\n",
      "23:26:45\t1636212405.9890614\tW\t\n",
      "23:26:45\t1636212405.9890614\tH\t\n",
      "23:26:45\t1636212405.9890614\tAN\t\n",
      "23:26:45\t1636212405.9890614\tH\t\n",
      "23:26:45\t1636212405.9890614\tAA\t\n",
      "23:26:45\t1636212405.9890614\tO\t\n",
      "23:26:45\t1636212405.9890614\tAW\t\n",
      "23:26:45\t1636212405.9890614\tAO\t\n",
      "23:26:45\t1636212405.9890614\tI\t\n",
      "23:26:45\t1636212405.9890614\tC\t\n",
      "23:26:45\t1636212405.9890614\tK\t\n",
      "23:26:45\t1636212405.9890614\tAO\t\n",
      "23:26:45\t1636212405.9890614\tAG\t\n",
      "23:26:45\t1636212405.9890614\tC\t\n",
      "23:26:45\t1636212405.9890614\tH\t\n",
      "23:26:45\t1636212405.9890614\tO\t\n",
      "23:26:45\t1636212405.9890614\tW\t\n",
      "23:26:45\t1636212405.9890614\tI\t\n",
      "23:26:45\t1636212405.9890614\tP\t\n",
      "23:26:45\t1636212405.9890614\tC\t\n",
      "23:26:45\t1636212405.9890614\tAJ\t\n",
      "23:26:45\t1636212405.9890614\tAW\t\n",
      "23:26:45\t1636212405.9890614\tS\t\n",
      "23:26:45\t1636212405.9890614\tS\t\n",
      "23:26:45\t1636212405.9890614\tAA\t\n",
      "23:26:45\t1636212405.9890614\tT\t\n",
      "23:26:45\t1636212405.9890614\tE\t\n",
      "23:26:45\t1636212405.9890614\tAD\t\n",
      "23:26:45\t1636212405.9890614\tAQ\t\n",
      "23:26:45\t1636212405.9890614\tAW\t\n",
      "23:26:45\t1636212405.9890614\tV\t\n",
      "23:26:45\t1636212405.9890614\tY\t\n",
      "23:26:45\t1636212405.9900637\tAN\t\n",
      "23:26:45\t1636212405.9900637\tY\t\n",
      "23:26:45\t1636212405.9900637\tD\t\n",
      "23:26:45\t1636212405.9900637\tZ\t\n",
      "23:26:45\t1636212405.9900637\tN\t\n",
      "23:26:45\t1636212405.9900637\tR\t\n",
      "23:26:45\t1636212405.9900637\tAO\t\n",
      "23:26:45\t1636212405.9900637\tR\t\n",
      "23:26:45\t1636212405.9900637\tH\t\n",
      "23:26:45\t1636212405.9900637\tS\t\n",
      "23:26:45\t1636212405.9900637\tW\t\n",
      "23:26:45\t1636212405.9900637\tO\t\n",
      "23:26:45\t1636212405.9900637\tAB\t\n",
      "23:26:45\t1636212405.9900637\tAV\t\n",
      "23:26:45\t1636212405.9900637\tAK\t\n",
      "23:26:45\t1636212405.9900637\tAW\t\n",
      "23:26:45\t1636212405.9900637\tY\t\n",
      "23:26:45\t1636212405.9900637\tAI\t\n",
      "23:26:45\t1636212405.9900637\tO\t\n",
      "23:26:45\t1636212405.9900637\tI\t\n",
      "23:26:45\t1636212405.9900637\tAA\t\n",
      "23:26:45\t1636212405.9900637\tAL\t\n",
      "23:26:45\t1636212405.9900637\tH\t\n",
      "23:26:45\t1636212405.9900637\tY\t\n",
      "23:26:45\t1636212405.9900637\tAV\t\n",
      "23:26:45\t1636212405.9900637\tW\t\n",
      "23:26:45\t1636212405.9900637\tAT\t\n",
      "23:26:45\t1636212405.9900637\tAO\t\n",
      "23:26:45\t1636212405.9900637\tR\t\n",
      "23:26:45\t1636212405.9900637\tI\t\n",
      "23:26:45\t1636212405.9900637\tAE\t\n",
      "23:26:45\t1636212405.9900637\tAL\t\n",
      "23:26:45\t1636212405.9900637\tAS\t\n",
      "23:26:45\t1636212405.9900637\tAV\t\n",
      "23:26:45\t1636212405.9900637\tZ\t\n",
      "23:26:45\t1636212405.9900637\tAP\t\n",
      "23:26:45\t1636212405.9900637\tAN\t\n",
      "23:26:45\t1636212405.9900637\tM\t\n",
      "23:26:45\t1636212405.9900637\tAP\t\n",
      "23:26:45\t1636212405.9900637\tS\t\n",
      "23:26:45\t1636212405.9900637\tA\t\n",
      "23:26:45\t1636212405.9900637\tAM\t\n",
      "23:26:45\t1636212405.9900637\tAH\t\n",
      "23:26:45\t1636212405.9900637\tAF\t\n",
      "23:26:45\t1636212405.9900637\tU\t\n",
      "23:26:45\t1636212405.9900637\tAQ\t\n",
      "23:26:45\t1636212405.9900637\tS\t\n",
      "23:26:45\t1636212405.9900637\tAQ\t\n",
      "23:26:45\t1636212405.9900637\tQ\t\n",
      "23:26:45\t1636212405.9900637\tAV\t\n",
      "23:26:45\t1636212405.9900637\tAK\t\n",
      "23:26:45\t1636212405.9900637\tAK\t\n",
      "23:26:45\t1636212405.9900637\tAK\t\n",
      "23:26:45\t1636212405.9900637\tB\t\n",
      "23:26:45\t1636212405.9900637\tAF\t\n",
      "23:26:45\t1636212405.9900637\tX\t\n",
      "23:26:45\t1636212405.9900637\tG\t\n",
      "23:26:45\t1636212405.9900637\tB\t\n",
      "23:26:45\t1636212405.9900637\tAW\t\n",
      "23:26:45\t1636212405.9900637\tAH\t\n",
      "23:26:45\t1636212405.9900637\tI\t\n",
      "23:26:45\t1636212405.9900637\tR\t\n",
      "23:26:45\t1636212405.9900637\tQ\t\n",
      "23:26:45\t1636212405.9900637\tAC\t\n",
      "23:26:45\t1636212405.9900637\tAE\t\n",
      "23:26:45\t1636212405.9900637\tQ\t\n",
      "23:26:45\t1636212405.9900637\tV\t\n",
      "23:26:45\t1636212405.9900637\tAF\t\n",
      "23:26:45\t1636212405.9900637\tT\t\n",
      "23:26:45\t1636212405.9900637\tK\t\n",
      "23:26:45\t1636212405.9900637\tW\t\n",
      "23:26:45\t1636212405.991065\tAH\t\n",
      "23:26:45\t1636212405.991065\tM\t\n",
      "23:26:45\t1636212405.991065\tAG\t\n",
      "23:26:45\t1636212405.991065\tO\t\n",
      "23:26:45\t1636212405.991065\tT\t\n",
      "23:26:45\t1636212405.991065\tAP\t\n",
      "23:26:45\t1636212405.991065\tW\t\n",
      "23:26:45\t1636212405.991065\tAF\t\n",
      "23:26:45\t1636212405.991065\tAN\t\n",
      "23:26:45\t1636212405.991065\tN\t\n",
      "23:26:45\t1636212405.991065\tAI\t\n",
      "23:26:45\t1636212405.991065\tAB\t\n",
      "23:26:45\t1636212405.991065\tK\t\n",
      "23:26:45\t1636212405.991065\tAM\t\n",
      "23:26:45\t1636212405.991065\tY\t\n",
      "23:26:45\t1636212405.991065\tT\t\n",
      "23:26:45\t1636212405.991065\tAG\t\n",
      "23:26:45\t1636212405.991065\tL\t\n",
      "23:26:45\t1636212405.991065\tD\t\n",
      "23:26:45\t1636212405.991065\tAF\t\n",
      "23:26:45\t1636212405.991065\tW\t\n",
      "23:26:45\t1636212405.991065\tQ\t\n",
      "23:26:45\t1636212405.991065\tAG\t\n",
      "23:26:45\t1636212405.991065\tT\t\n",
      "23:26:45\t1636212405.991065\tT\t\n",
      "23:26:45\t1636212405.991065\tAN\t\n",
      "23:26:45\t1636212405.991065\tF\t\n",
      "23:26:45\t1636212405.991065\tAV\t\n",
      "23:26:45\t1636212405.991065\tB\t\n",
      "23:26:45\t1636212405.991065\tP\t\n",
      "23:26:45\t1636212405.991065\tAC\t\n",
      "23:26:45\t1636212405.991065\tR\t\n",
      "23:26:45\t1636212405.991065\tB\t\n",
      "23:26:45\t1636212405.991065\tL\t\n",
      "23:26:45\t1636212405.991065\tR\t\n",
      "23:26:45\t1636212405.991065\tY\t\n",
      "23:26:45\t1636212405.991065\tAC\t\n",
      "23:26:45\t1636212405.991065\tY\t\n",
      "23:26:45\t1636212405.991065\tAO\t\n",
      "23:26:45\t1636212405.991065\tAO\t\n",
      "23:26:45\t1636212405.991065\tG\t\n",
      "23:26:45\t1636212405.991065\tAT\t\n",
      "23:26:45\t1636212405.991065\tF\t\n",
      "23:26:45\t1636212405.991065\tAE\t\n",
      "23:26:45\t1636212405.991065\tA\t\n",
      "23:26:45\t1636212405.991065\tAP\t\n",
      "23:26:45\t1636212405.991065\tAV\t\n",
      "23:26:45\t1636212405.991065\tAI\t\n",
      "23:26:45\t1636212405.991065\tA\t\n",
      "23:26:45\t1636212405.991065\tAO\t\n",
      "23:26:45\t1636212405.991065\tAF\t\n",
      "23:26:45\t1636212405.991065\tAS\t\n",
      "23:26:45\t1636212405.991065\tAM\t\n",
      "23:26:45\t1636212405.991065\tR\t\n",
      "23:26:45\t1636212405.991065\tQ\t\n",
      "23:26:45\t1636212405.991065\tK\t\n",
      "23:26:45\t1636212405.991065\tAS\t\n",
      "23:26:45\t1636212405.991065\tAV\t\n",
      "23:26:45\t1636212405.991065\tAK\t\n",
      "23:26:45\t1636212405.991065\tAL\t\n",
      "23:26:45\t1636212405.991065\tAF\t\n",
      "23:26:45\t1636212405.991065\tL\t\n",
      "23:26:45\t1636212405.991065\tAH\t\n",
      "23:26:45\t1636212405.991065\tD\t\n",
      "23:26:45\t1636212405.9919732\tY\t\n",
      "23:26:45\t1636212405.9919732\tAG\t\n",
      "23:26:45\t1636212405.9919732\tO\t\n",
      "23:26:45\t1636212405.9919732\tE\t\n",
      "23:26:45\t1636212405.9919732\tY\t\n",
      "23:26:45\t1636212405.9919732\tAI\t\n",
      "23:26:45\t1636212405.9919732\tAQ\t\n",
      "23:26:45\t1636212405.9919732\tP\t\n",
      "23:26:45\t1636212405.9919732\tC\t\n",
      "23:26:45\t1636212405.9919732\tO\t\n",
      "23:26:45\t1636212405.9919732\tI\t\n",
      "23:26:45\t1636212405.9919732\tAE\t\n",
      "23:26:45\t1636212405.9919732\tT\t\n",
      "23:26:45\t1636212405.9919732\tAM\t\n",
      "23:26:45\t1636212405.9919732\tF\t\n",
      "23:26:45\t1636212405.9919732\tN\t\n",
      "23:26:45\t1636212405.9919732\tAT\t\n",
      "23:26:45\t1636212405.9919732\tAI\t\n",
      "23:26:45\t1636212405.9919732\tH\t\n",
      "23:26:45\t1636212405.9919732\tAW\t\n",
      "23:26:45\t1636212405.9919732\tAN\t\n",
      "23:26:45\t1636212405.9919732\tU\t\n",
      "23:26:45\t1636212405.9919732\tAB\t\n",
      "23:26:45\t1636212405.9919732\tM\t\n",
      "23:26:45\t1636212405.9919732\tAN\t\n",
      "23:26:45\t1636212405.9919732\tW\t\n",
      "23:26:45\t1636212405.9919732\tU\t\n",
      "23:26:45\t1636212405.9919732\tU\t\n",
      "23:26:45\t1636212405.9919732\tAM\t\n",
      "23:26:45\t1636212405.9919732\tAW\t\n",
      "23:26:45\t1636212405.9919732\tL\t\n",
      "23:26:45\t1636212405.9919732\tX\t\n",
      "23:26:45\t1636212405.9919732\tAN\t\n",
      "23:26:45\t1636212405.9919732\tF\t\n",
      "23:26:45\t1636212405.9919732\tAG\t\n",
      "23:26:45\t1636212405.9919732\tAD\t\n",
      "23:26:45\t1636212405.9919732\tAW\t\n",
      "23:26:45\t1636212405.9919732\tO\t\n",
      "23:26:45\t1636212405.9919732\tAS\t\n",
      "23:26:45\t1636212405.9919732\tB\t\n",
      "23:26:45\t1636212405.9919732\tAB\t\n",
      "23:26:45\t1636212405.9919732\tB\t\n",
      "23:26:45\t1636212405.9919732\tAK\t\n",
      "23:26:45\t1636212405.9919732\tAV\t\n",
      "23:26:45\t1636212405.9919732\tM\t\n",
      "23:26:45\t1636212405.9919732\tO\t\n",
      "23:26:45\t1636212405.9919732\tAP\t\n",
      "23:26:45\t1636212405.9919732\tAH\t\n",
      "23:26:45\t1636212405.9919732\tAR\t\n",
      "23:26:45\t1636212405.9919732\tAD\t\n",
      "23:26:45\t1636212405.9919732\tU\t\n",
      "23:26:45\t1636212405.9919732\tAS\t\n",
      "23:26:45\t1636212405.9919732\tO\t\n",
      "23:26:45\t1636212405.9919732\tO\t\n",
      "23:26:45\t1636212405.9919732\tAR\t\n",
      "23:26:45\t1636212405.9919732\tAF\t\n",
      "23:26:45\t1636212405.9919732\tB\t\n",
      "23:26:45\t1636212405.9919732\tAG\t\n",
      "23:26:45\t1636212405.9919732\tU\t\n",
      "23:26:45\t1636212405.9919732\tC\t\n",
      "23:26:45\t1636212405.9919732\tAA\t\n",
      "23:26:45\t1636212405.9919732\tF\t\n",
      "23:26:45\t1636212405.9919732\tU\t\n",
      "23:26:45\t1636212405.9919732\tZ\t\n",
      "23:26:45\t1636212405.9919732\tD\t\n",
      "23:26:45\t1636212405.9919732\tAJ\t\n",
      "23:26:45\t1636212405.9919732\tW\t\n",
      "23:26:45\t1636212405.9919732\tA\t\n",
      "23:26:45\t1636212405.9919732\tN\t\n",
      "23:26:45\t1636212405.9919732\tAH\t\n",
      "23:26:45\t1636212405.992974\tV\t\n",
      "23:26:45\t1636212405.992974\tN\t\n",
      "23:26:45\t1636212405.992974\tA\t\n",
      "23:26:45\t1636212405.992974\tD\t\n",
      "23:26:45\t1636212405.992974\tY\t\n",
      "23:26:45\t1636212405.992974\tU\t\n",
      "23:26:45\t1636212405.992974\tAB\t\n",
      "23:26:45\t1636212405.992974\tI\t\n",
      "23:26:45\t1636212405.992974\tAG\t\n",
      "23:26:45\t1636212405.992974\tK\t\n",
      "23:26:45\t1636212405.992974\tZ\t\n",
      "23:26:45\t1636212405.992974\tAT\t\n",
      "23:26:45\t1636212405.992974\tR\t\n",
      "23:26:45\t1636212405.992974\tAA\t\n",
      "23:26:45\t1636212405.992974\tAN\t\n",
      "23:26:45\t1636212405.992974\tM\t\n",
      "23:26:45\t1636212405.992974\tAG\t\n",
      "23:26:45\t1636212405.992974\tO\t\n",
      "23:26:45\t1636212405.992974\tAU\t\n",
      "23:26:45\t1636212405.992974\tO\t\n",
      "23:26:45\t1636212405.992974\tAW\t\n",
      "23:26:45\t1636212405.992974\tAM\t\n",
      "23:26:45\t1636212405.992974\tAF\t\n",
      "23:26:45\t1636212405.992974\tAA\t\n",
      "23:26:45\t1636212405.992974\tA\t\n",
      "23:26:45\t1636212405.992974\tM\t\n",
      "23:26:45\t1636212405.992974\tAJ\t\n",
      "23:26:45\t1636212405.992974\tAV\t\n",
      "23:26:45\t1636212405.992974\tH\t\n",
      "23:26:45\t1636212405.992974\tAQ\t\n",
      "23:26:45\t1636212405.992974\tE\t\n",
      "23:26:45\t1636212405.992974\tAA\t\n",
      "23:26:45\t1636212405.992974\tX\t\n",
      "23:26:45\t1636212405.992974\tL\t\n",
      "23:26:45\t1636212405.992974\tAW\t\n",
      "23:26:45\t1636212405.992974\tM\t\n",
      "23:26:45\t1636212405.992974\tK\t\n",
      "23:26:45\t1636212405.992974\tAC\t\n",
      "23:26:45\t1636212405.992974\tAO\t\n",
      "23:26:45\t1636212405.992974\tAD\t\n",
      "23:26:45\t1636212405.992974\tAM\t\n",
      "23:26:45\t1636212405.992974\tH\t\n",
      "23:26:45\t1636212405.992974\tH\t\n",
      "23:26:45\t1636212405.992974\tAB\t\n",
      "23:26:45\t1636212405.992974\tQ\t\n",
      "23:26:45\t1636212405.992974\tB\t\n",
      "23:26:45\t1636212405.992974\tAA\t\n",
      "23:26:45\t1636212405.992974\tY\t\n",
      "23:26:45\t1636212405.992974\tH\t\n",
      "23:26:45\t1636212405.992974\tAV\t\n",
      "23:26:45\t1636212405.992974\tAR\t\n",
      "23:26:45\t1636212405.992974\tM\t\n",
      "23:26:45\t1636212405.992974\tK\t\n",
      "23:26:45\t1636212405.992974\tAB\t\n",
      "23:26:45\t1636212405.992974\tE\t\n",
      "23:26:45\t1636212405.992974\tV\t\n",
      "23:26:45\t1636212405.992974\tQ\t\n",
      "23:26:45\t1636212405.992974\tY\t\n",
      "23:26:45\t1636212405.992974\tJ\t\n",
      "23:26:45\t1636212405.992974\tAW\t\n",
      "23:26:45\t1636212405.9939737\tL\t\n",
      "23:26:45\t1636212405.9939737\tAV\t\n",
      "23:26:45\t1636212405.9939737\tAK\t\n",
      "23:26:45\t1636212405.9939737\tAU\t\n",
      "23:26:45\t1636212405.9939737\tV\t\n",
      "23:26:45\t1636212405.9939737\tI\t\n",
      "23:26:45\t1636212405.9939737\tAO\t\n",
      "23:26:45\t1636212405.9939737\tAI\t\n",
      "23:26:45\t1636212405.9939737\tAK\t\n",
      "23:26:45\t1636212405.9939737\tM\t\n",
      "23:26:45\t1636212405.9939737\tC\t\n",
      "23:26:45\t1636212405.9939737\tE\t\n",
      "23:26:45\t1636212405.9939737\tAE\t\n",
      "23:26:45\t1636212405.9939737\tC\t\n",
      "23:26:45\t1636212405.9939737\tAI\t\n",
      "23:26:45\t1636212405.9939737\tAB\t\n",
      "23:26:45\t1636212405.9939737\tT\t\n",
      "23:26:45\t1636212405.9939737\tO\t\n",
      "23:26:45\t1636212405.9939737\tAF\t\n",
      "23:26:45\t1636212405.9939737\tC\t\n",
      "23:26:45\t1636212405.9939737\tAP\t\n",
      "23:26:45\t1636212405.9939737\tAH\t\n",
      "23:26:45\t1636212405.9939737\tAB\t\n",
      "23:26:45\t1636212405.9939737\tT\t\n",
      "23:26:45\t1636212405.9939737\tX\t\n",
      "23:26:45\t1636212405.9939737\tAU\t\n",
      "23:26:45\t1636212405.9939737\tA\t\n",
      "23:26:45\t1636212405.9939737\tAL\t\n",
      "23:26:45\t1636212405.9939737\tAA\t\n"
     ]
    }
   ],
   "source": [
    "import datetime\n",
    "from random import choice\n",
    "from time import time\n",
    "from openpyxl import load_workbook\n",
    "from openpyxl.utils import get_column_letter\n",
    " \n",
    "# 设置文件 mingc\n",
    "addr = \"openpyxl.xlsx\"\n",
    "# 打开文件\n",
    "wb = Workbook()\n",
    "# 创建一张新表\n",
    "ws = wb.create_sheet()\n",
    "# 第一行输入\n",
    "ws.append(['TIME', 'TITLE', 'A-Z'])\n",
    " \n",
    "# 输入内容（500行数据）\n",
    "for i in range(500):\n",
    "    TIME = datetime.datetime.now().strftime(\"%H:%M:%S\")\n",
    "    TITLE = str(time())\n",
    "    A_Z = get_column_letter(choice(range(1, 50)))\n",
    "    ws.append([TIME, TITLE, A_Z])\n",
    " \n",
    "# 获取最大行\n",
    "row_max = ws.max_row\n",
    "# 获取最大列\n",
    "con_max = ws.max_column\n",
    "# 把上面写入内容打印在控制台\n",
    "for j in ws.rows:\t# we.rows 获取每一行数据\n",
    "    for n in j:\n",
    "        print(n.value, end=\"\\t\")   # n.value 获取单元格的值\n",
    "    print()\n",
    "# 保存，save（必须要写文件名（绝对地址）默认 py 同级目录下，只支持 xlsx 格式）\n",
    "wb.save(addr)"
   ]
  },
  {
   "cell_type": "code",
   "execution_count": 23,
   "metadata": {},
   "outputs": [
    {
     "data": {
      "text/plain": [
       "3"
      ]
     },
     "execution_count": 23,
     "metadata": {},
     "output_type": "execute_result"
    }
   ],
   "source": [
    "ws.max_column"
   ]
  },
  {
   "cell_type": "code",
   "execution_count": 24,
   "metadata": {
    "scrolled": true
   },
   "outputs": [
    {
     "data": {
      "text/plain": [
       "501"
      ]
     },
     "execution_count": 24,
     "metadata": {},
     "output_type": "execute_result"
    }
   ],
   "source": [
    "ws.max_row"
   ]
  },
  {
   "cell_type": "markdown",
   "metadata": {},
   "source": [
    "## collect"
   ]
  },
  {
   "cell_type": "code",
   "execution_count": 33,
   "metadata": {},
   "outputs": [],
   "source": [
    "import openpyxl"
   ]
  },
  {
   "cell_type": "code",
   "execution_count": 34,
   "metadata": {},
   "outputs": [
    {
     "name": "stdout",
     "output_type": "stream",
     "text": [
      "Help on package openpyxl.cell in openpyxl:\n",
      "\n",
      "NAME\n",
      "    openpyxl.cell - # Copyright (c) 2010-2021 openpyxl\n",
      "\n",
      "PACKAGE CONTENTS\n",
      "    _writer\n",
      "    cell\n",
      "    read_only\n",
      "    text\n",
      "\n",
      "FILE\n",
      "    d:\\programs\\code\\anaconda3\\lib\\site-packages\\openpyxl\\cell\\__init__.py\n",
      "\n",
      "\n"
     ]
    }
   ],
   "source": [
    "help(openpyxl.cell)"
   ]
  },
  {
   "cell_type": "code",
   "execution_count": 57,
   "metadata": {},
   "outputs": [
    {
     "name": "stdout",
     "output_type": "stream",
     "text": [
      "Help on function WriteOnlyCell in module openpyxl.cell.cell:\n",
      "\n",
      "WriteOnlyCell(ws=None, value=None)\n",
      "\n"
     ]
    }
   ],
   "source": [
    "help(openpyxl.cell.cell.WriteOnlyCell)"
   ]
  },
  {
   "cell_type": "code",
   "execution_count": 23,
   "metadata": {},
   "outputs": [
    {
     "name": "stdout",
     "output_type": "stream",
     "text": [
      "Help on class Worksheet in module openpyxl.worksheet.worksheet:\n",
      "\n",
      "class Worksheet(openpyxl.workbook.child._WorkbookChild)\n",
      " |  Worksheet(parent, title=None)\n",
      " |  \n",
      " |  Represents a worksheet.\n",
      " |  \n",
      " |  Do not create worksheets yourself,\n",
      " |  use :func:`openpyxl.workbook.Workbook.create_sheet` instead\n",
      " |  \n",
      " |  Method resolution order:\n",
      " |      Worksheet\n",
      " |      openpyxl.workbook.child._WorkbookChild\n",
      " |      builtins.object\n",
      " |  \n",
      " |  Methods defined here:\n",
      " |  \n",
      " |  __delitem__(self, key)\n",
      " |  \n",
      " |  __getitem__(self, key)\n",
      " |      Convenience access by Excel style coordinates\n",
      " |      \n",
      " |      The key can be a single cell coordinate 'A1', a range of cells 'A1:D25',\n",
      " |      individual rows or columns 'A', 4 or ranges of rows or columns 'A:D',\n",
      " |      4:10.\n",
      " |      \n",
      " |      Single cells will always be created if they do not exist.\n",
      " |      \n",
      " |      Returns either a single cell or a tuple of rows or columns.\n",
      " |  \n",
      " |  __init__(self, parent, title=None)\n",
      " |      Initialize self.  See help(type(self)) for accurate signature.\n",
      " |  \n",
      " |  __iter__(self)\n",
      " |  \n",
      " |  __setitem__(self, key, value)\n",
      " |  \n",
      " |  add_chart(self, chart, anchor=None)\n",
      " |      Add a chart to the sheet\n",
      " |      Optionally provide a cell for the top-left anchor\n",
      " |  \n",
      " |  add_data_validation(self, data_validation)\n",
      " |      Add a data-validation object to the sheet.  The data-validation\n",
      " |      object defines the type of data-validation to be applied and the\n",
      " |      cell or range of cells it should apply to.\n",
      " |  \n",
      " |  add_image(self, img, anchor=None)\n",
      " |      Add an image to the sheet.\n",
      " |      Optionally provide a cell for the top-left anchor\n",
      " |  \n",
      " |  add_pivot(self, pivot)\n",
      " |  \n",
      " |  add_table(self, table)\n",
      " |      Check for duplicate name in definedNames and other worksheet tables\n",
      " |      before adding table.\n",
      " |  \n",
      " |  append(self, iterable)\n",
      " |      Appends a group of values at the bottom of the current sheet.\n",
      " |      \n",
      " |      * If it's a list: all values are added in order, starting from the first column\n",
      " |      * If it's a dict: values are assigned to the columns indicated by the keys (numbers or letters)\n",
      " |      \n",
      " |      :param iterable: list, range or generator, or dict containing values to append\n",
      " |      :type iterable: list|tuple|range|generator or dict\n",
      " |      \n",
      " |      Usage:\n",
      " |      \n",
      " |      * append(['This is A1', 'This is B1', 'This is C1'])\n",
      " |      * **or** append({'A' : 'This is A1', 'C' : 'This is C1'})\n",
      " |      * **or** append({1 : 'This is A1', 3 : 'This is C1'})\n",
      " |      \n",
      " |      :raise: TypeError when iterable is neither a list/tuple nor a dict\n",
      " |  \n",
      " |  calculate_dimension(self)\n",
      " |      Return the minimum bounding range for all cells containing data (ex. 'A1:M24')\n",
      " |      \n",
      " |      :rtype: string\n",
      " |  \n",
      " |  cell(self, row, column, value=None)\n",
      " |      Returns a cell object based on the given coordinates.\n",
      " |      \n",
      " |      Usage: cell(row=15, column=1, value=5)\n",
      " |      \n",
      " |      Calling `cell` creates cells in memory when they\n",
      " |      are first accessed.\n",
      " |      \n",
      " |      :param row: row index of the cell (e.g. 4)\n",
      " |      :type row: int\n",
      " |      \n",
      " |      :param column: column index of the cell (e.g. 3)\n",
      " |      :type column: int\n",
      " |      \n",
      " |      :param value: value of the cell (e.g. 5)\n",
      " |      :type value: numeric or time or string or bool or none\n",
      " |      \n",
      " |      :rtype: openpyxl.cell.cell.Cell\n",
      " |  \n",
      " |  delete_cols(self, idx, amount=1)\n",
      " |      Delete column or columns from col==idx\n",
      " |  \n",
      " |  delete_rows(self, idx, amount=1)\n",
      " |      Delete row or rows from row==idx\n",
      " |  \n",
      " |  insert_cols(self, idx, amount=1)\n",
      " |      Insert column or columns before col==idx\n",
      " |  \n",
      " |  insert_rows(self, idx, amount=1)\n",
      " |      Insert row or rows before row==idx\n",
      " |  \n",
      " |  iter_cols(self, min_col=None, max_col=None, min_row=None, max_row=None, values_only=False)\n",
      " |      Produces cells from the worksheet, by column. Specify the iteration range\n",
      " |      using indices of rows and columns.\n",
      " |      \n",
      " |      If no indices are specified the range starts at A1.\n",
      " |      \n",
      " |      If no cells are in the worksheet an empty tuple will be returned.\n",
      " |      \n",
      " |      :param min_col: smallest column index (1-based index)\n",
      " |      :type min_col: int\n",
      " |      \n",
      " |      :param min_row: smallest row index (1-based index)\n",
      " |      :type min_row: int\n",
      " |      \n",
      " |      :param max_col: largest column index (1-based index)\n",
      " |      :type max_col: int\n",
      " |      \n",
      " |      :param max_row: largest row index (1-based index)\n",
      " |      :type max_row: int\n",
      " |      \n",
      " |      :param values_only: whether only cell values should be returned\n",
      " |      :type values_only: bool\n",
      " |      \n",
      " |      :rtype: generator\n",
      " |  \n",
      " |  iter_rows(self, min_row=None, max_row=None, min_col=None, max_col=None, values_only=False)\n",
      " |      Produces cells from the worksheet, by row. Specify the iteration range\n",
      " |      using indices of rows and columns.\n",
      " |      \n",
      " |      If no indices are specified the range starts at A1.\n",
      " |      \n",
      " |      If no cells are in the worksheet an empty tuple will be returned.\n",
      " |      \n",
      " |      :param min_col: smallest column index (1-based index)\n",
      " |      :type min_col: int\n",
      " |      \n",
      " |      :param min_row: smallest row index (1-based index)\n",
      " |      :type min_row: int\n",
      " |      \n",
      " |      :param max_col: largest column index (1-based index)\n",
      " |      :type max_col: int\n",
      " |      \n",
      " |      :param max_row: largest row index (1-based index)\n",
      " |      :type max_row: int\n",
      " |      \n",
      " |      :param values_only: whether only cell values should be returned\n",
      " |      :type values_only: bool\n",
      " |      \n",
      " |      :rtype: generator\n",
      " |  \n",
      " |  merge_cells(self, range_string=None, start_row=None, start_column=None, end_row=None, end_column=None)\n",
      " |      Set merge on a cell range.  Range is a cell range (e.g. A1:E1)\n",
      " |  \n",
      " |  move_range(self, cell_range, rows=0, cols=0, translate=False)\n",
      " |      Move a cell range by the number of rows and/or columns:\n",
      " |      down if rows > 0 and up if rows < 0\n",
      " |      right if cols > 0 and left if cols < 0\n",
      " |      Existing cells will be overwritten.\n",
      " |      Formulae and references will not be updated.\n",
      " |  \n",
      " |  set_printer_settings(self, paper_size, orientation)\n",
      " |      Set printer settings\n",
      " |  \n",
      " |  unmerge_cells(self, range_string=None, start_row=None, start_column=None, end_row=None, end_column=None)\n",
      " |      Remove merge on a cell range.  Range is a cell range (e.g. A1:E1)\n",
      " |  \n",
      " |  ----------------------------------------------------------------------\n",
      " |  Data descriptors defined here:\n",
      " |  \n",
      " |  active_cell\n",
      " |  \n",
      " |  columns\n",
      " |      Produces all cells in the worksheet, by column  (see :func:`iter_cols`)\n",
      " |  \n",
      " |  dimensions\n",
      " |      Returns the result of :func:`calculate_dimension`\n",
      " |  \n",
      " |  freeze_panes\n",
      " |  \n",
      " |  max_column\n",
      " |      The maximum column index containing data (1-based)\n",
      " |      \n",
      " |      :type: int\n",
      " |  \n",
      " |  max_row\n",
      " |      The maximum row index containing data (1-based)\n",
      " |      \n",
      " |      :type: int\n",
      " |  \n",
      " |  merged_cell_ranges\n",
      " |      Return a copy of cell ranges\n",
      " |      \n",
      " |      .. note::\n",
      " |          Deprecated: Use ws.merged_cells.ranges\n",
      " |  \n",
      " |  min_column\n",
      " |      The minimum column index containing data (1-based)\n",
      " |      \n",
      " |      :type: int\n",
      " |  \n",
      " |  min_row\n",
      " |      The minimium row index containing data (1-based)\n",
      " |      \n",
      " |      :type: int\n",
      " |  \n",
      " |  page_breaks\n",
      " |  \n",
      " |  print_area\n",
      " |      The print area for the worksheet, or None if not set. To set, supply a range\n",
      " |      like 'A1:D4' or a list of ranges.\n",
      " |  \n",
      " |  print_title_cols\n",
      " |      Columns to be printed at the left side of every page (ex: 'A:C')\n",
      " |  \n",
      " |  print_title_rows\n",
      " |      Rows to be printed at the top of every page (ex: '1:3')\n",
      " |  \n",
      " |  print_titles\n",
      " |  \n",
      " |  rows\n",
      " |      Produces all cells in the worksheet, by row (see :func:`iter_rows`)\n",
      " |      \n",
      " |      :type: generator\n",
      " |  \n",
      " |  selected_cell\n",
      " |  \n",
      " |  sheet_view\n",
      " |  \n",
      " |  show_gridlines\n",
      " |  \n",
      " |  show_summary_below\n",
      " |  \n",
      " |  show_summary_right\n",
      " |  \n",
      " |  tables\n",
      " |  \n",
      " |  values\n",
      " |      Produces all cell values in the worksheet, by row\n",
      " |      \n",
      " |      :type: generator\n",
      " |  \n",
      " |  ----------------------------------------------------------------------\n",
      " |  Data and other attributes defined here:\n",
      " |  \n",
      " |  BREAK_COLUMN = 2\n",
      " |  \n",
      " |  BREAK_NONE = 0\n",
      " |  \n",
      " |  BREAK_ROW = 1\n",
      " |  \n",
      " |  ORIENTATION_LANDSCAPE = 'landscape'\n",
      " |  \n",
      " |  ORIENTATION_PORTRAIT = 'portrait'\n",
      " |  \n",
      " |  PAPERSIZE_A3 = '8'\n",
      " |  \n",
      " |  PAPERSIZE_A4 = '9'\n",
      " |  \n",
      " |  PAPERSIZE_A4_SMALL = '10'\n",
      " |  \n",
      " |  PAPERSIZE_A5 = '11'\n",
      " |  \n",
      " |  PAPERSIZE_EXECUTIVE = '7'\n",
      " |  \n",
      " |  PAPERSIZE_LEDGER = '4'\n",
      " |  \n",
      " |  PAPERSIZE_LEGAL = '5'\n",
      " |  \n",
      " |  PAPERSIZE_LETTER = '1'\n",
      " |  \n",
      " |  PAPERSIZE_LETTER_SMALL = '2'\n",
      " |  \n",
      " |  PAPERSIZE_STATEMENT = '6'\n",
      " |  \n",
      " |  PAPERSIZE_TABLOID = '3'\n",
      " |  \n",
      " |  SHEETSTATE_HIDDEN = 'hidden'\n",
      " |  \n",
      " |  SHEETSTATE_VERYHIDDEN = 'veryHidden'\n",
      " |  \n",
      " |  SHEETSTATE_VISIBLE = 'visible'\n",
      " |  \n",
      " |  mime_type = 'application/vnd.openxmlformats-officedocument.spreadsheet...\n",
      " |  \n",
      " |  ----------------------------------------------------------------------\n",
      " |  Methods inherited from openpyxl.workbook.child._WorkbookChild:\n",
      " |  \n",
      " |  __repr__(self)\n",
      " |      Return repr(self).\n",
      " |  \n",
      " |  ----------------------------------------------------------------------\n",
      " |  Data descriptors inherited from openpyxl.workbook.child._WorkbookChild:\n",
      " |  \n",
      " |  __dict__\n",
      " |      dictionary for instance variables (if defined)\n",
      " |  \n",
      " |  __weakref__\n",
      " |      list of weak references to the object (if defined)\n",
      " |  \n",
      " |  encoding\n",
      " |  \n",
      " |  evenFooter\n",
      " |  \n",
      " |  evenHeader\n",
      " |  \n",
      " |  firstFooter\n",
      " |  \n",
      " |  firstHeader\n",
      " |  \n",
      " |  oddFooter\n",
      " |  \n",
      " |  oddHeader\n",
      " |  \n",
      " |  parent\n",
      " |  \n",
      " |  path\n",
      " |  \n",
      " |  title\n",
      "\n"
     ]
    }
   ],
   "source": [
    "help(openpyxl.worksheet.worksheet.Worksheet)"
   ]
  },
  {
   "cell_type": "code",
   "execution_count": 20,
   "metadata": {},
   "outputs": [
    {
     "name": "stdout",
     "output_type": "stream",
     "text": [
      "Help on module openpyxl.cell.cell in openpyxl.cell:\n",
      "\n",
      "NAME\n",
      "    openpyxl.cell.cell - Manage individual cells in a spreadsheet.\n",
      "\n",
      "DESCRIPTION\n",
      "    The Cell class is required to know its value and type, display options,\n",
      "    and any other features of an Excel cell.  Utilities for referencing\n",
      "    cells using Excel's 'A1' column/row nomenclature are also provided.\n",
      "\n",
      "CLASSES\n",
      "    openpyxl.styles.styleable.StyleableObject(builtins.object)\n",
      "        Cell\n",
      "        MergedCell\n",
      "    \n",
      "    class Cell(openpyxl.styles.styleable.StyleableObject)\n",
      "     |  Cell(worksheet, row=None, column=None, value=None, style_array=None)\n",
      "     |  \n",
      "     |  Describes cell associated properties.\n",
      "     |  \n",
      "     |  Properties of interest include style, type, value, and address.\n",
      "     |  \n",
      "     |  Method resolution order:\n",
      "     |      Cell\n",
      "     |      openpyxl.styles.styleable.StyleableObject\n",
      "     |      builtins.object\n",
      "     |  \n",
      "     |  Methods defined here:\n",
      "     |  \n",
      "     |  __init__(self, worksheet, row=None, column=None, value=None, style_array=None)\n",
      "     |      Initialize self.  See help(type(self)) for accurate signature.\n",
      "     |  \n",
      "     |  __repr__(self)\n",
      "     |      Return repr(self).\n",
      "     |  \n",
      "     |  check_error(self, value)\n",
      "     |      Tries to convert Error\" else N/A\n",
      "     |  \n",
      "     |  check_string(self, value)\n",
      "     |      Check string coding, length, and line break character\n",
      "     |  \n",
      "     |  offset(self, row=0, column=0)\n",
      "     |      Returns a cell location relative to this cell.\n",
      "     |      \n",
      "     |      :param row: number of rows to offset\n",
      "     |      :type row: int\n",
      "     |      \n",
      "     |      :param column: number of columns to offset\n",
      "     |      :type column: int\n",
      "     |      \n",
      "     |      :rtype: :class:`openpyxl.cell.Cell`\n",
      "     |  \n",
      "     |  ----------------------------------------------------------------------\n",
      "     |  Data descriptors defined here:\n",
      "     |  \n",
      "     |  base_date\n",
      "     |  \n",
      "     |  col_idx\n",
      "     |      The numerical index of the column\n",
      "     |  \n",
      "     |  column\n",
      "     |  \n",
      "     |  column_letter\n",
      "     |  \n",
      "     |  comment\n",
      "     |      Returns the comment associated with this cell\n",
      "     |      \n",
      "     |      :type: :class:`openpyxl.comments.Comment`\n",
      "     |  \n",
      "     |  coordinate\n",
      "     |      This cell's coordinate (ex. 'A5')\n",
      "     |  \n",
      "     |  data_type\n",
      "     |  \n",
      "     |  encoding\n",
      "     |  \n",
      "     |  hyperlink\n",
      "     |      Return the hyperlink target or an empty string\n",
      "     |  \n",
      "     |  internal_value\n",
      "     |      Always returns the value for excel.\n",
      "     |  \n",
      "     |  is_date\n",
      "     |      True if the value is formatted as a date\n",
      "     |      \n",
      "     |      :type: bool\n",
      "     |  \n",
      "     |  parent\n",
      "     |  \n",
      "     |  row\n",
      "     |  \n",
      "     |  value\n",
      "     |      Get or set the value held in the cell.\n",
      "     |      \n",
      "     |      :type: depends on the value (string, float, int or\n",
      "     |          :class:`datetime.datetime`)\n",
      "     |  \n",
      "     |  ----------------------------------------------------------------------\n",
      "     |  Data descriptors inherited from openpyxl.styles.styleable.StyleableObject:\n",
      "     |  \n",
      "     |  alignment\n",
      "     |  \n",
      "     |  border\n",
      "     |  \n",
      "     |  fill\n",
      "     |  \n",
      "     |  font\n",
      "     |  \n",
      "     |  has_style\n",
      "     |  \n",
      "     |  number_format\n",
      "     |  \n",
      "     |  pivotButton\n",
      "     |  \n",
      "     |  protection\n",
      "     |  \n",
      "     |  quotePrefix\n",
      "     |  \n",
      "     |  style\n",
      "     |  \n",
      "     |  style_id\n",
      "    \n",
      "    class MergedCell(openpyxl.styles.styleable.StyleableObject)\n",
      "     |  MergedCell(worksheet, row=None, column=None)\n",
      "     |  \n",
      "     |  Describes the properties of a cell in a merged cell and helps to\n",
      "     |  display the borders of the merged cell.\n",
      "     |  \n",
      "     |  The value of a MergedCell is always None.\n",
      "     |  \n",
      "     |  Method resolution order:\n",
      "     |      MergedCell\n",
      "     |      openpyxl.styles.styleable.StyleableObject\n",
      "     |      builtins.object\n",
      "     |  \n",
      "     |  Methods defined here:\n",
      "     |  \n",
      "     |  __init__(self, worksheet, row=None, column=None)\n",
      "     |      Initialize self.  See help(type(self)) for accurate signature.\n",
      "     |  \n",
      "     |  __repr__(self)\n",
      "     |      Return repr(self).\n",
      "     |  \n",
      "     |  ----------------------------------------------------------------------\n",
      "     |  Data descriptors defined here:\n",
      "     |  \n",
      "     |  column\n",
      "     |  \n",
      "     |  coordinate\n",
      "     |      This cell's coordinate (ex. 'A5')\n",
      "     |  \n",
      "     |  row\n",
      "     |  \n",
      "     |  ----------------------------------------------------------------------\n",
      "     |  Data and other attributes defined here:\n",
      "     |  \n",
      "     |  comment = None\n",
      "     |  \n",
      "     |  data_type = 'n'\n",
      "     |  \n",
      "     |  hyperlink = None\n",
      "     |  \n",
      "     |  value = None\n",
      "     |  \n",
      "     |  ----------------------------------------------------------------------\n",
      "     |  Data descriptors inherited from openpyxl.styles.styleable.StyleableObject:\n",
      "     |  \n",
      "     |  alignment\n",
      "     |  \n",
      "     |  border\n",
      "     |  \n",
      "     |  fill\n",
      "     |  \n",
      "     |  font\n",
      "     |  \n",
      "     |  has_style\n",
      "     |  \n",
      "     |  number_format\n",
      "     |  \n",
      "     |  parent\n",
      "     |  \n",
      "     |  pivotButton\n",
      "     |  \n",
      "     |  protection\n",
      "     |  \n",
      "     |  quotePrefix\n",
      "     |  \n",
      "     |  style\n",
      "     |  \n",
      "     |  style_id\n",
      "\n",
      "FUNCTIONS\n",
      "    WriteOnlyCell(ws=None, value=None)\n",
      "    \n",
      "    get_time_format(t)\n",
      "    \n",
      "    get_type(t, value)\n",
      "\n",
      "DATA\n",
      "    ERROR_CODES = ('#NULL!', '#DIV/0!', '#VALUE!', '#REF!', '#NAME?', '#NU...\n",
      "    ILLEGAL_CHARACTERS_RE = re.compile('[\\\\000-\\\\010]|[\\\\013-\\\\014]|[\\\\016...\n",
      "    KNOWN_TYPES = (<class 'int'>, <class 'float'>, <class 'decimal.Decimal...\n",
      "    NUMERIC_TYPES = (<class 'int'>, <class 'float'>, <class 'decimal.Decim...\n",
      "    STRING_TYPES = (<class 'str'>, <class 'bytes'>)\n",
      "    TIME_FORMATS = {<class 'datetime.datetime'>: 'yyyy-mm-dd h:mm:ss', <cl...\n",
      "    TIME_TYPES = (<class 'datetime.datetime'>, <class 'datetime.date'>, <c...\n",
      "    TYPE_BOOL = 'b'\n",
      "    TYPE_ERROR = 'e'\n",
      "    TYPE_FORMULA = 'f'\n",
      "    TYPE_FORMULA_CACHE_STRING = 'str'\n",
      "    TYPE_INLINE = 'inlineStr'\n",
      "    TYPE_NULL = 'n'\n",
      "    TYPE_NUMERIC = 'n'\n",
      "    TYPE_STRING = 's'\n",
      "    VALID_TYPES = ('s', 'f', 'n', 'b', 'n', 'inlineStr', 'e', 'str')\n",
      "    __docformat__ = 'restructuredtext en'\n",
      "\n",
      "FILE\n",
      "    d:\\programs\\code\\anaconda3\\lib\\site-packages\\openpyxl\\cell\\cell.py\n",
      "\n",
      "\n"
     ]
    }
   ],
   "source": [
    "help(openpyxl.cell.cell)"
   ]
  }
 ],
 "metadata": {
  "kernelspec": {
   "display_name": "Python 3",
   "language": "python",
   "name": "python3"
  },
  "language_info": {
   "codemirror_mode": {
    "name": "ipython",
    "version": 3
   },
   "file_extension": ".py",
   "mimetype": "text/x-python",
   "name": "python",
   "nbconvert_exporter": "python",
   "pygments_lexer": "ipython3",
   "version": "3.7.0"
  },
  "toc": {
   "base_numbering": 1,
   "nav_menu": {
    "height": "12px",
    "width": "160px"
   },
   "number_sections": true,
   "sideBar": false,
   "skip_h1_title": false,
   "title_cell": "Table of Contents",
   "title_sidebar": "Contents",
   "toc_cell": false,
   "toc_position": {
    "height": "619.323px",
    "left": "1095px",
    "top": "135px",
    "width": "298.792px"
   },
   "toc_section_display": true,
   "toc_window_display": true
  }
 },
 "nbformat": 4,
 "nbformat_minor": 2
}
