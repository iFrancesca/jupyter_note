{
 "cells": [
  {
   "cell_type": "code",
   "execution_count": null,
   "metadata": {},
   "outputs": [],
   "source": [
    "'''time 库包括三类函数\n",
    "时间获取：time() ctime() gmtime\n",
    "时间格式化：strftime() strptime()\n",
    "程序计时:sleep(),perf_counter()'''"
   ]
  },
  {
   "cell_type": "code",
   "execution_count": 5,
   "metadata": {},
   "outputs": [
    {
     "name": "stdout",
     "output_type": "stream",
     "text": [
      "1560576934.630795\n",
      "<class 'str'> Sat Jun 15 13:35:34 2019\n",
      "time.struct_time(tm_year=2019, tm_mon=6, tm_mday=15, tm_hour=5, tm_min=35, tm_sec=34, tm_wday=5, tm_yday=166, tm_isdst=0)\n"
     ]
    }
   ],
   "source": [
    "#时间获取\n",
    "import time\n",
    "print(time.time())\n",
    "print(type(time.ctime()),time.ctime())\n",
    "print(time.gmtime())"
   ]
  },
  {
   "cell_type": "code",
   "execution_count": 7,
   "metadata": {},
   "outputs": [
    {
     "name": "stdout",
     "output_type": "stream",
     "text": [
      "2019-06-15 05:37:57.AM\n",
      "time.struct_time(tm_year=2018, tm_mon=1, tm_mday=26, tm_hour=23, tm_min=38, tm_sec=56, tm_wday=4, tm_yday=26, tm_isdst=-1)\n"
     ]
    }
   ],
   "source": [
    "#时间格式化\n",
    "'''strftime(tpl,ts)\n",
    "tpl是格式化模板字符串，用来定义输出效果\n",
    "ts是计算机内部时间类型变量\n",
    "'''\n",
    "\"\"\"strptime(str,tpl)\n",
    "str是字符串类型的时间值\n",
    "tpl是格式化模板字符串，用来定义输入效果\"\"\"\n",
    "\n",
    "\n",
    "t=time.gmtime()\n",
    "print(time.strftime('%Y-%m-%d %H:%M:%S.%p',t))\n",
    "\n",
    "timeSTR='2018-01-26 23:38:56'\n",
    "print(time.strptime(timeSTR,'%Y-%m-%d %H:%M:%S'))"
   ]
  },
  {
   "cell_type": "code",
   "execution_count": null,
   "metadata": {},
   "outputs": [],
   "source": []
  },
  {
   "cell_type": "code",
   "execution_count": null,
   "metadata": {},
   "outputs": [],
   "source": [
    "#程序计时\n",
    "'''测量时间：perf_counter()\n",
    "产生时间：sleep()\n",
    "perf_counter()  返回一个CPU级别的精确时间计数值，单位为秒\n",
    "由于这个技术值起点不确定，连继续调用差值才有意义\n",
    "sleep(s)  s拟休眠的时间，单位是秒，可以是浮点数'''\n"
   ]
  },
  {
   "cell_type": "code",
   "execution_count": 19,
   "metadata": {},
   "outputs": [
    {
     "data": {
      "text/plain": [
       "7.423996832428018e-05"
      ]
     },
     "execution_count": 19,
     "metadata": {},
     "output_type": "execute_result"
    }
   ],
   "source": [
    "start=time.perf_counter()\n",
    "end=time.perf_counter()\n",
    "end-start"
   ]
  },
  {
   "cell_type": "code",
   "execution_count": 10,
   "metadata": {},
   "outputs": [
    {
     "name": "stdout",
     "output_type": "stream",
     "text": [
      "12\n"
     ]
    }
   ],
   "source": [
    "def wait():\n",
    "    print(6+6)\n",
    "    time.sleep(3.3)\n",
    "    \n",
    "wait()"
   ]
  },
  {
   "cell_type": "code",
   "execution_count": 2,
   "metadata": {},
   "outputs": [
    {
     "data": {
      "text/plain": [
       "''"
      ]
     },
     "execution_count": 2,
     "metadata": {},
     "output_type": "execute_result"
    }
   ],
   "source": [
    "#datetime库\n",
    "''''''"
   ]
  },
  {
   "cell_type": "markdown",
   "metadata": {},
   "source": [
    "* 计算时间差"
   ]
  },
  {
   "cell_type": "code",
   "execution_count": 8,
   "metadata": {},
   "outputs": [
    {
     "data": {
      "text/plain": [
       "'\\ndate1=time.strptime(date1,\"%Y/%m/%d\")\\nprint(date1)\\ndate1=datetime.datetime(date1[0],date1[1],date1[2])\\nprint(date1)\\n'"
      ]
     },
     "execution_count": 8,
     "metadata": {},
     "output_type": "execute_result"
    }
   ],
   "source": [
    "import time \n",
    "import datetime\n",
    "\n",
    "date1 = \"2017/1/3\"\n",
    "date2 = \"2017/1/9\"\n",
    "'''\n",
    "date1=time.strptime(date1,\"%Y/%m/%d\")\n",
    "print(date1)\n",
    "date1=datetime.datetime(date1[0],date1[1],date1[2])\n",
    "print(date1)\n",
    "'''"
   ]
  },
  {
   "cell_type": "code",
   "execution_count": 10,
   "metadata": {},
   "outputs": [
    {
     "name": "stdout",
     "output_type": "stream",
     "text": [
      "6\n"
     ]
    }
   ],
   "source": [
    "def Caltime(date1,date2):\n",
    "    #%Y-%m-%d为日期格式，其中的-可以用其他代替或者不写，但是要统一，同理后面的时分秒也一样；可以只计算日期，不计算时间。\n",
    "    #date1=time.strptime(date1,\"%Y-%m-%d %H:%M:%S\") \n",
    "    #date2=time.strptime(date2,\"%Y-%m-%d %H:%M:%S\")\n",
    "    date1=time.strptime(date1,\"%Y/%m/%d\")\n",
    "    date2=time.strptime(date2,\"%Y/%m/%d\")\n",
    "    #根据上面需要计算日期还是日期时间，来确定需要几个数组段。下标0表示年，小标1表示月，依次类推...\n",
    "    #date1=datetime.datetime(date1[0],date1[1],date1[2],date1[3],date1[4],date1[5])\n",
    "    #date2=datetime.datetime(date2[0],date2[1],date2[2],date2[3],date2[4],date2[5])\n",
    "    date1=datetime.datetime(date1[0],date1[1],date1[2])\n",
    "    date2=datetime.datetime(date2[0],date2[1],date2[2])\n",
    "    #返回两个变量相差的值，就是相差天数\n",
    "    return (date2-date1).days\n",
    "print(Caltime(date1,date2))"
   ]
  },
  {
   "cell_type": "code",
   "execution_count": null,
   "metadata": {},
   "outputs": [],
   "source": []
  }
 ],
 "metadata": {
  "kernelspec": {
   "display_name": "Python 3",
   "language": "python",
   "name": "python3"
  },
  "language_info": {
   "codemirror_mode": {
    "name": "ipython",
    "version": 3
   },
   "file_extension": ".py",
   "mimetype": "text/x-python",
   "name": "python",
   "nbconvert_exporter": "python",
   "pygments_lexer": "ipython3",
   "version": "3.7.0"
  }
 },
 "nbformat": 4,
 "nbformat_minor": 2
}
