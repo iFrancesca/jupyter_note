{
 "cells": [
  {
   "cell_type": "code",
   "execution_count": 1,
   "metadata": {},
   "outputs": [],
   "source": [
    "import turtle\n",
    "turtle.setup(800,400,0,0)\n",
    "turtle.goto(100,100)\n",
    "turtle.goto(100,-100)\n",
    "turtle.goto(-100,-100)\n",
    "turtle.goto(-100,100)\n",
    "turtle.goto(0,0)\n"
   ]
  },
  {
   "cell_type": "code",
   "execution_count": 1,
   "metadata": {},
   "outputs": [],
   "source": [
    "import turtle\n",
    "turtle.setup(400,800,800,400)\n",
    "turtle.left(45)\n",
    "turtle.fd(150)\n",
    "turtle.right(135)\n",
    "turtle.fd(300)\n",
    "turtle.left(135)\n",
    "turtle.fd(150)"
   ]
  },
  {
   "cell_type": "code",
   "execution_count": 3,
   "metadata": {},
   "outputs": [],
   "source": [
    "from turtle import*\n",
    "for i in range(4):\n",
    "    pu()\n",
    "    fd(20)\n",
    "    pd()\n",
    "    fd(60)\n",
    "    pu()\n",
    "    fd(40)\n",
    "    right(90)"
   ]
  },
  {
   "cell_type": "code",
   "execution_count": 4,
   "metadata": {},
   "outputs": [],
   "source": [
    "for i in range(403):\n",
    "    fd(i+4)\n",
    "    left(90)"
   ]
  },
  {
   "cell_type": "code",
   "execution_count": 4,
   "metadata": {},
   "outputs": [
    {
     "name": "stdout",
     "output_type": "stream",
     "text": [
      "Help on function mainloop in module turtle:\n",
      "\n",
      "mainloop()\n",
      "    Starts event loop - calling Tkinter's mainloop function.\n",
      "    \n",
      "    No argument.\n",
      "    \n",
      "    Must be last statement in a turtle graphics program.\n",
      "    Must NOT be used if a script is run from within IDLE in -n mode\n",
      "    (No subprocess) - for interactive use of turtle graphics.\n",
      "    \n",
      "    Example:\n",
      "    >>> mainloop()\n",
      "\n",
      "None\n",
      "Help on function hideturtle in module turtle:\n",
      "\n",
      "hideturtle()\n",
      "    Makes the turtle invisible.\n",
      "    \n",
      "    Aliases: hideturtle | ht\n",
      "    \n",
      "    No argument.\n",
      "    \n",
      "    It's a good idea to do this while you're in the\n",
      "    middle of a complicated drawing, because hiding\n",
      "    the turtle speeds up the drawing observably.\n",
      "    \n",
      "    Example:\n",
      "    >>> hideturtle()\n",
      "\n",
      "None\n"
     ]
    }
   ],
   "source": [
    "'''turtle.done()\n",
    "运行后的turtle不能再使用，但仍需手动关闭\n",
    "turtle.hideturtle()\n",
    "再次运行turtule时不用这个turtle画布'''\n",
    "import turtle as t\n",
    "print(help(t.done))\n",
    "print(help(t.hideturtle))"
   ]
  },
  {
   "cell_type": "code",
   "execution_count": null,
   "metadata": {},
   "outputs": [],
   "source": []
  },
  {
   "cell_type": "code",
   "execution_count": null,
   "metadata": {},
   "outputs": [],
   "source": []
  },
  {
   "cell_type": "code",
   "execution_count": null,
   "metadata": {},
   "outputs": [],
   "source": []
  }
 ],
 "metadata": {
  "kernelspec": {
   "display_name": "Python 3",
   "language": "python",
   "name": "python3"
  },
  "language_info": {
   "codemirror_mode": {
    "name": "ipython",
    "version": 3
   },
   "file_extension": ".py",
   "mimetype": "text/x-python",
   "name": "python",
   "nbconvert_exporter": "python",
   "pygments_lexer": "ipython3",
   "version": "3.6.5"
  }
 },
 "nbformat": 4,
 "nbformat_minor": 2
}
