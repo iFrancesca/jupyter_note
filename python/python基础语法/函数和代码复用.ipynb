{
 "cells": [
  {
   "cell_type": "code",
   "execution_count": 2,
   "metadata": {},
   "outputs": [
    {
     "name": "stdout",
     "output_type": "stream",
     "text": [
      "25\n",
      "lambda函数\n"
     ]
    },
    {
     "data": {
      "text/plain": [
       "'lambda函数应用\\n\\n谨慎使用\\n    lambda函数主要用作一些特定函数或方法的参数\\n    lambda函数有一些固定使用方式，建议逐步掌握\\n    一般情况，建议使用def定义的普通函数'"
      ]
     },
     "execution_count": 2,
     "metadata": {},
     "output_type": "execute_result"
    }
   ],
   "source": [
    "#lambda函数\n",
    "'''lambda函数返回函数名作为结果\n",
    "\n",
    "  lambda函数是一种匿名函数，既没有名字的函数\n",
    "  使用保留字定义，函数名是返回结果\n",
    "  lambda函数用于定义简单的，能在一行内表达的函数\n",
    "  <函数名>=lambda<参数>:<表达式>\n",
    "  \n",
    "    等价于\n",
    "      def <函数名>(<参数>)：\n",
    "          <函数体>\n",
    "          return <返回值>'''\n",
    "f=lambda x,y:x+y\n",
    "print(f(10,15))\n",
    "f=lambda :'lambda函数'\n",
    "print(f())\n",
    "\n",
    "'''lambda函数应用\n",
    "\n",
    "谨慎使用\n",
    "    lambda函数主要用作一些特定函数或方法的参数\n",
    "    lambda函数有一些固定使用方式，建议逐步掌握\n",
    "    一般情况，建议使用def定义的普通函数'''"
   ]
  },
  {
   "cell_type": "code",
   "execution_count": 6,
   "metadata": {},
   "outputs": [
    {
     "name": "stdout",
     "output_type": "stream",
     "text": [
      "10\n",
      "None\n",
      "None\n",
      "10\n"
     ]
    }
   ],
   "source": [
    "#return返回值\n",
    "def fun():\n",
    "    a=5\n",
    "    a+=5\n",
    "    return a\n",
    "c=fun()\n",
    "print(c)\n",
    "def fun():\n",
    "    a=5\n",
    "    a+=5\n",
    "    return\n",
    "c=fun()\n",
    "print(c)\n",
    "def fun():\n",
    "    a=5\n",
    "    a+=5\n",
    "c=fun()\n",
    "print(c)\n",
    "def fun():\n",
    "    a=5\n",
    "    a+=5\n",
    "    print(a)\n",
    "fun()"
   ]
  },
  {
   "cell_type": "code",
   "execution_count": 4,
   "metadata": {},
   "outputs": [
    {
     "name": "stdout",
     "output_type": "stream",
     "text": [
      "输入一个整数3\n",
      "6\n"
     ]
    }
   ],
   "source": [
    "#阶乘\n",
    "def fact(n):\n",
    "    if n==0:\n",
    "        return 1\n",
    "    else:\n",
    "        return n*fact(n-1)\n",
    "n=input('输入一个整数')\n",
    "print(fact(abs(int(n))))"
   ]
  },
  {
   "cell_type": "code",
   "execution_count": 6,
   "metadata": {},
   "outputs": [
    {
     "name": "stdout",
     "output_type": "stream",
     "text": [
      "请输入一个字符串：python\n",
      "nohtyp\n"
     ]
    }
   ],
   "source": [
    "#字符串反转\n",
    "def reverse(s):\n",
    "    if s=='':\n",
    "        return s\n",
    "    else:\n",
    "        return reverse(s[1:])+s[0]\n",
    "x=input('请输入一个字符串：')\n",
    "print(reverse(x))"
   ]
  },
  {
   "cell_type": "code",
   "execution_count": 2,
   "metadata": {},
   "outputs": [],
   "source": [
    "#科赫曲线\n",
    "from turtle import *\n",
    "from random import *\n",
    "def koch(size,n):\n",
    "    if n==0:\n",
    "       fd(size) \n",
    "    else:\n",
    "        for angle in [0,60,-120,60]:\n",
    "            seed=size\n",
    "            pencolor(random(),random(),random())\n",
    "            left(angle)\n",
    "            koch(size/3,n-1)\n",
    "def main():\n",
    "    speed(1000)\n",
    "    penup()\n",
    "    goto(-300,-50)\n",
    "    pendown()\n",
    "    pensize(2)\n",
    "    koch(600,5)\n",
    "    right(120)\n",
    "    koch(600,4)\n",
    "    right(120)\n",
    "    koch(600,3)\n",
    "    hideturtle()\n",
    "main()"
   ]
  },
  {
   "cell_type": "code",
   "execution_count": 6,
   "metadata": {},
   "outputs": [],
   "source": [
    "#反向绘制\n",
    "from turtle import *\n",
    "def koch(size,n):\n",
    "    if n==0:\n",
    "       fd(size) \n",
    "    else:\n",
    "        for angle in [0,60,-120,60]:\n",
    "            right(angle)\n",
    "            koch(size/3,n-1)\n",
    "def main():\n",
    "    speed(10)\n",
    "    penup()\n",
    "    goto(-300,-50)\n",
    "    pendown()\n",
    "    pensize(2)\n",
    "    koch(600,3)\n",
    "    hideturtle()\n",
    "main()\n",
    "          "
   ]
  },
  {
   "cell_type": "code",
   "execution_count": null,
   "metadata": {},
   "outputs": [],
   "source": []
  }
 ],
 "metadata": {
  "kernelspec": {
   "display_name": "Python 3",
   "language": "python",
   "name": "python3"
  },
  "language_info": {
   "codemirror_mode": {
    "name": "ipython",
    "version": 3
   },
   "file_extension": ".py",
   "mimetype": "text/x-python",
   "name": "python",
   "nbconvert_exporter": "python",
   "pygments_lexer": "ipython3",
   "version": "3.6.5"
  }
 },
 "nbformat": 4,
 "nbformat_minor": 2
}
