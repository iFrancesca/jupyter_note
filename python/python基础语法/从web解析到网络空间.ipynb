{
 "cells": [
  {
   "cell_type": "code",
   "execution_count": null,
   "metadata": {},
   "outputs": [],
   "source": [
    "'''python库之网络爬虫\n",
    "python库之web信息提取\n",
    "python库之web网站开发\n",
    "python库之网洛应用开发'''"
   ]
  },
  {
   "cell_type": "code",
   "execution_count": null,
   "metadata": {},
   "outputs": [],
   "source": [
    "#网络爬虫\n",
    "#Requests:最友好的网络爬虫功能库\n",
    "'''提供了简单易用的类HEEP协议网络爬虫功能\n",
    "支持连接池，SSL,Cookies,HTTP(S)代理等\n",
    "Python最主要的页面级网络爬虫功能库'''"
   ]
  }
 ],
 "metadata": {
  "kernelspec": {
   "display_name": "Python 3",
   "language": "python",
   "name": "python3"
  },
  "language_info": {
   "codemirror_mode": {
    "name": "ipython",
    "version": 3
   },
   "file_extension": ".py",
   "mimetype": "text/x-python",
   "name": "python",
   "nbconvert_exporter": "python",
   "pygments_lexer": "ipython3",
   "version": "3.6.5"
  }
 },
 "nbformat": 4,
 "nbformat_minor": 2
}
