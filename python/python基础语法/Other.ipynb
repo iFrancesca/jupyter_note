{
 "cells": [
  {
   "cell_type": "code",
   "execution_count": 3,
   "metadata": {
    "scrolled": true
   },
   "outputs": [
    {
     "name": "stdout",
     "output_type": "stream",
     "text": [
      "True\n",
      "False\n"
     ]
    }
   ],
   "source": [
    "#isdigit\n",
    "'''\n",
    "描述:   Python isdigit() 方法检测字符串是否只由数字组成。\n",
    "语法:   isdigit()方法语法：str.isdigit()\n",
    "参数:    无。\n",
    "返回值:  如果字符串只包含数字则返回 True 否则返回 False。'''\n",
    "'''e.g'''\n",
    "s='143464365'\n",
    "print(s.isdigit())\n",
    "\n",
    "p='skajk465'\n",
    "print(p.isdigit())"
   ]
  },
  {
   "cell_type": "code",
   "execution_count": 8,
   "metadata": {},
   "outputs": [
    {
     "name": "stdout",
     "output_type": "stream",
     "text": [
      "[(0, 'spring'), (1, 'summer'), (2, 'fall'), (3, 'winter')]\n"
     ]
    },
    {
     "data": {
      "text/plain": [
       "[(1, 'spring'), (2, 'summer'), (3, 'fall'), (4, 'winter')]"
      ]
     },
     "execution_count": 8,
     "metadata": {},
     "output_type": "execute_result"
    }
   ],
   "source": [
    "#enumerate()\n",
    "'''用于将一个可遍历的数据对象（如列表、元素或字符串）组合为一个索引序列，同时列出数据和数据下标，一般用在for循环中。\n",
    "enumerate(sequence,[start=[0]])'''\n",
    "seasons=['spring','summer','fall','winter']\n",
    "print(list(enumerate(seasons)))\n",
    "list(enumerate(seasons,start=1))#小标从一开始\n",
    "list(enumerate(seasons,start=1))\n"
   ]
  }
 ],
 "metadata": {
  "kernelspec": {
   "display_name": "Python 3",
   "language": "python",
   "name": "python3"
  },
  "language_info": {
   "codemirror_mode": {
    "name": "ipython",
    "version": 3
   },
   "file_extension": ".py",
   "mimetype": "text/x-python",
   "name": "python",
   "nbconvert_exporter": "python",
   "pygments_lexer": "ipython3",
   "version": "3.7.4"
  }
 },
 "nbformat": 4,
 "nbformat_minor": 2
}
