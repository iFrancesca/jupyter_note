{
 "cells": [
  {
   "cell_type": "code",
   "execution_count": 1,
   "metadata": {},
   "outputs": [
    {
     "name": "stdout",
     "output_type": "stream",
     "text": [
      "39\n",
      "74\n",
      "1\n",
      "90\n",
      "53\n",
      "98\n",
      "89\n",
      "13\n",
      "48\n",
      "76\n",
      "[12, 28, 88, 18, 37, 59, 27, 70, 79, 84]\n",
      "f\n",
      "c\n",
      "n\n",
      "m\n",
      "peach\n"
     ]
    }
   ],
   "source": [
    "from random import*\n",
    "#P113(1)\n",
    "for i in range(10):\n",
    "    print(randint(0,100))\n",
    "print(sample(range(101),10))\n",
    "#(3)\n",
    "s='abcdefghijklmn'\n",
    "for i in range(4):\n",
    "    print(s[randint(0,len(s)-1)])\n",
    "#(4)\n",
    "print(['apple','peach','pear','orange'][randint(0,3)])"
   ]
  }
 ],
 "metadata": {
  "kernelspec": {
   "display_name": "Python 3",
   "language": "python",
   "name": "python3"
  },
  "language_info": {
   "codemirror_mode": {
    "name": "ipython",
    "version": 3
   },
   "file_extension": ".py",
   "mimetype": "text/x-python",
   "name": "python",
   "nbconvert_exporter": "python",
   "pygments_lexer": "ipython3",
   "version": "3.7.0"
  },
  "toc": {
   "base_numbering": 1,
   "nav_menu": {},
   "number_sections": true,
   "sideBar": true,
   "skip_h1_title": false,
   "title_cell": "Table of Contents",
   "title_sidebar": "Contents",
   "toc_cell": false,
   "toc_position": {},
   "toc_section_display": true,
   "toc_window_display": false
  }
 },
 "nbformat": 4,
 "nbformat_minor": 2
}
