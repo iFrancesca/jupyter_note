{
 "cells": [
  {
   "cell_type": "code",
   "execution_count": 1,
   "metadata": {},
   "outputs": [
    {
     "name": "stdout",
     "output_type": "stream",
     "text": [
      "1.26\n",
      "1.58\n",
      "1.99\n",
      "2.50\n",
      "3.15\n",
      "3.96\n",
      "4.97\n",
      "6.25\n",
      "7.85\n",
      "9.86\n"
     ]
    }
   ],
   "source": [
    "#思考与练习\n",
    "#3.12\n",
    "def dayUp():\n",
    "    dayup= 1.0\n",
    "    for i in range(365):\n",
    "        if i %8<=4:\n",
    "            dayup=dayup*(1+N)\n",
    "        else:\n",
    "            dayup=dayup\n",
    "    return dayup\n",
    "N=0\n",
    "for i in range(10):\n",
    "    N+=0.001\n",
    "    print('{:.2f}'.format(dayUp()))"
   ]
  },
  {
   "cell_type": "code",
   "execution_count": 5,
   "metadata": {},
   "outputs": [
    {
     "name": "stdout",
     "output_type": "stream",
     "text": [
      "1.30\n",
      "1.68\n",
      "2.18\n",
      "2.82\n",
      "3.66\n",
      "4.74\n",
      "6.13\n",
      "7.94\n",
      "10.27\n",
      "13.29\n"
     ]
    }
   ],
   "source": [
    "#3.13\n",
    "def dayUp():\n",
    "    dayup=1.0\n",
    "    for i in range(365):\n",
    "        if i %7 in [6,0]:\n",
    "            dayup=dayup\n",
    "        else:\n",
    "            dayup=dayup*(1+N)\n",
    "    return dayup\n",
    "N=0\n",
    "for i in range(10):\n",
    "    N+=0.001\n",
    "    print('{:.2f}'.format(dayUp()))\n",
    "        \n"
   ]
  },
  {
   "cell_type": "code",
   "execution_count": 6,
   "metadata": {},
   "outputs": [
    {
     "name": "stdout",
     "output_type": "stream",
     "text": [
      "1.37\n",
      "1.87\n",
      "2.55\n",
      "3.47\n",
      "4.74\n",
      "6.47\n",
      "8.81\n",
      "12.01\n",
      "16.37\n",
      "22.30\n"
     ]
    }
   ],
   "source": [
    "#3.14\n",
    "dayup=1.0\n",
    "def dayUp():\n",
    "    dayup=1.0\n",
    "    for i in range(365):\n",
    "        if i %7 in [0]:\n",
    "            dayup=dayup\n",
    "        else:\n",
    "            dayup=dayup*(1+N)\n",
    "    return dayup\n",
    "N=0\n",
    "for i in range(10):\n",
    "    N+=0.001\n",
    "    print('{:.2f}'.format(dayUp()))\n",
    "        \n",
    "        \n",
    "\n",
    "        "
   ]
  },
  {
   "cell_type": "code",
   "execution_count": 8,
   "metadata": {},
   "outputs": [
    {
     "name": "stdout",
     "output_type": "stream",
     "text": [
      "1.13\n",
      "1.27\n",
      "1.43\n",
      "1.61\n",
      "1.82\n",
      "2.05\n",
      "2.31\n",
      "2.60\n",
      "2.93\n",
      "3.30\n"
     ]
    }
   ],
   "source": [
    "#3.15\n",
    "dayup=1.0\n",
    "def dayUp():\n",
    "    dayup=1.0\n",
    "    for i in range(360):\n",
    "        if i %30 in range(10):\n",
    "            dayup=dayup*(1+N)\n",
    "        else:\n",
    "            dayup=dayup\n",
    "    return dayup\n",
    "N=0\n",
    "for i in range(10):\n",
    "    N+=0.001\n",
    "    print('{:.2f}'.format(dayUp()))\n",
    "        \n",
    "        \n",
    "\n",
    "        "
   ]
  },
  {
   "cell_type": "code",
   "execution_count": null,
   "metadata": {},
   "outputs": [],
   "source": []
  },
  {
   "cell_type": "code",
   "execution_count": null,
   "metadata": {},
   "outputs": [],
   "source": []
  },
  {
   "cell_type": "code",
   "execution_count": null,
   "metadata": {},
   "outputs": [],
   "source": []
  },
  {
   "cell_type": "code",
   "execution_count": null,
   "metadata": {},
   "outputs": [],
   "source": []
  }
 ],
 "metadata": {
  "kernelspec": {
   "display_name": "Python 3",
   "language": "python",
   "name": "python3"
  },
  "language_info": {
   "codemirror_mode": {
    "name": "ipython",
    "version": 3
   },
   "file_extension": ".py",
   "mimetype": "text/x-python",
   "name": "python",
   "nbconvert_exporter": "python",
   "pygments_lexer": "ipython3",
   "version": "3.6.5"
  }
 },
 "nbformat": 4,
 "nbformat_minor": 2
}
