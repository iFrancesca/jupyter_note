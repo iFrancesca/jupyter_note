{
 "cells": [
  {
   "cell_type": "code",
   "execution_count": 1,
   "metadata": {},
   "outputs": [
    {
     "name": "stdout",
     "output_type": "stream",
     "text": [
      "d llowor hlod lrowolleh\n"
     ]
    }
   ],
   "source": [
    "#字符串类型的表示\n",
    "s='hello'\n",
    "t='world'\n",
    "s+=t\n",
    "print(s[-1],s[2:8],s[::3],s[-2::-1])"
   ]
  },
  {
   "cell_type": "code",
   "execution_count": 2,
   "metadata": {},
   "outputs": [
    {
     "name": "stdout",
     "output_type": "stream",
     "text": [
      "\u0000,\u0001,\u0002,\u0003,\u0004,\u0005,\u0006,\u0007,\b,\t,\n",
      ",\u000b",
      ",\f",
      ",\r",
      ",\u000e,\u000f,\u0010,\u0011,\u0012,\u0013,\u0014,\u0015,\u0016,\u0017,\u0018,\u0019,\u001a,\u001b,\u001c",
      ",\u001d",
      ",\u001e",
      ",\u001f, ,!,\",#,$,%,&,',(,),*,+,,,-,.,/,0,1,2,3,4,5,6,7,8,9,:,;,<,=,>,?,@,A,B,C,D,E,F,G,H,I,J,K,L,M,N,O,P,Q,R,S,T,U,V,W,X,Y,Z,[,\\,],^,_,`,a,b,c,d,e,f,g,h,i,j,k,l,m,n,o,p,q,r,s,t,u,v,w,x,y,z,{,|,},~,,"
     ]
    }
   ],
   "source": [
    "for i in range(128):\n",
    "    print(chr(i),end=',')"
   ]
  },
  {
   "cell_type": "code",
   "execution_count": 2,
   "metadata": {},
   "outputs": [
    {
     "name": "stdout",
     "output_type": "stream",
     "text": [
      "请输入数字(1--7):5\n",
      "星期五\n",
      "请输入数字（1-7）：7\n",
      "星期日\n"
     ]
    }
   ],
   "source": [
    "#基本操作符\n",
    "#获得星期字符串\n",
    "#1\n",
    "weekstr='星期一星期二星期三星期四星期五星期六星期日'\n",
    "weekid=eval(input('请输入数字(1--7):'))\n",
    "pos=(weekid-1)*3\n",
    "print(weekstr[pos:pos+3])\n",
    "#2\n",
    "weekstr='一二三四五六日'\n",
    "weekid=eval(input(\"请输入数字（1-7）：\"))\n",
    "print(\"星期\"+weekstr[weekid-1])"
   ]
  },
  {
   "cell_type": "code",
   "execution_count": 7,
   "metadata": {},
   "outputs": [
    {
     "name": "stdout",
     "output_type": "stream",
     "text": [
      "请输入明文：python is an excellent language   xwxw\n",
      "s|wkrq lv dq h{fhoohqw odqjxdjh   {z{z请输入明文：python is an excellent language   xwxw\n",
      "sbwkrq lv dq hafhoohqw odqjxdjh   azaz"
     ]
    }
   ],
   "source": [
    "# 凯撒密码\n",
    "#A\n",
    "plaincode=input('请输入明文：')\n",
    "for  i in plaincode:\n",
    "    if ord('a')<=ord(i)<=ord('z'):\n",
    "        print(chr(ord(i)+3),end='')#不是循环\n",
    "    else:\n",
    "        print(i,end='')\n",
    "#B\n",
    "plaincode=input('请输入明文：')\n",
    "for  i in plaincode:\n",
    "    if ord('a')<=ord(i)<=ord('z'):\n",
    "        print(chr(ord('a')+(ord(i)-ord('a')+3)%26),end='')\n",
    "    else:\n",
    "        print(i,end='')\n",
    "\n"
   ]
  },
  {
   "cell_type": "code",
   "execution_count": 8,
   "metadata": {
    "scrolled": true
   },
   "outputs": [
    {
     "name": "stdout",
     "output_type": "stream",
     "text": [
      "输入密码:sbwkrq lv dq hafhoohqw odqjxdjh   azaz\n",
      "python is an excellent language   xwxw"
     ]
    }
   ],
   "source": [
    "#凯撒密码解密\n",
    "code=input('输入密码:')\n",
    "for i in code:\n",
    "    if  ord('a')<=ord(i)<=ord('z'):\n",
    "        print(chr(ord('a')+(ord(i)-ord('a')-3)%26),end='')\n",
    "    else:\n",
    "        print(i,end='')"
   ]
  },
  {
   "cell_type": "code",
   "execution_count": 10,
   "metadata": {},
   "outputs": [
    {
     "name": "stdout",
     "output_type": "stream",
     "text": [
      "uryybjbeyq\n"
     ]
    }
   ],
   "source": [
    "#凯撒密码2\n",
    "d={}\n",
    "for c in (65,97):\n",
    "    for i in range(26):\n",
    "        d[chr(c+i)]=chr((i+13)%26+c)\n",
    "print(''.join([d.get(c,c) for c in s]))"
   ]
  },
  {
   "cell_type": "code",
   "execution_count": 16,
   "metadata": {},
   "outputs": [
    {
     "name": "stdout",
     "output_type": "stream",
     "text": [
      "['你是一个', '东西']\n",
      "1\n",
      "dayfactoral\n",
      "************python************\n",
      "65\n",
      "1ab2ab3ab4ab5\n"
     ]
    }
   ],
   "source": [
    "#内置字符串处理方法\n",
    "print('你是一个:东西'.split(':'))\n",
    "print('3.141592645826'.count('2',2,9))\n",
    "print('dayfactor'.replace('r','ral'))\n",
    "print('python'.center(30,\"*\"))\n",
    "print('-65nop--'.strip('-pno'))\n",
    "print('ab'.join(\"12345\"))"
   ]
  },
  {
   "cell_type": "code",
   "execution_count": 24,
   "metadata": {},
   "outputs": [
    {
     "name": "stdout",
     "output_type": "stream",
     "text": [
      "135,546.22\n",
      "110011100\tƜ\t412\t634\t19c\t19C\n",
      "2.223545e-01\t2.223545E-01\t0.222355\t22.235450%\n",
      "53656\n"
     ]
    }
   ],
   "source": [
    "#字符串类型的格式化\n",
    "print(\"{0:,.2f}\\n{1:b}\\t{1:c}\\t{1:d}\\t{1:o}\\t{1:x}\\t{1:X}\\n{2:e}\\t{2:E}\\t{2:f}\\t{2:%}\\n{3:.5}\".format(135546.21565,412,0.2223545,'5365616'))"
   ]
  },
  {
   "cell_type": "code",
   "execution_count": 3,
   "metadata": {},
   "outputs": [
    {
     "name": "stdout",
     "output_type": "stream",
     "text": [
      "\n",
      "9876\n",
      "\n",
      "\n"
     ]
    }
   ],
   "source": [
    "a='0123456789'\n",
    "print(a[-1:-5])\n",
    "print(a[-1:-5:-1])\n",
    "print(a[-5:-1:-1])\n",
    "print(a[-1:-5:1])"
   ]
  },
  {
   "cell_type": "code",
   "execution_count": null,
   "metadata": {},
   "outputs": [],
   "source": []
  },
  {
   "cell_type": "code",
   "execution_count": null,
   "metadata": {},
   "outputs": [],
   "source": []
  }
 ],
 "metadata": {
  "kernelspec": {
   "display_name": "Python 3",
   "language": "python",
   "name": "python3"
  },
  "language_info": {
   "codemirror_mode": {
    "name": "ipython",
    "version": 3
   },
   "file_extension": ".py",
   "mimetype": "text/x-python",
   "name": "python",
   "nbconvert_exporter": "python",
   "pygments_lexer": "ipython3",
   "version": "3.6.5"
  }
 },
 "nbformat": 4,
 "nbformat_minor": 2
}
