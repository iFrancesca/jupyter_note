{
 "cells": [
  {
   "cell_type": "markdown",
   "metadata": {},
   "source": [
    "**将.py源代码转化成无需源代码的可执行文件（执行程序而非python下的执行指令）**"
   ]
  },
  {
   "cell_type": "markdown",
   "metadata": {},
   "source": [
    "pyinstaller库是第三方库\n",
    "官方网站：http://www.pyinstaller.org"
   ]
  },
  {
   "cell_type": "code",
   "execution_count": 1,
   "metadata": {},
   "outputs": [
    {
     "name": "stdout",
     "output_type": "stream",
     "text": [
      "-t\t查看帮助\n",
      "--clean\t清理打包过程中的临时文件\n",
      "-D,--onedir\t默认值，生成dist文件夹]\n",
      "-F，--onefile\t在dist文件夹中只生成独立的打包文件\n",
      "-i<图标文件名.ico>\t指定打包程序使用的图标ico\n"
     ]
    }
   ],
   "source": [
    "## 常用参数\n",
    "print('-t\\t查看帮助\\n--clean\\t清理打包过程中的临时文件\\n-D,--onedir\\t默认值，生成dist文件夹]\\n-F，\\\n",
    "--onefile\\t在dist文件夹中只生成独立的打包文件\\n-i<图标文件名.ico>\\t指定打包程序使用的图标ico')"
   ]
  },
  {
   "cell_type": "code",
   "execution_count": null,
   "metadata": {},
   "outputs": [],
   "source": [
    "#e.g\n",
    "pyinstaller -i curve.ico-F SevendightsdrawV2.py\n"
   ]
  }
 ],
 "metadata": {
  "kernelspec": {
   "display_name": "Python 3",
   "language": "python",
   "name": "python3"
  },
  "language_info": {
   "codemirror_mode": {
    "name": "ipython",
    "version": 3
   },
   "file_extension": ".py",
   "mimetype": "text/x-python",
   "name": "python",
   "nbconvert_exporter": "python",
   "pygments_lexer": "ipython3",
   "version": "3.7.4"
  }
 },
 "nbformat": 4,
 "nbformat_minor": 2
}
