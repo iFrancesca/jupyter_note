{
 "cells": [
  {
   "cell_type": "code",
   "execution_count": 40,
   "metadata": {},
   "outputs": [
    {
     "data": {
      "text/plain": [
       "'*datatime在pandas中表示矩阵数据\\n*datatime包含了已排序的列集合\\n*每一列可以是不同的值类型（数值、字符串、布尔值等）\\n*datatime有行索引index也有列索引icolumns\\n*datatime可以理解为一个共享相同索引的series的字典'"
      ]
     },
     "execution_count": 40,
     "metadata": {},
     "output_type": "execute_result"
    }
   ],
   "source": [
    "import pandas as pd\n",
    "#数据结构：DATATIME对象\n",
    "'''*datatime在pandas中表示矩阵数据\n",
    "*datatime包含了已排序的列集合\n",
    "*每一列可以是不同的值类型（数值、字符串、布尔值等）\n",
    "*datatime有行索引index也有列索引icolumns\n",
    "*datatime可以理解为一个共享相同索引的series的字典'''\n",
    "\n"
   ]
  },
  {
   "cell_type": "code",
   "execution_count": null,
   "metadata": {},
   "outputs": [],
   "source": []
  },
  {
   "cell_type": "code",
   "execution_count": 97,
   "metadata": {},
   "outputs": [
    {
     "name": "stdout",
     "output_type": "stream",
     "text": [
      "     name gender  age\n",
      "0   dogeo      M   12\n",
      "1    anna      F   23\n",
      "2  eugene      M   34\n",
      "   age\n",
      "0    0\n",
      "1    1\n",
      "2    2\n",
      "      nam\n",
      "0   dogeo\n",
      "1    anna\n",
      "2  eugene\n",
      "  name\n",
      "0    d\n",
      "1    a\n",
      "2    e\n"
     ]
    }
   ],
   "source": [
    "#构建dataframe\n",
    "import numpy as np\n",
    "'''利用包含等长度列表/numpy数组/series的字典'''\n",
    "data=pd.DataFrame({'name':['dogeo','anna','eugene'],'gender':['M','F','M'],'age':[12,23,34]})\n",
    "print(data)\n",
    "data1={'age':np.arange(3)}\n",
    "data2={'nam':data['name'][:3]}\n",
    "data3={'name':pd.Series(['d','a','e'])}\n",
    "print(pd.DataFrame(data1))\n",
    "print(pd.DataFrame(data2))\n",
    "print(pd.DataFrame(data3))"
   ]
  },
  {
   "cell_type": "code",
   "execution_count": 98,
   "metadata": {},
   "outputs": [
    {
     "name": "stdout",
     "output_type": "stream",
     "text": [
      "     name gender  age\n",
      "1   DIGEO      M   12\n",
      "2    ANNA      F   23\n",
      "3  EUGENE      M   34\n"
     ]
    }
   ],
   "source": [
    "#利用嵌套字典构建dataframe，pandas将字典的键作为列索引，将内部字典的键作为行索引\n",
    "dd={'name':{1:'DIGEO',2:'ANNA',3:'EUGENE'},'gender':{1:'M',2:'F',3:'M'},'age':{1:12,2:23,3:34}}\n",
    "print(pd.DataFrame(dd))"
   ]
  },
  {
   "cell_type": "code",
   "execution_count": 131,
   "metadata": {},
   "outputs": [
    {
     "name": "stdout",
     "output_type": "stream",
     "text": [
      "[12 23 34]\n",
      "2      ANNA\n",
      "3    EUGENE\n",
      "Name: name, dtype: object\n",
      "['ANNA' 'EUGENE']\n",
      "['ANNA' 'EUGENE']\n",
      "['ANNA' 'EUGENE']\n"
     ]
    }
   ],
   "source": [
    "#df中选取数据\n",
    "'''*df.info()显示df的基本信息\n",
    "*df.head()选出最前面五行（预览）\n",
    "*选择列\n",
    "    --类似字典的标记，e.gdf['name'](任意列名)\n",
    "    --列名为属性，如df.name（列名是有效的python变量）\n",
    "    --选取多列，df[['name','age']]包含list即可\n",
    "*选择行\n",
    "   可以用df[k:m:n]，注意df只能用切片，不能单独数字e.g  df[5]->error, df[5:6]->true\n",
    "*values属性返回指定列的ndarray结构数据（不含标签索引）\n",
    "  e.g d=r.head()['cpi'].values\n",
    "      d[2:4,'cpi']->error\n",
    "'''\n",
    "df=pd.DataFrame(dd)\n",
    "print(df.age.values)\n",
    "print(df['name'][1:3])\n",
    "print(df.loc[df['age']>15,'name'].values)"
   ]
  },
  {
   "cell_type": "code",
   "execution_count": 63,
   "metadata": {},
   "outputs": [
    {
     "name": "stdout",
     "output_type": "stream",
     "text": [
      "     name gender  age\n",
      "1   DIGEO      M   12\n",
      "2    ANNA      F   23\n",
      "3  EUGENE      M   34 DIGEO\n",
      "[12 23]\n",
      "     name  age\n",
      "1   DIGEO   12\n",
      "3  EUGENE   34\n",
      "\n",
      "\n",
      "1     DIGEO\n",
      "3    EUGENE\n",
      "Name: name, dtype: object\n",
      "\t\n",
      "  gender  age\n",
      "2      F   23\n",
      "\n",
      "\n",
      "\n",
      "DIGEO\n",
      "     name  age\n",
      "1   DIGEO   12\n",
      "2    ANNA   23\n",
      "3  EUGENE   34\n",
      "     name gender\n",
      "1   DIGEO      M\n",
      "3  EUGENE      M\n"
     ]
    }
   ],
   "source": [
    "#选取与修改数据\n",
    "'''*LOC：通过行标签索引数据，如df.loc[index,column_name]选取指定行列的数据，双闭区间'''\n",
    "print(df,df.loc[1,'name'])\n",
    "print(df.loc[0:2,'age'].values)\n",
    "print(df.loc[[1,3],['name','age']])\n",
    "print('\\n')\n",
    "print(df.loc[df['gender']=='M','name'])\n",
    "print('\\t')\n",
    "print(df.loc[df['gender']=='F',['gender','age']])\n",
    "print('\\n\\n')\n",
    "'''*ILOC:通过行号索引行数据，左闭右开'''\n",
    "print(df.iloc[0,0])\n",
    "print(df.iloc[0:3,[0,2]])\n",
    "print(df.iloc[[0,2],0:2])\n",
    "    "
   ]
  },
  {
   "cell_type": "code",
   "execution_count": 100,
   "metadata": {},
   "outputs": [
    {
     "name": "stdout",
     "output_type": "stream",
     "text": [
      "     name gender  age\n",
      "1   DIGEO      M   12\n",
      "2    ANNA      F   23\n",
      "3  EUGENE      M   34\n",
      "\t\n",
      "     name gender  age\n",
      "1   DIGEO      M   12\n",
      "2    ANNA      F   23\n",
      "3  EUGENE      M   34\n",
      "\t\n",
      "     name gender  age\n",
      "1   DIGEO      M   12\n",
      "2    ANNA      F   23\n",
      "3  EUGENE      M   34\n",
      "<class 'pandas.core.series.Series'>\n"
     ]
    }
   ],
   "source": [
    "#通过列修改数据\n",
    "'''*标量值 e.g df3.score=60\n",
    "*值数组（长度需匹配）e.g df3.score=[70,80,90]<对应>\n",
    "*series对象（索引按dataframe的索引重新排列，空缺处填NAN）\n",
    "  df3.score=pd.series(['22','33','44'],index=[2,1,0]<否则默认[0，1，2])\n",
    "'''\n",
    "df.score=60\n",
    "print(df)\n",
    "print('\\t')\n",
    "df.score=[70,80,90]\n",
    "print(df)\n",
    "print('\\t')\n",
    "df.score=pd.Series([70,80,90],index=[3,2,1])\n",
    "print(df)\n",
    "print(type(df.score))"
   ]
  },
  {
   "cell_type": "code",
   "execution_count": 94,
   "metadata": {},
   "outputs": [
    {
     "name": "stdout",
     "output_type": "stream",
     "text": [
      "     name gender  age\n",
      "1   DIGEO      M   12\n",
      "3  EUGENE      M   34      name gender  age\n",
      "1   DIGEO      M   12\n",
      "2    ANNA      F   23\n",
      "3  EUGENE      M   34\n",
      "\n",
      "\n",
      "     name gender  age\n",
      "2    ANNA      F   23\n",
      "3  EUGENE      M   34\n"
     ]
    }
   ],
   "source": [
    "#删除行列数据\n",
    "'''*drop()\n",
    "*默认删除行，axis=1时删除列\n",
    "*inplace=True,修改原数据\n",
    "'''\n",
    "a=df.drop(2)\n",
    "print(a,df)\n",
    "print('\\n')\n",
    "\n",
    "df.drop(1,inplace=True)\n"
   ]
  },
  {
   "cell_type": "code",
   "execution_count": 9,
   "metadata": {},
   "outputs": [
    {
     "name": "stdout",
     "output_type": "stream",
     "text": [
      "   one  two  four\n",
      "a    0    1     2\n",
      "c    3    4     5\n",
      "b    6    7     8\n",
      "   one  two  four\n",
      "a    0    1     2\n",
      "b    6    7     8\n",
      "c    3    4     5\n",
      "b    6    7     8\n",
      "   one  two  three  four\n",
      "a  0.0  1.0    NaN   2.0\n",
      "b  6.0  7.0    NaN   8.0\n",
      "c  3.0  4.0    NaN   5.0\n",
      "d  NaN  NaN    NaN   NaN\n"
     ]
    },
    {
     "data": {
      "text/plain": [
       "'*缺失值自动用nan填充\\n*使用参数fill_value=n，用n代替缺失值'"
      ]
     },
     "execution_count": 9,
     "metadata": {},
     "output_type": "execute_result"
    }
   ],
   "source": [
    "#!!!!重新索引\n",
    "import pandas as pd\n",
    "import numpy as np\n",
    "'''*重新索引方法reindex()'''\n",
    "df1=pd.DataFrame(np.arange(9).reshape(3,3),index=['a','c','b'],columns=['one','two','four'])\n",
    "print(df1)\n",
    "'''*默认对行进行重新索引，如'''\n",
    "print(df1.reindex(['a','b','c','b']))\n",
    "'''*可以同时对行和列进行索引，如'''\n",
    "print(df1.reindex(index=['a','b','c','d'],columns=['one','two','three','four']))\n",
    "'''*缺失值自动用nan填充\n",
    "*使用参数fill_value=n，用n代替缺失值'''\n"
   ]
  },
  {
   "cell_type": "code",
   "execution_count": 11,
   "metadata": {},
   "outputs": [
    {
     "name": "stdout",
     "output_type": "stream",
     "text": [
      "   one  two  four\n",
      "a    0    1     2\n",
      "c    3    4     5\n",
      "b    6    7     8\n",
      "Help on function reindex in module pandas.core.frame:\n",
      "\n",
      "reindex(self, labels=None, index=None, columns=None, axis=None, method=None, copy=True, level=None, fill_value=nan, limit=None, tolerance=None)\n",
      "    Conform DataFrame to new index with optional filling logic, placing\n",
      "    NA/NaN in locations having no value in the previous index. A new object\n",
      "    is produced unless the new index is equivalent to the current one and\n",
      "    copy=False\n",
      "    \n",
      "    Parameters\n",
      "    ----------\n",
      "    labels : array-like, optional\n",
      "        New labels / index to conform the axis specified by 'axis' to.\n",
      "    index, columns : array-like, optional (should be specified using keywords)\n",
      "        New labels / index to conform to. Preferably an Index object to\n",
      "        avoid duplicating data\n",
      "    axis : int or str, optional\n",
      "        Axis to target. Can be either the axis name ('index', 'columns')\n",
      "        or number (0, 1).\n",
      "    method : {None, 'backfill'/'bfill', 'pad'/'ffill', 'nearest'}, optional\n",
      "        method to use for filling holes in reindexed DataFrame.\n",
      "        Please note: this is only applicable to DataFrames/Series with a\n",
      "        monotonically increasing/decreasing index.\n",
      "    \n",
      "        * default: don't fill gaps\n",
      "        * pad / ffill: propagate last valid observation forward to next\n",
      "          valid\n",
      "        * backfill / bfill: use next valid observation to fill gap\n",
      "        * nearest: use nearest valid observations to fill gap\n",
      "    \n",
      "    copy : boolean, default True\n",
      "        Return a new object, even if the passed indexes are the same\n",
      "    level : int or name\n",
      "        Broadcast across a level, matching Index values on the\n",
      "        passed MultiIndex level\n",
      "    fill_value : scalar, default np.NaN\n",
      "        Value to use for missing values. Defaults to NaN, but can be any\n",
      "        \"compatible\" value\n",
      "    limit : int, default None\n",
      "        Maximum number of consecutive elements to forward or backward fill\n",
      "    tolerance : optional\n",
      "        Maximum distance between original and new labels for inexact\n",
      "        matches. The values of the index at the matching locations most\n",
      "        satisfy the equation ``abs(index[indexer] - target) <= tolerance``.\n",
      "    \n",
      "        Tolerance may be a scalar value, which applies the same tolerance\n",
      "        to all values, or list-like, which applies variable tolerance per\n",
      "        element. List-like includes list, tuple, array, Series, and must be\n",
      "        the same size as the index and its dtype must exactly match the\n",
      "        index's type.\n",
      "    \n",
      "        .. versionadded:: 0.21.0 (list-like tolerance)\n",
      "    \n",
      "    Examples\n",
      "    --------\n",
      "    \n",
      "    ``DataFrame.reindex`` supports two calling conventions\n",
      "    \n",
      "    * ``(index=index_labels, columns=column_labels, ...)``\n",
      "    * ``(labels, axis={'index', 'columns'}, ...)``\n",
      "    \n",
      "    We *highly* recommend using keyword arguments to clarify your\n",
      "    intent.\n",
      "    \n",
      "    Create a dataframe with some fictional data.\n",
      "    \n",
      "    >>> index = ['Firefox', 'Chrome', 'Safari', 'IE10', 'Konqueror']\n",
      "    >>> df = pd.DataFrame({\n",
      "    ...      'http_status': [200,200,404,404,301],\n",
      "    ...      'response_time': [0.04, 0.02, 0.07, 0.08, 1.0]},\n",
      "    ...       index=index)\n",
      "    >>> df\n",
      "               http_status  response_time\n",
      "    Firefox            200           0.04\n",
      "    Chrome             200           0.02\n",
      "    Safari             404           0.07\n",
      "    IE10               404           0.08\n",
      "    Konqueror          301           1.00\n",
      "    \n",
      "    Create a new index and reindex the dataframe. By default\n",
      "    values in the new index that do not have corresponding\n",
      "    records in the dataframe are assigned ``NaN``.\n",
      "    \n",
      "    >>> new_index= ['Safari', 'Iceweasel', 'Comodo Dragon', 'IE10',\n",
      "    ...             'Chrome']\n",
      "    >>> df.reindex(new_index)\n",
      "                   http_status  response_time\n",
      "    Safari               404.0           0.07\n",
      "    Iceweasel              NaN            NaN\n",
      "    Comodo Dragon          NaN            NaN\n",
      "    IE10                 404.0           0.08\n",
      "    Chrome               200.0           0.02\n",
      "    \n",
      "    We can fill in the missing values by passing a value to\n",
      "    the keyword ``fill_value``. Because the index is not monotonically\n",
      "    increasing or decreasing, we cannot use arguments to the keyword\n",
      "    ``method`` to fill the ``NaN`` values.\n",
      "    \n",
      "    >>> df.reindex(new_index, fill_value=0)\n",
      "                   http_status  response_time\n",
      "    Safari                 404           0.07\n",
      "    Iceweasel                0           0.00\n",
      "    Comodo Dragon            0           0.00\n",
      "    IE10                   404           0.08\n",
      "    Chrome                 200           0.02\n",
      "    \n",
      "    >>> df.reindex(new_index, fill_value='missing')\n",
      "                  http_status response_time\n",
      "    Safari                404          0.07\n",
      "    Iceweasel         missing       missing\n",
      "    Comodo Dragon     missing       missing\n",
      "    IE10                  404          0.08\n",
      "    Chrome                200          0.02\n",
      "    \n",
      "    We can also reindex the columns.\n",
      "    \n",
      "    >>> df.reindex(columns=['http_status', 'user_agent'])\n",
      "               http_status  user_agent\n",
      "    Firefox            200         NaN\n",
      "    Chrome             200         NaN\n",
      "    Safari             404         NaN\n",
      "    IE10               404         NaN\n",
      "    Konqueror          301         NaN\n",
      "    \n",
      "    Or we can use \"axis-style\" keyword arguments\n",
      "    \n",
      "    >>> df.reindex(['http_status', 'user_agent'], axis=\"columns\")\n",
      "               http_status  user_agent\n",
      "    Firefox            200         NaN\n",
      "    Chrome             200         NaN\n",
      "    Safari             404         NaN\n",
      "    IE10               404         NaN\n",
      "    Konqueror          301         NaN\n",
      "    \n",
      "    To further illustrate the filling functionality in\n",
      "    ``reindex``, we will create a dataframe with a\n",
      "    monotonically increasing index (for example, a sequence\n",
      "    of dates).\n",
      "    \n",
      "    >>> date_index = pd.date_range('1/1/2010', periods=6, freq='D')\n",
      "    >>> df2 = pd.DataFrame({\"prices\": [100, 101, np.nan, 100, 89, 88]},\n",
      "    ...                    index=date_index)\n",
      "    >>> df2\n",
      "                prices\n",
      "    2010-01-01     100\n",
      "    2010-01-02     101\n",
      "    2010-01-03     NaN\n",
      "    2010-01-04     100\n",
      "    2010-01-05      89\n",
      "    2010-01-06      88\n",
      "    \n",
      "    Suppose we decide to expand the dataframe to cover a wider\n",
      "    date range.\n",
      "    \n",
      "    >>> date_index2 = pd.date_range('12/29/2009', periods=10, freq='D')\n",
      "    >>> df2.reindex(date_index2)\n",
      "                prices\n",
      "    2009-12-29     NaN\n",
      "    2009-12-30     NaN\n",
      "    2009-12-31     NaN\n",
      "    2010-01-01     100\n",
      "    2010-01-02     101\n",
      "    2010-01-03     NaN\n",
      "    2010-01-04     100\n",
      "    2010-01-05      89\n",
      "    2010-01-06      88\n",
      "    2010-01-07     NaN\n",
      "    \n",
      "    The index entries that did not have a value in the original data frame\n",
      "    (for example, '2009-12-29') are by default filled with ``NaN``.\n",
      "    If desired, we can fill in the missing values using one of several\n",
      "    options.\n",
      "    \n",
      "    For example, to backpropagate the last valid value to fill the ``NaN``\n",
      "    values, pass ``bfill`` as an argument to the ``method`` keyword.\n",
      "    \n",
      "    >>> df2.reindex(date_index2, method='bfill')\n",
      "                prices\n",
      "    2009-12-29     100\n",
      "    2009-12-30     100\n",
      "    2009-12-31     100\n",
      "    2010-01-01     100\n",
      "    2010-01-02     101\n",
      "    2010-01-03     NaN\n",
      "    2010-01-04     100\n",
      "    2010-01-05      89\n",
      "    2010-01-06      88\n",
      "    2010-01-07     NaN\n",
      "    \n",
      "    Please note that the ``NaN`` value present in the original dataframe\n",
      "    (at index value 2010-01-03) will not be filled by any of the\n",
      "    value propagation schemes. This is because filling while reindexing\n",
      "    does not look at dataframe values, but only compares the original and\n",
      "    desired indexes. If you do want to fill in the ``NaN`` values present\n",
      "    in the original dataframe, use the ``fillna()`` method.\n",
      "    \n",
      "    See the :ref:`user guide <basics.reindexing>` for more.\n",
      "    \n",
      "    Returns\n",
      "    -------\n",
      "    reindexed : DataFrame\n",
      "\n",
      "None\n"
     ]
    }
   ],
   "source": [
    "print(df1)\n",
    "print(help(pd.DataFrame.reindex))"
   ]
  },
  {
   "cell_type": "code",
   "execution_count": null,
   "metadata": {},
   "outputs": [],
   "source": [
    "#!!!!索引对象\n",
    "'''*索引对象用于储存轴标签和其他元数据\n",
    "*用pd.index()生成索引对象，或从series和dataframe的行列索引\n",
    "    labels=pd.index(np.arange(3))'''\n"
   ]
  },
  {
   "cell_type": "code",
   "execution_count": 109,
   "metadata": {},
   "outputs": [
    {
     "name": "stdout",
     "output_type": "stream",
     "text": [
      "0    None\n",
      "1     NaN\n",
      "2       l\n",
      "3       l\n",
      "4       o\n",
      "dtype: object\n",
      "0     True\n",
      "1     True\n",
      "2    False\n",
      "3    False\n",
      "4    False\n",
      "dtype: bool\n",
      "0    False\n",
      "1    False\n",
      "2     True\n",
      "3     True\n",
      "4     True\n",
      "dtype: bool\n",
      "    name  gender    age\n",
      "1  False   False  False\n",
      "2  False   False  False\n",
      "3  False   False  False\n",
      "0    None\n",
      "1     NaN\n",
      "2       l\n",
      "3       l\n",
      "4       o\n",
      "dtype: object\n"
     ]
    },
    {
     "data": {
      "text/plain": [
       "'dropna()简单'"
      ]
     },
     "execution_count": 109,
     "metadata": {},
     "output_type": "execute_result"
    }
   ],
   "source": [
    "#缺失值nan\n",
    "'''*数据缺失在很多数据中存在，是首先要解决的问题\n",
    "*NAN（not a number)在numpy中是浮点值，易检测\n",
    "    e.gtype(np.NaN)\n",
    "*python的none关键字在数组中也被作为nan处理\n",
    "*补全空值：fillna()\n",
    "    e.g  s=pd.series(list('hello'))\n",
    "         s[0]=None\n",
    "         s[1]=np.nan'''\n",
    "s=pd.Series(list('hello'))\n",
    "s[0]=None\n",
    "s[1]=np.NaN\n",
    "print(s)\n",
    "\n",
    "#判断是否存在空值\n",
    "'''*isnull()或notnull()\n",
    "*series和datatime均可使用该方法\n",
    "       e.g  print(s.isnull())'''\n",
    "print(s.isnull())\n",
    "print(s.notnull())\n",
    "print(df.isnull())\n",
    "#过滤空值dropna()\n",
    "'''*series过滤空值\n",
    "datatime过滤空值时，dropna()默认会删除包含缺失的行\n",
    "传入how='all'参数时，删除所有值均为nan的行\n",
    "传入axis=1,可以按照同样的方式删除列\n",
    "e.g  df=pd.dataframe([[1,none,3],[4,5,6]])'''\n",
    "s.dropna()\n",
    "print(s)\n",
    "#补全空值\n",
    "'''dropna()简单'''\n",
    " \n",
    "        "
   ]
  },
  {
   "cell_type": "code",
   "execution_count": null,
   "metadata": {
    "collapsed": true
   },
   "outputs": [],
   "source": [
    "#删除重复值\n",
    "'''duplicated()判断行重复\n",
    "drop_cuplicates删除指定列(['k1'])'''\n",
    "#\n",
    "'''找出一列中绝对值大于二的（定义为异常）df[1][np.abs(df[1]>2]'''\n",
    "#数据排序\n",
    "'''sort_index()\n",
    "sort_value()'''\n"
   ]
  },
  {
   "cell_type": "code",
   "execution_count": 117,
   "metadata": {},
   "outputs": [
    {
     "name": "stdout",
     "output_type": "stream",
     "text": [
      "Series([], Name: 1, dtype: float64)\n"
     ]
    }
   ],
   "source": [
    "dff=pd.DataFrame(np.random.rand(100,2))\n",
    "print(dff[1][(np.abs(dff)>2).any(1)])"
   ]
  }
 ],
 "metadata": {
  "kernelspec": {
   "display_name": "Python 3",
   "language": "python",
   "name": "python3"
  },
  "language_info": {
   "codemirror_mode": {
    "name": "ipython",
    "version": 3
   },
   "file_extension": ".py",
   "mimetype": "text/x-python",
   "name": "python",
   "nbconvert_exporter": "python",
   "pygments_lexer": "ipython3",
   "version": "3.7.4"
  }
 },
 "nbformat": 4,
 "nbformat_minor": 2
}
