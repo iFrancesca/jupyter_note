{
 "cells": [
  {
   "cell_type": "code",
   "execution_count": 1,
   "metadata": {},
   "outputs": [
    {
     "name": "stdout",
     "output_type": "stream",
     "text": [
      "Help on module ntpath:\n",
      "\n",
      "NAME\n",
      "    ntpath - Common pathname manipulations, WindowsNT/95 version.\n",
      "\n",
      "DESCRIPTION\n",
      "    Instead of importing this module directly, import os and refer to this\n",
      "    module as os.path.\n",
      "\n",
      "FUNCTIONS\n",
      "    abspath(path)\n",
      "        Return the absolute version of a path.\n",
      "    \n",
      "    basename(p)\n",
      "        Returns the final component of a pathname\n",
      "    \n",
      "    commonpath(paths)\n",
      "        Given a sequence of path names, returns the longest common sub-path.\n",
      "    \n",
      "    commonprefix(m)\n",
      "        Given a list of pathnames, returns the longest common leading component\n",
      "    \n",
      "    dirname(p)\n",
      "        Returns the directory component of a pathname\n",
      "    \n",
      "    exists(path)\n",
      "        Test whether a path exists.  Returns False for broken symbolic links\n",
      "    \n",
      "    expanduser(path)\n",
      "        Expand ~ and ~user constructs.\n",
      "        \n",
      "        If user or $HOME is unknown, do nothing.\n",
      "    \n",
      "    expandvars(path)\n",
      "        Expand shell variables of the forms $var, ${var} and %var%.\n",
      "        \n",
      "        Unknown variables are left unchanged.\n",
      "    \n",
      "    getatime(filename)\n",
      "        Return the last access time of a file, reported by os.stat().\n",
      "    \n",
      "    getctime(filename)\n",
      "        Return the metadata change time of a file, reported by os.stat().\n",
      "    \n",
      "    getmtime(filename)\n",
      "        Return the last modification time of a file, reported by os.stat().\n",
      "    \n",
      "    getsize(filename)\n",
      "        Return the size of a file, reported by os.stat().\n",
      "    \n",
      "    isabs(s)\n",
      "        Test whether a path is absolute\n",
      "    \n",
      "    isdir = _isdir(path, /)\n",
      "        Return true if the pathname refers to an existing directory.\n",
      "    \n",
      "    isfile(path)\n",
      "        Test whether a path is a regular file\n",
      "    \n",
      "    islink(path)\n",
      "        Test whether a path is a symbolic link.\n",
      "        This will always return false for Windows prior to 6.0.\n",
      "    \n",
      "    ismount(path)\n",
      "        Test whether a path is a mount point (a drive root, the root of a\n",
      "        share, or a mounted volume)\n",
      "    \n",
      "    join(path, *paths)\n",
      "        # Join two (or more) paths.\n",
      "    \n",
      "    lexists(path)\n",
      "        Test whether a path exists.  Returns True for broken symbolic links\n",
      "    \n",
      "    normcase(s)\n",
      "        Normalize case of pathname.\n",
      "        \n",
      "        Makes all characters lowercase and all slashes into backslashes.\n",
      "    \n",
      "    normpath(path)\n",
      "        Normalize path, eliminating double slashes, etc.\n",
      "    \n",
      "    realpath = abspath(path)\n",
      "        Return the absolute version of a path.\n",
      "    \n",
      "    relpath(path, start=None)\n",
      "        Return a relative version of a path\n",
      "    \n",
      "    samefile(f1, f2)\n",
      "        Test whether two pathnames reference the same actual file\n",
      "    \n",
      "    sameopenfile(fp1, fp2)\n",
      "        Test whether two open file objects reference the same file\n",
      "    \n",
      "    samestat(s1, s2)\n",
      "        Test whether two stat buffers reference the same file\n",
      "    \n",
      "    split(p)\n",
      "        Split a pathname.\n",
      "        \n",
      "        Return tuple (head, tail) where tail is everything after the final slash.\n",
      "        Either part may be empty.\n",
      "    \n",
      "    splitdrive(p)\n",
      "        Split a pathname into drive/UNC sharepoint and relative path specifiers.\n",
      "        Returns a 2-tuple (drive_or_unc, path); either part may be empty.\n",
      "        \n",
      "        If you assign\n",
      "            result = splitdrive(p)\n",
      "        It is always true that:\n",
      "            result[0] + result[1] == p\n",
      "        \n",
      "        If the path contained a drive letter, drive_or_unc will contain everything\n",
      "        up to and including the colon.  e.g. splitdrive(\"c:/dir\") returns (\"c:\", \"/dir\")\n",
      "        \n",
      "        If the path contained a UNC path, the drive_or_unc will contain the host name\n",
      "        and share up to but not including the fourth directory separator character.\n",
      "        e.g. splitdrive(\"//host/computer/dir\") returns (\"//host/computer\", \"/dir\")\n",
      "        \n",
      "        Paths cannot contain both a drive letter and a UNC path.\n",
      "    \n",
      "    splitext(p)\n",
      "        Split the extension from a pathname.\n",
      "        \n",
      "        Extension is everything from the last dot to the end, ignoring\n",
      "        leading dots.  Returns \"(root, ext)\"; ext may be empty.\n",
      "\n",
      "DATA\n",
      "    __all__ = ['normcase', 'isabs', 'join', 'splitdrive', 'split', 'splite...\n",
      "    altsep = '/'\n",
      "    curdir = '.'\n",
      "    defpath = r'.;C:\\bin'\n",
      "    devnull = 'nul'\n",
      "    extsep = '.'\n",
      "    pardir = '..'\n",
      "    pathsep = ';'\n",
      "    sep = r'\\'\n",
      "    supports_unicode_filenames = True\n",
      "\n",
      "FILE\n",
      "    d:\\anaconda\\lib\\ntpath.py\n",
      "\n",
      "\n",
      "None\n",
      "['DirEntry', 'F_OK', 'MutableMapping', 'O_APPEND', 'O_BINARY', 'O_CREAT', 'O_EXCL', 'O_NOINHERIT', 'O_RANDOM', 'O_RDONLY', 'O_RDWR', 'O_SEQUENTIAL', 'O_SHORT_LIVED', 'O_TEMPORARY', 'O_TEXT', 'O_TRUNC', 'O_WRONLY', 'P_DETACH', 'P_NOWAIT', 'P_NOWAITO', 'P_OVERLAY', 'P_WAIT', 'PathLike', 'R_OK', 'SEEK_CUR', 'SEEK_END', 'SEEK_SET', 'TMP_MAX', 'W_OK', 'X_OK', '_Environ', '__all__', '__builtins__', '__cached__', '__doc__', '__file__', '__loader__', '__name__', '__package__', '__spec__', '_execvpe', '_exists', '_exit', '_fspath', '_get_exports_list', '_putenv', '_unsetenv', '_wrap_close', 'abc', 'abort', 'access', 'altsep', 'chdir', 'chmod', 'close', 'closerange', 'cpu_count', 'curdir', 'defpath', 'device_encoding', 'devnull', 'dup', 'dup2', 'environ', 'error', 'execl', 'execle', 'execlp', 'execlpe', 'execv', 'execve', 'execvp', 'execvpe', 'extsep', 'fdopen', 'fsdecode', 'fsencode', 'fspath', 'fstat', 'fsync', 'ftruncate', 'get_exec_path', 'get_handle_inheritable', 'get_inheritable', 'get_terminal_size', 'getcwd', 'getcwdb', 'getenv', 'getlogin', 'getpid', 'getppid', 'isatty', 'kill', 'linesep', 'link', 'listdir', 'lseek', 'lstat', 'makedirs', 'mkdir', 'name', 'open', 'pardir', 'path', 'pathsep', 'pipe', 'popen', 'putenv', 'read', 'readlink', 'remove', 'removedirs', 'rename', 'renames', 'replace', 'rmdir', 'scandir', 'sep', 'set_handle_inheritable', 'set_inheritable', 'spawnl', 'spawnle', 'spawnv', 'spawnve', 'st', 'startfile', 'stat', 'stat_result', 'statvfs_result', 'strerror', 'supports_bytes_environ', 'supports_dir_fd', 'supports_effective_ids', 'supports_fd', 'supports_follow_symlinks', 'symlink', 'sys', 'system', 'terminal_size', 'times', 'times_result', 'truncate', 'umask', 'uname_result', 'unlink', 'urandom', 'utime', 'waitpid', 'walk', 'write']\n"
     ]
    }
   ],
   "source": [
    "import os\n",
    "import os.path as op\n",
    "import time\n",
    "print(help(os.path))\n",
    "print(dir(os))"
   ]
  },
  {
   "cell_type": "code",
   "execution_count": null,
   "metadata": {},
   "outputs": [],
   "source": [
    "#基本介绍\n",
    "'''os库提供通用的、基本的操作系统交互功能\n",
    "-os库是PYTHON标准库，包含几百个函数\n",
    "-常用路径操作、进程管理、环境参数几类'''"
   ]
  },
  {
   "cell_type": "code",
   "execution_count": 53,
   "metadata": {},
   "outputs": [
    {
     "name": "stdout",
     "output_type": "stream",
     "text": [
      "C:\\Users\\lenovo\\hamlet.txt\n",
      "C:\\Users\\lenovo\\hamlet.txt\n",
      "C:\\Users\\lenovo\n",
      "hamlet.txt\n",
      "D:/videos/hamlet.txt\n",
      "False\n",
      "True\n",
      "False\n",
      "False\n",
      "True\n",
      "1559190044.367745\n",
      "Thu May 30 12:20:59 2019\n",
      "180766\n"
     ]
    }
   ],
   "source": [
    "#路径操作：os.path字库，处理文件路径及信息\n",
    "'''os.path字库以path为入口，用于操作和处理文件路径\n",
    "import os.path as op \n",
    "或 import os.path'''\n",
    "\n",
    "\n",
    "print(os.path.abspath('hamlet.txt'))\n",
    "print(op.normpath('C://Users//lenovo//hamlet.txt'))#归一化path的表现形式，统一用\\\\分割路径\n",
    "'''op.relname('C://Users//lenovo//hamlet.txt') 返回当前程序与文件之间的相对路径'''\n",
    "print(op.dirname('C:\\\\Users\\\\lenovo\\\\hamlet.txt'))\n",
    "print(op.basename('C://Users//lenovo//hamlet.txt'))\n",
    "print(op.join('D:/','videos/hamlet.txt'))#os.path.join(path,*path)  组合path与paths,返回一个路径字符串\n",
    "print(op.exists('C:/Users/lenovo/hamlet.txt'))#判断path所对应文件或目录是否存在\n",
    "print(op.exists('C:\\\\Users\\\\lenovo\\\\Desktop\\\\计算机\\\\python\\\\00'))\n",
    "print(op.isfile('C:\\\\Users\\\\lenovo\\\\hamlet.txt'))#判断path所对应是否为已存在的目录\n",
    "print(op.isdir('C:\\\\Users\\\\lenovo\\\\Desktop\\\\计算机\\\\python\\\\00\\\\hamlet.txt'))\n",
    "print(op.isdir('C:\\\\Users\\\\lenovo\\\\Desktop\\\\计算机\\\\python\\\\00'))\n",
    "\n",
    "\n",
    "#op.getatime(path)) 返回path对应文件或目录上一次访问时间\n",
    "#op.getmtime(path) 返回path对应文件或目录上一次修改时间\n",
    "#op.getctime(path) 返回path对应文件或目录上一次创建时间\n",
    "print(os.path.getatime('C:\\\\Users\\\\lenovo\\\\Desktop\\\\计算机\\\\python\\\\00\\\\hamlet.txt'))\n",
    "print(time.ctime(op.getmtime('C:\\\\Users\\\\lenovo\\\\Desktop\\\\计算机\\\\python\\\\00\\\\hamlet.txt')))\n",
    "\n",
    "\n",
    "#op.getsize(path) 返回path对应文件的大小，以字节为单位\n",
    "print(op.getsize('C:\\\\Users\\\\lenovo\\\\Desktop\\\\计算机\\\\python\\\\00\\\\hamlet.txt'))"
   ]
  },
  {
   "cell_type": "code",
   "execution_count": 56,
   "metadata": {},
   "outputs": [
    {
     "name": "stdout",
     "output_type": "stream",
     "text": [
      "Help on built-in function system in module nt:\n",
      "\n",
      "system(command)\n",
      "    Execute the command in a subshell.\n",
      "\n",
      "0\n",
      "1\n"
     ]
    }
   ],
   "source": [
    "#进程管理\n",
    "'''os.system(commmand)\n",
    "-执行程序或命令command\n",
    "-在windows系统中，返回值为cmd的调用返回信息'''\n",
    "import os\n",
    "help(os.system)\n",
    "print(os.system('C:\\\\Windows\\\\System32\\\\calc.exe'))\n",
    "print(os.system('C:\\\\Windows\\\\System32\\\\mapaint.exe\\\n",
    "C:\\\\Users\\\\lenovo\\\\Desktop\\\\计算机\\\\python\\\\库.png'))"
   ]
  },
  {
   "cell_type": "code",
   "execution_count": 2,
   "metadata": {},
   "outputs": [
    {
     "name": "stdout",
     "output_type": "stream",
     "text": [
      "None\n",
      "D:\\\n",
      "syj 4 b'\\xb6\\x9a'\n"
     ]
    }
   ],
   "source": [
    "#环境参数\n",
    "'''获取或改变系统环境信息\n",
    "os.chdir(path)  修改当前程序操作的路径\n",
    "os.getcwd()     返回程序的当前路径\n",
    "os.getlogin()   获得当前系统登录用户名称\n",
    "os.cpu_count()  获得当前系统的COU数量\n",
    "os.urandom(n)    获得n个字节长度的随机字符串，通常用于加解密运算\n",
    "'''\n",
    "print(os.chdir('D:\\\\'))\n",
    "print(os.getcwd())\n",
    "print(os.getlogin(),os.cpu_count(),os.urandom(2))"
   ]
  },
  {
   "cell_type": "code",
   "execution_count": 26,
   "metadata": {},
   "outputs": [
    {
     "data": {
      "text/plain": [
       "'op.relname() 返回当前程序与文件之间的相对路径'"
      ]
     },
     "execution_count": 26,
     "metadata": {},
     "output_type": "execute_result"
    }
   ],
   "source": []
  },
  {
   "cell_type": "code",
   "execution_count": null,
   "metadata": {},
   "outputs": [],
   "source": []
  },
  {
   "cell_type": "code",
   "execution_count": null,
   "metadata": {},
   "outputs": [],
   "source": []
  }
 ],
 "metadata": {
  "kernelspec": {
   "display_name": "Python 3",
   "language": "python",
   "name": "python3"
  },
  "language_info": {
   "codemirror_mode": {
    "name": "ipython",
    "version": 3
   },
   "file_extension": ".py",
   "mimetype": "text/x-python",
   "name": "python",
   "nbconvert_exporter": "python",
   "pygments_lexer": "ipython3",
   "version": "3.7.4"
  }
 },
 "nbformat": 4,
 "nbformat_minor": 2
}
