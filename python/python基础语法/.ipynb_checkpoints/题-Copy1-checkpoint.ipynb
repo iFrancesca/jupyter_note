{
 "cells": [
  {
   "cell_type": "code",
   "execution_count": 5,
   "metadata": {},
   "outputs": [
    {
     "name": "stdout",
     "output_type": "stream",
     "text": [
      "5\n",
      "五月份\n"
     ]
    }
   ],
   "source": [
    "'''输入数字转换为相应月份'''\n",
    "a='一二三四五http://localhost:8888/notebooks/%E9%A2%98.ipynb#六七八九十'\n",
    "c=eval(input())\n",
    "if c<=10:\n",
    "    print('{}月份'.format(a[c-1]))\n",
    "elif c==11:\n",
    "    print('十一月份')\n",
    "else:\n",
    "    print('十二月份')"
   ]
  },
  {
   "cell_type": "code",
   "execution_count": null,
   "metadata": {},
   "outputs": [],
   "source": [
    "with open('demon.txt','rt') as f:\n",
    "    lines=f.readlines()\n",
    "    for line in lines:\n",
    "            print(line,end='')    #line=line.strip() \n",
    "with open('demon.txt','rt') as f:\n",
    "    for line in f:               #或f.readlines()  默认为lines\n",
    "            print(line,end='')   #line=line.strip()  "
   ]
  },
  {
   "cell_type": "code",
   "execution_count": 2,
   "metadata": {},
   "outputs": [
    {
     "name": "stdout",
     "output_type": "stream",
     "text": [
      "[1,1,2,4]\n",
      "[1, 2, 4]\n"
     ]
    }
   ],
   "source": [
    "l=eval(input())\n",
    "lo=[]\n",
    "for item in l:\n",
    "    if item not in lo:\n",
    "        lo.append(item)\n",
    "print(lo)"
   ]
  },
  {
   "cell_type": "code",
   "execution_count": null,
   "metadata": {},
   "outputs": [],
   "source": [
    "'''100以内素数和'''\n",
    "def s(x):\n",
    "    for i in range(2,x):\n",
    "        if x%i==0:\n",
    "            return True\n",
    "    return False\n",
    "I=0\n",
    "for i in range(2,101):\n",
    "    if not s(i):\n",
    "        I+=i\n",
    "print(I)\n"
   ]
  },
  {
   "cell_type": "code",
   "execution_count": null,
   "metadata": {},
   "outputs": [],
   "source": [
    "'''连续质数'''\n",
    "'''获得用户输入数字N，计算并输出从N开始的5个质数，单行输出，质数间用逗号,分割。\n",
    "‪‬‪‬‪‬‪‬‪‬‮‬‪‬‫‬‪‬‪‬‪‬‪‬‪‬‮‬‪‬‫‬‪‬‪‬‪‬‪‬‪‬‮‬‫‬‮‬‪‬‪‬‪‬‪‬‪‬‮‬‫‬‫‬‪‬‪‬‪‬‪‬‪‬‮‬‫‬‮‬‪‬‪‬‪‬‪‬‪‬‮‬‭‬‫‬\n",
    " \n",
    "注意：用户输入的数字N可能是浮点数，都是正数；最后一个输出后不用逗号。\n",
    "‪‬‪‬‪‬‪‬‪‬‮‬‪‬‫‬‪‬‪‬‪‬‪‬‪‬‮‬‪‬‫‬‪‬‪‬‪‬‪‬‪‬‮‬‫‬‮‬‪‬‪‬‪‬‪‬‪‬‮‬‫‬‫‬‪‬‪‬‪‬‪‬‪‬‮‬‫‬‮‬‪‬‪‬‪‬‪‬‪‬‮‬‭‬‫‬\n",
    " '''\n",
    "#法1\n",
    "def prime(m):\n",
    "    for i in range(2,m):\n",
    "        if m%i==0:\n",
    "            return False\n",
    "    return True\n",
    "n = round(eval(input()))\n",
    "k=0\n",
    "a=''\n",
    "for i in range(n,n+100):\n",
    "    if k<5:\n",
    "        if prime(i):\n",
    "            a+=str(i)+','\n",
    "            k+=1\n",
    "print(a.strip(','))\n",
    "#法2\n",
    "def prime(m):\n",
    "    for i in range(2,m):\n",
    "        if m%i==0:\n",
    "            return False\n",
    "    return True\n",
    "n=eval(input())\n",
    "n_=int(n)\n",
    "n_=n_ +1if n_<n else n_\n",
    "count=5\n",
    "while count>0:\n",
    "    if prime(n_):\n",
    "        if count>1:\n",
    "            print(n_,end=',')\n",
    "        else:\n",
    "            print(n_)\n",
    "        count-=1\n",
    "    n+=1"
   ]
  },
  {
   "cell_type": "code",
   "execution_count": null,
   "metadata": {},
   "outputs": [],
   "source": [
    "#斐波那契数列\n",
    "a,b=0,1\n",
    "while a<1000:\n",
    "    print(a,end=',')\n",
    "    a,b=b,a+b\n"
   ]
  },
  {
   "cell_type": "code",
   "execution_count": null,
   "metadata": {},
   "outputs": [],
   "source": [
    "#1!+2!+3!+4!+5!+6!+7!+8!+9!+10!\n",
    "def f(n):\n",
    "    if n==1:\n",
    "        return 1\n",
    "    else:\n",
    "        return f(n-1)*n\n",
    "def F(n):\n",
    "    if n==1:\n",
    "        return 1\n",
    "    else:\n",
    "        return F(n-1)+f(n)\n",
    "print(F(10))\n",
    "\n",
    "sum,tmp=0,1\n",
    "for i in range(1,11):\n",
    "    tmp*=i\n",
    "    sum+=tmp\n",
    "print('从1到10的阶乘之和为{}'.format(sum))"
   ]
  },
  {
   "cell_type": "code",
   "execution_count": null,
   "metadata": {},
   "outputs": [],
   "source": [
    "#a 1.5猴子吃桃\n",
    "def f(n):\n",
    "    if n==5:\n",
    "        return 1\n",
    "    else:\n",
    "        return f(n+1)*2+2\n",
    "print(f(1)*2+2)\n"
   ]
  },
  {
   "cell_type": "code",
   "execution_count": null,
   "metadata": {},
   "outputs": [],
   "source": [
    "#九九乘法表\n",
    "for i in range(1,10):\n",
    "    for j in   range(1,1+i):\n",
    "        print(\"{}*{}={:2}\".format(j,i,i*j),end=' ')\n",
    "    print()\n",
    "\n"
   ]
  },
  {
   "cell_type": "code",
   "execution_count": null,
   "metadata": {},
   "outputs": [],
   "source": []
  },
  {
   "cell_type": "code",
   "execution_count": null,
   "metadata": {},
   "outputs": [],
   "source": []
  },
  {
   "cell_type": "code",
   "execution_count": null,
   "metadata": {},
   "outputs": [],
   "source": [
    "#回声程序：将用户输入直接打印出来\n",
    "print(input())"
   ]
  },
  {
   "cell_type": "code",
   "execution_count": null,
   "metadata": {},
   "outputs": [],
   "source": [
    "#2.python程序实例解析"
   ]
  },
  {
   "cell_type": "code",
   "execution_count": null,
   "metadata": {},
   "outputs": [],
   "source": [
    "#3.基本数据类型\n",
    "'''3.1'''\n",
    "up=0.5\n",
    "weight=eval(input())\n",
    "n=10\n",
    "dw=n*up\n",
    "earth=weight+dw\n",
    "moon=earth*16.5*0.01\n",
    "print('地球{}KG,月球{}KG'.format(earth,moon))"
   ]
  },
  {
   "cell_type": "code",
   "execution_count": null,
   "metadata": {},
   "outputs": [],
   "source": [
    "'''3.2天天向上续'''\n",
    "dayup=1\n",
    "for i in range(365):\n",
    "    if i%7 in [1,2,0]:\n",
    "        continue\n",
    "    else:\n",
    "        dayup*=1.01\n",
    "print(dayup)"
   ]
  },
  {
   "cell_type": "code",
   "execution_count": null,
   "metadata": {},
   "outputs": [],
   "source": [
    "'''3.5田字格输出'''\n",
    "for i  in range(11):\n",
    "    if i in [0,10,5]:\n",
    "        print('- - - - - - - - - - -\\r|         |         |','\\n')\n",
    "    else:\n",
    "        print('|         |         |\\n')\n",
    "for i  in range(11):\n",
    "    if i in [0,10,5]:\n",
    "        print('+ - - - - - - - - - +')\n",
    "    else:\n",
    "        print('|         |         |')\n",
    "\n"
   ]
  },
  {
   "cell_type": "code",
   "execution_count": null,
   "metadata": {},
   "outputs": [],
   "source": [
    "'''3.7'''\n",
    "while True:\n",
    "    for i in ['/','-','|','\\\\','|']:\n",
    "        print('%s\\r'%i,end='')"
   ]
  },
  {
   "cell_type": "code",
   "execution_count": null,
   "metadata": {},
   "outputs": [],
   "source": [
    "from tqdm import tqdm\n",
    "from time import sleep\n",
    "for i in tqdm(range(1,100)):\n",
    "              sleep(0.01)"
   ]
  },
  {
   "cell_type": "code",
   "execution_count": null,
   "metadata": {},
   "outputs": [],
   "source": [
    "#函数和代码复用\n",
    "'''5.1'''\n",
    "def a1(n):\n",
    "    aa='+ - - - - '\n",
    "    print(aa*n+'+')\n",
    "def b1(n):\n",
    "    bb='|         '\n",
    "    print(bb*n+'|')\n",
    "def tian(n):\n",
    "    for i in range(5*n+1):\n",
    "        if i in range(0,n*5+1,5):\n",
    "            a1(n)\n",
    "        else:\n",
    "            b1(n)\n",
    "n=eval(input())\n",
    "tian(n)"
   ]
  },
  {
   "cell_type": "code",
   "execution_count": null,
   "metadata": {},
   "outputs": [],
   "source": [
    "'''5.2 isOdd()'''\n",
    "def isOdd(n):\n",
    "    if n%2==0:\n",
    "        return False\n",
    "    else:\n",
    "        return True\n",
    "m=eval(input())\n",
    "print(isOdd(m))"
   ]
  },
  {
   "cell_type": "code",
   "execution_count": null,
   "metadata": {},
   "outputs": [],
   "source": [
    "'''5.3 isNum()'''\n",
    "def isNum(n):\n",
    "    try:\n",
    "        nn=eval(n)\n",
    "        if type(nn)==int or complex or float :\n",
    "            print('True')\n",
    "        else:\n",
    "            print('False')\n",
    "    except:\n",
    "        print('False')\n",
    "a=input()\n",
    "isNum(a)"
   ]
  },
  {
   "cell_type": "code",
   "execution_count": null,
   "metadata": {},
   "outputs": [],
   "source": [
    "#6.3\n",
    "def main():\n",
    "    num=[]\n",
    "    n=input('请输入（或直接按回车键结束程序：')\n",
    "    while n!='':\n",
    "        num.append(n)\n",
    "        n=input('请输入（或直接按回车键结束程序：')\n",
    "    else:\n",
    "        print('正在处理')\n",
    "        return judge(num)\n",
    "def judge(num):\n",
    "    if len(num)==len(set(num)):\n",
    "        print('无重复')\n",
    "    else:\n",
    "        print('有重复，重复了{}个'.format(len(num)-len(set(num))))\n",
    "main()\n"
   ]
  },
  {
   "cell_type": "code",
   "execution_count": null,
   "metadata": {},
   "outputs": [],
   "source": [
    "#6.4\n",
    "txt=input()\n",
    "excludes='''!@#$%^&*()~`][}{\\|';/.,?><'\"'''\n",
    "txt=txt.lower()\n",
    "counts={}\n",
    "for i in txt:\n",
    "    if i in excludes or i=='':\n",
    "        continue\n",
    "    else:\n",
    "        counts[i]=counts.get(i,0)+1\n",
    "items=list(counts.items())\n",
    "items.sort(key=lambda x:x[1],reverse=True)\n",
    "for i in items:"
   ]
  },
  {
   "cell_type": "code",
   "execution_count": null,
   "metadata": {},
   "outputs": [],
   "source": []
  },
  {
   "cell_type": "code",
   "execution_count": null,
   "metadata": {},
   "outputs": [],
   "source": []
  },
  {
   "cell_type": "code",
   "execution_count": null,
   "metadata": {},
   "outputs": [],
   "source": []
  },
  {
   "cell_type": "code",
   "execution_count": null,
   "metadata": {},
   "outputs": [],
   "source": []
  },
  {
   "cell_type": "code",
   "execution_count": null,
   "metadata": {},
   "outputs": [],
   "source": []
  },
  {
   "cell_type": "code",
   "execution_count": null,
   "metadata": {},
   "outputs": [],
   "source": []
  },
  {
   "cell_type": "code",
   "execution_count": null,
   "metadata": {},
   "outputs": [],
   "source": []
  }
 ],
 "metadata": {
  "kernelspec": {
   "display_name": "Python 3",
   "language": "python",
   "name": "python3"
  },
  "language_info": {
   "codemirror_mode": {
    "name": "ipython",
    "version": 3
   },
   "file_extension": ".py",
   "mimetype": "text/x-python",
   "name": "python",
   "nbconvert_exporter": "python",
   "pygments_lexer": "ipython3",
   "version": "3.7.4"
  }
 },
 "nbformat": 4,
 "nbformat_minor": 2
}
