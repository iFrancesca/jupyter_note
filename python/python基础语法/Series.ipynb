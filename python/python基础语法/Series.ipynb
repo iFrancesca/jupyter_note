{
 "cells": [
  {
   "cell_type": "markdown",
   "metadata": {},
   "source": [
    "# Pandas库的Series类型"
   ]
  },
  {
   "cell_type": "markdown",
   "metadata": {},
   "source": [
    "## 创建Series的方法"
   ]
  },
  {
   "cell_type": "code",
   "execution_count": 1,
   "metadata": {},
   "outputs": [],
   "source": [
    "import numpy as np\n",
    "import pandas as pd"
   ]
  },
  {
   "cell_type": "markdown",
   "metadata": {},
   "source": [
    "* 标量值 \n",
    "> index表示Series类型的尺寸"
   ]
  },
  {
   "cell_type": "code",
   "execution_count": 2,
   "metadata": {},
   "outputs": [
    {
     "name": "stdout",
     "output_type": "stream",
     "text": [
      "A    3\n",
      "B    3\n",
      "C    3\n",
      "dtype: int64\n"
     ]
    }
   ],
   "source": [
    "print(pd.Series(3,index=list('ABC')))  #不能省略idex"
   ]
  },
  {
   "cell_type": "markdown",
   "metadata": {},
   "source": [
    "* Python列表\n",
    "> index与列表元素个数一致"
   ]
  },
  {
   "cell_type": "code",
   "execution_count": 3,
   "metadata": {},
   "outputs": [
    {
     "name": "stdout",
     "output_type": "stream",
     "text": [
      "0    h\n",
      "1    e\n",
      "2    l\n",
      "3    l\n",
      "4    o\n",
      "dtype: object\n"
     ]
    }
   ],
   "source": [
    "print(pd.Series(list('hello')))"
   ]
  },
  {
   "cell_type": "markdown",
   "metadata": {},
   "source": [
    "* ndarray\n",
    "> 索引和数据都可以通过ndarray类型创建"
   ]
  },
  {
   "cell_type": "code",
   "execution_count": 4,
   "metadata": {},
   "outputs": [
    {
     "name": "stdout",
     "output_type": "stream",
     "text": [
      "0    0.0\n",
      "1    0.0\n",
      "2    0.0\n",
      "3    0.0\n",
      "4    0.0\n",
      "dtype: float64\n"
     ]
    }
   ],
   "source": [
    "print(pd.Series(np.zeros(5)))"
   ]
  },
  {
   "cell_type": "code",
   "execution_count": 5,
   "metadata": {},
   "outputs": [
    {
     "name": "stdout",
     "output_type": "stream",
     "text": [
      "0    0\n",
      "1    1\n",
      "2    2\n",
      "3    3\n",
      "4    4\n",
      "dtype: int32\n"
     ]
    }
   ],
   "source": [
    "print(pd.Series(np.arange(5)))"
   ]
  },
  {
   "cell_type": "code",
   "execution_count": 6,
   "metadata": {},
   "outputs": [
    {
     "name": "stdout",
     "output_type": "stream",
     "text": [
      "9    0\n",
      "8    1\n",
      "7    2\n",
      "6    3\n",
      "5    4\n",
      "dtype: int32\n"
     ]
    }
   ],
   "source": [
    "print(pd.Series(np.arange(5),index=np.arange(9,4,-1)))"
   ]
  },
  {
   "cell_type": "markdown",
   "metadata": {},
   "source": [
    "* 其他\n",
    "> range()函数等"
   ]
  },
  {
   "cell_type": "code",
   "execution_count": 7,
   "metadata": {},
   "outputs": [
    {
     "name": "stdout",
     "output_type": "stream",
     "text": [
      "0    h\n",
      "1    e\n",
      "2    l\n",
      "3    l\n",
      "4    o\n",
      "dtype: object\n"
     ]
    }
   ],
   "source": [
    "print(pd.Series(tuple('hello')))"
   ]
  },
  {
   "cell_type": "code",
   "execution_count": 8,
   "metadata": {},
   "outputs": [
    {
     "name": "stdout",
     "output_type": "stream",
     "text": [
      "0    0\n",
      "1    1\n",
      "2    2\n",
      "3    3\n",
      "4    4\n",
      "dtype: int64\n"
     ]
    }
   ],
   "source": [
    "print(pd.Series(range(5)))"
   ]
  },
  {
   "cell_type": "markdown",
   "metadata": {},
   "source": [
    "* Python字典\n",
    "> 键值对中的“键”是索引，index从字典中进行选择操作"
   ]
  },
  {
   "cell_type": "code",
   "execution_count": 9,
   "metadata": {},
   "outputs": [
    {
     "name": "stdout",
     "output_type": "stream",
     "text": [
      "name    diego\n",
      "age        12\n",
      "dtype: object\n"
     ]
    }
   ],
   "source": [
    "print(pd.Series({'name':'diego','age':12}))"
   ]
  },
  {
   "cell_type": "code",
   "execution_count": 10,
   "metadata": {},
   "outputs": [
    {
     "name": "stdout",
     "output_type": "stream",
     "text": [
      "age        12\n",
      "name    diego\n",
      "dtype: object\n"
     ]
    }
   ],
   "source": [
    "print(pd.Series({'name':'diego','age':12},index=['age','name']))"
   ]
  },
  {
   "cell_type": "markdown",
   "metadata": {},
   "source": [
    "## Series类型的基本操作"
   ]
  },
  {
   "cell_type": "markdown",
   "metadata": {},
   "source": [
    "* Series类型包括index和values两部分\n",
    "* Series类型的操作类似ndarray类型\n",
    "* Series类型的操作类似Python字典类型"
   ]
  },
  {
   "cell_type": "markdown",
   "metadata": {},
   "source": [
    "##### Series数据结构对象"
   ]
  },
  {
   "cell_type": "code",
   "execution_count": 11,
   "metadata": {},
   "outputs": [
    {
     "name": "stdout",
     "output_type": "stream",
     "text": [
      "a    6\n",
      "b    2\n",
      "c   -2\n",
      "d    0\n",
      "dtype: int64 <class 'pandas.core.series.Series'> \n",
      " [ 6  2 -2  0] \n",
      " Index(['a', 'b', 'c', 'd'], dtype='object')\n"
     ]
    }
   ],
   "source": [
    "import pandas as pd\n",
    "obj=pd.Series([6,2,-2,0],['a','b','c','d'])\n",
    "print(obj,type(obj),'\\n',obj.values,'\\n',obj.index)"
   ]
  },
  {
   "cell_type": "markdown",
   "metadata": {},
   "source": [
    "* 自动索引和自定义索引并存"
   ]
  },
  {
   "cell_type": "code",
   "execution_count": 12,
   "metadata": {},
   "outputs": [
    {
     "name": "stdout",
     "output_type": "stream",
     "text": [
      "2\n",
      "2\n"
     ]
    }
   ],
   "source": [
    "print(obj['b'])         \n",
    "print(obj[1])            "
   ]
  },
  {
   "cell_type": "markdown",
   "metadata": {},
   "source": [
    "* 两套索引并存，但不能混用  "
   ]
  },
  {
   "cell_type": "code",
   "execution_count": 13,
   "metadata": {},
   "outputs": [
    {
     "name": "stdout",
     "output_type": "stream",
     "text": [
      "a    6.0\n",
      "c   -2.0\n",
      "0    NaN\n",
      "dtype: float64\n",
      "a    6\n",
      "c   -2\n",
      "b    2\n",
      "dtype: int64\n"
     ]
    },
    {
     "name": "stderr",
     "output_type": "stream",
     "text": [
      "D:\\anaconda\\lib\\site-packages\\pandas\\core\\series.py:851: FutureWarning: \n",
      "Passing list-likes to .loc or [] with any missing label will raise\n",
      "KeyError in the future, you can use .reindex() as an alternative.\n",
      "\n",
      "See the documentation here:\n",
      "https://pandas.pydata.org/pandas-docs/stable/indexing.html#deprecate-loc-reindex-listlike\n",
      "  return self.loc[key]\n"
     ]
    }
   ],
   "source": [
    "print(obj[['a','c',0]]) \n",
    "print(obj[['a','c','b']])"
   ]
  },
  {
   "cell_type": "markdown",
   "metadata": {},
   "source": [
    "#### Series类型的操作类似ndarray类型：\n",
    "* 索引方法相同，采用[]\n",
    "* NumPy中运算和操作可用于Series类型\n",
    "* 可以通过自定义索引的列表进行切片\n",
    "* 可以通过自动索引进行切片，如果存在自定义索引，则一同被切片"
   ]
  },
  {
   "cell_type": "code",
   "execution_count": 14,
   "metadata": {},
   "outputs": [
    {
     "name": "stdout",
     "output_type": "stream",
     "text": [
      "0    12\n",
      "1     4\n",
      "2    -4\n",
      "3     0\n",
      "dtype: int64\n",
      "0     True\n",
      "1     True\n",
      "2    False\n",
      "3    False\n",
      "dtype: bool 0    6\n",
      "1    2\n",
      "dtype: int64\n",
      "0    1\n",
      "1    1\n",
      "2   -1\n",
      "3    0\n",
      "dtype: int64\n"
     ]
    }
   ],
   "source": [
    "#Series对象的numpy风格操作\n",
    "'''与标量相乘\n",
    "应用数学函数\n",
    "索引值不会参与运算'''\n",
    "obj=pd.Series([6,2,-2,0])\n",
    "print(obj*2)\n",
    "'''使用布尔值数组进行过滤'''\n",
    "print(obj>0,obj[obj>0])\n",
    "'''Series本质上是numpy的数组，numpy的数组处理函数可直接对Series进行处理'''\n",
    "print(np.sign(obj))"
   ]
  },
  {
   "cell_type": "code",
   "execution_count": 15,
   "metadata": {},
   "outputs": [
    {
     "name": "stdout",
     "output_type": "stream",
     "text": [
      "0    6\n",
      "1    2\n",
      "2   -2\n",
      "3    0\n",
      "dtype: int64\n"
     ]
    }
   ],
   "source": [
    "print(obj)"
   ]
  },
  {
   "cell_type": "code",
   "execution_count": 16,
   "metadata": {},
   "outputs": [
    {
     "name": "stdout",
     "output_type": "stream",
     "text": [
      "0\n",
      "0    6\n",
      "1    2\n",
      "2   -2\n",
      "dtype: int64\n"
     ]
    }
   ],
   "source": [
    "print(obj[3])\n",
    "print(obj[:3])"
   ]
  },
  {
   "cell_type": "code",
   "execution_count": 17,
   "metadata": {},
   "outputs": [
    {
     "ename": "TypeError",
     "evalue": "median() missing 1 required positional argument: 'a'",
     "output_type": "error",
     "traceback": [
      "\u001b[1;31m---------------------------------------------------------------------------\u001b[0m",
      "\u001b[1;31mTypeError\u001b[0m                                 Traceback (most recent call last)",
      "\u001b[1;32m<ipython-input-17-b39e05f214ea>\u001b[0m in \u001b[0;36m<module>\u001b[1;34m()\u001b[0m\n\u001b[1;32m----> 1\u001b[1;33m \u001b[0mnp\u001b[0m\u001b[1;33m[\u001b[0m\u001b[0mnp\u001b[0m\u001b[1;33m>\u001b[0m\u001b[0mnp\u001b[0m\u001b[1;33m.\u001b[0m\u001b[0mmedian\u001b[0m\u001b[1;33m(\u001b[0m\u001b[1;33m)\u001b[0m\u001b[1;33m]\u001b[0m\u001b[1;33m\u001b[0m\u001b[1;33m\u001b[0m\u001b[0m\n\u001b[0m",
      "\u001b[1;31mTypeError\u001b[0m: median() missing 1 required positional argument: 'a'"
     ]
    }
   ],
   "source": [
    "np[np>np.median()]"
   ]
  },
  {
   "cell_type": "code",
   "execution_count": null,
   "metadata": {},
   "outputs": [],
   "source": [
    "np.exp(obj)     #e的*次方"
   ]
  },
  {
   "cell_type": "markdown",
   "metadata": {},
   "source": [
    "#### Series类型的操作类似Python字典类型：\n",
    "* 通过自定义索引访问\n",
    "* 保留字in操作\n",
    "* 使用.get()方法\n"
   ]
  },
  {
   "cell_type": "code",
   "execution_count": null,
   "metadata": {},
   "outputs": [],
   "source": [
    "print(obj)\n",
    "print('c' in obj)\n",
    "print(6 in obj)"
   ]
  },
  {
   "cell_type": "code",
   "execution_count": null,
   "metadata": {},
   "outputs": [],
   "source": [
    "obj.get('e',100)"
   ]
  },
  {
   "cell_type": "markdown",
   "metadata": {},
   "source": [
    "#### Series类型对齐操作\n",
    "* Series+Series\n",
    "* Series类型在运算中会自动对齐不同索引的数据"
   ]
  },
  {
   "cell_type": "code",
   "execution_count": null,
   "metadata": {},
   "outputs": [],
   "source": [
    "a=pd.Series([1,2,3],['c','d','e'])\n",
    "b=pd.Series([9,8,7,6],['a','b','c','d'])\n",
    "a+b     "
   ]
  },
  {
   "cell_type": "markdown",
   "metadata": {},
   "source": [
    "## Series类型的name属性\n",
    "* Series对象和索引都可以有一个名字，存储在属性name中\n"
   ]
  },
  {
   "cell_type": "code",
   "execution_count": null,
   "metadata": {},
   "outputs": [],
   "source": [
    "print(obj)"
   ]
  },
  {
   "cell_type": "code",
   "execution_count": null,
   "metadata": {},
   "outputs": [],
   "source": [
    "print(obj.name)\n",
    "print(obj.index.name)"
   ]
  },
  {
   "cell_type": "code",
   "execution_count": null,
   "metadata": {},
   "outputs": [],
   "source": [
    "obj.name='Series对象'\n",
    "obj.index.name='索引列'\n",
    "print(obj)"
   ]
  },
  {
   "cell_type": "markdown",
   "metadata": {},
   "source": [
    "## Series类型的修改\n",
    "* Series对象可以随时修改并即刻生效"
   ]
  },
  {
   "cell_type": "code",
   "execution_count": null,
   "metadata": {},
   "outputs": [],
   "source": [
    "obj['d']=5\n",
    "obj.name='Series'\n",
    "print(obj)"
   ]
  },
  {
   "cell_type": "markdown",
   "metadata": {},
   "source": [
    "## Series类型\n",
    "* Series是一维带“标签”数组   index_0-->data_a\n",
    "* Series基本操作类似ndarray和字典，根据索引对齐"
   ]
  },
  {
   "cell_type": "code",
   "execution_count": null,
   "metadata": {},
   "outputs": [],
   "source": []
  },
  {
   "cell_type": "code",
   "execution_count": null,
   "metadata": {},
   "outputs": [],
   "source": []
  },
  {
   "cell_type": "code",
   "execution_count": null,
   "metadata": {},
   "outputs": [],
   "source": []
  },
  {
   "cell_type": "code",
   "execution_count": null,
   "metadata": {},
   "outputs": [],
   "source": [
    "#Series与字典\n",
    "'''没有数据的补NAN\n",
    "没有索引的排除'''\n",
    "obj=pd.Series({'e':5,'b':3,'f':4},index=['a','b','c'])\n",
    "print(obj)"
   ]
  }
 ],
 "metadata": {
  "kernelspec": {
   "display_name": "Python 3",
   "language": "python",
   "name": "python3"
  },
  "language_info": {
   "codemirror_mode": {
    "name": "ipython",
    "version": 3
   },
   "file_extension": ".py",
   "mimetype": "text/x-python",
   "name": "python",
   "nbconvert_exporter": "python",
   "pygments_lexer": "ipython3",
   "version": "3.7.4"
  }
 },
 "nbformat": 4,
 "nbformat_minor": 2
}
