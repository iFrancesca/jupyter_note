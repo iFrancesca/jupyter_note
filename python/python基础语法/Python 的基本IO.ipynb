{
 "cells": [
  {
   "cell_type": "code",
   "execution_count": null,
   "metadata": {},
   "outputs": [],
   "source": [
    "#PYTHON 程序语法元素分析\n",
    "'''缩进（TAB与空格）\n",
    "注释（单双三）\n",
    "命名与保留字\n",
    "字符串\n",
    "赋值与同步赋值\n",
    "IMPORT导入\n",
    "分行（反斜杠/）'''"
   ]
  },
  {
   "cell_type": "code",
   "execution_count": 1,
   "metadata": {},
   "outputs": [
    {
     "name": "stdout",
     "output_type": "stream",
     "text": [
      "请输入一个小数：6.9\n"
     ]
    },
    {
     "ename": "TypeError",
     "evalue": "ceil() takes exactly one argument (0 given)",
     "output_type": "error",
     "traceback": [
      "\u001b[1;31m---------------------------------------------------------------------------\u001b[0m",
      "\u001b[1;31mTypeError\u001b[0m                                 Traceback (most recent call last)",
      "\u001b[1;32m<ipython-input-1-8b1467043d4e>\u001b[0m in \u001b[0;36m<module>\u001b[1;34m()\u001b[0m\n\u001b[0;32m      8\u001b[0m     \u001b[0ma\u001b[0m\u001b[1;33m,\u001b[0m\u001b[0mb\u001b[0m\u001b[1;33m=\u001b[0m\u001b[0mi\u001b[0m\u001b[1;33m,\u001b[0m\u001b[0mmath\u001b[0m\u001b[1;33m.\u001b[0m\u001b[0mceil\u001b[0m\u001b[1;33m(\u001b[0m\u001b[1;33m)\u001b[0m\u001b[1;33m\u001b[0m\u001b[0m\n\u001b[0;32m      9\u001b[0m     \u001b[0mprint\u001b[0m\u001b[1;33m(\u001b[0m\u001b[1;34m'两个数分别是{0}和{1}'\u001b[0m\u001b[1;33m.\u001b[0m\u001b[0mformat\u001b[0m\u001b[1;33m(\u001b[0m\u001b[0ma\u001b[0m\u001b[1;33m,\u001b[0m\u001b[0mb\u001b[0m\u001b[1;33m)\u001b[0m\u001b[1;33m)\u001b[0m\u001b[1;33m\u001b[0m\u001b[0m\n\u001b[1;32m---> 10\u001b[1;33m \u001b[0mfuncA\u001b[0m\u001b[1;33m(\u001b[0m\u001b[1;33m)\u001b[0m\u001b[1;33m\u001b[0m\u001b[0m\n\u001b[0m",
      "\u001b[1;32m<ipython-input-1-8b1467043d4e>\u001b[0m in \u001b[0;36mfuncA\u001b[1;34m()\u001b[0m\n\u001b[0;32m      6\u001b[0m     所代表的符号也不一定相同。。。。。。。。。。。。。。。'''\n\u001b[0;32m      7\u001b[0m     \u001b[0mi\u001b[0m\u001b[1;33m=\u001b[0m\u001b[0minput\u001b[0m\u001b[1;33m(\u001b[0m\u001b[1;34m'请输入一个小数：'\u001b[0m\u001b[1;33m)\u001b[0m\u001b[1;33m\u001b[0m\u001b[0m\n\u001b[1;32m----> 8\u001b[1;33m     \u001b[0ma\u001b[0m\u001b[1;33m,\u001b[0m\u001b[0mb\u001b[0m\u001b[1;33m=\u001b[0m\u001b[0mi\u001b[0m\u001b[1;33m,\u001b[0m\u001b[0mmath\u001b[0m\u001b[1;33m.\u001b[0m\u001b[0mceil\u001b[0m\u001b[1;33m(\u001b[0m\u001b[1;33m)\u001b[0m\u001b[1;33m\u001b[0m\u001b[0m\n\u001b[0m\u001b[0;32m      9\u001b[0m     \u001b[0mprint\u001b[0m\u001b[1;33m(\u001b[0m\u001b[1;34m'两个数分别是{0}和{1}'\u001b[0m\u001b[1;33m.\u001b[0m\u001b[0mformat\u001b[0m\u001b[1;33m(\u001b[0m\u001b[0ma\u001b[0m\u001b[1;33m,\u001b[0m\u001b[0mb\u001b[0m\u001b[1;33m)\u001b[0m\u001b[1;33m)\u001b[0m\u001b[1;33m\u001b[0m\u001b[0m\n\u001b[0;32m     10\u001b[0m \u001b[0mfuncA\u001b[0m\u001b[1;33m(\u001b[0m\u001b[1;33m)\u001b[0m\u001b[1;33m\u001b[0m\u001b[0m\n",
      "\u001b[1;31mTypeError\u001b[0m: ceil() takes exactly one argument (0 given)"
     ]
    }
   ],
   "source": [
    "import math\n",
    "'''这是一个示例程序'''\n",
    "def funcA():\n",
    "    '''冒号后面自动缩进4个空格\n",
    "    但一个tab键不一定是4个空格\n",
    "    所代表的符号也不一定相同。。。。。。。。。。。。。。。'''\n",
    "    i=input('请输入一个小数：')\n",
    "    a,b=i,math.ceil()\n",
    "    print('两个数分别是{0}和{1}'.format(a,b))\n",
    "funcA()"
   ]
  },
  {
   "cell_type": "code",
   "execution_count": 14,
   "metadata": {},
   "outputs": [
    {
     "name": "stdout",
     "output_type": "stream",
     "text": [
      "hello world    #不输\\则不能下一行，Out错误#必须三个引号，否则不能下一行\n",
      "    hello python\n",
      "    hello my friend\n",
      "hello world\n",
      "hello python\n",
      "    hello my friend\n",
      "hello world\n",
      "\n",
      "    hello python\n",
      "\n",
      "hello my friend\n",
      "    hello world\n",
      "\n",
      "  #3个空格\n",
      "    hello python\n",
      "\n",
      "\n",
      "    hello my friend\n",
      "\thello world\n",
      "\n",
      "\n",
      "    hello python\n",
      "\n",
      "\n",
      "    hello my friend\n"
     ]
    }
   ],
   "source": [
    "#分行（反斜杠\\)\n",
    "m=\\\n",
    "'''hello world    #不输\\则不能下一行，Out错误#必须三个引号，否则不能下一行\n",
    "    hello python\n",
    "    hello my friend'''  \n",
    "print(m)\n",
    " #m='hello world\\n\\thello python\\n\\thello my friend'  or m='hello world\\n    hello python\\n    hello my friend'\n",
    "\n",
    "    \n",
    "m='''hello world\n",
    "hello python\n",
    "    hello my friend'''   \n",
    "print(m)\n",
    "#m='hello world\\nhello python\\n  hello my friend' or m='hello world\\nhello python\\n\\thello my friend'\n",
    "\n",
    "m='''hello world\\n\n",
    "    hello python\\n\n",
    "hello my friend'''\n",
    "print(m)\n",
    "#m='hello world\\n\\n\\thello python\\n\\nhello my friend'\n",
    "\n",
    "\n",
    "m=\\\n",
    "'''    hello world\\n\\n  #4个空格\n",
    "    hello python\\n\\n\n",
    "    hello my friend'''\n",
    "print(m)\n",
    "#m=’    hello world\\n\\n\\n\\thello python\\n\\n\\n\\thello my friend'\n",
    "\n",
    "m='''\\thello world\\n\\n\n",
    "    hello python\\n\\n\n",
    "    hello my friend'''\n",
    "print(m)\n",
    "#m='\\thello world\\n\\n\\n\\thello python\\n\\n\\n\\thello my friend'\n",
    "\n",
    "\n"
   ]
  },
  {
   "cell_type": "code",
   "execution_count": 2,
   "metadata": {},
   "outputs": [
    {
     "name": "stdout",
     "output_type": "stream",
     "text": [
      "转化后的温度是:31.2\n",
      "转化后的温度是:31.20C\n",
      "转换后的温度是:31.20\n"
     ]
    }
   ],
   "source": [
    "#输出函数print()\n",
    "'''print(\"hello world!\")\n",
    "字符串拼接\n",
    "%格式化\n",
    "Format格式化'''\n",
    "temp=31.2\n",
    "print('转化后的温度是:'+str(temp))\n",
    "print('转化后的温度是:{:.2f}C'.format(temp))\n",
    "print('转换后的温度是:%.2f'%temp)"
   ]
  },
  {
   "cell_type": "code",
   "execution_count": 6,
   "metadata": {},
   "outputs": [
    {
     "name": "stdout",
     "output_type": "stream",
     "text": [
      "1\\\"反斜杠\"'\"单引号\"、\"双引号\"\u0007\"响铃\"\\e\"转义\"\u0000\"空\"\n",
      "\"换行\"\u000b",
      "\"纵向制表符\"\t\"横向制表符\"\r",
      "\"回车\"\f",
      "\"换页\"\n"
     ]
    }
   ],
   "source": [
    "#转义字符\n",
    "'''\\(行尾)    续航符\n",
    "\\\\    反斜杠符号\n",
    "\\'    单引号\n",
    "\\''   双引号\n",
    "\\a    响铃\n",
    "\\b    退格\n",
    "\\e    转义\n",
    "\\000  空\n",
    "\\n    换行\n",
    "\\v    纵向制表符\n",
    "\\t    横向制表符\n",
    "\\r    回车\n",
    "\\f    换页'''\n",
    "print('1\\\\\"反斜杠\"\\'\"单引号\"、''\"双引号\"\\a\"响铃\"\\e\"转义\"\\000\"空\"\\n\"换行\"\\v\"纵向制表符\"\\t\"横向制表符\"\\r\"回车\"\\f\"换页\"')"
   ]
  },
  {
   "cell_type": "code",
   "execution_count": null,
   "metadata": {},
   "outputs": [],
   "source": []
  },
  {
   "cell_type": "code",
   "execution_count": null,
   "metadata": {},
   "outputs": [],
   "source": [
    "#format格式化\n",
    "'''SLOT槽位：位置，变量名（包括词典，列表等）\n",
    "字符串描述{0}，{1}和{other}.'format('google','runoob',other='taobao')'''\n"
   ]
  },
  {
   "cell_type": "code",
   "execution_count": null,
   "metadata": {},
   "outputs": [],
   "source": []
  },
  {
   "cell_type": "code",
   "execution_count": null,
   "metadata": {},
   "outputs": [],
   "source": [
    "m=''"
   ]
  },
  {
   "cell_type": "code",
   "execution_count": null,
   "metadata": {},
   "outputs": [],
   "source": []
  }
 ],
 "metadata": {
  "kernelspec": {
   "display_name": "Python 3",
   "language": "python",
   "name": "python3"
  },
  "language_info": {
   "codemirror_mode": {
    "name": "ipython",
    "version": 3
   },
   "file_extension": ".py",
   "mimetype": "text/x-python",
   "name": "python",
   "nbconvert_exporter": "python",
   "pygments_lexer": "ipython3",
   "version": "3.6.5"
  }
 },
 "nbformat": 4,
 "nbformat_minor": 2
}
