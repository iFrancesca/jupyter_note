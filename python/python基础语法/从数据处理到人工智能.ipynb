{
 "cells": [
  {
   "cell_type": "code",
   "execution_count": 1,
   "metadata": {
    "collapsed": true
   },
   "outputs": [
    {
     "data": {
      "text/plain": [
       "'数据表示：采用合适的方法用程序表达数据\\n数据清洗：数据归一化、数据转化、异常值处理\\n数据统计：数据的概要理解，数量、分布、中位数等\\n数据可视化：直观展示数据内涵的方式\\n数据挖掘：从数据分析获得知识，产生数据外的价值\\n人工智能：数据/语言/图像/视觉等方面深度分析与决策'"
      ]
     },
     "execution_count": 1,
     "metadata": {},
     "output_type": "execute_result"
    }
   ],
   "source": [
    "#数据表示->数据清洗->数据统计->数据可视化->数据挖掘->人工智能\n",
    "'''数据表示：采用合适的方法用程序表达数据\n",
    "数据清洗：数据归一化、数据转化、异常值处理\n",
    "数据统计：数据的概要理解，数量、分布、中位数等\n",
    "数据可视化：直观展示数据内涵的方式\n",
    "数据挖掘：从数据分析获得知识，产生数据外的价值\n",
    "人工智能：数据/语言/图像/视觉等方面深度分析与决策'''"
   ]
  },
  {
   "cell_type": "code",
   "execution_count": null,
   "metadata": {},
   "outputs": [],
   "source": [
    "#数据分析\n",
    "#numpy：表达n维数组的最基础库\n",
    "'''python接口使用，c语言实现，计算速度优异\n",
    "python数据分析及科学计算的基础库，支持pandas等\n",
    "提供直接的矩阵运算，广播函数、线性代数等功能\n",
    "'''\n",
    "#pandas：python数据分析高层次应用库\n",
    "'''提供了简单易用的数据结构和数据分析工具\n",
    "理解数据类型与索引的关系，操作索引即操作数据\n",
    "python最主要的数据分析功能库，基于numpy开发\n",
    "'''\n",
    "'''Serires=索引+一维数据\n",
    "   DataFrame=行列索引+二维数据'''\n",
    "#Scipy:数学、科学和工程计算功能库\n",
    "'''提供了一批数学算法及工程数据运算功能\n",
    "类似Matlab，可用于傅里叶变换、信号处理、图像处理、稀疏图压缩、稀疏运算、优化算法等应用\n",
    "python最主要的科学计算功能库，基于numpy开发'''\n"
   ]
  },
  {
   "cell_type": "code",
   "execution_count": null,
   "metadata": {},
   "outputs": [],
   "source": [
    "#数据可视化\n",
    "#Matplotlib:高质量的二维数据可视化功能库\n",
    "'''提供了100种数据可视化展示效果\n",
    "通过matplotlib.pyplot字库调用各种可视化效果\n",
    "Python最主要的数据可视化功能库，基于numpy开发'''\n",
    "#Seaborn:统计类数据可视化功能库\n",
    "'''提供了一批高层次的设计类数据可视化展示效果\n",
    "主要展示数据间分布、分类和线性关系等内容\n",
    "基于Matplotlib开发，支持Numpy和Pandas'''\n",
    "#Mayavi:三维数据可视化功能库\n",
    "'''提供了一批简单易用的3D科学计算数据可视化展示效果\n",
    "目前版本是Mayavi2,三维可视化最主要的第三方库\n",
    "支持Numpy\\TVTK\\Traits\\Envisage等第三方库'''"
   ]
  },
  {
   "cell_type": "code",
   "execution_count": null,
   "metadata": {},
   "outputs": [],
   "source": [
    "#文本处理\n",
    "#PyPDF2:用来处理pdf文件的工具集\n",
    "'''提供了一批处理pdf文件的计算功能\n",
    "支持获取信息、分割/整合文件、加密解密等\n",
    "完全Python语言实现，不需要额外依赖，功能稳定'''"
   ]
  },
  {
   "cell_type": "code",
   "execution_count": null,
   "metadata": {},
   "outputs": [],
   "source": [
    "#机器学习"
   ]
  },
  {
   "cell_type": "code",
   "execution_count": null,
   "metadata": {},
   "outputs": [],
   "source": []
  }
 ],
 "metadata": {
  "kernelspec": {
   "display_name": "Python 3",
   "language": "python",
   "name": "python3"
  },
  "language_info": {
   "codemirror_mode": {
    "name": "ipython",
    "version": 3
   },
   "file_extension": ".py",
   "mimetype": "text/x-python",
   "name": "python",
   "nbconvert_exporter": "python",
   "pygments_lexer": "ipython3",
   "version": "3.6.5"
  }
 },
 "nbformat": 4,
 "nbformat_minor": 2
}
