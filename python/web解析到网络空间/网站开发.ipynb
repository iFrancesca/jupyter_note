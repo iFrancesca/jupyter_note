{
 "cells": [
  {
   "cell_type": "markdown",
   "metadata": {},
   "source": [
    "## Flask：Web应用开发微框架"
   ]
  },
  {
   "cell_type": "raw",
   "metadata": {},
   "source": [
    "from flask import flask\n",
    "app=Flask(__name__)\n",
    "@app.route('/')\n",
    "def hello_word():\n",
    "    return 'Hello,World!'"
   ]
  },
  {
   "cell_type": "raw",
   "metadata": {},
   "source": [
    "$ env FLASK_APP=hello.py flask run\n",
    " * Serving Flask app \"hello\"\n",
    " * Running on http://127.0.0.1:5000/ (Press CTRL+C to quit)"
   ]
  }
 ],
 "metadata": {
  "kernelspec": {
   "display_name": "Python 3",
   "language": "python",
   "name": "python3"
  },
  "language_info": {
   "codemirror_mode": {
    "name": "ipython",
    "version": 3
   },
   "file_extension": ".py",
   "mimetype": "text/x-python",
   "name": "python",
   "nbconvert_exporter": "python",
   "pygments_lexer": "ipython3",
   "version": "3.7.4"
  }
 },
 "nbformat": 4,
 "nbformat_minor": 2
}
