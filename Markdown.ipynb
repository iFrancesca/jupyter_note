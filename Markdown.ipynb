{
 "cells": [
  {
   "cell_type": "raw",
   "metadata": {},
   "source": [
    "* 两种模式\n",
    "命令模式 --蓝色\n",
    "编辑模式 --绿色"
   ]
  },
  {
   "cell_type": "markdown",
   "metadata": {},
   "source": [
    "* 无序列表\n",
    "+ 无序列表\n",
    "- 无序列表"
   ]
  },
  {
   "cell_type": "markdown",
   "metadata": {},
   "source": [
    "1. 有序列表\n",
    "2. 有序列表"
   ]
  },
  {
   "cell_type": "markdown",
   "metadata": {},
   "source": [
    "**加粗**\n",
    "__加粗__\n",
    "___加粗斜体___\n",
    "*斜体*\n",
    "~~删除~~"
   ]
  },
  {
   "cell_type": "markdown",
   "metadata": {},
   "source": [
    "$数学公式：E=mc^2$\n",
    "$$数学区块：z=\\frac{x}{y}$$"
   ]
  }
 ],
 "metadata": {
  "kernelspec": {
   "display_name": "Python 3",
   "language": "python",
   "name": "python3"
  },
  "language_info": {
   "codemirror_mode": {
    "name": "ipython",
    "version": 3
   },
   "file_extension": ".py",
   "mimetype": "text/x-python",
   "name": "python",
   "nbconvert_exporter": "python",
   "pygments_lexer": "ipython3",
   "version": "3.7.4"
  }
 },
 "nbformat": 4,
 "nbformat_minor": 2
}
