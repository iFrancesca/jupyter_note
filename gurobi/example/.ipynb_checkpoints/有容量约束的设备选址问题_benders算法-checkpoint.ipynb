{
 "cells": [
  {
   "cell_type": "code",
   "execution_count": 1,
   "metadata": {},
   "outputs": [],
   "source": [
    "from itertools import product\n",
    "from math import sqrt\n",
    "\n",
    "import gurobipy as gp\n",
    "from gurobipy import GRB\n",
    "import random\n",
    "\n",
    "# Parameters\n",
    "with open(\"D:\\\\base\\\\jupyter\\\\gurobi\\\\example\\\\C1.1.txt\" ) as f:\n",
    "    txt = f.readlines()\n",
    "num_customers = 100\n",
    "num_facilities = 50\n",
    "cartesian_prod = list(product(range(num_facilities), range(num_customers)))\n",
    "\n",
    "costs = list(i.split(\" \") for i in txt[2:])\n",
    "costs = [list(map(eval,cost[:-1])) for cost in costs]\n",
    "#固定成本\n",
    "fixed_cost = [cost[1] for cost in costs ]\n",
    "#运输成本\n",
    "customs_to_facility = [cost[2:] for cost in costs]\n",
    "shipping_cost = {(i,j): customs_to_facility[i][j] for i,j in cartesian_prod}    \n",
    "\n",
    "#需求\n",
    "demand = [random.randint(50,300) for j in range(num_customers)]\n",
    "#服务能力\n",
    "service = [random.randint(50,1000) for i in range(num_facilities)]\n",
    "\n",
    "k=0"
   ]
  },
  {
   "cell_type": "code",
   "execution_count": 2,
   "metadata": {},
   "outputs": [
    {
     "name": "stdout",
     "output_type": "stream",
     "text": [
      "Using license file D:\\programs\\special\\GUROBI\\gurobi.lic\n",
      "Gurobi Optimizer version 9.1.0 build v9.1.0rc0 (win64)\n",
      "Thread count: 4 physical cores, 8 logical processors, using up to 8 threads\n",
      "Optimize a model with 1 rows, 5051 columns and 50 nonzeros\n",
      "Model fingerprint: 0x9b18357f\n",
      "Variable types: 5001 continuous, 50 integer (50 binary)\n",
      "Coefficient statistics:\n",
      "  Matrix range     [6e+01, 1e+03]\n",
      "  Objective range  [1e+00, 2e+03]\n",
      "  Bounds range     [1e+00, 1e+00]\n",
      "  RHS range        [2e+04, 2e+04]\n",
      "Found heuristic solution: objective 54753.000000\n",
      "Presolve removed 1 rows and 5051 columns\n",
      "Presolve time: 0.00s\n",
      "Presolve: All rows and columns removed\n",
      "\n",
      "Explored 0 nodes (0 simplex iterations) in 0.01 seconds\n",
      "Thread count was 1 (of 8 available processors)\n",
      "\n",
      "Solution count 2: 38918 \n",
      "\n",
      "Optimal solution found (tolerance 1.00e-04)\n",
      "Best objective 3.891800000000e+04, best bound 3.891800000000e+04, gap 0.0000%\n",
      "0.015989303588867188\n"
     ]
    }
   ],
   "source": [
    "# MIP  model formulation\n",
    "\n",
    "m = gp.Model('facility_location')\n",
    "\n",
    "y = m.addVars(num_facilities, vtype=GRB.BINARY, name='Select')\n",
    "x = m.addVars(cartesian_prod, ub=1, vtype=GRB.CONTINUOUS, name='Assign')\n",
    "z =  m.addVar( vtype=GRB.CONTINUOUS, name='z')\n",
    "\n",
    "m.addConstr(gp.quicksum(demand[j] for j in range(num_customers)) <= \\\n",
    "                y.prod(service), name='Demand_Service')\n",
    "\n",
    "m.setObjective(y.prod(fixed_cost)+z , GRB.MINIMIZE)\n",
    "\n",
    "m.optimize()\n",
    "print(m.getAttr(GRB.Attr.Runtime))"
   ]
  },
  {
   "cell_type": "code",
   "execution_count": 4,
   "metadata": {},
   "outputs": [
    {
     "name": "stdout",
     "output_type": "stream",
     "text": [
      "Gurobi Optimizer version 9.1.0 build v9.1.0rc0 (win64)\n",
      "Thread count: 4 physical cores, 8 logical processors, using up to 8 threads\n",
      "Optimize a model with 5000 rows, 5100 columns and 10000 nonzeros\n",
      "Model fingerprint: 0xea361467\n",
      "Coefficient statistics:\n",
      "  Matrix range     [1e+00, 3e+02]\n",
      "  Objective range  [1e+00, 1e+03]\n",
      "  Bounds range     [0e+00, 0e+00]\n",
      "  RHS range        [1e+02, 3e+05]\n",
      "Presolve removed 5000 rows and 5100 columns\n",
      "Presolve time: 0.00s\n",
      "Presolve: All rows and columns removed\n",
      "Iteration    Objective       Primal Inf.    Dual Inf.      Time\n",
      "       0    6.1178900e+05   0.000000e+00   0.000000e+00      0s\n",
      "\n",
      "Solved in 0 iterations and 0.01 seconds\n",
      "Optimal objective  6.117890000e+05\n"
     ]
    }
   ],
   "source": [
    "#对偶子问题\n",
    "#没有采用隐藏的约束：信息量大，结果会更好\n",
    "ds = gp.Model(\"dual_subproblem\")\n",
    "\n",
    "α= ds.addVars(num_customers,lb=-GRB.INFINITY,ub=GRB.INFINITY, vtype=GRB.CONTINUOUS, name='a')\n",
    "β = ds.addVars(cartesian_prod,lb=-GRB.INFINITY,ub=0,vtype=GRB.CONTINUOUS, name='b')\n",
    "\n",
    "ds_constr = ds.addConstrs((α[j]+β[i,j]*demand[j] <= shipping_cost[i,j]*demand[j] for(i,j) in cartesian_prod),name='ds_constr')\n",
    "\n",
    "ds.setObjective(gp.quicksum(α[j] for j in range(num_customers)) + \\\n",
    "               gp.quicksum(service[i]*y[i].X*β[i,j] for(i,j) in cartesian_prod)\n",
    "               ,GRB.MAXIMIZE)\n",
    "ds.optimize()"
   ]
  },
  {
   "cell_type": "code",
   "execution_count": 5,
   "metadata": {},
   "outputs": [
    {
     "name": "stdout",
     "output_type": "stream",
     "text": [
      "Changed value of parameter LogFile to D:\\base\\jupyter\\gurobi\\example\\log.txt\n",
      "   Prev:   Default: \n",
      "1\n",
      "solution:45444.0\n",
      "2\n",
      "solution:380817.0\n",
      "3\n",
      "solution:380817.0\n",
      "4\n",
      "solution:380817.0\n",
      "5\n",
      "solution:380817.0\n",
      "6\n",
      "solution:380817.0\n",
      "7\n",
      "solution:380817.0\n",
      "8\n",
      "solution:380817.0\n",
      "9\n",
      "solution:380817.0\n",
      "10\n",
      "solution:380817.0\n",
      "11\n",
      "solution:380817.0\n",
      "12\n",
      "solution:380817.0\n",
      "13\n",
      "solution:380817.0\n",
      "14\n",
      "solution:380817.0\n",
      "15\n",
      "solution:380817.0\n",
      "16\n",
      "solution:380817.0\n",
      "17\n",
      "solution:380817.0\n",
      "18\n",
      "solution:380817.0\n",
      "19\n",
      "solution:380817.0\n",
      "20\n",
      "solution:380817.0\n",
      "21\n",
      "solution:380817.0\n"
     ]
    }
   ],
   "source": [
    "while ((k<=20) and (ds.ObjVal != z.X)):\n",
    "    m.addConstr(gp.quicksum(α[j].X for j in range(num_customers)) + \\\n",
    "                            gp.quicksum(service[i]*y[i]*β[i,j].X for(i,j) in cartesian_prod)  <= z )\n",
    "    m.setParam(GRB.Param.LogFile,\"D:\\\\base\\\\jupyter\\\\gurobi\\\\example\\\\log.txt\")\n",
    "    m.setParam(GRB.Param.OutputFlag,0)\n",
    "    m.optimize()\n",
    "    \n",
    "    k += 1\n",
    "    print(k)\n",
    "    ds.setObjective(gp.quicksum(demand[j] for j in range(num_customers)) + \\\n",
    "               gp.quicksum(service[i]*y[i].X*β[i,j] for(i,j) in cartesian_prod)\n",
    "               ,GRB.MAXIMIZE)\n",
    "    ds.setParam(GRB.Param.OutputFlag,0)\n",
    "    ds.optimize()\n",
    "    \n",
    "    print(\"solution:{}\".format(m.ObjVal))\n"
   ]
  },
  {
   "cell_type": "code",
   "execution_count": null,
   "metadata": {},
   "outputs": [],
   "source": []
  }
 ],
 "metadata": {
  "kernelspec": {
   "display_name": "Python 3",
   "language": "python",
   "name": "python3"
  },
  "language_info": {
   "codemirror_mode": {
    "name": "ipython",
    "version": 3
   },
   "file_extension": ".py",
   "mimetype": "text/x-python",
   "name": "python",
   "nbconvert_exporter": "python",
   "pygments_lexer": "ipython3",
   "version": "3.7.0"
  }
 },
 "nbformat": 4,
 "nbformat_minor": 2
}
