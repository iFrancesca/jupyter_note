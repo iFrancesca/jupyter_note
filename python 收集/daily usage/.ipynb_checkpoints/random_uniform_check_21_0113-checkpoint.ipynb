{
 "cells": [
  {
   "cell_type": "code",
   "execution_count": 22,
   "metadata": {},
   "outputs": [
    {
     "name": "stdout",
     "output_type": "stream",
     "text": [
      "0.000000---->8\n",
      "0.010000---->8\n",
      "0.020000---->11\n",
      "0.030000---->9\n",
      "0.040000---->12\n",
      "0.050000---->9\n",
      "0.060000---->7\n",
      "0.070000---->16\n",
      "0.080000---->11\n",
      "0.090000---->9\n"
     ]
    },
    {
     "data": {
      "text/plain": [
       "62"
      ]
     },
     "execution_count": 22,
     "metadata": {},
     "output_type": "execute_result"
    }
   ],
   "source": [
    "#随机数序列 \n",
    "#n=100,m=10\n",
    "txt =\\\n",
    "\"0.41\t0.88\t0.35\t0.89\t0.87\t0.64\t0.10\t0.20\t0.31\t0.57\t\\\n",
    "0.73\t0.86\t0.79\t0.74\t0.72\t0.81\t0.94\t0.74\t0.22\t0.74\t\\\n",
    "0.76\t0.89\t0.37\t0.27\t0.66\t0.41\t0.52\t0.73\t0.99\t0.02\t\\\n",
    "0.57\t0.30\t0.17\t0.82\t0.56\t0.05\t0.45\t0.31\t0.78\t0.05\t\\\n",
    "0.79\t0.71\t0.23\t0.29\t0.82\t0.93\t0.65\t0.47\t0.39\t0.42\t\\\n",
    "0.99\t0.17\t0.99\t0.46\t0.05\t0.66\t0.10\t0.32\t0.18\t0.49\t\\\n",
    "0.37\t0.51\t0.54\t0.01\t0.81\t0.28\t0.09\t0.34\t0.75\t0.49\t\\\n",
    "0.72\t0.43\t0.56\t0.97\t0.30\t0.94\t0.96\t0.58\t0.73\t0.05\t\\\n",
    "0.06\t0.39\t0.84\t0.24\t0.40\t0.64\t0.40\t0.19\t0.79\t0.62\t\\\n",
    "0.18\t0.26\t0.97\t0.88\t0.64\t0.47\t0.60\t0.11\t0.29\t0.78\\\n",
    "\"\n",
    "#随机数序列\n",
    "numbers = txt.split(\"\t\")\n",
    "numbers = list(map(eval,numbers))\n",
    "n = []\n",
    "#统计落在各个区间的随机数的个数\n",
    "for i in range(0,10):\n",
    "    mi = i*0.1\n",
    "    mii = (i+1)*0.1\n",
    "    num = [number for number in numbers if number<mii and number>=mi]\n",
    "    print(\"{:2f}---->{}\".format(mi*0.1,len(num)))\n",
    "    n.append(len(num))\n",
    "#计算统计量\n",
    "ni = [(i-10)**2 for i in n]\n",
    "sum(ni)"
   ]
  },
  {
   "cell_type": "code",
   "execution_count": 26,
   "metadata": {},
   "outputs": [
    {
     "ename": "SyntaxError",
     "evalue": "invalid syntax (<ipython-input-26-7934e6bba119>, line 2)",
     "output_type": "error",
     "traceback": [
      "\u001b[1;36m  File \u001b[1;32m\"<ipython-input-26-7934e6bba119>\"\u001b[1;36m, line \u001b[1;32m2\u001b[0m\n\u001b[1;33m    Seq = [\"-\" for i in range(1,len(lt)) if lt[i]<lt[i-1] else \"+\"]\u001b[0m\n\u001b[1;37m                                                             ^\u001b[0m\n\u001b[1;31mSyntaxError\u001b[0m\u001b[1;31m:\u001b[0m invalid syntax\n"
     ]
    }
   ],
   "source": []
  },
  {
   "cell_type": "code",
   "execution_count": 47,
   "metadata": {},
   "outputs": [
    {
     "name": "stdout",
     "output_type": "stream",
     "text": [
      "['+', '-', '+', '-', '-', '-', '+', '+', '+', '+', '-', '+', '-', '+', '+', '+', '-', '-', '+', '-', '-', '-', '+', '-', '-', '+', '-', '+', '-']\n",
      "18\n",
      "E:26.33  Var:6.79  Z:-3.20\n"
     ]
    }
   ],
   "source": [
    "import math\n",
    "\n",
    "txt = \"\\\n",
    "0.34\t0.90\t0.25\t0.89\t0.87\t0.44\t0.12\t0.21\t0.46\t0.67\t\\\n",
    "0.83\t0.76\t0.79\t0.64\t0.70\t0.81\t0.94\t0.74\t0.22\t0.74\t\\\n",
    "0.47\t0.30\t0.17\t0.82\t0.56\t0.05\t0.45\t0.31\t0.78\t0.05\\\n",
    "\"\n",
    "#随机数序列\n",
    "numbers = txt.split(\"\t\")\n",
    "numbers = list(map(eval,numbers))\n",
    "#连贯性序列\n",
    "Seq = [ '-' if numbers[i]<numbers[i-1] else '+' for i in range(1,len(numbers)) ]\n",
    "#计算T\n",
    "def get_T(seq):\n",
    "    T = 1\n",
    "    for i in range(1,len(seq)):\n",
    "        if seq[i]==seq[i-1]:\n",
    "            continue\n",
    "        else:\n",
    "            T += 1\n",
    "    return T\n",
    "T = get_T(Seq)\n",
    "print(Seq)\n",
    "print(T)\n",
    "\n",
    "#计算统计量\n",
    "n = 40\n",
    "E = (2*n-1)/3\n",
    "Var = (16*n-29)/90\n",
    "Z = (T-E)/math.sqrt(Var)\n",
    "print(\"E:{:.2f}  Var:{:.2f}  Z:{:.2f}\".format(E,Var,Z))"
   ]
  },
  {
   "cell_type": "code",
   "execution_count": 56,
   "metadata": {},
   "outputs": [
    {
     "name": "stdout",
     "output_type": "stream",
     "text": [
      "['+', '-', '+', '-', '-', '-', '+', '+', '+', '+', '-', '+', '-', '+', '+', '+', '-', '-', '+', '+', '+', '-', '-', '-', '-', '+', '+', '+', '-', '+', '-', '-', '+', '-', '-', '+', '-', '+', '-']\n",
      "22\n",
      "E:26.33  Var:6.79  Z:-1.66\n"
     ]
    }
   ],
   "source": [
    "import math\n",
    "\n",
    "txt = \"\\\n",
    "0.34\t0.90\t0.25\t0.89\t0.87\t0.44\t0.12\t0.21\t0.46\t0.67\t\\\n",
    "0.83\t0.76\t0.79\t0.64\t0.70\t0.81\t0.94\t0.74\t0.22\t0.74\t\\\n",
    "0.96\t0.99\t0.77\t0.67\t0.56\t0.41\t0.52\t0.73\t0.99\t0.02\t\\\n",
    "0.47\t0.30\t0.17\t0.82\t0.56\t0.05\t0.45\t0.31\t0.78\t0.05\\\n",
    "\"\n",
    "#随机数序列\n",
    "numbers = txt.split(\"\t\")\n",
    "numbers = list(map(eval,numbers))\n",
    "#连贯性序列\n",
    "Seq = [ '-' if numbers[i]<numbers[i-1] else '+' for i in range(1,len(numbers)) ]\n",
    "#计算T\n",
    "def get_T(seq):\n",
    "    T = 1\n",
    "    for i in range(1,len(seq)):\n",
    "        if seq[i]==seq[i-1]:\n",
    "            continue\n",
    "        else:\n",
    "            T += 1\n",
    "    return T\n",
    "T = get_T(Seq)\n",
    "print(Seq)\n",
    "print(T)\n",
    "\n",
    "#计算统计量\n",
    "n = 40\n",
    "E = (2*n-1)/3\n",
    "Var = (16*n-29)/90\n",
    "Z = (T-E)/math.sqrt(Var)\n",
    "print(\"E:{:.2f}  Var:{:.2f}  Z:{:.2f}\".format(E,Var,Z))"
   ]
  },
  {
   "cell_type": "markdown",
   "metadata": {},
   "source": [
    "### 正负连检验"
   ]
  },
  {
   "cell_type": "code",
   "execution_count": 63,
   "metadata": {},
   "outputs": [
    {
     "name": "stdout",
     "output_type": "stream",
     "text": [
      "x:0.4892499999999999 n:40 n1:21  n2:19\n",
      "['-', '-', '-', '-', '+', '+', '+', '+', '+', '-', '-', '-', '-', '-', '+', '+', '+', '+', '+', '-', '-', '-', '-', '-', '-', '+', '+', '+', '+', '-', '-', '-', '-', '-', '+', '+', '+', '+', '+']\n",
      "μ:200.00  var:9.69 Z:-58.46\n"
     ]
    }
   ],
   "source": [
    "\n",
    "txt = \"\\\n",
    "0.08\t0.09\t0.23\t0.29\t0.42\t0.55\t0.58\t0.72\t0.89\t0.91\t\\\n",
    "0.11\t0.16\t0.18\t0.31\t0.41\t0.53\t0.71\t0.73\t0.74\t0.84\t\\\n",
    "0.02\t0.09\t0.30\t0.32\t0.45\t0.47\t0.69\t0.74\t0.91\t0.95\t\\\n",
    "0.12\t0.13\t0.29\t0.36\t0.38\t0.54\t0.68\t0.86\t0.88\t0.91\\\n",
    "\"\n",
    "\n",
    "import math\n",
    "#随机数序列\n",
    "numbers = txt.split(\"\t\")\n",
    "numbers = list(map(eval,numbers))\n",
    "n = len(numbers)\n",
    "x = sum(numbers)/n\n",
    "N1 = [number for number in numbers if number<x]\n",
    "N2 = [number for number in numbers if number>x]\n",
    "n1 = len(N1)\n",
    "n2 = len(N2)\n",
    "print(\"x:{} n:{} n1:{}  n2:{}\".format(x,n,n1,n2))\n",
    "#连贯性序列\n",
    "Seq = [ '-' if numbers[i]<x else '+' for i in range(1,len(numbers)) ]\n",
    "print(Seq)\n",
    "\n",
    "\n",
    "#计算统计量--正负连检验\n",
    "μ = (n1*n2)/2 + 0.5\n",
    "var = (2*n1*n2*(2*n1*n2-n))/((n-1)*n**2)\n",
    "Z = (T-μ)/math.sqrt(var)\n",
    "print(\"μ:{:.2f}  var:{:.2f} Z:{:.2f}\".format(μ,var,Z))"
   ]
  },
  {
   "cell_type": "code",
   "execution_count": 62,
   "metadata": {},
   "outputs": [
    {
     "name": "stdout",
     "output_type": "stream",
     "text": [
      "x:0.45649999999999985 n:40 n1:21  n2:19\n",
      "['+', '+', '+', '+', '+', '+', '+', '-', '-', '-', '+', '+', '-', '+', '-', '-', '-', '-', '-', '-', '-', '+', '+', '-', '+', '-', '-', '+', '+', '-', '-', '+', '-', '+', '-', '-', '+', '+', '-']\n",
      "μ:200.00  var:9.69 Z:-58.46\n"
     ]
    }
   ],
   "source": [
    "txt = \"\\\n",
    "0.41\t0.68\t0.89\t0.94\t0.74\t0.91\t0.55\t0.62\t0.36\t0.27\t\\\n",
    "0.19\t0.72\t0.75\t0.08\t0.54\t0.02\t0.01\t0.36\t0.16\t0.28\t\\\n",
    "0.18\t0.01\t0.95\t0.69\t0.18\t0.47\t0.23\t0.32\t0.82\t0.53\t\\\n",
    "0.31\t0.42\t0.73\t0.04\t0.83\t0.45\t0.13\t0.57\t0.63\t0.29\\\n",
    "\"\n",
    "\n",
    "import math\n",
    "#随机数序列\n",
    "numbers = txt.split(\"\t\")\n",
    "numbers = list(map(eval,numbers))\n",
    "n = len(numbers)\n",
    "x = sum(numbers)/n\n",
    "N1 = [number for number in numbers if number<x]\n",
    "N2 = [number for number in numbers if number>x]\n",
    "n1 = len(N1)\n",
    "n2 = len(N2)\n",
    "print(\"x:{} n:{} n1:{}  n2:{}\".format(x,n,n1,n2))\n",
    "#连贯性序列\n",
    "Seq = [ '-' if numbers[i]<x else '+' for i in range(1,len(numbers)) ]\n",
    "print(Seq)\n",
    "\n",
    "\n",
    "#计算统计量--正负连检验\n",
    "μ = (n1*n2)/2 + 0.5\n",
    "var = (2*n1*n2*(2*n1*n2-n))/((n-1)*n**2)\n",
    "Z = (T-μ)/math.sqrt(var)\n",
    "print(\"μ:{:.2f}  var:{:.2f} Z:{:.2f}\".format(μ,var,Z))"
   ]
  },
  {
   "cell_type": "code",
   "execution_count": 64,
   "metadata": {},
   "outputs": [
    {
     "name": "stdout",
     "output_type": "stream",
     "text": [
      "x:0.5564999999999999 n:40 n1:23  n2:17\n"
     ]
    }
   ],
   "source": [
    "txt = \"\\\n",
    "0.63\t0.72\t0.79\t0.81\t0.52\t0.94\t0.83\t0.93\t0.87\t0.67\t\\\n",
    "0.54\t0.83\t0.89\t0.55\t0.88\t0.77\t0.74\t0.95\t0.82\t0.86\t\\\n",
    "0.43\t0.32\t0.36\t0.18\t0.08\t0.19\t0.18\t0.27\t0.36\t0.34\t\\\n",
    "0.31\t0.45\t0.49\t0.43\t0.46\t0.35\t0.25\t0.39\t0.47\t0.41\\\n",
    "\"\n",
    "import math\n",
    "#随机数序列\n",
    "numbers = txt.split(\"\t\")\n",
    "numbers = list(map(eval,numbers))\n",
    "n = len(numbers)\n",
    "x = sum(numbers)/n\n",
    "N1 = [number for number in numbers if number<x]\n",
    "N2 = [number for number in numbers if number>x]\n",
    "n1 = len(N1)\n",
    "n2 = len(N2)\n",
    "print(\"x:{} n:{} n1:{}  n2:{}\".format(x,n,n1,n2))"
   ]
  },
  {
   "cell_type": "code",
   "execution_count": null,
   "metadata": {},
   "outputs": [],
   "source": []
  }
 ],
 "metadata": {
  "kernelspec": {
   "display_name": "Python 3",
   "language": "python",
   "name": "python3"
  },
  "language_info": {
   "codemirror_mode": {
    "name": "ipython",
    "version": 3
   },
   "file_extension": ".py",
   "mimetype": "text/x-python",
   "name": "python",
   "nbconvert_exporter": "python",
   "pygments_lexer": "ipython3",
   "version": "3.7.0"
  }
 },
 "nbformat": 4,
 "nbformat_minor": 2
}
