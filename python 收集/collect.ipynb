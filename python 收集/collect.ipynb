{
 "cells": [
  {
   "cell_type": "markdown",
   "metadata": {},
   "source": [
    "## jupyter使用"
   ]
  },
  {
   "cell_type": "markdown",
   "metadata": {},
   "source": [
    "### 多次显示"
   ]
  },
  {
   "cell_type": "code",
   "execution_count": 1,
   "metadata": {
    "ExecuteTime": {
     "end_time": "2022-02-26T08:21:26.672333Z",
     "start_time": "2022-02-26T08:21:26.652468Z"
    }
   },
   "outputs": [],
   "source": [
    "from IPython.core.interactiveshell import InteractiveShell \n",
    "InteractiveShell.ast_node_interactivity = \"all\""
   ]
  },
  {
   "cell_type": "code",
   "execution_count": null,
   "metadata": {},
   "outputs": [],
   "source": []
  },
  {
   "cell_type": "markdown",
   "metadata": {},
   "source": [
    "## 中英文文本分离"
   ]
  },
  {
   "cell_type": "markdown",
   "metadata": {},
   "source": [
    "#### 1.超短文本,ASCII识别"
   ]
  },
  {
   "cell_type": "code",
   "execution_count": 1,
   "metadata": {},
   "outputs": [
    {
     "name": "stdout",
     "output_type": "stream",
     "text": [
      "China's Legend Holdings will split its several business arms to go public on stock markets, the group's president Zhu Linan said on Tuesday.\n"
     ]
    }
   ],
   "source": [
    "s = \"China's Legend Holdings will split its several business arms to go public on stock markets, the group's president Zhu Linan said on Tuesday.该集团总裁朱利安周二表示，中国联想控股将分拆其多个业务部门在股市上市。\"\n",
    "result = \"\".join(i for i in s if ord(i) < 256)\n",
    "print(result)"
   ]
  },
  {
   "cell_type": "code",
   "execution_count": 2,
   "metadata": {},
   "outputs": [
    {
     "name": "stdout",
     "output_type": "stream",
     "text": [
      "该集团总裁朱利安周二表示，中国联想控股将分拆其多个业务部门在股市上市。\n"
     ]
    }
   ],
   "source": [
    "s = \"China's Legend Holdings will split its several business arms to go public on stock markets, the group's president Zhu Linan said on Tuesday.该集团总裁朱利安周二表示，中国联想控股将分拆其多个业务部门在股市上市。\"\n",
    "result = \"\".join(i for i in s if ord(i) >= 256)\n",
    "print(result)"
   ]
  },
  {
   "cell_type": "markdown",
   "metadata": {},
   "source": [
    "#### 2.unicode编码识别\n",
    "> 中文的编码范围是：\\u4e00-\\u9fa5，相应的[^\\u4e00-\\u9fa5]可匹配非中文。\n",
    "> 匹配英文时，需要将空格[\\u0020]加入，不然单词之间没空格了"
   ]
  },
  {
   "cell_type": "code",
   "execution_count": 5,
   "metadata": {},
   "outputs": [
    {
     "name": "stdout",
     "output_type": "stream",
     "text": [
      "chinas legend holdings will split its several business arms to go public on stock markets, the groups president zhu linan said on tuesday\n"
     ]
    }
   ],
   "source": [
    "import re\n",
    "s = \"China's Legend Holdings will split its several business arms to go public on stock markets, the group's president Zhu Linan said on Tuesday.\\\n",
    "该集团总裁朱利安周二表示，中国联想控股将分拆其多个业务部门在股市上市。\"\n",
    "uncn = re.compile(r'[\\u0061-\\u007a,\\u0020]')\n",
    "en=''.join(uncn.findall(s.lower()))\n",
    "print(en)"
   ]
  },
  {
   "cell_type": "code",
   "execution_count": 6,
   "metadata": {},
   "outputs": [
    {
     "name": "stdout",
     "output_type": "stream",
     "text": [
      "该集团总裁朱利安周二表示中国联想控股将分拆其多个业务部门在股市上市\n"
     ]
    }
   ],
   "source": [
    "import re\n",
    "s = \"China's Legend Holdings will split its several business arms to go public on stock markets, the group's president Zhu Linan said on Tuesday.\\\n",
    "该集团总裁朱利安周二表示，中国联想控股将分拆其多个业务部门在股市上市。\"\n",
    "uncn = re.compile(r'[\\u4e00-\\u9fa5]')\n",
    "en=''.join(uncn.findall(s.lower()))\n",
    "print(en)"
   ]
  },
  {
   "cell_type": "markdown",
   "metadata": {},
   "source": [
    "## [列表和字典前面加星号（**)](https://www.cnblogs.com/hider/p/14707088.html)"
   ]
  },
  {
   "cell_type": "markdown",
   "metadata": {},
   "source": [
    "#### list tuple前面加星号\n",
    "> 列表前面加星号作用是将列表解开（unpacke）成多个独立的参数，传入函数。"
   ]
  },
  {
   "cell_type": "code",
   "execution_count": 1,
   "metadata": {},
   "outputs": [
    {
     "name": "stdout",
     "output_type": "stream",
     "text": [
      "15\n"
     ]
    }
   ],
   "source": [
    "def add(a, b):\n",
    "    return a + b\n",
    "\n",
    "data = [7, 8]\n",
    "print(add(*data)) # 15"
   ]
  },
  {
   "cell_type": "code",
   "execution_count": 2,
   "metadata": {},
   "outputs": [
    {
     "data": {
      "text/plain": [
       "array([3, 4, 5])"
      ]
     },
     "execution_count": 2,
     "metadata": {},
     "output_type": "execute_result"
    }
   ],
   "source": [
    "import numpy as np\n",
    "np.arange(3,6)"
   ]
  },
  {
   "cell_type": "code",
   "execution_count": 3,
   "metadata": {
    "scrolled": true
   },
   "outputs": [
    {
     "data": {
      "text/plain": [
       "array([3, 4, 5])"
      ]
     },
     "execution_count": 3,
     "metadata": {},
     "output_type": "execute_result"
    }
   ],
   "source": [
    "list = [3,6]\n",
    "np.arange(*list)"
   ]
  },
  {
   "cell_type": "markdown",
   "metadata": {},
   "source": [
    "## [python中的any ,all方法](https://blog.csdn.net/u010339879/article/details/80459476)"
   ]
  },
  {
   "cell_type": "markdown",
   "metadata": {},
   "source": [
    "## 统计中文字符的个数\n",
    "* u'\\u4e00'<=i<=u'\\u9fff'"
   ]
  },
  {
   "cell_type": "code",
   "execution_count": 1,
   "metadata": {
    "ExecuteTime": {
     "end_time": "2022-02-09T09:56:55.463943Z",
     "start_time": "2022-02-09T09:56:44.537233Z"
    }
   },
   "outputs": [
    {
     "name": "stdout",
     "output_type": "stream",
     "text": [
      "地方dfs的\n",
      "3\n"
     ]
    }
   ],
   "source": [
    "s=input()\n",
    "count=0\n",
    "for i in s:\n",
    "    if u'\\u4e00'<=i<=u'\\u9fff':\n",
    "        count+=1\n",
    "print(count)"
   ]
  },
  {
   "cell_type": "markdown",
   "metadata": {},
   "source": [
    "* **判断全为中文字符**"
   ]
  },
  {
   "cell_type": "code",
   "execution_count": 2,
   "metadata": {
    "ExecuteTime": {
     "end_time": "2022-02-09T09:57:01.037369Z",
     "start_time": "2022-02-09T09:56:55.465025Z"
    }
   },
   "outputs": [
    {
     "name": "stdout",
     "output_type": "stream",
     "text": [
      "技术的d\n"
     ]
    },
    {
     "data": {
      "text/plain": [
       "False"
      ]
     },
     "execution_count": 2,
     "metadata": {},
     "output_type": "execute_result"
    }
   ],
   "source": [
    "def isAllChinese(s):\n",
    "    for i in s:\n",
    "        if not u'\\u4e00'<=i<=u'\\u9fff':\n",
    "            return False\n",
    "    return True\n",
    "s=input()\n",
    "isAllChinese(s)"
   ]
  },
  {
   "cell_type": "markdown",
   "metadata": {},
   "source": [
    "## 判断字符全由数字组成\n",
    "\n",
    "* 字符串.isdecimal() ：只能判断0-9组成的数字；\n",
    "* 字符串.isdigit()：除了能判断0-9构成的数字，还可以判断unicode数字，例如 ⑴、 \\u00b2；\n",
    "* 字符串.isnumeric()：除了能判断0-9构成的数字和unicode数字，还能判断中文数字一、二、百、千、万、壹、贰、叁等。"
   ]
  },
  {
   "cell_type": "code",
   "execution_count": 3,
   "metadata": {
    "ExecuteTime": {
     "end_time": "2022-02-09T09:57:10.889316Z",
     "start_time": "2022-02-09T09:57:01.038882Z"
    }
   },
   "outputs": [
    {
     "name": "stdout",
     "output_type": "stream",
     "text": [
      "已经\n",
      "False\n",
      "后\n",
      "False\n",
      "idd\n",
      "False\n"
     ]
    }
   ],
   "source": [
    "a=input()\n",
    "print(a.isdecimal())\n",
    "\n",
    "a=input()\n",
    "print(a.isdigit())\n",
    "\n",
    "a=input()\n",
    "print(a.isnumeric())"
   ]
  },
  {
   "cell_type": "markdown",
   "metadata": {},
   "source": [
    "## jieba分词中去除标点等符号"
   ]
  },
  {
   "cell_type": "code",
   "execution_count": 5,
   "metadata": {
    "ExecuteTime": {
     "end_time": "2022-02-09T09:57:36.479340Z",
     "start_time": "2022-02-09T09:57:33.069687Z"
    }
   },
   "outputs": [
    {
     "name": "stdout",
     "output_type": "stream",
     "text": [
      "那天个人.sv,/wag.\n"
     ]
    },
    {
     "data": {
      "text/plain": [
       "['那天', '个人', '.', 'sv', ',', '/', 'wag', '.']"
      ]
     },
     "execution_count": 5,
     "metadata": {},
     "output_type": "execute_result"
    }
   ],
   "source": [
    "import jieba \n",
    "move='，。'\n",
    "txt=input()\n",
    "ls=jieba.lcut(txt)\n",
    "for i in ls:\n",
    "    if i in move:\n",
    "        ls.remove(i)\n",
    "ls       "
   ]
  },
  {
   "cell_type": "markdown",
   "metadata": {
    "ExecuteTime": {
     "end_time": "2022-03-02T07:24:09.679400Z",
     "start_time": "2022-03-02T07:24:09.648826Z"
    }
   },
   "source": [
    "##  \\r, \\n, \\r\\n"
   ]
  },
  {
   "cell_type": "markdown",
   "metadata": {
    "ExecuteTime": {
     "end_time": "2022-03-02T07:24:16.241024Z",
     "start_time": "2022-03-02T07:24:16.198714Z"
    }
   },
   "source": [
    "|符号|介绍|备注|\n",
    "|-|-|-|\n",
    "|\\n|换行，英文是New line | 换行就是把滚筒卷一格，不改变水平位置。 （即移到下一行，但不是行首，而是和上一行水平位置一样）|\n",
    "|\\r| 回车，英文是Carriage return　| 回车就是把水平位置复位，不卷动滚筒。 （即将光标移到行首，但是不会移到下一行，如果继续输入的话会覆盖掉前面的内容）|\n",
    "|\\r\\n| 回车+换行，Enter | |"
   ]
  },
  {
   "cell_type": "code",
   "execution_count": null,
   "metadata": {},
   "outputs": [],
   "source": []
  },
  {
   "cell_type": "code",
   "execution_count": null,
   "metadata": {},
   "outputs": [],
   "source": []
  },
  {
   "cell_type": "code",
   "execution_count": null,
   "metadata": {},
   "outputs": [],
   "source": []
  }
 ],
 "metadata": {
  "kernelspec": {
   "display_name": "Python 3",
   "language": "python",
   "name": "python3"
  },
  "language_info": {
   "codemirror_mode": {
    "name": "ipython",
    "version": 3
   },
   "file_extension": ".py",
   "mimetype": "text/x-python",
   "name": "python",
   "nbconvert_exporter": "python",
   "pygments_lexer": "ipython3",
   "version": "3.7.0"
  },
  "toc": {
   "base_numbering": 1,
   "nav_menu": {},
   "number_sections": true,
   "sideBar": true,
   "skip_h1_title": false,
   "title_cell": "Table of Contents",
   "title_sidebar": "Contents",
   "toc_cell": false,
   "toc_position": {},
   "toc_section_display": true,
   "toc_window_display": true
  }
 },
 "nbformat": 4,
 "nbformat_minor": 2
}
