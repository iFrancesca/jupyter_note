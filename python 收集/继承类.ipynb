{
 "cells": [
  {
   "cell_type": "markdown",
   "metadata": {},
   "source": [
    "## 子类继承父类`构造函数`"
   ]
  },
  {
   "cell_type": "markdown",
   "metadata": {},
   "source": [
    "> 情况一：子类需要自动调用父类的方法：子类不重写__init__()方法，实例化子类后，会自动调用父类的__init__()的方法。"
   ]
  },
  {
   "cell_type": "code",
   "execution_count": 44,
   "metadata": {
    "ExecuteTime": {
     "end_time": "2022-03-05T02:02:55.641821Z",
     "start_time": "2022-03-05T02:02:55.626765Z"
    }
   },
   "outputs": [
    {
     "name": "stdout",
     "output_type": "stream",
     "text": [
      "name: bob\n",
      "Son bob\n"
     ]
    }
   ],
   "source": [
    "class Father(object):\n",
    "    def __init__(self, name):\n",
    "        self.name=name\n",
    "        print ( \"name: %s\" %( self.name) )\n",
    "    def getName(self):\n",
    "        return 'Father ' + self.name\n",
    " \n",
    "class Son(Father):\n",
    "    def getName(self):\n",
    "        return 'Son '+self.name\n",
    " \n",
    "if __name__=='__main__':\n",
    "    son=Son('bob')\n",
    "    print ( son.getName() )"
   ]
  },
  {
   "cell_type": "markdown",
   "metadata": {},
   "source": [
    "> 情况二：子类不需要自动调用父类的方法：子类重写__init__()方法，实例化子类后，将不会自动调用父类的__init__()的方法。"
   ]
  },
  {
   "cell_type": "code",
   "execution_count": 46,
   "metadata": {
    "ExecuteTime": {
     "end_time": "2022-03-05T02:03:50.544088Z",
     "start_time": "2022-03-05T02:03:50.528291Z"
    }
   },
   "outputs": [
    {
     "name": "stdout",
     "output_type": "stream",
     "text": [
      "hi\n",
      "Son bob\n"
     ]
    }
   ],
   "source": [
    "class Father(object):\n",
    "    def __init__(self, name):\n",
    "        self.name=name\n",
    "        print ( \"name: %s\" %( self.name) )\n",
    "    def getName(self):\n",
    "        return 'Father ' + self.name\n",
    " \n",
    "class Son(Father):\n",
    "    def __init__(self, name):\n",
    "        self.name = name\n",
    "        print('hi')\n",
    "    def getName(self):\n",
    "        return 'Son '+self.name\n",
    " \n",
    "if __name__=='__main__':\n",
    "    son=Son('bob')\n",
    "    print ( son.getName() )"
   ]
  },
  {
   "cell_type": "markdown",
   "metadata": {},
   "source": [
    "> 情况三：子类重写__init__()方法又需要调用父类的方法：使用super关键词：\n",
    "\n",
    "* super(子类，self).__init__(参数1，参数2，....)\n",
    "\n",
    "*　父类名称.__init__(self,参数1，参数2，...)"
   ]
  },
  {
   "cell_type": "code",
   "execution_count": 48,
   "metadata": {
    "ExecuteTime": {
     "end_time": "2022-03-05T02:06:54.863606Z",
     "start_time": "2022-03-05T02:06:54.855519Z"
    }
   },
   "outputs": [
    {
     "name": "stdout",
     "output_type": "stream",
     "text": [
      "name: bob\n",
      "hi\n",
      "Son bob\n"
     ]
    }
   ],
   "source": [
    "class Father(object):\n",
    "    def __init__(self, name):\n",
    "        self.name=name\n",
    "        print ( \"name: %s\" %( self.name) )\n",
    "    def getName(self):\n",
    "        return 'Father ' + self.name\n",
    " \n",
    "class Son(Father):\n",
    "    def __init__(self, name):\n",
    "        # super(Son, self).__init__(name)\n",
    "        Father.__init__(Son, name)\n",
    "        self.name = name\n",
    "        print('hi')\n",
    "    def getName(self):\n",
    "        return 'Son '+self.name\n",
    " \n",
    "if __name__=='__main__':\n",
    "    son = Son('bob')\n",
    "    print ( son.getName() )"
   ]
  },
  {
   "cell_type": "code",
   "execution_count": null,
   "metadata": {},
   "outputs": [],
   "source": []
  },
  {
   "cell_type": "code",
   "execution_count": null,
   "metadata": {},
   "outputs": [],
   "source": []
  },
  {
   "cell_type": "code",
   "execution_count": null,
   "metadata": {},
   "outputs": [],
   "source": []
  },
  {
   "cell_type": "code",
   "execution_count": null,
   "metadata": {},
   "outputs": [],
   "source": []
  },
  {
   "cell_type": "code",
   "execution_count": null,
   "metadata": {},
   "outputs": [],
   "source": []
  },
  {
   "cell_type": "code",
   "execution_count": null,
   "metadata": {},
   "outputs": [],
   "source": []
  }
 ],
 "metadata": {
  "kernelspec": {
   "display_name": "Python 3",
   "language": "python",
   "name": "python3"
  },
  "language_info": {
   "codemirror_mode": {
    "name": "ipython",
    "version": 3
   },
   "file_extension": ".py",
   "mimetype": "text/x-python",
   "name": "python",
   "nbconvert_exporter": "python",
   "pygments_lexer": "ipython3",
   "version": "3.7.0"
  },
  "toc": {
   "base_numbering": 1,
   "nav_menu": {},
   "number_sections": true,
   "sideBar": true,
   "skip_h1_title": false,
   "title_cell": "Table of Contents",
   "title_sidebar": "Contents",
   "toc_cell": false,
   "toc_position": {},
   "toc_section_display": true,
   "toc_window_display": false
  }
 },
 "nbformat": 4,
 "nbformat_minor": 2
}
