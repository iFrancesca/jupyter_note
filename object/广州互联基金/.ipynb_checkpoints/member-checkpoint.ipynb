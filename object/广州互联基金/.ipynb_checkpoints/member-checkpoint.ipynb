{
 "cells": [
  {
   "cell_type": "code",
   "execution_count": 43,
   "metadata": {},
   "outputs": [],
   "source": [
    "temp = '''\n",
    "1 罗锡文 1945.12 男 教授 硕士 华南农业大学 020-85280158 xwluo@scau.edu.cn 项目负责人  \n",
    "2 周志艳 1972.11 男 副教授 硕士 华南农业大学 020-38676975 zyzhou@scau.edu.cn 副主持 9 \n",
    "3 李民赞 1963.01 男 教授 博士 中国农业大学 010-62737924 limz@cau.edu.cn 光谱检测方法总体设计 7 \n",
    "4 肖德琴 1970.05 女 教授 硕士 华南农业大学 020-38676975 dqxiao@scau.edu.cn 稻田无线传感\n",
    "器网络设计 9 \n",
    "5 杨燕琼 1964.10 女 副教授 硕士 华南农业大学 020-38676975 qq@scau.edu.cn 水稻生长信息光谱检测研究 9 \n",
    "6 曾庆茂 1973.10 男 讲师 硕士 华南农业大学 020-38676975 qmzeng@scau.edu.cn 建模及算法研\n",
    "究 8 \n",
    "7 臧英 1973.08 女 副教授 博士 华南农业大学 020-38676975 zangying@scau.edu.cn 试验组织 7 \n",
    "8 曾山 1973.09 男 博士生 硕士 华南农业大学 020-38676975 zengshan@163.com 光谱数据采集\n",
    "及分析 9 \n",
    "9 贾国灏 1986.02 男 硕士生 学士 华南农业大学 020-38676975 wsjgha@163.com 田间试验 9 \n",
    "10 何锐敏 1985.07 男 硕士生 学士 华南农业大学 020-38676975 ruiminhe@163.com 田间试验 9 \n",
    "'''"
   ]
  },
  {
   "cell_type": "code",
   "execution_count": 44,
   "metadata": {},
   "outputs": [],
   "source": [
    "lt_mem = temp.split('\\n')\n",
    "lt = []\n",
    "\n",
    "for i in lt_mem:\n",
    "    try:\n",
    "        if eval(i[0]) in [1,2,3,4,5,6,7,8,9,10]:\n",
    "            lt.append(i)\n",
    "    except:\n",
    "        pass\n",
    "num = []\n",
    "name = []\n",
    "date = []\n",
    "sex = []\n",
    "profession = []\n",
    "institution = []\n",
    "for people in lt:\n",
    "    lt_people = people.split(' ')\n",
    "    try:\n",
    "        inform = [lt_people[i] for i in range(7)]\n",
    "        #出错的人的信息不能被保存到列表，否则会被写入文件影响结果\n",
    "        num.append(inform[0])\n",
    "        name.append(inform[1])\n",
    "        date.append(inform[2])\n",
    "        sex.append(inform[3])\n",
    "        profession.append(inform[4])\n",
    "        institution.append(inform[6])\n",
    "    except:\n",
    "        print('error__num:{} name:{}'.format(lt_people[0],lt_people[1]))"
   ]
  },
  {
   "cell_type": "code",
   "execution_count": 45,
   "metadata": {},
   "outputs": [
    {
     "name": "stdout",
     "output_type": "stream",
     "text": [
      "0 1 2 3 4 5 6 7 8 9 0 1 2 3 4 5 6 7 8 9 0 1 2 3 4 5 6 7 8 9 0 1 2 3 4 5 6 7 8 9 0 1 2 3 4 5 6 7 8 9 0 1 2 3 4 5 6 7 8 9 write_Sheet1_ok\n"
     ]
    }
   ],
   "source": [
    "from openpyxl import load_workbook\n",
    "\n",
    "#列表写入excel文件\n",
    "            #填写要固定的列\n",
    "def write(index,ws,lt):\n",
    "    for i in range(len(lt)):\n",
    "        ws.cell(2+i,index).value = lt[i]\n",
    "        print(i,end=' ')\n",
    "            #选择填入某行的单元格\n",
    "            \n",
    "            \n",
    "#处理文件\n",
    "path = 'D:\\\\paper\\\\wang\\\\广东联合基金\\\\2008-2010\\\\code\\\\member.xlsx'  #填写路径\n",
    "wb = load_workbook(path)\n",
    "ws1 = wb[\"Sheet1\"]   #填写工作表名字\n",
    "\n",
    "#填写sheet1\n",
    "write(1,ws1,num)\n",
    "write(2,ws1,name)\n",
    "write(3,ws1,date)\n",
    "write(4,ws1,sex)\n",
    "write(5,ws1,profession)\n",
    "write(6,ws1,institution)\n",
    "wb.save(path)\n",
    "print(\"write_Sheet1_ok\")\n"
   ]
  },
  {
   "cell_type": "code",
   "execution_count": 31,
   "metadata": {},
   "outputs": [
    {
     "data": {
      "text/plain": [
       "['10',\n",
       " '王瑞平',\n",
       " '1981.11',\n",
       " '男',\n",
       " '博士生',\n",
       " '硕士',\n",
       " '中国科学院计算技术研究所',\n",
       " '010-62600747',\n",
       " 'rpwang@jdl.ac.cn',\n",
       " '视频分析',\n",
       " '10',\n",
       " '']"
      ]
     },
     "execution_count": 31,
     "metadata": {},
     "output_type": "execute_result"
    }
   ],
   "source": [
    "lt_people = people.split(' ')\n",
    "lt_people"
   ]
  },
  {
   "cell_type": "code",
   "execution_count": 38,
   "metadata": {},
   "outputs": [
    {
     "data": {
      "text/plain": [
       "'10'"
      ]
     },
     "execution_count": 38,
     "metadata": {},
     "output_type": "execute_result"
    }
   ],
   "source": [
    "inform[0]"
   ]
  }
 ],
 "metadata": {
  "kernelspec": {
   "display_name": "Python 3",
   "language": "python",
   "name": "python3"
  },
  "language_info": {
   "codemirror_mode": {
    "name": "ipython",
    "version": 3
   },
   "file_extension": ".py",
   "mimetype": "text/x-python",
   "name": "python",
   "nbconvert_exporter": "python",
   "pygments_lexer": "ipython3",
   "version": "3.7.0"
  }
 },
 "nbformat": 4,
 "nbformat_minor": 2
}
