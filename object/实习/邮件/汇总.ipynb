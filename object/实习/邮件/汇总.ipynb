{
 "cells": [
  {
   "cell_type": "code",
   "execution_count": 18,
   "id": "ccc8bdac",
   "metadata": {},
   "outputs": [
    {
     "name": "stdout",
     "output_type": "stream",
     "text": [
      "D:\\file\\o\\队长\\周报\\s\\1120\n"
     ]
    },
    {
     "data": {
      "text/plain": [
       "'D:\\\\file\\\\o\\\\队长\\\\周报\\\\s\\\\1120'"
      ]
     },
     "execution_count": 18,
     "metadata": {},
     "output_type": "execute_result"
    }
   ],
   "source": [
    "import os\n",
    "print(os.getcwd())  #当前路径\n",
    "\n",
    "#更改当前路径\n",
    "os.chdir('D:/file/o/队长/周报/s/1120/')\n",
    "os.getcwd()"
   ]
  },
  {
   "cell_type": "code",
   "execution_count": 23,
   "id": "6e545176",
   "metadata": {},
   "outputs": [],
   "source": [
    "from win32com.client import Dispatch\n",
    " \n",
    "def just_open(filename):\n",
    "    xlApp = Dispatch(\"Excel.Application\")\n",
    "    xlApp.Visible = False\n",
    "    xlBook = xlApp.Workbooks.Open('D:\\\\file\\\\o\\\\队长\\\\周报\\\\s\\\\1120\\\\'+filename)\n",
    "    xlBook.SaveAs(filename)\n",
    "    xlBook.Close()"
   ]
  },
  {
   "cell_type": "code",
   "execution_count": 2,
   "id": "463407f1",
   "metadata": {},
   "outputs": [],
   "source": [
    "from openpyxl import Workbook\n",
    "from openpyxl import load_workbook"
   ]
  },
  {
   "cell_type": "code",
   "execution_count": 3,
   "id": "b3423534",
   "metadata": {},
   "outputs": [
    {
     "name": "stdout",
     "output_type": "stream",
     "text": [
      "Help on function load_workbook in module openpyxl.reader.excel:\n",
      "\n",
      "load_workbook(filename, read_only=False, keep_vba=False, data_only=False, keep_links=True)\n",
      "    Open the given filename and return the workbook\n",
      "    \n",
      "    :param filename: the path to open or a file-like object\n",
      "    :type filename: string or a file-like object open in binary mode c.f., :class:`zipfile.ZipFile`\n",
      "    \n",
      "    :param read_only: optimised for reading, content cannot be edited\n",
      "    :type read_only: bool\n",
      "    \n",
      "    :param keep_vba: preseve vba content (this does NOT mean you can use it)\n",
      "    :type keep_vba: bool\n",
      "    \n",
      "    :param data_only: controls whether cells with formulae have either the formula (default) or the value stored the last time Excel read the sheet\n",
      "    :type data_only: bool\n",
      "    \n",
      "    :param keep_links: whether links to external workbooks should be preserved. The default is True\n",
      "    :type keep_links: bool\n",
      "    \n",
      "    :rtype: :class:`openpyxl.workbook.Workbook`\n",
      "    \n",
      "    .. note::\n",
      "    \n",
      "        When using lazy load, all worksheets will be :class:`openpyxl.worksheet.iter_worksheet.IterableWorksheet`\n",
      "        and the returned workbook will be read-only.\n",
      "\n"
     ]
    }
   ],
   "source": [
    "help(load_workbook)"
   ]
  },
  {
   "cell_type": "code",
   "execution_count": 4,
   "id": "a649ec3c",
   "metadata": {},
   "outputs": [],
   "source": [
    "wbm = Workbook()"
   ]
  },
  {
   "cell_type": "code",
   "execution_count": 10,
   "id": "b610403f",
   "metadata": {},
   "outputs": [],
   "source": [
    "path1 = '1-队长覆盖率.xlsx'\n",
    "path2 = '2-准出进度.xlsx'\n"
   ]
  },
  {
   "cell_type": "code",
   "execution_count": 6,
   "id": "d9d6b02a",
   "metadata": {},
   "outputs": [],
   "source": [
    "def write_cells(cells,ws):\n",
    "    for row in cells:\n",
    "        ws.append([i.value for i in row])\n",
    "    ws.append([])"
   ]
  },
  {
   "cell_type": "code",
   "execution_count": 8,
   "id": "1e47091b",
   "metadata": {},
   "outputs": [],
   "source": [
    "just_open(path1)\n",
    "wb1 = load_workbook(path1,data_only=True,read_only=True)\n",
    "ws1 = wb1['1-队长覆盖率']\n",
    "\n",
    "cover1 = ws1['S1:AG10']  #队长覆盖\n",
    "cover2 = ws1['AM1:AM2']  #城市覆盖率超过95%\n",
    "cover3 = ws1['AO1:AT21']  #城市覆盖率\n",
    "\n",
    "# 将结果写入到新的excel\n",
    "wsm1 = wbm.create_sheet('1-队长覆盖率')\n",
    "write_cells(cover1, wsm1)\n",
    "write_cells(cover2, wsm1)\n",
    "write_cells(cover3, wsm1)\n",
    "wbm.save('邮件.xlsx')"
   ]
  },
  {
   "cell_type": "code",
   "execution_count": 25,
   "id": "f9f7cbb8",
   "metadata": {},
   "outputs": [],
   "source": [
    "just_open(path2)\n",
    "wb2 = load_workbook(path2,data_only=True)\n",
    "ws2 = wb2['2-准出进度']\n",
    "\n",
    "out1 = ws2['A1:R11']  #队长覆盖\n",
    "\n",
    "# 将结果写入到新的excel\n",
    "wsm2 = wbm.create_sheet('2-准出进度')\n",
    "write_cells(out1, wsm2)\n",
    "wbm.save('邮件.xlsx')"
   ]
  },
  {
   "cell_type": "code",
   "execution_count": 2,
   "id": "58fb8b71",
   "metadata": {},
   "outputs": [
    {
     "ename": "NameError",
     "evalue": "name 'pd' is not defined",
     "output_type": "error",
     "traceback": [
      "\u001b[1;31m---------------------------------------------------------------------------\u001b[0m",
      "\u001b[1;31mNameError\u001b[0m                                 Traceback (most recent call last)",
      "\u001b[1;32m<ipython-input-2-e0cd5de27904>\u001b[0m in \u001b[0;36m<module>\u001b[1;34m\u001b[0m\n\u001b[1;32m----> 1\u001b[1;33m \u001b[0mzc\u001b[0m \u001b[1;33m=\u001b[0m \u001b[0mpd\u001b[0m\u001b[1;33m.\u001b[0m\u001b[0mDataFrame\u001b[0m\u001b[1;33m(\u001b[0m\u001b[0mout2\u001b[0m\u001b[1;33m.\u001b[0m\u001b[0mvalues\u001b[0m\u001b[1;33m)\u001b[0m\u001b[1;33m\u001b[0m\u001b[1;33m\u001b[0m\u001b[0m\n\u001b[0m\u001b[0;32m      2\u001b[0m \u001b[0mzc\u001b[0m\u001b[1;33m\u001b[0m\u001b[1;33m\u001b[0m\u001b[0m\n",
      "\u001b[1;31mNameError\u001b[0m: name 'pd' is not defined"
     ]
    }
   ],
   "source": [
    "zc = pd.DataFrame(out2.values)\n",
    "zc"
   ]
  },
  {
   "cell_type": "code",
   "execution_count": null,
   "id": "1bcc0b03",
   "metadata": {},
   "outputs": [],
   "source": []
  },
  {
   "cell_type": "code",
   "execution_count": null,
   "id": "3ed8f94c",
   "metadata": {},
   "outputs": [],
   "source": []
  }
 ],
 "metadata": {
  "kernelspec": {
   "display_name": "Python 3",
   "language": "python",
   "name": "python3"
  },
  "language_info": {
   "codemirror_mode": {
    "name": "ipython",
    "version": 3
   },
   "file_extension": ".py",
   "mimetype": "text/x-python",
   "name": "python",
   "nbconvert_exporter": "python",
   "pygments_lexer": "ipython3",
   "version": "3.8.8"
  },
  "toc": {
   "base_numbering": 1,
   "nav_menu": {},
   "number_sections": true,
   "sideBar": true,
   "skip_h1_title": false,
   "title_cell": "Table of Contents",
   "title_sidebar": "Contents",
   "toc_cell": false,
   "toc_position": {},
   "toc_section_display": true,
   "toc_window_display": false
  }
 },
 "nbformat": 4,
 "nbformat_minor": 5
}
