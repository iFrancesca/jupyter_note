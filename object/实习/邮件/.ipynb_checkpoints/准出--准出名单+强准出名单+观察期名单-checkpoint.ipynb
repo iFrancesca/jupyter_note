{
 "cells": [
  {
   "cell_type": "code",
   "execution_count": 3,
   "id": "ff1e9c91",
   "metadata": {},
   "outputs": [],
   "source": [
    "import time\n",
    "import shutil\n",
    "import pandas as pd\n",
    "import numpy as np\n",
    "from datetime import datetime\n",
    "from openpyxl import load_workbook\n",
    "from openpyxl import Workbook\n",
    "from openpyxl.utils.dataframe import dataframe_to_rows\n",
    "\n",
    "from IPython.core.interactiveshell import InteractiveShell \n",
    "InteractiveShell.ast_node_interactivity = \"all\""
   ]
  },
  {
   "cell_type": "code",
   "execution_count": 4,
   "id": "2b89f165",
   "metadata": {
    "scrolled": true
   },
   "outputs": [
    {
     "name": "stdout",
     "output_type": "stream",
     "text": [
      "D:\\code\\jupyter\\邮件\n"
     ]
    },
    {
     "data": {
      "text/plain": [
       "'D:\\\\file\\\\o\\\\队长\\\\周报\\\\准出\\\\12月'"
      ]
     },
     "execution_count": 4,
     "metadata": {},
     "output_type": "execute_result"
    }
   ],
   "source": [
    "import os\n",
    "print(os.getcwd())  #当前路径\n",
    "\n",
    "#更改当前路径\n",
    "os.chdir('D:/file/o/队长/周报/准出/12月/')\n",
    "os.getcwd()"
   ]
  },
  {
   "cell_type": "markdown",
   "id": "ede4a1d5",
   "metadata": {},
   "source": [
    "## 原始数据处理"
   ]
  },
  {
   "cell_type": "markdown",
   "id": "557aa271",
   "metadata": {},
   "source": [
    "|df|name|\n",
    "|-|-|\n",
    "|df|最原始的数据，包括合格与不合格司机|\n",
    "|df2|(不合格+组织化)筛选后的司机|\n",
    "|df_k|不合格快车司机|\n",
    "|df_y|不合格优享司机|\n",
    "|kh_df|不合格司机(包含考核不合格的原因)|\n",
    "|zc|列名为具体的月份|\n",
    "|zc_excel|剔除id之类的信息量不大的数据|"
   ]
  },
  {
   "cell_type": "code",
   "execution_count": 3,
   "id": "c71d71cf",
   "metadata": {},
   "outputs": [
    {
     "name": "stdout",
     "output_type": "stream",
     "text": [
      "data_file_name: 准出原数据12.csv\n"
     ]
    },
    {
     "data": {
      "text/plain": [
       "'准出原数据12.csv'"
      ]
     },
     "execution_count": 3,
     "metadata": {},
     "output_type": "execute_result"
    }
   ],
   "source": [
    "# 准出原数据.csv\n",
    "data_path = input('data_file_name: ')\n",
    "data_path"
   ]
  },
  {
   "cell_type": "code",
   "execution_count": 4,
   "id": "de1bfc6d",
   "metadata": {
    "scrolled": true
   },
   "outputs": [
    {
     "data": {
      "text/plain": [
       "Index(['队长司机ID', '队长姓名', '队长季度初产品线', '是否组织化目标司机', '小队城市ID', '小队城市名', '大区',\n",
       "       '司服经理ID', '司服经理姓名', '小队ID', '小队名称', 'T-1月是否队长', 'T-2月是否队长',\n",
       "       'T-2月高峰期在线时长', 'T-2月完单', 'T-2月司机服务分', 'T-2月司机部落发言天数', 'T-3月月会邀约未参与',\n",
       "       'T-2月月会邀约未参与', 'T-2月队长任务数', 'T-2月队长任务完成数', 'T-1月高峰期在线时长', 'T-1月完单',\n",
       "       'T-1月司机服务分', 'T-1月司机部落发言天数', 'T-2月月会邀约未参与.1', 'T-1月月会邀约未参与',\n",
       "       'T-1月队长任务数', 'T-1月队长任务完成数', '是否不合格队长'],\n",
       "      dtype='object')"
      ]
     },
     "execution_count": 4,
     "metadata": {},
     "output_type": "execute_result"
    },
    {
     "data": {
      "text/plain": [
       "(20211, 30)"
      ]
     },
     "execution_count": 4,
     "metadata": {},
     "output_type": "execute_result"
    }
   ],
   "source": [
    "df = pd.read_csv(data_path, encoding='gbk')\n",
    "# 不更改名字了，否则有名字相同的列\n",
    "# df.rename(columns={'T-2月月会邀约未参与.1': 'T-2月月会邀约未参与'},inplace=True)\n",
    "# 方法二\n",
    "    #raw_columns = ['T-2月月会邀约未参与' if col=='T-2月月会邀约未参与.1' else col for col in raw_columns]\n",
    "\n",
    "df.columns\n",
    "df.shape"
   ]
  },
  {
   "cell_type": "markdown",
   "id": "0d5a78ec",
   "metadata": {},
   "source": [
    "### 筛选不合格司机"
   ]
  },
  {
   "cell_type": "code",
   "execution_count": 5,
   "id": "f3b4d038",
   "metadata": {
    "scrolled": true
   },
   "outputs": [
    {
     "data": {
      "text/plain": [
       "'\\n# sql中跑出了是否合格的队长，不用用python跑了\\ndf_out = df2.query(\\'(T-2月完单 = 0 or T-2月高峰期在线时长=0 or (T-2月司机服务分<110 and 队长季度初产品线=\"快车\") or (T-2月司机服务分<105 and 队长季度初产品线=\"优享\") or T-2月司机部落发言天数<7 or T-3月月会邀约未参与>0 or T-2月月会邀约未参与>0 or T-2月任务完成率<0.2) and                    ()\\')\\n '"
      ]
     },
     "execution_count": 5,
     "metadata": {},
     "output_type": "execute_result"
    }
   ],
   "source": [
    "'''\n",
    "# sql中跑出了是否合格的队长，不用用python跑了\n",
    "df_out = df2.query('(T-2月完单 = 0 or T-2月高峰期在线时长=0 or (T-2月司机服务分<110 and 队长季度初产品线=\"快车\") or (T-2月司机服务分<105 and 队长季度初产品线=\"优享\") or T-2月司机部落发言天数<7 or T-3月月会邀约未参与>0 or T-2月月会邀约未参与>0 or T-2月任务完成率<0.2) and\\\n",
    "                    ()')\n",
    " '''\n"
   ]
  },
  {
   "cell_type": "code",
   "execution_count": 6,
   "id": "06f16ae6",
   "metadata": {},
   "outputs": [
    {
     "data": {
      "text/plain": [
       "Index(['队长司机ID', '队长姓名', '队长季度初产品线', '是否组织化目标司机', '小队城市ID', '小队城市名', '大区',\n",
       "       '司服经理ID', '司服经理姓名', '小队ID', '小队名称', 'T-1月是否队长', 'T-2月是否队长',\n",
       "       'T-2月高峰期在线时长', 'T-2月完单', 'T-2月司机服务分', 'T-2月司机部落发言天数', 'T-3月月会邀约未参与',\n",
       "       'T-2月月会邀约未参与', 'T-2月队长任务数', 'T-2月队长任务完成数', 'T-1月高峰期在线时长', 'T-1月完单',\n",
       "       'T-1月司机服务分', 'T-1月司机部落发言天数', 'T-2月月会邀约未参与.1', 'T-1月月会邀约未参与',\n",
       "       'T-1月队长任务数', 'T-1月队长任务完成数', '是否不合格队长'],\n",
       "      dtype='object')"
      ]
     },
     "execution_count": 6,
     "metadata": {},
     "output_type": "execute_result"
    }
   ],
   "source": [
    "df.columns"
   ]
  },
  {
   "cell_type": "code",
   "execution_count": 7,
   "id": "04fc3029",
   "metadata": {},
   "outputs": [
    {
     "data": {
      "text/plain": [
       "array([1, '非组织化目标司机'], dtype=object)"
      ]
     },
     "execution_count": 7,
     "metadata": {},
     "output_type": "execute_result"
    },
    {
     "data": {
      "text/plain": [
       "(617, 30)"
      ]
     },
     "execution_count": 7,
     "metadata": {},
     "output_type": "execute_result"
    }
   ],
   "source": [
    "# 剔除战区+停服城市\n",
    "city = ['上海','南京','扬州','莆田','乌鲁木齐']\n",
    "# 剔除不合格队长 + 合格但不是组织化队长\n",
    "df2 = df.copy()\n",
    "#df2['是否组织化目标司机'] = df2['是否组织化目标司机'].astype('object')\n",
    "df2['是否组织化目标司机'] = df2['是否组织化目标司机'].apply(lambda x: '非组织化目标司机' if x==0 else x)\n",
    "df2['是否组织化目标司机'].unique()\n",
    "\n",
    "df2 = df2.query(\" 小队城市名 not in ['上海市','南京市','扬州市','莆田市','乌鲁木齐市'] \")\n",
    "df2.query(\"(是否不合格队长 == 1) or (是否不合格队长 == 0 and 是否组织化目标司机 == '非组织化目标司机') \",inplace=True)\n",
    "\n",
    "# 剔除出新队长\n",
    "df2 = df2[ (df2['T-1月是否队长'] == 1) & (df2['T-2月是否队长'] == 1) ]\n",
    "\n",
    "df2.shape\n"
   ]
  },
  {
   "cell_type": "code",
   "execution_count": 8,
   "id": "0ac45c41",
   "metadata": {},
   "outputs": [
    {
     "data": {
      "text/plain": [
       "\"\\ndf3 = df2[ (df2['T-1月是否队长'] == 1) & (df2['T-2月是否队长'] == 1) ]\\ndf3.shape\\n\\ndf4 = pd.concat([df2, df3, df3],axis=0)\\ndf4.drop_duplicates('队长司机ID', keep=False, inplace=True)\\ndf4.shape\\n\\nwriter = pd.ExcelWriter('12月不合格_新队长.xlsx')\\ndf4.to_excel(writer,'新队长',index=False)\\nwriter.save()\\n\""
      ]
     },
     "execution_count": 8,
     "metadata": {},
     "output_type": "execute_result"
    }
   ],
   "source": [
    "#写入Excel&保存\n",
    "# 新队长\n",
    "'''\n",
    "df3 = df2[ (df2['T-1月是否队长'] == 1) & (df2['T-2月是否队长'] == 1) ]\n",
    "df3.shape\n",
    "\n",
    "df4 = pd.concat([df2, df3, df3],axis=0)\n",
    "df4.drop_duplicates('队长司机ID', keep=False, inplace=True)\n",
    "df4.shape\n",
    "\n",
    "writer = pd.ExcelWriter('12月不合格_新队长.xlsx')\n",
    "df4.to_excel(writer,'新队长',index=False)\n",
    "writer.save()\n",
    "'''"
   ]
  },
  {
   "cell_type": "code",
   "execution_count": 9,
   "id": "60c94bce",
   "metadata": {},
   "outputs": [
    {
     "data": {
      "text/plain": [
       "\"\\nfor a,b  in zip(df2['是否组织化目标司机'], df2['是否不合格队长']):\\n    print(a, b)\\n    \""
      ]
     },
     "execution_count": 9,
     "metadata": {},
     "output_type": "execute_result"
    }
   ],
   "source": [
    "'''\n",
    "for a,b  in zip(df2['是否组织化目标司机'], df2['是否不合格队长']):\n",
    "    print(a, b)\n",
    "    '''"
   ]
  },
  {
   "cell_type": "markdown",
   "id": "a38f68f9",
   "metadata": {},
   "source": [
    "### 划分业务线：优享、快车"
   ]
  },
  {
   "cell_type": "code",
   "execution_count": 10,
   "id": "b96dc216",
   "metadata": {},
   "outputs": [
    {
     "data": {
      "text/plain": [
       "array(['快车', '优享'], dtype=object)"
      ]
     },
     "execution_count": 10,
     "metadata": {},
     "output_type": "execute_result"
    }
   ],
   "source": [
    "# 业务线：快车、新优选、D1归类于快车，优享、认证优享归类于优享\n",
    "df2['队长季度初产品线2'] = df2['队长季度初产品线'].apply(lambda x: '优享' if x in['优享','认证优享'] else '快车')\n",
    "df2['队长季度初产品线2'].unique()"
   ]
  },
  {
   "cell_type": "markdown",
   "id": "faf31428",
   "metadata": {},
   "source": [
    "### 考核--计算任务完成率"
   ]
  },
  {
   "cell_type": "code",
   "execution_count": 11,
   "id": "e37f98e4",
   "metadata": {
    "scrolled": true
   },
   "outputs": [
    {
     "data": {
      "text/plain": [
       "'\\nd_columns = df.columns[[8,9,16,17]]\\nd_columns\\n\\ndf.drop(d_columns, axis=1)\\ndf.head()\\n'"
      ]
     },
     "execution_count": 11,
     "metadata": {},
     "output_type": "execute_result"
    }
   ],
   "source": [
    "def wc_rate(wc,rw):\n",
    "    if rw == 0:\n",
    "        return 1\n",
    "    else:\n",
    "        return wc/rw\n",
    "    \n",
    "df2['T-2月任务完成率'] = df2[[ 'T-2月队长任务数','T-2月队长任务完成数']].apply(lambda x: wc_rate(x['T-2月队长任务完成数'],x['T-2月队长任务数']), axis=1)\n",
    "df2['T-1月任务完成率'] = df2[[ 'T-1月队长任务数','T-1月队长任务完成数']].apply(lambda x: wc_rate(x['T-1月队长任务完成数'],x['T-1月队长任务数']), axis=1)\n",
    "\n",
    "# 不剔除任务数和完成任务数了\n",
    "'''\n",
    "d_columns = df.columns[[8,9,16,17]]\n",
    "d_columns\n",
    "\n",
    "df.drop(d_columns, axis=1)\n",
    "df.head()\n",
    "'''    "
   ]
  },
  {
   "cell_type": "code",
   "execution_count": 12,
   "id": "96a89bd2",
   "metadata": {},
   "outputs": [],
   "source": [
    "writer = pd.ExcelWriter('12月准出名单.xlsx')\n",
    "df2.to_excel(writer)\n",
    "writer.save()"
   ]
  },
  {
   "cell_type": "markdown",
   "id": "886e4408",
   "metadata": {},
   "source": [
    "### 考核原因汇总"
   ]
  },
  {
   "cell_type": "code",
   "execution_count": 13,
   "id": "70e9574c",
   "metadata": {},
   "outputs": [
    {
     "data": {
      "text/plain": [
       "array(['快车', '优享'], dtype=object)"
      ]
     },
     "execution_count": 13,
     "metadata": {},
     "output_type": "execute_result"
    },
    {
     "data": {
      "text/plain": [
       "(617, 33)"
      ]
     },
     "execution_count": 13,
     "metadata": {},
     "output_type": "execute_result"
    },
    {
     "data": {
      "text/plain": [
       "(23, 33)"
      ]
     },
     "execution_count": 13,
     "metadata": {},
     "output_type": "execute_result"
    },
    {
     "data": {
      "text/plain": [
       "(594, 33)"
      ]
     },
     "execution_count": 13,
     "metadata": {},
     "output_type": "execute_result"
    }
   ],
   "source": [
    "df2.队长季度初产品线2.unique()\n",
    "df2.shape\n",
    "\n",
    "df_y = df2.query('队长季度初产品线2 == \"优享\" ')  #优享\n",
    "df_k =  df2.query('队长季度初产品线2 == \"快车\" ')#快车\n",
    "df_y.shape\n",
    "df_k.shape"
   ]
  },
  {
   "cell_type": "code",
   "execution_count": 14,
   "id": "34f5c1a8",
   "metadata": {
    "scrolled": true
   },
   "outputs": [
    {
     "data": {
      "text/plain": [
       "['T-1月是否队长',\n",
       " 'T-2月是否队长',\n",
       " 'T-2月高峰期在线时长',\n",
       " 'T-2月完单',\n",
       " 'T-2月司机服务分',\n",
       " 'T-2月司机部落发言天数',\n",
       " 'T-3月月会邀约未参与',\n",
       " 'T-2月月会邀约未参与',\n",
       " 'T-1月高峰期在线时长',\n",
       " 'T-1月完单',\n",
       " 'T-1月司机服务分',\n",
       " 'T-1月司机部落发言天数',\n",
       " 'T-2月月会邀约未参与.1',\n",
       " 'T-1月月会邀约未参与',\n",
       " 'T-2月任务完成率',\n",
       " 'T-1月任务完成率']"
      ]
     },
     "execution_count": 14,
     "metadata": {},
     "output_type": "execute_result"
    },
    {
     "data": {
      "text/plain": [
       "['T-1月是否队长_check',\n",
       " 'T-2月是否队长_check',\n",
       " 'T-2月高峰期在线时长_check',\n",
       " 'T-2月完单_check',\n",
       " 'T-2月司机服务分_check',\n",
       " 'T-2月司机部落发言天数_check',\n",
       " 'T-3月月会邀约未参与_check',\n",
       " 'T-2月月会邀约未参与_check',\n",
       " 'T-1月高峰期在线时长_check',\n",
       " 'T-1月完单_check',\n",
       " 'T-1月司机服务分_check',\n",
       " 'T-1月司机部落发言天数_check',\n",
       " 'T-2月月会邀约未参与.1_check',\n",
       " 'T-1月月会邀约未参与_check',\n",
       " 'T-2月任务完成率_check',\n",
       " 'T-1月任务完成率_check']"
      ]
     },
     "execution_count": 14,
     "metadata": {},
     "output_type": "execute_result"
    },
    {
     "data": {
      "text/plain": [
       "\"\\ns2 = df2.iloc[:,2:].apply(lambda x:x.add_suffix('_qualified'),axis=1)\\ndf3 = pd.concat([df2.iloc[:,0], s], axis=1)\\ndf3.head(2)\\n\""
      ]
     },
     "execution_count": 14,
     "metadata": {},
     "output_type": "execute_result"
    }
   ],
   "source": [
    "# 考核的原始列\n",
    "raw_columns = [col for col in df2.columns if col.startswith('T')]\n",
    "del_col = [ 'T-1月队长任务数','T-1月队长任务完成数', 'T-2月队长任务数','T-2月队长任务完成数']\n",
    "for col in del_col:\n",
    "    raw_columns.remove(col)#重复元素\n",
    "\n",
    "check_columns = list(map(lambda x: x + '_check',raw_columns))\n",
    "raw_columns\n",
    "check_columns\n",
    "'''\n",
    "s2 = df2.iloc[:,2:].apply(lambda x:x.add_suffix('_qualified'),axis=1)\n",
    "df3 = pd.concat([df2.iloc[:,0], s], axis=1)\n",
    "df3.head(2)\n",
    "'''"
   ]
  },
  {
   "cell_type": "code",
   "execution_count": 15,
   "id": "8a207eaf",
   "metadata": {},
   "outputs": [
    {
     "data": {
      "text/plain": [
       "\"\\n    elif column == '':\\n        return '任务完成率低于20%' if value < 0.2 else ''\\n\""
      ]
     },
     "execution_count": 15,
     "metadata": {},
     "output_type": "execute_result"
    }
   ],
   "source": [
    "# 生成check_columns,依次写入raw_columns不合格的情况\n",
    "\n",
    "# str.find(target)返回的是target出现在str的位置索引\n",
    "def check_value(value, column, line):\n",
    "    if '月完单' in column:\n",
    "        return '完单量为0,' if value == 0 else ''\n",
    "    \n",
    "    elif '月高峰期在线时长' in column:\n",
    "        return '无高峰出车,' if value == 0 else ''\n",
    "    \n",
    "    elif '月司机部落发言天数' in column:\n",
    "        return '司机部落发言天数小于7天,' if value < 7 else ''\n",
    "    \n",
    "    elif '月月会邀约未参与' in column:\n",
    "        return '月会缺席,' if value == 1.0  else ''\n",
    "    \n",
    "    elif '月任务完成率' in column:\n",
    "        return '任务完成率低于20%,' if value < 0.2  else ''\n",
    "    \n",
    "    elif '月司机服务分' in column and line == '快车':\n",
    "        return '服务分不达标,' if value < 110 else ''\n",
    "    \n",
    "    elif '月司机服务分' in column and line == '优享':\n",
    "        return '服务分不达标,' if value < 105 else ''\n",
    "    else:\n",
    "        return '!!'\n",
    "    \n",
    "'''\n",
    "    elif column == '':\n",
    "        return '任务完成率低于20%' if value < 0.2 else ''\n",
    "'''\n"
   ]
  },
  {
   "cell_type": "code",
   "execution_count": 16,
   "id": "8aa693b1",
   "metadata": {},
   "outputs": [
    {
     "name": "stderr",
     "output_type": "stream",
     "text": [
      "<ipython-input-16-55a162ce39ee>:6: SettingWithCopyWarning: \n",
      "A value is trying to be set on a copy of a slice from a DataFrame.\n",
      "Try using .loc[row_indexer,col_indexer] = value instead\n",
      "\n",
      "See the caveats in the documentation: https://pandas.pydata.org/pandas-docs/stable/user_guide/indexing.html#returning-a-view-versus-a-copy\n",
      "  df_k[check_columns[i]] = df_k[raw_columns[i]].apply(check_value,column=raw_columns[i],line='快车')\n",
      "<ipython-input-16-55a162ce39ee>:7: SettingWithCopyWarning: \n",
      "A value is trying to be set on a copy of a slice from a DataFrame.\n",
      "Try using .loc[row_indexer,col_indexer] = value instead\n",
      "\n",
      "See the caveats in the documentation: https://pandas.pydata.org/pandas-docs/stable/user_guide/indexing.html#returning-a-view-versus-a-copy\n",
      "  df_y[check_columns[i]] = df_y[raw_columns[i]].apply(check_value,args = (raw_columns[i],'优享'))\n"
     ]
    }
   ],
   "source": [
    "# pandas的apply使用的函数传入多个参数\n",
    "#使用args参数时，默认函数的第一个参数为apply作用的列的值(不用再args中包括).\n",
    "    # 但是args传入的需要是元组，所以当func参数为两个时，args=(x,)\n",
    "\n",
    "for i in range(len(raw_columns)):\n",
    "    df_k[check_columns[i]] = df_k[raw_columns[i]].apply(check_value,column=raw_columns[i],line='快车')\n",
    "    df_y[check_columns[i]] = df_y[raw_columns[i]].apply(check_value,args = (raw_columns[i],'优享'))\n",
    "    #The truth value of a Series is ambiguous. Use a.empty, a.bool(), a.item(), a.any() or a.all(). --reason:->  有两个列重名 --solve:-->  不让两个列重名"
   ]
  },
  {
   "cell_type": "code",
   "execution_count": 17,
   "id": "4531f861",
   "metadata": {},
   "outputs": [
    {
     "data": {
      "text/plain": [
       "(617, 49)"
      ]
     },
     "execution_count": 17,
     "metadata": {},
     "output_type": "execute_result"
    },
    {
     "data": {
      "text/html": [
       "<div>\n",
       "<style scoped>\n",
       "    .dataframe tbody tr th:only-of-type {\n",
       "        vertical-align: middle;\n",
       "    }\n",
       "\n",
       "    .dataframe tbody tr th {\n",
       "        vertical-align: top;\n",
       "    }\n",
       "\n",
       "    .dataframe thead th {\n",
       "        text-align: right;\n",
       "    }\n",
       "</style>\n",
       "<table border=\"1\" class=\"dataframe\">\n",
       "  <thead>\n",
       "    <tr style=\"text-align: right;\">\n",
       "      <th></th>\n",
       "      <th>队长司机ID</th>\n",
       "      <th>队长姓名</th>\n",
       "      <th>队长季度初产品线</th>\n",
       "      <th>是否组织化目标司机</th>\n",
       "      <th>小队城市ID</th>\n",
       "      <th>小队城市名</th>\n",
       "      <th>大区</th>\n",
       "      <th>司服经理ID</th>\n",
       "      <th>司服经理姓名</th>\n",
       "      <th>小队ID</th>\n",
       "      <th>...</th>\n",
       "      <th>T-3月月会邀约未参与_check</th>\n",
       "      <th>T-2月月会邀约未参与_check</th>\n",
       "      <th>T-1月高峰期在线时长_check</th>\n",
       "      <th>T-1月完单_check</th>\n",
       "      <th>T-1月司机服务分_check</th>\n",
       "      <th>T-1月司机部落发言天数_check</th>\n",
       "      <th>T-2月月会邀约未参与.1_check</th>\n",
       "      <th>T-1月月会邀约未参与_check</th>\n",
       "      <th>T-2月任务完成率_check</th>\n",
       "      <th>T-1月任务完成率_check</th>\n",
       "    </tr>\n",
       "  </thead>\n",
       "  <tbody>\n",
       "    <tr>\n",
       "      <th>34</th>\n",
       "      <td>565388812098937</td>\n",
       "      <td>葛勇</td>\n",
       "      <td>快车</td>\n",
       "      <td>1</td>\n",
       "      <td>23</td>\n",
       "      <td>苏州市</td>\n",
       "      <td>沪苏区域</td>\n",
       "      <td>889283852</td>\n",
       "      <td>魏文泽</td>\n",
       "      <td>517214</td>\n",
       "      <td>...</td>\n",
       "      <td></td>\n",
       "      <td></td>\n",
       "      <td></td>\n",
       "      <td></td>\n",
       "      <td></td>\n",
       "      <td>司机部落发言天数小于7天,</td>\n",
       "      <td></td>\n",
       "      <td></td>\n",
       "      <td></td>\n",
       "      <td></td>\n",
       "    </tr>\n",
       "    <tr>\n",
       "      <th>47</th>\n",
       "      <td>580542261178609</td>\n",
       "      <td>袁建清</td>\n",
       "      <td>快车</td>\n",
       "      <td>1</td>\n",
       "      <td>23</td>\n",
       "      <td>苏州市</td>\n",
       "      <td>沪苏区域</td>\n",
       "      <td>894011694</td>\n",
       "      <td>殷辉昕</td>\n",
       "      <td>453244</td>\n",
       "      <td>...</td>\n",
       "      <td></td>\n",
       "      <td></td>\n",
       "      <td></td>\n",
       "      <td></td>\n",
       "      <td>服务分不达标,</td>\n",
       "      <td></td>\n",
       "      <td></td>\n",
       "      <td>月会缺席,</td>\n",
       "      <td></td>\n",
       "      <td></td>\n",
       "    </tr>\n",
       "    <tr>\n",
       "      <th>60</th>\n",
       "      <td>580542162168502</td>\n",
       "      <td>毛朋</td>\n",
       "      <td>快车</td>\n",
       "      <td>1</td>\n",
       "      <td>23</td>\n",
       "      <td>苏州市</td>\n",
       "      <td>沪苏区域</td>\n",
       "      <td>899957871</td>\n",
       "      <td>张蕙泽</td>\n",
       "      <td>408643</td>\n",
       "      <td>...</td>\n",
       "      <td></td>\n",
       "      <td></td>\n",
       "      <td></td>\n",
       "      <td></td>\n",
       "      <td>服务分不达标,</td>\n",
       "      <td></td>\n",
       "      <td></td>\n",
       "      <td></td>\n",
       "      <td></td>\n",
       "      <td></td>\n",
       "    </tr>\n",
       "    <tr>\n",
       "      <th>66</th>\n",
       "      <td>563429282349056</td>\n",
       "      <td>祝天良</td>\n",
       "      <td>快车</td>\n",
       "      <td>1</td>\n",
       "      <td>23</td>\n",
       "      <td>苏州市</td>\n",
       "      <td>沪苏区域</td>\n",
       "      <td>893829582</td>\n",
       "      <td>李萌</td>\n",
       "      <td>443276</td>\n",
       "      <td>...</td>\n",
       "      <td></td>\n",
       "      <td></td>\n",
       "      <td></td>\n",
       "      <td></td>\n",
       "      <td>服务分不达标,</td>\n",
       "      <td>司机部落发言天数小于7天,</td>\n",
       "      <td></td>\n",
       "      <td></td>\n",
       "      <td></td>\n",
       "      <td></td>\n",
       "    </tr>\n",
       "    <tr>\n",
       "      <th>129</th>\n",
       "      <td>563639311597568</td>\n",
       "      <td>刘剑辉</td>\n",
       "      <td>快车</td>\n",
       "      <td>1</td>\n",
       "      <td>3</td>\n",
       "      <td>广州市</td>\n",
       "      <td>广东区域</td>\n",
       "      <td>898294317</td>\n",
       "      <td>胡涛涛</td>\n",
       "      <td>505314</td>\n",
       "      <td>...</td>\n",
       "      <td></td>\n",
       "      <td></td>\n",
       "      <td></td>\n",
       "      <td></td>\n",
       "      <td>服务分不达标,</td>\n",
       "      <td>司机部落发言天数小于7天,</td>\n",
       "      <td></td>\n",
       "      <td></td>\n",
       "      <td></td>\n",
       "      <td></td>\n",
       "    </tr>\n",
       "    <tr>\n",
       "      <th>166</th>\n",
       "      <td>567950021843099</td>\n",
       "      <td>黄杰友</td>\n",
       "      <td>快车</td>\n",
       "      <td>1</td>\n",
       "      <td>21</td>\n",
       "      <td>东莞市</td>\n",
       "      <td>广东区域</td>\n",
       "      <td>891545708</td>\n",
       "      <td>戴文祥</td>\n",
       "      <td>518634</td>\n",
       "      <td>...</td>\n",
       "      <td>月会缺席,</td>\n",
       "      <td>月会缺席,</td>\n",
       "      <td></td>\n",
       "      <td></td>\n",
       "      <td></td>\n",
       "      <td></td>\n",
       "      <td>月会缺席,</td>\n",
       "      <td>月会缺席,</td>\n",
       "      <td></td>\n",
       "      <td></td>\n",
       "    </tr>\n",
       "    <tr>\n",
       "      <th>207</th>\n",
       "      <td>565220284501464</td>\n",
       "      <td>林庆华</td>\n",
       "      <td>新优选</td>\n",
       "      <td>1</td>\n",
       "      <td>85</td>\n",
       "      <td>温州市</td>\n",
       "      <td>华东区域</td>\n",
       "      <td>895492732</td>\n",
       "      <td>徐良</td>\n",
       "      <td>446490</td>\n",
       "      <td>...</td>\n",
       "      <td></td>\n",
       "      <td></td>\n",
       "      <td></td>\n",
       "      <td>完单量为0,</td>\n",
       "      <td></td>\n",
       "      <td></td>\n",
       "      <td></td>\n",
       "      <td></td>\n",
       "      <td></td>\n",
       "      <td></td>\n",
       "    </tr>\n",
       "    <tr>\n",
       "      <th>224</th>\n",
       "      <td>563151495176194</td>\n",
       "      <td>李彭</td>\n",
       "      <td>快车</td>\n",
       "      <td>1</td>\n",
       "      <td>3</td>\n",
       "      <td>广州市</td>\n",
       "      <td>广东区域</td>\n",
       "      <td>194822</td>\n",
       "      <td>蒋文健</td>\n",
       "      <td>506536</td>\n",
       "      <td>...</td>\n",
       "      <td></td>\n",
       "      <td></td>\n",
       "      <td></td>\n",
       "      <td></td>\n",
       "      <td>服务分不达标,</td>\n",
       "      <td></td>\n",
       "      <td></td>\n",
       "      <td></td>\n",
       "      <td></td>\n",
       "      <td></td>\n",
       "    </tr>\n",
       "    <tr>\n",
       "      <th>233</th>\n",
       "      <td>563307031035905</td>\n",
       "      <td>陈锦朋</td>\n",
       "      <td>快车</td>\n",
       "      <td>1</td>\n",
       "      <td>2</td>\n",
       "      <td>深圳市</td>\n",
       "      <td>广东区域</td>\n",
       "      <td>894836160</td>\n",
       "      <td>何东</td>\n",
       "      <td>390499</td>\n",
       "      <td>...</td>\n",
       "      <td></td>\n",
       "      <td></td>\n",
       "      <td></td>\n",
       "      <td></td>\n",
       "      <td>服务分不达标,</td>\n",
       "      <td></td>\n",
       "      <td></td>\n",
       "      <td></td>\n",
       "      <td></td>\n",
       "      <td></td>\n",
       "    </tr>\n",
       "    <tr>\n",
       "      <th>346</th>\n",
       "      <td>566067676119115</td>\n",
       "      <td>姜学昊</td>\n",
       "      <td>快车</td>\n",
       "      <td>1</td>\n",
       "      <td>7</td>\n",
       "      <td>天津市</td>\n",
       "      <td>鲁津冀区域</td>\n",
       "      <td>532866</td>\n",
       "      <td>王维</td>\n",
       "      <td>320110</td>\n",
       "      <td>...</td>\n",
       "      <td></td>\n",
       "      <td></td>\n",
       "      <td></td>\n",
       "      <td></td>\n",
       "      <td>服务分不达标,</td>\n",
       "      <td></td>\n",
       "      <td></td>\n",
       "      <td></td>\n",
       "      <td></td>\n",
       "      <td></td>\n",
       "    </tr>\n",
       "  </tbody>\n",
       "</table>\n",
       "<p>10 rows × 49 columns</p>\n",
       "</div>"
      ],
      "text/plain": [
       "              队长司机ID 队长姓名 队长季度初产品线 是否组织化目标司机  小队城市ID 小队城市名     大区     司服经理ID  \\\n",
       "34   565388812098937   葛勇       快车         1      23   苏州市   沪苏区域  889283852   \n",
       "47   580542261178609  袁建清       快车         1      23   苏州市   沪苏区域  894011694   \n",
       "60   580542162168502   毛朋       快车         1      23   苏州市   沪苏区域  899957871   \n",
       "66   563429282349056  祝天良       快车         1      23   苏州市   沪苏区域  893829582   \n",
       "129  563639311597568  刘剑辉       快车         1       3   广州市   广东区域  898294317   \n",
       "166  567950021843099  黄杰友       快车         1      21   东莞市   广东区域  891545708   \n",
       "207  565220284501464  林庆华      新优选         1      85   温州市   华东区域  895492732   \n",
       "224  563151495176194   李彭       快车         1       3   广州市   广东区域     194822   \n",
       "233  563307031035905  陈锦朋       快车         1       2   深圳市   广东区域  894836160   \n",
       "346  566067676119115  姜学昊       快车         1       7   天津市  鲁津冀区域     532866   \n",
       "\n",
       "    司服经理姓名    小队ID  ... T-3月月会邀约未参与_check  T-2月月会邀约未参与_check  \\\n",
       "34     魏文泽  517214  ...                                        \n",
       "47     殷辉昕  453244  ...                                        \n",
       "60     张蕙泽  408643  ...                                        \n",
       "66      李萌  443276  ...                                        \n",
       "129    胡涛涛  505314  ...                                        \n",
       "166    戴文祥  518634  ...             月会缺席,              月会缺席,   \n",
       "207     徐良  446490  ...                                        \n",
       "224    蒋文健  506536  ...                                        \n",
       "233     何东  390499  ...                                        \n",
       "346     王维  320110  ...                                        \n",
       "\n",
       "     T-1月高峰期在线时长_check  T-1月完单_check  T-1月司机服务分_check  T-1月司机部落发言天数_check  \\\n",
       "34                                                          司机部落发言天数小于7天,   \n",
       "47                                            服务分不达标,                       \n",
       "60                                            服务分不达标,                       \n",
       "66                                            服务分不达标,       司机部落发言天数小于7天,   \n",
       "129                                           服务分不达标,       司机部落发言天数小于7天,   \n",
       "166                                                                         \n",
       "207                           完单量为0,                                        \n",
       "224                                           服务分不达标,                       \n",
       "233                                           服务分不达标,                       \n",
       "346                                           服务分不达标,                       \n",
       "\n",
       "     T-2月月会邀约未参与.1_check  T-1月月会邀约未参与_check  T-2月任务完成率_check  T-1月任务完成率_check  \n",
       "34                                                                             \n",
       "47                                    月会缺席,                                    \n",
       "60                                                                             \n",
       "66                                                                             \n",
       "129                                                                            \n",
       "166                月会缺席,              月会缺席,                                    \n",
       "207                                                                            \n",
       "224                                                                            \n",
       "233                                                                            \n",
       "346                                                                            \n",
       "\n",
       "[10 rows x 49 columns]"
      ]
     },
     "execution_count": 17,
     "metadata": {},
     "output_type": "execute_result"
    }
   ],
   "source": [
    "# 生成包含考核原因的DataFrame\n",
    "kh_df = pd.concat([df_k,df_y],axis=0)\n",
    "kh_df.shape\n",
    "kh_df.head(10)"
   ]
  },
  {
   "cell_type": "code",
   "execution_count": 18,
   "id": "962ba319",
   "metadata": {
    "scrolled": true
   },
   "outputs": [
    {
     "data": {
      "text/html": [
       "<div>\n",
       "<style scoped>\n",
       "    .dataframe tbody tr th:only-of-type {\n",
       "        vertical-align: middle;\n",
       "    }\n",
       "\n",
       "    .dataframe tbody tr th {\n",
       "        vertical-align: top;\n",
       "    }\n",
       "\n",
       "    .dataframe thead th {\n",
       "        text-align: right;\n",
       "    }\n",
       "</style>\n",
       "<table border=\"1\" class=\"dataframe\">\n",
       "  <thead>\n",
       "    <tr style=\"text-align: right;\">\n",
       "      <th></th>\n",
       "      <th>队长司机ID</th>\n",
       "      <th>队长姓名</th>\n",
       "      <th>队长季度初产品线</th>\n",
       "      <th>是否组织化目标司机</th>\n",
       "      <th>小队城市ID</th>\n",
       "      <th>小队城市名</th>\n",
       "      <th>大区</th>\n",
       "      <th>司服经理ID</th>\n",
       "      <th>司服经理姓名</th>\n",
       "      <th>小队ID</th>\n",
       "      <th>...</th>\n",
       "      <th>T-1月高峰期在线时长_check</th>\n",
       "      <th>T-1月完单_check</th>\n",
       "      <th>T-1月司机服务分_check</th>\n",
       "      <th>T-1月司机部落发言天数_check</th>\n",
       "      <th>T-2月月会邀约未参与.1_check</th>\n",
       "      <th>T-1月月会邀约未参与_check</th>\n",
       "      <th>T-2月任务完成率_check</th>\n",
       "      <th>T-1月任务完成率_check</th>\n",
       "      <th>T-2月准出原因汇总</th>\n",
       "      <th>T-1月准出原因汇总</th>\n",
       "    </tr>\n",
       "  </thead>\n",
       "  <tbody>\n",
       "    <tr>\n",
       "      <th>34</th>\n",
       "      <td>565388812098937</td>\n",
       "      <td>葛勇</td>\n",
       "      <td>快车</td>\n",
       "      <td>1</td>\n",
       "      <td>23</td>\n",
       "      <td>苏州市</td>\n",
       "      <td>沪苏区域</td>\n",
       "      <td>889283852</td>\n",
       "      <td>魏文泽</td>\n",
       "      <td>517214</td>\n",
       "      <td>...</td>\n",
       "      <td></td>\n",
       "      <td></td>\n",
       "      <td></td>\n",
       "      <td>司机部落发言天数小于7天,</td>\n",
       "      <td></td>\n",
       "      <td></td>\n",
       "      <td></td>\n",
       "      <td></td>\n",
       "      <td>司机部落发言天数小于7天</td>\n",
       "      <td>司机部落发言天数小于7天</td>\n",
       "    </tr>\n",
       "    <tr>\n",
       "      <th>47</th>\n",
       "      <td>580542261178609</td>\n",
       "      <td>袁建清</td>\n",
       "      <td>快车</td>\n",
       "      <td>1</td>\n",
       "      <td>23</td>\n",
       "      <td>苏州市</td>\n",
       "      <td>沪苏区域</td>\n",
       "      <td>894011694</td>\n",
       "      <td>殷辉昕</td>\n",
       "      <td>453244</td>\n",
       "      <td>...</td>\n",
       "      <td></td>\n",
       "      <td></td>\n",
       "      <td>服务分不达标,</td>\n",
       "      <td></td>\n",
       "      <td></td>\n",
       "      <td>月会缺席,</td>\n",
       "      <td></td>\n",
       "      <td></td>\n",
       "      <td>司机部落发言天数小于7天</td>\n",
       "      <td>服务分不达标,月会缺席</td>\n",
       "    </tr>\n",
       "  </tbody>\n",
       "</table>\n",
       "<p>2 rows × 51 columns</p>\n",
       "</div>"
      ],
      "text/plain": [
       "             队长司机ID 队长姓名 队长季度初产品线 是否组织化目标司机  小队城市ID 小队城市名    大区     司服经理ID  \\\n",
       "34  565388812098937   葛勇       快车         1      23   苏州市  沪苏区域  889283852   \n",
       "47  580542261178609  袁建清       快车         1      23   苏州市  沪苏区域  894011694   \n",
       "\n",
       "   司服经理姓名    小队ID  ... T-1月高峰期在线时长_check  T-1月完单_check  T-1月司机服务分_check  \\\n",
       "34    魏文泽  517214  ...                                                    \n",
       "47    殷辉昕  453244  ...                                          服务分不达标,   \n",
       "\n",
       "    T-1月司机部落发言天数_check  T-2月月会邀约未参与.1_check  T-1月月会邀约未参与_check  \\\n",
       "34       司机部落发言天数小于7天,                                           \n",
       "47                                                       月会缺席,   \n",
       "\n",
       "    T-2月任务完成率_check  T-1月任务完成率_check    T-2月准出原因汇总    T-1月准出原因汇总  \n",
       "34                                    司机部落发言天数小于7天  司机部落发言天数小于7天  \n",
       "47                                    司机部落发言天数小于7天   服务分不达标,月会缺席  \n",
       "\n",
       "[2 rows x 51 columns]"
      ]
     },
     "execution_count": 18,
     "metadata": {},
     "output_type": "execute_result"
    }
   ],
   "source": [
    "# 将每行的多列内容汇总到一起\n",
    "# 调换 if 和 for的顺序则报错 --> 当没有指定else的时候，if放在for后面？\n",
    "# reason_t2 = [col for col in check_columns if col[:3] in ['T-2','T-3']]\n",
    "reason_t1 = ['T-1月完单_check','T-1月司机服务分_check','T-1月司机部落发言天数_check', 'T-2月月会邀约未参与_check','T-1月月会邀约未参与_check','T-1月任务完成率_check']\n",
    "reason_t2 = ['T-2月完单_check','T-2月司机服务分_check','T-2月司机部落发言天数_check','T-3月月会邀约未参与_check','T-2月月会邀约未参与_check','T-2月任务完成率_check']\n",
    "# 没有包括高峰在线时长\n",
    "\n",
    "reason_t2_df = kh_df[reason_t2]\n",
    "reason_t1_df = kh_df[reason_t1]\n",
    "kh_df['T-2月准出原因汇总'] = kh_df['T-1月高峰期在线时长_check'].str.cat(reason_t2_df)\n",
    "kh_df['T-1月准出原因汇总'] = kh_df['T-1月高峰期在线时长_check'].str.cat(reason_t1_df)\n",
    "kh_df[['T-2月准出原因汇总','T-1月准出原因汇总']] = kh_df[['T-2月准出原因汇总','T-1月准出原因汇总']].applymap(lambda x: x.strip(','))  #去掉字符串末尾的','\n",
    "kh_df.head(2)\n",
    "# applymap作用在元素上,apply作用在列上"
   ]
  },
  {
   "cell_type": "markdown",
   "id": "9c532d2a",
   "metadata": {},
   "source": [
    "## 写入excel"
   ]
  },
  {
   "cell_type": "markdown",
   "id": "78fffcce",
   "metadata": {},
   "source": [
    "### 组织行列名"
   ]
  },
  {
   "cell_type": "code",
   "execution_count": 19,
   "id": "090ef80a",
   "metadata": {},
   "outputs": [
    {
     "name": "stdout",
     "output_type": "stream",
     "text": [
      "input this month: 12\n"
     ]
    }
   ],
   "source": [
    "T = eval(input('input this month: '))"
   ]
  },
  {
   "cell_type": "code",
   "execution_count": 20,
   "id": "61f11615",
   "metadata": {},
   "outputs": [
    {
     "data": {
      "text/plain": [
       "Index(['队长司机ID', '队长姓名', '队长季度初产品线', '是否组织化目标司机', '小队城市ID', '小队城市名', '大区',\n",
       "       '司服经理ID', '司服经理姓名', '小队ID', '小队名称', '11月是否队长', '10月是否队长', '10月高峰期在线时长',\n",
       "       '10月完单', '10月司机服务分', '10月司机部落发言天数', '9月月会邀约未参与', '10月月会邀约未参与',\n",
       "       '10月队长任务数', '10月队长任务完成数', '11月高峰期在线时长', '11月完单', '11月司机服务分',\n",
       "       '11月司机部落发言天数', '10月月会邀约未参与.1', '11月月会邀约未参与', '11月队长任务数', '11月队长任务完成数',\n",
       "       '是否不合格队长', '队长季度初产品线2', '10月任务完成率', '11月任务完成率', '11月是否队长_check',\n",
       "       '10月是否队长_check', '10月高峰期在线时长_check', '10月完单_check', '10月司机服务分_check',\n",
       "       '10月司机部落发言天数_check', '9月月会邀约未参与_check', '10月月会邀约未参与_check',\n",
       "       '11月高峰期在线时长_check', '11月完单_check', '11月司机服务分_check',\n",
       "       '11月司机部落发言天数_check', '10月月会邀约未参与.1_check', '11月月会邀约未参与_check',\n",
       "       '10月任务完成率_check', '11月任务完成率_check', '10月准出原因汇总', '11月准出原因汇总'],\n",
       "      dtype='object')"
      ]
     },
     "execution_count": 20,
     "metadata": {},
     "output_type": "execute_result"
    }
   ],
   "source": [
    "zc = kh_df.copy()\n",
    "mon_dic = {'T-1':str(T-1), 'T-2':str(T-2), 'T-3':str(T-3)}\n",
    "zc = zc.rename(columns=lambda x: x.replace(x[:3], mon_dic.get(x[:3])) if x.startswith('T') else x)\n",
    "#替换列名中的T\n",
    "zc.columns"
   ]
  },
  {
   "cell_type": "code",
   "execution_count": 21,
   "id": "ccfafd7e",
   "metadata": {},
   "outputs": [
    {
     "data": {
      "text/plain": [
       "(['11月高峰期在线时长',\n",
       "  '11月完单',\n",
       "  '11月司机服务分',\n",
       "  '11月司机部落发言天数',\n",
       "  '10月月会邀约未参与.1',\n",
       "  '11月月会邀约未参与',\n",
       "  '11月队长任务数',\n",
       "  '11月队长任务完成数'],\n",
       " ['10月高峰期在线时长',\n",
       "  '10月完单',\n",
       "  '10月司机服务分',\n",
       "  '10月司机部落发言天数',\n",
       "  '9月月会邀约未参与',\n",
       "  '10月月会邀约未参与',\n",
       "  '10月队长任务数',\n",
       "  '10月队长任务完成数'],\n",
       " ['10月准出原因汇总', '11月准出原因汇总'])"
      ]
     },
     "execution_count": 21,
     "metadata": {},
     "output_type": "execute_result"
    },
    {
     "data": {
      "text/html": [
       "<div>\n",
       "<style scoped>\n",
       "    .dataframe tbody tr th:only-of-type {\n",
       "        vertical-align: middle;\n",
       "    }\n",
       "\n",
       "    .dataframe tbody tr th {\n",
       "        vertical-align: top;\n",
       "    }\n",
       "\n",
       "    .dataframe thead th {\n",
       "        text-align: right;\n",
       "    }\n",
       "</style>\n",
       "<table border=\"1\" class=\"dataframe\">\n",
       "  <thead>\n",
       "    <tr style=\"text-align: right;\">\n",
       "      <th></th>\n",
       "      <th>队长司机ID</th>\n",
       "      <th>队长姓名</th>\n",
       "      <th>队长季度初产品线</th>\n",
       "      <th>队长季度初产品线2</th>\n",
       "      <th>小队城市名</th>\n",
       "      <th>大区</th>\n",
       "      <th>司服经理姓名</th>\n",
       "      <th>小队名称</th>\n",
       "      <th>是否组织化目标司机</th>\n",
       "      <th>是否不合格队长</th>\n",
       "      <th>...</th>\n",
       "      <th>11月高峰期在线时长</th>\n",
       "      <th>11月完单</th>\n",
       "      <th>11月司机服务分</th>\n",
       "      <th>11月司机部落发言天数</th>\n",
       "      <th>10月月会邀约未参与.1</th>\n",
       "      <th>11月月会邀约未参与</th>\n",
       "      <th>11月队长任务数</th>\n",
       "      <th>11月队长任务完成数</th>\n",
       "      <th>10月准出原因汇总</th>\n",
       "      <th>11月准出原因汇总</th>\n",
       "    </tr>\n",
       "  </thead>\n",
       "  <tbody>\n",
       "    <tr>\n",
       "      <th>34</th>\n",
       "      <td>565388812098937</td>\n",
       "      <td>葛勇</td>\n",
       "      <td>快车</td>\n",
       "      <td>快车</td>\n",
       "      <td>苏州市</td>\n",
       "      <td>沪苏区域</td>\n",
       "      <td>魏文泽</td>\n",
       "      <td>D魏文泽海威顿市区5</td>\n",
       "      <td>1</td>\n",
       "      <td>1</td>\n",
       "      <td>...</td>\n",
       "      <td>126.0</td>\n",
       "      <td>527</td>\n",
       "      <td>125.25</td>\n",
       "      <td>1</td>\n",
       "      <td>0.0</td>\n",
       "      <td>0.0</td>\n",
       "      <td>9</td>\n",
       "      <td>2</td>\n",
       "      <td>司机部落发言天数小于7天</td>\n",
       "      <td>司机部落发言天数小于7天</td>\n",
       "    </tr>\n",
       "  </tbody>\n",
       "</table>\n",
       "<p>1 rows × 28 columns</p>\n",
       "</div>"
      ],
      "text/plain": [
       "             队长司机ID 队长姓名 队长季度初产品线 队长季度初产品线2 小队城市名    大区 司服经理姓名        小队名称  \\\n",
       "34  565388812098937   葛勇       快车        快车   苏州市  沪苏区域    魏文泽  D魏文泽海威顿市区5   \n",
       "\n",
       "   是否组织化目标司机  是否不合格队长  ...  11月高峰期在线时长  11月完单  11月司机服务分  11月司机部落发言天数  \\\n",
       "34         1        1  ...       126.0    527    125.25            1   \n",
       "\n",
       "    10月月会邀约未参与.1  11月月会邀约未参与  11月队长任务数  11月队长任务完成数     10月准出原因汇总     11月准出原因汇总  \n",
       "34           0.0         0.0         9           2  司机部落发言天数小于7天  司机部落发言天数小于7天  \n",
       "\n",
       "[1 rows x 28 columns]"
      ]
     },
     "execution_count": 21,
     "metadata": {},
     "output_type": "execute_result"
    }
   ],
   "source": [
    "info = ['队长司机ID', '队长姓名', '队长季度初产品线','队长季度初产品线2', '小队城市名', '大区', '司服经理姓名', '小队名称']\n",
    "targ = ['是否组织化目标司机','是否不合格队长']\n",
    "# mon_dic = {'T-1':str(T-1), 'T-2':str(T-2), 'T-3':str(T-3)}\n",
    "reason2 = [ 'T-2月高峰期在线时长','T-2月完单','T-2月司机服务分','T-2月司机部落发言天数','T-3月月会邀约未参与','T-2月月会邀约未参与','T-2月队长任务数','T-2月队长任务完成数']\n",
    "reason1 = ['T-1月高峰期在线时长', 'T-1月完单', 'T-1月司机服务分', 'T-1月司机部落发言天数', 'T-2月月会邀约未参与.1', 'T-1月月会邀约未参与', 'T-1月队长任务数', 'T-1月队长任务完成数']\n",
    "reason_all = ['T-2月准出原因汇总', 'T-1月准出原因汇总']\n",
    "reason2 = list(map(lambda x: x.replace(x[:3], mon_dic.get(x[:3])), reason2))\n",
    "reason1 = list(map(lambda x: x.replace(x[:3], mon_dic.get(x[:3])), reason1))\n",
    "reason_all = list(map(lambda x: x.replace(x[:3], mon_dic.get(x[:3])), reason_all))\n",
    "reason1,reason2,reason_all\n",
    "\n",
    "zc_r_gather = zc[info + targ + reason2 + reason1 + reason_all]\n",
    "zc_r_gather.head(1)"
   ]
  },
  {
   "cell_type": "code",
   "execution_count": 22,
   "id": "4cf4937e",
   "metadata": {},
   "outputs": [
    {
     "data": {
      "text/plain": [
       "\"\\nname_d = {'T-2月':'','T-2月':'','T-3月':''}\\n# python不支持dict的key为list或dict类型，因为list和dict类型是unhashable（不可哈希）的。\\ndf_t2 = ['T-2月高峰期在线时长', 'T-2月完单', 'T-2月司机服务分', 'T-2月司机部落发言天数', 'T-3月月会邀约未参与', 'T-2月月会邀约未参与','T-2月任务完成率']\\nname_lt = list(map(lambda x: x.replace(x[:4], name_d.get(x[:4])), df_t2) )\\nname_lt\\n\""
      ]
     },
     "execution_count": 22,
     "metadata": {},
     "output_type": "execute_result"
    }
   ],
   "source": [
    "'''\n",
    "name_d = {'T-2月':'','T-2月':'','T-3月':''}\n",
    "# python不支持dict的key为list或dict类型，因为list和dict类型是unhashable（不可哈希）的。\n",
    "df_t2 = ['T-2月高峰期在线时长', 'T-2月完单', 'T-2月司机服务分', 'T-2月司机部落发言天数', 'T-3月月会邀约未参与', 'T-2月月会邀约未参与','T-2月任务完成率']\n",
    "name_lt = list(map(lambda x: x.replace(x[:4], name_d.get(x[:4])), df_t2) )\n",
    "name_lt\n",
    "'''"
   ]
  },
  {
   "cell_type": "markdown",
   "id": "8b6e8c60",
   "metadata": {},
   "source": [
    "### 考核原因归类"
   ]
  },
  {
   "cell_type": "code",
   "execution_count": 23,
   "id": "d4d2b44f",
   "metadata": {},
   "outputs": [
    {
     "data": {
      "text/plain": [
       "\"['T-1月是否队长_check', 'T-2月是否队长_check', 'T-2月高峰期在线时长_check', 'T-2月完单_check', 'T-2月司机服务分_check', 'T-2月司机部落发言天数_check', 'T-3月月会邀约未参与_check', 'T-2月月会邀约未参与_check', 'T-1月高峰期在线时长_check', 'T-1月完单_check', 'T-1月司机服务分_check', 'T-1月司机部落发言天数_check', 'T-2月月会邀约未参与.1_check', 'T-1月月会邀约未参与_check', 'T-2月任务完成率_check', 'T-1月任务完成率_check']\""
      ]
     },
     "execution_count": 23,
     "metadata": {},
     "output_type": "execute_result"
    }
   ],
   "source": [
    "str(check_columns).replace('\\n','')"
   ]
  },
  {
   "cell_type": "markdown",
   "id": "e3a425f7",
   "metadata": {},
   "source": [
    "[Series数据修改索引值index，出现数据丢失 NaN](https://blog.csdn.net/weixin_56198196/article/details/120582736)"
   ]
  },
  {
   "cell_type": "code",
   "execution_count": 24,
   "id": "099f517b",
   "metadata": {},
   "outputs": [
    {
     "data": {
      "text/plain": [
       "\"\\n# Series数据修改索引值index（reset_index()），出现数据丢失 NaN\\n# 采用s.index=[]的方式修改\\na1 = kh_df['T-2月完单_check'].value_counts()\\na2 = kh_df['T-2月高峰期在线时长_check'].value_counts()\\na1.index = ['合格','不合格']\\na1\\n\""
      ]
     },
     "execution_count": 24,
     "metadata": {},
     "output_type": "execute_result"
    }
   ],
   "source": [
    "# 想通过修改索引为(合格,不合格)，汇总所有原因的合格/不合格分布情况\n",
    "'''\n",
    "# Series数据修改索引值index（reset_index()），出现数据丢失 NaN\n",
    "# 采用s.index=[]的方式修改\n",
    "a1 = kh_df['T-2月完单_check'].value_counts()\n",
    "a2 = kh_df['T-2月高峰期在线时长_check'].value_counts()\n",
    "a1.index = ['合格','不合格']\n",
    "a1\n",
    "'''"
   ]
  },
  {
   "cell_type": "code",
   "execution_count": 25,
   "id": "0145270f",
   "metadata": {},
   "outputs": [
    {
     "data": {
      "text/html": [
       "<div>\n",
       "<style scoped>\n",
       "    .dataframe tbody tr th:only-of-type {\n",
       "        vertical-align: middle;\n",
       "    }\n",
       "\n",
       "    .dataframe tbody tr th {\n",
       "        vertical-align: top;\n",
       "    }\n",
       "\n",
       "    .dataframe thead th {\n",
       "        text-align: right;\n",
       "    }\n",
       "</style>\n",
       "<table border=\"1\" class=\"dataframe\">\n",
       "  <thead>\n",
       "    <tr style=\"text-align: right;\">\n",
       "      <th></th>\n",
       "      <th>T-2月</th>\n",
       "      <th>T-1月</th>\n",
       "    </tr>\n",
       "  </thead>\n",
       "  <tbody>\n",
       "    <tr>\n",
       "      <th>司机部落发言天数小于7天</th>\n",
       "      <td>297</td>\n",
       "      <td>270</td>\n",
       "    </tr>\n",
       "    <tr>\n",
       "      <th>服务分不达标</th>\n",
       "      <td>266</td>\n",
       "      <td>285</td>\n",
       "    </tr>\n",
       "    <tr>\n",
       "      <th>任务完成率低于20%</th>\n",
       "      <td>83</td>\n",
       "      <td>72</td>\n",
       "    </tr>\n",
       "    <tr>\n",
       "      <th>月会缺席</th>\n",
       "      <td>78</td>\n",
       "      <td>115</td>\n",
       "    </tr>\n",
       "    <tr>\n",
       "      <th></th>\n",
       "      <td>33</td>\n",
       "      <td>32</td>\n",
       "    </tr>\n",
       "    <tr>\n",
       "      <th>无高峰出车</th>\n",
       "      <td>17</td>\n",
       "      <td>17</td>\n",
       "    </tr>\n",
       "    <tr>\n",
       "      <th>完单量为0</th>\n",
       "      <td>16</td>\n",
       "      <td>25</td>\n",
       "    </tr>\n",
       "  </tbody>\n",
       "</table>\n",
       "</div>"
      ],
      "text/plain": [
       "              T-2月  T-1月\n",
       "司机部落发言天数小于7天   297   270\n",
       "服务分不达标         266   285\n",
       "任务完成率低于20%      83    72\n",
       "月会缺席            78   115\n",
       "                33    32\n",
       "无高峰出车           17    17\n",
       "完单量为0           16    25"
      ]
     },
     "execution_count": 25,
     "metadata": {},
     "output_type": "execute_result"
    },
    {
     "data": {
      "text/html": [
       "<div>\n",
       "<style scoped>\n",
       "    .dataframe tbody tr th:only-of-type {\n",
       "        vertical-align: middle;\n",
       "    }\n",
       "\n",
       "    .dataframe tbody tr th {\n",
       "        vertical-align: top;\n",
       "    }\n",
       "\n",
       "    .dataframe thead th {\n",
       "        text-align: right;\n",
       "    }\n",
       "</style>\n",
       "<table border=\"1\" class=\"dataframe\">\n",
       "  <thead>\n",
       "    <tr style=\"text-align: right;\">\n",
       "      <th></th>\n",
       "      <th>10月</th>\n",
       "      <th>11月</th>\n",
       "    </tr>\n",
       "  </thead>\n",
       "  <tbody>\n",
       "    <tr>\n",
       "      <th>司机部落发言天数小于7天</th>\n",
       "      <td>297</td>\n",
       "      <td>270</td>\n",
       "    </tr>\n",
       "    <tr>\n",
       "      <th>服务分不达标</th>\n",
       "      <td>266</td>\n",
       "      <td>285</td>\n",
       "    </tr>\n",
       "    <tr>\n",
       "      <th>任务完成率低于20%</th>\n",
       "      <td>83</td>\n",
       "      <td>72</td>\n",
       "    </tr>\n",
       "    <tr>\n",
       "      <th>月会缺席</th>\n",
       "      <td>78</td>\n",
       "      <td>115</td>\n",
       "    </tr>\n",
       "    <tr>\n",
       "      <th>无高峰出车</th>\n",
       "      <td>17</td>\n",
       "      <td>17</td>\n",
       "    </tr>\n",
       "    <tr>\n",
       "      <th>完单量为0</th>\n",
       "      <td>16</td>\n",
       "      <td>25</td>\n",
       "    </tr>\n",
       "  </tbody>\n",
       "</table>\n",
       "</div>"
      ],
      "text/plain": [
       "              10月  11月\n",
       "司机部落发言天数小于7天  297  270\n",
       "服务分不达标        266  285\n",
       "任务完成率低于20%     83   72\n",
       "月会缺席           78  115\n",
       "无高峰出车          17   17\n",
       "完单量为0          16   25"
      ]
     },
     "execution_count": 25,
     "metadata": {},
     "output_type": "execute_result"
    }
   ],
   "source": [
    "# 最终采用的方法\n",
    "reason2 = (','.join(i for i in kh_df['T-2月准出原因汇总']))\n",
    "reason1 = (','.join(i for i in kh_df['T-1月准出原因汇总']))\n",
    "reason2_lt = reason2.split(',')\n",
    "reason1_lt = reason1.split(',')\n",
    "\n",
    "#使用字典计数每个原因的次数\n",
    "def dic_count(lt):\n",
    "    d = dict()\n",
    "    for r in lt:\n",
    "        d[r] = d.get(r,0) + 1\n",
    "    return d\n",
    "d2 = dic_count(reason2_lt)\n",
    "d1 = dic_count(reason1_lt)\n",
    "# 字典转化为series--再转化为--->dataframe\n",
    "zc_r_num = pd.DataFrame({'T-2月':pd.Series(d2), 'T-1月':pd.Series(d1)})\n",
    "zc_r_num.sort_values(by='T-2月', ascending=False, inplace=True)\n",
    "zc_r_num\n",
    "\n",
    "# 处理一下DataFrame的行列\n",
    "zc_r_num = zc_r_num.rename(columns=lambda x: x.replace(x[:3], mon_dic.get(x[:3]) if x.startswith('T') else x))  #处理列名\n",
    "zc_r_num.drop(index='',axis=1,inplace=True)  # 删除掉没有原因的行\n",
    "zc_r_num"
   ]
  },
  {
   "cell_type": "code",
   "execution_count": 26,
   "id": "9c69f53c",
   "metadata": {},
   "outputs": [
    {
     "data": {
      "text/html": [
       "<div>\n",
       "<style scoped>\n",
       "    .dataframe tbody tr th:only-of-type {\n",
       "        vertical-align: middle;\n",
       "    }\n",
       "\n",
       "    .dataframe tbody tr th {\n",
       "        vertical-align: top;\n",
       "    }\n",
       "\n",
       "    .dataframe thead th {\n",
       "        text-align: right;\n",
       "    }\n",
       "</style>\n",
       "<table border=\"1\" class=\"dataframe\">\n",
       "  <thead>\n",
       "    <tr style=\"text-align: right;\">\n",
       "      <th></th>\n",
       "      <th>10月</th>\n",
       "      <th>11月</th>\n",
       "    </tr>\n",
       "  </thead>\n",
       "  <tbody>\n",
       "    <tr>\n",
       "      <th>司机部落发言天数小于7天</th>\n",
       "      <td>297</td>\n",
       "      <td>270</td>\n",
       "    </tr>\n",
       "    <tr>\n",
       "      <th>服务分不达标</th>\n",
       "      <td>266</td>\n",
       "      <td>285</td>\n",
       "    </tr>\n",
       "    <tr>\n",
       "      <th>任务完成率低于20%</th>\n",
       "      <td>83</td>\n",
       "      <td>72</td>\n",
       "    </tr>\n",
       "    <tr>\n",
       "      <th>月会缺席</th>\n",
       "      <td>78</td>\n",
       "      <td>115</td>\n",
       "    </tr>\n",
       "    <tr>\n",
       "      <th>无高峰出车</th>\n",
       "      <td>17</td>\n",
       "      <td>17</td>\n",
       "    </tr>\n",
       "    <tr>\n",
       "      <th>完单量为0</th>\n",
       "      <td>16</td>\n",
       "      <td>25</td>\n",
       "    </tr>\n",
       "    <tr>\n",
       "      <th>汇总</th>\n",
       "      <td>757</td>\n",
       "      <td>784</td>\n",
       "    </tr>\n",
       "  </tbody>\n",
       "</table>\n",
       "</div>"
      ],
      "text/plain": [
       "              10月  11月\n",
       "司机部落发言天数小于7天  297  270\n",
       "服务分不达标        266  285\n",
       "任务完成率低于20%     83   72\n",
       "月会缺席           78  115\n",
       "无高峰出车          17   17\n",
       "完单量为0          16   25\n",
       "汇总            757  784"
      ]
     },
     "execution_count": 26,
     "metadata": {},
     "output_type": "execute_result"
    }
   ],
   "source": [
    "# 参考\n",
    "d = zc_r_num.copy()\n",
    "d.loc['汇总'] = d.apply(np.sum,axis=0)\n",
    "d"
   ]
  },
  {
   "cell_type": "markdown",
   "id": "d8e2287e",
   "metadata": {},
   "source": [
    "[PYTHON-使用OPENPYXL的DATAFRAME_TO_ROWS多了一行](https://www.freesion.com/article/48111258141/)"
   ]
  },
  {
   "cell_type": "code",
   "execution_count": 27,
   "id": "a792b8a1",
   "metadata": {},
   "outputs": [
    {
     "name": "stdout",
     "output_type": "stream",
     "text": [
      "[None, '10月', '11月']\n",
      "[None]\n",
      "['司机部落发言天数小于7天', 297, 270]\n",
      "['服务分不达标', 266, 285]\n",
      "['任务完成率低于20%', 83, 72]\n",
      "['月会缺席', 78, 115]\n",
      "['无高峰出车', 17, 17]\n",
      "['完单量为0', 16, 25]\n"
     ]
    }
   ],
   "source": [
    "for r in dataframe_to_rows(zc_r_num, index=True):\n",
    "    print(r)"
   ]
  },
  {
   "cell_type": "code",
   "execution_count": 28,
   "id": "927b4fad",
   "metadata": {},
   "outputs": [
    {
     "name": "stdout",
     "output_type": "stream",
     "text": [
      "['不合格原因', '10月', '11月']\n",
      "['司机部落发言天数小于7天', 297, 270]\n",
      "['服务分不达标', 266, 285]\n",
      "['任务完成率低于20%', 83, 72]\n",
      "['月会缺席', 78, 115]\n",
      "['无高峰出车', 17, 17]\n",
      "['完单量为0', 16, 25]\n"
     ]
    },
    {
     "data": {
      "text/html": [
       "<div>\n",
       "<style scoped>\n",
       "    .dataframe tbody tr th:only-of-type {\n",
       "        vertical-align: middle;\n",
       "    }\n",
       "\n",
       "    .dataframe tbody tr th {\n",
       "        vertical-align: top;\n",
       "    }\n",
       "\n",
       "    .dataframe thead th {\n",
       "        text-align: right;\n",
       "    }\n",
       "</style>\n",
       "<table border=\"1\" class=\"dataframe\">\n",
       "  <thead>\n",
       "    <tr style=\"text-align: right;\">\n",
       "      <th></th>\n",
       "      <th>10月</th>\n",
       "      <th>11月</th>\n",
       "    </tr>\n",
       "    <tr>\n",
       "      <th>不合格原因</th>\n",
       "      <th></th>\n",
       "      <th></th>\n",
       "    </tr>\n",
       "  </thead>\n",
       "  <tbody>\n",
       "    <tr>\n",
       "      <th>司机部落发言天数小于7天</th>\n",
       "      <td>297</td>\n",
       "      <td>270</td>\n",
       "    </tr>\n",
       "    <tr>\n",
       "      <th>服务分不达标</th>\n",
       "      <td>266</td>\n",
       "      <td>285</td>\n",
       "    </tr>\n",
       "    <tr>\n",
       "      <th>任务完成率低于20%</th>\n",
       "      <td>83</td>\n",
       "      <td>72</td>\n",
       "    </tr>\n",
       "    <tr>\n",
       "      <th>月会缺席</th>\n",
       "      <td>78</td>\n",
       "      <td>115</td>\n",
       "    </tr>\n",
       "    <tr>\n",
       "      <th>无高峰出车</th>\n",
       "      <td>17</td>\n",
       "      <td>17</td>\n",
       "    </tr>\n",
       "    <tr>\n",
       "      <th>完单量为0</th>\n",
       "      <td>16</td>\n",
       "      <td>25</td>\n",
       "    </tr>\n",
       "  </tbody>\n",
       "</table>\n",
       "</div>"
      ],
      "text/plain": [
       "              10月  11月\n",
       "不合格原因                 \n",
       "司机部落发言天数小于7天  297  270\n",
       "服务分不达标        266  285\n",
       "任务完成率低于20%     83   72\n",
       "月会缺席           78  115\n",
       "无高峰出车          17   17\n",
       "完单量为0          16   25"
      ]
     },
     "execution_count": 28,
     "metadata": {},
     "output_type": "execute_result"
    }
   ],
   "source": [
    "# 先给index列赋值，也就是df.index.name=‘**’\n",
    "# 然后reset_index(),把index列，变成普通列\n",
    "zc_r_num.index.name = '不合格原因'\n",
    "for r in dataframe_to_rows(zc_r_num.reset_index(), index=False):\n",
    "    print(r)\n",
    "zc_r_num"
   ]
  },
  {
   "cell_type": "code",
   "execution_count": 29,
   "id": "133f8a7a",
   "metadata": {},
   "outputs": [],
   "source": [
    "wb = Workbook()\n",
    "ws = wb.create_sheet('准出名单')\n",
    "ws2 = wb.create_sheet('原因数量汇总')\n",
    "\n",
    "for r in dataframe_to_rows(zc_r_gather, index=False, header=True):\n",
    "    ws.append(r)\n",
    "zc_r_num.index.name = '不合格原因'\n",
    "for r in dataframe_to_rows(zc_r_num.reset_index(), index=False, header=True):\n",
    "    ws2.append(r)\n",
    "    \n",
    "wb.save('连续不达标队长准出进度.xlsx')"
   ]
  },
  {
   "cell_type": "markdown",
   "id": "9d0c58f7",
   "metadata": {},
   "source": [
    "## 发给司服"
   ]
  },
  {
   "cell_type": "markdown",
   "id": "c84289da",
   "metadata": {},
   "source": [
    "### 准出名单【分区域汇总准出原因数量】"
   ]
  },
  {
   "cell_type": "code",
   "execution_count": 3,
   "id": "a58f01da",
   "metadata": {},
   "outputs": [
    {
     "data": {
      "text/plain": [
       "(276, 2)"
      ]
     },
     "execution_count": 3,
     "metadata": {},
     "output_type": "execute_result"
    }
   ],
   "source": [
    "zc = pd.read_clipboard()\n",
    "zc.shape"
   ]
  },
  {
   "cell_type": "code",
   "execution_count": 4,
   "id": "fe5b028e",
   "metadata": {},
   "outputs": [
    {
     "data": {
      "text/html": [
       "<div>\n",
       "<style scoped>\n",
       "    .dataframe tbody tr th:only-of-type {\n",
       "        vertical-align: middle;\n",
       "    }\n",
       "\n",
       "    .dataframe tbody tr th {\n",
       "        vertical-align: top;\n",
       "    }\n",
       "\n",
       "    .dataframe thead th {\n",
       "        text-align: right;\n",
       "    }\n",
       "</style>\n",
       "<table border=\"1\" class=\"dataframe\">\n",
       "  <thead>\n",
       "    <tr style=\"text-align: right;\">\n",
       "      <th></th>\n",
       "      <th>队长司机ID</th>\n",
       "      <th>大区</th>\n",
       "    </tr>\n",
       "  </thead>\n",
       "  <tbody>\n",
       "    <tr>\n",
       "      <th>0</th>\n",
       "      <td>5.653888e+14</td>\n",
       "      <td>沪苏区域</td>\n",
       "    </tr>\n",
       "    <tr>\n",
       "      <th>1</th>\n",
       "      <td>5.805423e+14</td>\n",
       "      <td>沪苏区域</td>\n",
       "    </tr>\n",
       "  </tbody>\n",
       "</table>\n",
       "</div>"
      ],
      "text/plain": [
       "         队长司机ID    大区\n",
       "0  5.653888e+14  沪苏区域\n",
       "1  5.805423e+14  沪苏区域"
      ]
     },
     "execution_count": 4,
     "metadata": {},
     "output_type": "execute_result"
    }
   ],
   "source": [
    "zc.head(2)"
   ]
  },
  {
   "cell_type": "code",
   "execution_count": 30,
   "id": "2ca2b72b",
   "metadata": {},
   "outputs": [
    {
     "data": {
      "text/plain": [
       "['沪苏区域', '广东区域', '华东区域', '鲁津冀区域', '华北区域', '西南区域', '中西区域', '中南区域']"
      ]
     },
     "execution_count": 30,
     "metadata": {},
     "output_type": "execute_result"
    }
   ],
   "source": [
    "lt_q = list(zc['大区'].unique())\n",
    "lt_q"
   ]
  },
  {
   "cell_type": "code",
   "execution_count": 31,
   "id": "ba1a3e54",
   "metadata": {},
   "outputs": [
    {
     "name": "stdout",
     "output_type": "stream",
     "text": [
      "              10月  11月\n",
      "华东区域                  \n",
      "司机部落发言天数小于7天   57   51\n",
      "服务分不达标         36   41\n",
      "任务完成率低于20%     12    7\n",
      "月会缺席           10   20\n",
      "                8    8\n",
      "完单量为0           3    5\n",
      "无高峰出车           2    2\n",
      "汇总            128  134\n"
     ]
    },
    {
     "data": {
      "text/html": [
       "<div>\n",
       "<style scoped>\n",
       "    .dataframe tbody tr th:only-of-type {\n",
       "        vertical-align: middle;\n",
       "    }\n",
       "\n",
       "    .dataframe tbody tr th {\n",
       "        vertical-align: top;\n",
       "    }\n",
       "\n",
       "    .dataframe thead th {\n",
       "        text-align: right;\n",
       "    }\n",
       "</style>\n",
       "<table border=\"1\" class=\"dataframe\">\n",
       "  <thead>\n",
       "    <tr style=\"text-align: right;\">\n",
       "      <th></th>\n",
       "      <th>10月</th>\n",
       "      <th>11月</th>\n",
       "    </tr>\n",
       "    <tr>\n",
       "      <th>华东区域</th>\n",
       "      <th></th>\n",
       "      <th></th>\n",
       "    </tr>\n",
       "  </thead>\n",
       "  <tbody>\n",
       "    <tr>\n",
       "      <th>司机部落发言天数小于7天</th>\n",
       "      <td>57</td>\n",
       "      <td>51</td>\n",
       "    </tr>\n",
       "    <tr>\n",
       "      <th>服务分不达标</th>\n",
       "      <td>36</td>\n",
       "      <td>41</td>\n",
       "    </tr>\n",
       "    <tr>\n",
       "      <th>任务完成率低于20%</th>\n",
       "      <td>12</td>\n",
       "      <td>7</td>\n",
       "    </tr>\n",
       "    <tr>\n",
       "      <th>月会缺席</th>\n",
       "      <td>10</td>\n",
       "      <td>20</td>\n",
       "    </tr>\n",
       "    <tr>\n",
       "      <th></th>\n",
       "      <td>8</td>\n",
       "      <td>8</td>\n",
       "    </tr>\n",
       "    <tr>\n",
       "      <th>完单量为0</th>\n",
       "      <td>3</td>\n",
       "      <td>5</td>\n",
       "    </tr>\n",
       "    <tr>\n",
       "      <th>无高峰出车</th>\n",
       "      <td>2</td>\n",
       "      <td>2</td>\n",
       "    </tr>\n",
       "    <tr>\n",
       "      <th>汇总</th>\n",
       "      <td>128</td>\n",
       "      <td>134</td>\n",
       "    </tr>\n",
       "  </tbody>\n",
       "</table>\n",
       "</div>"
      ],
      "text/plain": [
       "              10月  11月\n",
       "华东区域                  \n",
       "司机部落发言天数小于7天   57   51\n",
       "服务分不达标         36   41\n",
       "任务完成率低于20%     12    7\n",
       "月会缺席           10   20\n",
       "                8    8\n",
       "完单量为0           3    5\n",
       "无高峰出车           2    2\n",
       "汇总            128  134"
      ]
     },
     "execution_count": 31,
     "metadata": {},
     "output_type": "execute_result"
    }
   ],
   "source": [
    "\n",
    "#使用字典计数每个原因的次数\n",
    "def dic_count(lt):\n",
    "    d = dict()\n",
    "    for r in lt:\n",
    "        d[r] = d.get(r,0) + 1\n",
    "    return d\n",
    "\n",
    "def reason_q(q):\n",
    "   \n",
    "    df = zc.query('大区 == @q')\n",
    "    \n",
    "    reason2 = (','.join(str(i) for i in df['10月准出原因汇总']))\n",
    "    reason1 = (','.join(str(i) for i in df['11月准出原因汇总']))\n",
    "    reason2_lt = reason2.split(',')\n",
    "    reason1_lt = reason1.split(',')\n",
    "\n",
    "\n",
    "    d2 = dic_count(reason2_lt)\n",
    "    d1 = dic_count(reason1_lt)\n",
    "    # 字典转化为series--再转化为--->dataframe\n",
    "    zc_r_num = pd.DataFrame({'10月':pd.Series(d2), '11月':pd.Series(d1)})\n",
    "    zc_r_num.sort_values(by='10月', ascending=False, inplace=True)\n",
    "    zc_r_num.loc['汇总'] = zc_r_num.apply(np.sum,axis=0)\n",
    "\n",
    "    # 处理一下DataFrame的行列\n",
    "    zc_r_num.index.name = q\n",
    "    \n",
    "    try:\n",
    "        \n",
    "        zc_r_num.drop(index='nan',axis=1,inplace=True)  # 删除掉没有原因的行 \n",
    "    except:\n",
    "        print(zc_r_num)\n",
    "    return zc_r_num\n",
    "\n",
    "reason_q(lt_q[2])"
   ]
  },
  {
   "cell_type": "code",
   "execution_count": 32,
   "id": "58cf945b",
   "metadata": {},
   "outputs": [
    {
     "name": "stdout",
     "output_type": "stream",
     "text": [
      "              10月  11月\n",
      "沪苏区域                  \n",
      "服务分不达标         19   22\n",
      "司机部落发言天数小于7天   12    9\n",
      "月会缺席            4   10\n",
      "任务完成率低于20%      3    1\n",
      "汇总             38   42\n",
      "              10月  11月\n",
      "广东区域                  \n",
      "服务分不达标         49   49\n",
      "司机部落发言天数小于7天   43   44\n",
      "月会缺席           26   31\n",
      "任务完成率低于20%     16   17\n",
      "无高峰出车           7    7\n",
      "完单量为0           6    9\n",
      "                3    3\n",
      "汇总            150  160\n",
      "              10月  11月\n",
      "华东区域                  \n",
      "司机部落发言天数小于7天   57   51\n",
      "服务分不达标         36   41\n",
      "任务完成率低于20%     12    7\n",
      "月会缺席           10   20\n",
      "                8    8\n",
      "完单量为0           3    5\n",
      "无高峰出车           2    2\n",
      "汇总            128  134\n",
      "               10月   11月\n",
      "鲁津冀区域                   \n",
      "服务分不达标        21.0  22.0\n",
      "司机部落发言天数小于7天  18.0  18.0\n",
      "               8.0   8.0\n",
      "任务完成率低于20%     1.0   NaN\n",
      "完单量为0          1.0   1.0\n",
      "汇总            49.0  49.0\n",
      "              10月  11月\n",
      "华北区域                  \n",
      "服务分不达标         65   71\n",
      "司机部落发言天数小于7天   44   33\n",
      "任务完成率低于20%     15    4\n",
      "月会缺席           12   18\n",
      "无高峰出车           5    5\n",
      "完单量为0           4    6\n",
      "                2    2\n",
      "汇总            147  139\n",
      "              10月  11月\n",
      "西南区域                  \n",
      "司机部落发言天数小于7天   46   37\n",
      "服务分不达标         41   43\n",
      "任务完成率低于20%     20   26\n",
      "月会缺席           14   19\n",
      "                3    3\n",
      "无高峰出车           2    2\n",
      "完单量为0           1    2\n",
      "汇总            127  132\n",
      "              10月  11月\n",
      "中西区域                  \n",
      "司机部落发言天数小于7天   59   64\n",
      "服务分不达标         22   20\n",
      "任务完成率低于20%      9   10\n",
      "月会缺席            8   13\n",
      "                4    3\n",
      "完单量为0           1    1\n",
      "无高峰出车           1    1\n",
      "汇总            104  112\n",
      "               10月   11月\n",
      "中南区域                    \n",
      "司机部落发言天数小于7天  18.0  14.0\n",
      "服务分不达标        13.0  17.0\n",
      "任务完成率低于20%     7.0   7.0\n",
      "               5.0   5.0\n",
      "月会缺席           4.0   4.0\n",
      "完单量为0          NaN   1.0\n",
      "汇总            47.0  48.0\n"
     ]
    }
   ],
   "source": [
    "# 写入excel\n",
    "wb = load_workbook('连续不达标队长准出进度.xlsx')   # excel中设置模板格式\n",
    "ws = wb.create_sheet('各区域准出原因汇总')\n",
    "\n",
    "def write_df(df):\n",
    "    for r in dataframe_to_rows(df, index=True, header=False):\n",
    "        ws.append(r)\n",
    "df_lt = list(map(reason_q, lt_q))\n",
    "\n",
    "for df_i in df_lt:\n",
    "    write_df(df_i)\n",
    "    ws.append([])    \n",
    "        \n",
    "wb.save('连续不达标队长准出进度.xlsx')  "
   ]
  },
  {
   "cell_type": "markdown",
   "id": "f7a9e18c",
   "metadata": {},
   "source": [
    "### 强准出名单【队长信息+连续三月的准出原因】"
   ]
  },
  {
   "cell_type": "code",
   "execution_count": 4,
   "id": "96e269e9",
   "metadata": {},
   "outputs": [
    {
     "data": {
      "text/plain": [
       "(83, 2)"
      ]
     },
     "execution_count": 4,
     "metadata": {},
     "output_type": "execute_result"
    }
   ],
   "source": [
    "qz = pd.read_clipboard()\n",
    "qz.shape"
   ]
  },
  {
   "cell_type": "code",
   "execution_count": 5,
   "id": "26ec22e9",
   "metadata": {},
   "outputs": [
    {
     "data": {
      "text/html": [
       "<div>\n",
       "<style scoped>\n",
       "    .dataframe tbody tr th:only-of-type {\n",
       "        vertical-align: middle;\n",
       "    }\n",
       "\n",
       "    .dataframe tbody tr th {\n",
       "        vertical-align: top;\n",
       "    }\n",
       "\n",
       "    .dataframe thead th {\n",
       "        text-align: right;\n",
       "    }\n",
       "</style>\n",
       "<table border=\"1\" class=\"dataframe\">\n",
       "  <thead>\n",
       "    <tr style=\"text-align: right;\">\n",
       "      <th></th>\n",
       "      <th>队长司机ID</th>\n",
       "      <th>大区</th>\n",
       "    </tr>\n",
       "  </thead>\n",
       "  <tbody>\n",
       "    <tr>\n",
       "      <th>0</th>\n",
       "      <td>565388812098937</td>\n",
       "      <td>沪苏区域</td>\n",
       "    </tr>\n",
       "  </tbody>\n",
       "</table>\n",
       "</div>"
      ],
      "text/plain": [
       "            队长司机ID    大区\n",
       "0  565388812098937  沪苏区域"
      ]
     },
     "execution_count": 5,
     "metadata": {},
     "output_type": "execute_result"
    }
   ],
   "source": [
    "qz.head(1)"
   ]
  },
  {
   "cell_type": "code",
   "execution_count": 6,
   "id": "494effbb",
   "metadata": {},
   "outputs": [
    {
     "data": {
      "text/plain": [
       "(654, 27)"
      ]
     },
     "execution_count": 6,
     "metadata": {},
     "output_type": "execute_result"
    }
   ],
   "source": [
    "zc = pd.read_clipboard()\n",
    "zc.shape"
   ]
  },
  {
   "cell_type": "code",
   "execution_count": 7,
   "id": "a3263c55",
   "metadata": {},
   "outputs": [
    {
     "data": {
      "text/plain": [
       "Index(['队长司机ID', '队长姓名', '队长季度初产品线', '小队城市名', '大区', '司服经理姓名', '小队名称',\n",
       "       '10月高峰期在线时长', '10月完单', '10月司机服务分', '10月司机部落发言天数', '9月月会邀约未参与',\n",
       "       '10月月会邀约未参与', '10月队长任务数', '10月队长任务完成数', '11月高峰期在线时长', '11月完单',\n",
       "       '11月司机服务分', '11月司机部落发言天数', '10月月会邀约未参与.1', '11月月会邀约未参与', '11月队长任务数',\n",
       "       '11月队长任务完成数', '是否组织化目标司机', '是否不合格队长', '10月准出原因汇总', '11月准出原因汇总'],\n",
       "      dtype='object')"
      ]
     },
     "execution_count": 7,
     "metadata": {},
     "output_type": "execute_result"
    }
   ],
   "source": [
    "zc.columns"
   ]
  },
  {
   "cell_type": "code",
   "execution_count": 8,
   "id": "4f820c5e",
   "metadata": {
    "scrolled": true
   },
   "outputs": [
    {
     "data": {
      "text/plain": [
       "(1324, 27)"
      ]
     },
     "execution_count": 8,
     "metadata": {},
     "output_type": "execute_result"
    }
   ],
   "source": [
    "zc2 = pd.read_clipboard()\n",
    "zc2.shape"
   ]
  },
  {
   "cell_type": "code",
   "execution_count": 9,
   "id": "9c41d47f",
   "metadata": {},
   "outputs": [
    {
     "data": {
      "text/html": [
       "<div>\n",
       "<style scoped>\n",
       "    .dataframe tbody tr th:only-of-type {\n",
       "        vertical-align: middle;\n",
       "    }\n",
       "\n",
       "    .dataframe tbody tr th {\n",
       "        vertical-align: top;\n",
       "    }\n",
       "\n",
       "    .dataframe thead th {\n",
       "        text-align: right;\n",
       "    }\n",
       "</style>\n",
       "<table border=\"1\" class=\"dataframe\">\n",
       "  <thead>\n",
       "    <tr style=\"text-align: right;\">\n",
       "      <th></th>\n",
       "      <th>队长司机ID</th>\n",
       "      <th>队长姓名</th>\n",
       "      <th>队长季度初产品线</th>\n",
       "      <th>小队城市ID</th>\n",
       "      <th>小队城市名</th>\n",
       "      <th>大区</th>\n",
       "      <th>司服经理</th>\n",
       "      <th>9月高峰期在线时长</th>\n",
       "      <th>9月完单</th>\n",
       "      <th>9月司机服务分</th>\n",
       "      <th>...</th>\n",
       "      <th>10月司机服务分</th>\n",
       "      <th>10月司机部落发言天数</th>\n",
       "      <th>9月月会邀约未参与.1</th>\n",
       "      <th>10月月会邀约未参与</th>\n",
       "      <th>10月队长任务数</th>\n",
       "      <th>10月队长任务完成数</th>\n",
       "      <th>是否不合格队长</th>\n",
       "      <th>是否组织化目标司机</th>\n",
       "      <th>9月准出原因汇总</th>\n",
       "      <th>10月准出原因汇总</th>\n",
       "    </tr>\n",
       "  </thead>\n",
       "  <tbody>\n",
       "    <tr>\n",
       "      <th>0</th>\n",
       "      <td>564918356551174</td>\n",
       "      <td>王巨</td>\n",
       "      <td>快车</td>\n",
       "      <td>23</td>\n",
       "      <td>苏州市</td>\n",
       "      <td>沪苏区域</td>\n",
       "      <td>荆亚楠</td>\n",
       "      <td>106.066667</td>\n",
       "      <td>536</td>\n",
       "      <td>111.25</td>\n",
       "      <td>...</td>\n",
       "      <td>124.300003</td>\n",
       "      <td>18</td>\n",
       "      <td>0</td>\n",
       "      <td>0</td>\n",
       "      <td>9</td>\n",
       "      <td>0</td>\n",
       "      <td>1</td>\n",
       "      <td>1</td>\n",
       "      <td>司机部落发言天数小于7天+任务完成率低于20%</td>\n",
       "      <td>任务完成率低于20%</td>\n",
       "    </tr>\n",
       "  </tbody>\n",
       "</table>\n",
       "<p>1 rows × 27 columns</p>\n",
       "</div>"
      ],
      "text/plain": [
       "            队长司机ID 队长姓名 队长季度初产品线  小队城市ID 小队城市名    大区 司服经理   9月高峰期在线时长  9月完单  \\\n",
       "0  564918356551174   王巨       快车      23   苏州市  沪苏区域  荆亚楠  106.066667   536   \n",
       "\n",
       "   9月司机服务分  ...    10月司机服务分  10月司机部落发言天数  9月月会邀约未参与.1  10月月会邀约未参与  10月队长任务数  \\\n",
       "0   111.25  ...  124.300003           18            0           0         9   \n",
       "\n",
       "   10月队长任务完成数  是否不合格队长  是否组织化目标司机                 9月准出原因汇总   10月准出原因汇总  \n",
       "0           0        1          1  司机部落发言天数小于7天+任务完成率低于20%  任务完成率低于20%  \n",
       "\n",
       "[1 rows x 27 columns]"
      ]
     },
     "execution_count": 9,
     "metadata": {},
     "output_type": "execute_result"
    }
   ],
   "source": [
    "zc2.head(1)"
   ]
  },
  {
   "cell_type": "code",
   "execution_count": 10,
   "id": "01df01c5",
   "metadata": {},
   "outputs": [
    {
     "data": {
      "text/plain": [
       "(83, 11)"
      ]
     },
     "execution_count": 10,
     "metadata": {},
     "output_type": "execute_result"
    },
    {
     "data": {
      "text/html": [
       "<div>\n",
       "<style scoped>\n",
       "    .dataframe tbody tr th:only-of-type {\n",
       "        vertical-align: middle;\n",
       "    }\n",
       "\n",
       "    .dataframe tbody tr th {\n",
       "        vertical-align: top;\n",
       "    }\n",
       "\n",
       "    .dataframe thead th {\n",
       "        text-align: right;\n",
       "    }\n",
       "</style>\n",
       "<table border=\"1\" class=\"dataframe\">\n",
       "  <thead>\n",
       "    <tr style=\"text-align: right;\">\n",
       "      <th></th>\n",
       "      <th>队长司机ID</th>\n",
       "      <th>大区</th>\n",
       "      <th>队长姓名</th>\n",
       "      <th>队长季度初产品线</th>\n",
       "      <th>小队城市名</th>\n",
       "      <th>司服经理姓名</th>\n",
       "      <th>小队名称</th>\n",
       "      <th>是否组织化目标司机</th>\n",
       "      <th>是否不合格队长</th>\n",
       "      <th>10月准出原因汇总</th>\n",
       "      <th>11月准出原因汇总</th>\n",
       "    </tr>\n",
       "  </thead>\n",
       "  <tbody>\n",
       "    <tr>\n",
       "      <th>0</th>\n",
       "      <td>565388812098937</td>\n",
       "      <td>沪苏区域</td>\n",
       "      <td>葛勇</td>\n",
       "      <td>快车</td>\n",
       "      <td>苏州市</td>\n",
       "      <td>魏文泽</td>\n",
       "      <td>D魏文泽海威顿市区5</td>\n",
       "      <td>1</td>\n",
       "      <td>1</td>\n",
       "      <td>司机部落发言天数小于7天</td>\n",
       "      <td>司机部落发言天数小于7天</td>\n",
       "    </tr>\n",
       "    <tr>\n",
       "      <th>1</th>\n",
       "      <td>580542261178609</td>\n",
       "      <td>沪苏区域</td>\n",
       "      <td>袁建清</td>\n",
       "      <td>快车</td>\n",
       "      <td>苏州市</td>\n",
       "      <td>殷辉昕</td>\n",
       "      <td>殷辉昕金兴运常熟19</td>\n",
       "      <td>1</td>\n",
       "      <td>1</td>\n",
       "      <td>司机部落发言天数小于7天</td>\n",
       "      <td>服务分不达标,月会缺席</td>\n",
       "    </tr>\n",
       "    <tr>\n",
       "      <th>2</th>\n",
       "      <td>563307031035905</td>\n",
       "      <td>广东区域</td>\n",
       "      <td>陈锦朋</td>\n",
       "      <td>快车</td>\n",
       "      <td>深圳市</td>\n",
       "      <td>何东</td>\n",
       "      <td>赤橙-顺利7队</td>\n",
       "      <td>1</td>\n",
       "      <td>1</td>\n",
       "      <td>服务分不达标</td>\n",
       "      <td>服务分不达标</td>\n",
       "    </tr>\n",
       "    <tr>\n",
       "      <th>3</th>\n",
       "      <td>563449627746304</td>\n",
       "      <td>广东区域</td>\n",
       "      <td>谭岩松</td>\n",
       "      <td>优享</td>\n",
       "      <td>深圳市</td>\n",
       "      <td>何东</td>\n",
       "      <td>建达优享05队</td>\n",
       "      <td>1</td>\n",
       "      <td>1</td>\n",
       "      <td>任务完成率低于20%</td>\n",
       "      <td>任务完成率低于20%</td>\n",
       "    </tr>\n",
       "    <tr>\n",
       "      <th>4</th>\n",
       "      <td>580542358479216</td>\n",
       "      <td>中南区域</td>\n",
       "      <td>谢斌斌</td>\n",
       "      <td>快车</td>\n",
       "      <td>衡阳市</td>\n",
       "      <td>郑晶</td>\n",
       "      <td>谢斌斌队A</td>\n",
       "      <td>1</td>\n",
       "      <td>1</td>\n",
       "      <td>服务分不达标,司机部落发言天数小于7天</td>\n",
       "      <td>服务分不达标</td>\n",
       "    </tr>\n",
       "    <tr>\n",
       "      <th>5</th>\n",
       "      <td>563061082103808</td>\n",
       "      <td>中南区域</td>\n",
       "      <td>易少武</td>\n",
       "      <td>快车</td>\n",
       "      <td>长沙市</td>\n",
       "      <td>姚远</td>\n",
       "      <td>定制车02A西</td>\n",
       "      <td>1</td>\n",
       "      <td>1</td>\n",
       "      <td>无高峰出车</td>\n",
       "      <td>无高峰出车</td>\n",
       "    </tr>\n",
       "    <tr>\n",
       "      <th>6</th>\n",
       "      <td>580543150724551</td>\n",
       "      <td>中南区域</td>\n",
       "      <td>舒晶</td>\n",
       "      <td>快车</td>\n",
       "      <td>长沙市</td>\n",
       "      <td>姚远</td>\n",
       "      <td>定制车05A东</td>\n",
       "      <td>1</td>\n",
       "      <td>1</td>\n",
       "      <td>无高峰出车</td>\n",
       "      <td>无高峰出车,服务分不达标</td>\n",
       "    </tr>\n",
       "    <tr>\n",
       "      <th>7</th>\n",
       "      <td>580542453082740</td>\n",
       "      <td>中南区域</td>\n",
       "      <td>李塬烨</td>\n",
       "      <td>快车</td>\n",
       "      <td>长沙市</td>\n",
       "      <td>姚远</td>\n",
       "      <td>定制车01C</td>\n",
       "      <td>1</td>\n",
       "      <td>1</td>\n",
       "      <td>无高峰出车</td>\n",
       "      <td>无高峰出车</td>\n",
       "    </tr>\n",
       "    <tr>\n",
       "      <th>8</th>\n",
       "      <td>567950156385272</td>\n",
       "      <td>中南区域</td>\n",
       "      <td>陆明波</td>\n",
       "      <td>快车</td>\n",
       "      <td>南宁市</td>\n",
       "      <td>陈家宝</td>\n",
       "      <td>金力20陆明波队</td>\n",
       "      <td>1</td>\n",
       "      <td>1</td>\n",
       "      <td>任务完成率低于20%</td>\n",
       "      <td>服务分不达标</td>\n",
       "    </tr>\n",
       "    <tr>\n",
       "      <th>9</th>\n",
       "      <td>580542340218186</td>\n",
       "      <td>中西区域</td>\n",
       "      <td>郭小峰</td>\n",
       "      <td>快车</td>\n",
       "      <td>开封市</td>\n",
       "      <td>吴浩</td>\n",
       "      <td>安顺达B+队伍</td>\n",
       "      <td>1</td>\n",
       "      <td>1</td>\n",
       "      <td>司机部落发言天数小于7天</td>\n",
       "      <td>司机部落发言天数小于7天</td>\n",
       "    </tr>\n",
       "  </tbody>\n",
       "</table>\n",
       "</div>"
      ],
      "text/plain": [
       "            队长司机ID    大区 队长姓名 队长季度初产品线 小队城市名 司服经理姓名        小队名称 是否组织化目标司机  \\\n",
       "0  565388812098937  沪苏区域   葛勇       快车   苏州市    魏文泽  D魏文泽海威顿市区5         1   \n",
       "1  580542261178609  沪苏区域  袁建清       快车   苏州市    殷辉昕  殷辉昕金兴运常熟19         1   \n",
       "2  563307031035905  广东区域  陈锦朋       快车   深圳市     何东     赤橙-顺利7队         1   \n",
       "3  563449627746304  广东区域  谭岩松       优享   深圳市     何东     建达优享05队         1   \n",
       "4  580542358479216  中南区域  谢斌斌       快车   衡阳市     郑晶       谢斌斌队A         1   \n",
       "5  563061082103808  中南区域  易少武       快车   长沙市     姚远     定制车02A西         1   \n",
       "6  580543150724551  中南区域   舒晶       快车   长沙市     姚远     定制车05A东         1   \n",
       "7  580542453082740  中南区域  李塬烨       快车   长沙市     姚远      定制车01C         1   \n",
       "8  567950156385272  中南区域  陆明波       快车   南宁市    陈家宝    金力20陆明波队         1   \n",
       "9  580542340218186  中西区域  郭小峰       快车   开封市     吴浩     安顺达B+队伍         1   \n",
       "\n",
       "   是否不合格队长            10月准出原因汇总     11月准出原因汇总  \n",
       "0        1         司机部落发言天数小于7天  司机部落发言天数小于7天  \n",
       "1        1         司机部落发言天数小于7天   服务分不达标,月会缺席  \n",
       "2        1               服务分不达标        服务分不达标  \n",
       "3        1           任务完成率低于20%    任务完成率低于20%  \n",
       "4        1  服务分不达标,司机部落发言天数小于7天        服务分不达标  \n",
       "5        1                无高峰出车         无高峰出车  \n",
       "6        1                无高峰出车  无高峰出车,服务分不达标  \n",
       "7        1                无高峰出车         无高峰出车  \n",
       "8        1           任务完成率低于20%        服务分不达标  \n",
       "9        1         司机部落发言天数小于7天  司机部落发言天数小于7天  "
      ]
     },
     "execution_count": 10,
     "metadata": {},
     "output_type": "execute_result"
    }
   ],
   "source": [
    "# 合并强准出名单与10、11月准出信息\n",
    "zc_info = zc[['队长司机ID', '队长姓名', '队长季度初产品线','队长季度初产品线2',  '小队城市名', '司服经理姓名', '小队名称','是否组织化目标司机', '是否不合格队长', '10月准出原因汇总', '11月准出原因汇总']]\n",
    "qz_info = pd.merge(qz, zc_info, on='队长司机ID', how='left')\n",
    "qz_info.shape\n",
    "qz_info.head(10)"
   ]
  },
  {
   "cell_type": "code",
   "execution_count": 11,
   "id": "b830a6cd",
   "metadata": {},
   "outputs": [
    {
     "data": {
      "text/plain": [
       "(83, 12)"
      ]
     },
     "execution_count": 11,
     "metadata": {},
     "output_type": "execute_result"
    },
    {
     "data": {
      "text/html": [
       "<div>\n",
       "<style scoped>\n",
       "    .dataframe tbody tr th:only-of-type {\n",
       "        vertical-align: middle;\n",
       "    }\n",
       "\n",
       "    .dataframe tbody tr th {\n",
       "        vertical-align: top;\n",
       "    }\n",
       "\n",
       "    .dataframe thead th {\n",
       "        text-align: right;\n",
       "    }\n",
       "</style>\n",
       "<table border=\"1\" class=\"dataframe\">\n",
       "  <thead>\n",
       "    <tr style=\"text-align: right;\">\n",
       "      <th></th>\n",
       "      <th>队长司机ID</th>\n",
       "      <th>大区</th>\n",
       "      <th>队长姓名</th>\n",
       "      <th>队长季度初产品线</th>\n",
       "      <th>小队城市名</th>\n",
       "      <th>司服经理姓名</th>\n",
       "      <th>小队名称</th>\n",
       "      <th>是否组织化目标司机</th>\n",
       "      <th>是否不合格队长</th>\n",
       "      <th>10月准出原因汇总</th>\n",
       "      <th>11月准出原因汇总</th>\n",
       "      <th>9月准出原因汇总</th>\n",
       "    </tr>\n",
       "  </thead>\n",
       "  <tbody>\n",
       "    <tr>\n",
       "      <th>0</th>\n",
       "      <td>565388812098937</td>\n",
       "      <td>沪苏区域</td>\n",
       "      <td>葛勇</td>\n",
       "      <td>快车</td>\n",
       "      <td>苏州市</td>\n",
       "      <td>魏文泽</td>\n",
       "      <td>D魏文泽海威顿市区5</td>\n",
       "      <td>1</td>\n",
       "      <td>1</td>\n",
       "      <td>司机部落发言天数小于7天</td>\n",
       "      <td>司机部落发言天数小于7天</td>\n",
       "      <td>司机部落发言天数小于7天+</td>\n",
       "    </tr>\n",
       "    <tr>\n",
       "      <th>1</th>\n",
       "      <td>580542261178609</td>\n",
       "      <td>沪苏区域</td>\n",
       "      <td>袁建清</td>\n",
       "      <td>快车</td>\n",
       "      <td>苏州市</td>\n",
       "      <td>殷辉昕</td>\n",
       "      <td>殷辉昕金兴运常熟19</td>\n",
       "      <td>1</td>\n",
       "      <td>1</td>\n",
       "      <td>司机部落发言天数小于7天</td>\n",
       "      <td>服务分不达标,月会缺席</td>\n",
       "      <td>司机部落发言天数小于7天+</td>\n",
       "    </tr>\n",
       "  </tbody>\n",
       "</table>\n",
       "</div>"
      ],
      "text/plain": [
       "            队长司机ID    大区 队长姓名 队长季度初产品线 小队城市名 司服经理姓名        小队名称 是否组织化目标司机  \\\n",
       "0  565388812098937  沪苏区域   葛勇       快车   苏州市    魏文泽  D魏文泽海威顿市区5         1   \n",
       "1  580542261178609  沪苏区域  袁建清       快车   苏州市    殷辉昕  殷辉昕金兴运常熟19         1   \n",
       "\n",
       "   是否不合格队长     10月准出原因汇总     11月准出原因汇总       9月准出原因汇总  \n",
       "0        1  司机部落发言天数小于7天  司机部落发言天数小于7天  司机部落发言天数小于7天+  \n",
       "1        1  司机部落发言天数小于7天   服务分不达标,月会缺席  司机部落发言天数小于7天+  "
      ]
     },
     "execution_count": 11,
     "metadata": {},
     "output_type": "execute_result"
    }
   ],
   "source": [
    "# 合并9、10月准出信息\n",
    "zc2_info = zc2[['队长司机ID','9月准出原因汇总']]\n",
    "qz_info2 = pd.merge(qz_info, zc2_info, on='队长司机ID', how='left')\n",
    "qz_info2.shape\n",
    "qz_info2.head(2)"
   ]
  },
  {
   "cell_type": "code",
   "execution_count": 12,
   "id": "1997c97b",
   "metadata": {},
   "outputs": [],
   "source": [
    "#写入Excel&保存\n",
    "writer = pd.ExcelWriter('12月队长强准出名单-需停发津贴.xlsx')\n",
    "qz_info2.to_excel(writer,'11月观察期12月84名队长质量仍不合格',index=False)\n",
    "writer.save()"
   ]
  },
  {
   "cell_type": "markdown",
   "id": "a11b95bf",
   "metadata": {},
   "source": [
    "### 强准出"
   ]
  },
  {
   "cell_type": "code",
   "execution_count": 28,
   "id": "908fb1a3",
   "metadata": {},
   "outputs": [
    {
     "data": {
      "text/plain": [
       "(38, 30)"
      ]
     },
     "execution_count": 28,
     "metadata": {},
     "output_type": "execute_result"
    }
   ],
   "source": [
    "# 1206\n",
    "'''\n",
    "sq = pd.read_clipboard()\n",
    "sq.shape\n",
    "\n",
    "sq = sq[['基本信息', '是否进入观察期', '申请原因']]\n",
    "sq.rename(columns={'基本信息':'队长司机ID'},inplace=True)\n",
    "sq.head(2)\n",
    "\n",
    "zc.shape\n",
    "zc.columns\n",
    "\n",
    "zc = zc.merge(sq, how='left')\n",
    "zc.head(3)\n",
    "\n",
    "#写入Excel&保存\n",
    "writer = pd.ExcelWriter('22.xlsx')\n",
    "zc.to_excel(writer,index=False)\n",
    "writer.save()\n",
    "'''"
   ]
  },
  {
   "cell_type": "markdown",
   "id": "d7a59e79",
   "metadata": {},
   "source": [
    "## 产出观察期名单"
   ]
  },
  {
   "cell_type": "markdown",
   "id": "b6ad1bb4",
   "metadata": {},
   "source": [
    "### 处理新队长"
   ]
  },
  {
   "cell_type": "code",
   "execution_count": 22,
   "id": "5a92d220",
   "metadata": {},
   "outputs": [],
   "source": [
    "# 强准出：不包括新队长\n",
    "# 准出名单： 新队长列入观察期"
   ]
  },
  {
   "cell_type": "code",
   "execution_count": 5,
   "id": "98001256",
   "metadata": {},
   "outputs": [],
   "source": [
    "path1 = '12月准出名单.xlsx'\n",
    "# path2 = '12月填写观察期.xlsx'"
   ]
  },
  {
   "cell_type": "code",
   "execution_count": 6,
   "id": "40036550",
   "metadata": {},
   "outputs": [
    {
     "data": {
      "text/html": [
       "<div>\n",
       "<style scoped>\n",
       "    .dataframe tbody tr th:only-of-type {\n",
       "        vertical-align: middle;\n",
       "    }\n",
       "\n",
       "    .dataframe tbody tr th {\n",
       "        vertical-align: top;\n",
       "    }\n",
       "\n",
       "    .dataframe thead th {\n",
       "        text-align: right;\n",
       "    }\n",
       "</style>\n",
       "<table border=\"1\" class=\"dataframe\">\n",
       "  <thead>\n",
       "    <tr style=\"text-align: right;\">\n",
       "      <th></th>\n",
       "      <th>队长姓名</th>\n",
       "      <th>队长司机ID</th>\n",
       "    </tr>\n",
       "  </thead>\n",
       "  <tbody>\n",
       "    <tr>\n",
       "      <th>0</th>\n",
       "      <td>田进</td>\n",
       "      <td>564947912236221</td>\n",
       "    </tr>\n",
       "    <tr>\n",
       "      <th>1</th>\n",
       "      <td>蒋仁学</td>\n",
       "      <td>566279486769622</td>\n",
       "    </tr>\n",
       "  </tbody>\n",
       "</table>\n",
       "</div>"
      ],
      "text/plain": [
       "  队长姓名           队长司机ID\n",
       "0   田进  564947912236221\n",
       "1  蒋仁学  566279486769622"
      ]
     },
     "execution_count": 6,
     "metadata": {},
     "output_type": "execute_result"
    }
   ],
   "source": [
    "new = pd.read_excel(path1, '12月-沪苏新队长')\n",
    "new_lt = new[\"队长司机ID\"].values.tolist()\n",
    "new.head(2)"
   ]
  },
  {
   "cell_type": "markdown",
   "id": "99b9fab7",
   "metadata": {},
   "source": [
    "* 强准出名单"
   ]
  },
  {
   "cell_type": "code",
   "execution_count": 7,
   "id": "281e08fa",
   "metadata": {},
   "outputs": [
    {
     "data": {
      "text/plain": [
       "(77, 2)"
      ]
     },
     "execution_count": 7,
     "metadata": {},
     "output_type": "execute_result"
    },
    {
     "data": {
      "text/plain": [
       "(64, 2)"
      ]
     },
     "execution_count": 7,
     "metadata": {},
     "output_type": "execute_result"
    },
    {
     "data": {
      "text/plain": [
       "Index(['大区', '队长司机ID'], dtype='object')"
      ]
     },
     "execution_count": 7,
     "metadata": {},
     "output_type": "execute_result"
    }
   ],
   "source": [
    "# 强准出 - 新队长\n",
    "qzc = pd.read_excel(path1, '12月强准出-77')\n",
    "qzc.shape\n",
    "qzc = qzc.query('队长司机ID not in @new_lt')\n",
    "qzc.shape\n",
    "qzc.columns"
   ]
  },
  {
   "cell_type": "code",
   "execution_count": 8,
   "id": "7b7fcb28",
   "metadata": {},
   "outputs": [],
   "source": [
    "# 写入excel\n",
    "wb1 = load_workbook(path1)\n",
    "ws1 = wb1.create_sheet('强准出名单')\n",
    "\n",
    "for i in dataframe_to_rows(qzc, index=False, header=True):\n",
    "    ws1.append(i)\n",
    "\n",
    "wb1.save(path1)"
   ]
  },
  {
   "cell_type": "markdown",
   "id": "05ae191d",
   "metadata": {},
   "source": [
    " * 准出名单"
   ]
  },
  {
   "cell_type": "code",
   "execution_count": 12,
   "id": "bb9bbfab",
   "metadata": {},
   "outputs": [],
   "source": [
    "# 新队长列入观察期\n",
    "cooper = pd.read_excel(path1, sheet_name='12月-填写观察期（不包括华东）')"
   ]
  },
  {
   "cell_type": "code",
   "execution_count": 13,
   "id": "4c8e2fe0",
   "metadata": {},
   "outputs": [
    {
     "data": {
      "text/plain": [
       "(296, 29)"
      ]
     },
     "execution_count": 13,
     "metadata": {},
     "output_type": "execute_result"
    }
   ],
   "source": [
    "cooper.loc[cooper[\"队长司机ID\"].isin(new_lt), \"是否进入观察期\"] = \"TRUE\"# 给某列赋新值：使用切片赋值\n",
    "cooper.loc[cooper[\"队长司机ID\"].isin(new_lt), \"申请原因\"] = \"队长新上任\"\n",
    "# 下面这种方法没有成功赋值：\n",
    "# df_all.query('队长司机ID in @new_lt')['是否进入观察期'] = df_all.query('队长司机ID in @new_lt')['是否进入观察期'].apply(lambda x: \"TRUE\")\n",
    "cooper = cooper[cooper['队长司机ID'].notna()]\n",
    "cooper.shape"
   ]
  },
  {
   "cell_type": "code",
   "execution_count": 14,
   "id": "f3567772",
   "metadata": {},
   "outputs": [],
   "source": [
    "# 写入excel\n",
    "wb2 = load_workbook(path1)\n",
    "wss = wb2.create_sheet('12月填写观察期-沪苏新队长(不包括华东)')\n",
    "\n",
    "for i in dataframe_to_rows(cooper, index=False, header=True):\n",
    "    wss.append(i)\n",
    "\n",
    "wb2.save(path1)"
   ]
  },
  {
   "cell_type": "markdown",
   "id": "790be5db",
   "metadata": {},
   "source": [
    "###  观察期名单 - 发给司服"
   ]
  },
  {
   "cell_type": "code",
   "execution_count": 30,
   "id": "dfba1a5f",
   "metadata": {},
   "outputs": [],
   "source": [
    "xn = pd.read_excel('西南-连续在10,11月未达标需准出进入观察期队长名单.xlsx')\n",
    "\n",
    "df_all = pd.read_excel('12月填写观察期.xlsx', sheet_name='cooper_不包括沪苏新队长')\n",
    "df_all = df_all[df_all['队长司机ID'].notna()]\n",
    "\n",
    "zc = pd.read_excel('12月准出名单.xlsx', '准出名单')"
   ]
  },
  {
   "cell_type": "code",
   "execution_count": 31,
   "id": "0b3d8c55",
   "metadata": {},
   "outputs": [
    {
     "data": {
      "text/plain": [
       "654"
      ]
     },
     "execution_count": 31,
     "metadata": {},
     "output_type": "execute_result"
    },
    {
     "data": {
      "text/plain": [
       "(654, 29)"
      ]
     },
     "execution_count": 31,
     "metadata": {},
     "output_type": "execute_result"
    }
   ],
   "source": [
    "# 12月cooper里填写的观察期队长，多了一些队长，要剔除掉\n",
    "id = zc['队长司机ID'].tolist()\n",
    "len(id)\n",
    "df_all = df_all.query('队长司机ID in @id')\n",
    "df_all.shape"
   ]
  },
  {
   "cell_type": "code",
   "execution_count": 32,
   "id": "ff7cf2aa",
   "metadata": {
    "scrolled": true
   },
   "outputs": [
    {
     "data": {
      "text/plain": [
       "(95, 51)"
      ]
     },
     "execution_count": 32,
     "metadata": {},
     "output_type": "execute_result"
    }
   ],
   "source": [
    "xn.shape"
   ]
  },
  {
   "cell_type": "markdown",
   "id": "ea7af522",
   "metadata": {},
   "source": [
    "* 加入西南的观察期队长"
   ]
  },
  {
   "cell_type": "code",
   "execution_count": 33,
   "id": "1e679098",
   "metadata": {},
   "outputs": [],
   "source": [
    "xn = xn[['队长司机ID', '是否进入观察期', '进入观察期原因']]\n",
    "# 统一“是否进入观察期”的填写\n",
    "xn['是否进入观察期'] = xn['是否进入观察期'].apply(lambda x: x.replace('是', \"True\")).apply(lambda x: x.replace('否', \"False\"))"
   ]
  },
  {
   "cell_type": "code",
   "execution_count": 34,
   "id": "1ef2f48a",
   "metadata": {},
   "outputs": [],
   "source": [
    "# 合并前，将两dataframe的列格式统一\n",
    "df_all['是否进入观察期'] = df_all['是否进入观察期'].astype('str')\n",
    "df_xn = pd.merge(df_all.query('大区 == \"西南区域\"'), xn, on='队长司机ID')\n",
    "# 删除原来的 是否观察期 和 申请原因 两列\n",
    "df_xn.drop(columns=['是否进入观察期_x','申请原因'], inplace=True)\n",
    "# 加入新的两列\n",
    "df_xn.rename(columns={'是否进入观察期_y': '是否进入观察期', '进入观察期原因': '申请原因'},inplace=True)"
   ]
  },
  {
   "cell_type": "code",
   "execution_count": 35,
   "id": "bf3b448e",
   "metadata": {},
   "outputs": [
    {
     "data": {
      "text/plain": [
       "(654, 29)"
      ]
     },
     "execution_count": 35,
     "metadata": {},
     "output_type": "execute_result"
    }
   ],
   "source": [
    "# 合并西南区域的观察期队长\n",
    "df = pd.concat([df_all.query('大区 != \"西南区域\"'), df_xn])\n",
    "df.shape"
   ]
  },
  {
   "cell_type": "code",
   "execution_count": 36,
   "id": "d3df72dd",
   "metadata": {},
   "outputs": [],
   "source": [
    "# 观察期名单\n",
    "gc = df.query('是否进入观察期 == \"True\"')\n",
    "fgc = df.query('是否进入观察期 == \"False\"')"
   ]
  },
  {
   "cell_type": "code",
   "execution_count": 37,
   "id": "84ec276c",
   "metadata": {},
   "outputs": [
    {
     "data": {
      "text/plain": [
       "(292, 29)"
      ]
     },
     "execution_count": 37,
     "metadata": {},
     "output_type": "execute_result"
    },
    {
     "data": {
      "text/plain": [
       "(362, 29)"
      ]
     },
     "execution_count": 37,
     "metadata": {},
     "output_type": "execute_result"
    }
   ],
   "source": [
    "gc.shape\n",
    "fgc.shape"
   ]
  },
  {
   "cell_type": "markdown",
   "id": "0dccb9ba",
   "metadata": {},
   "source": [
    "* 写入excel"
   ]
  },
  {
   "cell_type": "code",
   "execution_count": 38,
   "id": "66f4c86d",
   "metadata": {},
   "outputs": [],
   "source": [
    "# 写入excel\n",
    "wb3 = Workbook()\n",
    "ws3 = wb3.create_sheet('反馈申请进入观察期统计明细')\n",
    "\n",
    "for i in dataframe_to_rows(gc, index=False, header=True):\n",
    "    ws3.append(i)\n",
    "\n",
    "wb3.save('发给司服/10月11月队长连续不达标进入观察期名单（城市版）12月.xlsx')"
   ]
  },
  {
   "cell_type": "code",
   "execution_count": 39,
   "id": "5d0db585",
   "metadata": {},
   "outputs": [],
   "source": [
    "# 写入excel\n",
    "wb3 = Workbook()\n",
    "ws3 = wb3.create_sheet('10月11月队长不达标未申请进入观察期明细')\n",
    "\n",
    "for i in dataframe_to_rows(fgc, index=False, header=True):\n",
    "    ws3.append(i)\n",
    "\n",
    "wb3.save('发给司服/10月11月队长连续不达标未申请观察期（默认）准出名单（城市版）12月.xlsx')"
   ]
  },
  {
   "cell_type": "code",
   "execution_count": 40,
   "id": "cd9d95c6",
   "metadata": {
    "scrolled": false
   },
   "outputs": [
    {
     "data": {
      "text/plain": [
       "False    362\n",
       "True     292\n",
       "Name: 是否进入观察期, dtype: int64"
      ]
     },
     "execution_count": 40,
     "metadata": {},
     "output_type": "execute_result"
    }
   ],
   "source": [
    "df['是否进入观察期'].value_counts()"
   ]
  },
  {
   "cell_type": "code",
   "execution_count": null,
   "id": "6a7440fc",
   "metadata": {},
   "outputs": [],
   "source": []
  }
 ],
 "metadata": {
  "kernelspec": {
   "display_name": "Python 3",
   "language": "python",
   "name": "python3"
  },
  "language_info": {
   "codemirror_mode": {
    "name": "ipython",
    "version": 3
   },
   "file_extension": ".py",
   "mimetype": "text/x-python",
   "name": "python",
   "nbconvert_exporter": "python",
   "pygments_lexer": "ipython3",
   "version": "3.8.8"
  },
  "toc": {
   "base_numbering": 1,
   "nav_menu": {},
   "number_sections": true,
   "sideBar": true,
   "skip_h1_title": false,
   "title_cell": "Table of Contents",
   "title_sidebar": "Contents",
   "toc_cell": false,
   "toc_position": {
    "height": "calc(100% - 180px)",
    "left": "10px",
    "top": "150px",
    "width": "164.977px"
   },
   "toc_section_display": true,
   "toc_window_display": true
  }
 },
 "nbformat": 4,
 "nbformat_minor": 5
}
