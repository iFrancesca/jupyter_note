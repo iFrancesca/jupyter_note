{
 "cells": [
  {
   "cell_type": "code",
   "execution_count": 1,
   "id": "ccc8bdac",
   "metadata": {},
   "outputs": [
    {
     "name": "stdout",
     "output_type": "stream",
     "text": [
      "D:\\code\\jupyter\\邮件\n"
     ]
    },
    {
     "data": {
      "text/plain": [
       "'D:\\\\file\\\\o\\\\队长\\\\周报\\\\s\\\\1120'"
      ]
     },
     "execution_count": 1,
     "metadata": {},
     "output_type": "execute_result"
    }
   ],
   "source": [
    "import os\n",
    "print(os.getcwd())  #当前路径\n",
    "\n",
    "#更改当前路径\n",
    "os.chdir('D:/file/o/队长/周报/s/1120/')\n",
    "os.getcwd()"
   ]
  },
  {
   "cell_type": "code",
   "execution_count": 11,
   "id": "463407f1",
   "metadata": {},
   "outputs": [],
   "source": [
    "from openpyxl import Workbook\n",
    "from openpyxl import load_workbook"
   ]
  },
  {
   "cell_type": "code",
   "execution_count": 12,
   "id": "b3423534",
   "metadata": {},
   "outputs": [
    {
     "name": "stdout",
     "output_type": "stream",
     "text": [
      "Help on function load_workbook in module openpyxl.reader.excel:\n",
      "\n",
      "load_workbook(filename, read_only=False, keep_vba=False, data_only=False, keep_links=True)\n",
      "    Open the given filename and return the workbook\n",
      "    \n",
      "    :param filename: the path to open or a file-like object\n",
      "    :type filename: string or a file-like object open in binary mode c.f., :class:`zipfile.ZipFile`\n",
      "    \n",
      "    :param read_only: optimised for reading, content cannot be edited\n",
      "    :type read_only: bool\n",
      "    \n",
      "    :param keep_vba: preseve vba content (this does NOT mean you can use it)\n",
      "    :type keep_vba: bool\n",
      "    \n",
      "    :param data_only: controls whether cells with formulae have either the formula (default) or the value stored the last time Excel read the sheet\n",
      "    :type data_only: bool\n",
      "    \n",
      "    :param keep_links: whether links to external workbooks should be preserved. The default is True\n",
      "    :type keep_links: bool\n",
      "    \n",
      "    :rtype: :class:`openpyxl.workbook.Workbook`\n",
      "    \n",
      "    .. note::\n",
      "    \n",
      "        When using lazy load, all worksheets will be :class:`openpyxl.worksheet.iter_worksheet.IterableWorksheet`\n",
      "        and the returned workbook will be read-only.\n",
      "\n"
     ]
    }
   ],
   "source": [
    "help(load_workbook)"
   ]
  },
  {
   "cell_type": "code",
   "execution_count": null,
   "id": "a649ec3c",
   "metadata": {},
   "outputs": [],
   "source": [
    "wbm = Workbook()"
   ]
  },
  {
   "cell_type": "code",
   "execution_count": 13,
   "id": "b610403f",
   "metadata": {},
   "outputs": [],
   "source": [
    "path1 = '1-队长覆盖率.xlsx'\n"
   ]
  },
  {
   "cell_type": "code",
   "execution_count": 14,
   "id": "d9d6b02a",
   "metadata": {},
   "outputs": [],
   "source": [
    "def write_cells(cells,ws):\n",
    "    for row in cells:\n",
    "        ws.append([i.value for i in row])\n",
    "    ws.append([])"
   ]
  },
  {
   "cell_type": "code",
   "execution_count": null,
   "id": "1e47091b",
   "metadata": {},
   "outputs": [],
   "source": [
    "wb1 = load_workbook(path1,data_only=True,read_only=True)\n",
    "ws1 = wb1['1-队长覆盖率']\n",
    "\n",
    "cover1 = ws['S1:AG10']  #队长覆盖\n",
    "cover2 = ws['AM1:AM2']  #城市覆盖率超过95%\n",
    "cover3 = ws['AO1:AT21']  #城市覆盖率\n",
    "\n",
    "# 将结果写入到新的excel\n",
    "wsm1 = wbm.create_sheet('1-队长覆盖率')\n",
    "write_cells(cover1, wsm1)\n",
    "write_cells(cover2, wsm1)\n",
    "write_cells(cover3, wsm1)\n",
    "wbm.save('邮件.xlsx')"
   ]
  },
  {
   "cell_type": "code",
   "execution_count": null,
   "id": "f9f7cbb8",
   "metadata": {},
   "outputs": [],
   "source": [
    "cover1 = ws['S1:AG10']  #队长覆盖\n",
    "cover2 = ws['AM1:AM2']  #城市覆盖率超过95%\n",
    "cover3 = ws['AO1:AT21']  #城市覆盖率\n",
    "\n",
    "cover1[2][2].value\n",
    "\n",
    "def write_cells(cells,ws):\n",
    "    for row in cells:\n",
    "        ws.append([i.value for i in row])\n",
    "    ws.append([])\n",
    "\n",
    "# 将结果写入到新的excel\n",
    "wsm1 = wbm.create_sheet('1-队长覆盖率')\n",
    "write_cells(cover1, wsm1)\n",
    "write_cells(cover2, wsm1)\n",
    "write_cells(cover3, wsm1)\n",
    "wbm.save('邮件.xlsx')\n"
   ]
  }
 ],
 "metadata": {
  "kernelspec": {
   "display_name": "Python 3",
   "language": "python",
   "name": "python3"
  },
  "language_info": {
   "codemirror_mode": {
    "name": "ipython",
    "version": 3
   },
   "file_extension": ".py",
   "mimetype": "text/x-python",
   "name": "python",
   "nbconvert_exporter": "python",
   "pygments_lexer": "ipython3",
   "version": "3.8.8"
  },
  "toc": {
   "base_numbering": 1,
   "nav_menu": {},
   "number_sections": true,
   "sideBar": true,
   "skip_h1_title": false,
   "title_cell": "Table of Contents",
   "title_sidebar": "Contents",
   "toc_cell": false,
   "toc_position": {},
   "toc_section_display": true,
   "toc_window_display": false
  }
 },
 "nbformat": 4,
 "nbformat_minor": 5
}
