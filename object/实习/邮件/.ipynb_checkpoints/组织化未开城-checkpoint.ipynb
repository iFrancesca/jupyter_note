{
 "cells": [
  {
   "cell_type": "code",
   "execution_count": 1,
   "id": "d87fecbc",
   "metadata": {},
   "outputs": [],
   "source": [
    "import time\n",
    "import shutil\n",
    "import pandas as pd\n",
    "import numpy as np\n",
    "from datetime import datetime\n",
    "from openpyxl import load_workbook\n",
    "from openpyxl import Workbook\n",
    "from openpyxl.utils.dataframe import dataframe_to_rows\n",
    "\n",
    "from IPython.core.interactiveshell import InteractiveShell \n",
    "InteractiveShell.ast_node_interactivity = \"all\""
   ]
  },
  {
   "cell_type": "code",
   "execution_count": 3,
   "id": "e80506cf",
   "metadata": {},
   "outputs": [
    {
     "name": "stdout",
     "output_type": "stream",
     "text": [
      "D:\\code\\jupyter\\邮件\n"
     ]
    },
    {
     "data": {
      "text/plain": [
       "'D:\\\\file\\\\o\\\\组织化\\\\磐石城市'"
      ]
     },
     "execution_count": 3,
     "metadata": {},
     "output_type": "execute_result"
    }
   ],
   "source": [
    "import os\n",
    "print(os.getcwd())  #当前路径\n",
    "\n",
    "#更改当前路径\n",
    "os.chdir('D:\\\\file\\\\o\\\\组织化\\\\磐石城市\\\\')\n",
    "os.getcwd()"
   ]
  },
  {
   "cell_type": "code",
   "execution_count": 7,
   "id": "f213847c",
   "metadata": {},
   "outputs": [
    {
     "name": "stdout",
     "output_type": "stream",
     "text": [
      "data_file_name: 0-NEW-2021年7月城市&城市群关系映射明细表V1.0-20210625.xlsx\n"
     ]
    },
    {
     "data": {
      "text/plain": [
       "'0-NEW-2021年7月城市&城市群关系映射明细表V1.0-20210625.xlsx'"
      ]
     },
     "execution_count": 7,
     "metadata": {},
     "output_type": "execute_result"
    }
   ],
   "source": [
    "# 所有城市\n",
    "# 0-NEW-2021年7月城市&城市群关系映射明细表V1.0-20210625.xlsx\n",
    "data_path1 = input('data_file_name: ')\n",
    "data_path1"
   ]
  },
  {
   "cell_type": "code",
   "execution_count": 10,
   "id": "4f307a47",
   "metadata": {},
   "outputs": [
    {
     "data": {
      "text/plain": [
       "Index(['城市编码', '城市', '城市编码.1', '城市群', '滴滴省份', '自然省份', '一级部门', '区总'], dtype='object')"
      ]
     },
     "execution_count": 10,
     "metadata": {},
     "output_type": "execute_result"
    },
    {
     "data": {
      "text/plain": [
       "(361, 8)"
      ]
     },
     "execution_count": 10,
     "metadata": {},
     "output_type": "execute_result"
    }
   ],
   "source": [
    "df_all = pd.read_excel(data_path1, sheet_name='城市&城市群映射关系')\n",
    "\n",
    "df_all.columns\n",
    "df_all.shape"
   ]
  },
  {
   "cell_type": "code",
   "execution_count": 12,
   "id": "f48ffa1f",
   "metadata": {},
   "outputs": [
    {
     "name": "stdout",
     "output_type": "stream",
     "text": [
      "data_file_name: 组织化已开城城市_更新.xlsx\n"
     ]
    },
    {
     "data": {
      "text/plain": [
       "'组织化已开城城市_更新.xlsx'"
      ]
     },
     "execution_count": 12,
     "metadata": {},
     "output_type": "execute_result"
    }
   ],
   "source": [
    "# 组织化已开城城市\n",
    "# 组织化已开城城市_更新.xlsx\n",
    "data_path2 = input('data_file_name: ')\n",
    "data_path2"
   ]
  },
  {
   "cell_type": "code",
   "execution_count": 13,
   "id": "12a2a6fb",
   "metadata": {},
   "outputs": [
    {
     "data": {
      "text/plain": [
       "Index(['城市', '城市ID', '城市群名称', '省名称', '区域名称'], dtype='object')"
      ]
     },
     "execution_count": 13,
     "metadata": {},
     "output_type": "execute_result"
    },
    {
     "data": {
      "text/plain": [
       "(201, 5)"
      ]
     },
     "execution_count": 13,
     "metadata": {},
     "output_type": "execute_result"
    }
   ],
   "source": [
    "df_z = pd.read_excel(data_path2)\n",
    "\n",
    "df_z.columns\n",
    "df_z.shape"
   ]
  },
  {
   "cell_type": "code",
   "execution_count": 25,
   "id": "ab6b50b3",
   "metadata": {},
   "outputs": [
    {
     "name": "stderr",
     "output_type": "stream",
     "text": [
      "C:\\Users\\shenyajun_i\\Anaconda3\\lib\\site-packages\\pandas\\core\\frame.py:4441: SettingWithCopyWarning: \n",
      "A value is trying to be set on a copy of a slice from a DataFrame\n",
      "\n",
      "See the caveats in the documentation: https://pandas.pydata.org/pandas-docs/stable/user_guide/indexing.html#returning-a-view-versus-a-copy\n",
      "  return super().rename(\n"
     ]
    }
   ],
   "source": [
    "d_all = df_all[['城市编码', '城市']]\n",
    "d_z = df_z[['城市ID', '城市']]\n",
    "d_z.rename(columns={'城市ID':'城市编码'},inplace=True)"
   ]
  },
  {
   "cell_type": "code",
   "execution_count": 27,
   "id": "4331256e",
   "metadata": {},
   "outputs": [
    {
     "data": {
      "text/plain": [
       "(160, 2)"
      ]
     },
     "execution_count": 27,
     "metadata": {},
     "output_type": "execute_result"
    }
   ],
   "source": [
    "# 求差集 d_all - d_z\n",
    "set_diff_df = pd.concat([d_all, d_z, d_z]).drop_duplicates(keep=False)\n",
    "set_diff_df.shape"
   ]
  },
  {
   "cell_type": "code",
   "execution_count": 32,
   "id": "933a3ab7",
   "metadata": {},
   "outputs": [
    {
     "data": {
      "text/plain": [
       "(160, 8)"
      ]
     },
     "execution_count": 32,
     "metadata": {},
     "output_type": "execute_result"
    }
   ],
   "source": [
    "id_lt = set_diff_df['城市编码'].values.tolist()\n",
    "# 在query中使用变量 --> 使用@\n",
    "df_fz = df_all.query('城市编码 in @id_lt')\n",
    "df_fz.shape"
   ]
  },
  {
   "cell_type": "code",
   "execution_count": 33,
   "id": "63f0a73d",
   "metadata": {},
   "outputs": [],
   "source": [
    "writer = pd.ExcelWriter('非组织化城市.xlsx')\n",
    "df_fz.to_excel(writer,'非组织化城市',index=False)\n",
    "writer.save()"
   ]
  }
 ],
 "metadata": {
  "kernelspec": {
   "display_name": "Python 3",
   "language": "python",
   "name": "python3"
  },
  "language_info": {
   "codemirror_mode": {
    "name": "ipython",
    "version": 3
   },
   "file_extension": ".py",
   "mimetype": "text/x-python",
   "name": "python",
   "nbconvert_exporter": "python",
   "pygments_lexer": "ipython3",
   "version": "3.8.8"
  },
  "toc": {
   "base_numbering": 1,
   "nav_menu": {},
   "number_sections": true,
   "sideBar": true,
   "skip_h1_title": false,
   "title_cell": "Table of Contents",
   "title_sidebar": "Contents",
   "toc_cell": false,
   "toc_position": {},
   "toc_section_display": true,
   "toc_window_display": false
  }
 },
 "nbformat": 4,
 "nbformat_minor": 5
}
