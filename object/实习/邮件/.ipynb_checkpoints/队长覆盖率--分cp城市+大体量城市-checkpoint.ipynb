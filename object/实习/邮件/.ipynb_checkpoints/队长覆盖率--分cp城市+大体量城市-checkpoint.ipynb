{
 "cells": [
  {
   "cell_type": "code",
   "execution_count": 1,
   "id": "d7317eeb",
   "metadata": {},
   "outputs": [],
   "source": [
    "import time\n",
    "import shutil\n",
    "import pandas as pd\n",
    "import numpy as np\n",
    "from datetime import datetime\n",
    "from openpyxl import load_workbook\n",
    "from openpyxl import Workbook\n",
    "from openpyxl.utils.dataframe import dataframe_to_rows\n",
    "\n",
    "from IPython.core.interactiveshell import InteractiveShell \n",
    "InteractiveShell.ast_node_interactivity = \"all\""
   ]
  },
  {
   "cell_type": "code",
   "execution_count": 2,
   "id": "61619b49",
   "metadata": {},
   "outputs": [
    {
     "name": "stdout",
     "output_type": "stream",
     "text": [
      "D:\\code\\jupyter\\邮件\n"
     ]
    },
    {
     "data": {
      "text/plain": [
       "'D:\\\\file\\\\o\\\\队长\\\\周报\\\\s\\\\1210'"
      ]
     },
     "execution_count": 2,
     "metadata": {},
     "output_type": "execute_result"
    }
   ],
   "source": [
    "import os\n",
    "print(os.getcwd())  #当前路径\n",
    "\n",
    "#更改当前路径\n",
    "os.chdir('D:/file/o/队长/周报/s/1210')\n",
    "os.getcwd()"
   ]
  },
  {
   "cell_type": "markdown",
   "id": "c9908e15",
   "metadata": {},
   "source": [
    "|df|content|\n",
    "|-|-|\n",
    "|cp_df|cp分润城市|\n",
    "|df|队长覆盖率-全部|\n",
    "|fg_c|分城市覆盖率|\n",
    "|fg|分城市覆盖率(计算)|\n",
    "|fg_q|分区域覆盖率|\n",
    "|fg_cq|覆盖率(城市+区域)|\n",
    "|fg|覆盖率(城市+区域+cp)|"
   ]
  },
  {
   "cell_type": "code",
   "execution_count": 3,
   "id": "5705d099",
   "metadata": {},
   "outputs": [
    {
     "data": {
      "text/plain": [
       "(19, 5)"
      ]
     },
     "execution_count": 3,
     "metadata": {},
     "output_type": "execute_result"
    },
    {
     "data": {
      "text/html": [
       "<div>\n",
       "<style scoped>\n",
       "    .dataframe tbody tr th:only-of-type {\n",
       "        vertical-align: middle;\n",
       "    }\n",
       "\n",
       "    .dataframe tbody tr th {\n",
       "        vertical-align: top;\n",
       "    }\n",
       "\n",
       "    .dataframe thead th {\n",
       "        text-align: right;\n",
       "    }\n",
       "</style>\n",
       "<table border=\"1\" class=\"dataframe\">\n",
       "  <thead>\n",
       "    <tr style=\"text-align: right;\">\n",
       "      <th></th>\n",
       "      <th>城市ID</th>\n",
       "      <th>大区</th>\n",
       "      <th>省份</th>\n",
       "      <th>城市名</th>\n",
       "      <th>备注</th>\n",
       "    </tr>\n",
       "  </thead>\n",
       "  <tbody>\n",
       "    <tr>\n",
       "      <th>0</th>\n",
       "      <td>17</td>\n",
       "      <td>西南区域</td>\n",
       "      <td>四川</td>\n",
       "      <td>成都市</td>\n",
       "      <td>7月15日开城</td>\n",
       "    </tr>\n",
       "    <tr>\n",
       "      <th>1</th>\n",
       "      <td>5</td>\n",
       "      <td>华东区域</td>\n",
       "      <td>浙江</td>\n",
       "      <td>杭州市</td>\n",
       "      <td>7月15日开城</td>\n",
       "    </tr>\n",
       "    <tr>\n",
       "      <th>2</th>\n",
       "      <td>11</td>\n",
       "      <td>沪苏区域</td>\n",
       "      <td>江苏</td>\n",
       "      <td>南京市</td>\n",
       "      <td>7月15日开城</td>\n",
       "    </tr>\n",
       "  </tbody>\n",
       "</table>\n",
       "</div>"
      ],
      "text/plain": [
       "   城市ID    大区  省份  城市名       备注\n",
       "0    17  西南区域  四川  成都市  7月15日开城\n",
       "1     5  华东区域  浙江  杭州市  7月15日开城\n",
       "2    11  沪苏区域  江苏  南京市  7月15日开城"
      ]
     },
     "execution_count": 3,
     "metadata": {},
     "output_type": "execute_result"
    }
   ],
   "source": [
    "cp_df = pd.read_excel('d:/file/o/队长/周报/s/模板/2-修改/CP分润19城list_810.xlsx',\\\n",
    "                       sheet_name='cp城')\n",
    "cp_df.shape\n",
    "cp_df.head(3)"
   ]
  },
  {
   "cell_type": "code",
   "execution_count": 4,
   "id": "7bb2368e",
   "metadata": {},
   "outputs": [
    {
     "data": {
      "text/plain": [
       "21"
      ]
     },
     "execution_count": 4,
     "metadata": {},
     "output_type": "execute_result"
    }
   ],
   "source": [
    "cp_lt = cp_df['城市名'].values.tolist()\n",
    "cp_lt.extend(['重庆主城','重庆郊县'])\n",
    "len(cp_lt)"
   ]
  },
  {
   "cell_type": "code",
   "execution_count": 5,
   "id": "67e41e19",
   "metadata": {},
   "outputs": [
    {
     "name": "stdout",
     "output_type": "stream",
     "text": [
      "创建新的文件夹【分城】，并创建新的【队长覆盖率.xlsx】文件： \n"
     ]
    },
    {
     "data": {
      "text/plain": [
       "''"
      ]
     },
     "execution_count": 5,
     "metadata": {},
     "output_type": "execute_result"
    }
   ],
   "source": [
    "input('创建新的文件夹【分城】，并创建新的【队长覆盖率.xlsx】文件： ')"
   ]
  },
  {
   "cell_type": "code",
   "execution_count": 6,
   "id": "c257fd29",
   "metadata": {},
   "outputs": [
    {
     "name": "stdout",
     "output_type": "stream",
     "text": [
      "date(e.g 1210):  1210\n"
     ]
    },
    {
     "data": {
      "text/html": [
       "<div>\n",
       "<style scoped>\n",
       "    .dataframe tbody tr th:only-of-type {\n",
       "        vertical-align: middle;\n",
       "    }\n",
       "\n",
       "    .dataframe tbody tr th {\n",
       "        vertical-align: top;\n",
       "    }\n",
       "\n",
       "    .dataframe thead th {\n",
       "        text-align: right;\n",
       "    }\n",
       "</style>\n",
       "<table border=\"1\" class=\"dataframe\">\n",
       "  <thead>\n",
       "    <tr style=\"text-align: right;\">\n",
       "      <th></th>\n",
       "      <th>区域</th>\n",
       "      <th>城市群</th>\n",
       "      <th>城市</th>\n",
       "      <th>队长总数</th>\n",
       "      <th>覆盖目标司机数</th>\n",
       "      <th>目标司机数</th>\n",
       "      <th>有队长对公目标司机数</th>\n",
       "      <th>对公目标司机数</th>\n",
       "      <th>有队长橘子目标司机数</th>\n",
       "      <th>橘子目标司机数</th>\n",
       "      <th>杰出队长数</th>\n",
       "      <th>普通队长数</th>\n",
       "      <th>预备役队长数</th>\n",
       "    </tr>\n",
       "  </thead>\n",
       "  <tbody>\n",
       "    <tr>\n",
       "      <th>0</th>\n",
       "      <td>中西区域</td>\n",
       "      <td>豫西城市群</td>\n",
       "      <td>洛阳市</td>\n",
       "      <td>39</td>\n",
       "      <td>2026</td>\n",
       "      <td>2032</td>\n",
       "      <td>853</td>\n",
       "      <td>855</td>\n",
       "      <td>1173</td>\n",
       "      <td>1177</td>\n",
       "      <td>8</td>\n",
       "      <td>31</td>\n",
       "      <td>0</td>\n",
       "    </tr>\n",
       "    <tr>\n",
       "      <th>1</th>\n",
       "      <td>沪苏区域</td>\n",
       "      <td>苏中城市群</td>\n",
       "      <td>镇江市</td>\n",
       "      <td>30</td>\n",
       "      <td>1717</td>\n",
       "      <td>1726</td>\n",
       "      <td>71</td>\n",
       "      <td>71</td>\n",
       "      <td>1646</td>\n",
       "      <td>1655</td>\n",
       "      <td>4</td>\n",
       "      <td>26</td>\n",
       "      <td>0</td>\n",
       "    </tr>\n",
       "  </tbody>\n",
       "</table>\n",
       "</div>"
      ],
      "text/plain": [
       "     区域    城市群   城市  队长总数  覆盖目标司机数  目标司机数  有队长对公目标司机数  对公目标司机数  有队长橘子目标司机数  \\\n",
       "0  中西区域  豫西城市群  洛阳市    39     2026   2032         853      855        1173   \n",
       "1  沪苏区域  苏中城市群  镇江市    30     1717   1726          71       71        1646   \n",
       "\n",
       "   橘子目标司机数  杰出队长数  普通队长数  预备役队长数  \n",
       "0     1177      8     31       0  \n",
       "1     1655      4     26       0  "
      ]
     },
     "execution_count": 6,
     "metadata": {},
     "output_type": "execute_result"
    },
    {
     "data": {
      "text/plain": [
       "(199, 13)"
      ]
     },
     "execution_count": 6,
     "metadata": {},
     "output_type": "execute_result"
    }
   ],
   "source": [
    "# 队长覆盖率-全部\n",
    "    # 队长覆盖率（区域用Q4）\n",
    "date = input('date(e.g 1210):  ')\n",
    "df = pd.read_excel('D:/file/o/队长/周报/s/{}/分城/队长覆盖率.xlsx'.format(date))\n",
    "df.head(2)\n",
    "df.shape"
   ]
  },
  {
   "cell_type": "code",
   "execution_count": 7,
   "id": "e24ffb77",
   "metadata": {},
   "outputs": [
    {
     "data": {
      "text/plain": [
       "Index(['区域', '城市群', '城市', '队长总数', '覆盖目标司机数', '目标司机数', '有队长对公目标司机数', '对公目标司机数',\n",
       "       '有队长橘子目标司机数', '橘子目标司机数', '杰出队长数', '普通队长数', '预备役队长数'],\n",
       "      dtype='object')"
      ]
     },
     "execution_count": 7,
     "metadata": {},
     "output_type": "execute_result"
    },
    {
     "data": {
      "text/plain": [
       "Index(['城市ID', '大区', '省份', '城市名', '备注'], dtype='object')"
      ]
     },
     "execution_count": 7,
     "metadata": {},
     "output_type": "execute_result"
    }
   ],
   "source": [
    "df.columns\n",
    "cp_df.columns"
   ]
  },
  {
   "cell_type": "code",
   "execution_count": 8,
   "id": "5cde3cda",
   "metadata": {},
   "outputs": [
    {
     "data": {
      "text/plain": [
       "(9, 12)"
      ]
     },
     "execution_count": 8,
     "metadata": {},
     "output_type": "execute_result"
    },
    {
     "data": {
      "text/html": [
       "<div>\n",
       "<style scoped>\n",
       "    .dataframe tbody tr th:only-of-type {\n",
       "        vertical-align: middle;\n",
       "    }\n",
       "\n",
       "    .dataframe tbody tr th {\n",
       "        vertical-align: top;\n",
       "    }\n",
       "\n",
       "    .dataframe thead th {\n",
       "        text-align: right;\n",
       "    }\n",
       "</style>\n",
       "<table border=\"1\" class=\"dataframe\">\n",
       "  <thead>\n",
       "    <tr style=\"text-align: right;\">\n",
       "      <th></th>\n",
       "      <th>区域_大区</th>\n",
       "      <th>区域_整体覆盖率</th>\n",
       "      <th>区域_目标对公</th>\n",
       "      <th>区域_对公</th>\n",
       "      <th>区域_对公覆盖率</th>\n",
       "      <th>区域_目标橘子</th>\n",
       "      <th>区域_橘子</th>\n",
       "      <th>区域_橘子覆盖率</th>\n",
       "      <th>区域_已有队长</th>\n",
       "      <th>区域_杰出队长</th>\n",
       "      <th>区域_普通队长</th>\n",
       "      <th>区域_预备役队长</th>\n",
       "    </tr>\n",
       "  </thead>\n",
       "  <tbody>\n",
       "    <tr>\n",
       "      <th>0</th>\n",
       "      <td>中西区域</td>\n",
       "      <td>0.951218</td>\n",
       "      <td>27740</td>\n",
       "      <td>26503</td>\n",
       "      <td>0.955407</td>\n",
       "      <td>44971</td>\n",
       "      <td>42661</td>\n",
       "      <td>0.948634</td>\n",
       "      <td>1448</td>\n",
       "      <td>226</td>\n",
       "      <td>1215</td>\n",
       "      <td>7</td>\n",
       "    </tr>\n",
       "    <tr>\n",
       "      <th>1</th>\n",
       "      <td>中南区域</td>\n",
       "      <td>0.975515</td>\n",
       "      <td>32211</td>\n",
       "      <td>31315</td>\n",
       "      <td>0.972183</td>\n",
       "      <td>66705</td>\n",
       "      <td>65179</td>\n",
       "      <td>0.977123</td>\n",
       "      <td>2084</td>\n",
       "      <td>257</td>\n",
       "      <td>1800</td>\n",
       "      <td>27</td>\n",
       "    </tr>\n",
       "  </tbody>\n",
       "</table>\n",
       "</div>"
      ],
      "text/plain": [
       "  区域_大区  区域_整体覆盖率  区域_目标对公  区域_对公  区域_对公覆盖率  区域_目标橘子  区域_橘子  区域_橘子覆盖率  \\\n",
       "0  中西区域  0.951218    27740  26503  0.955407    44971  42661  0.948634   \n",
       "1  中南区域  0.975515    32211  31315  0.972183    66705  65179  0.977123   \n",
       "\n",
       "   区域_已有队长  区域_杰出队长  区域_普通队长  区域_预备役队长  \n",
       "0     1448      226     1215         7  \n",
       "1     2084      257     1800        27  "
      ]
     },
     "execution_count": 8,
     "metadata": {},
     "output_type": "execute_result"
    }
   ],
   "source": [
    "# 队长覆盖率-大区维度\n",
    "    # 邮件\n",
    "fg_q = pd.read_excel('邮件.xlsx',sheet_name='1-队长覆盖率')\n",
    "fg_q = fg_q.add_prefix('区域_')\n",
    "fg_q.shape\n",
    "fg_q.head(2)"
   ]
  },
  {
   "cell_type": "code",
   "execution_count": 9,
   "id": "b32ab4aa",
   "metadata": {},
   "outputs": [
    {
     "data": {
      "text/plain": [
       "Index(['区域', '城市群', '城市', '队长总数', '覆盖目标司机数', '目标司机数', '有队长对公目标司机数', '对公目标司机数',\n",
       "       '有队长橘子目标司机数', '橘子目标司机数', '杰出队长数', '普通队长数', '预备役队长数'],\n",
       "      dtype='object')"
      ]
     },
     "execution_count": 9,
     "metadata": {},
     "output_type": "execute_result"
    }
   ],
   "source": [
    "fg_c = df.copy()\n",
    "fg_c.columns"
   ]
  },
  {
   "cell_type": "code",
   "execution_count": 10,
   "id": "df40e265",
   "metadata": {},
   "outputs": [
    {
     "name": "stderr",
     "output_type": "stream",
     "text": [
      "<ipython-input-10-fcabe75a8de2>:3: SettingWithCopyWarning: \n",
      "A value is trying to be set on a copy of a slice from a DataFrame.\n",
      "Try using .loc[row_indexer,col_indexer] = value instead\n",
      "\n",
      "See the caveats in the documentation: https://pandas.pydata.org/pandas-docs/stable/user_guide/indexing.html#returning-a-view-versus-a-copy\n",
      "  fg['城市覆盖率'] = fg_c['覆盖目标司机数']/fg_c['目标司机数']\n",
      "<ipython-input-10-fcabe75a8de2>:4: SettingWithCopyWarning: \n",
      "A value is trying to be set on a copy of a slice from a DataFrame.\n",
      "Try using .loc[row_indexer,col_indexer] = value instead\n",
      "\n",
      "See the caveats in the documentation: https://pandas.pydata.org/pandas-docs/stable/user_guide/indexing.html#returning-a-view-versus-a-copy\n",
      "  fg['对公覆盖率'] = fg_c['有队长对公目标司机数']/fg_c['对公目标司机数']\n",
      "<ipython-input-10-fcabe75a8de2>:5: SettingWithCopyWarning: \n",
      "A value is trying to be set on a copy of a slice from a DataFrame.\n",
      "Try using .loc[row_indexer,col_indexer] = value instead\n",
      "\n",
      "See the caveats in the documentation: https://pandas.pydata.org/pandas-docs/stable/user_guide/indexing.html#returning-a-view-versus-a-copy\n",
      "  fg['橘子覆盖率'] = fg_c['有队长橘子目标司机数']/fg_c['橘子目标司机数']\n"
     ]
    },
    {
     "data": {
      "text/html": [
       "<div>\n",
       "<style scoped>\n",
       "    .dataframe tbody tr th:only-of-type {\n",
       "        vertical-align: middle;\n",
       "    }\n",
       "\n",
       "    .dataframe tbody tr th {\n",
       "        vertical-align: top;\n",
       "    }\n",
       "\n",
       "    .dataframe thead th {\n",
       "        text-align: right;\n",
       "    }\n",
       "</style>\n",
       "<table border=\"1\" class=\"dataframe\">\n",
       "  <thead>\n",
       "    <tr style=\"text-align: right;\">\n",
       "      <th></th>\n",
       "      <th>城市</th>\n",
       "      <th>区域</th>\n",
       "      <th>城市覆盖率</th>\n",
       "      <th>对公覆盖率</th>\n",
       "      <th>橘子覆盖率</th>\n",
       "    </tr>\n",
       "  </thead>\n",
       "  <tbody>\n",
       "    <tr>\n",
       "      <th>0</th>\n",
       "      <td>洛阳市</td>\n",
       "      <td>中西区域</td>\n",
       "      <td>0.997047</td>\n",
       "      <td>0.997661</td>\n",
       "      <td>0.996602</td>\n",
       "    </tr>\n",
       "    <tr>\n",
       "      <th>1</th>\n",
       "      <td>镇江市</td>\n",
       "      <td>沪苏区域</td>\n",
       "      <td>0.994786</td>\n",
       "      <td>1.000000</td>\n",
       "      <td>0.994562</td>\n",
       "    </tr>\n",
       "  </tbody>\n",
       "</table>\n",
       "</div>"
      ],
      "text/plain": [
       "    城市    区域     城市覆盖率     对公覆盖率     橘子覆盖率\n",
       "0  洛阳市  中西区域  0.997047  0.997661  0.996602\n",
       "1  镇江市  沪苏区域  0.994786  1.000000  0.994562"
      ]
     },
     "execution_count": 10,
     "metadata": {},
     "output_type": "execute_result"
    },
    {
     "data": {
      "text/plain": [
       "(199, 5)"
      ]
     },
     "execution_count": 10,
     "metadata": {},
     "output_type": "execute_result"
    }
   ],
   "source": [
    "# fg:存储城市维度信息（进一步计算城市维度信息）\n",
    "fg = fg_c[['城市','区域']]\n",
    "fg['城市覆盖率'] = fg_c['覆盖目标司机数']/fg_c['目标司机数']\n",
    "fg['对公覆盖率'] = fg_c['有队长对公目标司机数']/fg_c['对公目标司机数']\n",
    "fg['橘子覆盖率'] = fg_c['有队长橘子目标司机数']/fg_c['橘子目标司机数']\n",
    "fg.head(2)\n",
    "fg.shape"
   ]
  },
  {
   "cell_type": "code",
   "execution_count": 11,
   "id": "f969e9d7",
   "metadata": {},
   "outputs": [
    {
     "data": {
      "text/plain": [
       "Index(['区域_大区', '区域_整体覆盖率', '区域_目标对公', '区域_对公', '区域_对公覆盖率', '区域_目标橘子', '区域_橘子',\n",
       "       '区域_橘子覆盖率', '区域_已有队长', '区域_杰出队长', '区域_普通队长', '区域_预备役队长'],\n",
       "      dtype='object')"
      ]
     },
     "execution_count": 11,
     "metadata": {},
     "output_type": "execute_result"
    }
   ],
   "source": [
    "fg_q.columns"
   ]
  },
  {
   "cell_type": "code",
   "execution_count": 12,
   "id": "a076619a",
   "metadata": {
    "scrolled": true
   },
   "outputs": [
    {
     "data": {
      "text/html": [
       "<div>\n",
       "<style scoped>\n",
       "    .dataframe tbody tr th:only-of-type {\n",
       "        vertical-align: middle;\n",
       "    }\n",
       "\n",
       "    .dataframe tbody tr th {\n",
       "        vertical-align: top;\n",
       "    }\n",
       "\n",
       "    .dataframe thead th {\n",
       "        text-align: right;\n",
       "    }\n",
       "</style>\n",
       "<table border=\"1\" class=\"dataframe\">\n",
       "  <thead>\n",
       "    <tr style=\"text-align: right;\">\n",
       "      <th></th>\n",
       "      <th>城市</th>\n",
       "      <th>区域</th>\n",
       "      <th>城市覆盖率</th>\n",
       "      <th>对公覆盖率</th>\n",
       "      <th>橘子覆盖率</th>\n",
       "      <th>区域_整体覆盖率</th>\n",
       "    </tr>\n",
       "  </thead>\n",
       "  <tbody>\n",
       "    <tr>\n",
       "      <th>0</th>\n",
       "      <td>洛阳市</td>\n",
       "      <td>中西区域</td>\n",
       "      <td>0.997047</td>\n",
       "      <td>0.997661</td>\n",
       "      <td>0.996602</td>\n",
       "      <td>0.951218</td>\n",
       "    </tr>\n",
       "  </tbody>\n",
       "</table>\n",
       "</div>"
      ],
      "text/plain": [
       "    城市    区域     城市覆盖率     对公覆盖率     橘子覆盖率  区域_整体覆盖率\n",
       "0  洛阳市  中西区域  0.997047  0.997661  0.996602  0.951218"
      ]
     },
     "execution_count": 12,
     "metadata": {},
     "output_type": "execute_result"
    }
   ],
   "source": [
    "# 将【覆盖率】和 覆盖率-分区域】合并\n",
    "fg_cq = fg.copy()\n",
    "fg_cq = pd.merge(left=fg,right=fg_q[['区域_大区','区域_整体覆盖率']],left_on='区域',right_on='区域_大区')\n",
    "del fg_cq['区域_大区']\n",
    "fg_cq.head(1)"
   ]
  },
  {
   "cell_type": "code",
   "execution_count": 13,
   "id": "bcd4c093",
   "metadata": {},
   "outputs": [
    {
     "data": {
      "text/plain": [
       "(199, 6)"
      ]
     },
     "execution_count": 13,
     "metadata": {},
     "output_type": "execute_result"
    }
   ],
   "source": [
    "fg_cq.shape"
   ]
  },
  {
   "cell_type": "code",
   "execution_count": 14,
   "id": "777c9750",
   "metadata": {},
   "outputs": [
    {
     "data": {
      "text/html": [
       "<div>\n",
       "<style scoped>\n",
       "    .dataframe tbody tr th:only-of-type {\n",
       "        vertical-align: middle;\n",
       "    }\n",
       "\n",
       "    .dataframe tbody tr th {\n",
       "        vertical-align: top;\n",
       "    }\n",
       "\n",
       "    .dataframe thead th {\n",
       "        text-align: right;\n",
       "    }\n",
       "</style>\n",
       "<table border=\"1\" class=\"dataframe\">\n",
       "  <thead>\n",
       "    <tr style=\"text-align: right;\">\n",
       "      <th></th>\n",
       "      <th>城市</th>\n",
       "      <th>区域</th>\n",
       "      <th>城市覆盖率</th>\n",
       "      <th>对公覆盖率</th>\n",
       "      <th>橘子覆盖率</th>\n",
       "      <th>区域_整体覆盖率</th>\n",
       "    </tr>\n",
       "  </thead>\n",
       "  <tbody>\n",
       "    <tr>\n",
       "      <th>31</th>\n",
       "      <td>重庆郊县</td>\n",
       "      <td>西南区域</td>\n",
       "      <td>0.812671</td>\n",
       "      <td>0.626128</td>\n",
       "      <td>0.930573</td>\n",
       "      <td>0.907406</td>\n",
       "    </tr>\n",
       "    <tr>\n",
       "      <th>62</th>\n",
       "      <td>重庆主城</td>\n",
       "      <td>西南区域</td>\n",
       "      <td>0.952141</td>\n",
       "      <td>0.925138</td>\n",
       "      <td>0.961997</td>\n",
       "      <td>0.907406</td>\n",
       "    </tr>\n",
       "  </tbody>\n",
       "</table>\n",
       "</div>"
      ],
      "text/plain": [
       "      城市    区域     城市覆盖率     对公覆盖率     橘子覆盖率  区域_整体覆盖率\n",
       "31  重庆郊县  西南区域  0.812671  0.626128  0.930573  0.907406\n",
       "62  重庆主城  西南区域  0.952141  0.925138  0.961997  0.907406"
      ]
     },
     "execution_count": 14,
     "metadata": {},
     "output_type": "execute_result"
    }
   ],
   "source": [
    "chong = fg_cq.query('城市 in [\"重庆主城\",\"重庆郊县\"]')\n",
    "chong"
   ]
  },
  {
   "cell_type": "code",
   "execution_count": 15,
   "id": "90b590c1",
   "metadata": {},
   "outputs": [
    {
     "data": {
      "text/plain": [
       "(19, 12)"
      ]
     },
     "execution_count": 15,
     "metadata": {},
     "output_type": "execute_result"
    },
    {
     "data": {
      "text/html": [
       "<div>\n",
       "<style scoped>\n",
       "    .dataframe tbody tr th:only-of-type {\n",
       "        vertical-align: middle;\n",
       "    }\n",
       "\n",
       "    .dataframe tbody tr th {\n",
       "        vertical-align: top;\n",
       "    }\n",
       "\n",
       "    .dataframe thead th {\n",
       "        text-align: right;\n",
       "    }\n",
       "</style>\n",
       "<table border=\"1\" class=\"dataframe\">\n",
       "  <thead>\n",
       "    <tr style=\"text-align: right;\">\n",
       "      <th></th>\n",
       "      <th>城市ID</th>\n",
       "      <th>大区</th>\n",
       "      <th>省份</th>\n",
       "      <th>城市名</th>\n",
       "      <th>备注</th>\n",
       "      <th>城市</th>\n",
       "      <th>城市覆盖率</th>\n",
       "      <th>对公覆盖率</th>\n",
       "      <th>橘子覆盖率</th>\n",
       "      <th>大区覆盖率</th>\n",
       "      <th>区域</th>\n",
       "      <th>区域_整体覆盖率</th>\n",
       "    </tr>\n",
       "  </thead>\n",
       "  <tbody>\n",
       "    <tr>\n",
       "      <th>0</th>\n",
       "      <td>17.0</td>\n",
       "      <td>西南区域</td>\n",
       "      <td>四川</td>\n",
       "      <td>成都市</td>\n",
       "      <td>7月15日开城</td>\n",
       "      <td>成都市</td>\n",
       "      <td>0.882595</td>\n",
       "      <td>0.783902</td>\n",
       "      <td>0.934168</td>\n",
       "      <td>0.907406</td>\n",
       "      <td>NaN</td>\n",
       "      <td>NaN</td>\n",
       "    </tr>\n",
       "  </tbody>\n",
       "</table>\n",
       "</div>"
      ],
      "text/plain": [
       "   城市ID    大区  省份  城市名       备注   城市     城市覆盖率     对公覆盖率     橘子覆盖率     大区覆盖率  \\\n",
       "0  17.0  西南区域  四川  成都市  7月15日开城  成都市  0.882595  0.783902  0.934168  0.907406   \n",
       "\n",
       "    区域  区域_整体覆盖率  \n",
       "0  NaN       NaN  "
      ]
     },
     "execution_count": 15,
     "metadata": {},
     "output_type": "execute_result"
    }
   ],
   "source": [
    "# 合并【cp城】\n",
    "df_fg = pd.merge(left=cp_df,right=fg_cq,left_on='城市名',right_on='城市')\n",
    "del df_fg['区域']\n",
    "df_fg.rename(columns={'区域_整体覆盖率':'大区覆盖率'},inplace=True)\n",
    "df_fg = df_fg.append(chong)\n",
    "df_fg.shape\n",
    "df_fg.head(1)"
   ]
  },
  {
   "cell_type": "code",
   "execution_count": 16,
   "id": "143313c5",
   "metadata": {},
   "outputs": [],
   "source": [
    "writer = pd.ExcelWriter('分城/队长覆盖率-城市维度.xlsx')\n",
    "df_fg.to_excel(writer,'队长覆盖率',index=False)\n",
    "writer.save()"
   ]
  },
  {
   "cell_type": "markdown",
   "id": "77752708",
   "metadata": {},
   "source": [
    "## 取体量大的城市分析"
   ]
  },
  {
   "cell_type": "code",
   "execution_count": 17,
   "id": "e5a28d25",
   "metadata": {},
   "outputs": [
    {
     "data": {
      "text/plain": [
       "['西南区域', '华东区域', '广东区域', '沪苏区域', '中南区域', '鲁津冀区域', '中西区域', '华北区域', nan]"
      ]
     },
     "execution_count": 17,
     "metadata": {},
     "output_type": "execute_result"
    }
   ],
   "source": [
    "lt_q = df_fg['大区'].unique().tolist()\n",
    "lt_q"
   ]
  },
  {
   "cell_type": "code",
   "execution_count": 18,
   "id": "660c4d1d",
   "metadata": {},
   "outputs": [
    {
     "data": {
      "text/plain": [
       "['成都市', '重庆主城']"
      ]
     },
     "execution_count": 18,
     "metadata": {},
     "output_type": "execute_result"
    },
    {
     "data": {
      "text/plain": [
       "40"
      ]
     },
     "execution_count": 18,
     "metadata": {},
     "output_type": "execute_result"
    }
   ],
   "source": [
    "# 汇总每个区域的目标司机数top5的城市\n",
    "def top5(q_name,df):\n",
    "    df_q = df.query('区域 == @q_name')\n",
    "    df_q = df_q.sort_values(by=['目标司机数'],ascending=False)\n",
    "    city = df_q.head(5)['城市'].values.tolist()\n",
    "    return city\n",
    "city = []\n",
    "for q in lt_q:\n",
    "    city.extend(top5(q,fg_c))\n",
    "city[:2]\n",
    "len(city)"
   ]
  },
  {
   "cell_type": "code",
   "execution_count": 19,
   "id": "6072b92c",
   "metadata": {},
   "outputs": [
    {
     "data": {
      "text/plain": [
       "(40, 6)"
      ]
     },
     "execution_count": 19,
     "metadata": {},
     "output_type": "execute_result"
    },
    {
     "data": {
      "text/html": [
       "<div>\n",
       "<style scoped>\n",
       "    .dataframe tbody tr th:only-of-type {\n",
       "        vertical-align: middle;\n",
       "    }\n",
       "\n",
       "    .dataframe tbody tr th {\n",
       "        vertical-align: top;\n",
       "    }\n",
       "\n",
       "    .dataframe thead th {\n",
       "        text-align: right;\n",
       "    }\n",
       "</style>\n",
       "<table border=\"1\" class=\"dataframe\">\n",
       "  <thead>\n",
       "    <tr style=\"text-align: right;\">\n",
       "      <th></th>\n",
       "      <th>城市</th>\n",
       "      <th>区域</th>\n",
       "      <th>城市覆盖率</th>\n",
       "      <th>对公覆盖率</th>\n",
       "      <th>橘子覆盖率</th>\n",
       "      <th>大区覆盖率</th>\n",
       "    </tr>\n",
       "  </thead>\n",
       "  <tbody>\n",
       "    <tr>\n",
       "      <th>7</th>\n",
       "      <td>银川市</td>\n",
       "      <td>中西区域</td>\n",
       "      <td>0.999525</td>\n",
       "      <td>1.0</td>\n",
       "      <td>0.999473</td>\n",
       "      <td>0.951218</td>\n",
       "    </tr>\n",
       "    <tr>\n",
       "      <th>8</th>\n",
       "      <td>西宁市</td>\n",
       "      <td>中西区域</td>\n",
       "      <td>0.993905</td>\n",
       "      <td>1.0</td>\n",
       "      <td>0.993235</td>\n",
       "      <td>0.951218</td>\n",
       "    </tr>\n",
       "  </tbody>\n",
       "</table>\n",
       "</div>"
      ],
      "text/plain": [
       "    城市    区域     城市覆盖率  对公覆盖率     橘子覆盖率     大区覆盖率\n",
       "7  银川市  中西区域  0.999525    1.0  0.999473  0.951218\n",
       "8  西宁市  中西区域  0.993905    1.0  0.993235  0.951218"
      ]
     },
     "execution_count": 19,
     "metadata": {},
     "output_type": "execute_result"
    }
   ],
   "source": [
    "fg_top5 = fg_cq.copy()\n",
    "fg_top5 = fg_top5.query('城市 in @city')\n",
    "fg_top5.rename(columns={'区域_整体覆盖率':'大区覆盖率'},inplace=True)\n",
    "fg_top5.shape\n",
    "fg_top5.head(2)"
   ]
  },
  {
   "cell_type": "code",
   "execution_count": 20,
   "id": "b4cd8b17",
   "metadata": {},
   "outputs": [
    {
     "data": {
      "text/html": [
       "<div>\n",
       "<style scoped>\n",
       "    .dataframe tbody tr th:only-of-type {\n",
       "        vertical-align: middle;\n",
       "    }\n",
       "\n",
       "    .dataframe tbody tr th {\n",
       "        vertical-align: top;\n",
       "    }\n",
       "\n",
       "    .dataframe thead th {\n",
       "        text-align: right;\n",
       "    }\n",
       "</style>\n",
       "<table border=\"1\" class=\"dataframe\">\n",
       "  <thead>\n",
       "    <tr style=\"text-align: right;\">\n",
       "      <th></th>\n",
       "      <th>城市</th>\n",
       "      <th>区域</th>\n",
       "      <th>城市覆盖率</th>\n",
       "      <th>对公覆盖率</th>\n",
       "      <th>橘子覆盖率</th>\n",
       "      <th>大区覆盖率</th>\n",
       "    </tr>\n",
       "  </thead>\n",
       "  <tbody>\n",
       "    <tr>\n",
       "      <th>31</th>\n",
       "      <td>重庆郊县</td>\n",
       "      <td>西南区域</td>\n",
       "      <td>0.812671</td>\n",
       "      <td>0.626128</td>\n",
       "      <td>0.930573</td>\n",
       "      <td>0.907406</td>\n",
       "    </tr>\n",
       "    <tr>\n",
       "      <th>53</th>\n",
       "      <td>成都市</td>\n",
       "      <td>西南区域</td>\n",
       "      <td>0.882595</td>\n",
       "      <td>0.783902</td>\n",
       "      <td>0.934168</td>\n",
       "      <td>0.907406</td>\n",
       "    </tr>\n",
       "    <tr>\n",
       "      <th>12</th>\n",
       "      <td>郑州市</td>\n",
       "      <td>中西区域</td>\n",
       "      <td>0.893831</td>\n",
       "      <td>0.911800</td>\n",
       "      <td>0.885054</td>\n",
       "      <td>0.951218</td>\n",
       "    </tr>\n",
       "    <tr>\n",
       "      <th>157</th>\n",
       "      <td>惠州市</td>\n",
       "      <td>广东区域</td>\n",
       "      <td>0.922071</td>\n",
       "      <td>0.937590</td>\n",
       "      <td>0.916708</td>\n",
       "      <td>0.948571</td>\n",
       "    </tr>\n",
       "    <tr>\n",
       "      <th>77</th>\n",
       "      <td>厦门市</td>\n",
       "      <td>华东区域</td>\n",
       "      <td>0.922575</td>\n",
       "      <td>0.929187</td>\n",
       "      <td>0.918912</td>\n",
       "      <td>0.942718</td>\n",
       "    </tr>\n",
       "    <tr>\n",
       "      <th>161</th>\n",
       "      <td>深圳市</td>\n",
       "      <td>广东区域</td>\n",
       "      <td>0.927608</td>\n",
       "      <td>0.880275</td>\n",
       "      <td>0.956469</td>\n",
       "      <td>0.948571</td>\n",
       "    </tr>\n",
       "    <tr>\n",
       "      <th>44</th>\n",
       "      <td>昆明市</td>\n",
       "      <td>西南区域</td>\n",
       "      <td>0.940345</td>\n",
       "      <td>0.942885</td>\n",
       "      <td>0.939762</td>\n",
       "      <td>0.907406</td>\n",
       "    </tr>\n",
       "    <tr>\n",
       "      <th>80</th>\n",
       "      <td>温州市</td>\n",
       "      <td>华东区域</td>\n",
       "      <td>0.944689</td>\n",
       "      <td>0.928393</td>\n",
       "      <td>0.949099</td>\n",
       "      <td>0.942718</td>\n",
       "    </tr>\n",
       "    <tr>\n",
       "      <th>87</th>\n",
       "      <td>杭州市</td>\n",
       "      <td>华东区域</td>\n",
       "      <td>0.945895</td>\n",
       "      <td>0.916512</td>\n",
       "      <td>0.962062</td>\n",
       "      <td>0.942718</td>\n",
       "    </tr>\n",
       "    <tr>\n",
       "      <th>81</th>\n",
       "      <td>合肥市</td>\n",
       "      <td>华东区域</td>\n",
       "      <td>0.949031</td>\n",
       "      <td>0.932325</td>\n",
       "      <td>0.956825</td>\n",
       "      <td>0.942718</td>\n",
       "    </tr>\n",
       "  </tbody>\n",
       "</table>\n",
       "</div>"
      ],
      "text/plain": [
       "       城市    区域     城市覆盖率     对公覆盖率     橘子覆盖率     大区覆盖率\n",
       "31   重庆郊县  西南区域  0.812671  0.626128  0.930573  0.907406\n",
       "53    成都市  西南区域  0.882595  0.783902  0.934168  0.907406\n",
       "12    郑州市  中西区域  0.893831  0.911800  0.885054  0.951218\n",
       "157   惠州市  广东区域  0.922071  0.937590  0.916708  0.948571\n",
       "77    厦门市  华东区域  0.922575  0.929187  0.918912  0.942718\n",
       "161   深圳市  广东区域  0.927608  0.880275  0.956469  0.948571\n",
       "44    昆明市  西南区域  0.940345  0.942885  0.939762  0.907406\n",
       "80    温州市  华东区域  0.944689  0.928393  0.949099  0.942718\n",
       "87    杭州市  华东区域  0.945895  0.916512  0.962062  0.942718\n",
       "81    合肥市  华东区域  0.949031  0.932325  0.956825  0.942718"
      ]
     },
     "execution_count": 20,
     "metadata": {},
     "output_type": "execute_result"
    }
   ],
   "source": [
    "fg_top5.sort_values(by=['城市覆盖率'],ascending=True,inplace=True)\n",
    "fg_top5[:10]"
   ]
  },
  {
   "cell_type": "code",
   "execution_count": 21,
   "id": "761ae830",
   "metadata": {},
   "outputs": [
    {
     "data": {
      "text/html": [
       "<div>\n",
       "<style scoped>\n",
       "    .dataframe tbody tr th:only-of-type {\n",
       "        vertical-align: middle;\n",
       "    }\n",
       "\n",
       "    .dataframe tbody tr th {\n",
       "        vertical-align: top;\n",
       "    }\n",
       "\n",
       "    .dataframe thead th {\n",
       "        text-align: right;\n",
       "    }\n",
       "</style>\n",
       "<table border=\"1\" class=\"dataframe\">\n",
       "  <thead>\n",
       "    <tr style=\"text-align: right;\">\n",
       "      <th></th>\n",
       "      <th>城市</th>\n",
       "      <th>区域</th>\n",
       "      <th>城市覆盖率</th>\n",
       "      <th>对公覆盖率</th>\n",
       "      <th>橘子覆盖率</th>\n",
       "      <th>大区覆盖率</th>\n",
       "    </tr>\n",
       "  </thead>\n",
       "  <tbody>\n",
       "    <tr>\n",
       "      <th>31</th>\n",
       "      <td>重庆郊县</td>\n",
       "      <td>西南区域</td>\n",
       "      <td>0.812671</td>\n",
       "      <td>0.626128</td>\n",
       "      <td>0.930573</td>\n",
       "      <td>0.907406</td>\n",
       "    </tr>\n",
       "    <tr>\n",
       "      <th>53</th>\n",
       "      <td>成都市</td>\n",
       "      <td>西南区域</td>\n",
       "      <td>0.882595</td>\n",
       "      <td>0.783902</td>\n",
       "      <td>0.934168</td>\n",
       "      <td>0.907406</td>\n",
       "    </tr>\n",
       "    <tr>\n",
       "      <th>12</th>\n",
       "      <td>郑州市</td>\n",
       "      <td>中西区域</td>\n",
       "      <td>0.893831</td>\n",
       "      <td>0.911800</td>\n",
       "      <td>0.885054</td>\n",
       "      <td>0.951218</td>\n",
       "    </tr>\n",
       "    <tr>\n",
       "      <th>161</th>\n",
       "      <td>深圳市</td>\n",
       "      <td>广东区域</td>\n",
       "      <td>0.927608</td>\n",
       "      <td>0.880275</td>\n",
       "      <td>0.956469</td>\n",
       "      <td>0.948571</td>\n",
       "    </tr>\n",
       "    <tr>\n",
       "      <th>87</th>\n",
       "      <td>杭州市</td>\n",
       "      <td>华东区域</td>\n",
       "      <td>0.945895</td>\n",
       "      <td>0.916512</td>\n",
       "      <td>0.962062</td>\n",
       "      <td>0.942718</td>\n",
       "    </tr>\n",
       "    <tr>\n",
       "      <th>81</th>\n",
       "      <td>合肥市</td>\n",
       "      <td>华东区域</td>\n",
       "      <td>0.949031</td>\n",
       "      <td>0.932325</td>\n",
       "      <td>0.956825</td>\n",
       "      <td>0.942718</td>\n",
       "    </tr>\n",
       "  </tbody>\n",
       "</table>\n",
       "</div>"
      ],
      "text/plain": [
       "       城市    区域     城市覆盖率     对公覆盖率     橘子覆盖率     大区覆盖率\n",
       "31   重庆郊县  西南区域  0.812671  0.626128  0.930573  0.907406\n",
       "53    成都市  西南区域  0.882595  0.783902  0.934168  0.907406\n",
       "12    郑州市  中西区域  0.893831  0.911800  0.885054  0.951218\n",
       "161   深圳市  广东区域  0.927608  0.880275  0.956469  0.948571\n",
       "87    杭州市  华东区域  0.945895  0.916512  0.962062  0.942718\n",
       "81    合肥市  华东区域  0.949031  0.932325  0.956825  0.942718"
      ]
     },
     "execution_count": 21,
     "metadata": {},
     "output_type": "execute_result"
    }
   ],
   "source": [
    "fg_top5.head(10).query('城市 in @cp_lt')"
   ]
  },
  {
   "cell_type": "code",
   "execution_count": 22,
   "id": "22b09f3b",
   "metadata": {},
   "outputs": [
    {
     "name": "stderr",
     "output_type": "stream",
     "text": [
      "C:\\Users\\shenyajun_i\\Anaconda3\\lib\\site-packages\\xlsxwriter\\workbook.py:336: UserWarning: Calling close() on already closed file.\n",
      "  warn(\"Calling close() on already closed file.\")\n"
     ]
    }
   ],
   "source": [
    "fg_top5.to_excel(writer,'队长覆盖率-top5城市',index=False)\n",
    "writer.save()"
   ]
  },
  {
   "cell_type": "code",
   "execution_count": null,
   "id": "3eeca806",
   "metadata": {},
   "outputs": [],
   "source": []
  }
 ],
 "metadata": {
  "kernelspec": {
   "display_name": "Python 3",
   "language": "python",
   "name": "python3"
  },
  "language_info": {
   "codemirror_mode": {
    "name": "ipython",
    "version": 3
   },
   "file_extension": ".py",
   "mimetype": "text/x-python",
   "name": "python",
   "nbconvert_exporter": "python",
   "pygments_lexer": "ipython3",
   "version": "3.8.8"
  },
  "toc": {
   "base_numbering": 1,
   "nav_menu": {},
   "number_sections": true,
   "sideBar": true,
   "skip_h1_title": false,
   "title_cell": "Table of Contents",
   "title_sidebar": "Contents",
   "toc_cell": false,
   "toc_position": {},
   "toc_section_display": true,
   "toc_window_display": true
  }
 },
 "nbformat": 4,
 "nbformat_minor": 5
}
