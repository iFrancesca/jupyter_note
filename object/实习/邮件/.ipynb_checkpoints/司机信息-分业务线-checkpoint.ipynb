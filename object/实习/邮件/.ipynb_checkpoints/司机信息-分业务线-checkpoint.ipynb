{
 "cells": [
  {
   "cell_type": "code",
   "execution_count": 1,
   "id": "38d755aa",
   "metadata": {},
   "outputs": [],
   "source": [
    "import time\n",
    "import shutil\n",
    "import pandas as pd\n",
    "import numpy as np\n",
    "from datetime import datetime\n",
    "from openpyxl import load_workbook\n",
    "from openpyxl import Workbook\n",
    "from openpyxl.utils.dataframe import dataframe_to_rows\n",
    "\n",
    "from IPython.core.interactiveshell import InteractiveShell \n",
    "InteractiveShell.ast_node_interactivity = \"all\""
   ]
  },
  {
   "cell_type": "code",
   "execution_count": 30,
   "id": "ed48e137",
   "metadata": {},
   "outputs": [
    {
     "name": "stdout",
     "output_type": "stream",
     "text": [
      "D:\\file\\o\\队长\\满意度\n"
     ]
    },
    {
     "data": {
      "text/plain": [
       "'D:\\\\file\\\\o\\\\队长\\\\满意度'"
      ]
     },
     "execution_count": 30,
     "metadata": {},
     "output_type": "execute_result"
    }
   ],
   "source": [
    "import os\n",
    "print(os.getcwd())  #当前路径\n",
    "\n",
    "#更改当前路径\n",
    "os.chdir('D:\\\\file\\\\o\\\\队长\\\\\\满意度\\\\')\n",
    "os.getcwd()"
   ]
  },
  {
   "cell_type": "code",
   "execution_count": 5,
   "id": "797dab27",
   "metadata": {},
   "outputs": [
    {
     "data": {
      "text/plain": [
       "(21041, 8)"
      ]
     },
     "execution_count": 5,
     "metadata": {},
     "output_type": "execute_result"
    },
    {
     "data": {
      "text/html": [
       "<div>\n",
       "<style scoped>\n",
       "    .dataframe tbody tr th:only-of-type {\n",
       "        vertical-align: middle;\n",
       "    }\n",
       "\n",
       "    .dataframe tbody tr th {\n",
       "        vertical-align: top;\n",
       "    }\n",
       "\n",
       "    .dataframe thead th {\n",
       "        text-align: right;\n",
       "    }\n",
       "</style>\n",
       "<table border=\"1\" class=\"dataframe\">\n",
       "  <thead>\n",
       "    <tr style=\"text-align: right;\">\n",
       "      <th></th>\n",
       "      <th>司机队长id</th>\n",
       "      <th>司机队长姓名</th>\n",
       "      <th>大区</th>\n",
       "      <th>城市id</th>\n",
       "      <th>城市名称</th>\n",
       "      <th>司服id</th>\n",
       "      <th>司服姓名</th>\n",
       "      <th>业务线</th>\n",
       "    </tr>\n",
       "  </thead>\n",
       "  <tbody>\n",
       "    <tr>\n",
       "      <th>0</th>\n",
       "      <td>565093251682977</td>\n",
       "      <td>白孟滨</td>\n",
       "      <td>广东区域</td>\n",
       "      <td>153.0</td>\n",
       "      <td>江门市</td>\n",
       "      <td>898931899.0</td>\n",
       "      <td>蔡红雯</td>\n",
       "      <td>快车</td>\n",
       "    </tr>\n",
       "  </tbody>\n",
       "</table>\n",
       "</div>"
      ],
      "text/plain": [
       "            司机队长id 司机队长姓名    大区   城市id 城市名称         司服id 司服姓名 业务线\n",
       "0  565093251682977    白孟滨  广东区域  153.0  江门市  898931899.0  蔡红雯  快车"
      ]
     },
     "execution_count": 5,
     "metadata": {},
     "output_type": "execute_result"
    },
    {
     "data": {
      "text/plain": [
       "Index(['司机队长id', '司机队长姓名', '大区', '城市id', '城市名称', '司服id', '司服姓名', '业务线'], dtype='object')"
      ]
     },
     "execution_count": 5,
     "metadata": {},
     "output_type": "execute_result"
    }
   ],
   "source": [
    "info = pd.read_csv('队长基本信息匹配.csv', encoding='gbk')\n",
    "info.shape\n",
    "info.head(1)\n",
    "info.columns"
   ]
  },
  {
   "cell_type": "code",
   "execution_count": 53,
   "id": "c4847a56",
   "metadata": {},
   "outputs": [],
   "source": [
    "def get_lt(file):\n",
    "    try:\n",
    "        with open(file,'r') as f:\n",
    "            lt = f.readlines()\n",
    "            lt = list(map(lambda x: x.strip('\\n').strip(' '), lt))\n",
    "            lt = list(map(int, lt))\n",
    "    except:\n",
    "        print('error: '+file)\n",
    "    return lt\n",
    "d1 = get_lt('D1队长名单.txt')\n",
    "yx = get_lt('优享名单.txt')\n",
    "kc = get_lt('快车名单.txt')"
   ]
  },
  {
   "cell_type": "code",
   "execution_count": 56,
   "id": "c4fed448",
   "metadata": {},
   "outputs": [
    {
     "data": {
      "text/plain": [
       "21041"
      ]
     },
     "execution_count": 56,
     "metadata": {},
     "output_type": "execute_result"
    }
   ],
   "source": [
    "len(d1) + len(yx) + len(kc)"
   ]
  },
  {
   "cell_type": "code",
   "execution_count": 20,
   "id": "0cc13de7",
   "metadata": {},
   "outputs": [],
   "source": [
    "'''\n",
    "d1 = pd.read_csv('D1队长名单.txt', header=None, names=['司机队长id'])  # 再导入数据的时候 设置columns名字\n",
    "# d1.columns = ['司机队长id']  # 导入数据之后设置columns的名字\n",
    "kc = pd.read_csv('快车名单.txt', header=None, names=['司机队长id'])\n",
    "yx = pd.read_csv('优享名单.txt', header=None, names=['司机队长id'])\n",
    "\n",
    "d1.shape\n",
    "kc.shape\n",
    "yx.shape\n",
    "d1.shape[0] + kc.shape[0] + yx.shape[0]\n",
    "'''"
   ]
  },
  {
   "cell_type": "code",
   "execution_count": 57,
   "id": "b7a85989",
   "metadata": {},
   "outputs": [],
   "source": [
    "df_d1 = info.query('司机队长id in @d1')\n",
    "df_yx = info.query('司机队长id in @yx')\n",
    "df_kc = info.query('司机队长id in @kc')"
   ]
  },
  {
   "cell_type": "code",
   "execution_count": 83,
   "id": "930b634b",
   "metadata": {},
   "outputs": [],
   "source": [
    "df2_d1 = df_d1.groupby('大区')['司机队长id'].count()\n",
    "df2_yx = df_yx.groupby('大区')['司机队长id'].count()\n",
    "df2_kc = df_kc.groupby('大区')['司机队长id'].count()"
   ]
  },
  {
   "cell_type": "code",
   "execution_count": 84,
   "id": "4a7bb624",
   "metadata": {},
   "outputs": [],
   "source": [
    "sort_lt = ['中西区域', '中南区域', '西南区域', '鲁津冀区域', '华东区域', '华北区域', '沪苏区域', '广东区域']\n",
    "df2_yx = df2_yx[sort_lt]\n",
    "df2_kc = df2_kc[sort_lt]"
   ]
  },
  {
   "cell_type": "code",
   "execution_count": 85,
   "id": "000e3e7c",
   "metadata": {},
   "outputs": [
    {
     "data": {
      "text/plain": [
       "大区\n",
       "中西区域      56\n",
       "中南区域      46\n",
       "西南区域     170\n",
       "鲁津冀区域     96\n",
       "华东区域      96\n",
       "华北区域     736\n",
       "沪苏区域     286\n",
       "广东区域     190\n",
       "Name: 司机队长id, dtype: int64"
      ]
     },
     "execution_count": 85,
     "metadata": {},
     "output_type": "execute_result"
    }
   ],
   "source": [
    "df2_yx"
   ]
  },
  {
   "cell_type": "code",
   "execution_count": 86,
   "id": "b78237cc",
   "metadata": {},
   "outputs": [],
   "source": [
    "writer = pd.ExcelWriter('队长信息-分业务线.xlsx')\n",
    "df2_d1.to_excel(writer, 'D1', index=True)\n",
    "df2_yx.to_excel(writer, '优享', index=True)\n",
    "df2_kc.to_excel(writer, '快车', index=True)\n",
    "writer.save()"
   ]
  }
 ],
 "metadata": {
  "kernelspec": {
   "display_name": "Python 3",
   "language": "python",
   "name": "python3"
  },
  "language_info": {
   "codemirror_mode": {
    "name": "ipython",
    "version": 3
   },
   "file_extension": ".py",
   "mimetype": "text/x-python",
   "name": "python",
   "nbconvert_exporter": "python",
   "pygments_lexer": "ipython3",
   "version": "3.8.8"
  },
  "toc": {
   "base_numbering": 1,
   "nav_menu": {},
   "number_sections": true,
   "sideBar": true,
   "skip_h1_title": false,
   "title_cell": "Table of Contents",
   "title_sidebar": "Contents",
   "toc_cell": false,
   "toc_position": {},
   "toc_section_display": true,
   "toc_window_display": false
  }
 },
 "nbformat": 4,
 "nbformat_minor": 5
}
