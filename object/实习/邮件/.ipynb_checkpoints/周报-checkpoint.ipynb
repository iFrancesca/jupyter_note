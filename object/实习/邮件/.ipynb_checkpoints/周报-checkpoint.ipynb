{
 "cells": [
  {
   "cell_type": "code",
   "execution_count": 1,
   "id": "939ea89e",
   "metadata": {
    "ExecuteTime": {
     "end_time": "2021-12-17T05:02:25.001178Z",
     "start_time": "2021-12-17T05:02:22.307247Z"
    }
   },
   "outputs": [],
   "source": [
    "import time\n",
    "import shutil\n",
    "import pandas as pd\n",
    "import numpy as np\n",
    "from datetime import datetime\n",
    "from openpyxl import load_workbook\n",
    "from openpyxl import Workbook\n",
    "from openpyxl.utils.dataframe import dataframe_to_rows\n",
    "\n",
    "from IPython.core.interactiveshell import InteractiveShell \n",
    "InteractiveShell.ast_node_interactivity = \"all\""
   ]
  },
  {
   "cell_type": "code",
   "execution_count": 2,
   "id": "baf9fa28",
   "metadata": {
    "ExecuteTime": {
     "end_time": "2021-12-17T05:02:25.015135Z",
     "start_time": "2021-12-17T05:02:25.002169Z"
    }
   },
   "outputs": [
    {
     "name": "stdout",
     "output_type": "stream",
     "text": [
      "D:\\code\\jupyter\\邮件\n"
     ]
    },
    {
     "data": {
      "text/plain": [
       "'D:\\\\file\\\\o\\\\队长\\\\周报\\\\s\\\\1217'"
      ]
     },
     "execution_count": 2,
     "metadata": {},
     "output_type": "execute_result"
    }
   ],
   "source": [
    "import os\n",
    "print(os.getcwd())  #当前路径\n",
    "\n",
    "#更改当前路径\n",
    "os.chdir('D:/file/o/队长/周报/s/1217/')\n",
    "os.getcwd()"
   ]
  },
  {
   "cell_type": "code",
   "execution_count": 3,
   "id": "d0ac34c0",
   "metadata": {
    "ExecuteTime": {
     "end_time": "2021-12-17T05:02:25.021118Z",
     "start_time": "2021-12-17T05:02:25.017130Z"
    }
   },
   "outputs": [
    {
     "data": {
      "text/plain": [
       "'\\nimport os\\nimport shutil \\n\\ndef copy_allfiles(src,dest):\\n#src:原文件夹；dest:目标文件夹\\n  src_files = os.listdir(src)\\n  for file_name in src_files:\\n    full_file_name = os.path.join(src, file_name)\\n    if os.path.isfile(full_file_name):\\n        shutil.copy(full_file_name, dest)\\n        '"
      ]
     },
     "execution_count": 3,
     "metadata": {},
     "output_type": "execute_result"
    }
   ],
   "source": [
    "'''\n",
    "import os\n",
    "import shutil \n",
    "\n",
    "def copy_allfiles(src,dest):\n",
    "#src:原文件夹；dest:目标文件夹\n",
    "  src_files = os.listdir(src)\n",
    "  for file_name in src_files:\n",
    "    full_file_name = os.path.join(src, file_name)\n",
    "    if os.path.isfile(full_file_name):\n",
    "        shutil.copy(full_file_name, dest)\n",
    "        '''"
   ]
  },
  {
   "cell_type": "markdown",
   "id": "72a16865",
   "metadata": {},
   "source": [
    "## 1-队长覆盖率"
   ]
  },
  {
   "cell_type": "markdown",
   "id": "0a729d33",
   "metadata": {},
   "source": [
    "### raw_data"
   ]
  },
  {
   "cell_type": "code",
   "execution_count": 4,
   "id": "811a2fb5",
   "metadata": {
    "ExecuteTime": {
     "end_time": "2021-12-17T05:02:39.972020Z",
     "start_time": "2021-12-17T05:02:25.023114Z"
    }
   },
   "outputs": [
    {
     "name": "stdout",
     "output_type": "stream",
     "text": [
      "data_file_name: shenyajun_i队长覆盖率（区域用Q4）-202112171000\n"
     ]
    },
    {
     "data": {
      "text/plain": [
       "'shenyajun_i队长覆盖率（区域用Q4）-202112171000.csv'"
      ]
     },
     "execution_count": 4,
     "metadata": {},
     "output_type": "execute_result"
    }
   ],
   "source": [
    "# shenyajun_i队长覆盖率（区域用Q4）20211116104220\n",
    "data_path = input('data_file_name: ')\n",
    "data_path = data_path + '.csv'\n",
    "data_path"
   ]
  },
  {
   "cell_type": "code",
   "execution_count": 5,
   "id": "9e4ca4f1",
   "metadata": {
    "ExecuteTime": {
     "end_time": "2021-12-17T05:02:39.985491Z",
     "start_time": "2021-12-17T05:02:39.973017Z"
    }
   },
   "outputs": [
    {
     "data": {
      "text/plain": [
       "(202, 13)"
      ]
     },
     "execution_count": 5,
     "metadata": {},
     "output_type": "execute_result"
    }
   ],
   "source": [
    "data_df = pd.read_csv(data_path,encoding='gbk')\n",
    "data_df.shape"
   ]
  },
  {
   "cell_type": "code",
   "execution_count": 6,
   "id": "d0c1153c",
   "metadata": {
    "ExecuteTime": {
     "end_time": "2021-12-17T05:02:39.992473Z",
     "start_time": "2021-12-17T05:02:39.986490Z"
    }
   },
   "outputs": [
    {
     "data": {
      "text/plain": [
       "Index(['区域', '城市群', '城市', '队长总数', '覆盖目标司机数', '目标司机数', '有队长对公目标司机数', '对公目标司机数',\n",
       "       '有队长橘子目标司机数', '橘子目标司机数', '杰出队长数', '普通队长数', '预备役队长数'],\n",
       "      dtype='object')"
      ]
     },
     "execution_count": 6,
     "metadata": {},
     "output_type": "execute_result"
    }
   ],
   "source": [
    "data_df.columns"
   ]
  },
  {
   "cell_type": "code",
   "execution_count": 7,
   "id": "f08adb61",
   "metadata": {
    "ExecuteTime": {
     "end_time": "2021-12-17T05:02:40.000451Z",
     "start_time": "2021-12-17T05:02:39.993470Z"
    }
   },
   "outputs": [
    {
     "data": {
      "text/plain": [
       "(199, 13)"
      ]
     },
     "execution_count": 7,
     "metadata": {},
     "output_type": "execute_result"
    }
   ],
   "source": [
    "# 筛选掉战区+停服城市\n",
    "df = data_df[~((data_df['城市']=='南京市')|(data_df['城市']=='上海市')|(data_df['城市']=='乌鲁木齐市'))]\n",
    "#df = data_df[df['城市'].isin(['南京市'])]\n",
    "df.shape"
   ]
  },
  {
   "cell_type": "code",
   "execution_count": 8,
   "id": "2b717a34",
   "metadata": {
    "ExecuteTime": {
     "end_time": "2021-12-17T05:02:40.020399Z",
     "start_time": "2021-12-17T05:02:40.003443Z"
    }
   },
   "outputs": [
    {
     "data": {
      "text/html": [
       "<div>\n",
       "<style scoped>\n",
       "    .dataframe tbody tr th:only-of-type {\n",
       "        vertical-align: middle;\n",
       "    }\n",
       "\n",
       "    .dataframe tbody tr th {\n",
       "        vertical-align: top;\n",
       "    }\n",
       "\n",
       "    .dataframe thead th {\n",
       "        text-align: right;\n",
       "    }\n",
       "</style>\n",
       "<table border=\"1\" class=\"dataframe\">\n",
       "  <thead>\n",
       "    <tr style=\"text-align: right;\">\n",
       "      <th></th>\n",
       "      <th>区域</th>\n",
       "      <th>城市群</th>\n",
       "      <th>城市</th>\n",
       "      <th>队长总数</th>\n",
       "      <th>覆盖目标司机数</th>\n",
       "      <th>目标司机数</th>\n",
       "      <th>有队长对公目标司机数</th>\n",
       "      <th>对公目标司机数</th>\n",
       "      <th>有队长橘子目标司机数</th>\n",
       "      <th>橘子目标司机数</th>\n",
       "      <th>杰出队长数</th>\n",
       "      <th>普通队长数</th>\n",
       "      <th>预备役队长数</th>\n",
       "    </tr>\n",
       "  </thead>\n",
       "  <tbody>\n",
       "    <tr>\n",
       "      <th>0</th>\n",
       "      <td>中西区域</td>\n",
       "      <td>山西潜力城市群</td>\n",
       "      <td>大同市</td>\n",
       "      <td>12</td>\n",
       "      <td>817</td>\n",
       "      <td>818</td>\n",
       "      <td>101</td>\n",
       "      <td>101</td>\n",
       "      <td>716</td>\n",
       "      <td>717</td>\n",
       "      <td>6</td>\n",
       "      <td>6</td>\n",
       "      <td>0</td>\n",
       "    </tr>\n",
       "    <tr>\n",
       "      <th>1</th>\n",
       "      <td>鲁津冀区域</td>\n",
       "      <td>冀北城市群</td>\n",
       "      <td>廊坊市</td>\n",
       "      <td>61</td>\n",
       "      <td>3025</td>\n",
       "      <td>3173</td>\n",
       "      <td>14</td>\n",
       "      <td>16</td>\n",
       "      <td>3011</td>\n",
       "      <td>3157</td>\n",
       "      <td>13</td>\n",
       "      <td>45</td>\n",
       "      <td>3</td>\n",
       "    </tr>\n",
       "    <tr>\n",
       "      <th>2</th>\n",
       "      <td>中西区域</td>\n",
       "      <td>郑州城市群</td>\n",
       "      <td>郑州市</td>\n",
       "      <td>402</td>\n",
       "      <td>15904</td>\n",
       "      <td>17896</td>\n",
       "      <td>5233</td>\n",
       "      <td>5786</td>\n",
       "      <td>10671</td>\n",
       "      <td>12110</td>\n",
       "      <td>33</td>\n",
       "      <td>367</td>\n",
       "      <td>2</td>\n",
       "    </tr>\n",
       "    <tr>\n",
       "      <th>3</th>\n",
       "      <td>中南区域</td>\n",
       "      <td>桂西城市群</td>\n",
       "      <td>崇左市</td>\n",
       "      <td>7</td>\n",
       "      <td>344</td>\n",
       "      <td>357</td>\n",
       "      <td>1</td>\n",
       "      <td>2</td>\n",
       "      <td>343</td>\n",
       "      <td>355</td>\n",
       "      <td>2</td>\n",
       "      <td>5</td>\n",
       "      <td>0</td>\n",
       "    </tr>\n",
       "    <tr>\n",
       "      <th>4</th>\n",
       "      <td>西南区域</td>\n",
       "      <td>重庆</td>\n",
       "      <td>重庆主城</td>\n",
       "      <td>440</td>\n",
       "      <td>18738</td>\n",
       "      <td>19683</td>\n",
       "      <td>4773</td>\n",
       "      <td>5162</td>\n",
       "      <td>13965</td>\n",
       "      <td>14521</td>\n",
       "      <td>15</td>\n",
       "      <td>418</td>\n",
       "      <td>7</td>\n",
       "    </tr>\n",
       "  </tbody>\n",
       "</table>\n",
       "</div>"
      ],
      "text/plain": [
       "      区域      城市群    城市  队长总数  覆盖目标司机数  目标司机数  有队长对公目标司机数  对公目标司机数  \\\n",
       "0   中西区域  山西潜力城市群   大同市    12      817    818         101      101   \n",
       "1  鲁津冀区域    冀北城市群   廊坊市    61     3025   3173          14       16   \n",
       "2   中西区域    郑州城市群   郑州市   402    15904  17896        5233     5786   \n",
       "3   中南区域    桂西城市群   崇左市     7      344    357           1        2   \n",
       "4   西南区域       重庆  重庆主城   440    18738  19683        4773     5162   \n",
       "\n",
       "   有队长橘子目标司机数  橘子目标司机数  杰出队长数  普通队长数  预备役队长数  \n",
       "0         716      717      6      6       0  \n",
       "1        3011     3157     13     45       3  \n",
       "2       10671    12110     33    367       2  \n",
       "3         343      355      2      5       0  \n",
       "4       13965    14521     15    418       7  "
      ]
     },
     "execution_count": 8,
     "metadata": {},
     "output_type": "execute_result"
    }
   ],
   "source": [
    "df.head()"
   ]
  },
  {
   "cell_type": "code",
   "execution_count": 9,
   "id": "6c8cb156",
   "metadata": {
    "ExecuteTime": {
     "end_time": "2021-12-17T05:02:40.025386Z",
     "start_time": "2021-12-17T05:02:40.022393Z"
    },
    "scrolled": true
   },
   "outputs": [],
   "source": [
    "#df_exc = df.loc[:,['区域', '城市群', '城市']]"
   ]
  },
  {
   "cell_type": "markdown",
   "id": "df2bf491",
   "metadata": {},
   "source": [
    "### 写入excel"
   ]
  },
  {
   "cell_type": "code",
   "execution_count": 10,
   "id": "fae27c35",
   "metadata": {
    "ExecuteTime": {
     "end_time": "2021-12-17T05:02:40.036356Z",
     "start_time": "2021-12-17T05:02:40.026382Z"
    }
   },
   "outputs": [
    {
     "data": {
      "text/plain": [
       "[['中西区域', '山西潜力城市群', '大同市', 12, 817, 818, 101, 101, 716, 717, 6, 6, 0],\n",
       " ['鲁津冀区域', '冀北城市群', '廊坊市', 61, 3025, 3173, 14, 16, 3011, 3157, 13, 45, 3],\n",
       " ['中西区域',\n",
       "  '郑州城市群',\n",
       "  '郑州市',\n",
       "  402,\n",
       "  15904,\n",
       "  17896,\n",
       "  5233,\n",
       "  5786,\n",
       "  10671,\n",
       "  12110,\n",
       "  33,\n",
       "  367,\n",
       "  2],\n",
       " ['中南区域', '桂西城市群', '崇左市', 7, 344, 357, 1, 2, 343, 355, 2, 5, 0],\n",
       " ['西南区域',\n",
       "  '重庆',\n",
       "  '重庆主城',\n",
       "  440,\n",
       "  18738,\n",
       "  19683,\n",
       "  4773,\n",
       "  5162,\n",
       "  13965,\n",
       "  14521,\n",
       "  15,\n",
       "  418,\n",
       "  7]]"
      ]
     },
     "execution_count": 10,
     "metadata": {},
     "output_type": "execute_result"
    }
   ],
   "source": [
    "# data = [df.columns.values.tolist()] + df.values.tolist()\n",
    "data = df.values.tolist()\n",
    "data[0:5]"
   ]
  },
  {
   "cell_type": "code",
   "execution_count": 11,
   "id": "1969d90f",
   "metadata": {
    "ExecuteTime": {
     "end_time": "2021-12-17T05:02:40.042340Z",
     "start_time": "2021-12-17T05:02:40.038351Z"
    }
   },
   "outputs": [
    {
     "data": {
      "text/plain": [
       "'\\n# 将列表按行写入\\nwb_data = Workbook()\\nws_data = wb_data.create_sheet(\\'1-队长覆盖率\\')\\n\\nfor r in dataframe_to_rows(df, index=False, header=False):   #不写入DataFrame的行列索引\\n    ws_data.append(r)\\n    \\nwb_data.save(\\'1111.xlsx\\')\\n\\n# 写完后打开文件\\nfrom win32com.client import Dispatch\\n \\nxlApp = Dispatch(\"Excel.Application\")\\nxlApp.Visible = True\\nxlBook = xlApp.Workbooks.Open(\\'D:/file/o/队长/周报/s/1120/1111.xlsx\\')\\n'"
      ]
     },
     "execution_count": 11,
     "metadata": {},
     "output_type": "execute_result"
    }
   ],
   "source": [
    "# 手工操作\n",
    "'''\n",
    "# 将列表按行写入\n",
    "wb_data = Workbook()\n",
    "ws_data = wb_data.create_sheet('1-队长覆盖率')\n",
    "\n",
    "for r in dataframe_to_rows(df, index=False, header=False):   #不写入DataFrame的行列索引\n",
    "    ws_data.append(r)\n",
    "    \n",
    "wb_data.save('1111.xlsx')\n",
    "\n",
    "# 写完后打开文件\n",
    "from win32com.client import Dispatch\n",
    " \n",
    "xlApp = Dispatch(\"Excel.Application\")\n",
    "xlApp.Visible = True\n",
    "xlBook = xlApp.Workbooks.Open('D:/file/o/队长/周报/s/1120/1111.xlsx')\n",
    "'''"
   ]
  },
  {
   "cell_type": "code",
   "execution_count": 12,
   "id": "cf549898",
   "metadata": {
    "ExecuteTime": {
     "end_time": "2021-12-17T05:02:48.572886Z",
     "start_time": "2021-12-17T05:02:40.043337Z"
    }
   },
   "outputs": [
    {
     "name": "stdout",
     "output_type": "stream",
     "text": [
      "8.52555799484253s\n"
     ]
    }
   ],
   "source": [
    "\n",
    "#读取excel文件\n",
    "a = time.time()\n",
    "\n",
    "wb = load_workbook('1-队长覆盖率.xlsx') \n",
    "ws = wb['1-队长覆盖率']\n",
    "\n",
    "b = time.time()\n",
    "print(str(b-a)+'s')\n"
   ]
  },
  {
   "cell_type": "code",
   "execution_count": 13,
   "id": "4eb95022",
   "metadata": {
    "ExecuteTime": {
     "end_time": "2021-12-17T05:02:48.582858Z",
     "start_time": "2021-12-17T05:02:48.573881Z"
    }
   },
   "outputs": [],
   "source": [
    "\n",
    "# 将列表按行写入\n",
    "def write_row(index,ws,lt):\n",
    "    for i in range(len(lt)):\n",
    "        ws.cell(index,i+1).value = lt[i]\n",
    "            #选择填入某行的单元格\n",
    "# 写入raw_data\n",
    "for i in range(len(data)):\n",
    "    write_row(2+i,ws,data[i])\n"
   ]
  },
  {
   "cell_type": "markdown",
   "id": "514eff2d",
   "metadata": {},
   "source": [
    "#### 自定义写入区域"
   ]
  },
  {
   "cell_type": "code",
   "execution_count": 14,
   "id": "5a071ff8",
   "metadata": {
    "ExecuteTime": {
     "end_time": "2021-12-17T05:02:55.841235Z",
     "start_time": "2021-12-17T05:02:48.584854Z"
    }
   },
   "outputs": [
    {
     "name": "stdout",
     "output_type": "stream",
     "text": [
      "7.253391742706299s\n"
     ]
    }
   ],
   "source": [
    "a = time.time()\n",
    "\n",
    "wb.save('1-队长覆盖率.xlsx')\n",
    "\n",
    "b = time.time()\n",
    "print(str(b-a)+'s')"
   ]
  },
  {
   "cell_type": "code",
   "execution_count": 15,
   "id": "8736e738",
   "metadata": {
    "ExecuteTime": {
     "end_time": "2021-12-17T05:02:55.847221Z",
     "start_time": "2021-12-17T05:02:55.842236Z"
    }
   },
   "outputs": [
    {
     "data": {
      "text/plain": [
       "\"\\nwriter = pd.ExcelWriter('1-队长覆盖率.xlsx')\\ndf.to_excel(writer,'1-队长覆盖率',index=False)\\nwriter.save()\\n\""
      ]
     },
     "execution_count": 15,
     "metadata": {},
     "output_type": "execute_result"
    }
   ],
   "source": [
    "# 覆盖excel原内容\n",
    "'''\n",
    "writer = pd.ExcelWriter('1-队长覆盖率.xlsx')\n",
    "df.to_excel(writer,'1-队长覆盖率',index=False)\n",
    "writer.save()\n",
    "'''"
   ]
  },
  {
   "cell_type": "code",
   "execution_count": 16,
   "id": "35c6cdf3",
   "metadata": {
    "ExecuteTime": {
     "end_time": "2021-12-17T05:02:55.852217Z",
     "start_time": "2021-12-17T05:02:55.848217Z"
    }
   },
   "outputs": [
    {
     "data": {
      "text/plain": [
       "\"\\nfor r in dataframe_to_rows(df, index=False, header=True):\\n    ws.append(r)\\n    \\nwb.save('1-队长覆盖率.xlsx')\\n\""
      ]
     },
     "execution_count": 16,
     "metadata": {},
     "output_type": "execute_result"
    }
   ],
   "source": [
    "# 文件修复\n",
    "'''\n",
    "for r in dataframe_to_rows(df, index=False, header=True):\n",
    "    ws.append(r)\n",
    "    \n",
    "wb.save('1-队长覆盖率.xlsx')\n",
    "'''"
   ]
  },
  {
   "cell_type": "markdown",
   "id": "b3a25c26",
   "metadata": {},
   "source": [
    "## 2-准出进度"
   ]
  },
  {
   "cell_type": "code",
   "execution_count": 17,
   "id": "fed2d7dc",
   "metadata": {
    "ExecuteTime": {
     "end_time": "2021-12-17T05:03:05.803867Z",
     "start_time": "2021-12-17T05:02:55.853205Z"
    }
   },
   "outputs": [
    {
     "name": "stdout",
     "output_type": "stream",
     "text": [
      "data_file_name: 质量不合格司机\n"
     ]
    },
    {
     "data": {
      "text/plain": [
       "'质量不合格司机.csv'"
      ]
     },
     "execution_count": 17,
     "metadata": {},
     "output_type": "execute_result"
    }
   ],
   "source": [
    "# 质量不合格司机\n",
    "data_path2 = input('data_file_name: ')\n",
    "data_path2 = data_path2 + '.csv'\n",
    "data_path2"
   ]
  },
  {
   "cell_type": "code",
   "execution_count": 18,
   "id": "699e3dbf",
   "metadata": {
    "ExecuteTime": {
     "end_time": "2021-12-17T05:03:05.811847Z",
     "start_time": "2021-12-17T05:03:05.804864Z"
    }
   },
   "outputs": [
    {
     "data": {
      "text/plain": [
       "(654, 2)"
      ]
     },
     "execution_count": 18,
     "metadata": {},
     "output_type": "execute_result"
    }
   ],
   "source": [
    "df2 = pd.read_csv(data_path2,encoding='gbk')\n",
    "df2.shape"
   ]
  },
  {
   "cell_type": "markdown",
   "id": "27fca425",
   "metadata": {},
   "source": [
    "#### raw_data-->excel"
   ]
  },
  {
   "cell_type": "code",
   "execution_count": 19,
   "id": "8943b5cb",
   "metadata": {
    "ExecuteTime": {
     "end_time": "2021-12-17T05:03:05.817829Z",
     "start_time": "2021-12-17T05:03:05.812843Z"
    }
   },
   "outputs": [
    {
     "data": {
      "text/plain": [
       "[[565727187436425.0, 1.0],\n",
       " [580543372745708.0, 1.0],\n",
       " [563873217642496.0, 1.0],\n",
       " [580542415670092.0, nan],\n",
       " [580543303997264.0, 1.0]]"
      ]
     },
     "execution_count": 19,
     "metadata": {},
     "output_type": "execute_result"
    }
   ],
   "source": [
    "data2 = df2.values.tolist()\n",
    "data2[0:5]"
   ]
  },
  {
   "cell_type": "code",
   "execution_count": 20,
   "id": "fe9dea1e",
   "metadata": {
    "ExecuteTime": {
     "end_time": "2021-12-17T05:03:06.022283Z",
     "start_time": "2021-12-17T05:03:05.818828Z"
    }
   },
   "outputs": [],
   "source": [
    "#读取excel文件\n",
    "wb2 = load_workbook('2-准出进度.xlsx') \n",
    "ws2 = wb2['2-准出进度']"
   ]
  },
  {
   "cell_type": "code",
   "execution_count": 21,
   "id": "a87af588",
   "metadata": {
    "ExecuteTime": {
     "end_time": "2021-12-17T05:03:06.161949Z",
     "start_time": "2021-12-17T05:03:06.023281Z"
    }
   },
   "outputs": [],
   "source": [
    "# 写入raw_data到 TU\n",
    "# 将列表按行写入\n",
    "def write_r_c(index,column,ws,lt):\n",
    "    for i in range(len(lt)):\n",
    "        ws.cell(index,column+i).value = lt[i]\n",
    "            #选择填入某行的单元格\n",
    "# 写入raw_data\n",
    "for i in range(len(data2)):\n",
    "    write_r_c(2+i,21,ws2,data2[i])   #从U列开始写\n",
    "wb2.save('2-准出进度.xlsx')    "
   ]
  },
  {
   "cell_type": "markdown",
   "id": "b89c2b6c",
   "metadata": {},
   "source": [
    "### 红线封禁"
   ]
  },
  {
   "cell_type": "code",
   "execution_count": 22,
   "id": "3940d3ee",
   "metadata": {
    "ExecuteTime": {
     "end_time": "2021-12-17T05:03:12.413991Z",
     "start_time": "2021-12-17T05:03:06.162919Z"
    }
   },
   "outputs": [
    {
     "name": "stdout",
     "output_type": "stream",
     "text": [
      "data_file_name: shenyajun_i队长准出模版-202112171000\n"
     ]
    },
    {
     "data": {
      "text/plain": [
       "'shenyajun_i队长准出模版-202112171000.csv'"
      ]
     },
     "execution_count": 22,
     "metadata": {},
     "output_type": "execute_result"
    }
   ],
   "source": [
    "# shenyajun_i队长准出模版20211116132918\n",
    "data_path22 = input('data_file_name: ')\n",
    "data_path22 = data_path22 + '.csv'\n",
    "data_path22"
   ]
  },
  {
   "cell_type": "code",
   "execution_count": 23,
   "id": "6f516c0f",
   "metadata": {
    "ExecuteTime": {
     "end_time": "2021-12-17T05:03:12.449582Z",
     "start_time": "2021-12-17T05:03:12.416986Z"
    }
   },
   "outputs": [
    {
     "data": {
      "text/plain": [
       "(1738, 17)"
      ]
     },
     "execution_count": 23,
     "metadata": {},
     "output_type": "execute_result"
    }
   ],
   "source": [
    "data_df22 = pd.read_csv(data_path22,encoding='gbk')\n",
    "data_df22.shape"
   ]
  },
  {
   "cell_type": "code",
   "execution_count": 24,
   "id": "9d130823",
   "metadata": {
    "ExecuteTime": {
     "end_time": "2021-12-17T05:03:12.457556Z",
     "start_time": "2021-12-17T05:03:12.453567Z"
    }
   },
   "outputs": [
    {
     "data": {
      "text/plain": [
       "Index(['司机ID', '队长名字', '小队名字', '队长所属业务线', '司服经理', '城市', '区域', '是否磐石目标名单中的队长',\n",
       "       '磐石目标名单中标签', '封禁类别', '一级规则', '二级规则', '三级规则', '规则明细', '封禁操作时间', '封禁天数',\n",
       "       '司机状态'],\n",
       "      dtype='object')"
      ]
     },
     "execution_count": 24,
     "metadata": {},
     "output_type": "execute_result"
    }
   ],
   "source": [
    "data_df22.columns"
   ]
  },
  {
   "cell_type": "code",
   "execution_count": 25,
   "id": "b1cc46fd",
   "metadata": {
    "ExecuteTime": {
     "end_time": "2021-12-17T05:03:12.465534Z",
     "start_time": "2021-12-17T05:03:12.459552Z"
    }
   },
   "outputs": [
    {
     "data": {
      "text/plain": [
       "'2020-11-08'"
      ]
     },
     "execution_count": 25,
     "metadata": {},
     "output_type": "execute_result"
    }
   ],
   "source": [
    "# data_df22['队长所属业务线'].unique()\n",
    "date = data_df22['封禁操作时间'].unique()\n",
    "#date = list(map(lambda x:x[:4],date))\n",
    "date[4]"
   ]
  },
  {
   "cell_type": "code",
   "execution_count": 26,
   "id": "b5c33193",
   "metadata": {
    "ExecuteTime": {
     "end_time": "2021-12-17T05:03:12.473513Z",
     "start_time": "2021-12-17T05:03:12.467529Z"
    }
   },
   "outputs": [
    {
     "data": {
      "text/plain": [
       "(1738, 18)"
      ]
     },
     "execution_count": 26,
     "metadata": {},
     "output_type": "execute_result"
    }
   ],
   "source": [
    "data_df22['封禁操作时间(年)'] = list(map(lambda x:x[:4],data_df22['封禁操作时间']))\n",
    "# data_df22['(年)']  = data_df22['封禁操作时间'].apply(lambda x:x[:4])\n",
    "data_df22.shape"
   ]
  },
  {
   "cell_type": "code",
   "execution_count": 27,
   "id": "6e68b37c",
   "metadata": {
    "ExecuteTime": {
     "end_time": "2021-12-17T05:03:12.478499Z",
     "start_time": "2021-12-17T05:03:12.474510Z"
    }
   },
   "outputs": [],
   "source": [
    "#time.strftime('%Y','2020/9/20' )"
   ]
  },
  {
   "cell_type": "code",
   "execution_count": 28,
   "id": "d483d20e",
   "metadata": {
    "ExecuteTime": {
     "end_time": "2021-12-17T05:03:12.490468Z",
     "start_time": "2021-12-17T05:03:12.479497Z"
    }
   },
   "outputs": [
    {
     "data": {
      "text/plain": [
       "1"
      ]
     },
     "execution_count": 28,
     "metadata": {},
     "output_type": "execute_result"
    }
   ],
   "source": [
    "# 筛选【红线封禁-长期封禁-业务线快优-触发时间为2021】的所有封禁信息；\n",
    "\n",
    "df22 = data_df22[(data_df22['封禁类别']=='红线封禁') &\\\n",
    "                    (data_df22['司机状态']=='长期封禁')&\\\n",
    "                   ((data_df22['队长所属业务线']=='快车') |(data_df22['队长所属业务线']=='优享')) & \\\n",
    "                   (data_df22['封禁操作时间(年)']=='2021')]\n",
    "\n",
    "red_num = df22.shape[0]   #红线封禁数量\n",
    "red_num"
   ]
  },
  {
   "cell_type": "code",
   "execution_count": 29,
   "id": "2b20cb34",
   "metadata": {
    "ExecuteTime": {
     "end_time": "2021-12-17T05:03:12.495454Z",
     "start_time": "2021-12-17T05:03:12.491465Z"
    },
    "scrolled": true
   },
   "outputs": [
    {
     "name": "stdout",
     "output_type": "stream",
     "text": [
      "红线封禁情况： ['广东区域']\n"
     ]
    }
   ],
   "source": [
    "red_lt = df22['区域'].tolist()\n",
    "print('红线封禁情况： '+str(red_lt))\n"
   ]
  },
  {
   "cell_type": "code",
   "execution_count": 30,
   "id": "f4cddc38",
   "metadata": {
    "ExecuteTime": {
     "end_time": "2021-12-17T05:03:12.512410Z",
     "start_time": "2021-12-17T05:03:12.496450Z"
    },
    "scrolled": true
   },
   "outputs": [
    {
     "data": {
      "text/html": [
       "<div>\n",
       "<style scoped>\n",
       "    .dataframe tbody tr th:only-of-type {\n",
       "        vertical-align: middle;\n",
       "    }\n",
       "\n",
       "    .dataframe tbody tr th {\n",
       "        vertical-align: top;\n",
       "    }\n",
       "\n",
       "    .dataframe thead th {\n",
       "        text-align: right;\n",
       "    }\n",
       "</style>\n",
       "<table border=\"1\" class=\"dataframe\">\n",
       "  <thead>\n",
       "    <tr style=\"text-align: right;\">\n",
       "      <th></th>\n",
       "      <th>司机ID</th>\n",
       "      <th>队长名字</th>\n",
       "      <th>小队名字</th>\n",
       "      <th>队长所属业务线</th>\n",
       "      <th>司服经理</th>\n",
       "      <th>城市</th>\n",
       "      <th>区域</th>\n",
       "      <th>是否磐石目标名单中的队长</th>\n",
       "      <th>磐石目标名单中标签</th>\n",
       "      <th>封禁类别</th>\n",
       "      <th>一级规则</th>\n",
       "      <th>二级规则</th>\n",
       "      <th>三级规则</th>\n",
       "      <th>规则明细</th>\n",
       "      <th>封禁操作时间</th>\n",
       "      <th>封禁天数</th>\n",
       "      <th>司机状态</th>\n",
       "      <th>封禁操作时间(年)</th>\n",
       "    </tr>\n",
       "  </thead>\n",
       "  <tbody>\n",
       "    <tr>\n",
       "      <th>67</th>\n",
       "      <td>567949956574125</td>\n",
       "      <td>温斌</td>\n",
       "      <td>关永舜 Y青桔1队</td>\n",
       "      <td>快车</td>\n",
       "      <td>关永舜</td>\n",
       "      <td>佛山市</td>\n",
       "      <td>广东区域</td>\n",
       "      <td>NaN</td>\n",
       "      <td>A</td>\n",
       "      <td>红线封禁</td>\n",
       "      <td>平台准入类（司机版）</td>\n",
       "      <td>综合背景审核问题</td>\n",
       "      <td>有违法犯罪记录</td>\n",
       "      <td>有犯罪记录</td>\n",
       "      <td>2021-12-16</td>\n",
       "      <td>0.0</td>\n",
       "      <td>长期封禁</td>\n",
       "      <td>2021</td>\n",
       "    </tr>\n",
       "  </tbody>\n",
       "</table>\n",
       "</div>"
      ],
      "text/plain": [
       "               司机ID 队长名字       小队名字 队长所属业务线 司服经理   城市    区域  是否磐石目标名单中的队长  \\\n",
       "67  567949956574125   温斌  关永舜 Y青桔1队      快车  关永舜  佛山市  广东区域           NaN   \n",
       "\n",
       "   磐石目标名单中标签  封禁类别        一级规则      二级规则     三级规则   规则明细      封禁操作时间  封禁天数  \\\n",
       "67         A  红线封禁  平台准入类（司机版）  综合背景审核问题  有违法犯罪记录  有犯罪记录  2021-12-16   0.0   \n",
       "\n",
       "    司机状态 封禁操作时间(年)  \n",
       "67  长期封禁      2021  "
      ]
     },
     "execution_count": 30,
     "metadata": {},
     "output_type": "execute_result"
    }
   ],
   "source": [
    "df22"
   ]
  },
  {
   "cell_type": "code",
   "execution_count": 31,
   "id": "a2bb0564",
   "metadata": {
    "ExecuteTime": {
     "end_time": "2021-12-17T05:03:12.550757Z",
     "start_time": "2021-12-17T05:03:12.514404Z"
    },
    "scrolled": true
   },
   "outputs": [
    {
     "data": {
      "text/html": [
       "<div>\n",
       "<style scoped>\n",
       "    .dataframe tbody tr th:only-of-type {\n",
       "        vertical-align: middle;\n",
       "    }\n",
       "\n",
       "    .dataframe tbody tr th {\n",
       "        vertical-align: top;\n",
       "    }\n",
       "\n",
       "    .dataframe thead th {\n",
       "        text-align: right;\n",
       "    }\n",
       "</style>\n",
       "<table border=\"1\" class=\"dataframe\">\n",
       "  <thead>\n",
       "    <tr style=\"text-align: right;\">\n",
       "      <th></th>\n",
       "      <th>司机ID</th>\n",
       "      <th>队长名字</th>\n",
       "      <th>小队名字</th>\n",
       "      <th>队长所属业务线</th>\n",
       "      <th>司服经理</th>\n",
       "      <th>城市</th>\n",
       "      <th>区域</th>\n",
       "      <th>是否磐石目标名单中的队长</th>\n",
       "      <th>磐石目标名单中标签</th>\n",
       "      <th>封禁类别</th>\n",
       "      <th>一级规则</th>\n",
       "      <th>二级规则</th>\n",
       "      <th>三级规则</th>\n",
       "      <th>规则明细</th>\n",
       "      <th>封禁操作时间</th>\n",
       "      <th>封禁天数</th>\n",
       "      <th>司机状态</th>\n",
       "      <th>封禁操作时间(年)</th>\n",
       "    </tr>\n",
       "  </thead>\n",
       "  <tbody>\n",
       "  </tbody>\n",
       "</table>\n",
       "</div>"
      ],
      "text/plain": [
       "Empty DataFrame\n",
       "Columns: [司机ID, 队长名字, 小队名字, 队长所属业务线, 司服经理, 城市, 区域, 是否磐石目标名单中的队长, 磐石目标名单中标签, 封禁类别, 一级规则, 二级规则, 三级规则, 规则明细, 封禁操作时间, 封禁天数, 司机状态, 封禁操作时间(年)]\n",
       "Index: []"
      ]
     },
     "execution_count": 31,
     "metadata": {},
     "output_type": "execute_result"
    }
   ],
   "source": [
    "df22.query('区域 == \"沪苏区域\"')"
   ]
  },
  {
   "cell_type": "markdown",
   "id": "9fc7cc74",
   "metadata": {},
   "source": [
    "## 3-司服维稳"
   ]
  },
  {
   "cell_type": "code",
   "execution_count": 32,
   "id": "2dd75dd5",
   "metadata": {
    "ExecuteTime": {
     "end_time": "2021-12-17T05:03:19.400461Z",
     "start_time": "2021-12-17T05:03:12.551753Z"
    }
   },
   "outputs": [
    {
     "name": "stdout",
     "output_type": "stream",
     "text": [
      "data_file_name: 84162-安全维稳核心指标监控-2.+大区概览（点击右侧齿轮小图标，可进行维度指标的选择）-20211217114314\n"
     ]
    },
    {
     "data": {
      "text/plain": [
       "'84162-安全维稳核心指标监控-2.+大区概览（点击右侧齿轮小图标，可进行维度指标的选择）-20211217114314.csv'"
      ]
     },
     "execution_count": 32,
     "metadata": {},
     "output_type": "execute_result"
    },
    {
     "name": "stderr",
     "output_type": "stream",
     "text": [
      "<ipython-input-32-3f724903d94b>:9: FutureWarning: Indexing with multiple keys (implicitly converted to a tuple of keys) will be deprecated, use a list instead.\n",
      "  data_csv = data_csv.groupby('大区')['派发应完成任务数', '规定时效内完成沟通任务数'].sum()\n"
     ]
    },
    {
     "data": {
      "text/html": [
       "<div>\n",
       "<style scoped>\n",
       "    .dataframe tbody tr th:only-of-type {\n",
       "        vertical-align: middle;\n",
       "    }\n",
       "\n",
       "    .dataframe tbody tr th {\n",
       "        vertical-align: top;\n",
       "    }\n",
       "\n",
       "    .dataframe thead th {\n",
       "        text-align: right;\n",
       "    }\n",
       "</style>\n",
       "<table border=\"1\" class=\"dataframe\">\n",
       "  <thead>\n",
       "    <tr style=\"text-align: right;\">\n",
       "      <th></th>\n",
       "      <th>大区</th>\n",
       "      <th>派发应完成任务数</th>\n",
       "      <th>规定时效内完成沟通任务数</th>\n",
       "      <th>司机沟通率</th>\n",
       "    </tr>\n",
       "  </thead>\n",
       "  <tbody>\n",
       "    <tr>\n",
       "      <th>0</th>\n",
       "      <td>中西区域</td>\n",
       "      <td>243.0</td>\n",
       "      <td>238.0</td>\n",
       "      <td>0.979424</td>\n",
       "    </tr>\n",
       "    <tr>\n",
       "      <th>1</th>\n",
       "      <td>华北区域</td>\n",
       "      <td>240.0</td>\n",
       "      <td>235.0</td>\n",
       "      <td>0.979167</td>\n",
       "    </tr>\n",
       "    <tr>\n",
       "      <th>2</th>\n",
       "      <td>中南区域</td>\n",
       "      <td>350.0</td>\n",
       "      <td>338.0</td>\n",
       "      <td>0.965714</td>\n",
       "    </tr>\n",
       "    <tr>\n",
       "      <th>3</th>\n",
       "      <td>华东区域</td>\n",
       "      <td>745.0</td>\n",
       "      <td>718.0</td>\n",
       "      <td>0.963758</td>\n",
       "    </tr>\n",
       "    <tr>\n",
       "      <th>4</th>\n",
       "      <td>鲁津冀区域</td>\n",
       "      <td>266.0</td>\n",
       "      <td>255.0</td>\n",
       "      <td>0.958647</td>\n",
       "    </tr>\n",
       "    <tr>\n",
       "      <th>5</th>\n",
       "      <td>沪苏区域</td>\n",
       "      <td>159.0</td>\n",
       "      <td>152.0</td>\n",
       "      <td>0.955975</td>\n",
       "    </tr>\n",
       "    <tr>\n",
       "      <th>6</th>\n",
       "      <td>西南区域</td>\n",
       "      <td>716.0</td>\n",
       "      <td>679.0</td>\n",
       "      <td>0.948324</td>\n",
       "    </tr>\n",
       "    <tr>\n",
       "      <th>7</th>\n",
       "      <td>广东区域</td>\n",
       "      <td>250.0</td>\n",
       "      <td>235.0</td>\n",
       "      <td>0.940000</td>\n",
       "    </tr>\n",
       "    <tr>\n",
       "      <th>8</th>\n",
       "      <td>全国</td>\n",
       "      <td>2969.0</td>\n",
       "      <td>2850.0</td>\n",
       "      <td>0.959919</td>\n",
       "    </tr>\n",
       "  </tbody>\n",
       "</table>\n",
       "</div>"
      ],
      "text/plain": [
       "      大区  派发应完成任务数  规定时效内完成沟通任务数     司机沟通率\n",
       "0   中西区域     243.0         238.0  0.979424\n",
       "1   华北区域     240.0         235.0  0.979167\n",
       "2   中南区域     350.0         338.0  0.965714\n",
       "3   华东区域     745.0         718.0  0.963758\n",
       "4  鲁津冀区域     266.0         255.0  0.958647\n",
       "5   沪苏区域     159.0         152.0  0.955975\n",
       "6   西南区域     716.0         679.0  0.948324\n",
       "7   广东区域     250.0         235.0  0.940000\n",
       "8     全国    2969.0        2850.0  0.959919"
      ]
     },
     "execution_count": 32,
     "metadata": {},
     "output_type": "execute_result"
    }
   ],
   "source": [
    "# 84162-安全维稳核心指标监控-2.+大区概览（点击右侧齿轮小图标，可进行维度指标的选择）-20211116120620\n",
    "\n",
    "data_path = input('data_file_name: ')\n",
    "data_path = data_path+'.csv'\n",
    "data_path\n",
    "\n",
    "data_csv = pd.read_csv(data_path)\n",
    "\n",
    "data_csv = data_csv.groupby('大区')['派发应完成任务数', '规定时效内完成沟通任务数'].sum()\n",
    "data_csv.loc['全国'] = data_csv.sum(axis=0)\n",
    "\n",
    "data_csv['司机沟通率'] = data_csv[['派发应完成任务数', '规定时效内完成沟通任务数']].apply(lambda x:x['规定时效内完成沟通任务数']/x['派发应完成任务数'],axis=1)  # 根据两列值新建第三列\n",
    "\n",
    "data_csv = data_csv.iloc[:-1,:].sort_values(by=['司机沟通率'],ascending=False).append(data_csv.iloc[-1])   #除最后一行外，其余行降序排列\n",
    "            #iloc索引更规范\n",
    "data_csv = data_csv.reset_index()   #pandas将索引变为列\n",
    "data_csv\n"
   ]
  },
  {
   "cell_type": "markdown",
   "id": "4fe4b266",
   "metadata": {},
   "source": [
    "#### 写入excel"
   ]
  },
  {
   "cell_type": "code",
   "execution_count": 33,
   "id": "efdf6b8c",
   "metadata": {
    "ExecuteTime": {
     "end_time": "2021-12-17T05:03:19.485244Z",
     "start_time": "2021-12-17T05:03:19.401459Z"
    }
   },
   "outputs": [],
   "source": [
    "# data = [data_csv.columns.values.tolist()] + data_csv.values.tolist()\n",
    "\n",
    "data = data_csv.values.tolist()\n",
    "\n",
    "wb = load_workbook('3-司服维稳.xlsx') \n",
    "ws = wb['3-司服维稳']\n",
    "\n",
    "for i in range(len(data)):\n",
    "    write_row(3+i,ws,data[i])\n",
    "wb.save('3-司服维稳.xlsx')\n"
   ]
  },
  {
   "cell_type": "markdown",
   "id": "c8cb5d7d",
   "metadata": {},
   "source": [
    "## 4-安全辅导员"
   ]
  },
  {
   "cell_type": "code",
   "execution_count": 34,
   "id": "2efabb7b",
   "metadata": {
    "ExecuteTime": {
     "end_time": "2021-12-17T05:03:24.080599Z",
     "start_time": "2021-12-17T05:03:19.486234Z"
    },
    "scrolled": true
   },
   "outputs": [
    {
     "name": "stdout",
     "output_type": "stream",
     "text": [
      "data_file_name: 117146-司机侧五层治理看板-D4情绪司机相关指标（天、城市纬度）-20211217112714\n"
     ]
    },
    {
     "data": {
      "text/plain": [
       "'117146-司机侧五层治理看板-D4情绪司机相关指标（天、城市纬度）-20211217112714.csv'"
      ]
     },
     "execution_count": 34,
     "metadata": {},
     "output_type": "execute_result"
    }
   ],
   "source": [
    "# 117146-司机侧五层治理看板-D4情绪司机相关指标（天、城市纬度）-20211116104324\n",
    "data_path = input('data_file_name: ')\n",
    "data_path = data_path+'.csv'\n",
    "data_path"
   ]
  },
  {
   "cell_type": "code",
   "execution_count": 35,
   "id": "50b0cba7",
   "metadata": {
    "ExecuteTime": {
     "end_time": "2021-12-17T05:03:24.103538Z",
     "start_time": "2021-12-17T05:03:24.081596Z"
    },
    "scrolled": true
   },
   "outputs": [
    {
     "data": {
      "text/html": [
       "<div>\n",
       "<style scoped>\n",
       "    .dataframe tbody tr th:only-of-type {\n",
       "        vertical-align: middle;\n",
       "    }\n",
       "\n",
       "    .dataframe tbody tr th {\n",
       "        vertical-align: top;\n",
       "    }\n",
       "\n",
       "    .dataframe thead th {\n",
       "        text-align: right;\n",
       "    }\n",
       "</style>\n",
       "<table border=\"1\" class=\"dataframe\">\n",
       "  <thead>\n",
       "    <tr style=\"text-align: right;\">\n",
       "      <th></th>\n",
       "      <th>大区</th>\n",
       "      <th>d4派发给队长任务数</th>\n",
       "      <th>d4沟通完成任务数</th>\n",
       "      <th>d4上升任务数</th>\n",
       "      <th>d4上升后安治派发任务数</th>\n",
       "    </tr>\n",
       "  </thead>\n",
       "  <tbody>\n",
       "    <tr>\n",
       "      <th>0</th>\n",
       "      <td>华东区域</td>\n",
       "      <td>2438</td>\n",
       "      <td>2307</td>\n",
       "      <td>253</td>\n",
       "      <td>104</td>\n",
       "    </tr>\n",
       "    <tr>\n",
       "      <th>1</th>\n",
       "      <td>广东区域</td>\n",
       "      <td>2189</td>\n",
       "      <td>2030</td>\n",
       "      <td>256</td>\n",
       "      <td>8</td>\n",
       "    </tr>\n",
       "    <tr>\n",
       "      <th>2</th>\n",
       "      <td>鲁津冀区域</td>\n",
       "      <td>1868</td>\n",
       "      <td>1780</td>\n",
       "      <td>171</td>\n",
       "      <td>25</td>\n",
       "    </tr>\n",
       "    <tr>\n",
       "      <th>3</th>\n",
       "      <td>西南区域</td>\n",
       "      <td>1433</td>\n",
       "      <td>1335</td>\n",
       "      <td>162</td>\n",
       "      <td>0</td>\n",
       "    </tr>\n",
       "    <tr>\n",
       "      <th>4</th>\n",
       "      <td>华北区域</td>\n",
       "      <td>1382</td>\n",
       "      <td>1318</td>\n",
       "      <td>128</td>\n",
       "      <td>47</td>\n",
       "    </tr>\n",
       "    <tr>\n",
       "      <th>5</th>\n",
       "      <td>沪苏区域</td>\n",
       "      <td>1307</td>\n",
       "      <td>1162</td>\n",
       "      <td>213</td>\n",
       "      <td>4</td>\n",
       "    </tr>\n",
       "    <tr>\n",
       "      <th>6</th>\n",
       "      <td>中南区域</td>\n",
       "      <td>1115</td>\n",
       "      <td>1083</td>\n",
       "      <td>112</td>\n",
       "      <td>25</td>\n",
       "    </tr>\n",
       "    <tr>\n",
       "      <th>7</th>\n",
       "      <td>中西区域</td>\n",
       "      <td>892</td>\n",
       "      <td>815</td>\n",
       "      <td>116</td>\n",
       "      <td>53</td>\n",
       "    </tr>\n",
       "  </tbody>\n",
       "</table>\n",
       "</div>"
      ],
      "text/plain": [
       "      大区  d4派发给队长任务数  d4沟通完成任务数  d4上升任务数  d4上升后安治派发任务数\n",
       "0   华东区域        2438       2307      253           104\n",
       "1   广东区域        2189       2030      256             8\n",
       "2  鲁津冀区域        1868       1780      171            25\n",
       "3   西南区域        1433       1335      162             0\n",
       "4   华北区域        1382       1318      128            47\n",
       "5   沪苏区域        1307       1162      213             4\n",
       "6   中南区域        1115       1083      112            25\n",
       "7   中西区域         892        815      116            53"
      ]
     },
     "execution_count": 35,
     "metadata": {},
     "output_type": "execute_result"
    }
   ],
   "source": [
    "data_csv = pd.read_csv(data_path)\n",
    "data_csv"
   ]
  },
  {
   "cell_type": "code",
   "execution_count": 36,
   "id": "bfda3d42",
   "metadata": {
    "ExecuteTime": {
     "end_time": "2021-12-17T05:03:24.110521Z",
     "start_time": "2021-12-17T05:03:24.104535Z"
    }
   },
   "outputs": [
    {
     "data": {
      "text/plain": [
       "[['华东区域', 2438, 2307, 253, 104],\n",
       " ['广东区域', 2189, 2030, 256, 8],\n",
       " ['鲁津冀区域', 1868, 1780, 171, 25],\n",
       " ['西南区域', 1433, 1335, 162, 0],\n",
       " ['华北区域', 1382, 1318, 128, 47],\n",
       " ['沪苏区域', 1307, 1162, 213, 4],\n",
       " ['中南区域', 1115, 1083, 112, 25],\n",
       " ['中西区域', 892, 815, 116, 53]]"
      ]
     },
     "execution_count": 36,
     "metadata": {},
     "output_type": "execute_result"
    }
   ],
   "source": [
    "# data = [data_csv.columns.values.tolist()] + data_csv.values.tolist()\n",
    "data = data_csv.values.tolist()\n",
    "data"
   ]
  },
  {
   "cell_type": "code",
   "execution_count": 37,
   "id": "13ff52e7",
   "metadata": {
    "ExecuteTime": {
     "end_time": "2021-12-17T05:03:24.116503Z",
     "start_time": "2021-12-17T05:03:24.111516Z"
    }
   },
   "outputs": [
    {
     "data": {
      "text/plain": [
       "'\\ndata = np.array(data_csv)  #先将数据框转换为数组\\ndata = data.tolist()  #其次转换为列表\\ndata\\n'"
      ]
     },
     "execution_count": 37,
     "metadata": {},
     "output_type": "execute_result"
    }
   ],
   "source": [
    "# DataFrame --> List\n",
    "'''\n",
    "data = np.array(data_csv)  #先将数据框转换为数组\n",
    "data = data.tolist()  #其次转换为列表\n",
    "data\n",
    "'''"
   ]
  },
  {
   "cell_type": "code",
   "execution_count": 38,
   "id": "471775e5",
   "metadata": {
    "ExecuteTime": {
     "end_time": "2021-12-17T05:03:24.136450Z",
     "start_time": "2021-12-17T05:03:24.117500Z"
    }
   },
   "outputs": [],
   "source": [
    "wb = load_workbook('4-安全辅导员.xlsx') \n",
    "ws = wb['4-安全辅导员']"
   ]
  },
  {
   "cell_type": "code",
   "execution_count": 39,
   "id": "747a8d3d",
   "metadata": {
    "ExecuteTime": {
     "end_time": "2021-12-17T05:03:24.169362Z",
     "start_time": "2021-12-17T05:03:24.138445Z"
    }
   },
   "outputs": [],
   "source": [
    "## 可以优化\n",
    "for i in range(len(data)):\n",
    "    write_row(19+i,ws,data[i])\n",
    "    \n",
    "for i in range(len(data)):\n",
    "    write_row(3+i,ws,data[i])\n",
    "wb.save('4-安全辅导员.xlsx')"
   ]
  },
  {
   "cell_type": "markdown",
   "id": "74cddd39",
   "metadata": {},
   "source": [
    "## 邮件"
   ]
  },
  {
   "cell_type": "markdown",
   "id": "14e460b6",
   "metadata": {},
   "source": [
    "> ``小队体系邮件``： \n",
    " * yh - 队长月会覆盖率\n",
    " * wc - 目标完成率\n",
    " * dc - 目标达成率"
   ]
  },
  {
   "cell_type": "markdown",
   "id": "6690922c",
   "metadata": {},
   "source": [
    "### 队长月会覆盖率"
   ]
  },
  {
   "cell_type": "markdown",
   "id": "fb64473c",
   "metadata": {},
   "source": [
    "|df|name|\n",
    "|-|-|\n",
    "|yh_df|月会城市原数据|\n",
    "|df|放入excel跑模板的数据|\n",
    "|yh_zb|写入周报的数据|\n",
    "|yh|处理的数据--最后放入邮件|"
   ]
  },
  {
   "cell_type": "code",
   "execution_count": 40,
   "id": "7d52e9b2",
   "metadata": {
    "ExecuteTime": {
     "end_time": "2021-12-17T05:03:28.687596Z",
     "start_time": "2021-12-17T05:03:24.170359Z"
    }
   },
   "outputs": [
    {
     "name": "stdout",
     "output_type": "stream",
     "text": [
      "data_file_name: shenyajun_i队长月会分城市数据-202112170800\n"
     ]
    },
    {
     "data": {
      "text/plain": [
       "'shenyajun_i队长月会分城市数据-202112170800.csv'"
      ]
     },
     "execution_count": 40,
     "metadata": {},
     "output_type": "execute_result"
    }
   ],
   "source": [
    "# shenyajun_i队长月会分城市数据20211116140829\n",
    "data_path = input('data_file_name: ')\n",
    "data_path = data_path+'.csv'\n",
    "data_path"
   ]
  },
  {
   "cell_type": "code",
   "execution_count": 41,
   "id": "be8decc6",
   "metadata": {
    "ExecuteTime": {
     "end_time": "2021-12-17T05:03:34.519420Z",
     "start_time": "2021-12-17T05:03:28.688593Z"
    },
    "scrolled": true
   },
   "outputs": [
    {
     "name": "stdout",
     "output_type": "stream",
     "text": [
      "data_file_name: 月会剔除\n"
     ]
    },
    {
     "data": {
      "text/plain": [
       "'月会剔除.csv'"
      ]
     },
     "execution_count": 41,
     "metadata": {},
     "output_type": "execute_result"
    }
   ],
   "source": [
    "# 月会剔除(剔除报备的不开月会城市)\n",
    "data_path2 = input('data_file_name: ')\n",
    "data_path2 = data_path2+'.csv'\n",
    "data_path2\n"
   ]
  },
  {
   "cell_type": "code",
   "execution_count": 42,
   "id": "8e4954cb",
   "metadata": {
    "ExecuteTime": {
     "end_time": "2021-12-17T05:03:34.530390Z",
     "start_time": "2021-12-17T05:03:34.521415Z"
    }
   },
   "outputs": [
    {
     "data": {
      "text/plain": [
       "Index(['城市', '不考核原因', 'Unnamed: 2'], dtype='object')"
      ]
     },
     "execution_count": 42,
     "metadata": {},
     "output_type": "execute_result"
    }
   ],
   "source": [
    "yh_df2 = pd.read_csv(data_path2,encoding='gbk')\n",
    "yh_df2.columns"
   ]
  },
  {
   "cell_type": "code",
   "execution_count": 43,
   "id": "d7e15e79",
   "metadata": {
    "ExecuteTime": {
     "end_time": "2021-12-17T05:03:34.541361Z",
     "start_time": "2021-12-17T05:03:34.532386Z"
    }
   },
   "outputs": [
    {
     "data": {
      "text/plain": [
       "['黄山市', '宜春市', '崇左市', '河池市']"
      ]
     },
     "execution_count": 43,
     "metadata": {},
     "output_type": "execute_result"
    },
    {
     "data": {
      "text/plain": [
       "95"
      ]
     },
     "execution_count": 43,
     "metadata": {},
     "output_type": "execute_result"
    }
   ],
   "source": [
    "tcity = yh_df2['城市'].values.tolist()\n",
    "tcity[:4]\n",
    "len(tcity)"
   ]
  },
  {
   "cell_type": "code",
   "execution_count": 44,
   "id": "ae1b862f",
   "metadata": {
    "ExecuteTime": {
     "end_time": "2021-12-17T05:03:34.638103Z",
     "start_time": "2021-12-17T05:03:34.543356Z"
    }
   },
   "outputs": [
    {
     "data": {
      "text/plain": [
       "(160, 8)"
      ]
     },
     "execution_count": 44,
     "metadata": {},
     "output_type": "execute_result"
    }
   ],
   "source": [
    "# 剔除非组织化城市\n",
    "data_path3 = '非组织化城市.xlsx'\n",
    "df_fz = pd.read_excel(data_path3)\n",
    "df_fz.shape"
   ]
  },
  {
   "cell_type": "code",
   "execution_count": 45,
   "id": "839e635a",
   "metadata": {
    "ExecuteTime": {
     "end_time": "2021-12-17T05:03:34.648076Z",
     "start_time": "2021-12-17T05:03:34.641095Z"
    }
   },
   "outputs": [
    {
     "data": {
      "text/plain": [
       "Index(['城市编码', '城市', '城市编码.1', '城市群', '滴滴省份', '自然省份', '一级部门', '区总'], dtype='object')"
      ]
     },
     "execution_count": 45,
     "metadata": {},
     "output_type": "execute_result"
    }
   ],
   "source": [
    "df_fz.columns"
   ]
  },
  {
   "cell_type": "code",
   "execution_count": 46,
   "id": "8ee13acc",
   "metadata": {
    "ExecuteTime": {
     "end_time": "2021-12-17T05:03:34.662039Z",
     "start_time": "2021-12-17T05:03:34.651068Z"
    }
   },
   "outputs": [
    {
     "data": {
      "text/plain": [
       "['杨凌示范区', '琼中黎族苗族自治县', '保亭黎族苗族自治县', '昌江黎族自治县']"
      ]
     },
     "execution_count": 46,
     "metadata": {},
     "output_type": "execute_result"
    },
    {
     "data": {
      "text/plain": [
       "160"
      ]
     },
     "execution_count": 46,
     "metadata": {},
     "output_type": "execute_result"
    }
   ],
   "source": [
    "fz_city = df_fz['城市'].values.tolist()\n",
    "fz_city[:4]\n",
    "len(fz_city)"
   ]
  },
  {
   "cell_type": "code",
   "execution_count": 47,
   "id": "86818603",
   "metadata": {
    "ExecuteTime": {
     "end_time": "2021-12-17T05:03:34.669019Z",
     "start_time": "2021-12-17T05:03:34.665032Z"
    }
   },
   "outputs": [],
   "source": [
    "# 分割"
   ]
  },
  {
   "cell_type": "code",
   "execution_count": 48,
   "id": "0ce372e9",
   "metadata": {
    "ExecuteTime": {
     "end_time": "2021-12-17T05:03:34.685975Z",
     "start_time": "2021-12-17T05:03:34.672012Z"
    }
   },
   "outputs": [
    {
     "data": {
      "text/plain": [
       "(306, 16)"
      ]
     },
     "execution_count": 48,
     "metadata": {},
     "output_type": "execute_result"
    }
   ],
   "source": [
    "yh_df = pd.read_csv(data_path,encoding='gbk')\n",
    "yh_df.shape"
   ]
  },
  {
   "cell_type": "code",
   "execution_count": 49,
   "id": "7f9b7da4",
   "metadata": {
    "ExecuteTime": {
     "end_time": "2021-12-17T05:03:34.706919Z",
     "start_time": "2021-12-17T05:03:34.687969Z"
    }
   },
   "outputs": [
    {
     "data": {
      "text/plain": [
       "(165, 16)"
      ]
     },
     "execution_count": 49,
     "metadata": {},
     "output_type": "execute_result"
    }
   ],
   "source": [
    "# 筛选掉战区+停服城市\n",
    "#筛选业务线\n",
    "yh_df = yh_df[(~yh_df['城市'].isin(tcity)) & yh_df['业务'].isin(['优享','快车'])]   #pandas判断列的值不在某个列表中 --> isin()\n",
    "# 筛选非组织化司机\n",
    "yh_df = yh_df.query('城市 not in @fz_city')\n",
    "yh_df.shape"
   ]
  },
  {
   "cell_type": "code",
   "execution_count": 50,
   "id": "317b6ee4",
   "metadata": {
    "ExecuteTime": {
     "end_time": "2021-12-17T05:03:34.715894Z",
     "start_time": "2021-12-17T05:03:34.709911Z"
    }
   },
   "outputs": [
    {
     "data": {
      "text/plain": [
       "\"\\n# 筛选掉战区+停服城市\\n#筛选业务线\\ndf = data_df[(~((data_df['城市']=='南京市')|(data_df['城市']=='上海市')|(data_df['城市']=='乌鲁木齐市'))) &             ( (data_df['业务']=='优享') | (data_df['业务']=='快车') )]\\ndf.shape\\n#(247, 16)\\n\""
      ]
     },
     "execution_count": 50,
     "metadata": {},
     "output_type": "execute_result"
    }
   ],
   "source": [
    "'''\n",
    "# 筛选掉战区+停服城市\n",
    "#筛选业务线\n",
    "df = data_df[(~((data_df['城市']=='南京市')|(data_df['城市']=='上海市')|(data_df['城市']=='乌鲁木齐市'))) & \\\n",
    "            ( (data_df['业务']=='优享') | (data_df['业务']=='快车') )]\n",
    "df.shape\n",
    "#(247, 16)\n",
    "'''"
   ]
  },
  {
   "cell_type": "markdown",
   "id": "d0233c7c",
   "metadata": {},
   "source": [
    "#### 写入excel"
   ]
  },
  {
   "cell_type": "code",
   "execution_count": 51,
   "id": "8591f852",
   "metadata": {
    "ExecuteTime": {
     "end_time": "2021-12-17T05:03:34.729858Z",
     "start_time": "2021-12-17T05:03:34.718887Z"
    },
    "scrolled": false
   },
   "outputs": [
    {
     "data": {
      "text/plain": [
       "Index(['大区', '城市id', '城市', '业务', '队长月会邀约人数', '队长月会到场人数', '队长人数', '当月是否已进行队长培训',\n",
       "       '到场率', '培训到场率是否>=90%', '满意度总分', '满意度问卷数量', '满意度均值', '考试总人数', '考试通过人数',\n",
       "       '考试通过率'],\n",
       "      dtype='object')"
      ]
     },
     "execution_count": 51,
     "metadata": {},
     "output_type": "execute_result"
    }
   ],
   "source": [
    "yh_df.columns"
   ]
  },
  {
   "cell_type": "code",
   "execution_count": 52,
   "id": "7fcdc8a5",
   "metadata": {
    "ExecuteTime": {
     "end_time": "2021-12-17T05:03:34.765762Z",
     "start_time": "2021-12-17T05:03:34.732850Z"
    },
    "scrolled": true
   },
   "outputs": [
    {
     "data": {
      "text/plain": [
       "(165, 17)"
      ]
     },
     "execution_count": 52,
     "metadata": {},
     "output_type": "execute_result"
    },
    {
     "data": {
      "text/html": [
       "<div>\n",
       "<style scoped>\n",
       "    .dataframe tbody tr th:only-of-type {\n",
       "        vertical-align: middle;\n",
       "    }\n",
       "\n",
       "    .dataframe tbody tr th {\n",
       "        vertical-align: top;\n",
       "    }\n",
       "\n",
       "    .dataframe thead th {\n",
       "        text-align: right;\n",
       "    }\n",
       "</style>\n",
       "<table border=\"1\" class=\"dataframe\">\n",
       "  <thead>\n",
       "    <tr style=\"text-align: right;\">\n",
       "      <th></th>\n",
       "      <th>大区</th>\n",
       "      <th>城市id</th>\n",
       "      <th>城市</th>\n",
       "      <th>开城进度</th>\n",
       "      <th>业务</th>\n",
       "      <th>队长月会邀约人数</th>\n",
       "      <th>队长月会到场人数</th>\n",
       "      <th>队长人数</th>\n",
       "      <th>当月是否已进行队长培训</th>\n",
       "      <th>到场率</th>\n",
       "      <th>培训到场率是否&gt;=90%</th>\n",
       "      <th>满意度总分</th>\n",
       "      <th>满意度问卷数量</th>\n",
       "      <th>满意度均值</th>\n",
       "      <th>考试总人数</th>\n",
       "      <th>考试通过人数</th>\n",
       "      <th>考试通过率</th>\n",
       "    </tr>\n",
       "  </thead>\n",
       "  <tbody>\n",
       "    <tr>\n",
       "      <th>0</th>\n",
       "      <td>广东区域</td>\n",
       "      <td>2</td>\n",
       "      <td>深圳市</td>\n",
       "      <td>NaN</td>\n",
       "      <td>优享</td>\n",
       "      <td>47</td>\n",
       "      <td>42</td>\n",
       "      <td>75</td>\n",
       "      <td>1</td>\n",
       "      <td>0.560000</td>\n",
       "      <td>0</td>\n",
       "      <td>730.0</td>\n",
       "      <td>8</td>\n",
       "      <td>91.250000</td>\n",
       "      <td>42</td>\n",
       "      <td>42</td>\n",
       "      <td>1.0</td>\n",
       "    </tr>\n",
       "    <tr>\n",
       "      <th>1</th>\n",
       "      <td>中南区域</td>\n",
       "      <td>51</td>\n",
       "      <td>宜昌市</td>\n",
       "      <td>NaN</td>\n",
       "      <td>快车</td>\n",
       "      <td>38</td>\n",
       "      <td>37</td>\n",
       "      <td>38</td>\n",
       "      <td>1</td>\n",
       "      <td>0.973684</td>\n",
       "      <td>1</td>\n",
       "      <td>3520.0</td>\n",
       "      <td>37</td>\n",
       "      <td>95.135135</td>\n",
       "      <td>37</td>\n",
       "      <td>37</td>\n",
       "      <td>1.0</td>\n",
       "    </tr>\n",
       "    <tr>\n",
       "      <th>2</th>\n",
       "      <td>中南区域</td>\n",
       "      <td>6</td>\n",
       "      <td>武汉市</td>\n",
       "      <td>NaN</td>\n",
       "      <td>优享</td>\n",
       "      <td>20</td>\n",
       "      <td>20</td>\n",
       "      <td>20</td>\n",
       "      <td>1</td>\n",
       "      <td>1.000000</td>\n",
       "      <td>1</td>\n",
       "      <td>1825.0</td>\n",
       "      <td>19</td>\n",
       "      <td>96.052632</td>\n",
       "      <td>20</td>\n",
       "      <td>20</td>\n",
       "      <td>1.0</td>\n",
       "    </tr>\n",
       "    <tr>\n",
       "      <th>5</th>\n",
       "      <td>华东区域</td>\n",
       "      <td>189</td>\n",
       "      <td>亳州市</td>\n",
       "      <td>NaN</td>\n",
       "      <td>快车</td>\n",
       "      <td>13</td>\n",
       "      <td>13</td>\n",
       "      <td>13</td>\n",
       "      <td>1</td>\n",
       "      <td>1.000000</td>\n",
       "      <td>1</td>\n",
       "      <td>760.0</td>\n",
       "      <td>8</td>\n",
       "      <td>95.000000</td>\n",
       "      <td>12</td>\n",
       "      <td>12</td>\n",
       "      <td>1.0</td>\n",
       "    </tr>\n",
       "    <tr>\n",
       "      <th>6</th>\n",
       "      <td>广东区域</td>\n",
       "      <td>21</td>\n",
       "      <td>东莞市</td>\n",
       "      <td>NaN</td>\n",
       "      <td>优享</td>\n",
       "      <td>15</td>\n",
       "      <td>1</td>\n",
       "      <td>30</td>\n",
       "      <td>1</td>\n",
       "      <td>0.033333</td>\n",
       "      <td>0</td>\n",
       "      <td>95.0</td>\n",
       "      <td>1</td>\n",
       "      <td>95.000000</td>\n",
       "      <td>1</td>\n",
       "      <td>1</td>\n",
       "      <td>1.0</td>\n",
       "    </tr>\n",
       "  </tbody>\n",
       "</table>\n",
       "</div>"
      ],
      "text/plain": [
       "     大区  城市id   城市  开城进度  业务  队长月会邀约人数  队长月会到场人数  队长人数  当月是否已进行队长培训       到场率  \\\n",
       "0  广东区域     2  深圳市   NaN  优享        47        42    75            1  0.560000   \n",
       "1  中南区域    51  宜昌市   NaN  快车        38        37    38            1  0.973684   \n",
       "2  中南区域     6  武汉市   NaN  优享        20        20    20            1  1.000000   \n",
       "5  华东区域   189  亳州市   NaN  快车        13        13    13            1  1.000000   \n",
       "6  广东区域    21  东莞市   NaN  优享        15         1    30            1  0.033333   \n",
       "\n",
       "   培训到场率是否>=90%   满意度总分  满意度问卷数量      满意度均值  考试总人数  考试通过人数  考试通过率  \n",
       "0             0   730.0        8  91.250000     42      42    1.0  \n",
       "1             1  3520.0       37  95.135135     37      37    1.0  \n",
       "2             1  1825.0       19  96.052632     20      20    1.0  \n",
       "5             1   760.0        8  95.000000     12      12    1.0  \n",
       "6             0    95.0        1  95.000000      1       1    1.0  "
      ]
     },
     "execution_count": 52,
     "metadata": {},
     "output_type": "execute_result"
    }
   ],
   "source": [
    "# 需要在'业务'前多加一列\n",
    "df = yh_df.copy()\n",
    "df.insert(3,'开城进度',np.nan)\n",
    "df.shape\n",
    "df.head()"
   ]
  },
  {
   "cell_type": "code",
   "execution_count": 53,
   "id": "07defb99",
   "metadata": {
    "ExecuteTime": {
     "end_time": "2021-12-17T05:03:34.779725Z",
     "start_time": "2021-12-17T05:03:34.768754Z"
    }
   },
   "outputs": [
    {
     "data": {
      "text/plain": [
       "[['广东区域',\n",
       "  2,\n",
       "  '深圳市',\n",
       "  nan,\n",
       "  '优享',\n",
       "  47,\n",
       "  42,\n",
       "  75,\n",
       "  1,\n",
       "  0.56,\n",
       "  0,\n",
       "  730.0,\n",
       "  8,\n",
       "  91.25,\n",
       "  42,\n",
       "  42,\n",
       "  1.0],\n",
       " ['中南区域',\n",
       "  51,\n",
       "  '宜昌市',\n",
       "  nan,\n",
       "  '快车',\n",
       "  38,\n",
       "  37,\n",
       "  38,\n",
       "  1,\n",
       "  0.9736842105263158,\n",
       "  1,\n",
       "  3520.0,\n",
       "  37,\n",
       "  95.13513513513512,\n",
       "  37,\n",
       "  37,\n",
       "  1.0]]"
      ]
     },
     "execution_count": 53,
     "metadata": {},
     "output_type": "execute_result"
    }
   ],
   "source": [
    "data = df.values.tolist()\n",
    "data[:2]"
   ]
  },
  {
   "cell_type": "code",
   "execution_count": 54,
   "id": "6c49f6a3",
   "metadata": {
    "ExecuteTime": {
     "end_time": "2021-12-17T05:03:34.945281Z",
     "start_time": "2021-12-17T05:03:34.781719Z"
    }
   },
   "outputs": [],
   "source": [
    "wb = load_workbook('3-队长月会.xlsx') \n",
    "ws = wb['3-队长月会']\n",
    "\n",
    "for i in range(len(data)):\n",
    "    write_row(2+i,ws,data[i])\n",
    "wb.save('3-队长月会.xlsx')"
   ]
  },
  {
   "cell_type": "code",
   "execution_count": 55,
   "id": "2994d744",
   "metadata": {
    "ExecuteTime": {
     "end_time": "2021-12-17T05:03:34.950268Z",
     "start_time": "2021-12-17T05:03:34.947277Z"
    }
   },
   "outputs": [],
   "source": [
    "# 分割"
   ]
  },
  {
   "cell_type": "code",
   "execution_count": 56,
   "id": "24ae1a92",
   "metadata": {
    "ExecuteTime": {
     "end_time": "2021-12-17T05:03:34.971212Z",
     "start_time": "2021-12-17T05:03:34.952263Z"
    },
    "scrolled": false
   },
   "outputs": [
    {
     "name": "stderr",
     "output_type": "stream",
     "text": [
      "<ipython-input-56-09e0418de391>:1: FutureWarning: Indexing with multiple keys (implicitly converted to a tuple of keys) will be deprecated, use a list instead.\n",
      "  yh = yh_df.groupby('大区')['队长月会到场人数', '队长人数'].sum()\n"
     ]
    },
    {
     "data": {
      "text/html": [
       "<div>\n",
       "<style scoped>\n",
       "    .dataframe tbody tr th:only-of-type {\n",
       "        vertical-align: middle;\n",
       "    }\n",
       "\n",
       "    .dataframe tbody tr th {\n",
       "        vertical-align: top;\n",
       "    }\n",
       "\n",
       "    .dataframe thead th {\n",
       "        text-align: right;\n",
       "    }\n",
       "</style>\n",
       "<table border=\"1\" class=\"dataframe\">\n",
       "  <thead>\n",
       "    <tr style=\"text-align: right;\">\n",
       "      <th></th>\n",
       "      <th>队长月会到场人数</th>\n",
       "      <th>队长人数</th>\n",
       "      <th>队长月会到达率</th>\n",
       "    </tr>\n",
       "    <tr>\n",
       "      <th>大区</th>\n",
       "      <th></th>\n",
       "      <th></th>\n",
       "      <th></th>\n",
       "    </tr>\n",
       "  </thead>\n",
       "  <tbody>\n",
       "    <tr>\n",
       "      <th>中南区域</th>\n",
       "      <td>1026</td>\n",
       "      <td>1569</td>\n",
       "      <td>0.653920</td>\n",
       "    </tr>\n",
       "    <tr>\n",
       "      <th>中西区域</th>\n",
       "      <td>390</td>\n",
       "      <td>610</td>\n",
       "      <td>0.639344</td>\n",
       "    </tr>\n",
       "    <tr>\n",
       "      <th>华东区域</th>\n",
       "      <td>1925</td>\n",
       "      <td>3135</td>\n",
       "      <td>0.614035</td>\n",
       "    </tr>\n",
       "    <tr>\n",
       "      <th>华北区域</th>\n",
       "      <td>1485</td>\n",
       "      <td>2450</td>\n",
       "      <td>0.606122</td>\n",
       "    </tr>\n",
       "    <tr>\n",
       "      <th>广东区域</th>\n",
       "      <td>1709</td>\n",
       "      <td>4129</td>\n",
       "      <td>0.413902</td>\n",
       "    </tr>\n",
       "    <tr>\n",
       "      <th>沪苏区域</th>\n",
       "      <td>163</td>\n",
       "      <td>199</td>\n",
       "      <td>0.819095</td>\n",
       "    </tr>\n",
       "    <tr>\n",
       "      <th>西南区域</th>\n",
       "      <td>614</td>\n",
       "      <td>2197</td>\n",
       "      <td>0.279472</td>\n",
       "    </tr>\n",
       "    <tr>\n",
       "      <th>鲁津冀区域</th>\n",
       "      <td>146</td>\n",
       "      <td>548</td>\n",
       "      <td>0.266423</td>\n",
       "    </tr>\n",
       "    <tr>\n",
       "      <th>全国</th>\n",
       "      <td>7458</td>\n",
       "      <td>14837</td>\n",
       "      <td>0.502662</td>\n",
       "    </tr>\n",
       "  </tbody>\n",
       "</table>\n",
       "</div>"
      ],
      "text/plain": [
       "       队长月会到场人数   队长人数   队长月会到达率\n",
       "大区                              \n",
       "中南区域       1026   1569  0.653920\n",
       "中西区域        390    610  0.639344\n",
       "华东区域       1925   3135  0.614035\n",
       "华北区域       1485   2450  0.606122\n",
       "广东区域       1709   4129  0.413902\n",
       "沪苏区域        163    199  0.819095\n",
       "西南区域        614   2197  0.279472\n",
       "鲁津冀区域       146    548  0.266423\n",
       "全国         7458  14837  0.502662"
      ]
     },
     "execution_count": 56,
     "metadata": {},
     "output_type": "execute_result"
    }
   ],
   "source": [
    "yh = yh_df.groupby('大区')['队长月会到场人数', '队长人数'].sum()\n",
    "yh.loc['全国'] = yh.sum(axis=0)\n",
    "yh['队长月会到达率'] = yh[['队长月会到场人数', '队长人数']].apply(lambda x:x['队长月会到场人数']/x['队长人数'],axis=1)  # 根据两列值新建第三列\n",
    "yh"
   ]
  },
  {
   "cell_type": "code",
   "execution_count": 57,
   "id": "6c94efba",
   "metadata": {
    "ExecuteTime": {
     "end_time": "2021-12-17T05:03:34.991158Z",
     "start_time": "2021-12-17T05:03:34.974204Z"
    },
    "scrolled": true
   },
   "outputs": [
    {
     "data": {
      "text/html": [
       "<div>\n",
       "<style scoped>\n",
       "    .dataframe tbody tr th:only-of-type {\n",
       "        vertical-align: middle;\n",
       "    }\n",
       "\n",
       "    .dataframe tbody tr th {\n",
       "        vertical-align: top;\n",
       "    }\n",
       "\n",
       "    .dataframe thead th {\n",
       "        text-align: right;\n",
       "    }\n",
       "</style>\n",
       "<table border=\"1\" class=\"dataframe\">\n",
       "  <thead>\n",
       "    <tr style=\"text-align: right;\">\n",
       "      <th></th>\n",
       "      <th>大区</th>\n",
       "      <th>队长月会到场人数</th>\n",
       "      <th>队长人数</th>\n",
       "      <th>队长月会到达率</th>\n",
       "    </tr>\n",
       "  </thead>\n",
       "  <tbody>\n",
       "    <tr>\n",
       "      <th>0</th>\n",
       "      <td>沪苏区域</td>\n",
       "      <td>163.0</td>\n",
       "      <td>199.0</td>\n",
       "      <td>0.819095</td>\n",
       "    </tr>\n",
       "    <tr>\n",
       "      <th>1</th>\n",
       "      <td>中南区域</td>\n",
       "      <td>1026.0</td>\n",
       "      <td>1569.0</td>\n",
       "      <td>0.653920</td>\n",
       "    </tr>\n",
       "    <tr>\n",
       "      <th>2</th>\n",
       "      <td>中西区域</td>\n",
       "      <td>390.0</td>\n",
       "      <td>610.0</td>\n",
       "      <td>0.639344</td>\n",
       "    </tr>\n",
       "    <tr>\n",
       "      <th>3</th>\n",
       "      <td>华东区域</td>\n",
       "      <td>1925.0</td>\n",
       "      <td>3135.0</td>\n",
       "      <td>0.614035</td>\n",
       "    </tr>\n",
       "    <tr>\n",
       "      <th>4</th>\n",
       "      <td>华北区域</td>\n",
       "      <td>1485.0</td>\n",
       "      <td>2450.0</td>\n",
       "      <td>0.606122</td>\n",
       "    </tr>\n",
       "    <tr>\n",
       "      <th>5</th>\n",
       "      <td>广东区域</td>\n",
       "      <td>1709.0</td>\n",
       "      <td>4129.0</td>\n",
       "      <td>0.413902</td>\n",
       "    </tr>\n",
       "    <tr>\n",
       "      <th>6</th>\n",
       "      <td>西南区域</td>\n",
       "      <td>614.0</td>\n",
       "      <td>2197.0</td>\n",
       "      <td>0.279472</td>\n",
       "    </tr>\n",
       "    <tr>\n",
       "      <th>7</th>\n",
       "      <td>鲁津冀区域</td>\n",
       "      <td>146.0</td>\n",
       "      <td>548.0</td>\n",
       "      <td>0.266423</td>\n",
       "    </tr>\n",
       "    <tr>\n",
       "      <th>8</th>\n",
       "      <td>全国</td>\n",
       "      <td>7458.0</td>\n",
       "      <td>14837.0</td>\n",
       "      <td>0.502662</td>\n",
       "    </tr>\n",
       "  </tbody>\n",
       "</table>\n",
       "</div>"
      ],
      "text/plain": [
       "      大区  队长月会到场人数     队长人数   队长月会到达率\n",
       "0   沪苏区域     163.0    199.0  0.819095\n",
       "1   中南区域    1026.0   1569.0  0.653920\n",
       "2   中西区域     390.0    610.0  0.639344\n",
       "3   华东区域    1925.0   3135.0  0.614035\n",
       "4   华北区域    1485.0   2450.0  0.606122\n",
       "5   广东区域    1709.0   4129.0  0.413902\n",
       "6   西南区域     614.0   2197.0  0.279472\n",
       "7  鲁津冀区域     146.0    548.0  0.266423\n",
       "8     全国    7458.0  14837.0  0.502662"
      ]
     },
     "execution_count": 57,
     "metadata": {},
     "output_type": "execute_result"
    }
   ],
   "source": [
    "yh = yh.iloc[:-1,:].sort_values(by=['队长月会到达率'],ascending=False).append(yh.iloc[-1])   #除最后一行外，其余行降序排列\n",
    "yh = yh.reset_index()   #pandas将索引变为列\n",
    "yh"
   ]
  },
  {
   "cell_type": "markdown",
   "id": "522af6b4",
   "metadata": {},
   "source": [
    "#### 周报cooper"
   ]
  },
  {
   "cell_type": "code",
   "execution_count": 58,
   "id": "b7e2da19",
   "metadata": {
    "ExecuteTime": {
     "end_time": "2021-12-17T05:03:35.005121Z",
     "start_time": "2021-12-17T05:03:34.993153Z"
    }
   },
   "outputs": [
    {
     "data": {
      "text/html": [
       "<div>\n",
       "<style scoped>\n",
       "    .dataframe tbody tr th:only-of-type {\n",
       "        vertical-align: middle;\n",
       "    }\n",
       "\n",
       "    .dataframe tbody tr th {\n",
       "        vertical-align: top;\n",
       "    }\n",
       "\n",
       "    .dataframe thead th {\n",
       "        text-align: right;\n",
       "    }\n",
       "</style>\n",
       "<table border=\"1\" class=\"dataframe\">\n",
       "  <thead>\n",
       "    <tr style=\"text-align: right;\">\n",
       "      <th></th>\n",
       "      <th>大区</th>\n",
       "      <th>队长月会到场人数</th>\n",
       "      <th>队长人数</th>\n",
       "      <th>队长月会到达率</th>\n",
       "    </tr>\n",
       "  </thead>\n",
       "  <tbody>\n",
       "    <tr>\n",
       "      <th>0</th>\n",
       "      <td>沪苏区域</td>\n",
       "      <td>163.0</td>\n",
       "      <td>199.0</td>\n",
       "      <td>81.91%</td>\n",
       "    </tr>\n",
       "    <tr>\n",
       "      <th>1</th>\n",
       "      <td>中南区域</td>\n",
       "      <td>1026.0</td>\n",
       "      <td>1569.0</td>\n",
       "      <td>65.39%</td>\n",
       "    </tr>\n",
       "    <tr>\n",
       "      <th>2</th>\n",
       "      <td>中西区域</td>\n",
       "      <td>390.0</td>\n",
       "      <td>610.0</td>\n",
       "      <td>63.93%</td>\n",
       "    </tr>\n",
       "    <tr>\n",
       "      <th>3</th>\n",
       "      <td>华东区域</td>\n",
       "      <td>1925.0</td>\n",
       "      <td>3135.0</td>\n",
       "      <td>61.40%</td>\n",
       "    </tr>\n",
       "    <tr>\n",
       "      <th>4</th>\n",
       "      <td>华北区域</td>\n",
       "      <td>1485.0</td>\n",
       "      <td>2450.0</td>\n",
       "      <td>60.61%</td>\n",
       "    </tr>\n",
       "    <tr>\n",
       "      <th>5</th>\n",
       "      <td>广东区域</td>\n",
       "      <td>1709.0</td>\n",
       "      <td>4129.0</td>\n",
       "      <td>41.39%</td>\n",
       "    </tr>\n",
       "    <tr>\n",
       "      <th>6</th>\n",
       "      <td>西南区域</td>\n",
       "      <td>614.0</td>\n",
       "      <td>2197.0</td>\n",
       "      <td>27.95%</td>\n",
       "    </tr>\n",
       "    <tr>\n",
       "      <th>7</th>\n",
       "      <td>鲁津冀区域</td>\n",
       "      <td>146.0</td>\n",
       "      <td>548.0</td>\n",
       "      <td>26.64%</td>\n",
       "    </tr>\n",
       "    <tr>\n",
       "      <th>8</th>\n",
       "      <td>全国</td>\n",
       "      <td>7458.0</td>\n",
       "      <td>14837.0</td>\n",
       "      <td>50.27%</td>\n",
       "    </tr>\n",
       "  </tbody>\n",
       "</table>\n",
       "</div>"
      ],
      "text/plain": [
       "      大区  队长月会到场人数     队长人数 队长月会到达率\n",
       "0   沪苏区域     163.0    199.0  81.91%\n",
       "1   中南区域    1026.0   1569.0  65.39%\n",
       "2   中西区域     390.0    610.0  63.93%\n",
       "3   华东区域    1925.0   3135.0  61.40%\n",
       "4   华北区域    1485.0   2450.0  60.61%\n",
       "5   广东区域    1709.0   4129.0  41.39%\n",
       "6   西南区域     614.0   2197.0  27.95%\n",
       "7  鲁津冀区域     146.0    548.0  26.64%\n",
       "8     全国    7458.0  14837.0  50.27%"
      ]
     },
     "execution_count": 58,
     "metadata": {},
     "output_type": "execute_result"
    }
   ],
   "source": [
    "# 写入excel\n",
    "yh_zb = yh.copy()\n",
    "yh_zb['队长月会到达率'] = yh_zb['队长月会到达率'].map(lambda x:format(x,'.2%'))  # 设置数据格式\n",
    "# 先排序后设置数字格式为字符'.2%'\n",
    "yh_zb"
   ]
  },
  {
   "cell_type": "code",
   "execution_count": 59,
   "id": "24e41a9d",
   "metadata": {
    "ExecuteTime": {
     "end_time": "2021-12-17T05:03:35.041025Z",
     "start_time": "2021-12-17T05:03:35.007117Z"
    }
   },
   "outputs": [],
   "source": [
    "wbzb = load_workbook('周报_ppt.xlsx')   # excel中设置模板格式\n",
    "wszb = wbzb['周报']\n",
    "\n",
    "wszb.append([])\n",
    "wszb.append(['{0}分区域队长月会{0}'.format('*'*20)])\n",
    "wszb.append([])\n",
    "for r in dataframe_to_rows(yh_zb, index=False, header=True):\n",
    "    wszb.append(r)\n",
    "    \n",
    "wbzb.save('周报_ppt.xlsx')  "
   ]
  },
  {
   "cell_type": "code",
   "execution_count": 60,
   "id": "af445a82",
   "metadata": {
    "ExecuteTime": {
     "end_time": "2021-12-17T05:03:35.046011Z",
     "start_time": "2021-12-17T05:03:35.042023Z"
    }
   },
   "outputs": [],
   "source": [
    "# 分隔"
   ]
  },
  {
   "cell_type": "code",
   "execution_count": 61,
   "id": "654bd697",
   "metadata": {
    "ExecuteTime": {
     "end_time": "2021-12-17T05:03:35.063963Z",
     "start_time": "2021-12-17T05:03:35.048007Z"
    }
   },
   "outputs": [
    {
     "name": "stderr",
     "output_type": "stream",
     "text": [
      "C:\\Users\\shenyajun_i\\Anaconda3\\lib\\site-packages\\pandas\\core\\frame.py:4441: SettingWithCopyWarning: \n",
      "A value is trying to be set on a copy of a slice from a DataFrame\n",
      "\n",
      "See the caveats in the documentation: https://pandas.pydata.org/pandas-docs/stable/user_guide/indexing.html#returning-a-view-versus-a-copy\n",
      "  return super().rename(\n"
     ]
    },
    {
     "data": {
      "text/html": [
       "<div>\n",
       "<style scoped>\n",
       "    .dataframe tbody tr th:only-of-type {\n",
       "        vertical-align: middle;\n",
       "    }\n",
       "\n",
       "    .dataframe tbody tr th {\n",
       "        vertical-align: top;\n",
       "    }\n",
       "\n",
       "    .dataframe thead th {\n",
       "        text-align: right;\n",
       "    }\n",
       "</style>\n",
       "<table border=\"1\" class=\"dataframe\">\n",
       "  <thead>\n",
       "    <tr style=\"text-align: right;\">\n",
       "      <th></th>\n",
       "      <th>区域</th>\n",
       "      <th>队长月会到达率</th>\n",
       "    </tr>\n",
       "  </thead>\n",
       "  <tbody>\n",
       "    <tr>\n",
       "      <th>0</th>\n",
       "      <td>沪苏区域</td>\n",
       "      <td>0.819095</td>\n",
       "    </tr>\n",
       "    <tr>\n",
       "      <th>1</th>\n",
       "      <td>中南区域</td>\n",
       "      <td>0.653920</td>\n",
       "    </tr>\n",
       "    <tr>\n",
       "      <th>2</th>\n",
       "      <td>中西区域</td>\n",
       "      <td>0.639344</td>\n",
       "    </tr>\n",
       "    <tr>\n",
       "      <th>3</th>\n",
       "      <td>华东区域</td>\n",
       "      <td>0.614035</td>\n",
       "    </tr>\n",
       "    <tr>\n",
       "      <th>4</th>\n",
       "      <td>华北区域</td>\n",
       "      <td>0.606122</td>\n",
       "    </tr>\n",
       "    <tr>\n",
       "      <th>5</th>\n",
       "      <td>广东区域</td>\n",
       "      <td>0.413902</td>\n",
       "    </tr>\n",
       "    <tr>\n",
       "      <th>6</th>\n",
       "      <td>西南区域</td>\n",
       "      <td>0.279472</td>\n",
       "    </tr>\n",
       "    <tr>\n",
       "      <th>7</th>\n",
       "      <td>鲁津冀区域</td>\n",
       "      <td>0.266423</td>\n",
       "    </tr>\n",
       "    <tr>\n",
       "      <th>8</th>\n",
       "      <td>全国</td>\n",
       "      <td>0.502662</td>\n",
       "    </tr>\n",
       "  </tbody>\n",
       "</table>\n",
       "</div>"
      ],
      "text/plain": [
       "      区域   队长月会到达率\n",
       "0   沪苏区域  0.819095\n",
       "1   中南区域  0.653920\n",
       "2   中西区域  0.639344\n",
       "3   华东区域  0.614035\n",
       "4   华北区域  0.606122\n",
       "5   广东区域  0.413902\n",
       "6   西南区域  0.279472\n",
       "7  鲁津冀区域  0.266423\n",
       "8     全国  0.502662"
      ]
     },
     "execution_count": 61,
     "metadata": {},
     "output_type": "execute_result"
    }
   ],
   "source": [
    "yh = yh[['大区','队长月会到达率']]   #pandas选定列组成新列\n",
    "yh.rename(columns={'大区':'区域'},inplace=True)   #修改某列列名\n",
    "yh"
   ]
  },
  {
   "cell_type": "code",
   "execution_count": 62,
   "id": "43091cf1",
   "metadata": {
    "ExecuteTime": {
     "end_time": "2021-12-17T05:03:35.073936Z",
     "start_time": "2021-12-17T05:03:35.065959Z"
    }
   },
   "outputs": [
    {
     "name": "stderr",
     "output_type": "stream",
     "text": [
      "<ipython-input-62-ce62592335e4>:1: SettingWithCopyWarning: \n",
      "A value is trying to be set on a copy of a slice from a DataFrame.\n",
      "Try using .loc[row_indexer,col_indexer] = value instead\n",
      "\n",
      "See the caveats in the documentation: https://pandas.pydata.org/pandas-docs/stable/user_guide/indexing.html#returning-a-view-versus-a-copy\n",
      "  yh['当日目标值(18日)'] = '58%'\n"
     ]
    },
    {
     "data": {
      "text/plain": [
       "Index(['区域', '队长月会到达率', '当日目标值(18日)'], dtype='object')"
      ]
     },
     "execution_count": 62,
     "metadata": {},
     "output_type": "execute_result"
    }
   ],
   "source": [
    "yh['当日目标值(18日)'] = '58%'\n",
    "yh.columns"
   ]
  },
  {
   "cell_type": "markdown",
   "id": "8e24e117",
   "metadata": {},
   "source": [
    "### 队长任务目标达成率"
   ]
  },
  {
   "cell_type": "code",
   "execution_count": 63,
   "id": "2baff7c4",
   "metadata": {
    "ExecuteTime": {
     "end_time": "2021-12-17T05:03:51.799220Z",
     "start_time": "2021-12-17T05:03:35.075932Z"
    }
   },
   "outputs": [
    {
     "name": "stdout",
     "output_type": "stream",
     "text": [
      "data_file_name: shenyajun_i任务目标达成率MTD-202112171000\n"
     ]
    },
    {
     "data": {
      "text/plain": [
       "'shenyajun_i任务目标达成率MTD-202112171000.csv'"
      ]
     },
     "execution_count": 63,
     "metadata": {},
     "output_type": "execute_result"
    }
   ],
   "source": [
    "# shenyajun_i任务目标达成率MTD20211116141005\n",
    "data_path2 = input('data_file_name: ')\n",
    "data_path2 = data_path2+'.csv'\n",
    "data_path2"
   ]
  },
  {
   "cell_type": "code",
   "execution_count": 64,
   "id": "78cad2a8",
   "metadata": {
    "ExecuteTime": {
     "end_time": "2021-12-17T05:03:51.813182Z",
     "start_time": "2021-12-17T05:03:51.801215Z"
    }
   },
   "outputs": [
    {
     "data": {
      "text/html": [
       "<div>\n",
       "<style scoped>\n",
       "    .dataframe tbody tr th:only-of-type {\n",
       "        vertical-align: middle;\n",
       "    }\n",
       "\n",
       "    .dataframe tbody tr th {\n",
       "        vertical-align: top;\n",
       "    }\n",
       "\n",
       "    .dataframe thead th {\n",
       "        text-align: right;\n",
       "    }\n",
       "</style>\n",
       "<table border=\"1\" class=\"dataframe\">\n",
       "  <thead>\n",
       "    <tr style=\"text-align: right;\">\n",
       "      <th></th>\n",
       "      <th>区域</th>\n",
       "      <th>目标达成率</th>\n",
       "    </tr>\n",
       "  </thead>\n",
       "  <tbody>\n",
       "    <tr>\n",
       "      <th>0</th>\n",
       "      <td>中南区域</td>\n",
       "      <td>0.563708</td>\n",
       "    </tr>\n",
       "    <tr>\n",
       "      <th>1</th>\n",
       "      <td>中西区域</td>\n",
       "      <td>0.685176</td>\n",
       "    </tr>\n",
       "    <tr>\n",
       "      <th>2</th>\n",
       "      <td>华东区域</td>\n",
       "      <td>0.421194</td>\n",
       "    </tr>\n",
       "    <tr>\n",
       "      <th>3</th>\n",
       "      <td>华北区域</td>\n",
       "      <td>0.624967</td>\n",
       "    </tr>\n",
       "    <tr>\n",
       "      <th>4</th>\n",
       "      <td>广东区域</td>\n",
       "      <td>0.663942</td>\n",
       "    </tr>\n",
       "    <tr>\n",
       "      <th>5</th>\n",
       "      <td>全国</td>\n",
       "      <td>0.579779</td>\n",
       "    </tr>\n",
       "    <tr>\n",
       "      <th>6</th>\n",
       "      <td>沪苏区域</td>\n",
       "      <td>0.565186</td>\n",
       "    </tr>\n",
       "    <tr>\n",
       "      <th>7</th>\n",
       "      <td>西南区域</td>\n",
       "      <td>0.701754</td>\n",
       "    </tr>\n",
       "    <tr>\n",
       "      <th>8</th>\n",
       "      <td>鲁津冀区域</td>\n",
       "      <td>0.569463</td>\n",
       "    </tr>\n",
       "  </tbody>\n",
       "</table>\n",
       "</div>"
      ],
      "text/plain": [
       "      区域     目标达成率\n",
       "0   中南区域  0.563708\n",
       "1   中西区域  0.685176\n",
       "2   华东区域  0.421194\n",
       "3   华北区域  0.624967\n",
       "4   广东区域  0.663942\n",
       "5     全国  0.579779\n",
       "6   沪苏区域  0.565186\n",
       "7   西南区域  0.701754\n",
       "8  鲁津冀区域  0.569463"
      ]
     },
     "execution_count": 64,
     "metadata": {},
     "output_type": "execute_result"
    }
   ],
   "source": [
    "dc = pd.read_csv(data_path2,encoding='gbk')\n",
    "dc['区域'] = dc['区域'].replace('总计','全国')\n",
    "dc"
   ]
  },
  {
   "cell_type": "markdown",
   "id": "6f5ccee5",
   "metadata": {},
   "source": [
    "### 队长任务完成率"
   ]
  },
  {
   "cell_type": "code",
   "execution_count": 65,
   "id": "7b0708db",
   "metadata": {
    "ExecuteTime": {
     "end_time": "2021-12-17T05:03:58.162932Z",
     "start_time": "2021-12-17T05:03:51.815179Z"
    }
   },
   "outputs": [
    {
     "name": "stdout",
     "output_type": "stream",
     "text": [
      "data_file_name: shenyajun_i快车周区域维度不分任务类型任务完成率20211217113836\n"
     ]
    },
    {
     "data": {
      "text/plain": [
       "'shenyajun_i快车周区域维度不分任务类型任务完成率20211217113836.csv'"
      ]
     },
     "execution_count": 65,
     "metadata": {},
     "output_type": "execute_result"
    }
   ],
   "source": [
    "# shenyajun_i快车周区域维度不分任务类型任务完成率20211116140936\n",
    "data_path3 = input('data_file_name: ')\n",
    "data_path3 = data_path3+'.csv'\n",
    "data_path3"
   ]
  },
  {
   "cell_type": "code",
   "execution_count": 66,
   "id": "eafbb2ad",
   "metadata": {
    "ExecuteTime": {
     "end_time": "2021-12-17T05:03:58.181882Z",
     "start_time": "2021-12-17T05:03:58.163930Z"
    },
    "scrolled": true
   },
   "outputs": [
    {
     "data": {
      "text/html": [
       "<div>\n",
       "<style scoped>\n",
       "    .dataframe tbody tr th:only-of-type {\n",
       "        vertical-align: middle;\n",
       "    }\n",
       "\n",
       "    .dataframe tbody tr th {\n",
       "        vertical-align: top;\n",
       "    }\n",
       "\n",
       "    .dataframe thead th {\n",
       "        text-align: right;\n",
       "    }\n",
       "</style>\n",
       "<table border=\"1\" class=\"dataframe\">\n",
       "  <thead>\n",
       "    <tr style=\"text-align: right;\">\n",
       "      <th></th>\n",
       "      <th>区域</th>\n",
       "      <th>任务完成数</th>\n",
       "      <th>任务总数</th>\n",
       "      <th>任务完成率</th>\n",
       "    </tr>\n",
       "  </thead>\n",
       "  <tbody>\n",
       "    <tr>\n",
       "      <th>0</th>\n",
       "      <td>NaN</td>\n",
       "      <td>31568</td>\n",
       "      <td>33407</td>\n",
       "      <td>0.944952</td>\n",
       "    </tr>\n",
       "    <tr>\n",
       "      <th>1</th>\n",
       "      <td>中南区域</td>\n",
       "      <td>2838</td>\n",
       "      <td>2959</td>\n",
       "      <td>0.959108</td>\n",
       "    </tr>\n",
       "    <tr>\n",
       "      <th>2</th>\n",
       "      <td>中西区域</td>\n",
       "      <td>2237</td>\n",
       "      <td>2428</td>\n",
       "      <td>0.921334</td>\n",
       "    </tr>\n",
       "    <tr>\n",
       "      <th>3</th>\n",
       "      <td>华东区域</td>\n",
       "      <td>6568</td>\n",
       "      <td>6820</td>\n",
       "      <td>0.963050</td>\n",
       "    </tr>\n",
       "    <tr>\n",
       "      <th>4</th>\n",
       "      <td>华北区域</td>\n",
       "      <td>5582</td>\n",
       "      <td>5721</td>\n",
       "      <td>0.975704</td>\n",
       "    </tr>\n",
       "    <tr>\n",
       "      <th>5</th>\n",
       "      <td>广东区域</td>\n",
       "      <td>5496</td>\n",
       "      <td>5970</td>\n",
       "      <td>0.920603</td>\n",
       "    </tr>\n",
       "    <tr>\n",
       "      <th>6</th>\n",
       "      <td>沪苏区域</td>\n",
       "      <td>3382</td>\n",
       "      <td>3655</td>\n",
       "      <td>0.925308</td>\n",
       "    </tr>\n",
       "    <tr>\n",
       "      <th>7</th>\n",
       "      <td>西南区域</td>\n",
       "      <td>2708</td>\n",
       "      <td>3016</td>\n",
       "      <td>0.897878</td>\n",
       "    </tr>\n",
       "    <tr>\n",
       "      <th>8</th>\n",
       "      <td>鲁津冀区域</td>\n",
       "      <td>2757</td>\n",
       "      <td>2838</td>\n",
       "      <td>0.971459</td>\n",
       "    </tr>\n",
       "  </tbody>\n",
       "</table>\n",
       "</div>"
      ],
      "text/plain": [
       "      区域  任务完成数   任务总数     任务完成率\n",
       "0    NaN  31568  33407  0.944952\n",
       "1   中南区域   2838   2959  0.959108\n",
       "2   中西区域   2237   2428  0.921334\n",
       "3   华东区域   6568   6820  0.963050\n",
       "4   华北区域   5582   5721  0.975704\n",
       "5   广东区域   5496   5970  0.920603\n",
       "6   沪苏区域   3382   3655  0.925308\n",
       "7   西南区域   2708   3016  0.897878\n",
       "8  鲁津冀区域   2757   2838  0.971459"
      ]
     },
     "execution_count": 66,
     "metadata": {},
     "output_type": "execute_result"
    }
   ],
   "source": [
    "wc = pd.read_csv(data_path3,encoding='gbk')\n",
    "wc"
   ]
  },
  {
   "cell_type": "code",
   "execution_count": 67,
   "id": "bb35b543",
   "metadata": {
    "ExecuteTime": {
     "end_time": "2021-12-17T05:03:58.197839Z",
     "start_time": "2021-12-17T05:03:58.182880Z"
    }
   },
   "outputs": [
    {
     "data": {
      "text/html": [
       "<div>\n",
       "<style scoped>\n",
       "    .dataframe tbody tr th:only-of-type {\n",
       "        vertical-align: middle;\n",
       "    }\n",
       "\n",
       "    .dataframe tbody tr th {\n",
       "        vertical-align: top;\n",
       "    }\n",
       "\n",
       "    .dataframe thead th {\n",
       "        text-align: right;\n",
       "    }\n",
       "</style>\n",
       "<table border=\"1\" class=\"dataframe\">\n",
       "  <thead>\n",
       "    <tr style=\"text-align: right;\">\n",
       "      <th></th>\n",
       "      <th>区域</th>\n",
       "      <th>任务完成数</th>\n",
       "      <th>任务总数</th>\n",
       "      <th>任务完成率</th>\n",
       "    </tr>\n",
       "  </thead>\n",
       "  <tbody>\n",
       "    <tr>\n",
       "      <th>4</th>\n",
       "      <td>华北区域</td>\n",
       "      <td>5582</td>\n",
       "      <td>5721</td>\n",
       "      <td>0.975704</td>\n",
       "    </tr>\n",
       "    <tr>\n",
       "      <th>8</th>\n",
       "      <td>鲁津冀区域</td>\n",
       "      <td>2757</td>\n",
       "      <td>2838</td>\n",
       "      <td>0.971459</td>\n",
       "    </tr>\n",
       "    <tr>\n",
       "      <th>3</th>\n",
       "      <td>华东区域</td>\n",
       "      <td>6568</td>\n",
       "      <td>6820</td>\n",
       "      <td>0.963050</td>\n",
       "    </tr>\n",
       "    <tr>\n",
       "      <th>1</th>\n",
       "      <td>中南区域</td>\n",
       "      <td>2838</td>\n",
       "      <td>2959</td>\n",
       "      <td>0.959108</td>\n",
       "    </tr>\n",
       "    <tr>\n",
       "      <th>6</th>\n",
       "      <td>沪苏区域</td>\n",
       "      <td>3382</td>\n",
       "      <td>3655</td>\n",
       "      <td>0.925308</td>\n",
       "    </tr>\n",
       "    <tr>\n",
       "      <th>2</th>\n",
       "      <td>中西区域</td>\n",
       "      <td>2237</td>\n",
       "      <td>2428</td>\n",
       "      <td>0.921334</td>\n",
       "    </tr>\n",
       "    <tr>\n",
       "      <th>5</th>\n",
       "      <td>广东区域</td>\n",
       "      <td>5496</td>\n",
       "      <td>5970</td>\n",
       "      <td>0.920603</td>\n",
       "    </tr>\n",
       "    <tr>\n",
       "      <th>7</th>\n",
       "      <td>西南区域</td>\n",
       "      <td>2708</td>\n",
       "      <td>3016</td>\n",
       "      <td>0.897878</td>\n",
       "    </tr>\n",
       "    <tr>\n",
       "      <th>0</th>\n",
       "      <td>全国</td>\n",
       "      <td>31568</td>\n",
       "      <td>33407</td>\n",
       "      <td>0.944952</td>\n",
       "    </tr>\n",
       "  </tbody>\n",
       "</table>\n",
       "</div>"
      ],
      "text/plain": [
       "      区域  任务完成数   任务总数     任务完成率\n",
       "4   华北区域   5582   5721  0.975704\n",
       "8  鲁津冀区域   2757   2838  0.971459\n",
       "3   华东区域   6568   6820  0.963050\n",
       "1   中南区域   2838   2959  0.959108\n",
       "6   沪苏区域   3382   3655  0.925308\n",
       "2   中西区域   2237   2428  0.921334\n",
       "5   广东区域   5496   5970  0.920603\n",
       "7   西南区域   2708   3016  0.897878\n",
       "0     全国  31568  33407  0.944952"
      ]
     },
     "execution_count": 67,
     "metadata": {},
     "output_type": "execute_result"
    }
   ],
   "source": [
    "wc['区域'] = wc['区域'].replace(np.nan,'全国')\n",
    "wc = wc.iloc[1:,:].sort_values(by=['任务完成率'],ascending=False).append(wc.iloc[0])   #除最后一行外，其余行降序排列\n",
    "wc"
   ]
  },
  {
   "cell_type": "markdown",
   "id": "2befc617",
   "metadata": {},
   "source": [
    "#### 周报cooper"
   ]
  },
  {
   "cell_type": "code",
   "execution_count": 68,
   "id": "4f39b37f",
   "metadata": {
    "ExecuteTime": {
     "end_time": "2021-12-17T05:03:58.252704Z",
     "start_time": "2021-12-17T05:03:58.204820Z"
    }
   },
   "outputs": [
    {
     "data": {
      "text/html": [
       "<div>\n",
       "<style scoped>\n",
       "    .dataframe tbody tr th:only-of-type {\n",
       "        vertical-align: middle;\n",
       "    }\n",
       "\n",
       "    .dataframe tbody tr th {\n",
       "        vertical-align: top;\n",
       "    }\n",
       "\n",
       "    .dataframe thead th {\n",
       "        text-align: right;\n",
       "    }\n",
       "</style>\n",
       "<table border=\"1\" class=\"dataframe\">\n",
       "  <thead>\n",
       "    <tr style=\"text-align: right;\">\n",
       "      <th></th>\n",
       "      <th>区域</th>\n",
       "      <th>任务完成数</th>\n",
       "      <th>任务总数</th>\n",
       "      <th>任务完成率</th>\n",
       "    </tr>\n",
       "  </thead>\n",
       "  <tbody>\n",
       "    <tr>\n",
       "      <th>4</th>\n",
       "      <td>华北区域</td>\n",
       "      <td>5582</td>\n",
       "      <td>5721</td>\n",
       "      <td>97.57%</td>\n",
       "    </tr>\n",
       "    <tr>\n",
       "      <th>8</th>\n",
       "      <td>鲁津冀区域</td>\n",
       "      <td>2757</td>\n",
       "      <td>2838</td>\n",
       "      <td>97.15%</td>\n",
       "    </tr>\n",
       "    <tr>\n",
       "      <th>3</th>\n",
       "      <td>华东区域</td>\n",
       "      <td>6568</td>\n",
       "      <td>6820</td>\n",
       "      <td>96.30%</td>\n",
       "    </tr>\n",
       "    <tr>\n",
       "      <th>1</th>\n",
       "      <td>中南区域</td>\n",
       "      <td>2838</td>\n",
       "      <td>2959</td>\n",
       "      <td>95.91%</td>\n",
       "    </tr>\n",
       "    <tr>\n",
       "      <th>6</th>\n",
       "      <td>沪苏区域</td>\n",
       "      <td>3382</td>\n",
       "      <td>3655</td>\n",
       "      <td>92.53%</td>\n",
       "    </tr>\n",
       "    <tr>\n",
       "      <th>2</th>\n",
       "      <td>中西区域</td>\n",
       "      <td>2237</td>\n",
       "      <td>2428</td>\n",
       "      <td>92.13%</td>\n",
       "    </tr>\n",
       "    <tr>\n",
       "      <th>5</th>\n",
       "      <td>广东区域</td>\n",
       "      <td>5496</td>\n",
       "      <td>5970</td>\n",
       "      <td>92.06%</td>\n",
       "    </tr>\n",
       "    <tr>\n",
       "      <th>7</th>\n",
       "      <td>西南区域</td>\n",
       "      <td>2708</td>\n",
       "      <td>3016</td>\n",
       "      <td>89.79%</td>\n",
       "    </tr>\n",
       "    <tr>\n",
       "      <th>0</th>\n",
       "      <td>全国</td>\n",
       "      <td>31568</td>\n",
       "      <td>33407</td>\n",
       "      <td>94.50%</td>\n",
       "    </tr>\n",
       "  </tbody>\n",
       "</table>\n",
       "</div>"
      ],
      "text/plain": [
       "      区域  任务完成数   任务总数   任务完成率\n",
       "4   华北区域   5582   5721  97.57%\n",
       "8  鲁津冀区域   2757   2838  97.15%\n",
       "3   华东区域   6568   6820  96.30%\n",
       "1   中南区域   2838   2959  95.91%\n",
       "6   沪苏区域   3382   3655  92.53%\n",
       "2   中西区域   2237   2428  92.13%\n",
       "5   广东区域   5496   5970  92.06%\n",
       "7   西南区域   2708   3016  89.79%\n",
       "0     全国  31568  33407  94.50%"
      ]
     },
     "execution_count": 68,
     "metadata": {},
     "output_type": "execute_result"
    }
   ],
   "source": [
    "# 写入excel\n",
    "wc_zb = wc.copy()\n",
    "wc_zb['任务完成率'] = wc_zb['任务完成率'].map(lambda x:format(x,'.2%'))   #不要随意更改原数据的格式  num--->str\n",
    "wc_zb\n",
    "\n",
    "wbzb = load_workbook('周报_ppt.xlsx')   # excel中设置模板格式\n",
    "wszb = wbzb['周报']\n",
    "\n",
    "wszb.append([])\n",
    "wszb.append(['{0}队长任务{0}'.format('*'*20)])\n",
    "wszb.append([])  #添加空列，方便复制粘贴\n",
    "for r in dataframe_to_rows(wc_zb, index=False, header=True):\n",
    "    wszb.append(r)\n",
    "\n",
    "    \n",
    "wbzb.save('周报_ppt.xlsx')  "
   ]
  },
  {
   "cell_type": "code",
   "execution_count": 69,
   "id": "e0eeaac1",
   "metadata": {
    "ExecuteTime": {
     "end_time": "2021-12-17T05:03:58.258676Z",
     "start_time": "2021-12-17T05:03:58.255684Z"
    }
   },
   "outputs": [],
   "source": [
    "# 分割"
   ]
  },
  {
   "cell_type": "code",
   "execution_count": 70,
   "id": "15d1a944",
   "metadata": {
    "ExecuteTime": {
     "end_time": "2021-12-17T05:03:58.271641Z",
     "start_time": "2021-12-17T05:03:58.261671Z"
    },
    "scrolled": true
   },
   "outputs": [
    {
     "data": {
      "text/html": [
       "<div>\n",
       "<style scoped>\n",
       "    .dataframe tbody tr th:only-of-type {\n",
       "        vertical-align: middle;\n",
       "    }\n",
       "\n",
       "    .dataframe tbody tr th {\n",
       "        vertical-align: top;\n",
       "    }\n",
       "\n",
       "    .dataframe thead th {\n",
       "        text-align: right;\n",
       "    }\n",
       "</style>\n",
       "<table border=\"1\" class=\"dataframe\">\n",
       "  <thead>\n",
       "    <tr style=\"text-align: right;\">\n",
       "      <th></th>\n",
       "      <th>区域</th>\n",
       "      <th>任务完成率</th>\n",
       "    </tr>\n",
       "  </thead>\n",
       "  <tbody>\n",
       "    <tr>\n",
       "      <th>4</th>\n",
       "      <td>华北区域</td>\n",
       "      <td>0.975704</td>\n",
       "    </tr>\n",
       "    <tr>\n",
       "      <th>8</th>\n",
       "      <td>鲁津冀区域</td>\n",
       "      <td>0.971459</td>\n",
       "    </tr>\n",
       "    <tr>\n",
       "      <th>3</th>\n",
       "      <td>华东区域</td>\n",
       "      <td>0.963050</td>\n",
       "    </tr>\n",
       "    <tr>\n",
       "      <th>1</th>\n",
       "      <td>中南区域</td>\n",
       "      <td>0.959108</td>\n",
       "    </tr>\n",
       "    <tr>\n",
       "      <th>6</th>\n",
       "      <td>沪苏区域</td>\n",
       "      <td>0.925308</td>\n",
       "    </tr>\n",
       "    <tr>\n",
       "      <th>2</th>\n",
       "      <td>中西区域</td>\n",
       "      <td>0.921334</td>\n",
       "    </tr>\n",
       "    <tr>\n",
       "      <th>5</th>\n",
       "      <td>广东区域</td>\n",
       "      <td>0.920603</td>\n",
       "    </tr>\n",
       "    <tr>\n",
       "      <th>7</th>\n",
       "      <td>西南区域</td>\n",
       "      <td>0.897878</td>\n",
       "    </tr>\n",
       "    <tr>\n",
       "      <th>0</th>\n",
       "      <td>全国</td>\n",
       "      <td>0.944952</td>\n",
       "    </tr>\n",
       "  </tbody>\n",
       "</table>\n",
       "</div>"
      ],
      "text/plain": [
       "      区域     任务完成率\n",
       "4   华北区域  0.975704\n",
       "8  鲁津冀区域  0.971459\n",
       "3   华东区域  0.963050\n",
       "1   中南区域  0.959108\n",
       "6   沪苏区域  0.925308\n",
       "2   中西区域  0.921334\n",
       "5   广东区域  0.920603\n",
       "7   西南区域  0.897878\n",
       "0     全国  0.944952"
      ]
     },
     "execution_count": 70,
     "metadata": {},
     "output_type": "execute_result"
    }
   ],
   "source": [
    "wc = wc[['区域','任务完成率']]\n",
    "wc"
   ]
  },
  {
   "cell_type": "code",
   "execution_count": 71,
   "id": "e24db25a",
   "metadata": {
    "ExecuteTime": {
     "end_time": "2021-12-17T05:03:58.296575Z",
     "start_time": "2021-12-17T05:03:58.272637Z"
    },
    "scrolled": true
   },
   "outputs": [
    {
     "data": {
      "text/html": [
       "<div>\n",
       "<style scoped>\n",
       "    .dataframe tbody tr th:only-of-type {\n",
       "        vertical-align: middle;\n",
       "    }\n",
       "\n",
       "    .dataframe tbody tr th {\n",
       "        vertical-align: top;\n",
       "    }\n",
       "\n",
       "    .dataframe thead th {\n",
       "        text-align: right;\n",
       "    }\n",
       "</style>\n",
       "<table border=\"1\" class=\"dataframe\">\n",
       "  <thead>\n",
       "    <tr style=\"text-align: right;\">\n",
       "      <th></th>\n",
       "      <th>区域</th>\n",
       "      <th>队长月会到达率</th>\n",
       "      <th>当日目标值(18日)</th>\n",
       "      <th>目标达成率</th>\n",
       "      <th>任务完成率</th>\n",
       "    </tr>\n",
       "  </thead>\n",
       "  <tbody>\n",
       "    <tr>\n",
       "      <th>0</th>\n",
       "      <td>沪苏区域</td>\n",
       "      <td>0.819095</td>\n",
       "      <td>58%</td>\n",
       "      <td>0.565186</td>\n",
       "      <td>0.925308</td>\n",
       "    </tr>\n",
       "    <tr>\n",
       "      <th>1</th>\n",
       "      <td>中南区域</td>\n",
       "      <td>0.653920</td>\n",
       "      <td>58%</td>\n",
       "      <td>0.563708</td>\n",
       "      <td>0.959108</td>\n",
       "    </tr>\n",
       "    <tr>\n",
       "      <th>2</th>\n",
       "      <td>中西区域</td>\n",
       "      <td>0.639344</td>\n",
       "      <td>58%</td>\n",
       "      <td>0.685176</td>\n",
       "      <td>0.921334</td>\n",
       "    </tr>\n",
       "    <tr>\n",
       "      <th>3</th>\n",
       "      <td>华东区域</td>\n",
       "      <td>0.614035</td>\n",
       "      <td>58%</td>\n",
       "      <td>0.421194</td>\n",
       "      <td>0.963050</td>\n",
       "    </tr>\n",
       "    <tr>\n",
       "      <th>4</th>\n",
       "      <td>华北区域</td>\n",
       "      <td>0.606122</td>\n",
       "      <td>58%</td>\n",
       "      <td>0.624967</td>\n",
       "      <td>0.975704</td>\n",
       "    </tr>\n",
       "    <tr>\n",
       "      <th>5</th>\n",
       "      <td>广东区域</td>\n",
       "      <td>0.413902</td>\n",
       "      <td>58%</td>\n",
       "      <td>0.663942</td>\n",
       "      <td>0.920603</td>\n",
       "    </tr>\n",
       "    <tr>\n",
       "      <th>6</th>\n",
       "      <td>西南区域</td>\n",
       "      <td>0.279472</td>\n",
       "      <td>58%</td>\n",
       "      <td>0.701754</td>\n",
       "      <td>0.897878</td>\n",
       "    </tr>\n",
       "    <tr>\n",
       "      <th>7</th>\n",
       "      <td>鲁津冀区域</td>\n",
       "      <td>0.266423</td>\n",
       "      <td>58%</td>\n",
       "      <td>0.569463</td>\n",
       "      <td>0.971459</td>\n",
       "    </tr>\n",
       "    <tr>\n",
       "      <th>8</th>\n",
       "      <td>全国</td>\n",
       "      <td>0.502662</td>\n",
       "      <td>58%</td>\n",
       "      <td>0.579779</td>\n",
       "      <td>0.944952</td>\n",
       "    </tr>\n",
       "  </tbody>\n",
       "</table>\n",
       "</div>"
      ],
      "text/plain": [
       "      区域   队长月会到达率 当日目标值(18日)     目标达成率     任务完成率\n",
       "0   沪苏区域  0.819095        58%  0.565186  0.925308\n",
       "1   中南区域  0.653920        58%  0.563708  0.959108\n",
       "2   中西区域  0.639344        58%  0.685176  0.921334\n",
       "3   华东区域  0.614035        58%  0.421194  0.963050\n",
       "4   华北区域  0.606122        58%  0.624967  0.975704\n",
       "5   广东区域  0.413902        58%  0.663942  0.920603\n",
       "6   西南区域  0.279472        58%  0.701754  0.897878\n",
       "7  鲁津冀区域  0.266423        58%  0.569463  0.971459\n",
       "8     全国  0.502662        58%  0.579779  0.944952"
      ]
     },
     "execution_count": 71,
     "metadata": {},
     "output_type": "execute_result"
    }
   ],
   "source": [
    "# 合并三个表格\n",
    "dfm11 = pd.merge(yh,dc)\n",
    "dfm11 = pd.merge(dfm11,wc)\n",
    "dfm11"
   ]
  },
  {
   "cell_type": "markdown",
   "id": "d70b0e12",
   "metadata": {},
   "source": [
    "## 汇总"
   ]
  },
  {
   "cell_type": "markdown",
   "id": "e9f0a02e",
   "metadata": {},
   "source": [
    "|DataFrame|content|\n",
    "|-|-|\n",
    "|dfm1|小队体系-邮件1|\n",
    "|dfm2|队长准出-邮件2|\n",
    "|fg|1-队长覆盖率|\n",
    "|zc|2-准出进度|\n",
    "|wbm|邮件.xlsx（草稿）|\n",
    "|wsm1|1-队长覆盖率|\n",
    "|wsm2|2-准出进度|\n",
    "|wsm3|4-安全辅导员|\n",
    "|wbmm|周报邮件版|\n",
    "|wbzb|周报_ppt[周报]|\n",
    "|wbpp|周报_ppt[ppt]|"
   ]
  },
  {
   "cell_type": "markdown",
   "id": "1f9f8717",
   "metadata": {},
   "source": [
    "### 写入``邮件.xlsx``"
   ]
  },
  {
   "cell_type": "code",
   "execution_count": 72,
   "id": "9b318a80",
   "metadata": {
    "ExecuteTime": {
     "end_time": "2021-12-17T05:03:58.302559Z",
     "start_time": "2021-12-17T05:03:58.298569Z"
    }
   },
   "outputs": [
    {
     "name": "stdout",
     "output_type": "stream",
     "text": [
      "红线封禁情况： ['广东区域']\n"
     ]
    }
   ],
   "source": [
    "print('红线封禁情况： '+str(red_lt))"
   ]
  },
  {
   "cell_type": "code",
   "execution_count": 73,
   "id": "a16bbf2c",
   "metadata": {
    "ExecuteTime": {
     "end_time": "2021-12-17T05:04:38.497543Z",
     "start_time": "2021-12-17T05:03:58.304555Z"
    }
   },
   "outputs": [
    {
     "name": "stdout",
     "output_type": "stream",
     "text": [
      "请打开【2-准出进度.xlsx】手动检查并更新红线封禁列，保存并退出:(按任意键继续)  \n"
     ]
    },
    {
     "data": {
      "text/plain": [
       "''"
      ]
     },
     "execution_count": 73,
     "metadata": {},
     "output_type": "execute_result"
    }
   ],
   "source": [
    "input('请打开【2-准出进度.xlsx】手动检查并更新红线封禁列，保存并退出:(按任意键继续)  ')"
   ]
  },
  {
   "cell_type": "code",
   "execution_count": 74,
   "id": "7848ca1c",
   "metadata": {
    "ExecuteTime": {
     "end_time": "2021-12-17T05:05:57.200788Z",
     "start_time": "2021-12-17T05:04:38.498554Z"
    }
   },
   "outputs": [
    {
     "name": "stdout",
     "output_type": "stream",
     "text": [
      "请打开【1-队长覆盖率.xlsx】【4-安全辅导员.xlsx】【3-队长月会.xlsx】手动检查，保存并退出:(按任意键继续)  \n"
     ]
    },
    {
     "data": {
      "text/plain": [
       "''"
      ]
     },
     "execution_count": 74,
     "metadata": {},
     "output_type": "execute_result"
    }
   ],
   "source": [
    "input('请打开【1-队长覆盖率.xlsx】【4-安全辅导员.xlsx】【3-队长月会.xlsx】手动检查，保存并退出:(按任意键继续)  ')"
   ]
  },
  {
   "cell_type": "code",
   "execution_count": 75,
   "id": "8f6e637a",
   "metadata": {
    "ExecuteTime": {
     "end_time": "2021-12-17T05:05:57.269485Z",
     "start_time": "2021-12-17T05:05:57.201785Z"
    }
   },
   "outputs": [],
   "source": [
    "from win32com.client import Dispatch\n",
    " \n",
    "def just_open(filename):\n",
    "    xlApp = Dispatch(\"Excel.Application\")\n",
    "    xlApp.Visible = False\n",
    "    xlBook = xlApp.Workbooks.Open('D:/file/o/队长/周报/s/1120/'+filename)\n",
    "    xlBook.SaveAs(filename)\n",
    "    xlBook.Close() "
   ]
  },
  {
   "cell_type": "code",
   "execution_count": 76,
   "id": "bb2bd449",
   "metadata": {
    "ExecuteTime": {
     "end_time": "2021-12-17T05:05:57.273466Z",
     "start_time": "2021-12-17T05:05:57.270474Z"
    }
   },
   "outputs": [],
   "source": [
    "from openpyxl import Workbook\n",
    "from openpyxl import load_workbook"
   ]
  },
  {
   "cell_type": "code",
   "execution_count": 77,
   "id": "2374275a",
   "metadata": {
    "ExecuteTime": {
     "end_time": "2021-12-17T05:05:57.281446Z",
     "start_time": "2021-12-17T05:05:57.275462Z"
    }
   },
   "outputs": [],
   "source": [
    "path1 = '1-队长覆盖率.xlsx'\n",
    "path2 = '2-准出进度.xlsx'\n",
    "path3 = '3-司服维稳.xlsx'  #没有用到\n",
    "path03 = '3-队长月会.xlsx'\n",
    "path4 = '4-安全辅导员.xlsx'\n",
    "wbm = Workbook()"
   ]
  },
  {
   "cell_type": "code",
   "execution_count": 78,
   "id": "6a0e9147",
   "metadata": {
    "ExecuteTime": {
     "end_time": "2021-12-17T05:05:57.286432Z",
     "start_time": "2021-12-17T05:05:57.282443Z"
    }
   },
   "outputs": [],
   "source": [
    "def write_cells(cells,ws):\n",
    "    for row in cells:\n",
    "        ws.append([i.value for i in row])\n",
    "    ws.append([])"
   ]
  },
  {
   "cell_type": "code",
   "execution_count": 79,
   "id": "82ab3083",
   "metadata": {
    "ExecuteTime": {
     "end_time": "2021-12-17T05:05:57.292416Z",
     "start_time": "2021-12-17T05:05:57.287429Z"
    }
   },
   "outputs": [
    {
     "data": {
      "text/plain": [
       "\"\\nfrom xlrd import open_workbook\\nimport xlwt\\nfrom xlutils.copy import copy\\n\\nrb = open_workbook(path1,formatting_info=True)\\nrs = rb.sheet_by_name('1-队长覆盖率')\\n\\nwb1 = copy(rb)\\nws1 = wb1.get_sheet(0)\\n\\ncover1 = ws1['S1:AG10']  #队长覆盖\\ncover2 = ws1['AM1:AM2']  #城市覆盖率超过95%\\ncover3 = ws1['AO1:AT21']  #城市覆盖率\\n\\n# 将结果写入到新的excel\\nwsm1 = wbm.create_sheet('1-队长覆盖率')\\nwrite_cells(cover1, wsm1)\\nwrite_cells(cover2, wsm1)\\nwrite_cells(cover3, wsm1)\\nwbm.save('邮件.xlsx')\\n\""
      ]
     },
     "execution_count": 79,
     "metadata": {},
     "output_type": "execute_result"
    }
   ],
   "source": [
    "'''\n",
    "from xlrd import open_workbook\n",
    "import xlwt\n",
    "from xlutils.copy import copy\n",
    "\n",
    "rb = open_workbook(path1,formatting_info=True)\n",
    "rs = rb.sheet_by_name('1-队长覆盖率')\n",
    "\n",
    "wb1 = copy(rb)\n",
    "ws1 = wb1.get_sheet(0)\n",
    "\n",
    "cover1 = ws1['S1:AG10']  #队长覆盖\n",
    "cover2 = ws1['AM1:AM2']  #城市覆盖率超过95%\n",
    "cover3 = ws1['AO1:AT21']  #城市覆盖率\n",
    "\n",
    "# 将结果写入到新的excel\n",
    "wsm1 = wbm.create_sheet('1-队长覆盖率')\n",
    "write_cells(cover1, wsm1)\n",
    "write_cells(cover2, wsm1)\n",
    "write_cells(cover3, wsm1)\n",
    "wbm.save('邮件.xlsx')\n",
    "'''"
   ]
  },
  {
   "cell_type": "code",
   "execution_count": 80,
   "id": "6bfbb365",
   "metadata": {
    "ExecuteTime": {
     "end_time": "2021-12-17T05:05:57.380215Z",
     "start_time": "2021-12-17T05:05:57.294411Z"
    }
   },
   "outputs": [],
   "source": [
    "wb1 = load_workbook(path1,data_only=True, read_only=True)\n",
    "ws1 = wb1['1-队长覆盖率']\n",
    "\n",
    "\n",
    "cover1 = ws1['S1:AD10']  #队长覆盖\n",
    "cover2 = ws1['AM1:AM2']  #城市覆盖率超过95%\n",
    "cover3 = ws1['AO1:AX21']  #城市覆盖率\n",
    "\n",
    "# 将结果写入到新的excel\n",
    "wsm1 = wbm.create_sheet('1-队长覆盖率')\n",
    "wsm12 = wbm.create_sheet('111-队长覆盖率')\n",
    "write_cells(cover1, wsm12)\n",
    "write_cells(cover2, wsm12)\n",
    "write_cells(cover3, wsm12)\n",
    "write_cells(cover1, wsm1)\n",
    "wbm.save('邮件.xlsx')"
   ]
  },
  {
   "cell_type": "code",
   "execution_count": 81,
   "id": "20a470be",
   "metadata": {
    "ExecuteTime": {
     "end_time": "2021-12-17T05:05:58.110501Z",
     "start_time": "2021-12-17T05:05:57.381214Z"
    }
   },
   "outputs": [],
   "source": [
    "wb2 = load_workbook(path2,data_only=True)\n",
    "ws2 = wb2['2-准出进度']\n",
    "\n",
    "out2 = ws2['A1:S11']  #队长覆盖\n",
    "\n",
    "# 将结果写入到新的excel\n",
    "wsm2 = wbm.create_sheet('2-准出进度')\n",
    "write_cells(out2, wsm2)\n",
    "wbm.save('邮件.xlsx')"
   ]
  },
  {
   "cell_type": "code",
   "execution_count": 82,
   "id": "2c17c6cc",
   "metadata": {
    "ExecuteTime": {
     "end_time": "2021-12-17T05:05:58.221539Z",
     "start_time": "2021-12-17T05:05:58.111081Z"
    }
   },
   "outputs": [],
   "source": [
    "wb03 = load_workbook(path03,data_only=True)\n",
    "ws03 = wb03['3-队长月会']\n",
    "\n",
    "out03 = ws03['S3:Y12']  #队长覆盖\n",
    "\n",
    "# 将结果写入到新的excel\n",
    "wsm03 = wbm.create_sheet('3-队长月会')\n",
    "write_cells(out03, wsm03)\n",
    "wbm.save('邮件.xlsx')"
   ]
  },
  {
   "cell_type": "code",
   "execution_count": 83,
   "id": "7da53587",
   "metadata": {
    "ExecuteTime": {
     "end_time": "2021-12-17T05:05:58.227491Z",
     "start_time": "2021-12-17T05:05:58.222503Z"
    }
   },
   "outputs": [
    {
     "data": {
      "text/plain": [
       "\"\\nwb3 = load_workbook(path3,data_only=True)\\nws3 = wb3['3-安全维稳']\\n\\nout3 = ws3['A1:S11']  #队长覆盖\\n\\n# 将结果写入到新的excel\\nwsm3 = wbm.create_sheet('3-安全维稳')\\nwrite_cells(out3, wsm3)\\nwbm.save('邮件.xlsx')\\n\""
      ]
     },
     "execution_count": 83,
     "metadata": {},
     "output_type": "execute_result"
    }
   ],
   "source": [
    "# 截图 不需要数据\n",
    "'''\n",
    "wb3 = load_workbook(path3,data_only=True)\n",
    "ws3 = wb3['3-安全维稳']\n",
    "\n",
    "out3 = ws3['A1:S11']  #队长覆盖\n",
    "\n",
    "# 将结果写入到新的excel\n",
    "wsm3 = wbm.create_sheet('3-安全维稳')\n",
    "write_cells(out3, wsm3)\n",
    "wbm.save('邮件.xlsx')\n",
    "'''"
   ]
  },
  {
   "cell_type": "code",
   "execution_count": 84,
   "id": "753cb54e",
   "metadata": {
    "ExecuteTime": {
     "end_time": "2021-12-17T05:05:58.301358Z",
     "start_time": "2021-12-17T05:05:58.229484Z"
    }
   },
   "outputs": [],
   "source": [
    "wb4 = load_workbook(path4,data_only=True)\n",
    "ws4 = wb4['4-安全辅导员']\n",
    "\n",
    "out4 = ws4['A2:I11']  #队长覆盖\n",
    "\n",
    "# 将结果写入到新的excel\n",
    "wsm4 = wbm.create_sheet('4-安全辅导员')\n",
    "write_cells(out4, wsm4)\n",
    "wbm.save('邮件.xlsx')"
   ]
  },
  {
   "cell_type": "markdown",
   "id": "7ebe67e1",
   "metadata": {},
   "source": [
    "### 队长覆盖率"
   ]
  },
  {
   "cell_type": "code",
   "execution_count": 85,
   "id": "e43a4209",
   "metadata": {
    "ExecuteTime": {
     "end_time": "2021-12-17T05:05:58.318136Z",
     "start_time": "2021-12-17T05:05:58.302175Z"
    }
   },
   "outputs": [
    {
     "data": {
      "text/html": [
       "<div>\n",
       "<style scoped>\n",
       "    .dataframe tbody tr th:only-of-type {\n",
       "        vertical-align: middle;\n",
       "    }\n",
       "\n",
       "    .dataframe tbody tr th {\n",
       "        vertical-align: top;\n",
       "    }\n",
       "\n",
       "    .dataframe thead th {\n",
       "        text-align: right;\n",
       "    }\n",
       "</style>\n",
       "<table border=\"1\" class=\"dataframe\">\n",
       "  <thead>\n",
       "    <tr style=\"text-align: right;\">\n",
       "      <th></th>\n",
       "      <th>0</th>\n",
       "      <th>1</th>\n",
       "      <th>2</th>\n",
       "      <th>3</th>\n",
       "      <th>4</th>\n",
       "      <th>5</th>\n",
       "      <th>6</th>\n",
       "      <th>7</th>\n",
       "      <th>8</th>\n",
       "      <th>9</th>\n",
       "      <th>10</th>\n",
       "      <th>11</th>\n",
       "    </tr>\n",
       "  </thead>\n",
       "  <tbody>\n",
       "    <tr>\n",
       "      <th>0</th>\n",
       "      <td>大区</td>\n",
       "      <td>整体覆盖率</td>\n",
       "      <td>目标对公</td>\n",
       "      <td>对公</td>\n",
       "      <td>对公覆盖率</td>\n",
       "      <td>目标橘子</td>\n",
       "      <td>橘子</td>\n",
       "      <td>橘子覆盖率</td>\n",
       "      <td>已有队长</td>\n",
       "      <td>杰出队长</td>\n",
       "      <td>普通队长</td>\n",
       "      <td>预备役队长</td>\n",
       "    </tr>\n",
       "    <tr>\n",
       "      <th>1</th>\n",
       "      <td>中西区域</td>\n",
       "      <td>0.952923</td>\n",
       "      <td>27276</td>\n",
       "      <td>26165</td>\n",
       "      <td>0.959268</td>\n",
       "      <td>45435</td>\n",
       "      <td>43123</td>\n",
       "      <td>0.949114</td>\n",
       "      <td>1454</td>\n",
       "      <td>225</td>\n",
       "      <td>1222</td>\n",
       "      <td>7</td>\n",
       "    </tr>\n",
       "    <tr>\n",
       "      <th>2</th>\n",
       "      <td>中南区域</td>\n",
       "      <td>0.974605</td>\n",
       "      <td>31529</td>\n",
       "      <td>30667</td>\n",
       "      <td>0.97266</td>\n",
       "      <td>67387</td>\n",
       "      <td>65737</td>\n",
       "      <td>0.975515</td>\n",
       "      <td>2084</td>\n",
       "      <td>255</td>\n",
       "      <td>1802</td>\n",
       "      <td>27</td>\n",
       "    </tr>\n",
       "    <tr>\n",
       "      <th>3</th>\n",
       "      <td>西南区域</td>\n",
       "      <td>0.901639</td>\n",
       "      <td>31610</td>\n",
       "      <td>25368</td>\n",
       "      <td>0.802531</td>\n",
       "      <td>114738</td>\n",
       "      <td>106585</td>\n",
       "      <td>0.928942</td>\n",
       "      <td>3048</td>\n",
       "      <td>391</td>\n",
       "      <td>2598</td>\n",
       "      <td>59</td>\n",
       "    </tr>\n",
       "    <tr>\n",
       "      <th>4</th>\n",
       "      <td>鲁津冀区域</td>\n",
       "      <td>0.965983</td>\n",
       "      <td>27006</td>\n",
       "      <td>25613</td>\n",
       "      <td>0.948419</td>\n",
       "      <td>71916</td>\n",
       "      <td>69944</td>\n",
       "      <td>0.972579</td>\n",
       "      <td>1846</td>\n",
       "      <td>262</td>\n",
       "      <td>1553</td>\n",
       "      <td>31</td>\n",
       "    </tr>\n",
       "    <tr>\n",
       "      <th>5</th>\n",
       "      <td>华东区域</td>\n",
       "      <td>0.943054</td>\n",
       "      <td>51501</td>\n",
       "      <td>47897</td>\n",
       "      <td>0.930021</td>\n",
       "      <td>121242</td>\n",
       "      <td>115009</td>\n",
       "      <td>0.94859</td>\n",
       "      <td>3317</td>\n",
       "      <td>0</td>\n",
       "      <td>3147</td>\n",
       "      <td>170</td>\n",
       "    </tr>\n",
       "    <tr>\n",
       "      <th>6</th>\n",
       "      <td>华北区域</td>\n",
       "      <td>0.968441</td>\n",
       "      <td>21794</td>\n",
       "      <td>20888</td>\n",
       "      <td>0.958429</td>\n",
       "      <td>98804</td>\n",
       "      <td>95904</td>\n",
       "      <td>0.970649</td>\n",
       "      <td>2569</td>\n",
       "      <td>28</td>\n",
       "      <td>2430</td>\n",
       "      <td>111</td>\n",
       "    </tr>\n",
       "    <tr>\n",
       "      <th>7</th>\n",
       "      <td>沪苏区域</td>\n",
       "      <td>0.96871</td>\n",
       "      <td>13559</td>\n",
       "      <td>12887</td>\n",
       "      <td>0.950439</td>\n",
       "      <td>36457</td>\n",
       "      <td>35564</td>\n",
       "      <td>0.975505</td>\n",
       "      <td>994</td>\n",
       "      <td>127</td>\n",
       "      <td>867</td>\n",
       "      <td>0</td>\n",
       "    </tr>\n",
       "    <tr>\n",
       "      <th>8</th>\n",
       "      <td>广东区域</td>\n",
       "      <td>0.953834</td>\n",
       "      <td>52256</td>\n",
       "      <td>48616</td>\n",
       "      <td>0.930343</td>\n",
       "      <td>159804</td>\n",
       "      <td>153654</td>\n",
       "      <td>0.961515</td>\n",
       "      <td>4104</td>\n",
       "      <td>312</td>\n",
       "      <td>3761</td>\n",
       "      <td>31</td>\n",
       "    </tr>\n",
       "    <tr>\n",
       "      <th>9</th>\n",
       "      <td>全国</td>\n",
       "      <td>0.94992</td>\n",
       "      <td>256531</td>\n",
       "      <td>238101</td>\n",
       "      <td>0.928157</td>\n",
       "      <td>715783</td>\n",
       "      <td>685520</td>\n",
       "      <td>0.95772</td>\n",
       "      <td>19416</td>\n",
       "      <td>1600</td>\n",
       "      <td>17380</td>\n",
       "      <td>436</td>\n",
       "    </tr>\n",
       "  </tbody>\n",
       "</table>\n",
       "</div>"
      ],
      "text/plain": [
       "      0         1       2       3         4       5       6         7      8   \\\n",
       "0     大区     整体覆盖率    目标对公      对公     对公覆盖率    目标橘子      橘子     橘子覆盖率   已有队长   \n",
       "1   中西区域  0.952923   27276   26165  0.959268   45435   43123  0.949114   1454   \n",
       "2   中南区域  0.974605   31529   30667   0.97266   67387   65737  0.975515   2084   \n",
       "3   西南区域  0.901639   31610   25368  0.802531  114738  106585  0.928942   3048   \n",
       "4  鲁津冀区域  0.965983   27006   25613  0.948419   71916   69944  0.972579   1846   \n",
       "5   华东区域  0.943054   51501   47897  0.930021  121242  115009   0.94859   3317   \n",
       "6   华北区域  0.968441   21794   20888  0.958429   98804   95904  0.970649   2569   \n",
       "7   沪苏区域   0.96871   13559   12887  0.950439   36457   35564  0.975505    994   \n",
       "8   广东区域  0.953834   52256   48616  0.930343  159804  153654  0.961515   4104   \n",
       "9     全国   0.94992  256531  238101  0.928157  715783  685520   0.95772  19416   \n",
       "\n",
       "     9      10     11  \n",
       "0  杰出队长   普通队长  预备役队长  \n",
       "1   225   1222      7  \n",
       "2   255   1802     27  \n",
       "3   391   2598     59  \n",
       "4   262   1553     31  \n",
       "5     0   3147    170  \n",
       "6    28   2430    111  \n",
       "7   127    867      0  \n",
       "8   312   3761     31  \n",
       "9  1600  17380    436  "
      ]
     },
     "execution_count": 85,
     "metadata": {},
     "output_type": "execute_result"
    }
   ],
   "source": [
    "fg = pd.DataFrame(wsm1.values)\n",
    "fg"
   ]
  },
  {
   "cell_type": "code",
   "execution_count": 86,
   "id": "5326dc09",
   "metadata": {
    "ExecuteTime": {
     "end_time": "2021-12-17T05:05:58.333095Z",
     "start_time": "2021-12-17T05:05:58.319134Z"
    }
   },
   "outputs": [
    {
     "data": {
      "text/html": [
       "<div>\n",
       "<style scoped>\n",
       "    .dataframe tbody tr th:only-of-type {\n",
       "        vertical-align: middle;\n",
       "    }\n",
       "\n",
       "    .dataframe tbody tr th {\n",
       "        vertical-align: top;\n",
       "    }\n",
       "\n",
       "    .dataframe thead th {\n",
       "        text-align: right;\n",
       "    }\n",
       "</style>\n",
       "<table border=\"1\" class=\"dataframe\">\n",
       "  <thead>\n",
       "    <tr style=\"text-align: right;\">\n",
       "      <th></th>\n",
       "      <th>区域</th>\n",
       "      <th>整体覆盖率</th>\n",
       "      <th>目标对公</th>\n",
       "      <th>对公</th>\n",
       "      <th>对公覆盖率</th>\n",
       "      <th>目标橘子</th>\n",
       "      <th>橘子</th>\n",
       "      <th>橘子覆盖率</th>\n",
       "      <th>已有队长</th>\n",
       "      <th>杰出队长</th>\n",
       "      <th>普通队长</th>\n",
       "      <th>预备役队长</th>\n",
       "    </tr>\n",
       "  </thead>\n",
       "  <tbody>\n",
       "    <tr>\n",
       "      <th>1</th>\n",
       "      <td>中西区域</td>\n",
       "      <td>0.952923</td>\n",
       "      <td>27276</td>\n",
       "      <td>26165</td>\n",
       "      <td>0.959268</td>\n",
       "      <td>45435</td>\n",
       "      <td>43123</td>\n",
       "      <td>0.949114</td>\n",
       "      <td>1454</td>\n",
       "      <td>225</td>\n",
       "      <td>1222</td>\n",
       "      <td>7</td>\n",
       "    </tr>\n",
       "    <tr>\n",
       "      <th>2</th>\n",
       "      <td>中南区域</td>\n",
       "      <td>0.974605</td>\n",
       "      <td>31529</td>\n",
       "      <td>30667</td>\n",
       "      <td>0.97266</td>\n",
       "      <td>67387</td>\n",
       "      <td>65737</td>\n",
       "      <td>0.975515</td>\n",
       "      <td>2084</td>\n",
       "      <td>255</td>\n",
       "      <td>1802</td>\n",
       "      <td>27</td>\n",
       "    </tr>\n",
       "  </tbody>\n",
       "</table>\n",
       "</div>"
      ],
      "text/plain": [
       "0    区域     整体覆盖率   目标对公     对公     对公覆盖率   目标橘子     橘子     橘子覆盖率  已有队长 杰出队长  \\\n",
       "1  中西区域  0.952923  27276  26165  0.959268  45435  43123  0.949114  1454  225   \n",
       "2  中南区域  0.974605  31529  30667   0.97266  67387  65737  0.975515  2084  255   \n",
       "\n",
       "0  普通队长 预备役队长  \n",
       "1  1222     7  \n",
       "2  1802    27  "
      ]
     },
     "execution_count": 86,
     "metadata": {},
     "output_type": "execute_result"
    }
   ],
   "source": [
    "fg.set_axis(fg.iloc[0],axis=1,inplace=True)  #将某一行设置为行索引\n",
    "fg = fg.drop(index=0) #drop掉第1行\n",
    "fg.rename(columns={'大区':'区域'},inplace=True)\n",
    "fg.head(2)"
   ]
  },
  {
   "cell_type": "markdown",
   "id": "5874f32f",
   "metadata": {},
   "source": [
    "#### ppt"
   ]
  },
  {
   "cell_type": "code",
   "execution_count": 87,
   "id": "947cef3c",
   "metadata": {
    "ExecuteTime": {
     "end_time": "2021-12-17T05:05:58.359026Z",
     "start_time": "2021-12-17T05:05:58.334093Z"
    }
   },
   "outputs": [
    {
     "data": {
      "text/html": [
       "<div>\n",
       "<style scoped>\n",
       "    .dataframe tbody tr th:only-of-type {\n",
       "        vertical-align: middle;\n",
       "    }\n",
       "\n",
       "    .dataframe tbody tr th {\n",
       "        vertical-align: top;\n",
       "    }\n",
       "\n",
       "    .dataframe thead th {\n",
       "        text-align: right;\n",
       "    }\n",
       "</style>\n",
       "<table border=\"1\" class=\"dataframe\">\n",
       "  <thead>\n",
       "    <tr style=\"text-align: right;\">\n",
       "      <th></th>\n",
       "      <th>区域</th>\n",
       "      <th>整体覆盖率</th>\n",
       "      <th>目标对公</th>\n",
       "      <th>对公</th>\n",
       "      <th>对公覆盖率</th>\n",
       "      <th>目标橘子</th>\n",
       "      <th>橘子</th>\n",
       "      <th>橘子覆盖率</th>\n",
       "      <th>已有队长</th>\n",
       "      <th>杰出队长</th>\n",
       "      <th>普通队长</th>\n",
       "      <th>预备役队长</th>\n",
       "    </tr>\n",
       "  </thead>\n",
       "  <tbody>\n",
       "    <tr>\n",
       "      <th>2</th>\n",
       "      <td>中南区域</td>\n",
       "      <td>0.974605</td>\n",
       "      <td>31529</td>\n",
       "      <td>30667</td>\n",
       "      <td>0.97266</td>\n",
       "      <td>67387</td>\n",
       "      <td>65737</td>\n",
       "      <td>0.975515</td>\n",
       "      <td>2084</td>\n",
       "      <td>255</td>\n",
       "      <td>1802</td>\n",
       "      <td>27</td>\n",
       "    </tr>\n",
       "    <tr>\n",
       "      <th>7</th>\n",
       "      <td>沪苏区域</td>\n",
       "      <td>0.96871</td>\n",
       "      <td>13559</td>\n",
       "      <td>12887</td>\n",
       "      <td>0.950439</td>\n",
       "      <td>36457</td>\n",
       "      <td>35564</td>\n",
       "      <td>0.975505</td>\n",
       "      <td>994</td>\n",
       "      <td>127</td>\n",
       "      <td>867</td>\n",
       "      <td>0</td>\n",
       "    </tr>\n",
       "    <tr>\n",
       "      <th>6</th>\n",
       "      <td>华北区域</td>\n",
       "      <td>0.968441</td>\n",
       "      <td>21794</td>\n",
       "      <td>20888</td>\n",
       "      <td>0.958429</td>\n",
       "      <td>98804</td>\n",
       "      <td>95904</td>\n",
       "      <td>0.970649</td>\n",
       "      <td>2569</td>\n",
       "      <td>28</td>\n",
       "      <td>2430</td>\n",
       "      <td>111</td>\n",
       "    </tr>\n",
       "    <tr>\n",
       "      <th>4</th>\n",
       "      <td>鲁津冀区域</td>\n",
       "      <td>0.965983</td>\n",
       "      <td>27006</td>\n",
       "      <td>25613</td>\n",
       "      <td>0.948419</td>\n",
       "      <td>71916</td>\n",
       "      <td>69944</td>\n",
       "      <td>0.972579</td>\n",
       "      <td>1846</td>\n",
       "      <td>262</td>\n",
       "      <td>1553</td>\n",
       "      <td>31</td>\n",
       "    </tr>\n",
       "    <tr>\n",
       "      <th>8</th>\n",
       "      <td>广东区域</td>\n",
       "      <td>0.953834</td>\n",
       "      <td>52256</td>\n",
       "      <td>48616</td>\n",
       "      <td>0.930343</td>\n",
       "      <td>159804</td>\n",
       "      <td>153654</td>\n",
       "      <td>0.961515</td>\n",
       "      <td>4104</td>\n",
       "      <td>312</td>\n",
       "      <td>3761</td>\n",
       "      <td>31</td>\n",
       "    </tr>\n",
       "    <tr>\n",
       "      <th>1</th>\n",
       "      <td>中西区域</td>\n",
       "      <td>0.952923</td>\n",
       "      <td>27276</td>\n",
       "      <td>26165</td>\n",
       "      <td>0.959268</td>\n",
       "      <td>45435</td>\n",
       "      <td>43123</td>\n",
       "      <td>0.949114</td>\n",
       "      <td>1454</td>\n",
       "      <td>225</td>\n",
       "      <td>1222</td>\n",
       "      <td>7</td>\n",
       "    </tr>\n",
       "    <tr>\n",
       "      <th>5</th>\n",
       "      <td>华东区域</td>\n",
       "      <td>0.943054</td>\n",
       "      <td>51501</td>\n",
       "      <td>47897</td>\n",
       "      <td>0.930021</td>\n",
       "      <td>121242</td>\n",
       "      <td>115009</td>\n",
       "      <td>0.94859</td>\n",
       "      <td>3317</td>\n",
       "      <td>0</td>\n",
       "      <td>3147</td>\n",
       "      <td>170</td>\n",
       "    </tr>\n",
       "    <tr>\n",
       "      <th>3</th>\n",
       "      <td>西南区域</td>\n",
       "      <td>0.901639</td>\n",
       "      <td>31610</td>\n",
       "      <td>25368</td>\n",
       "      <td>0.802531</td>\n",
       "      <td>114738</td>\n",
       "      <td>106585</td>\n",
       "      <td>0.928942</td>\n",
       "      <td>3048</td>\n",
       "      <td>391</td>\n",
       "      <td>2598</td>\n",
       "      <td>59</td>\n",
       "    </tr>\n",
       "    <tr>\n",
       "      <th>9</th>\n",
       "      <td>全国</td>\n",
       "      <td>0.94992</td>\n",
       "      <td>256531</td>\n",
       "      <td>238101</td>\n",
       "      <td>0.928157</td>\n",
       "      <td>715783</td>\n",
       "      <td>685520</td>\n",
       "      <td>0.95772</td>\n",
       "      <td>19416</td>\n",
       "      <td>1600</td>\n",
       "      <td>17380</td>\n",
       "      <td>436</td>\n",
       "    </tr>\n",
       "  </tbody>\n",
       "</table>\n",
       "</div>"
      ],
      "text/plain": [
       "0     区域     整体覆盖率    目标对公      对公     对公覆盖率    目标橘子      橘子     橘子覆盖率   已有队长  \\\n",
       "2   中南区域  0.974605   31529   30667   0.97266   67387   65737  0.975515   2084   \n",
       "7   沪苏区域   0.96871   13559   12887  0.950439   36457   35564  0.975505    994   \n",
       "6   华北区域  0.968441   21794   20888  0.958429   98804   95904  0.970649   2569   \n",
       "4  鲁津冀区域  0.965983   27006   25613  0.948419   71916   69944  0.972579   1846   \n",
       "8   广东区域  0.953834   52256   48616  0.930343  159804  153654  0.961515   4104   \n",
       "1   中西区域  0.952923   27276   26165  0.959268   45435   43123  0.949114   1454   \n",
       "5   华东区域  0.943054   51501   47897  0.930021  121242  115009   0.94859   3317   \n",
       "3   西南区域  0.901639   31610   25368  0.802531  114738  106585  0.928942   3048   \n",
       "9     全国   0.94992  256531  238101  0.928157  715783  685520   0.95772  19416   \n",
       "\n",
       "0  杰出队长   普通队长 预备役队长  \n",
       "2   255   1802    27  \n",
       "7   127    867     0  \n",
       "6    28   2430   111  \n",
       "4   262   1553    31  \n",
       "8   312   3761    31  \n",
       "1   225   1222     7  \n",
       "5     0   3147   170  \n",
       "3   391   2598    59  \n",
       "9  1600  17380   436  "
      ]
     },
     "execution_count": 87,
     "metadata": {},
     "output_type": "execute_result"
    }
   ],
   "source": [
    "fg_ppt = fg.iloc[:-1,:].sort_values(by=['整体覆盖率'],ascending=False).append(fg.iloc[-1])   #除最后一行外，其余行降序排列\n",
    "fg_ppt"
   ]
  },
  {
   "cell_type": "code",
   "execution_count": 88,
   "id": "ec738dee",
   "metadata": {
    "ExecuteTime": {
     "end_time": "2021-12-17T05:05:58.408897Z",
     "start_time": "2021-12-17T05:05:58.361020Z"
    }
   },
   "outputs": [],
   "source": [
    "# 写入excel\n",
    "\n",
    "wbpp = load_workbook('周报_ppt.xlsx')   # excel中设置模板格式\n",
    "wspp = wbpp['ppt']\n",
    "\n",
    "wspp.append([])\n",
    "wspp.append(['{0}1-队长覆盖率{0}'.format('*'*20)])\n",
    "wspp.append([])\n",
    "for r in dataframe_to_rows(fg_ppt, index=False, header=True):\n",
    "    wspp.append(r)\n",
    "    \n",
    "wbpp.save('周报_ppt.xlsx')  "
   ]
  },
  {
   "cell_type": "markdown",
   "id": "fcbc1ca7",
   "metadata": {},
   "source": [
    "#### 周报cooper"
   ]
  },
  {
   "cell_type": "code",
   "execution_count": 89,
   "id": "9c0d2bd5",
   "metadata": {
    "ExecuteTime": {
     "end_time": "2021-12-17T05:05:58.417869Z",
     "start_time": "2021-12-17T05:05:58.411886Z"
    }
   },
   "outputs": [
    {
     "data": {
      "text/plain": [
       "Index(['区域', '整体覆盖率', '目标对公', '对公', '对公覆盖率', '目标橘子', '橘子', '橘子覆盖率', '已有队长',\n",
       "       '杰出队长', '普通队长', '预备役队长'],\n",
       "      dtype='object', name=0)"
      ]
     },
     "execution_count": 89,
     "metadata": {},
     "output_type": "execute_result"
    }
   ],
   "source": [
    "fg.columns"
   ]
  },
  {
   "cell_type": "code",
   "execution_count": 90,
   "id": "e4a71816",
   "metadata": {
    "ExecuteTime": {
     "end_time": "2021-12-17T05:05:58.445795Z",
     "start_time": "2021-12-17T05:05:58.419863Z"
    }
   },
   "outputs": [
    {
     "data": {
      "text/html": [
       "<div>\n",
       "<style scoped>\n",
       "    .dataframe tbody tr th:only-of-type {\n",
       "        vertical-align: middle;\n",
       "    }\n",
       "\n",
       "    .dataframe tbody tr th {\n",
       "        vertical-align: top;\n",
       "    }\n",
       "\n",
       "    .dataframe thead th {\n",
       "        text-align: right;\n",
       "    }\n",
       "</style>\n",
       "<table border=\"1\" class=\"dataframe\">\n",
       "  <thead>\n",
       "    <tr style=\"text-align: right;\">\n",
       "      <th></th>\n",
       "      <th>区域</th>\n",
       "      <th>整体覆盖率</th>\n",
       "      <th>对公覆盖率</th>\n",
       "      <th>橘子覆盖率</th>\n",
       "      <th>已有队长</th>\n",
       "      <th>杰出队长</th>\n",
       "      <th>预备役队长</th>\n",
       "    </tr>\n",
       "  </thead>\n",
       "  <tbody>\n",
       "    <tr>\n",
       "      <th>2</th>\n",
       "      <td>中南区域</td>\n",
       "      <td>97.46%</td>\n",
       "      <td>97.27%</td>\n",
       "      <td>97.55%</td>\n",
       "      <td>2084</td>\n",
       "      <td>255</td>\n",
       "      <td>27</td>\n",
       "    </tr>\n",
       "    <tr>\n",
       "      <th>7</th>\n",
       "      <td>沪苏区域</td>\n",
       "      <td>96.87%</td>\n",
       "      <td>95.04%</td>\n",
       "      <td>97.55%</td>\n",
       "      <td>994</td>\n",
       "      <td>127</td>\n",
       "      <td>0</td>\n",
       "    </tr>\n",
       "    <tr>\n",
       "      <th>6</th>\n",
       "      <td>华北区域</td>\n",
       "      <td>96.84%</td>\n",
       "      <td>95.84%</td>\n",
       "      <td>97.06%</td>\n",
       "      <td>2569</td>\n",
       "      <td>28</td>\n",
       "      <td>111</td>\n",
       "    </tr>\n",
       "    <tr>\n",
       "      <th>4</th>\n",
       "      <td>鲁津冀区域</td>\n",
       "      <td>96.60%</td>\n",
       "      <td>94.84%</td>\n",
       "      <td>97.26%</td>\n",
       "      <td>1846</td>\n",
       "      <td>262</td>\n",
       "      <td>31</td>\n",
       "    </tr>\n",
       "    <tr>\n",
       "      <th>8</th>\n",
       "      <td>广东区域</td>\n",
       "      <td>95.38%</td>\n",
       "      <td>93.03%</td>\n",
       "      <td>96.15%</td>\n",
       "      <td>4104</td>\n",
       "      <td>312</td>\n",
       "      <td>31</td>\n",
       "    </tr>\n",
       "    <tr>\n",
       "      <th>1</th>\n",
       "      <td>中西区域</td>\n",
       "      <td>95.29%</td>\n",
       "      <td>95.93%</td>\n",
       "      <td>94.91%</td>\n",
       "      <td>1454</td>\n",
       "      <td>225</td>\n",
       "      <td>7</td>\n",
       "    </tr>\n",
       "    <tr>\n",
       "      <th>5</th>\n",
       "      <td>华东区域</td>\n",
       "      <td>94.31%</td>\n",
       "      <td>93.00%</td>\n",
       "      <td>94.86%</td>\n",
       "      <td>3317</td>\n",
       "      <td>0</td>\n",
       "      <td>170</td>\n",
       "    </tr>\n",
       "    <tr>\n",
       "      <th>3</th>\n",
       "      <td>西南区域</td>\n",
       "      <td>90.16%</td>\n",
       "      <td>80.25%</td>\n",
       "      <td>92.89%</td>\n",
       "      <td>3048</td>\n",
       "      <td>391</td>\n",
       "      <td>59</td>\n",
       "    </tr>\n",
       "    <tr>\n",
       "      <th>9</th>\n",
       "      <td>全国</td>\n",
       "      <td>94.99%</td>\n",
       "      <td>92.82%</td>\n",
       "      <td>95.77%</td>\n",
       "      <td>19416</td>\n",
       "      <td>1600</td>\n",
       "      <td>436</td>\n",
       "    </tr>\n",
       "  </tbody>\n",
       "</table>\n",
       "</div>"
      ],
      "text/plain": [
       "0     区域   整体覆盖率   对公覆盖率   橘子覆盖率   已有队长  杰出队长 预备役队长\n",
       "2   中南区域  97.46%  97.27%  97.55%   2084   255    27\n",
       "7   沪苏区域  96.87%  95.04%  97.55%    994   127     0\n",
       "6   华北区域  96.84%  95.84%  97.06%   2569    28   111\n",
       "4  鲁津冀区域  96.60%  94.84%  97.26%   1846   262    31\n",
       "8   广东区域  95.38%  93.03%  96.15%   4104   312    31\n",
       "1   中西区域  95.29%  95.93%  94.91%   1454   225     7\n",
       "5   华东区域  94.31%  93.00%  94.86%   3317     0   170\n",
       "3   西南区域  90.16%  80.25%  92.89%   3048   391    59\n",
       "9     全国  94.99%  92.82%  95.77%  19416  1600   436"
      ]
     },
     "execution_count": 90,
     "metadata": {},
     "output_type": "execute_result"
    }
   ],
   "source": [
    "fg_zb = fg[[ '区域', '整体覆盖率', '对公覆盖率','橘子覆盖率','已有队长',  '杰出队长', '预备役队长']]\n",
    "fg_zb = fg_zb.iloc[:-1,:].sort_values(by=['整体覆盖率'],ascending=False).append(fg_zb.iloc[-1])   #除最后一行外，其余行降序排列\n",
    "#fg_zb[['整体覆盖率', '对公覆盖率','橘子覆盖率']]= fg_zb[['整体覆盖率', '对公覆盖率','橘子覆盖率']].map(lambda x:format(x,'.2%'))  # 设置数据格式\n",
    "fg_zb['整体覆盖率'] = fg_zb['整体覆盖率'].apply(lambda x:format(x,'.2%'))\n",
    "fg_zb['对公覆盖率'] = fg_zb['对公覆盖率'].apply(lambda x:format(x,'.2%'))\n",
    "fg_zb['橘子覆盖率'] = fg_zb['橘子覆盖率'].apply(lambda x:format(x,'.2%'))\n",
    "fg_zb"
   ]
  },
  {
   "cell_type": "code",
   "execution_count": 91,
   "id": "4ca17f65",
   "metadata": {
    "ExecuteTime": {
     "end_time": "2021-12-17T05:05:58.499650Z",
     "start_time": "2021-12-17T05:05:58.447789Z"
    }
   },
   "outputs": [],
   "source": [
    "# 写入excel\n",
    "\n",
    "wbzb = load_workbook('周报_ppt.xlsx')   # excel中设置模板格式\n",
    "wszb = wbzb['周报']\n",
    "\n",
    "wszb.append([])\n",
    "wszb.append(['{0}队长覆盖率{0}'.format('*'*20)])\n",
    "\n",
    "wszb.append([])\n",
    "for r in dataframe_to_rows(fg_zb, index=False, header=True):\n",
    "    wszb.append(r)\n",
    "    \n",
    "wbzb.save('周报_ppt.xlsx')  "
   ]
  },
  {
   "cell_type": "markdown",
   "id": "e4de036f",
   "metadata": {},
   "source": [
    "#### 邮件"
   ]
  },
  {
   "cell_type": "code",
   "execution_count": 92,
   "id": "31595731",
   "metadata": {
    "ExecuteTime": {
     "end_time": "2021-12-17T05:05:58.512616Z",
     "start_time": "2021-12-17T05:05:58.501645Z"
    }
   },
   "outputs": [
    {
     "data": {
      "text/html": [
       "<div>\n",
       "<style scoped>\n",
       "    .dataframe tbody tr th:only-of-type {\n",
       "        vertical-align: middle;\n",
       "    }\n",
       "\n",
       "    .dataframe tbody tr th {\n",
       "        vertical-align: top;\n",
       "    }\n",
       "\n",
       "    .dataframe thead th {\n",
       "        text-align: right;\n",
       "    }\n",
       "</style>\n",
       "<table border=\"1\" class=\"dataframe\">\n",
       "  <thead>\n",
       "    <tr style=\"text-align: right;\">\n",
       "      <th></th>\n",
       "      <th>区域</th>\n",
       "      <th>整体覆盖率</th>\n",
       "      <th>对公覆盖率</th>\n",
       "      <th>橘子覆盖率</th>\n",
       "    </tr>\n",
       "  </thead>\n",
       "  <tbody>\n",
       "    <tr>\n",
       "      <th>1</th>\n",
       "      <td>中西区域</td>\n",
       "      <td>0.952923</td>\n",
       "      <td>0.959268</td>\n",
       "      <td>0.949114</td>\n",
       "    </tr>\n",
       "    <tr>\n",
       "      <th>2</th>\n",
       "      <td>中南区域</td>\n",
       "      <td>0.974605</td>\n",
       "      <td>0.97266</td>\n",
       "      <td>0.975515</td>\n",
       "    </tr>\n",
       "    <tr>\n",
       "      <th>3</th>\n",
       "      <td>西南区域</td>\n",
       "      <td>0.901639</td>\n",
       "      <td>0.802531</td>\n",
       "      <td>0.928942</td>\n",
       "    </tr>\n",
       "    <tr>\n",
       "      <th>4</th>\n",
       "      <td>鲁津冀区域</td>\n",
       "      <td>0.965983</td>\n",
       "      <td>0.948419</td>\n",
       "      <td>0.972579</td>\n",
       "    </tr>\n",
       "    <tr>\n",
       "      <th>5</th>\n",
       "      <td>华东区域</td>\n",
       "      <td>0.943054</td>\n",
       "      <td>0.930021</td>\n",
       "      <td>0.94859</td>\n",
       "    </tr>\n",
       "    <tr>\n",
       "      <th>6</th>\n",
       "      <td>华北区域</td>\n",
       "      <td>0.968441</td>\n",
       "      <td>0.958429</td>\n",
       "      <td>0.970649</td>\n",
       "    </tr>\n",
       "    <tr>\n",
       "      <th>7</th>\n",
       "      <td>沪苏区域</td>\n",
       "      <td>0.96871</td>\n",
       "      <td>0.950439</td>\n",
       "      <td>0.975505</td>\n",
       "    </tr>\n",
       "    <tr>\n",
       "      <th>8</th>\n",
       "      <td>广东区域</td>\n",
       "      <td>0.953834</td>\n",
       "      <td>0.930343</td>\n",
       "      <td>0.961515</td>\n",
       "    </tr>\n",
       "    <tr>\n",
       "      <th>9</th>\n",
       "      <td>全国</td>\n",
       "      <td>0.94992</td>\n",
       "      <td>0.928157</td>\n",
       "      <td>0.95772</td>\n",
       "    </tr>\n",
       "  </tbody>\n",
       "</table>\n",
       "</div>"
      ],
      "text/plain": [
       "0     区域     整体覆盖率     对公覆盖率     橘子覆盖率\n",
       "1   中西区域  0.952923  0.959268  0.949114\n",
       "2   中南区域  0.974605   0.97266  0.975515\n",
       "3   西南区域  0.901639  0.802531  0.928942\n",
       "4  鲁津冀区域  0.965983  0.948419  0.972579\n",
       "5   华东区域  0.943054  0.930021   0.94859\n",
       "6   华北区域  0.968441  0.958429  0.970649\n",
       "7   沪苏区域   0.96871  0.950439  0.975505\n",
       "8   广东区域  0.953834  0.930343  0.961515\n",
       "9     全国   0.94992  0.928157   0.95772"
      ]
     },
     "execution_count": 92,
     "metadata": {},
     "output_type": "execute_result"
    }
   ],
   "source": [
    "fg_target = fg[['区域','整体覆盖率','对公覆盖率','橘子覆盖率']]\n",
    "fg_target"
   ]
  },
  {
   "cell_type": "code",
   "execution_count": 93,
   "id": "6d7df085",
   "metadata": {
    "ExecuteTime": {
     "end_time": "2021-12-17T05:05:58.534558Z",
     "start_time": "2021-12-17T05:05:58.514610Z"
    }
   },
   "outputs": [
    {
     "data": {
      "text/html": [
       "<div>\n",
       "<style scoped>\n",
       "    .dataframe tbody tr th:only-of-type {\n",
       "        vertical-align: middle;\n",
       "    }\n",
       "\n",
       "    .dataframe tbody tr th {\n",
       "        vertical-align: top;\n",
       "    }\n",
       "\n",
       "    .dataframe thead th {\n",
       "        text-align: right;\n",
       "    }\n",
       "</style>\n",
       "<table border=\"1\" class=\"dataframe\">\n",
       "  <thead>\n",
       "    <tr style=\"text-align: right;\">\n",
       "      <th></th>\n",
       "      <th>区域</th>\n",
       "      <th>整体覆盖率</th>\n",
       "      <th>对公覆盖率</th>\n",
       "      <th>橘子覆盖率</th>\n",
       "      <th>队长月会到达率</th>\n",
       "      <th>当日目标值(18日)</th>\n",
       "      <th>目标达成率</th>\n",
       "      <th>任务完成率</th>\n",
       "    </tr>\n",
       "  </thead>\n",
       "  <tbody>\n",
       "    <tr>\n",
       "      <th>0</th>\n",
       "      <td>中西区域</td>\n",
       "      <td>0.952923</td>\n",
       "      <td>0.959268</td>\n",
       "      <td>0.949114</td>\n",
       "      <td>0.639344</td>\n",
       "      <td>58%</td>\n",
       "      <td>0.685176</td>\n",
       "      <td>0.921334</td>\n",
       "    </tr>\n",
       "    <tr>\n",
       "      <th>1</th>\n",
       "      <td>中南区域</td>\n",
       "      <td>0.974605</td>\n",
       "      <td>0.97266</td>\n",
       "      <td>0.975515</td>\n",
       "      <td>0.653920</td>\n",
       "      <td>58%</td>\n",
       "      <td>0.563708</td>\n",
       "      <td>0.959108</td>\n",
       "    </tr>\n",
       "    <tr>\n",
       "      <th>2</th>\n",
       "      <td>西南区域</td>\n",
       "      <td>0.901639</td>\n",
       "      <td>0.802531</td>\n",
       "      <td>0.928942</td>\n",
       "      <td>0.279472</td>\n",
       "      <td>58%</td>\n",
       "      <td>0.701754</td>\n",
       "      <td>0.897878</td>\n",
       "    </tr>\n",
       "    <tr>\n",
       "      <th>3</th>\n",
       "      <td>鲁津冀区域</td>\n",
       "      <td>0.965983</td>\n",
       "      <td>0.948419</td>\n",
       "      <td>0.972579</td>\n",
       "      <td>0.266423</td>\n",
       "      <td>58%</td>\n",
       "      <td>0.569463</td>\n",
       "      <td>0.971459</td>\n",
       "    </tr>\n",
       "    <tr>\n",
       "      <th>4</th>\n",
       "      <td>华东区域</td>\n",
       "      <td>0.943054</td>\n",
       "      <td>0.930021</td>\n",
       "      <td>0.94859</td>\n",
       "      <td>0.614035</td>\n",
       "      <td>58%</td>\n",
       "      <td>0.421194</td>\n",
       "      <td>0.963050</td>\n",
       "    </tr>\n",
       "    <tr>\n",
       "      <th>5</th>\n",
       "      <td>华北区域</td>\n",
       "      <td>0.968441</td>\n",
       "      <td>0.958429</td>\n",
       "      <td>0.970649</td>\n",
       "      <td>0.606122</td>\n",
       "      <td>58%</td>\n",
       "      <td>0.624967</td>\n",
       "      <td>0.975704</td>\n",
       "    </tr>\n",
       "    <tr>\n",
       "      <th>6</th>\n",
       "      <td>沪苏区域</td>\n",
       "      <td>0.96871</td>\n",
       "      <td>0.950439</td>\n",
       "      <td>0.975505</td>\n",
       "      <td>0.819095</td>\n",
       "      <td>58%</td>\n",
       "      <td>0.565186</td>\n",
       "      <td>0.925308</td>\n",
       "    </tr>\n",
       "    <tr>\n",
       "      <th>7</th>\n",
       "      <td>广东区域</td>\n",
       "      <td>0.953834</td>\n",
       "      <td>0.930343</td>\n",
       "      <td>0.961515</td>\n",
       "      <td>0.413902</td>\n",
       "      <td>58%</td>\n",
       "      <td>0.663942</td>\n",
       "      <td>0.920603</td>\n",
       "    </tr>\n",
       "    <tr>\n",
       "      <th>8</th>\n",
       "      <td>全国</td>\n",
       "      <td>0.94992</td>\n",
       "      <td>0.928157</td>\n",
       "      <td>0.95772</td>\n",
       "      <td>0.502662</td>\n",
       "      <td>58%</td>\n",
       "      <td>0.579779</td>\n",
       "      <td>0.944952</td>\n",
       "    </tr>\n",
       "  </tbody>\n",
       "</table>\n",
       "</div>"
      ],
      "text/plain": [
       "      区域     整体覆盖率     对公覆盖率     橘子覆盖率   队长月会到达率 当日目标值(18日)     目标达成率  \\\n",
       "0   中西区域  0.952923  0.959268  0.949114  0.639344        58%  0.685176   \n",
       "1   中南区域  0.974605   0.97266  0.975515  0.653920        58%  0.563708   \n",
       "2   西南区域  0.901639  0.802531  0.928942  0.279472        58%  0.701754   \n",
       "3  鲁津冀区域  0.965983  0.948419  0.972579  0.266423        58%  0.569463   \n",
       "4   华东区域  0.943054  0.930021   0.94859  0.614035        58%  0.421194   \n",
       "5   华北区域  0.968441  0.958429  0.970649  0.606122        58%  0.624967   \n",
       "6   沪苏区域   0.96871  0.950439  0.975505  0.819095        58%  0.565186   \n",
       "7   广东区域  0.953834  0.930343  0.961515  0.413902        58%  0.663942   \n",
       "8     全国   0.94992  0.928157   0.95772  0.502662        58%  0.579779   \n",
       "\n",
       "      任务完成率  \n",
       "0  0.921334  \n",
       "1  0.959108  \n",
       "2  0.897878  \n",
       "3  0.971459  \n",
       "4  0.963050  \n",
       "5  0.975704  \n",
       "6  0.925308  \n",
       "7  0.920603  \n",
       "8  0.944952  "
      ]
     },
     "execution_count": 93,
     "metadata": {},
     "output_type": "execute_result"
    }
   ],
   "source": [
    "dfm1 = pd.merge(fg_target,dfm11)\n",
    "dfm1"
   ]
  },
  {
   "cell_type": "code",
   "execution_count": 94,
   "id": "de168930",
   "metadata": {
    "ExecuteTime": {
     "end_time": "2021-12-17T05:05:58.645260Z",
     "start_time": "2021-12-17T05:05:58.536553Z"
    },
    "scrolled": false
   },
   "outputs": [
    {
     "name": "stderr",
     "output_type": "stream",
     "text": [
      "C:\\Users\\shenyajun_i\\Anaconda3\\lib\\site-packages\\openpyxl\\worksheet\\_reader.py:312: UserWarning: Unknown extension is not supported and will be removed\n",
      "  warn(msg)\n",
      "C:\\Users\\shenyajun_i\\Anaconda3\\lib\\site-packages\\openpyxl\\worksheet\\_reader.py:312: UserWarning: Conditional Formatting extension is not supported and will be removed\n",
      "  warn(msg)\n"
     ]
    }
   ],
   "source": [
    "# 写入excel\n",
    "data = dfm1.values.tolist()   \n",
    "\n",
    "wbmm = load_workbook('周报邮件版.xlsx') \n",
    "wsmm = wbmm['小队体系-邮件']\n",
    "\n",
    "# 写入data\n",
    "# write_r_c(index,column,ws,lt)\n",
    "def write_r_c(index,column,ws,lt):\n",
    "    for i in range(len(lt)):\n",
    "        ws.cell(index,column+i).value = lt[i]\n",
    "            #选择填入某行的单元格\n",
    "            \n",
    "for i in range(len(data)):\n",
    "    write_r_c(5+i,1,wsmm,data[i])  #从C4开始写\n",
    "    \n",
    "wbmm.save('周报邮件版.xlsx')        "
   ]
  },
  {
   "cell_type": "markdown",
   "id": "08ac3a6d",
   "metadata": {},
   "source": [
    "### 队长准出"
   ]
  },
  {
   "cell_type": "code",
   "execution_count": 95,
   "id": "cd8a6eea",
   "metadata": {
    "ExecuteTime": {
     "end_time": "2021-12-17T05:05:58.667201Z",
     "start_time": "2021-12-17T05:05:58.646258Z"
    }
   },
   "outputs": [
    {
     "data": {
      "text/html": [
       "<div>\n",
       "<style scoped>\n",
       "    .dataframe tbody tr th:only-of-type {\n",
       "        vertical-align: middle;\n",
       "    }\n",
       "\n",
       "    .dataframe tbody tr th {\n",
       "        vertical-align: top;\n",
       "    }\n",
       "\n",
       "    .dataframe thead th {\n",
       "        text-align: right;\n",
       "    }\n",
       "</style>\n",
       "<table border=\"1\" class=\"dataframe\">\n",
       "  <thead>\n",
       "    <tr style=\"text-align: right;\">\n",
       "      <th></th>\n",
       "      <th>0</th>\n",
       "      <th>1</th>\n",
       "      <th>2</th>\n",
       "      <th>3</th>\n",
       "      <th>4</th>\n",
       "      <th>5</th>\n",
       "      <th>6</th>\n",
       "      <th>7</th>\n",
       "      <th>8</th>\n",
       "      <th>9</th>\n",
       "      <th>10</th>\n",
       "      <th>11</th>\n",
       "      <th>12</th>\n",
       "      <th>13</th>\n",
       "      <th>14</th>\n",
       "      <th>15</th>\n",
       "      <th>16</th>\n",
       "      <th>17</th>\n",
       "      <th>18</th>\n",
       "    </tr>\n",
       "  </thead>\n",
       "  <tbody>\n",
       "    <tr>\n",
       "      <th>0</th>\n",
       "      <td>区域</td>\n",
       "      <td>红线封禁\\n需准出</td>\n",
       "      <td>质量不合格需准出</td>\n",
       "      <td>None</td>\n",
       "      <td>None</td>\n",
       "      <td>None</td>\n",
       "      <td>质量不合格已准出</td>\n",
       "      <td>None</td>\n",
       "      <td>None</td>\n",
       "      <td>不合格</td>\n",
       "      <td>观察期</td>\n",
       "      <td>观察期</td>\n",
       "      <td>剔除观察期\\n</td>\n",
       "      <td>强准出</td>\n",
       "      <td>强准出</td>\n",
       "      <td>强准出</td>\n",
       "      <td>非磐石目标准出</td>\n",
       "      <td>非目标</td>\n",
       "      <td>非目标\\n准出进度</td>\n",
       "    </tr>\n",
       "    <tr>\n",
       "      <th>1</th>\n",
       "      <td>None</td>\n",
       "      <td>None</td>\n",
       "      <td>快车</td>\n",
       "      <td>优享</td>\n",
       "      <td>总计</td>\n",
       "      <td>总计（新）</td>\n",
       "      <td>快车</td>\n",
       "      <td>优享</td>\n",
       "      <td>总计</td>\n",
       "      <td>准出进度</td>\n",
       "      <td>总计</td>\n",
       "      <td>已准出</td>\n",
       "      <td>准出进度\\n</td>\n",
       "      <td>总计</td>\n",
       "      <td>已准出</td>\n",
       "      <td>准出进度</td>\n",
       "      <td>None</td>\n",
       "      <td>已准出</td>\n",
       "      <td>准出进度</td>\n",
       "    </tr>\n",
       "    <tr>\n",
       "      <th>2</th>\n",
       "      <td>中西区域</td>\n",
       "      <td>0</td>\n",
       "      <td>87</td>\n",
       "      <td>2</td>\n",
       "      <td>89</td>\n",
       "      <td>128</td>\n",
       "      <td>1</td>\n",
       "      <td>0</td>\n",
       "      <td>1</td>\n",
       "      <td>0.011236</td>\n",
       "      <td>58</td>\n",
       "      <td>0</td>\n",
       "      <td>0.032258</td>\n",
       "      <td>18</td>\n",
       "      <td>0</td>\n",
       "      <td>0</td>\n",
       "      <td>5</td>\n",
       "      <td>0</td>\n",
       "      <td>0</td>\n",
       "    </tr>\n",
       "    <tr>\n",
       "      <th>3</th>\n",
       "      <td>中南区域</td>\n",
       "      <td>0</td>\n",
       "      <td>37</td>\n",
       "      <td>1</td>\n",
       "      <td>38</td>\n",
       "      <td>80</td>\n",
       "      <td>4</td>\n",
       "      <td>0</td>\n",
       "      <td>4</td>\n",
       "      <td>0.105263</td>\n",
       "      <td>35</td>\n",
       "      <td>1</td>\n",
       "      <td>1</td>\n",
       "      <td>10</td>\n",
       "      <td>1</td>\n",
       "      <td>0.1</td>\n",
       "      <td>5</td>\n",
       "      <td>0</td>\n",
       "      <td>0</td>\n",
       "    </tr>\n",
       "    <tr>\n",
       "      <th>4</th>\n",
       "      <td>西南区域</td>\n",
       "      <td>0</td>\n",
       "      <td>83</td>\n",
       "      <td>12</td>\n",
       "      <td>95</td>\n",
       "      <td>262</td>\n",
       "      <td>10</td>\n",
       "      <td>0</td>\n",
       "      <td>10</td>\n",
       "      <td>0.105263</td>\n",
       "      <td>74</td>\n",
       "      <td>1</td>\n",
       "      <td>0.428571</td>\n",
       "      <td>0</td>\n",
       "      <td>0</td>\n",
       "      <td>——</td>\n",
       "      <td>3</td>\n",
       "      <td>0</td>\n",
       "      <td>0</td>\n",
       "    </tr>\n",
       "    <tr>\n",
       "      <th>5</th>\n",
       "      <td>鲁津冀区域</td>\n",
       "      <td>0</td>\n",
       "      <td>46</td>\n",
       "      <td>2</td>\n",
       "      <td>48</td>\n",
       "      <td>89</td>\n",
       "      <td>2</td>\n",
       "      <td>0</td>\n",
       "      <td>2</td>\n",
       "      <td>0.041667</td>\n",
       "      <td>30</td>\n",
       "      <td>0</td>\n",
       "      <td>0.111111</td>\n",
       "      <td>0</td>\n",
       "      <td>0</td>\n",
       "      <td>——</td>\n",
       "      <td>8</td>\n",
       "      <td>0</td>\n",
       "      <td>0</td>\n",
       "    </tr>\n",
       "    <tr>\n",
       "      <th>6</th>\n",
       "      <td>华东区域</td>\n",
       "      <td>1</td>\n",
       "      <td>104</td>\n",
       "      <td>0</td>\n",
       "      <td>104</td>\n",
       "      <td>250</td>\n",
       "      <td>16</td>\n",
       "      <td>0</td>\n",
       "      <td>16</td>\n",
       "      <td>0.153846</td>\n",
       "      <td>80</td>\n",
       "      <td>9</td>\n",
       "      <td>0.291667</td>\n",
       "      <td>0</td>\n",
       "      <td>0</td>\n",
       "      <td>——</td>\n",
       "      <td>9</td>\n",
       "      <td>0</td>\n",
       "      <td>0</td>\n",
       "    </tr>\n",
       "    <tr>\n",
       "      <th>7</th>\n",
       "      <td>华北区域</td>\n",
       "      <td>0</td>\n",
       "      <td>104</td>\n",
       "      <td>2</td>\n",
       "      <td>106</td>\n",
       "      <td>186</td>\n",
       "      <td>3</td>\n",
       "      <td>0</td>\n",
       "      <td>3</td>\n",
       "      <td>0.028302</td>\n",
       "      <td>0</td>\n",
       "      <td>0</td>\n",
       "      <td>0.028302</td>\n",
       "      <td>0</td>\n",
       "      <td>0</td>\n",
       "      <td>——</td>\n",
       "      <td>2</td>\n",
       "      <td>0</td>\n",
       "      <td>0</td>\n",
       "    </tr>\n",
       "    <tr>\n",
       "      <th>8</th>\n",
       "      <td>沪苏区域</td>\n",
       "      <td>0</td>\n",
       "      <td>31</td>\n",
       "      <td>1</td>\n",
       "      <td>32</td>\n",
       "      <td>64</td>\n",
       "      <td>1</td>\n",
       "      <td>0</td>\n",
       "      <td>1</td>\n",
       "      <td>0.03125</td>\n",
       "      <td>32</td>\n",
       "      <td>1</td>\n",
       "      <td>——</td>\n",
       "      <td>0</td>\n",
       "      <td>0</td>\n",
       "      <td>——</td>\n",
       "      <td>1</td>\n",
       "      <td>0</td>\n",
       "      <td>0</td>\n",
       "    </tr>\n",
       "    <tr>\n",
       "      <th>9</th>\n",
       "      <td>广东区域</td>\n",
       "      <td>0</td>\n",
       "      <td>102</td>\n",
       "      <td>3</td>\n",
       "      <td>105</td>\n",
       "      <td>194</td>\n",
       "      <td>7</td>\n",
       "      <td>0</td>\n",
       "      <td>7</td>\n",
       "      <td>0.066667</td>\n",
       "      <td>61</td>\n",
       "      <td>2</td>\n",
       "      <td>0.113636</td>\n",
       "      <td>36</td>\n",
       "      <td>4</td>\n",
       "      <td>0.111111</td>\n",
       "      <td>5</td>\n",
       "      <td>0</td>\n",
       "      <td>0</td>\n",
       "    </tr>\n",
       "    <tr>\n",
       "      <th>10</th>\n",
       "      <td>全国</td>\n",
       "      <td>1</td>\n",
       "      <td>594</td>\n",
       "      <td>23</td>\n",
       "      <td>617</td>\n",
       "      <td>1253</td>\n",
       "      <td>44</td>\n",
       "      <td>0</td>\n",
       "      <td>44</td>\n",
       "      <td>0.071313</td>\n",
       "      <td>370</td>\n",
       "      <td>14</td>\n",
       "      <td>0.121457</td>\n",
       "      <td>64</td>\n",
       "      <td>5</td>\n",
       "      <td>0.078125</td>\n",
       "      <td>38</td>\n",
       "      <td>0</td>\n",
       "      <td>0</td>\n",
       "    </tr>\n",
       "  </tbody>\n",
       "</table>\n",
       "</div>"
      ],
      "text/plain": [
       "       0          1         2     3     4      5         6     7     8   \\\n",
       "0      区域  红线封禁\\n需准出  质量不合格需准出  None  None   None  质量不合格已准出  None  None   \n",
       "1    None       None        快车    优享    总计  总计（新）        快车    优享    总计   \n",
       "2    中西区域          0        87     2    89    128         1     0     1   \n",
       "3    中南区域          0        37     1    38     80         4     0     4   \n",
       "4    西南区域          0        83    12    95    262        10     0    10   \n",
       "5   鲁津冀区域          0        46     2    48     89         2     0     2   \n",
       "6    华东区域          1       104     0   104    250        16     0    16   \n",
       "7    华北区域          0       104     2   106    186         3     0     3   \n",
       "8    沪苏区域          0        31     1    32     64         1     0     1   \n",
       "9    广东区域          0       102     3   105    194         7     0     7   \n",
       "10     全国          1       594    23   617   1253        44     0    44   \n",
       "\n",
       "          9    10   11        12   13   14        15       16   17         18  \n",
       "0        不合格  观察期  观察期   剔除观察期\\n  强准出  强准出       强准出  非磐石目标准出  非目标  非目标\\n准出进度  \n",
       "1       准出进度   总计  已准出    准出进度\\n   总计  已准出      准出进度     None  已准出       准出进度  \n",
       "2   0.011236   58    0  0.032258   18    0         0        5    0          0  \n",
       "3   0.105263   35    1         1   10    1       0.1        5    0          0  \n",
       "4   0.105263   74    1  0.428571    0    0        ——        3    0          0  \n",
       "5   0.041667   30    0  0.111111    0    0        ——        8    0          0  \n",
       "6   0.153846   80    9  0.291667    0    0        ——        9    0          0  \n",
       "7   0.028302    0    0  0.028302    0    0        ——        2    0          0  \n",
       "8    0.03125   32    1        ——    0    0        ——        1    0          0  \n",
       "9   0.066667   61    2  0.113636   36    4  0.111111        5    0          0  \n",
       "10  0.071313  370   14  0.121457   64    5  0.078125       38    0          0  "
      ]
     },
     "execution_count": 95,
     "metadata": {},
     "output_type": "execute_result"
    }
   ],
   "source": [
    "zc = pd.DataFrame(wsm2.values)\n",
    "zc"
   ]
  },
  {
   "cell_type": "code",
   "execution_count": 96,
   "id": "0dfc6c43",
   "metadata": {
    "ExecuteTime": {
     "end_time": "2021-12-17T05:05:58.673185Z",
     "start_time": "2021-12-17T05:05:58.669196Z"
    }
   },
   "outputs": [
    {
     "data": {
      "text/plain": [
       "'\\nzc.set_axis(zc.iloc[1],axis=1,inplace=True)  #将某一行设置为行索引\\nzc = zc.drop(index=1) #drop掉第1行\\nzc.head(2)\\n'"
      ]
     },
     "execution_count": 96,
     "metadata": {},
     "output_type": "execute_result"
    }
   ],
   "source": [
    "'''\n",
    "zc.set_axis(zc.iloc[1],axis=1,inplace=True)  #将某一行设置为行索引\n",
    "zc = zc.drop(index=1) #drop掉第1行\n",
    "zc.head(2)\n",
    "'''"
   ]
  },
  {
   "cell_type": "code",
   "execution_count": 97,
   "id": "6c4311fd",
   "metadata": {
    "ExecuteTime": {
     "end_time": "2021-12-17T05:05:58.696124Z",
     "start_time": "2021-12-17T05:05:58.675181Z"
    }
   },
   "outputs": [
    {
     "data": {
      "text/html": [
       "<div>\n",
       "<style scoped>\n",
       "    .dataframe tbody tr th:only-of-type {\n",
       "        vertical-align: middle;\n",
       "    }\n",
       "\n",
       "    .dataframe tbody tr th {\n",
       "        vertical-align: top;\n",
       "    }\n",
       "\n",
       "    .dataframe thead th {\n",
       "        text-align: right;\n",
       "    }\n",
       "</style>\n",
       "<table border=\"1\" class=\"dataframe\">\n",
       "  <thead>\n",
       "    <tr style=\"text-align: right;\">\n",
       "      <th></th>\n",
       "      <th>区域</th>\n",
       "      <th>红线封禁需准出</th>\n",
       "      <th>质量不合格需准出_快车</th>\n",
       "      <th>质量不合格需准出_优享</th>\n",
       "      <th>质量不合格需准出_总计</th>\n",
       "      <th>质量不合格需准出_总计（新）</th>\n",
       "      <th>质量不合格已准出_快车</th>\n",
       "      <th>质量不合格已准出_优享</th>\n",
       "      <th>质量不合格已准出_总计</th>\n",
       "      <th>不合格_准出进度</th>\n",
       "      <th>观察期_总计</th>\n",
       "      <th>观察期_已准出</th>\n",
       "      <th>剔除观察期_准出进度</th>\n",
       "      <th>强准出_总计</th>\n",
       "      <th>强准出_已准出</th>\n",
       "      <th>强准出_准出进度</th>\n",
       "      <th>非磐石目标准出</th>\n",
       "      <th>非目标_已准出</th>\n",
       "      <th>非目标准出进度</th>\n",
       "    </tr>\n",
       "  </thead>\n",
       "  <tbody>\n",
       "    <tr>\n",
       "      <th>2</th>\n",
       "      <td>中西区域</td>\n",
       "      <td>0</td>\n",
       "      <td>87</td>\n",
       "      <td>2</td>\n",
       "      <td>89</td>\n",
       "      <td>128</td>\n",
       "      <td>1</td>\n",
       "      <td>0</td>\n",
       "      <td>1</td>\n",
       "      <td>0.011236</td>\n",
       "      <td>58</td>\n",
       "      <td>0</td>\n",
       "      <td>0.032258</td>\n",
       "      <td>18</td>\n",
       "      <td>0</td>\n",
       "      <td>0</td>\n",
       "      <td>5</td>\n",
       "      <td>0</td>\n",
       "      <td>0</td>\n",
       "    </tr>\n",
       "    <tr>\n",
       "      <th>3</th>\n",
       "      <td>中南区域</td>\n",
       "      <td>0</td>\n",
       "      <td>37</td>\n",
       "      <td>1</td>\n",
       "      <td>38</td>\n",
       "      <td>80</td>\n",
       "      <td>4</td>\n",
       "      <td>0</td>\n",
       "      <td>4</td>\n",
       "      <td>0.105263</td>\n",
       "      <td>35</td>\n",
       "      <td>1</td>\n",
       "      <td>1</td>\n",
       "      <td>10</td>\n",
       "      <td>1</td>\n",
       "      <td>0.1</td>\n",
       "      <td>5</td>\n",
       "      <td>0</td>\n",
       "      <td>0</td>\n",
       "    </tr>\n",
       "    <tr>\n",
       "      <th>4</th>\n",
       "      <td>西南区域</td>\n",
       "      <td>0</td>\n",
       "      <td>83</td>\n",
       "      <td>12</td>\n",
       "      <td>95</td>\n",
       "      <td>262</td>\n",
       "      <td>10</td>\n",
       "      <td>0</td>\n",
       "      <td>10</td>\n",
       "      <td>0.105263</td>\n",
       "      <td>74</td>\n",
       "      <td>1</td>\n",
       "      <td>0.428571</td>\n",
       "      <td>0</td>\n",
       "      <td>0</td>\n",
       "      <td>——</td>\n",
       "      <td>3</td>\n",
       "      <td>0</td>\n",
       "      <td>0</td>\n",
       "    </tr>\n",
       "    <tr>\n",
       "      <th>5</th>\n",
       "      <td>鲁津冀区域</td>\n",
       "      <td>0</td>\n",
       "      <td>46</td>\n",
       "      <td>2</td>\n",
       "      <td>48</td>\n",
       "      <td>89</td>\n",
       "      <td>2</td>\n",
       "      <td>0</td>\n",
       "      <td>2</td>\n",
       "      <td>0.041667</td>\n",
       "      <td>30</td>\n",
       "      <td>0</td>\n",
       "      <td>0.111111</td>\n",
       "      <td>0</td>\n",
       "      <td>0</td>\n",
       "      <td>——</td>\n",
       "      <td>8</td>\n",
       "      <td>0</td>\n",
       "      <td>0</td>\n",
       "    </tr>\n",
       "    <tr>\n",
       "      <th>6</th>\n",
       "      <td>华东区域</td>\n",
       "      <td>1</td>\n",
       "      <td>104</td>\n",
       "      <td>0</td>\n",
       "      <td>104</td>\n",
       "      <td>250</td>\n",
       "      <td>16</td>\n",
       "      <td>0</td>\n",
       "      <td>16</td>\n",
       "      <td>0.153846</td>\n",
       "      <td>80</td>\n",
       "      <td>9</td>\n",
       "      <td>0.291667</td>\n",
       "      <td>0</td>\n",
       "      <td>0</td>\n",
       "      <td>——</td>\n",
       "      <td>9</td>\n",
       "      <td>0</td>\n",
       "      <td>0</td>\n",
       "    </tr>\n",
       "    <tr>\n",
       "      <th>7</th>\n",
       "      <td>华北区域</td>\n",
       "      <td>0</td>\n",
       "      <td>104</td>\n",
       "      <td>2</td>\n",
       "      <td>106</td>\n",
       "      <td>186</td>\n",
       "      <td>3</td>\n",
       "      <td>0</td>\n",
       "      <td>3</td>\n",
       "      <td>0.028302</td>\n",
       "      <td>0</td>\n",
       "      <td>0</td>\n",
       "      <td>0.028302</td>\n",
       "      <td>0</td>\n",
       "      <td>0</td>\n",
       "      <td>——</td>\n",
       "      <td>2</td>\n",
       "      <td>0</td>\n",
       "      <td>0</td>\n",
       "    </tr>\n",
       "    <tr>\n",
       "      <th>8</th>\n",
       "      <td>沪苏区域</td>\n",
       "      <td>0</td>\n",
       "      <td>31</td>\n",
       "      <td>1</td>\n",
       "      <td>32</td>\n",
       "      <td>64</td>\n",
       "      <td>1</td>\n",
       "      <td>0</td>\n",
       "      <td>1</td>\n",
       "      <td>0.03125</td>\n",
       "      <td>32</td>\n",
       "      <td>1</td>\n",
       "      <td>——</td>\n",
       "      <td>0</td>\n",
       "      <td>0</td>\n",
       "      <td>——</td>\n",
       "      <td>1</td>\n",
       "      <td>0</td>\n",
       "      <td>0</td>\n",
       "    </tr>\n",
       "    <tr>\n",
       "      <th>9</th>\n",
       "      <td>广东区域</td>\n",
       "      <td>0</td>\n",
       "      <td>102</td>\n",
       "      <td>3</td>\n",
       "      <td>105</td>\n",
       "      <td>194</td>\n",
       "      <td>7</td>\n",
       "      <td>0</td>\n",
       "      <td>7</td>\n",
       "      <td>0.066667</td>\n",
       "      <td>61</td>\n",
       "      <td>2</td>\n",
       "      <td>0.113636</td>\n",
       "      <td>36</td>\n",
       "      <td>4</td>\n",
       "      <td>0.111111</td>\n",
       "      <td>5</td>\n",
       "      <td>0</td>\n",
       "      <td>0</td>\n",
       "    </tr>\n",
       "    <tr>\n",
       "      <th>10</th>\n",
       "      <td>全国</td>\n",
       "      <td>1</td>\n",
       "      <td>594</td>\n",
       "      <td>23</td>\n",
       "      <td>617</td>\n",
       "      <td>1253</td>\n",
       "      <td>44</td>\n",
       "      <td>0</td>\n",
       "      <td>44</td>\n",
       "      <td>0.071313</td>\n",
       "      <td>370</td>\n",
       "      <td>14</td>\n",
       "      <td>0.121457</td>\n",
       "      <td>64</td>\n",
       "      <td>5</td>\n",
       "      <td>0.078125</td>\n",
       "      <td>38</td>\n",
       "      <td>0</td>\n",
       "      <td>0</td>\n",
       "    </tr>\n",
       "  </tbody>\n",
       "</table>\n",
       "</div>"
      ],
      "text/plain": [
       "       区域 红线封禁需准出 质量不合格需准出_快车 质量不合格需准出_优享 质量不合格需准出_总计 质量不合格需准出_总计（新）  \\\n",
       "2    中西区域       0          87           2          89            128   \n",
       "3    中南区域       0          37           1          38             80   \n",
       "4    西南区域       0          83          12          95            262   \n",
       "5   鲁津冀区域       0          46           2          48             89   \n",
       "6    华东区域       1         104           0         104            250   \n",
       "7    华北区域       0         104           2         106            186   \n",
       "8    沪苏区域       0          31           1          32             64   \n",
       "9    广东区域       0         102           3         105            194   \n",
       "10     全国       1         594          23         617           1253   \n",
       "\n",
       "   质量不合格已准出_快车 质量不合格已准出_优享 质量不合格已准出_总计  不合格_准出进度 观察期_总计 观察期_已准出 剔除观察期_准出进度  \\\n",
       "2            1           0           1  0.011236     58       0   0.032258   \n",
       "3            4           0           4  0.105263     35       1          1   \n",
       "4           10           0          10  0.105263     74       1   0.428571   \n",
       "5            2           0           2  0.041667     30       0   0.111111   \n",
       "6           16           0          16  0.153846     80       9   0.291667   \n",
       "7            3           0           3  0.028302      0       0   0.028302   \n",
       "8            1           0           1   0.03125     32       1         ——   \n",
       "9            7           0           7  0.066667     61       2   0.113636   \n",
       "10          44           0          44  0.071313    370      14   0.121457   \n",
       "\n",
       "   强准出_总计 强准出_已准出  强准出_准出进度 非磐石目标准出 非目标_已准出 非目标准出进度  \n",
       "2      18       0         0       5       0       0  \n",
       "3      10       1       0.1       5       0       0  \n",
       "4       0       0        ——       3       0       0  \n",
       "5       0       0        ——       8       0       0  \n",
       "6       0       0        ——       9       0       0  \n",
       "7       0       0        ——       2       0       0  \n",
       "8       0       0        ——       1       0       0  \n",
       "9      36       4  0.111111       5       0       0  \n",
       "10     64       5  0.078125      38       0       0  "
      ]
     },
     "execution_count": 97,
     "metadata": {},
     "output_type": "execute_result"
    }
   ],
   "source": [
    "# rename()函数适合于修改个别的索引或者列名，如果需要大部分的修改或者全部修改的话就使用set_index()函数比较方便\n",
    "\n",
    "zc.set_axis(['区域','红线封禁需准出',\\\n",
    "                    '质量不合格需准出_快车','质量不合格需准出_优享','质量不合格需准出_总计','质量不合格需准出_总计（新）',\\\n",
    "                    '质量不合格已准出_快车','质量不合格已准出_优享','质量不合格已准出_总计',\\\n",
    "                    '不合格_准出进度',\\\n",
    "                    '观察期_总计','观察期_已准出','剔除观察期_准出进度',\\\n",
    "                    '强准出_总计','强准出_已准出','强准出_准出进度',\\\n",
    "                    '非磐石目标准出','非目标_已准出','非目标准出进度'],axis=1,inplace=True)\n",
    "\n",
    "zc = zc.drop(index=[0,1])\n",
    "zc"
   ]
  },
  {
   "cell_type": "code",
   "execution_count": 98,
   "id": "df5cffbf",
   "metadata": {
    "ExecuteTime": {
     "end_time": "2021-12-17T05:05:58.702107Z",
     "start_time": "2021-12-17T05:05:58.697122Z"
    },
    "scrolled": true
   },
   "outputs": [
    {
     "data": {
      "text/plain": [
       "array(['中西区域', '中南区域', '西南区域', '鲁津冀区域', '华东区域', '华北区域', '沪苏区域', '广东区域',\n",
       "       '全国'], dtype=object)"
      ]
     },
     "execution_count": 98,
     "metadata": {},
     "output_type": "execute_result"
    }
   ],
   "source": [
    "zc['区域'].values"
   ]
  },
  {
   "cell_type": "markdown",
   "id": "e86d9cc9",
   "metadata": {},
   "source": [
    "#### ppt"
   ]
  },
  {
   "cell_type": "code",
   "execution_count": 99,
   "id": "640ff101",
   "metadata": {
    "ExecuteTime": {
     "end_time": "2021-12-17T05:05:58.728039Z",
     "start_time": "2021-12-17T05:05:58.703106Z"
    }
   },
   "outputs": [
    {
     "data": {
      "text/html": [
       "<div>\n",
       "<style scoped>\n",
       "    .dataframe tbody tr th:only-of-type {\n",
       "        vertical-align: middle;\n",
       "    }\n",
       "\n",
       "    .dataframe tbody tr th {\n",
       "        vertical-align: top;\n",
       "    }\n",
       "\n",
       "    .dataframe thead th {\n",
       "        text-align: right;\n",
       "    }\n",
       "</style>\n",
       "<table border=\"1\" class=\"dataframe\">\n",
       "  <thead>\n",
       "    <tr style=\"text-align: right;\">\n",
       "      <th></th>\n",
       "      <th>区域</th>\n",
       "      <th>红线封禁需准出</th>\n",
       "      <th>质量不合格需准出_快车</th>\n",
       "      <th>质量不合格需准出_优享</th>\n",
       "      <th>质量不合格需准出_总计</th>\n",
       "      <th>质量不合格需准出_总计（新）</th>\n",
       "      <th>质量不合格已准出_快车</th>\n",
       "      <th>质量不合格已准出_优享</th>\n",
       "      <th>质量不合格已准出_总计</th>\n",
       "      <th>不合格_准出进度</th>\n",
       "      <th>观察期_总计</th>\n",
       "      <th>观察期_已准出</th>\n",
       "      <th>剔除观察期_准出进度</th>\n",
       "      <th>强准出_总计</th>\n",
       "      <th>强准出_已准出</th>\n",
       "      <th>强准出_准出进度</th>\n",
       "      <th>非磐石目标准出</th>\n",
       "      <th>非目标_已准出</th>\n",
       "      <th>非目标准出进度</th>\n",
       "    </tr>\n",
       "  </thead>\n",
       "  <tbody>\n",
       "    <tr>\n",
       "      <th>6</th>\n",
       "      <td>华东区域</td>\n",
       "      <td>1</td>\n",
       "      <td>104</td>\n",
       "      <td>0</td>\n",
       "      <td>104</td>\n",
       "      <td>250</td>\n",
       "      <td>16</td>\n",
       "      <td>0</td>\n",
       "      <td>16</td>\n",
       "      <td>0.153846</td>\n",
       "      <td>80</td>\n",
       "      <td>9</td>\n",
       "      <td>0.291667</td>\n",
       "      <td>0</td>\n",
       "      <td>0</td>\n",
       "      <td>——</td>\n",
       "      <td>9</td>\n",
       "      <td>0</td>\n",
       "      <td>0</td>\n",
       "    </tr>\n",
       "    <tr>\n",
       "      <th>3</th>\n",
       "      <td>中南区域</td>\n",
       "      <td>0</td>\n",
       "      <td>37</td>\n",
       "      <td>1</td>\n",
       "      <td>38</td>\n",
       "      <td>80</td>\n",
       "      <td>4</td>\n",
       "      <td>0</td>\n",
       "      <td>4</td>\n",
       "      <td>0.105263</td>\n",
       "      <td>35</td>\n",
       "      <td>1</td>\n",
       "      <td>1</td>\n",
       "      <td>10</td>\n",
       "      <td>1</td>\n",
       "      <td>0.1</td>\n",
       "      <td>5</td>\n",
       "      <td>0</td>\n",
       "      <td>0</td>\n",
       "    </tr>\n",
       "    <tr>\n",
       "      <th>4</th>\n",
       "      <td>西南区域</td>\n",
       "      <td>0</td>\n",
       "      <td>83</td>\n",
       "      <td>12</td>\n",
       "      <td>95</td>\n",
       "      <td>262</td>\n",
       "      <td>10</td>\n",
       "      <td>0</td>\n",
       "      <td>10</td>\n",
       "      <td>0.105263</td>\n",
       "      <td>74</td>\n",
       "      <td>1</td>\n",
       "      <td>0.428571</td>\n",
       "      <td>0</td>\n",
       "      <td>0</td>\n",
       "      <td>——</td>\n",
       "      <td>3</td>\n",
       "      <td>0</td>\n",
       "      <td>0</td>\n",
       "    </tr>\n",
       "    <tr>\n",
       "      <th>9</th>\n",
       "      <td>广东区域</td>\n",
       "      <td>0</td>\n",
       "      <td>102</td>\n",
       "      <td>3</td>\n",
       "      <td>105</td>\n",
       "      <td>194</td>\n",
       "      <td>7</td>\n",
       "      <td>0</td>\n",
       "      <td>7</td>\n",
       "      <td>0.066667</td>\n",
       "      <td>61</td>\n",
       "      <td>2</td>\n",
       "      <td>0.113636</td>\n",
       "      <td>36</td>\n",
       "      <td>4</td>\n",
       "      <td>0.111111</td>\n",
       "      <td>5</td>\n",
       "      <td>0</td>\n",
       "      <td>0</td>\n",
       "    </tr>\n",
       "    <tr>\n",
       "      <th>5</th>\n",
       "      <td>鲁津冀区域</td>\n",
       "      <td>0</td>\n",
       "      <td>46</td>\n",
       "      <td>2</td>\n",
       "      <td>48</td>\n",
       "      <td>89</td>\n",
       "      <td>2</td>\n",
       "      <td>0</td>\n",
       "      <td>2</td>\n",
       "      <td>0.041667</td>\n",
       "      <td>30</td>\n",
       "      <td>0</td>\n",
       "      <td>0.111111</td>\n",
       "      <td>0</td>\n",
       "      <td>0</td>\n",
       "      <td>——</td>\n",
       "      <td>8</td>\n",
       "      <td>0</td>\n",
       "      <td>0</td>\n",
       "    </tr>\n",
       "    <tr>\n",
       "      <th>8</th>\n",
       "      <td>沪苏区域</td>\n",
       "      <td>0</td>\n",
       "      <td>31</td>\n",
       "      <td>1</td>\n",
       "      <td>32</td>\n",
       "      <td>64</td>\n",
       "      <td>1</td>\n",
       "      <td>0</td>\n",
       "      <td>1</td>\n",
       "      <td>0.03125</td>\n",
       "      <td>32</td>\n",
       "      <td>1</td>\n",
       "      <td>——</td>\n",
       "      <td>0</td>\n",
       "      <td>0</td>\n",
       "      <td>——</td>\n",
       "      <td>1</td>\n",
       "      <td>0</td>\n",
       "      <td>0</td>\n",
       "    </tr>\n",
       "    <tr>\n",
       "      <th>7</th>\n",
       "      <td>华北区域</td>\n",
       "      <td>0</td>\n",
       "      <td>104</td>\n",
       "      <td>2</td>\n",
       "      <td>106</td>\n",
       "      <td>186</td>\n",
       "      <td>3</td>\n",
       "      <td>0</td>\n",
       "      <td>3</td>\n",
       "      <td>0.028302</td>\n",
       "      <td>0</td>\n",
       "      <td>0</td>\n",
       "      <td>0.028302</td>\n",
       "      <td>0</td>\n",
       "      <td>0</td>\n",
       "      <td>——</td>\n",
       "      <td>2</td>\n",
       "      <td>0</td>\n",
       "      <td>0</td>\n",
       "    </tr>\n",
       "    <tr>\n",
       "      <th>2</th>\n",
       "      <td>中西区域</td>\n",
       "      <td>0</td>\n",
       "      <td>87</td>\n",
       "      <td>2</td>\n",
       "      <td>89</td>\n",
       "      <td>128</td>\n",
       "      <td>1</td>\n",
       "      <td>0</td>\n",
       "      <td>1</td>\n",
       "      <td>0.011236</td>\n",
       "      <td>58</td>\n",
       "      <td>0</td>\n",
       "      <td>0.032258</td>\n",
       "      <td>18</td>\n",
       "      <td>0</td>\n",
       "      <td>0</td>\n",
       "      <td>5</td>\n",
       "      <td>0</td>\n",
       "      <td>0</td>\n",
       "    </tr>\n",
       "    <tr>\n",
       "      <th>10</th>\n",
       "      <td>全国</td>\n",
       "      <td>1</td>\n",
       "      <td>594</td>\n",
       "      <td>23</td>\n",
       "      <td>617</td>\n",
       "      <td>1253</td>\n",
       "      <td>44</td>\n",
       "      <td>0</td>\n",
       "      <td>44</td>\n",
       "      <td>0.071313</td>\n",
       "      <td>370</td>\n",
       "      <td>14</td>\n",
       "      <td>0.121457</td>\n",
       "      <td>64</td>\n",
       "      <td>5</td>\n",
       "      <td>0.078125</td>\n",
       "      <td>38</td>\n",
       "      <td>0</td>\n",
       "      <td>0</td>\n",
       "    </tr>\n",
       "  </tbody>\n",
       "</table>\n",
       "</div>"
      ],
      "text/plain": [
       "       区域 红线封禁需准出 质量不合格需准出_快车 质量不合格需准出_优享 质量不合格需准出_总计 质量不合格需准出_总计（新）  \\\n",
       "6    华东区域       1         104           0         104            250   \n",
       "3    中南区域       0          37           1          38             80   \n",
       "4    西南区域       0          83          12          95            262   \n",
       "9    广东区域       0         102           3         105            194   \n",
       "5   鲁津冀区域       0          46           2          48             89   \n",
       "8    沪苏区域       0          31           1          32             64   \n",
       "7    华北区域       0         104           2         106            186   \n",
       "2    中西区域       0          87           2          89            128   \n",
       "10     全国       1         594          23         617           1253   \n",
       "\n",
       "   质量不合格已准出_快车 质量不合格已准出_优享 质量不合格已准出_总计  不合格_准出进度 观察期_总计 观察期_已准出 剔除观察期_准出进度  \\\n",
       "6           16           0          16  0.153846     80       9   0.291667   \n",
       "3            4           0           4  0.105263     35       1          1   \n",
       "4           10           0          10  0.105263     74       1   0.428571   \n",
       "9            7           0           7  0.066667     61       2   0.113636   \n",
       "5            2           0           2  0.041667     30       0   0.111111   \n",
       "8            1           0           1   0.03125     32       1         ——   \n",
       "7            3           0           3  0.028302      0       0   0.028302   \n",
       "2            1           0           1  0.011236     58       0   0.032258   \n",
       "10          44           0          44  0.071313    370      14   0.121457   \n",
       "\n",
       "   强准出_总计 强准出_已准出  强准出_准出进度 非磐石目标准出 非目标_已准出 非目标准出进度  \n",
       "6       0       0        ——       9       0       0  \n",
       "3      10       1       0.1       5       0       0  \n",
       "4       0       0        ——       3       0       0  \n",
       "9      36       4  0.111111       5       0       0  \n",
       "5       0       0        ——       8       0       0  \n",
       "8       0       0        ——       1       0       0  \n",
       "7       0       0        ——       2       0       0  \n",
       "2      18       0         0       5       0       0  \n",
       "10     64       5  0.078125      38       0       0  "
      ]
     },
     "execution_count": 99,
     "metadata": {},
     "output_type": "execute_result"
    }
   ],
   "source": [
    "zc_ppt = zc.iloc[:-1,:].sort_values(by=['剔除观察期_准出进度'],ascending=False).append(zc.iloc[-1])   #除最后一行外，其余行降序排列\n",
    "# zc_ppt = zc.iloc[:-1,:].sort_values(by=['不合格_准出进度'],ascending=False).append(zc.iloc[-1])   #除最后一行外，其余行降序排列\n",
    "zc_ppt"
   ]
  },
  {
   "cell_type": "code",
   "execution_count": 100,
   "id": "2c6fe5c1",
   "metadata": {
    "ExecuteTime": {
     "end_time": "2021-12-17T05:05:58.774914Z",
     "start_time": "2021-12-17T05:05:58.729036Z"
    }
   },
   "outputs": [],
   "source": [
    "# 写入excel\n",
    "\n",
    "wbpp = load_workbook('周报_ppt.xlsx')   # excel中设置模板格式\n",
    "wspp = wbpp['ppt']\n",
    "\n",
    "wspp.append([])\n",
    "wspp.append(['{0}准出进度{0}'.format('*'*20)])\n",
    "wspp.append([])\n",
    "for r in dataframe_to_rows(zc_ppt, index=False, header=True):\n",
    "    wspp.append(r)\n",
    "    \n",
    "wbpp.save('周报_ppt.xlsx')  "
   ]
  },
  {
   "cell_type": "markdown",
   "id": "137c3059",
   "metadata": {},
   "source": [
    "#### 邮件"
   ]
  },
  {
   "cell_type": "code",
   "execution_count": 101,
   "id": "4c6b33b7",
   "metadata": {
    "ExecuteTime": {
     "end_time": "2021-12-17T05:05:58.790871Z",
     "start_time": "2021-12-17T05:05:58.775910Z"
    }
   },
   "outputs": [
    {
     "data": {
      "text/html": [
       "<div>\n",
       "<style scoped>\n",
       "    .dataframe tbody tr th:only-of-type {\n",
       "        vertical-align: middle;\n",
       "    }\n",
       "\n",
       "    .dataframe tbody tr th {\n",
       "        vertical-align: top;\n",
       "    }\n",
       "\n",
       "    .dataframe thead th {\n",
       "        text-align: right;\n",
       "    }\n",
       "</style>\n",
       "<table border=\"1\" class=\"dataframe\">\n",
       "  <thead>\n",
       "    <tr style=\"text-align: right;\">\n",
       "      <th></th>\n",
       "      <th>区域</th>\n",
       "      <th>质量不合格需准出_总计</th>\n",
       "      <th>质量不合格已准出_总计</th>\n",
       "      <th>不合格_准出进度</th>\n",
       "      <th>观察期_总计</th>\n",
       "      <th>观察期_已准出</th>\n",
       "      <th>剔除观察期_准出进度</th>\n",
       "      <th>强准出_总计</th>\n",
       "      <th>强准出_已准出</th>\n",
       "      <th>强准出_准出进度</th>\n",
       "      <th>非磐石目标准出</th>\n",
       "      <th>非目标_已准出</th>\n",
       "      <th>非目标准出进度</th>\n",
       "    </tr>\n",
       "  </thead>\n",
       "  <tbody>\n",
       "    <tr>\n",
       "      <th>2</th>\n",
       "      <td>中西区域</td>\n",
       "      <td>89</td>\n",
       "      <td>1</td>\n",
       "      <td>0.011236</td>\n",
       "      <td>58</td>\n",
       "      <td>0</td>\n",
       "      <td>0.032258</td>\n",
       "      <td>18</td>\n",
       "      <td>0</td>\n",
       "      <td>0</td>\n",
       "      <td>5</td>\n",
       "      <td>0</td>\n",
       "      <td>0</td>\n",
       "    </tr>\n",
       "    <tr>\n",
       "      <th>3</th>\n",
       "      <td>中南区域</td>\n",
       "      <td>38</td>\n",
       "      <td>4</td>\n",
       "      <td>0.105263</td>\n",
       "      <td>35</td>\n",
       "      <td>1</td>\n",
       "      <td>1</td>\n",
       "      <td>10</td>\n",
       "      <td>1</td>\n",
       "      <td>0.1</td>\n",
       "      <td>5</td>\n",
       "      <td>0</td>\n",
       "      <td>0</td>\n",
       "    </tr>\n",
       "    <tr>\n",
       "      <th>4</th>\n",
       "      <td>西南区域</td>\n",
       "      <td>95</td>\n",
       "      <td>10</td>\n",
       "      <td>0.105263</td>\n",
       "      <td>74</td>\n",
       "      <td>1</td>\n",
       "      <td>0.428571</td>\n",
       "      <td>0</td>\n",
       "      <td>0</td>\n",
       "      <td>——</td>\n",
       "      <td>3</td>\n",
       "      <td>0</td>\n",
       "      <td>0</td>\n",
       "    </tr>\n",
       "    <tr>\n",
       "      <th>5</th>\n",
       "      <td>鲁津冀区域</td>\n",
       "      <td>48</td>\n",
       "      <td>2</td>\n",
       "      <td>0.041667</td>\n",
       "      <td>30</td>\n",
       "      <td>0</td>\n",
       "      <td>0.111111</td>\n",
       "      <td>0</td>\n",
       "      <td>0</td>\n",
       "      <td>——</td>\n",
       "      <td>8</td>\n",
       "      <td>0</td>\n",
       "      <td>0</td>\n",
       "    </tr>\n",
       "    <tr>\n",
       "      <th>6</th>\n",
       "      <td>华东区域</td>\n",
       "      <td>104</td>\n",
       "      <td>16</td>\n",
       "      <td>0.153846</td>\n",
       "      <td>80</td>\n",
       "      <td>9</td>\n",
       "      <td>0.291667</td>\n",
       "      <td>0</td>\n",
       "      <td>0</td>\n",
       "      <td>——</td>\n",
       "      <td>9</td>\n",
       "      <td>0</td>\n",
       "      <td>0</td>\n",
       "    </tr>\n",
       "    <tr>\n",
       "      <th>7</th>\n",
       "      <td>华北区域</td>\n",
       "      <td>106</td>\n",
       "      <td>3</td>\n",
       "      <td>0.028302</td>\n",
       "      <td>0</td>\n",
       "      <td>0</td>\n",
       "      <td>0.028302</td>\n",
       "      <td>0</td>\n",
       "      <td>0</td>\n",
       "      <td>——</td>\n",
       "      <td>2</td>\n",
       "      <td>0</td>\n",
       "      <td>0</td>\n",
       "    </tr>\n",
       "    <tr>\n",
       "      <th>8</th>\n",
       "      <td>沪苏区域</td>\n",
       "      <td>32</td>\n",
       "      <td>1</td>\n",
       "      <td>0.03125</td>\n",
       "      <td>32</td>\n",
       "      <td>1</td>\n",
       "      <td>——</td>\n",
       "      <td>0</td>\n",
       "      <td>0</td>\n",
       "      <td>——</td>\n",
       "      <td>1</td>\n",
       "      <td>0</td>\n",
       "      <td>0</td>\n",
       "    </tr>\n",
       "    <tr>\n",
       "      <th>9</th>\n",
       "      <td>广东区域</td>\n",
       "      <td>105</td>\n",
       "      <td>7</td>\n",
       "      <td>0.066667</td>\n",
       "      <td>61</td>\n",
       "      <td>2</td>\n",
       "      <td>0.113636</td>\n",
       "      <td>36</td>\n",
       "      <td>4</td>\n",
       "      <td>0.111111</td>\n",
       "      <td>5</td>\n",
       "      <td>0</td>\n",
       "      <td>0</td>\n",
       "    </tr>\n",
       "    <tr>\n",
       "      <th>10</th>\n",
       "      <td>全国</td>\n",
       "      <td>617</td>\n",
       "      <td>44</td>\n",
       "      <td>0.071313</td>\n",
       "      <td>370</td>\n",
       "      <td>14</td>\n",
       "      <td>0.121457</td>\n",
       "      <td>64</td>\n",
       "      <td>5</td>\n",
       "      <td>0.078125</td>\n",
       "      <td>38</td>\n",
       "      <td>0</td>\n",
       "      <td>0</td>\n",
       "    </tr>\n",
       "  </tbody>\n",
       "</table>\n",
       "</div>"
      ],
      "text/plain": [
       "       区域 质量不合格需准出_总计 质量不合格已准出_总计  不合格_准出进度 观察期_总计 观察期_已准出 剔除观察期_准出进度 强准出_总计  \\\n",
       "2    中西区域          89           1  0.011236     58       0   0.032258     18   \n",
       "3    中南区域          38           4  0.105263     35       1          1     10   \n",
       "4    西南区域          95          10  0.105263     74       1   0.428571      0   \n",
       "5   鲁津冀区域          48           2  0.041667     30       0   0.111111      0   \n",
       "6    华东区域         104          16  0.153846     80       9   0.291667      0   \n",
       "7    华北区域         106           3  0.028302      0       0   0.028302      0   \n",
       "8    沪苏区域          32           1   0.03125     32       1         ——      0   \n",
       "9    广东区域         105           7  0.066667     61       2   0.113636     36   \n",
       "10     全国         617          44  0.071313    370      14   0.121457     64   \n",
       "\n",
       "   强准出_已准出  强准出_准出进度 非磐石目标准出 非目标_已准出 非目标准出进度  \n",
       "2        0         0       5       0       0  \n",
       "3        1       0.1       5       0       0  \n",
       "4        0        ——       3       0       0  \n",
       "5        0        ——       8       0       0  \n",
       "6        0        ——       9       0       0  \n",
       "7        0        ——       2       0       0  \n",
       "8        0        ——       1       0       0  \n",
       "9        4  0.111111       5       0       0  \n",
       "10       5  0.078125      38       0       0  "
      ]
     },
     "execution_count": 101,
     "metadata": {},
     "output_type": "execute_result"
    }
   ],
   "source": [
    "dfm2 = zc[['区域','质量不合格需准出_总计','质量不合格已准出_总计','不合格_准出进度',\\\n",
    "                  '观察期_总计','观察期_已准出','剔除观察期_准出进度',\\\n",
    "                  '强准出_总计','强准出_已准出','强准出_准出进度',\\\n",
    "                  '非磐石目标准出','非目标_已准出','非目标准出进度']]\n",
    "\n",
    "dfm2"
   ]
  },
  {
   "cell_type": "code",
   "execution_count": 102,
   "id": "4e787a60",
   "metadata": {
    "ExecuteTime": {
     "end_time": "2021-12-17T05:05:58.799847Z",
     "start_time": "2021-12-17T05:05:58.791868Z"
    }
   },
   "outputs": [
    {
     "data": {
      "text/plain": [
       "(['中西区域', '中南区域', '西南区域', '鲁津冀区域', '华东区域', '华北区域', '沪苏区域', '广东区域', '全国'],\n",
       " [[89, 1, 0.011235955056179775, 58, 0, 0.03225806451612903, 18, 0, 0, 5, 0, 0],\n",
       "  [38, 4, 0.10526315789473684, 35, 1, 1, 10, 1, 0.1, 5, 0, 0],\n",
       "  [95,\n",
       "   10,\n",
       "   0.10526315789473684,\n",
       "   74,\n",
       "   1,\n",
       "   0.42857142857142855,\n",
       "   0,\n",
       "   0,\n",
       "   '——',\n",
       "   3,\n",
       "   0,\n",
       "   0],\n",
       "  [48,\n",
       "   2,\n",
       "   0.041666666666666664,\n",
       "   30,\n",
       "   0,\n",
       "   0.1111111111111111,\n",
       "   0,\n",
       "   0,\n",
       "   '——',\n",
       "   8,\n",
       "   0,\n",
       "   0],\n",
       "  [104,\n",
       "   16,\n",
       "   0.15384615384615385,\n",
       "   80,\n",
       "   9,\n",
       "   0.2916666666666667,\n",
       "   0,\n",
       "   0,\n",
       "   '——',\n",
       "   9,\n",
       "   0,\n",
       "   0],\n",
       "  [106,\n",
       "   3,\n",
       "   0.02830188679245283,\n",
       "   0,\n",
       "   0,\n",
       "   0.02830188679245283,\n",
       "   0,\n",
       "   0,\n",
       "   '——',\n",
       "   2,\n",
       "   0,\n",
       "   0],\n",
       "  [32, 1, 0.03125, 32, 1, '——', 0, 0, '——', 1, 0, 0],\n",
       "  [105,\n",
       "   7,\n",
       "   0.06666666666666667,\n",
       "   61,\n",
       "   2,\n",
       "   0.11363636363636363,\n",
       "   36,\n",
       "   4,\n",
       "   0.1111111111111111,\n",
       "   5,\n",
       "   0,\n",
       "   0],\n",
       "  [617,\n",
       "   44,\n",
       "   0.0713128038897893,\n",
       "   370,\n",
       "   14,\n",
       "   0.1214574898785425,\n",
       "   64,\n",
       "   5,\n",
       "   0.078125,\n",
       "   38,\n",
       "   0,\n",
       "   0]])"
      ]
     },
     "execution_count": 102,
     "metadata": {},
     "output_type": "execute_result"
    }
   ],
   "source": [
    "# 写入excel\n",
    "data1 = dfm2.iloc[:,0].values.tolist()\n",
    "data2 = dfm2.iloc[:,1:].values.tolist()   \n",
    "data1,data2"
   ]
  },
  {
   "cell_type": "code",
   "execution_count": 103,
   "id": "8bb4060e",
   "metadata": {
    "ExecuteTime": {
     "end_time": "2021-12-17T05:05:58.858721Z",
     "start_time": "2021-12-17T05:05:58.800844Z"
    }
   },
   "outputs": [],
   "source": [
    "wbmm = load_workbook('周报邮件版.xlsx') \n",
    "wsmm = wbmm['队长准出-邮件']"
   ]
  },
  {
   "cell_type": "code",
   "execution_count": 104,
   "id": "56444c6c",
   "metadata": {
    "ExecuteTime": {
     "end_time": "2021-12-17T05:05:58.910551Z",
     "start_time": "2021-12-17T05:05:58.859686Z"
    }
   },
   "outputs": [],
   "source": [
    "# 写入data\n",
    "# write_r_c(index,column,ws,lt)\n",
    "def write_r_c(index,column,ws,lt):\n",
    "    for i in range(len(lt)):\n",
    "        ws.cell(index,column+i).value = lt[i]\n",
    "            #选择填入某行的单元格\n",
    "            \n",
    "def write_col(index,column,ws,lt):  #固定column行，填充列\n",
    "    for i in range(len(lt)):\n",
    "        ws.cell(index+i,column).value = lt[i]\n",
    "        \n",
    "write_col(4,1,wsmm,data1)   #从A4开始写\n",
    "\n",
    "for i in range(len(data2)):\n",
    "    write_r_c(4+i,3,wsmm,data2[i])  #从C4开始写\n",
    "    \n",
    "wbmm.save('周报邮件版.xlsx')        "
   ]
  },
  {
   "cell_type": "markdown",
   "id": "e1b66715",
   "metadata": {},
   "source": [
    "### 队长月会"
   ]
  },
  {
   "cell_type": "code",
   "execution_count": 105,
   "id": "b1657e62",
   "metadata": {
    "ExecuteTime": {
     "end_time": "2021-12-17T05:05:58.916534Z",
     "start_time": "2021-12-17T05:05:58.911548Z"
    }
   },
   "outputs": [],
   "source": [
    "yh_ppt = pd.DataFrame(wsm03.values)"
   ]
  },
  {
   "cell_type": "code",
   "execution_count": 106,
   "id": "6a6e745e",
   "metadata": {
    "ExecuteTime": {
     "end_time": "2021-12-17T05:05:58.931494Z",
     "start_time": "2021-12-17T05:05:58.918532Z"
    }
   },
   "outputs": [
    {
     "data": {
      "text/html": [
       "<div>\n",
       "<style scoped>\n",
       "    .dataframe tbody tr th:only-of-type {\n",
       "        vertical-align: middle;\n",
       "    }\n",
       "\n",
       "    .dataframe tbody tr th {\n",
       "        vertical-align: top;\n",
       "    }\n",
       "\n",
       "    .dataframe thead th {\n",
       "        text-align: right;\n",
       "    }\n",
       "</style>\n",
       "<table border=\"1\" class=\"dataframe\">\n",
       "  <thead>\n",
       "    <tr style=\"text-align: right;\">\n",
       "      <th></th>\n",
       "      <th>区域</th>\n",
       "      <th>队长月会到场人数</th>\n",
       "      <th>队长人数</th>\n",
       "      <th>队长月会覆盖率</th>\n",
       "      <th>考试通过人数</th>\n",
       "      <th>考试总人数</th>\n",
       "      <th>考试通过率</th>\n",
       "    </tr>\n",
       "  </thead>\n",
       "  <tbody>\n",
       "    <tr>\n",
       "      <th>1</th>\n",
       "      <td>广东区域</td>\n",
       "      <td>1709</td>\n",
       "      <td>4129</td>\n",
       "      <td>0.413902</td>\n",
       "      <td>1701</td>\n",
       "      <td>1703</td>\n",
       "      <td>0.998826</td>\n",
       "    </tr>\n",
       "    <tr>\n",
       "      <th>2</th>\n",
       "      <td>沪苏区域</td>\n",
       "      <td>163</td>\n",
       "      <td>199</td>\n",
       "      <td>0.819095</td>\n",
       "      <td>163</td>\n",
       "      <td>163</td>\n",
       "      <td>1</td>\n",
       "    </tr>\n",
       "    <tr>\n",
       "      <th>3</th>\n",
       "      <td>华北区域</td>\n",
       "      <td>1485</td>\n",
       "      <td>2450</td>\n",
       "      <td>0.606122</td>\n",
       "      <td>1481</td>\n",
       "      <td>1484</td>\n",
       "      <td>0.997978</td>\n",
       "    </tr>\n",
       "    <tr>\n",
       "      <th>4</th>\n",
       "      <td>华东区域</td>\n",
       "      <td>1925</td>\n",
       "      <td>3135</td>\n",
       "      <td>0.614035</td>\n",
       "      <td>1901</td>\n",
       "      <td>1905</td>\n",
       "      <td>0.9979</td>\n",
       "    </tr>\n",
       "    <tr>\n",
       "      <th>5</th>\n",
       "      <td>鲁津冀区域</td>\n",
       "      <td>146</td>\n",
       "      <td>548</td>\n",
       "      <td>0.266423</td>\n",
       "      <td>146</td>\n",
       "      <td>146</td>\n",
       "      <td>1</td>\n",
       "    </tr>\n",
       "    <tr>\n",
       "      <th>6</th>\n",
       "      <td>西南区域</td>\n",
       "      <td>614</td>\n",
       "      <td>2197</td>\n",
       "      <td>0.279472</td>\n",
       "      <td>599</td>\n",
       "      <td>601</td>\n",
       "      <td>0.996672</td>\n",
       "    </tr>\n",
       "    <tr>\n",
       "      <th>7</th>\n",
       "      <td>中南区域</td>\n",
       "      <td>1026</td>\n",
       "      <td>1569</td>\n",
       "      <td>0.65392</td>\n",
       "      <td>1016</td>\n",
       "      <td>1020</td>\n",
       "      <td>0.996078</td>\n",
       "    </tr>\n",
       "    <tr>\n",
       "      <th>8</th>\n",
       "      <td>中西区域</td>\n",
       "      <td>390</td>\n",
       "      <td>610</td>\n",
       "      <td>0.639344</td>\n",
       "      <td>390</td>\n",
       "      <td>390</td>\n",
       "      <td>1</td>\n",
       "    </tr>\n",
       "    <tr>\n",
       "      <th>9</th>\n",
       "      <td>全国</td>\n",
       "      <td>7458</td>\n",
       "      <td>14837</td>\n",
       "      <td>0.502662</td>\n",
       "      <td>3877</td>\n",
       "      <td>3897</td>\n",
       "      <td>0.994868</td>\n",
       "    </tr>\n",
       "  </tbody>\n",
       "</table>\n",
       "</div>"
      ],
      "text/plain": [
       "0     区域 队长月会到场人数   队长人数   队长月会覆盖率 考试通过人数 考试总人数     考试通过率\n",
       "1   广东区域     1709   4129  0.413902   1701  1703  0.998826\n",
       "2   沪苏区域      163    199  0.819095    163   163         1\n",
       "3   华北区域     1485   2450  0.606122   1481  1484  0.997978\n",
       "4   华东区域     1925   3135  0.614035   1901  1905    0.9979\n",
       "5  鲁津冀区域      146    548  0.266423    146   146         1\n",
       "6   西南区域      614   2197  0.279472    599   601  0.996672\n",
       "7   中南区域     1026   1569   0.65392   1016  1020  0.996078\n",
       "8   中西区域      390    610  0.639344    390   390         1\n",
       "9     全国     7458  14837  0.502662   3877  3897  0.994868"
      ]
     },
     "execution_count": 106,
     "metadata": {},
     "output_type": "execute_result"
    }
   ],
   "source": [
    "yh_ppt.set_axis(yh_ppt.iloc[0],axis=1,inplace=True)  #将某一行设置为行索引\n",
    "yh_ppt = yh_ppt.drop(index=0) #drop掉第1行\n",
    "yh_ppt"
   ]
  },
  {
   "cell_type": "code",
   "execution_count": 107,
   "id": "a02bcd63",
   "metadata": {
    "ExecuteTime": {
     "end_time": "2021-12-17T05:05:58.947451Z",
     "start_time": "2021-12-17T05:05:58.932492Z"
    }
   },
   "outputs": [
    {
     "data": {
      "text/html": [
       "<div>\n",
       "<style scoped>\n",
       "    .dataframe tbody tr th:only-of-type {\n",
       "        vertical-align: middle;\n",
       "    }\n",
       "\n",
       "    .dataframe tbody tr th {\n",
       "        vertical-align: top;\n",
       "    }\n",
       "\n",
       "    .dataframe thead th {\n",
       "        text-align: right;\n",
       "    }\n",
       "</style>\n",
       "<table border=\"1\" class=\"dataframe\">\n",
       "  <thead>\n",
       "    <tr style=\"text-align: right;\">\n",
       "      <th></th>\n",
       "      <th>区域</th>\n",
       "      <th>队长月会到场人数</th>\n",
       "      <th>队长人数</th>\n",
       "      <th>队长月会覆盖率</th>\n",
       "      <th>考试通过人数</th>\n",
       "      <th>考试总人数</th>\n",
       "      <th>考试通过率</th>\n",
       "    </tr>\n",
       "  </thead>\n",
       "  <tbody>\n",
       "    <tr>\n",
       "      <th>2</th>\n",
       "      <td>沪苏区域</td>\n",
       "      <td>163</td>\n",
       "      <td>199</td>\n",
       "      <td>0.819095</td>\n",
       "      <td>163</td>\n",
       "      <td>163</td>\n",
       "      <td>1</td>\n",
       "    </tr>\n",
       "    <tr>\n",
       "      <th>7</th>\n",
       "      <td>中南区域</td>\n",
       "      <td>1026</td>\n",
       "      <td>1569</td>\n",
       "      <td>0.65392</td>\n",
       "      <td>1016</td>\n",
       "      <td>1020</td>\n",
       "      <td>0.996078</td>\n",
       "    </tr>\n",
       "    <tr>\n",
       "      <th>8</th>\n",
       "      <td>中西区域</td>\n",
       "      <td>390</td>\n",
       "      <td>610</td>\n",
       "      <td>0.639344</td>\n",
       "      <td>390</td>\n",
       "      <td>390</td>\n",
       "      <td>1</td>\n",
       "    </tr>\n",
       "    <tr>\n",
       "      <th>4</th>\n",
       "      <td>华东区域</td>\n",
       "      <td>1925</td>\n",
       "      <td>3135</td>\n",
       "      <td>0.614035</td>\n",
       "      <td>1901</td>\n",
       "      <td>1905</td>\n",
       "      <td>0.9979</td>\n",
       "    </tr>\n",
       "    <tr>\n",
       "      <th>3</th>\n",
       "      <td>华北区域</td>\n",
       "      <td>1485</td>\n",
       "      <td>2450</td>\n",
       "      <td>0.606122</td>\n",
       "      <td>1481</td>\n",
       "      <td>1484</td>\n",
       "      <td>0.997978</td>\n",
       "    </tr>\n",
       "    <tr>\n",
       "      <th>1</th>\n",
       "      <td>广东区域</td>\n",
       "      <td>1709</td>\n",
       "      <td>4129</td>\n",
       "      <td>0.413902</td>\n",
       "      <td>1701</td>\n",
       "      <td>1703</td>\n",
       "      <td>0.998826</td>\n",
       "    </tr>\n",
       "    <tr>\n",
       "      <th>6</th>\n",
       "      <td>西南区域</td>\n",
       "      <td>614</td>\n",
       "      <td>2197</td>\n",
       "      <td>0.279472</td>\n",
       "      <td>599</td>\n",
       "      <td>601</td>\n",
       "      <td>0.996672</td>\n",
       "    </tr>\n",
       "    <tr>\n",
       "      <th>5</th>\n",
       "      <td>鲁津冀区域</td>\n",
       "      <td>146</td>\n",
       "      <td>548</td>\n",
       "      <td>0.266423</td>\n",
       "      <td>146</td>\n",
       "      <td>146</td>\n",
       "      <td>1</td>\n",
       "    </tr>\n",
       "    <tr>\n",
       "      <th>9</th>\n",
       "      <td>全国</td>\n",
       "      <td>7458</td>\n",
       "      <td>14837</td>\n",
       "      <td>0.502662</td>\n",
       "      <td>3877</td>\n",
       "      <td>3897</td>\n",
       "      <td>0.994868</td>\n",
       "    </tr>\n",
       "  </tbody>\n",
       "</table>\n",
       "</div>"
      ],
      "text/plain": [
       "0     区域 队长月会到场人数   队长人数   队长月会覆盖率 考试通过人数 考试总人数     考试通过率\n",
       "2   沪苏区域      163    199  0.819095    163   163         1\n",
       "7   中南区域     1026   1569   0.65392   1016  1020  0.996078\n",
       "8   中西区域      390    610  0.639344    390   390         1\n",
       "4   华东区域     1925   3135  0.614035   1901  1905    0.9979\n",
       "3   华北区域     1485   2450  0.606122   1481  1484  0.997978\n",
       "1   广东区域     1709   4129  0.413902   1701  1703  0.998826\n",
       "6   西南区域      614   2197  0.279472    599   601  0.996672\n",
       "5  鲁津冀区域      146    548  0.266423    146   146         1\n",
       "9     全国     7458  14837  0.502662   3877  3897  0.994868"
      ]
     },
     "execution_count": 107,
     "metadata": {},
     "output_type": "execute_result"
    }
   ],
   "source": [
    "yh_ppt = yh_ppt.iloc[:-1,:].sort_values(by=['队长月会覆盖率'],ascending=False).append(yh_ppt.iloc[-1])   #除最后一行外，其余行降序排列\n",
    "yh_ppt"
   ]
  },
  {
   "cell_type": "markdown",
   "id": "ef83321d",
   "metadata": {},
   "source": [
    "#### ppt\n",
    "> 在第一单元"
   ]
  },
  {
   "cell_type": "code",
   "execution_count": 108,
   "id": "d89bccfe",
   "metadata": {
    "ExecuteTime": {
     "end_time": "2021-12-17T05:05:59.001309Z",
     "start_time": "2021-12-17T05:05:58.948449Z"
    }
   },
   "outputs": [],
   "source": [
    "# 写入excel\n",
    "\n",
    "wbpp = load_workbook('周报_ppt.xlsx')   # excel中设置模板格式\n",
    "wspp = wbpp['ppt']\n",
    "\n",
    "wspp.append([])\n",
    "wspp.append(['{0}3-队长月会{0}'.format('*'*15)])\n",
    "wspp.append([])\n",
    "for r in dataframe_to_rows(yh_ppt, index=False, header=True):\n",
    "    wspp.append(r)\n",
    "    \n",
    "wbpp.save('周报_ppt.xlsx')  "
   ]
  },
  {
   "cell_type": "markdown",
   "id": "4db8a1b9",
   "metadata": {},
   "source": [
    "### 安全辅导员"
   ]
  },
  {
   "cell_type": "code",
   "execution_count": 109,
   "id": "f44bfc5f",
   "metadata": {
    "ExecuteTime": {
     "end_time": "2021-12-17T05:05:59.028237Z",
     "start_time": "2021-12-17T05:05:59.002306Z"
    }
   },
   "outputs": [
    {
     "data": {
      "text/html": [
       "<div>\n",
       "<style scoped>\n",
       "    .dataframe tbody tr th:only-of-type {\n",
       "        vertical-align: middle;\n",
       "    }\n",
       "\n",
       "    .dataframe tbody tr th {\n",
       "        vertical-align: top;\n",
       "    }\n",
       "\n",
       "    .dataframe thead th {\n",
       "        text-align: right;\n",
       "    }\n",
       "</style>\n",
       "<table border=\"1\" class=\"dataframe\">\n",
       "  <thead>\n",
       "    <tr style=\"text-align: right;\">\n",
       "      <th></th>\n",
       "      <th>0</th>\n",
       "      <th>1</th>\n",
       "      <th>2</th>\n",
       "      <th>3</th>\n",
       "      <th>4</th>\n",
       "      <th>5</th>\n",
       "      <th>6</th>\n",
       "      <th>7</th>\n",
       "      <th>8</th>\n",
       "    </tr>\n",
       "  </thead>\n",
       "  <tbody>\n",
       "    <tr>\n",
       "      <th>0</th>\n",
       "      <td>大区</td>\n",
       "      <td>触发任务数</td>\n",
       "      <td>完成沟通任务数</td>\n",
       "      <td>上升线索数</td>\n",
       "      <td>有效线索数</td>\n",
       "      <td>任务完成率</td>\n",
       "      <td>有效线索率</td>\n",
       "      <td>沟通率目标</td>\n",
       "      <td>有效线索率目标</td>\n",
       "    </tr>\n",
       "    <tr>\n",
       "      <th>1</th>\n",
       "      <td>华东区域</td>\n",
       "      <td>2438</td>\n",
       "      <td>2307</td>\n",
       "      <td>253</td>\n",
       "      <td>104</td>\n",
       "      <td>0.946267</td>\n",
       "      <td>0.411067</td>\n",
       "      <td>0.9</td>\n",
       "      <td>0.3</td>\n",
       "    </tr>\n",
       "    <tr>\n",
       "      <th>2</th>\n",
       "      <td>广东区域</td>\n",
       "      <td>2189</td>\n",
       "      <td>2030</td>\n",
       "      <td>256</td>\n",
       "      <td>8</td>\n",
       "      <td>0.927364</td>\n",
       "      <td>0.03125</td>\n",
       "      <td>0.9</td>\n",
       "      <td>0.3</td>\n",
       "    </tr>\n",
       "    <tr>\n",
       "      <th>3</th>\n",
       "      <td>鲁津冀区域</td>\n",
       "      <td>1868</td>\n",
       "      <td>1780</td>\n",
       "      <td>171</td>\n",
       "      <td>25</td>\n",
       "      <td>0.952891</td>\n",
       "      <td>0.146199</td>\n",
       "      <td>0.9</td>\n",
       "      <td>0.3</td>\n",
       "    </tr>\n",
       "    <tr>\n",
       "      <th>4</th>\n",
       "      <td>西南区域</td>\n",
       "      <td>1433</td>\n",
       "      <td>1335</td>\n",
       "      <td>162</td>\n",
       "      <td>0</td>\n",
       "      <td>0.931612</td>\n",
       "      <td>0</td>\n",
       "      <td>0.9</td>\n",
       "      <td>0.3</td>\n",
       "    </tr>\n",
       "    <tr>\n",
       "      <th>5</th>\n",
       "      <td>华北区域</td>\n",
       "      <td>1382</td>\n",
       "      <td>1318</td>\n",
       "      <td>128</td>\n",
       "      <td>47</td>\n",
       "      <td>0.95369</td>\n",
       "      <td>0.367188</td>\n",
       "      <td>0.9</td>\n",
       "      <td>0.3</td>\n",
       "    </tr>\n",
       "    <tr>\n",
       "      <th>6</th>\n",
       "      <td>沪苏区域</td>\n",
       "      <td>1307</td>\n",
       "      <td>1162</td>\n",
       "      <td>213</td>\n",
       "      <td>4</td>\n",
       "      <td>0.889059</td>\n",
       "      <td>0.018779</td>\n",
       "      <td>0.9</td>\n",
       "      <td>0.3</td>\n",
       "    </tr>\n",
       "    <tr>\n",
       "      <th>7</th>\n",
       "      <td>中南区域</td>\n",
       "      <td>1115</td>\n",
       "      <td>1083</td>\n",
       "      <td>112</td>\n",
       "      <td>25</td>\n",
       "      <td>0.9713</td>\n",
       "      <td>0.223214</td>\n",
       "      <td>0.9</td>\n",
       "      <td>0.3</td>\n",
       "    </tr>\n",
       "    <tr>\n",
       "      <th>8</th>\n",
       "      <td>中西区域</td>\n",
       "      <td>892</td>\n",
       "      <td>815</td>\n",
       "      <td>116</td>\n",
       "      <td>53</td>\n",
       "      <td>0.913677</td>\n",
       "      <td>0.456897</td>\n",
       "      <td>0.9</td>\n",
       "      <td>0.3</td>\n",
       "    </tr>\n",
       "    <tr>\n",
       "      <th>9</th>\n",
       "      <td>全国</td>\n",
       "      <td>12624</td>\n",
       "      <td>11830</td>\n",
       "      <td>1411</td>\n",
       "      <td>266</td>\n",
       "      <td>0.937104</td>\n",
       "      <td>0.188519</td>\n",
       "      <td>0.9</td>\n",
       "      <td>0.3</td>\n",
       "    </tr>\n",
       "  </tbody>\n",
       "</table>\n",
       "</div>"
      ],
      "text/plain": [
       "       0      1        2      3      4         5         6      7        8\n",
       "0     大区  触发任务数  完成沟通任务数  上升线索数  有效线索数     任务完成率     有效线索率  沟通率目标  有效线索率目标\n",
       "1   华东区域   2438     2307    253    104  0.946267  0.411067    0.9      0.3\n",
       "2   广东区域   2189     2030    256      8  0.927364   0.03125    0.9      0.3\n",
       "3  鲁津冀区域   1868     1780    171     25  0.952891  0.146199    0.9      0.3\n",
       "4   西南区域   1433     1335    162      0  0.931612         0    0.9      0.3\n",
       "5   华北区域   1382     1318    128     47   0.95369  0.367188    0.9      0.3\n",
       "6   沪苏区域   1307     1162    213      4  0.889059  0.018779    0.9      0.3\n",
       "7   中南区域   1115     1083    112     25    0.9713  0.223214    0.9      0.3\n",
       "8   中西区域    892      815    116     53  0.913677  0.456897    0.9      0.3\n",
       "9     全国  12624    11830   1411    266  0.937104  0.188519    0.9      0.3"
      ]
     },
     "execution_count": 109,
     "metadata": {},
     "output_type": "execute_result"
    },
    {
     "data": {
      "text/html": [
       "<div>\n",
       "<style scoped>\n",
       "    .dataframe tbody tr th:only-of-type {\n",
       "        vertical-align: middle;\n",
       "    }\n",
       "\n",
       "    .dataframe tbody tr th {\n",
       "        vertical-align: top;\n",
       "    }\n",
       "\n",
       "    .dataframe thead th {\n",
       "        text-align: right;\n",
       "    }\n",
       "</style>\n",
       "<table border=\"1\" class=\"dataframe\">\n",
       "  <thead>\n",
       "    <tr style=\"text-align: right;\">\n",
       "      <th></th>\n",
       "      <th>区域</th>\n",
       "      <th>触发任务数</th>\n",
       "      <th>完成沟通任务数</th>\n",
       "      <th>上升线索数</th>\n",
       "      <th>有效线索数</th>\n",
       "      <th>任务完成率</th>\n",
       "      <th>有效线索率</th>\n",
       "      <th>沟通率目标</th>\n",
       "      <th>有效线索率目标</th>\n",
       "    </tr>\n",
       "  </thead>\n",
       "  <tbody>\n",
       "    <tr>\n",
       "      <th>1</th>\n",
       "      <td>华东区域</td>\n",
       "      <td>2438</td>\n",
       "      <td>2307</td>\n",
       "      <td>253</td>\n",
       "      <td>104</td>\n",
       "      <td>0.946267</td>\n",
       "      <td>0.411067</td>\n",
       "      <td>0.9</td>\n",
       "      <td>0.3</td>\n",
       "    </tr>\n",
       "    <tr>\n",
       "      <th>2</th>\n",
       "      <td>广东区域</td>\n",
       "      <td>2189</td>\n",
       "      <td>2030</td>\n",
       "      <td>256</td>\n",
       "      <td>8</td>\n",
       "      <td>0.927364</td>\n",
       "      <td>0.03125</td>\n",
       "      <td>0.9</td>\n",
       "      <td>0.3</td>\n",
       "    </tr>\n",
       "    <tr>\n",
       "      <th>3</th>\n",
       "      <td>鲁津冀区域</td>\n",
       "      <td>1868</td>\n",
       "      <td>1780</td>\n",
       "      <td>171</td>\n",
       "      <td>25</td>\n",
       "      <td>0.952891</td>\n",
       "      <td>0.146199</td>\n",
       "      <td>0.9</td>\n",
       "      <td>0.3</td>\n",
       "    </tr>\n",
       "    <tr>\n",
       "      <th>4</th>\n",
       "      <td>西南区域</td>\n",
       "      <td>1433</td>\n",
       "      <td>1335</td>\n",
       "      <td>162</td>\n",
       "      <td>0</td>\n",
       "      <td>0.931612</td>\n",
       "      <td>0</td>\n",
       "      <td>0.9</td>\n",
       "      <td>0.3</td>\n",
       "    </tr>\n",
       "    <tr>\n",
       "      <th>5</th>\n",
       "      <td>华北区域</td>\n",
       "      <td>1382</td>\n",
       "      <td>1318</td>\n",
       "      <td>128</td>\n",
       "      <td>47</td>\n",
       "      <td>0.95369</td>\n",
       "      <td>0.367188</td>\n",
       "      <td>0.9</td>\n",
       "      <td>0.3</td>\n",
       "    </tr>\n",
       "    <tr>\n",
       "      <th>6</th>\n",
       "      <td>沪苏区域</td>\n",
       "      <td>1307</td>\n",
       "      <td>1162</td>\n",
       "      <td>213</td>\n",
       "      <td>4</td>\n",
       "      <td>0.889059</td>\n",
       "      <td>0.018779</td>\n",
       "      <td>0.9</td>\n",
       "      <td>0.3</td>\n",
       "    </tr>\n",
       "    <tr>\n",
       "      <th>7</th>\n",
       "      <td>中南区域</td>\n",
       "      <td>1115</td>\n",
       "      <td>1083</td>\n",
       "      <td>112</td>\n",
       "      <td>25</td>\n",
       "      <td>0.9713</td>\n",
       "      <td>0.223214</td>\n",
       "      <td>0.9</td>\n",
       "      <td>0.3</td>\n",
       "    </tr>\n",
       "    <tr>\n",
       "      <th>8</th>\n",
       "      <td>中西区域</td>\n",
       "      <td>892</td>\n",
       "      <td>815</td>\n",
       "      <td>116</td>\n",
       "      <td>53</td>\n",
       "      <td>0.913677</td>\n",
       "      <td>0.456897</td>\n",
       "      <td>0.9</td>\n",
       "      <td>0.3</td>\n",
       "    </tr>\n",
       "    <tr>\n",
       "      <th>9</th>\n",
       "      <td>全国</td>\n",
       "      <td>12624</td>\n",
       "      <td>11830</td>\n",
       "      <td>1411</td>\n",
       "      <td>266</td>\n",
       "      <td>0.937104</td>\n",
       "      <td>0.188519</td>\n",
       "      <td>0.9</td>\n",
       "      <td>0.3</td>\n",
       "    </tr>\n",
       "  </tbody>\n",
       "</table>\n",
       "</div>"
      ],
      "text/plain": [
       "0     区域  触发任务数 完成沟通任务数 上升线索数 有效线索数     任务完成率     有效线索率 沟通率目标 有效线索率目标\n",
       "1   华东区域   2438    2307   253   104  0.946267  0.411067   0.9     0.3\n",
       "2   广东区域   2189    2030   256     8  0.927364   0.03125   0.9     0.3\n",
       "3  鲁津冀区域   1868    1780   171    25  0.952891  0.146199   0.9     0.3\n",
       "4   西南区域   1433    1335   162     0  0.931612         0   0.9     0.3\n",
       "5   华北区域   1382    1318   128    47   0.95369  0.367188   0.9     0.3\n",
       "6   沪苏区域   1307    1162   213     4  0.889059  0.018779   0.9     0.3\n",
       "7   中南区域   1115    1083   112    25    0.9713  0.223214   0.9     0.3\n",
       "8   中西区域    892     815   116    53  0.913677  0.456897   0.9     0.3\n",
       "9     全国  12624   11830  1411   266  0.937104  0.188519   0.9     0.3"
      ]
     },
     "execution_count": 109,
     "metadata": {},
     "output_type": "execute_result"
    }
   ],
   "source": [
    "fd = pd.DataFrame(wsm4.values)\n",
    "fd\n",
    "\n",
    "fd.set_axis(fd.iloc[0],axis=1,inplace=True)  #将某一行设置为行索引\n",
    "fd = fd.drop(index=0) #drop掉第1行\n",
    "fd.rename(columns={'大区':'区域'},inplace=True)\n",
    "fd"
   ]
  },
  {
   "cell_type": "markdown",
   "id": "3645ecd2",
   "metadata": {},
   "source": [
    "#### ppt"
   ]
  },
  {
   "cell_type": "code",
   "execution_count": 110,
   "id": "b23979e0",
   "metadata": {
    "ExecuteTime": {
     "end_time": "2021-12-17T05:05:59.095057Z",
     "start_time": "2021-12-17T05:05:59.029234Z"
    },
    "scrolled": true
   },
   "outputs": [
    {
     "data": {
      "text/html": [
       "<div>\n",
       "<style scoped>\n",
       "    .dataframe tbody tr th:only-of-type {\n",
       "        vertical-align: middle;\n",
       "    }\n",
       "\n",
       "    .dataframe tbody tr th {\n",
       "        vertical-align: top;\n",
       "    }\n",
       "\n",
       "    .dataframe thead th {\n",
       "        text-align: right;\n",
       "    }\n",
       "</style>\n",
       "<table border=\"1\" class=\"dataframe\">\n",
       "  <thead>\n",
       "    <tr style=\"text-align: right;\">\n",
       "      <th></th>\n",
       "      <th>区域</th>\n",
       "      <th>触发任务数</th>\n",
       "      <th>完成沟通任务数</th>\n",
       "      <th>上升线索数</th>\n",
       "      <th>有效线索数</th>\n",
       "      <th>任务完成率</th>\n",
       "      <th>有效线索率</th>\n",
       "      <th>沟通率目标</th>\n",
       "      <th>有效线索率目标</th>\n",
       "    </tr>\n",
       "  </thead>\n",
       "  <tbody>\n",
       "    <tr>\n",
       "      <th>7</th>\n",
       "      <td>中南区域</td>\n",
       "      <td>1115</td>\n",
       "      <td>1083</td>\n",
       "      <td>112</td>\n",
       "      <td>25</td>\n",
       "      <td>0.9713</td>\n",
       "      <td>0.223214</td>\n",
       "      <td>0.9</td>\n",
       "      <td>0.3</td>\n",
       "    </tr>\n",
       "    <tr>\n",
       "      <th>5</th>\n",
       "      <td>华北区域</td>\n",
       "      <td>1382</td>\n",
       "      <td>1318</td>\n",
       "      <td>128</td>\n",
       "      <td>47</td>\n",
       "      <td>0.95369</td>\n",
       "      <td>0.367188</td>\n",
       "      <td>0.9</td>\n",
       "      <td>0.3</td>\n",
       "    </tr>\n",
       "    <tr>\n",
       "      <th>3</th>\n",
       "      <td>鲁津冀区域</td>\n",
       "      <td>1868</td>\n",
       "      <td>1780</td>\n",
       "      <td>171</td>\n",
       "      <td>25</td>\n",
       "      <td>0.952891</td>\n",
       "      <td>0.146199</td>\n",
       "      <td>0.9</td>\n",
       "      <td>0.3</td>\n",
       "    </tr>\n",
       "    <tr>\n",
       "      <th>1</th>\n",
       "      <td>华东区域</td>\n",
       "      <td>2438</td>\n",
       "      <td>2307</td>\n",
       "      <td>253</td>\n",
       "      <td>104</td>\n",
       "      <td>0.946267</td>\n",
       "      <td>0.411067</td>\n",
       "      <td>0.9</td>\n",
       "      <td>0.3</td>\n",
       "    </tr>\n",
       "    <tr>\n",
       "      <th>4</th>\n",
       "      <td>西南区域</td>\n",
       "      <td>1433</td>\n",
       "      <td>1335</td>\n",
       "      <td>162</td>\n",
       "      <td>0</td>\n",
       "      <td>0.931612</td>\n",
       "      <td>0</td>\n",
       "      <td>0.9</td>\n",
       "      <td>0.3</td>\n",
       "    </tr>\n",
       "    <tr>\n",
       "      <th>2</th>\n",
       "      <td>广东区域</td>\n",
       "      <td>2189</td>\n",
       "      <td>2030</td>\n",
       "      <td>256</td>\n",
       "      <td>8</td>\n",
       "      <td>0.927364</td>\n",
       "      <td>0.03125</td>\n",
       "      <td>0.9</td>\n",
       "      <td>0.3</td>\n",
       "    </tr>\n",
       "    <tr>\n",
       "      <th>8</th>\n",
       "      <td>中西区域</td>\n",
       "      <td>892</td>\n",
       "      <td>815</td>\n",
       "      <td>116</td>\n",
       "      <td>53</td>\n",
       "      <td>0.913677</td>\n",
       "      <td>0.456897</td>\n",
       "      <td>0.9</td>\n",
       "      <td>0.3</td>\n",
       "    </tr>\n",
       "    <tr>\n",
       "      <th>6</th>\n",
       "      <td>沪苏区域</td>\n",
       "      <td>1307</td>\n",
       "      <td>1162</td>\n",
       "      <td>213</td>\n",
       "      <td>4</td>\n",
       "      <td>0.889059</td>\n",
       "      <td>0.018779</td>\n",
       "      <td>0.9</td>\n",
       "      <td>0.3</td>\n",
       "    </tr>\n",
       "    <tr>\n",
       "      <th>9</th>\n",
       "      <td>全国</td>\n",
       "      <td>12624</td>\n",
       "      <td>11830</td>\n",
       "      <td>1411</td>\n",
       "      <td>266</td>\n",
       "      <td>0.937104</td>\n",
       "      <td>0.188519</td>\n",
       "      <td>0.9</td>\n",
       "      <td>0.3</td>\n",
       "    </tr>\n",
       "  </tbody>\n",
       "</table>\n",
       "</div>"
      ],
      "text/plain": [
       "0     区域  触发任务数 完成沟通任务数 上升线索数 有效线索数     任务完成率     有效线索率 沟通率目标 有效线索率目标\n",
       "7   中南区域   1115    1083   112    25    0.9713  0.223214   0.9     0.3\n",
       "5   华北区域   1382    1318   128    47   0.95369  0.367188   0.9     0.3\n",
       "3  鲁津冀区域   1868    1780   171    25  0.952891  0.146199   0.9     0.3\n",
       "1   华东区域   2438    2307   253   104  0.946267  0.411067   0.9     0.3\n",
       "4   西南区域   1433    1335   162     0  0.931612         0   0.9     0.3\n",
       "2   广东区域   2189    2030   256     8  0.927364   0.03125   0.9     0.3\n",
       "8   中西区域    892     815   116    53  0.913677  0.456897   0.9     0.3\n",
       "6   沪苏区域   1307    1162   213     4  0.889059  0.018779   0.9     0.3\n",
       "9     全国  12624   11830  1411   266  0.937104  0.188519   0.9     0.3"
      ]
     },
     "execution_count": 110,
     "metadata": {},
     "output_type": "execute_result"
    }
   ],
   "source": [
    "fd_ppt = fd.iloc[:-1,:].sort_values(by=['任务完成率'],ascending=False).append(fd.iloc[-1])   #除最后一行外，其余行降序排列\n",
    "fd_ppt\n",
    "\n",
    "# 写入excel\n",
    "\n",
    "wbpp = load_workbook('周报_ppt.xlsx')   # excel中设置模板格式\n",
    "wspp = wbpp['ppt']\n",
    "\n",
    "wspp.append([])\n",
    "wspp.append(['{0}4-安全辅导员{0}'.format('*'*15)])\n",
    "wspp.append([])\n",
    "for r in dataframe_to_rows(fd_ppt, index=False, header=True):\n",
    "    wspp.append(r)\n",
    "    \n",
    "wbpp.save('周报_ppt.xlsx')  "
   ]
  },
  {
   "cell_type": "code",
   "execution_count": null,
   "id": "e8d4e82e",
   "metadata": {
    "ExecuteTime": {
     "start_time": "2021-12-17T05:02:22.747Z"
    }
   },
   "outputs": [],
   "source": [
    "input('请打开【1-队长覆盖率】【2-准出进度】复制到【周报邮件版】保存并退出:(按任意键继续)  ')"
   ]
  },
  {
   "cell_type": "code",
   "execution_count": null,
   "id": "090d893e",
   "metadata": {},
   "outputs": [],
   "source": []
  },
  {
   "cell_type": "code",
   "execution_count": null,
   "id": "0c8ebb1c",
   "metadata": {},
   "outputs": [],
   "source": []
  }
 ],
 "metadata": {
  "kernelspec": {
   "display_name": "Python 3",
   "language": "python",
   "name": "python3"
  },
  "language_info": {
   "codemirror_mode": {
    "name": "ipython",
    "version": 3
   },
   "file_extension": ".py",
   "mimetype": "text/x-python",
   "name": "python",
   "nbconvert_exporter": "python",
   "pygments_lexer": "ipython3",
   "version": "3.8.8"
  },
  "toc": {
   "base_numbering": 1,
   "nav_menu": {},
   "number_sections": true,
   "sideBar": true,
   "skip_h1_title": false,
   "title_cell": "Table of Contents",
   "title_sidebar": "Contents",
   "toc_cell": false,
   "toc_position": {
    "height": "435.984px",
    "left": "1165.99px",
    "top": "145.919px",
    "width": "258.841px"
   },
   "toc_section_display": true,
   "toc_window_display": true
  }
 },
 "nbformat": 4,
 "nbformat_minor": 5
}
