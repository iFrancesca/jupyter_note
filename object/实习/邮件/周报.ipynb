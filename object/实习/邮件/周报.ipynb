{
 "cells": [
  {
   "cell_type": "code",
   "execution_count": 1,
   "metadata": {
    "ExecuteTime": {
     "end_time": "2021-12-28T06:45:25.628100Z",
     "start_time": "2021-12-28T06:45:23.673678Z"
    }
   },
   "outputs": [],
   "source": [
    "import time\n",
    "import shutil\n",
    "import pandas as pd\n",
    "import numpy as np\n",
    "from datetime import datetime\n",
    "from openpyxl import load_workbook\n",
    "from openpyxl import Workbook\n",
    "from openpyxl.utils.dataframe import dataframe_to_rows\n",
    "\n",
    "from IPython.core.interactiveshell import InteractiveShell \n",
    "InteractiveShell.ast_node_interactivity = \"all\""
   ]
  },
  {
   "cell_type": "code",
   "execution_count": 2,
   "metadata": {
    "ExecuteTime": {
     "end_time": "2021-12-28T06:45:25.643997Z",
     "start_time": "2021-12-28T06:45:25.629036Z"
    }
   },
   "outputs": [
    {
     "name": "stdout",
     "output_type": "stream",
     "text": [
      "D:\\code\\jupyter\\邮件\n"
     ]
    },
    {
     "data": {
      "text/plain": [
       "'D:\\\\file\\\\o\\\\队长\\\\周报\\\\s\\\\1228'"
      ]
     },
     "execution_count": 2,
     "metadata": {},
     "output_type": "execute_result"
    }
   ],
   "source": [
    "import os\n",
    "print(os.getcwd())  #当前路径\n",
    "\n",
    "#更改当前路径\n",
    "os.chdir('D:/file/o/队长/周报/s/1228/')\n",
    "os.getcwd()"
   ]
  },
  {
   "cell_type": "code",
   "execution_count": 3,
   "metadata": {
    "ExecuteTime": {
     "end_time": "2021-12-28T06:45:25.649980Z",
     "start_time": "2021-12-28T06:45:25.644993Z"
    }
   },
   "outputs": [
    {
     "data": {
      "text/plain": [
       "'\\nimport os\\nimport shutil \\n\\ndef copy_allfiles(src,dest):\\n#src:原文件夹；dest:目标文件夹\\n  src_files = os.listdir(src)\\n  for file_name in src_files:\\n    full_file_name = os.path.join(src, file_name)\\n    if os.path.isfile(full_file_name):\\n        shutil.copy(full_file_name, dest)\\n        '"
      ]
     },
     "execution_count": 3,
     "metadata": {},
     "output_type": "execute_result"
    }
   ],
   "source": [
    "'''\n",
    "import os\n",
    "import shutil \n",
    "\n",
    "def copy_allfiles(src,dest):\n",
    "#src:原文件夹；dest:目标文件夹\n",
    "  src_files = os.listdir(src)\n",
    "  for file_name in src_files:\n",
    "    full_file_name = os.path.join(src, file_name)\n",
    "    if os.path.isfile(full_file_name):\n",
    "        shutil.copy(full_file_name, dest)\n",
    "        '''"
   ]
  },
  {
   "cell_type": "markdown",
   "metadata": {},
   "source": [
    "## 1-队长覆盖率"
   ]
  },
  {
   "cell_type": "markdown",
   "metadata": {},
   "source": [
    "### raw_data"
   ]
  },
  {
   "cell_type": "code",
   "execution_count": 4,
   "metadata": {
    "ExecuteTime": {
     "end_time": "2021-12-28T06:45:32.224245Z",
     "start_time": "2021-12-28T06:45:25.652974Z"
    }
   },
   "outputs": [
    {
     "name": "stdout",
     "output_type": "stream",
     "text": [
      "data_file_name: shenyajun_i队长覆盖率（区域用Q4）-202112281000\n"
     ]
    },
    {
     "data": {
      "text/plain": [
       "'shenyajun_i队长覆盖率（区域用Q4）-202112281000.csv'"
      ]
     },
     "execution_count": 4,
     "metadata": {},
     "output_type": "execute_result"
    }
   ],
   "source": [
    "# shenyajun_i队长覆盖率（区域用Q4）20211116104220\n",
    "data_path = input('data_file_name: ')\n",
    "data_path = data_path + '.csv'\n",
    "data_path"
   ]
  },
  {
   "cell_type": "code",
   "execution_count": 5,
   "metadata": {
    "ExecuteTime": {
     "end_time": "2021-12-28T06:45:32.236213Z",
     "start_time": "2021-12-28T06:45:32.225241Z"
    }
   },
   "outputs": [
    {
     "data": {
      "text/plain": [
       "(202, 13)"
      ]
     },
     "execution_count": 5,
     "metadata": {},
     "output_type": "execute_result"
    }
   ],
   "source": [
    "data_df = pd.read_csv(data_path,encoding='gbk')\n",
    "data_df.shape"
   ]
  },
  {
   "cell_type": "code",
   "execution_count": 6,
   "metadata": {
    "ExecuteTime": {
     "end_time": "2021-12-28T06:45:32.241198Z",
     "start_time": "2021-12-28T06:45:32.237209Z"
    }
   },
   "outputs": [
    {
     "data": {
      "text/plain": [
       "Index(['区域', '城市群', '城市', '队长总数', '覆盖目标司机数', '目标司机数', '有队长对公目标司机数', '对公目标司机数',\n",
       "       '有队长橘子目标司机数', '橘子目标司机数', '杰出队长数', '普通队长数', '预备役队长数'],\n",
       "      dtype='object')"
      ]
     },
     "execution_count": 6,
     "metadata": {},
     "output_type": "execute_result"
    }
   ],
   "source": [
    "data_df.columns"
   ]
  },
  {
   "cell_type": "code",
   "execution_count": 7,
   "metadata": {
    "ExecuteTime": {
     "end_time": "2021-12-28T06:45:32.252170Z",
     "start_time": "2021-12-28T06:45:32.243195Z"
    }
   },
   "outputs": [
    {
     "data": {
      "text/plain": [
       "(199, 13)"
      ]
     },
     "execution_count": 7,
     "metadata": {},
     "output_type": "execute_result"
    }
   ],
   "source": [
    "# 筛选掉战区+停服城市\n",
    "df = data_df[~((data_df['城市']=='南京市')|(data_df['城市']=='上海市')|(data_df['城市']=='乌鲁木齐市'))]\n",
    "#df = data_df[df['城市'].isin(['南京市'])]\n",
    "df.shape"
   ]
  },
  {
   "cell_type": "code",
   "execution_count": 8,
   "metadata": {
    "ExecuteTime": {
     "end_time": "2021-12-28T06:45:32.270123Z",
     "start_time": "2021-12-28T06:45:32.254167Z"
    }
   },
   "outputs": [
    {
     "data": {
      "text/html": [
       "<div>\n",
       "<style scoped>\n",
       "    .dataframe tbody tr th:only-of-type {\n",
       "        vertical-align: middle;\n",
       "    }\n",
       "\n",
       "    .dataframe tbody tr th {\n",
       "        vertical-align: top;\n",
       "    }\n",
       "\n",
       "    .dataframe thead th {\n",
       "        text-align: right;\n",
       "    }\n",
       "</style>\n",
       "<table border=\"1\" class=\"dataframe\">\n",
       "  <thead>\n",
       "    <tr style=\"text-align: right;\">\n",
       "      <th></th>\n",
       "      <th>区域</th>\n",
       "      <th>城市群</th>\n",
       "      <th>城市</th>\n",
       "      <th>队长总数</th>\n",
       "      <th>覆盖目标司机数</th>\n",
       "      <th>目标司机数</th>\n",
       "      <th>有队长对公目标司机数</th>\n",
       "      <th>对公目标司机数</th>\n",
       "      <th>有队长橘子目标司机数</th>\n",
       "      <th>橘子目标司机数</th>\n",
       "      <th>杰出队长数</th>\n",
       "      <th>普通队长数</th>\n",
       "      <th>预备役队长数</th>\n",
       "    </tr>\n",
       "  </thead>\n",
       "  <tbody>\n",
       "    <tr>\n",
       "      <th>0</th>\n",
       "      <td>鲁津冀区域</td>\n",
       "      <td>冀北城市群</td>\n",
       "      <td>唐山市</td>\n",
       "      <td>37</td>\n",
       "      <td>1775</td>\n",
       "      <td>1962</td>\n",
       "      <td>3</td>\n",
       "      <td>5</td>\n",
       "      <td>1772</td>\n",
       "      <td>1957</td>\n",
       "      <td>9</td>\n",
       "      <td>26</td>\n",
       "      <td>2</td>\n",
       "    </tr>\n",
       "    <tr>\n",
       "      <th>1</th>\n",
       "      <td>西南区域</td>\n",
       "      <td>云南潜力城市群</td>\n",
       "      <td>楚雄彝族自治州</td>\n",
       "      <td>35</td>\n",
       "      <td>1243</td>\n",
       "      <td>1297</td>\n",
       "      <td>1</td>\n",
       "      <td>1</td>\n",
       "      <td>1242</td>\n",
       "      <td>1296</td>\n",
       "      <td>12</td>\n",
       "      <td>21</td>\n",
       "      <td>2</td>\n",
       "    </tr>\n",
       "    <tr>\n",
       "      <th>2</th>\n",
       "      <td>广东区域</td>\n",
       "      <td>韶河梅汕城市群</td>\n",
       "      <td>梅州市</td>\n",
       "      <td>41</td>\n",
       "      <td>1949</td>\n",
       "      <td>2030</td>\n",
       "      <td>4</td>\n",
       "      <td>4</td>\n",
       "      <td>1945</td>\n",
       "      <td>2026</td>\n",
       "      <td>6</td>\n",
       "      <td>35</td>\n",
       "      <td>0</td>\n",
       "    </tr>\n",
       "    <tr>\n",
       "      <th>3</th>\n",
       "      <td>中南区域</td>\n",
       "      <td>赣北城市群</td>\n",
       "      <td>景德镇市</td>\n",
       "      <td>14</td>\n",
       "      <td>669</td>\n",
       "      <td>669</td>\n",
       "      <td>151</td>\n",
       "      <td>151</td>\n",
       "      <td>518</td>\n",
       "      <td>518</td>\n",
       "      <td>2</td>\n",
       "      <td>12</td>\n",
       "      <td>0</td>\n",
       "    </tr>\n",
       "    <tr>\n",
       "      <th>4</th>\n",
       "      <td>西南区域</td>\n",
       "      <td>贵潜城市群</td>\n",
       "      <td>遵义市</td>\n",
       "      <td>53</td>\n",
       "      <td>2303</td>\n",
       "      <td>2425</td>\n",
       "      <td>124</td>\n",
       "      <td>149</td>\n",
       "      <td>2179</td>\n",
       "      <td>2276</td>\n",
       "      <td>13</td>\n",
       "      <td>35</td>\n",
       "      <td>5</td>\n",
       "    </tr>\n",
       "  </tbody>\n",
       "</table>\n",
       "</div>"
      ],
      "text/plain": [
       "      区域      城市群       城市  队长总数  覆盖目标司机数  目标司机数  有队长对公目标司机数  对公目标司机数  \\\n",
       "0  鲁津冀区域    冀北城市群      唐山市    37     1775   1962           3        5   \n",
       "1   西南区域  云南潜力城市群  楚雄彝族自治州    35     1243   1297           1        1   \n",
       "2   广东区域  韶河梅汕城市群      梅州市    41     1949   2030           4        4   \n",
       "3   中南区域    赣北城市群     景德镇市    14      669    669         151      151   \n",
       "4   西南区域    贵潜城市群      遵义市    53     2303   2425         124      149   \n",
       "\n",
       "   有队长橘子目标司机数  橘子目标司机数  杰出队长数  普通队长数  预备役队长数  \n",
       "0        1772     1957      9     26       2  \n",
       "1        1242     1296     12     21       2  \n",
       "2        1945     2026      6     35       0  \n",
       "3         518      518      2     12       0  \n",
       "4        2179     2276     13     35       5  "
      ]
     },
     "execution_count": 8,
     "metadata": {},
     "output_type": "execute_result"
    }
   ],
   "source": [
    "df.head()"
   ]
  },
  {
   "cell_type": "code",
   "execution_count": 9,
   "metadata": {
    "ExecuteTime": {
     "end_time": "2021-12-28T06:45:32.277105Z",
     "start_time": "2021-12-28T06:45:32.273116Z"
    },
    "scrolled": true
   },
   "outputs": [],
   "source": [
    "#df_exc = df.loc[:,['区域', '城市群', '城市']]"
   ]
  },
  {
   "cell_type": "markdown",
   "metadata": {},
   "source": [
    "### 写入excel"
   ]
  },
  {
   "cell_type": "code",
   "execution_count": 10,
   "metadata": {
    "ExecuteTime": {
     "end_time": "2021-12-28T06:45:32.285083Z",
     "start_time": "2021-12-28T06:45:32.279099Z"
    }
   },
   "outputs": [
    {
     "data": {
      "text/plain": [
       "[['鲁津冀区域', '冀北城市群', '唐山市', 37, 1775, 1962, 3, 5, 1772, 1957, 9, 26, 2],\n",
       " ['西南区域', '云南潜力城市群', '楚雄彝族自治州', 35, 1243, 1297, 1, 1, 1242, 1296, 12, 21, 2],\n",
       " ['广东区域', '韶河梅汕城市群', '梅州市', 41, 1949, 2030, 4, 4, 1945, 2026, 6, 35, 0],\n",
       " ['中南区域', '赣北城市群', '景德镇市', 14, 669, 669, 151, 151, 518, 518, 2, 12, 0],\n",
       " ['西南区域', '贵潜城市群', '遵义市', 53, 2303, 2425, 124, 149, 2179, 2276, 13, 35, 5]]"
      ]
     },
     "execution_count": 10,
     "metadata": {},
     "output_type": "execute_result"
    }
   ],
   "source": [
    "# data = [df.columns.values.tolist()] + df.values.tolist()\n",
    "data = df.values.tolist()\n",
    "data[0:5]"
   ]
  },
  {
   "cell_type": "code",
   "execution_count": 11,
   "metadata": {
    "ExecuteTime": {
     "end_time": "2021-12-28T06:45:32.292064Z",
     "start_time": "2021-12-28T06:45:32.286081Z"
    }
   },
   "outputs": [
    {
     "data": {
      "text/plain": [
       "'\\n# 将列表按行写入\\nwb_data = Workbook()\\nws_data = wb_data.create_sheet(\\'1-队长覆盖率\\')\\n\\nfor r in dataframe_to_rows(df, index=False, header=False):   #不写入DataFrame的行列索引\\n    ws_data.append(r)\\n    \\nwb_data.save(\\'1111.xlsx\\')\\n\\n# 写完后打开文件\\nfrom win32com.client import Dispatch\\n \\nxlApp = Dispatch(\"Excel.Application\")\\nxlApp.Visible = True\\nxlBook = xlApp.Workbooks.Open(\\'D:/file/o/队长/周报/s/1120/1111.xlsx\\')\\n'"
      ]
     },
     "execution_count": 11,
     "metadata": {},
     "output_type": "execute_result"
    }
   ],
   "source": [
    "# 手工操作\n",
    "'''\n",
    "# 将列表按行写入\n",
    "wb_data = Workbook()\n",
    "ws_data = wb_data.create_sheet('1-队长覆盖率')\n",
    "\n",
    "for r in dataframe_to_rows(df, index=False, header=False):   #不写入DataFrame的行列索引\n",
    "    ws_data.append(r)\n",
    "    \n",
    "wb_data.save('1111.xlsx')\n",
    "\n",
    "# 写完后打开文件\n",
    "from win32com.client import Dispatch\n",
    " \n",
    "xlApp = Dispatch(\"Excel.Application\")\n",
    "xlApp.Visible = True\n",
    "xlBook = xlApp.Workbooks.Open('D:/file/o/队长/周报/s/1120/1111.xlsx')\n",
    "'''"
   ]
  },
  {
   "cell_type": "code",
   "execution_count": 12,
   "metadata": {
    "ExecuteTime": {
     "end_time": "2021-12-28T06:45:41.288971Z",
     "start_time": "2021-12-28T06:45:32.293061Z"
    }
   },
   "outputs": [
    {
     "name": "stdout",
     "output_type": "stream",
     "text": [
      "8.990922689437866s\n"
     ]
    }
   ],
   "source": [
    "\n",
    "#读取excel文件\n",
    "a = time.time()\n",
    "\n",
    "wb = load_workbook('1-队长覆盖率.xlsx') \n",
    "ws = wb['1-队长覆盖率']\n",
    "\n",
    "b = time.time()\n",
    "print(str(b-a)+'s')\n"
   ]
  },
  {
   "cell_type": "code",
   "execution_count": 13,
   "metadata": {
    "ExecuteTime": {
     "end_time": "2021-12-28T06:45:41.298970Z",
     "start_time": "2021-12-28T06:45:41.289969Z"
    }
   },
   "outputs": [],
   "source": [
    "\n",
    "# 将列表按行写入\n",
    "def write_row(index,ws,lt):\n",
    "    for i in range(len(lt)):\n",
    "        ws.cell(index,i+1).value = lt[i]\n",
    "            #选择填入某行的单元格\n",
    "# 写入raw_data\n",
    "for i in range(len(data)):\n",
    "    write_row(2+i,ws,data[i])\n"
   ]
  },
  {
   "cell_type": "markdown",
   "metadata": {},
   "source": [
    "#### 自定义写入区域"
   ]
  },
  {
   "cell_type": "code",
   "execution_count": 14,
   "metadata": {
    "ExecuteTime": {
     "end_time": "2021-12-28T06:45:48.689788Z",
     "start_time": "2021-12-28T06:45:41.299941Z"
    }
   },
   "outputs": [
    {
     "name": "stdout",
     "output_type": "stream",
     "text": [
      "7.382450819015503s\n"
     ]
    }
   ],
   "source": [
    "a = time.time()\n",
    "\n",
    "wb.save('1-队长覆盖率.xlsx')\n",
    "\n",
    "b = time.time()\n",
    "print(str(b-a)+'s')"
   ]
  },
  {
   "cell_type": "code",
   "execution_count": 15,
   "metadata": {
    "ExecuteTime": {
     "end_time": "2021-12-28T06:45:48.694795Z",
     "start_time": "2021-12-28T06:45:48.690789Z"
    }
   },
   "outputs": [
    {
     "data": {
      "text/plain": [
       "\"\\nwriter = pd.ExcelWriter('1-队长覆盖率.xlsx')\\ndf.to_excel(writer,'1-队长覆盖率',index=False)\\nwriter.save()\\n\""
      ]
     },
     "execution_count": 15,
     "metadata": {},
     "output_type": "execute_result"
    }
   ],
   "source": [
    "# 覆盖excel原内容\n",
    "'''\n",
    "writer = pd.ExcelWriter('1-队长覆盖率.xlsx')\n",
    "df.to_excel(writer,'1-队长覆盖率',index=False)\n",
    "writer.save()\n",
    "'''"
   ]
  },
  {
   "cell_type": "code",
   "execution_count": 16,
   "metadata": {
    "ExecuteTime": {
     "end_time": "2021-12-28T06:45:48.700763Z",
     "start_time": "2021-12-28T06:45:48.696772Z"
    }
   },
   "outputs": [
    {
     "data": {
      "text/plain": [
       "\"\\nfor r in dataframe_to_rows(df, index=False, header=True):\\n    ws.append(r)\\n    \\nwb.save('1-队长覆盖率.xlsx')\\n\""
      ]
     },
     "execution_count": 16,
     "metadata": {},
     "output_type": "execute_result"
    }
   ],
   "source": [
    "# 文件修复\n",
    "'''\n",
    "for r in dataframe_to_rows(df, index=False, header=True):\n",
    "    ws.append(r)\n",
    "    \n",
    "wb.save('1-队长覆盖率.xlsx')\n",
    "'''"
   ]
  },
  {
   "cell_type": "markdown",
   "metadata": {},
   "source": [
    "## 2-准出进度"
   ]
  },
  {
   "cell_type": "code",
   "execution_count": 17,
   "metadata": {
    "ExecuteTime": {
     "end_time": "2021-12-28T06:46:17.787900Z",
     "start_time": "2021-12-28T06:45:48.701759Z"
    }
   },
   "outputs": [
    {
     "name": "stdout",
     "output_type": "stream",
     "text": [
      "data_file_name: 质量不合格司机 \n"
     ]
    },
    {
     "data": {
      "text/plain": [
       "'质量不合格司机 .csv'"
      ]
     },
     "execution_count": 17,
     "metadata": {},
     "output_type": "execute_result"
    }
   ],
   "source": [
    "# 质量不合格司机\n",
    "data_path2 = input('data_file_name: ')\n",
    "data_path2 = data_path2 + '.csv'\n",
    "data_path2"
   ]
  },
  {
   "cell_type": "code",
   "execution_count": 18,
   "metadata": {
    "ExecuteTime": {
     "end_time": "2021-12-28T06:46:17.799377Z",
     "start_time": "2021-12-28T06:46:17.788897Z"
    }
   },
   "outputs": [
    {
     "data": {
      "text/plain": [
       "(617, 2)"
      ]
     },
     "execution_count": 18,
     "metadata": {},
     "output_type": "execute_result"
    }
   ],
   "source": [
    "df2 = pd.read_csv(data_path2,encoding='gbk')\n",
    "df2.shape"
   ]
  },
  {
   "cell_type": "markdown",
   "metadata": {},
   "source": [
    "#### raw_data-->excel"
   ]
  },
  {
   "cell_type": "code",
   "execution_count": 19,
   "metadata": {
    "ExecuteTime": {
     "end_time": "2021-12-28T06:46:17.804366Z",
     "start_time": "2021-12-28T06:46:17.800375Z"
    }
   },
   "outputs": [
    {
     "data": {
      "text/plain": [
       "[[563411905814530.0, 1.0],\n",
       " [580542491222819.0, 1.0],\n",
       " [580542312941934.0, 1.0],\n",
       " [566418918149901.0, 1.0],\n",
       " [580543147296916.0, 1.0]]"
      ]
     },
     "execution_count": 19,
     "metadata": {},
     "output_type": "execute_result"
    }
   ],
   "source": [
    "data2 = df2.values.tolist()\n",
    "data2[0:5]"
   ]
  },
  {
   "cell_type": "code",
   "execution_count": 20,
   "metadata": {
    "ExecuteTime": {
     "end_time": "2021-12-28T06:46:17.989868Z",
     "start_time": "2021-12-28T06:46:17.805362Z"
    }
   },
   "outputs": [],
   "source": [
    "#读取excel文件\n",
    "wb2 = load_workbook('2-准出进度.xlsx') \n",
    "ws2 = wb2['2-准出进度']"
   ]
  },
  {
   "cell_type": "code",
   "execution_count": 21,
   "metadata": {
    "ExecuteTime": {
     "end_time": "2021-12-28T06:46:18.130545Z",
     "start_time": "2021-12-28T06:46:17.990866Z"
    }
   },
   "outputs": [],
   "source": [
    "# 写入raw_data到 TU\n",
    "# 将列表按行写入\n",
    "def write_r_c(index,column,ws,lt):\n",
    "    for i in range(len(lt)):\n",
    "        ws.cell(index,column+i).value = lt[i]\n",
    "            #选择填入某行的单元格\n",
    "# 写入raw_data\n",
    "for i in range(len(data2)):\n",
    "    write_r_c(2+i,21,ws2,data2[i])   #从U列开始写\n",
    "wb2.save('2-准出进度.xlsx')    "
   ]
  },
  {
   "cell_type": "markdown",
   "metadata": {},
   "source": [
    "### 红线封禁"
   ]
  },
  {
   "cell_type": "code",
   "execution_count": 22,
   "metadata": {
    "ExecuteTime": {
     "end_time": "2021-12-28T06:46:27.652179Z",
     "start_time": "2021-12-28T06:46:18.131490Z"
    }
   },
   "outputs": [
    {
     "name": "stdout",
     "output_type": "stream",
     "text": [
      "data_file_name: shenyajun_i队长准出模版20211228142648\n"
     ]
    },
    {
     "data": {
      "text/plain": [
       "'shenyajun_i队长准出模版20211228142648.csv'"
      ]
     },
     "execution_count": 22,
     "metadata": {},
     "output_type": "execute_result"
    }
   ],
   "source": [
    "# shenyajun_i队长准出模版20211116132918\n",
    "data_path22 = input('data_file_name: ')\n",
    "data_path22 = data_path22 + '.csv'\n",
    "data_path22"
   ]
  },
  {
   "cell_type": "code",
   "execution_count": 23,
   "metadata": {
    "ExecuteTime": {
     "end_time": "2021-12-28T06:46:27.682635Z",
     "start_time": "2021-12-28T06:46:27.656163Z"
    }
   },
   "outputs": [
    {
     "data": {
      "text/plain": [
       "(1739, 17)"
      ]
     },
     "execution_count": 23,
     "metadata": {},
     "output_type": "execute_result"
    }
   ],
   "source": [
    "data_df22 = pd.read_csv(data_path22,encoding='gbk')\n",
    "data_df22.shape"
   ]
  },
  {
   "cell_type": "code",
   "execution_count": 24,
   "metadata": {
    "ExecuteTime": {
     "end_time": "2021-12-28T06:46:27.689584Z",
     "start_time": "2021-12-28T06:46:27.684597Z"
    }
   },
   "outputs": [
    {
     "data": {
      "text/plain": [
       "Index(['司机ID', '队长名字', '小队名字', '队长所属业务线', '司服经理', '城市', '区域', '是否磐石目标名单中的队长',\n",
       "       '磐石目标名单中标签', '封禁类别', '一级规则', '二级规则', '三级规则', '规则明细', '封禁操作时间', '封禁天数',\n",
       "       '司机状态'],\n",
       "      dtype='object')"
      ]
     },
     "execution_count": 24,
     "metadata": {},
     "output_type": "execute_result"
    }
   ],
   "source": [
    "data_df22.columns"
   ]
  },
  {
   "cell_type": "code",
   "execution_count": 25,
   "metadata": {
    "ExecuteTime": {
     "end_time": "2021-12-28T06:46:27.698559Z",
     "start_time": "2021-12-28T06:46:27.691579Z"
    }
   },
   "outputs": [
    {
     "data": {
      "text/plain": [
       "'2020-06-17'"
      ]
     },
     "execution_count": 25,
     "metadata": {},
     "output_type": "execute_result"
    }
   ],
   "source": [
    "# data_df22['队长所属业务线'].unique()\n",
    "date = data_df22['封禁操作时间'].unique()\n",
    "#date = list(map(lambda x:x[:4],date))\n",
    "date[4]"
   ]
  },
  {
   "cell_type": "code",
   "execution_count": 26,
   "metadata": {
    "ExecuteTime": {
     "end_time": "2021-12-28T06:46:27.706538Z",
     "start_time": "2021-12-28T06:46:27.699558Z"
    }
   },
   "outputs": [
    {
     "data": {
      "text/plain": [
       "(1739, 18)"
      ]
     },
     "execution_count": 26,
     "metadata": {},
     "output_type": "execute_result"
    }
   ],
   "source": [
    "data_df22['封禁操作时间(年)'] = list(map(lambda x:x[:4],data_df22['封禁操作时间']))\n",
    "# data_df22['(年)']  = data_df22['封禁操作时间'].apply(lambda x:x[:4])\n",
    "data_df22.shape"
   ]
  },
  {
   "cell_type": "code",
   "execution_count": 27,
   "metadata": {
    "ExecuteTime": {
     "end_time": "2021-12-28T06:46:27.712523Z",
     "start_time": "2021-12-28T06:46:27.708535Z"
    }
   },
   "outputs": [],
   "source": [
    "#time.strftime('%Y','2020/9/20' )"
   ]
  },
  {
   "cell_type": "code",
   "execution_count": 28,
   "metadata": {
    "ExecuteTime": {
     "end_time": "2021-12-28T06:46:27.723494Z",
     "start_time": "2021-12-28T06:46:27.713522Z"
    }
   },
   "outputs": [
    {
     "data": {
      "text/plain": [
       "0"
      ]
     },
     "execution_count": 28,
     "metadata": {},
     "output_type": "execute_result"
    }
   ],
   "source": [
    "# 筛选【红线封禁-长期封禁-业务线快优-触发时间为2021】的所有封禁信息；\n",
    "\n",
    "df22 = data_df22[(data_df22['封禁类别']=='红线封禁') &\\\n",
    "                    (data_df22['司机状态']=='长期封禁')&\\\n",
    "                   ((data_df22['队长所属业务线']=='快车') |(data_df22['队长所属业务线']=='优享')) & \\\n",
    "                   (data_df22['封禁操作时间(年)']=='2021')]\n",
    "\n",
    "red_num = df22.shape[0]   #红线封禁数量\n",
    "red_num"
   ]
  },
  {
   "cell_type": "code",
   "execution_count": 29,
   "metadata": {
    "ExecuteTime": {
     "end_time": "2021-12-28T06:46:27.728479Z",
     "start_time": "2021-12-28T06:46:27.724492Z"
    },
    "scrolled": true
   },
   "outputs": [
    {
     "name": "stdout",
     "output_type": "stream",
     "text": [
      "红线封禁情况： []\n"
     ]
    }
   ],
   "source": [
    "red_lt = df22['区域'].tolist()\n",
    "print('红线封禁情况： '+str(red_lt))\n"
   ]
  },
  {
   "cell_type": "code",
   "execution_count": 30,
   "metadata": {
    "ExecuteTime": {
     "end_time": "2021-12-28T06:46:27.739450Z",
     "start_time": "2021-12-28T06:46:27.729478Z"
    },
    "scrolled": true
   },
   "outputs": [
    {
     "data": {
      "text/html": [
       "<div>\n",
       "<style scoped>\n",
       "    .dataframe tbody tr th:only-of-type {\n",
       "        vertical-align: middle;\n",
       "    }\n",
       "\n",
       "    .dataframe tbody tr th {\n",
       "        vertical-align: top;\n",
       "    }\n",
       "\n",
       "    .dataframe thead th {\n",
       "        text-align: right;\n",
       "    }\n",
       "</style>\n",
       "<table border=\"1\" class=\"dataframe\">\n",
       "  <thead>\n",
       "    <tr style=\"text-align: right;\">\n",
       "      <th></th>\n",
       "      <th>司机ID</th>\n",
       "      <th>队长名字</th>\n",
       "      <th>小队名字</th>\n",
       "      <th>队长所属业务线</th>\n",
       "      <th>司服经理</th>\n",
       "      <th>城市</th>\n",
       "      <th>区域</th>\n",
       "      <th>是否磐石目标名单中的队长</th>\n",
       "      <th>磐石目标名单中标签</th>\n",
       "      <th>封禁类别</th>\n",
       "      <th>一级规则</th>\n",
       "      <th>二级规则</th>\n",
       "      <th>三级规则</th>\n",
       "      <th>规则明细</th>\n",
       "      <th>封禁操作时间</th>\n",
       "      <th>封禁天数</th>\n",
       "      <th>司机状态</th>\n",
       "      <th>封禁操作时间(年)</th>\n",
       "    </tr>\n",
       "  </thead>\n",
       "  <tbody>\n",
       "  </tbody>\n",
       "</table>\n",
       "</div>"
      ],
      "text/plain": [
       "Empty DataFrame\n",
       "Columns: [司机ID, 队长名字, 小队名字, 队长所属业务线, 司服经理, 城市, 区域, 是否磐石目标名单中的队长, 磐石目标名单中标签, 封禁类别, 一级规则, 二级规则, 三级规则, 规则明细, 封禁操作时间, 封禁天数, 司机状态, 封禁操作时间(年)]\n",
       "Index: []"
      ]
     },
     "execution_count": 30,
     "metadata": {},
     "output_type": "execute_result"
    }
   ],
   "source": [
    "df22"
   ]
  },
  {
   "cell_type": "code",
   "execution_count": 31,
   "metadata": {
    "ExecuteTime": {
     "end_time": "2021-12-28T06:46:27.792343Z",
     "start_time": "2021-12-28T06:46:27.742442Z"
    },
    "scrolled": true
   },
   "outputs": [
    {
     "data": {
      "text/html": [
       "<div>\n",
       "<style scoped>\n",
       "    .dataframe tbody tr th:only-of-type {\n",
       "        vertical-align: middle;\n",
       "    }\n",
       "\n",
       "    .dataframe tbody tr th {\n",
       "        vertical-align: top;\n",
       "    }\n",
       "\n",
       "    .dataframe thead th {\n",
       "        text-align: right;\n",
       "    }\n",
       "</style>\n",
       "<table border=\"1\" class=\"dataframe\">\n",
       "  <thead>\n",
       "    <tr style=\"text-align: right;\">\n",
       "      <th></th>\n",
       "      <th>司机ID</th>\n",
       "      <th>队长名字</th>\n",
       "      <th>小队名字</th>\n",
       "      <th>队长所属业务线</th>\n",
       "      <th>司服经理</th>\n",
       "      <th>城市</th>\n",
       "      <th>区域</th>\n",
       "      <th>是否磐石目标名单中的队长</th>\n",
       "      <th>磐石目标名单中标签</th>\n",
       "      <th>封禁类别</th>\n",
       "      <th>一级规则</th>\n",
       "      <th>二级规则</th>\n",
       "      <th>三级规则</th>\n",
       "      <th>规则明细</th>\n",
       "      <th>封禁操作时间</th>\n",
       "      <th>封禁天数</th>\n",
       "      <th>司机状态</th>\n",
       "      <th>封禁操作时间(年)</th>\n",
       "    </tr>\n",
       "  </thead>\n",
       "  <tbody>\n",
       "  </tbody>\n",
       "</table>\n",
       "</div>"
      ],
      "text/plain": [
       "Empty DataFrame\n",
       "Columns: [司机ID, 队长名字, 小队名字, 队长所属业务线, 司服经理, 城市, 区域, 是否磐石目标名单中的队长, 磐石目标名单中标签, 封禁类别, 一级规则, 二级规则, 三级规则, 规则明细, 封禁操作时间, 封禁天数, 司机状态, 封禁操作时间(年)]\n",
       "Index: []"
      ]
     },
     "execution_count": 31,
     "metadata": {},
     "output_type": "execute_result"
    }
   ],
   "source": [
    "df22.query('区域 == \"沪苏区域\"')"
   ]
  },
  {
   "cell_type": "markdown",
   "metadata": {},
   "source": [
    "## 3-司服维稳"
   ]
  },
  {
   "cell_type": "code",
   "execution_count": 32,
   "metadata": {
    "ExecuteTime": {
     "end_time": "2021-12-28T06:46:35.902027Z",
     "start_time": "2021-12-28T06:46:27.793309Z"
    }
   },
   "outputs": [
    {
     "name": "stdout",
     "output_type": "stream",
     "text": [
      "data_file_name: 84162-安全维稳核心指标监控-2.+大区概览（点击右侧齿轮小图标，可进行维度指标的选择）-20211228113611\n"
     ]
    },
    {
     "data": {
      "text/plain": [
       "'84162-安全维稳核心指标监控-2.+大区概览（点击右侧齿轮小图标，可进行维度指标的选择）-20211228113611.csv'"
      ]
     },
     "execution_count": 32,
     "metadata": {},
     "output_type": "execute_result"
    },
    {
     "name": "stderr",
     "output_type": "stream",
     "text": [
      "<ipython-input-32-3f724903d94b>:9: FutureWarning: Indexing with multiple keys (implicitly converted to a tuple of keys) will be deprecated, use a list instead.\n",
      "  data_csv = data_csv.groupby('大区')['派发应完成任务数', '规定时效内完成沟通任务数'].sum()\n"
     ]
    },
    {
     "data": {
      "text/html": [
       "<div>\n",
       "<style scoped>\n",
       "    .dataframe tbody tr th:only-of-type {\n",
       "        vertical-align: middle;\n",
       "    }\n",
       "\n",
       "    .dataframe tbody tr th {\n",
       "        vertical-align: top;\n",
       "    }\n",
       "\n",
       "    .dataframe thead th {\n",
       "        text-align: right;\n",
       "    }\n",
       "</style>\n",
       "<table border=\"1\" class=\"dataframe\">\n",
       "  <thead>\n",
       "    <tr style=\"text-align: right;\">\n",
       "      <th></th>\n",
       "      <th>大区</th>\n",
       "      <th>派发应完成任务数</th>\n",
       "      <th>规定时效内完成沟通任务数</th>\n",
       "      <th>司机沟通率</th>\n",
       "    </tr>\n",
       "  </thead>\n",
       "  <tbody>\n",
       "    <tr>\n",
       "      <th>0</th>\n",
       "      <td>中西区域</td>\n",
       "      <td>280.0</td>\n",
       "      <td>274.0</td>\n",
       "      <td>0.978571</td>\n",
       "    </tr>\n",
       "    <tr>\n",
       "      <th>1</th>\n",
       "      <td>华北区域</td>\n",
       "      <td>263.0</td>\n",
       "      <td>257.0</td>\n",
       "      <td>0.977186</td>\n",
       "    </tr>\n",
       "    <tr>\n",
       "      <th>2</th>\n",
       "      <td>华东区域</td>\n",
       "      <td>813.0</td>\n",
       "      <td>785.0</td>\n",
       "      <td>0.965560</td>\n",
       "    </tr>\n",
       "    <tr>\n",
       "      <th>3</th>\n",
       "      <td>中南区域</td>\n",
       "      <td>375.0</td>\n",
       "      <td>361.0</td>\n",
       "      <td>0.962667</td>\n",
       "    </tr>\n",
       "    <tr>\n",
       "      <th>4</th>\n",
       "      <td>沪苏区域</td>\n",
       "      <td>166.0</td>\n",
       "      <td>159.0</td>\n",
       "      <td>0.957831</td>\n",
       "    </tr>\n",
       "    <tr>\n",
       "      <th>5</th>\n",
       "      <td>鲁津冀区域</td>\n",
       "      <td>284.0</td>\n",
       "      <td>271.0</td>\n",
       "      <td>0.954225</td>\n",
       "    </tr>\n",
       "    <tr>\n",
       "      <th>6</th>\n",
       "      <td>西南区域</td>\n",
       "      <td>798.0</td>\n",
       "      <td>759.0</td>\n",
       "      <td>0.951128</td>\n",
       "    </tr>\n",
       "    <tr>\n",
       "      <th>7</th>\n",
       "      <td>广东区域</td>\n",
       "      <td>374.0</td>\n",
       "      <td>354.0</td>\n",
       "      <td>0.946524</td>\n",
       "    </tr>\n",
       "    <tr>\n",
       "      <th>8</th>\n",
       "      <td>全国</td>\n",
       "      <td>3353.0</td>\n",
       "      <td>3220.0</td>\n",
       "      <td>0.960334</td>\n",
       "    </tr>\n",
       "  </tbody>\n",
       "</table>\n",
       "</div>"
      ],
      "text/plain": [
       "      大区  派发应完成任务数  规定时效内完成沟通任务数     司机沟通率\n",
       "0   中西区域     280.0         274.0  0.978571\n",
       "1   华北区域     263.0         257.0  0.977186\n",
       "2   华东区域     813.0         785.0  0.965560\n",
       "3   中南区域     375.0         361.0  0.962667\n",
       "4   沪苏区域     166.0         159.0  0.957831\n",
       "5  鲁津冀区域     284.0         271.0  0.954225\n",
       "6   西南区域     798.0         759.0  0.951128\n",
       "7   广东区域     374.0         354.0  0.946524\n",
       "8     全国    3353.0        3220.0  0.960334"
      ]
     },
     "execution_count": 32,
     "metadata": {},
     "output_type": "execute_result"
    }
   ],
   "source": [
    "# 84162-安全维稳核心指标监控-2.+大区概览（点击右侧齿轮小图标，可进行维度指标的选择）-20211116120620\n",
    "\n",
    "data_path = input('data_file_name: ')\n",
    "data_path = data_path+'.csv'\n",
    "data_path\n",
    "\n",
    "data_csv = pd.read_csv(data_path)\n",
    "\n",
    "data_csv = data_csv.groupby('大区')['派发应完成任务数', '规定时效内完成沟通任务数'].sum()\n",
    "data_csv.loc['全国'] = data_csv.sum(axis=0)\n",
    "\n",
    "data_csv['司机沟通率'] = data_csv[['派发应完成任务数', '规定时效内完成沟通任务数']].apply(lambda x:x['规定时效内完成沟通任务数']/x['派发应完成任务数'],axis=1)  # 根据两列值新建第三列\n",
    "\n",
    "data_csv = data_csv.iloc[:-1,:].sort_values(by=['司机沟通率'],ascending=False).append(data_csv.iloc[-1])   #除最后一行外，其余行降序排列\n",
    "            #iloc索引更规范\n",
    "data_csv = data_csv.reset_index()   #pandas将索引变为列\n",
    "data_csv\n"
   ]
  },
  {
   "cell_type": "markdown",
   "metadata": {},
   "source": [
    "#### 写入excel"
   ]
  },
  {
   "cell_type": "code",
   "execution_count": 33,
   "metadata": {
    "ExecuteTime": {
     "end_time": "2021-12-28T06:46:35.974801Z",
     "start_time": "2021-12-28T06:46:35.902998Z"
    }
   },
   "outputs": [],
   "source": [
    "# data = [data_csv.columns.values.tolist()] + data_csv.values.tolist()\n",
    "\n",
    "data = data_csv.values.tolist()\n",
    "\n",
    "wb = load_workbook('3-司服维稳.xlsx') \n",
    "ws = wb['3-司服维稳']\n",
    "\n",
    "for i in range(len(data)):\n",
    "    write_row(3+i,ws,data[i])\n",
    "wb.save('3-司服维稳.xlsx')\n"
   ]
  },
  {
   "cell_type": "markdown",
   "metadata": {},
   "source": [
    "## 4-安全辅导员"
   ]
  },
  {
   "cell_type": "code",
   "execution_count": 34,
   "metadata": {
    "ExecuteTime": {
     "end_time": "2021-12-28T06:46:40.742817Z",
     "start_time": "2021-12-28T06:46:35.975799Z"
    },
    "scrolled": true
   },
   "outputs": [
    {
     "name": "stdout",
     "output_type": "stream",
     "text": [
      "data_file_name: 117146-司机侧五层治理看板-D4情绪司机相关指标（天、城市纬度）-20211228142515\n"
     ]
    },
    {
     "data": {
      "text/plain": [
       "'117146-司机侧五层治理看板-D4情绪司机相关指标（天、城市纬度）-20211228142515.csv'"
      ]
     },
     "execution_count": 34,
     "metadata": {},
     "output_type": "execute_result"
    }
   ],
   "source": [
    "# 117146-司机侧五层治理看板-D4情绪司机相关指标（天、城市纬度）-20211116104324\n",
    "data_path = input('data_file_name: ')\n",
    "data_path = data_path+'.csv'\n",
    "data_path"
   ]
  },
  {
   "cell_type": "code",
   "execution_count": 35,
   "metadata": {
    "ExecuteTime": {
     "end_time": "2021-12-28T06:46:40.755291Z",
     "start_time": "2021-12-28T06:46:40.743815Z"
    },
    "scrolled": true
   },
   "outputs": [
    {
     "data": {
      "text/html": [
       "<div>\n",
       "<style scoped>\n",
       "    .dataframe tbody tr th:only-of-type {\n",
       "        vertical-align: middle;\n",
       "    }\n",
       "\n",
       "    .dataframe tbody tr th {\n",
       "        vertical-align: top;\n",
       "    }\n",
       "\n",
       "    .dataframe thead th {\n",
       "        text-align: right;\n",
       "    }\n",
       "</style>\n",
       "<table border=\"1\" class=\"dataframe\">\n",
       "  <thead>\n",
       "    <tr style=\"text-align: right;\">\n",
       "      <th></th>\n",
       "      <th>大区</th>\n",
       "      <th>d4派发给队长任务数</th>\n",
       "      <th>d4沟通完成任务数</th>\n",
       "      <th>d4上升任务数</th>\n",
       "      <th>d4上升后安治派发任务数</th>\n",
       "    </tr>\n",
       "  </thead>\n",
       "  <tbody>\n",
       "    <tr>\n",
       "      <th>0</th>\n",
       "      <td>华东区域</td>\n",
       "      <td>3781</td>\n",
       "      <td>3566</td>\n",
       "      <td>378</td>\n",
       "      <td>144</td>\n",
       "    </tr>\n",
       "    <tr>\n",
       "      <th>1</th>\n",
       "      <td>广东区域</td>\n",
       "      <td>3390</td>\n",
       "      <td>3159</td>\n",
       "      <td>376</td>\n",
       "      <td>11</td>\n",
       "    </tr>\n",
       "    <tr>\n",
       "      <th>2</th>\n",
       "      <td>鲁津冀区域</td>\n",
       "      <td>2397</td>\n",
       "      <td>2270</td>\n",
       "      <td>230</td>\n",
       "      <td>34</td>\n",
       "    </tr>\n",
       "    <tr>\n",
       "      <th>3</th>\n",
       "      <td>西南区域</td>\n",
       "      <td>2019</td>\n",
       "      <td>1878</td>\n",
       "      <td>248</td>\n",
       "      <td>0</td>\n",
       "    </tr>\n",
       "    <tr>\n",
       "      <th>4</th>\n",
       "      <td>华北区域</td>\n",
       "      <td>1803</td>\n",
       "      <td>1722</td>\n",
       "      <td>154</td>\n",
       "      <td>59</td>\n",
       "    </tr>\n",
       "    <tr>\n",
       "      <th>5</th>\n",
       "      <td>中南区域</td>\n",
       "      <td>1732</td>\n",
       "      <td>1675</td>\n",
       "      <td>160</td>\n",
       "      <td>39</td>\n",
       "    </tr>\n",
       "    <tr>\n",
       "      <th>6</th>\n",
       "      <td>沪苏区域</td>\n",
       "      <td>1618</td>\n",
       "      <td>1451</td>\n",
       "      <td>253</td>\n",
       "      <td>5</td>\n",
       "    </tr>\n",
       "    <tr>\n",
       "      <th>7</th>\n",
       "      <td>中西区域</td>\n",
       "      <td>1370</td>\n",
       "      <td>1253</td>\n",
       "      <td>166</td>\n",
       "      <td>77</td>\n",
       "    </tr>\n",
       "  </tbody>\n",
       "</table>\n",
       "</div>"
      ],
      "text/plain": [
       "      大区  d4派发给队长任务数  d4沟通完成任务数  d4上升任务数  d4上升后安治派发任务数\n",
       "0   华东区域        3781       3566      378           144\n",
       "1   广东区域        3390       3159      376            11\n",
       "2  鲁津冀区域        2397       2270      230            34\n",
       "3   西南区域        2019       1878      248             0\n",
       "4   华北区域        1803       1722      154            59\n",
       "5   中南区域        1732       1675      160            39\n",
       "6   沪苏区域        1618       1451      253             5\n",
       "7   中西区域        1370       1253      166            77"
      ]
     },
     "execution_count": 35,
     "metadata": {},
     "output_type": "execute_result"
    }
   ],
   "source": [
    "data_csv = pd.read_csv(data_path)\n",
    "data_csv"
   ]
  },
  {
   "cell_type": "code",
   "execution_count": 36,
   "metadata": {
    "ExecuteTime": {
     "end_time": "2021-12-28T06:46:40.762272Z",
     "start_time": "2021-12-28T06:46:40.756288Z"
    }
   },
   "outputs": [
    {
     "data": {
      "text/plain": [
       "[['华东区域', 3781, 3566, 378, 144],\n",
       " ['广东区域', 3390, 3159, 376, 11],\n",
       " ['鲁津冀区域', 2397, 2270, 230, 34],\n",
       " ['西南区域', 2019, 1878, 248, 0],\n",
       " ['华北区域', 1803, 1722, 154, 59],\n",
       " ['中南区域', 1732, 1675, 160, 39],\n",
       " ['沪苏区域', 1618, 1451, 253, 5],\n",
       " ['中西区域', 1370, 1253, 166, 77]]"
      ]
     },
     "execution_count": 36,
     "metadata": {},
     "output_type": "execute_result"
    }
   ],
   "source": [
    "# data = [data_csv.columns.values.tolist()] + data_csv.values.tolist()\n",
    "data = data_csv.values.tolist()\n",
    "data"
   ]
  },
  {
   "cell_type": "code",
   "execution_count": 37,
   "metadata": {
    "ExecuteTime": {
     "end_time": "2021-12-28T06:46:40.767260Z",
     "start_time": "2021-12-28T06:46:40.763270Z"
    }
   },
   "outputs": [
    {
     "data": {
      "text/plain": [
       "'\\ndata = np.array(data_csv)  #先将数据框转换为数组\\ndata = data.tolist()  #其次转换为列表\\ndata\\n'"
      ]
     },
     "execution_count": 37,
     "metadata": {},
     "output_type": "execute_result"
    }
   ],
   "source": [
    "# DataFrame --> List\n",
    "'''\n",
    "data = np.array(data_csv)  #先将数据框转换为数组\n",
    "data = data.tolist()  #其次转换为列表\n",
    "data\n",
    "'''"
   ]
  },
  {
   "cell_type": "code",
   "execution_count": 38,
   "metadata": {
    "ExecuteTime": {
     "end_time": "2021-12-28T06:46:40.789233Z",
     "start_time": "2021-12-28T06:46:40.769256Z"
    }
   },
   "outputs": [],
   "source": [
    "wb = load_workbook('4-安全辅导员.xlsx') \n",
    "ws = wb['4-安全辅导员']"
   ]
  },
  {
   "cell_type": "code",
   "execution_count": 39,
   "metadata": {
    "ExecuteTime": {
     "end_time": "2021-12-28T06:46:40.817169Z",
     "start_time": "2021-12-28T06:46:40.790198Z"
    }
   },
   "outputs": [],
   "source": [
    "## 可以优化\n",
    "for i in range(len(data)):\n",
    "    write_row(19+i,ws,data[i])\n",
    "    \n",
    "for i in range(len(data)):\n",
    "    write_row(3+i,ws,data[i])\n",
    "wb.save('4-安全辅导员.xlsx')"
   ]
  },
  {
   "cell_type": "markdown",
   "metadata": {},
   "source": [
    "## 邮件"
   ]
  },
  {
   "cell_type": "markdown",
   "metadata": {},
   "source": [
    "> ``小队体系邮件``： \n",
    " * yh - 队长月会覆盖率\n",
    " * wc - 目标完成率\n",
    " * dc - 目标达成率"
   ]
  },
  {
   "cell_type": "markdown",
   "metadata": {},
   "source": [
    "### 队长月会覆盖率"
   ]
  },
  {
   "cell_type": "markdown",
   "metadata": {},
   "source": [
    "|df|name|\n",
    "|-|-|\n",
    "|yh_df|月会城市原数据|\n",
    "|df|放入excel跑模板的数据|\n",
    "|yh_zb|写入周报的数据|\n",
    "|yh|处理的数据--最后放入邮件|"
   ]
  },
  {
   "cell_type": "code",
   "execution_count": 40,
   "metadata": {
    "ExecuteTime": {
     "end_time": "2021-12-28T06:46:49.098827Z",
     "start_time": "2021-12-28T06:46:40.818124Z"
    }
   },
   "outputs": [
    {
     "name": "stdout",
     "output_type": "stream",
     "text": [
      "data_file_name: shenyajun_i队长月会分城市数据20211228142719\n"
     ]
    },
    {
     "data": {
      "text/plain": [
       "'shenyajun_i队长月会分城市数据20211228142719.csv'"
      ]
     },
     "execution_count": 40,
     "metadata": {},
     "output_type": "execute_result"
    }
   ],
   "source": [
    "# shenyajun_i队长月会分城市数据20211116140829\n",
    "data_path = input('data_file_name: ')\n",
    "data_path = data_path+'.csv'\n",
    "data_path"
   ]
  },
  {
   "cell_type": "code",
   "execution_count": 41,
   "metadata": {
    "ExecuteTime": {
     "end_time": "2021-12-28T06:46:54.165227Z",
     "start_time": "2021-12-28T06:46:49.099823Z"
    },
    "scrolled": true
   },
   "outputs": [
    {
     "name": "stdout",
     "output_type": "stream",
     "text": [
      "data_file_name: 月会剔除\n"
     ]
    },
    {
     "data": {
      "text/plain": [
       "'月会剔除.csv'"
      ]
     },
     "execution_count": 41,
     "metadata": {},
     "output_type": "execute_result"
    }
   ],
   "source": [
    "# 月会剔除(剔除报备的不开月会城市)\n",
    "data_path2 = input('data_file_name: ')\n",
    "data_path2 = data_path2+'.csv'\n",
    "data_path2\n"
   ]
  },
  {
   "cell_type": "code",
   "execution_count": 42,
   "metadata": {
    "ExecuteTime": {
     "end_time": "2021-12-28T06:46:54.173206Z",
     "start_time": "2021-12-28T06:46:54.166225Z"
    }
   },
   "outputs": [
    {
     "data": {
      "text/plain": [
       "Index(['城市', '不考核原因', 'Unnamed: 2'], dtype='object')"
      ]
     },
     "execution_count": 42,
     "metadata": {},
     "output_type": "execute_result"
    }
   ],
   "source": [
    "yh_df2 = pd.read_csv(data_path2,encoding='gbk')\n",
    "yh_df2.columns"
   ]
  },
  {
   "cell_type": "code",
   "execution_count": 43,
   "metadata": {
    "ExecuteTime": {
     "end_time": "2021-12-28T06:46:54.181185Z",
     "start_time": "2021-12-28T06:46:54.174203Z"
    }
   },
   "outputs": [
    {
     "data": {
      "text/plain": [
       "['黄山市', '宜春市', '崇左市', '河池市']"
      ]
     },
     "execution_count": 43,
     "metadata": {},
     "output_type": "execute_result"
    },
    {
     "data": {
      "text/plain": [
       "99"
      ]
     },
     "execution_count": 43,
     "metadata": {},
     "output_type": "execute_result"
    }
   ],
   "source": [
    "tcity = yh_df2['城市'].values.tolist()\n",
    "tcity[:4]\n",
    "len(tcity)"
   ]
  },
  {
   "cell_type": "code",
   "execution_count": 44,
   "metadata": {
    "ExecuteTime": {
     "end_time": "2021-12-28T06:46:54.242051Z",
     "start_time": "2021-12-28T06:46:54.182182Z"
    }
   },
   "outputs": [
    {
     "data": {
      "text/plain": [
       "(160, 8)"
      ]
     },
     "execution_count": 44,
     "metadata": {},
     "output_type": "execute_result"
    }
   ],
   "source": [
    "# 剔除非组织化城市\n",
    "data_path3 = '非组织化城市.xlsx'\n",
    "df_fz = pd.read_excel(data_path3)\n",
    "df_fz.shape"
   ]
  },
  {
   "cell_type": "code",
   "execution_count": 45,
   "metadata": {
    "ExecuteTime": {
     "end_time": "2021-12-28T06:46:54.248004Z",
     "start_time": "2021-12-28T06:46:54.243018Z"
    }
   },
   "outputs": [
    {
     "data": {
      "text/plain": [
       "Index(['城市编码', '城市', '城市编码.1', '城市群', '滴滴省份', '自然省份', '一级部门', '区总'], dtype='object')"
      ]
     },
     "execution_count": 45,
     "metadata": {},
     "output_type": "execute_result"
    }
   ],
   "source": [
    "df_fz.columns"
   ]
  },
  {
   "cell_type": "code",
   "execution_count": 46,
   "metadata": {
    "ExecuteTime": {
     "end_time": "2021-12-28T06:46:54.255983Z",
     "start_time": "2021-12-28T06:46:54.250001Z"
    }
   },
   "outputs": [
    {
     "data": {
      "text/plain": [
       "['杨凌示范区', '琼中黎族苗族自治县', '保亭黎族苗族自治县', '昌江黎族自治县']"
      ]
     },
     "execution_count": 46,
     "metadata": {},
     "output_type": "execute_result"
    },
    {
     "data": {
      "text/plain": [
       "160"
      ]
     },
     "execution_count": 46,
     "metadata": {},
     "output_type": "execute_result"
    }
   ],
   "source": [
    "fz_city = df_fz['城市'].values.tolist()\n",
    "fz_city[:4]\n",
    "len(fz_city)"
   ]
  },
  {
   "cell_type": "code",
   "execution_count": 47,
   "metadata": {
    "ExecuteTime": {
     "end_time": "2021-12-28T06:46:54.261969Z",
     "start_time": "2021-12-28T06:46:54.257979Z"
    }
   },
   "outputs": [],
   "source": [
    "# 分割"
   ]
  },
  {
   "cell_type": "code",
   "execution_count": 48,
   "metadata": {
    "ExecuteTime": {
     "end_time": "2021-12-28T06:46:54.272939Z",
     "start_time": "2021-12-28T06:46:54.263964Z"
    }
   },
   "outputs": [
    {
     "data": {
      "text/plain": [
       "(307, 16)"
      ]
     },
     "execution_count": 48,
     "metadata": {},
     "output_type": "execute_result"
    }
   ],
   "source": [
    "yh_df = pd.read_csv(data_path,encoding='gbk')\n",
    "yh_df.shape"
   ]
  },
  {
   "cell_type": "code",
   "execution_count": 49,
   "metadata": {
    "ExecuteTime": {
     "end_time": "2021-12-28T06:46:54.284907Z",
     "start_time": "2021-12-28T06:46:54.273937Z"
    }
   },
   "outputs": [
    {
     "data": {
      "text/plain": [
       "(159, 16)"
      ]
     },
     "execution_count": 49,
     "metadata": {},
     "output_type": "execute_result"
    }
   ],
   "source": [
    "# 筛选掉战区+停服城市\n",
    "#筛选业务线\n",
    "yh_df = yh_df[(~yh_df['城市'].isin(tcity)) & yh_df['业务'].isin(['优享','快车'])]   #pandas判断列的值不在某个列表中 --> isin()\n",
    "# 筛选非组织化司机\n",
    "yh_df = yh_df.query('城市 not in @fz_city')\n",
    "yh_df.shape"
   ]
  },
  {
   "cell_type": "code",
   "execution_count": 50,
   "metadata": {
    "ExecuteTime": {
     "end_time": "2021-12-28T06:46:54.290890Z",
     "start_time": "2021-12-28T06:46:54.285904Z"
    }
   },
   "outputs": [
    {
     "data": {
      "text/plain": [
       "\"\\n# 筛选掉战区+停服城市\\n#筛选业务线\\ndf = data_df[(~((data_df['城市']=='南京市')|(data_df['城市']=='上海市')|(data_df['城市']=='乌鲁木齐市'))) &             ( (data_df['业务']=='优享') | (data_df['业务']=='快车') )]\\ndf.shape\\n#(247, 16)\\n\""
      ]
     },
     "execution_count": 50,
     "metadata": {},
     "output_type": "execute_result"
    }
   ],
   "source": [
    "'''\n",
    "# 筛选掉战区+停服城市\n",
    "#筛选业务线\n",
    "df = data_df[(~((data_df['城市']=='南京市')|(data_df['城市']=='上海市')|(data_df['城市']=='乌鲁木齐市'))) & \\\n",
    "            ( (data_df['业务']=='优享') | (data_df['业务']=='快车') )]\n",
    "df.shape\n",
    "#(247, 16)\n",
    "'''"
   ]
  },
  {
   "cell_type": "markdown",
   "metadata": {},
   "source": [
    "#### 写入excel"
   ]
  },
  {
   "cell_type": "code",
   "execution_count": 51,
   "metadata": {
    "ExecuteTime": {
     "end_time": "2021-12-28T06:46:54.298870Z",
     "start_time": "2021-12-28T06:46:54.293883Z"
    },
    "scrolled": false
   },
   "outputs": [
    {
     "data": {
      "text/plain": [
       "Index(['大区', '城市id', '城市', '业务', '队长月会邀约人数', '队长月会到场人数', '队长人数', '当月是否已进行队长培训',\n",
       "       '到场率', '培训到场率是否>=90%', '满意度总分', '满意度问卷数量', '满意度均值', '考试总人数', '考试通过人数',\n",
       "       '考试通过率'],\n",
       "      dtype='object')"
      ]
     },
     "execution_count": 51,
     "metadata": {},
     "output_type": "execute_result"
    }
   ],
   "source": [
    "yh_df.columns"
   ]
  },
  {
   "cell_type": "code",
   "execution_count": 52,
   "metadata": {
    "ExecuteTime": {
     "end_time": "2021-12-28T06:46:54.317820Z",
     "start_time": "2021-12-28T06:46:54.299866Z"
    },
    "scrolled": true
   },
   "outputs": [
    {
     "data": {
      "text/plain": [
       "(159, 17)"
      ]
     },
     "execution_count": 52,
     "metadata": {},
     "output_type": "execute_result"
    },
    {
     "data": {
      "text/html": [
       "<div>\n",
       "<style scoped>\n",
       "    .dataframe tbody tr th:only-of-type {\n",
       "        vertical-align: middle;\n",
       "    }\n",
       "\n",
       "    .dataframe tbody tr th {\n",
       "        vertical-align: top;\n",
       "    }\n",
       "\n",
       "    .dataframe thead th {\n",
       "        text-align: right;\n",
       "    }\n",
       "</style>\n",
       "<table border=\"1\" class=\"dataframe\">\n",
       "  <thead>\n",
       "    <tr style=\"text-align: right;\">\n",
       "      <th></th>\n",
       "      <th>大区</th>\n",
       "      <th>城市id</th>\n",
       "      <th>城市</th>\n",
       "      <th>开城进度</th>\n",
       "      <th>业务</th>\n",
       "      <th>队长月会邀约人数</th>\n",
       "      <th>队长月会到场人数</th>\n",
       "      <th>队长人数</th>\n",
       "      <th>当月是否已进行队长培训</th>\n",
       "      <th>到场率</th>\n",
       "      <th>培训到场率是否&gt;=90%</th>\n",
       "      <th>满意度总分</th>\n",
       "      <th>满意度问卷数量</th>\n",
       "      <th>满意度均值</th>\n",
       "      <th>考试总人数</th>\n",
       "      <th>考试通过人数</th>\n",
       "      <th>考试通过率</th>\n",
       "    </tr>\n",
       "  </thead>\n",
       "  <tbody>\n",
       "    <tr>\n",
       "      <th>0</th>\n",
       "      <td>广东区域</td>\n",
       "      <td>2</td>\n",
       "      <td>深圳市</td>\n",
       "      <td>NaN</td>\n",
       "      <td>优享</td>\n",
       "      <td>73</td>\n",
       "      <td>66</td>\n",
       "      <td>76</td>\n",
       "      <td>1</td>\n",
       "      <td>0.868421</td>\n",
       "      <td>0</td>\n",
       "      <td>730.0</td>\n",
       "      <td>8</td>\n",
       "      <td>91.250000</td>\n",
       "      <td>66</td>\n",
       "      <td>66</td>\n",
       "      <td>1.0</td>\n",
       "    </tr>\n",
       "    <tr>\n",
       "      <th>1</th>\n",
       "      <td>中南区域</td>\n",
       "      <td>51</td>\n",
       "      <td>宜昌市</td>\n",
       "      <td>NaN</td>\n",
       "      <td>快车</td>\n",
       "      <td>38</td>\n",
       "      <td>37</td>\n",
       "      <td>38</td>\n",
       "      <td>1</td>\n",
       "      <td>0.973684</td>\n",
       "      <td>1</td>\n",
       "      <td>3520.0</td>\n",
       "      <td>37</td>\n",
       "      <td>95.135135</td>\n",
       "      <td>37</td>\n",
       "      <td>37</td>\n",
       "      <td>1.0</td>\n",
       "    </tr>\n",
       "    <tr>\n",
       "      <th>2</th>\n",
       "      <td>中南区域</td>\n",
       "      <td>6</td>\n",
       "      <td>武汉市</td>\n",
       "      <td>NaN</td>\n",
       "      <td>优享</td>\n",
       "      <td>20</td>\n",
       "      <td>20</td>\n",
       "      <td>20</td>\n",
       "      <td>1</td>\n",
       "      <td>1.000000</td>\n",
       "      <td>1</td>\n",
       "      <td>1825.0</td>\n",
       "      <td>19</td>\n",
       "      <td>96.052632</td>\n",
       "      <td>20</td>\n",
       "      <td>20</td>\n",
       "      <td>1.0</td>\n",
       "    </tr>\n",
       "    <tr>\n",
       "      <th>4</th>\n",
       "      <td>华东区域</td>\n",
       "      <td>189</td>\n",
       "      <td>亳州市</td>\n",
       "      <td>NaN</td>\n",
       "      <td>快车</td>\n",
       "      <td>12</td>\n",
       "      <td>12</td>\n",
       "      <td>12</td>\n",
       "      <td>1</td>\n",
       "      <td>1.000000</td>\n",
       "      <td>1</td>\n",
       "      <td>665.0</td>\n",
       "      <td>7</td>\n",
       "      <td>95.000000</td>\n",
       "      <td>11</td>\n",
       "      <td>11</td>\n",
       "      <td>1.0</td>\n",
       "    </tr>\n",
       "    <tr>\n",
       "      <th>8</th>\n",
       "      <td>鲁津冀区域</td>\n",
       "      <td>81</td>\n",
       "      <td>潍坊市</td>\n",
       "      <td>NaN</td>\n",
       "      <td>快车</td>\n",
       "      <td>82</td>\n",
       "      <td>73</td>\n",
       "      <td>82</td>\n",
       "      <td>1</td>\n",
       "      <td>0.890244</td>\n",
       "      <td>0</td>\n",
       "      <td>5895.0</td>\n",
       "      <td>62</td>\n",
       "      <td>95.080645</td>\n",
       "      <td>73</td>\n",
       "      <td>73</td>\n",
       "      <td>1.0</td>\n",
       "    </tr>\n",
       "  </tbody>\n",
       "</table>\n",
       "</div>"
      ],
      "text/plain": [
       "      大区  城市id   城市  开城进度  业务  队长月会邀约人数  队长月会到场人数  队长人数  当月是否已进行队长培训  \\\n",
       "0   广东区域     2  深圳市   NaN  优享        73        66    76            1   \n",
       "1   中南区域    51  宜昌市   NaN  快车        38        37    38            1   \n",
       "2   中南区域     6  武汉市   NaN  优享        20        20    20            1   \n",
       "4   华东区域   189  亳州市   NaN  快车        12        12    12            1   \n",
       "8  鲁津冀区域    81  潍坊市   NaN  快车        82        73    82            1   \n",
       "\n",
       "        到场率  培训到场率是否>=90%   满意度总分  满意度问卷数量      满意度均值  考试总人数  考试通过人数  考试通过率  \n",
       "0  0.868421             0   730.0        8  91.250000     66      66    1.0  \n",
       "1  0.973684             1  3520.0       37  95.135135     37      37    1.0  \n",
       "2  1.000000             1  1825.0       19  96.052632     20      20    1.0  \n",
       "4  1.000000             1   665.0        7  95.000000     11      11    1.0  \n",
       "8  0.890244             0  5895.0       62  95.080645     73      73    1.0  "
      ]
     },
     "execution_count": 52,
     "metadata": {},
     "output_type": "execute_result"
    }
   ],
   "source": [
    "# 需要在'业务'前多加一列\n",
    "df = yh_df.copy()\n",
    "df.insert(3,'开城进度',np.nan)\n",
    "df.shape\n",
    "df.head()"
   ]
  },
  {
   "cell_type": "code",
   "execution_count": 53,
   "metadata": {
    "ExecuteTime": {
     "end_time": "2021-12-28T06:46:54.324799Z",
     "start_time": "2021-12-28T06:46:54.318818Z"
    }
   },
   "outputs": [
    {
     "data": {
      "text/plain": [
       "[['广东区域',\n",
       "  2,\n",
       "  '深圳市',\n",
       "  nan,\n",
       "  '优享',\n",
       "  73,\n",
       "  66,\n",
       "  76,\n",
       "  1,\n",
       "  0.868421052631579,\n",
       "  0,\n",
       "  730.0,\n",
       "  8,\n",
       "  91.25,\n",
       "  66,\n",
       "  66,\n",
       "  1.0],\n",
       " ['中南区域',\n",
       "  51,\n",
       "  '宜昌市',\n",
       "  nan,\n",
       "  '快车',\n",
       "  38,\n",
       "  37,\n",
       "  38,\n",
       "  1,\n",
       "  0.9736842105263158,\n",
       "  1,\n",
       "  3520.0,\n",
       "  37,\n",
       "  95.13513513513512,\n",
       "  37,\n",
       "  37,\n",
       "  1.0]]"
      ]
     },
     "execution_count": 53,
     "metadata": {},
     "output_type": "execute_result"
    }
   ],
   "source": [
    "data = df.values.tolist()\n",
    "data[:2]"
   ]
  },
  {
   "cell_type": "code",
   "execution_count": 54,
   "metadata": {
    "ExecuteTime": {
     "end_time": "2021-12-28T06:46:54.442487Z",
     "start_time": "2021-12-28T06:46:54.325797Z"
    }
   },
   "outputs": [],
   "source": [
    "wb = load_workbook('3-队长月会.xlsx') \n",
    "ws = wb['3-队长月会']\n",
    "\n",
    "for i in range(len(data)):\n",
    "    write_row(2+i,ws,data[i])\n",
    "wb.save('3-队长月会.xlsx')"
   ]
  },
  {
   "cell_type": "code",
   "execution_count": 55,
   "metadata": {
    "ExecuteTime": {
     "end_time": "2021-12-28T06:46:54.447474Z",
     "start_time": "2021-12-28T06:46:54.444481Z"
    }
   },
   "outputs": [],
   "source": [
    "# 分割"
   ]
  },
  {
   "cell_type": "code",
   "execution_count": 56,
   "metadata": {
    "ExecuteTime": {
     "end_time": "2021-12-28T06:46:54.464430Z",
     "start_time": "2021-12-28T06:46:54.448471Z"
    },
    "scrolled": false
   },
   "outputs": [
    {
     "name": "stderr",
     "output_type": "stream",
     "text": [
      "<ipython-input-56-09e0418de391>:1: FutureWarning: Indexing with multiple keys (implicitly converted to a tuple of keys) will be deprecated, use a list instead.\n",
      "  yh = yh_df.groupby('大区')['队长月会到场人数', '队长人数'].sum()\n"
     ]
    },
    {
     "data": {
      "text/html": [
       "<div>\n",
       "<style scoped>\n",
       "    .dataframe tbody tr th:only-of-type {\n",
       "        vertical-align: middle;\n",
       "    }\n",
       "\n",
       "    .dataframe tbody tr th {\n",
       "        vertical-align: top;\n",
       "    }\n",
       "\n",
       "    .dataframe thead th {\n",
       "        text-align: right;\n",
       "    }\n",
       "</style>\n",
       "<table border=\"1\" class=\"dataframe\">\n",
       "  <thead>\n",
       "    <tr style=\"text-align: right;\">\n",
       "      <th></th>\n",
       "      <th>队长月会到场人数</th>\n",
       "      <th>队长人数</th>\n",
       "      <th>队长月会到达率</th>\n",
       "    </tr>\n",
       "    <tr>\n",
       "      <th>大区</th>\n",
       "      <th></th>\n",
       "      <th></th>\n",
       "      <th></th>\n",
       "    </tr>\n",
       "  </thead>\n",
       "  <tbody>\n",
       "    <tr>\n",
       "      <th>中南区域</th>\n",
       "      <td>1320</td>\n",
       "      <td>1585</td>\n",
       "      <td>0.832808</td>\n",
       "    </tr>\n",
       "    <tr>\n",
       "      <th>中西区域</th>\n",
       "      <td>447</td>\n",
       "      <td>609</td>\n",
       "      <td>0.733990</td>\n",
       "    </tr>\n",
       "    <tr>\n",
       "      <th>华东区域</th>\n",
       "      <td>2904</td>\n",
       "      <td>3136</td>\n",
       "      <td>0.926020</td>\n",
       "    </tr>\n",
       "    <tr>\n",
       "      <th>华北区域</th>\n",
       "      <td>1995</td>\n",
       "      <td>2227</td>\n",
       "      <td>0.895824</td>\n",
       "    </tr>\n",
       "    <tr>\n",
       "      <th>广东区域</th>\n",
       "      <td>3006</td>\n",
       "      <td>3508</td>\n",
       "      <td>0.856899</td>\n",
       "    </tr>\n",
       "    <tr>\n",
       "      <th>沪苏区域</th>\n",
       "      <td>188</td>\n",
       "      <td>199</td>\n",
       "      <td>0.944724</td>\n",
       "    </tr>\n",
       "    <tr>\n",
       "      <th>西南区域</th>\n",
       "      <td>1411</td>\n",
       "      <td>2106</td>\n",
       "      <td>0.669991</td>\n",
       "    </tr>\n",
       "    <tr>\n",
       "      <th>鲁津冀区域</th>\n",
       "      <td>521</td>\n",
       "      <td>561</td>\n",
       "      <td>0.928699</td>\n",
       "    </tr>\n",
       "    <tr>\n",
       "      <th>全国</th>\n",
       "      <td>11792</td>\n",
       "      <td>13931</td>\n",
       "      <td>0.846458</td>\n",
       "    </tr>\n",
       "  </tbody>\n",
       "</table>\n",
       "</div>"
      ],
      "text/plain": [
       "       队长月会到场人数   队长人数   队长月会到达率\n",
       "大区                              \n",
       "中南区域       1320   1585  0.832808\n",
       "中西区域        447    609  0.733990\n",
       "华东区域       2904   3136  0.926020\n",
       "华北区域       1995   2227  0.895824\n",
       "广东区域       3006   3508  0.856899\n",
       "沪苏区域        188    199  0.944724\n",
       "西南区域       1411   2106  0.669991\n",
       "鲁津冀区域       521    561  0.928699\n",
       "全国        11792  13931  0.846458"
      ]
     },
     "execution_count": 56,
     "metadata": {},
     "output_type": "execute_result"
    }
   ],
   "source": [
    "yh = yh_df.groupby('大区')['队长月会到场人数', '队长人数'].sum()\n",
    "yh.loc['全国'] = yh.sum(axis=0)\n",
    "yh['队长月会到达率'] = yh[['队长月会到场人数', '队长人数']].apply(lambda x:x['队长月会到场人数']/x['队长人数'],axis=1)  # 根据两列值新建第三列\n",
    "yh"
   ]
  },
  {
   "cell_type": "code",
   "execution_count": 57,
   "metadata": {
    "ExecuteTime": {
     "end_time": "2021-12-28T06:46:54.478390Z",
     "start_time": "2021-12-28T06:46:54.465426Z"
    },
    "scrolled": true
   },
   "outputs": [
    {
     "data": {
      "text/html": [
       "<div>\n",
       "<style scoped>\n",
       "    .dataframe tbody tr th:only-of-type {\n",
       "        vertical-align: middle;\n",
       "    }\n",
       "\n",
       "    .dataframe tbody tr th {\n",
       "        vertical-align: top;\n",
       "    }\n",
       "\n",
       "    .dataframe thead th {\n",
       "        text-align: right;\n",
       "    }\n",
       "</style>\n",
       "<table border=\"1\" class=\"dataframe\">\n",
       "  <thead>\n",
       "    <tr style=\"text-align: right;\">\n",
       "      <th></th>\n",
       "      <th>大区</th>\n",
       "      <th>队长月会到场人数</th>\n",
       "      <th>队长人数</th>\n",
       "      <th>队长月会到达率</th>\n",
       "    </tr>\n",
       "  </thead>\n",
       "  <tbody>\n",
       "    <tr>\n",
       "      <th>0</th>\n",
       "      <td>沪苏区域</td>\n",
       "      <td>188.0</td>\n",
       "      <td>199.0</td>\n",
       "      <td>0.944724</td>\n",
       "    </tr>\n",
       "    <tr>\n",
       "      <th>1</th>\n",
       "      <td>鲁津冀区域</td>\n",
       "      <td>521.0</td>\n",
       "      <td>561.0</td>\n",
       "      <td>0.928699</td>\n",
       "    </tr>\n",
       "    <tr>\n",
       "      <th>2</th>\n",
       "      <td>华东区域</td>\n",
       "      <td>2904.0</td>\n",
       "      <td>3136.0</td>\n",
       "      <td>0.926020</td>\n",
       "    </tr>\n",
       "    <tr>\n",
       "      <th>3</th>\n",
       "      <td>华北区域</td>\n",
       "      <td>1995.0</td>\n",
       "      <td>2227.0</td>\n",
       "      <td>0.895824</td>\n",
       "    </tr>\n",
       "    <tr>\n",
       "      <th>4</th>\n",
       "      <td>广东区域</td>\n",
       "      <td>3006.0</td>\n",
       "      <td>3508.0</td>\n",
       "      <td>0.856899</td>\n",
       "    </tr>\n",
       "    <tr>\n",
       "      <th>5</th>\n",
       "      <td>中南区域</td>\n",
       "      <td>1320.0</td>\n",
       "      <td>1585.0</td>\n",
       "      <td>0.832808</td>\n",
       "    </tr>\n",
       "    <tr>\n",
       "      <th>6</th>\n",
       "      <td>中西区域</td>\n",
       "      <td>447.0</td>\n",
       "      <td>609.0</td>\n",
       "      <td>0.733990</td>\n",
       "    </tr>\n",
       "    <tr>\n",
       "      <th>7</th>\n",
       "      <td>西南区域</td>\n",
       "      <td>1411.0</td>\n",
       "      <td>2106.0</td>\n",
       "      <td>0.669991</td>\n",
       "    </tr>\n",
       "    <tr>\n",
       "      <th>8</th>\n",
       "      <td>全国</td>\n",
       "      <td>11792.0</td>\n",
       "      <td>13931.0</td>\n",
       "      <td>0.846458</td>\n",
       "    </tr>\n",
       "  </tbody>\n",
       "</table>\n",
       "</div>"
      ],
      "text/plain": [
       "      大区  队长月会到场人数     队长人数   队长月会到达率\n",
       "0   沪苏区域     188.0    199.0  0.944724\n",
       "1  鲁津冀区域     521.0    561.0  0.928699\n",
       "2   华东区域    2904.0   3136.0  0.926020\n",
       "3   华北区域    1995.0   2227.0  0.895824\n",
       "4   广东区域    3006.0   3508.0  0.856899\n",
       "5   中南区域    1320.0   1585.0  0.832808\n",
       "6   中西区域     447.0    609.0  0.733990\n",
       "7   西南区域    1411.0   2106.0  0.669991\n",
       "8     全国   11792.0  13931.0  0.846458"
      ]
     },
     "execution_count": 57,
     "metadata": {},
     "output_type": "execute_result"
    }
   ],
   "source": [
    "yh = yh.iloc[:-1,:].sort_values(by=['队长月会到达率'],ascending=False).append(yh.iloc[-1])   #除最后一行外，其余行降序排列\n",
    "yh = yh.reset_index()   #pandas将索引变为列\n",
    "yh"
   ]
  },
  {
   "cell_type": "markdown",
   "metadata": {},
   "source": [
    "#### 周报cooper"
   ]
  },
  {
   "cell_type": "code",
   "execution_count": 58,
   "metadata": {
    "ExecuteTime": {
     "end_time": "2021-12-28T06:46:54.490359Z",
     "start_time": "2021-12-28T06:46:54.479388Z"
    }
   },
   "outputs": [
    {
     "data": {
      "text/html": [
       "<div>\n",
       "<style scoped>\n",
       "    .dataframe tbody tr th:only-of-type {\n",
       "        vertical-align: middle;\n",
       "    }\n",
       "\n",
       "    .dataframe tbody tr th {\n",
       "        vertical-align: top;\n",
       "    }\n",
       "\n",
       "    .dataframe thead th {\n",
       "        text-align: right;\n",
       "    }\n",
       "</style>\n",
       "<table border=\"1\" class=\"dataframe\">\n",
       "  <thead>\n",
       "    <tr style=\"text-align: right;\">\n",
       "      <th></th>\n",
       "      <th>大区</th>\n",
       "      <th>队长月会到场人数</th>\n",
       "      <th>队长人数</th>\n",
       "      <th>队长月会到达率</th>\n",
       "    </tr>\n",
       "  </thead>\n",
       "  <tbody>\n",
       "    <tr>\n",
       "      <th>0</th>\n",
       "      <td>沪苏区域</td>\n",
       "      <td>188.0</td>\n",
       "      <td>199.0</td>\n",
       "      <td>94.47%</td>\n",
       "    </tr>\n",
       "    <tr>\n",
       "      <th>1</th>\n",
       "      <td>鲁津冀区域</td>\n",
       "      <td>521.0</td>\n",
       "      <td>561.0</td>\n",
       "      <td>92.87%</td>\n",
       "    </tr>\n",
       "    <tr>\n",
       "      <th>2</th>\n",
       "      <td>华东区域</td>\n",
       "      <td>2904.0</td>\n",
       "      <td>3136.0</td>\n",
       "      <td>92.60%</td>\n",
       "    </tr>\n",
       "    <tr>\n",
       "      <th>3</th>\n",
       "      <td>华北区域</td>\n",
       "      <td>1995.0</td>\n",
       "      <td>2227.0</td>\n",
       "      <td>89.58%</td>\n",
       "    </tr>\n",
       "    <tr>\n",
       "      <th>4</th>\n",
       "      <td>广东区域</td>\n",
       "      <td>3006.0</td>\n",
       "      <td>3508.0</td>\n",
       "      <td>85.69%</td>\n",
       "    </tr>\n",
       "    <tr>\n",
       "      <th>5</th>\n",
       "      <td>中南区域</td>\n",
       "      <td>1320.0</td>\n",
       "      <td>1585.0</td>\n",
       "      <td>83.28%</td>\n",
       "    </tr>\n",
       "    <tr>\n",
       "      <th>6</th>\n",
       "      <td>中西区域</td>\n",
       "      <td>447.0</td>\n",
       "      <td>609.0</td>\n",
       "      <td>73.40%</td>\n",
       "    </tr>\n",
       "    <tr>\n",
       "      <th>7</th>\n",
       "      <td>西南区域</td>\n",
       "      <td>1411.0</td>\n",
       "      <td>2106.0</td>\n",
       "      <td>67.00%</td>\n",
       "    </tr>\n",
       "    <tr>\n",
       "      <th>8</th>\n",
       "      <td>全国</td>\n",
       "      <td>11792.0</td>\n",
       "      <td>13931.0</td>\n",
       "      <td>84.65%</td>\n",
       "    </tr>\n",
       "  </tbody>\n",
       "</table>\n",
       "</div>"
      ],
      "text/plain": [
       "      大区  队长月会到场人数     队长人数 队长月会到达率\n",
       "0   沪苏区域     188.0    199.0  94.47%\n",
       "1  鲁津冀区域     521.0    561.0  92.87%\n",
       "2   华东区域    2904.0   3136.0  92.60%\n",
       "3   华北区域    1995.0   2227.0  89.58%\n",
       "4   广东区域    3006.0   3508.0  85.69%\n",
       "5   中南区域    1320.0   1585.0  83.28%\n",
       "6   中西区域     447.0    609.0  73.40%\n",
       "7   西南区域    1411.0   2106.0  67.00%\n",
       "8     全国   11792.0  13931.0  84.65%"
      ]
     },
     "execution_count": 58,
     "metadata": {},
     "output_type": "execute_result"
    }
   ],
   "source": [
    "# 写入excel\n",
    "yh_zb = yh.copy()\n",
    "yh_zb['队长月会到达率'] = yh_zb['队长月会到达率'].map(lambda x:format(x,'.2%'))  # 设置数据格式\n",
    "# 先排序后设置数字格式为字符'.2%'\n",
    "yh_zb"
   ]
  },
  {
   "cell_type": "code",
   "execution_count": 59,
   "metadata": {
    "ExecuteTime": {
     "end_time": "2021-12-28T06:46:54.522273Z",
     "start_time": "2021-12-28T06:46:54.492352Z"
    }
   },
   "outputs": [],
   "source": [
    "wbzb = load_workbook('周报_ppt.xlsx')   # excel中设置模板格式\n",
    "wszb = wbzb['周报']\n",
    "\n",
    "wszb.append([])\n",
    "wszb.append(['{0}分区域队长月会{0}'.format('*'*20)])\n",
    "wszb.append([])\n",
    "for r in dataframe_to_rows(yh_zb, index=False, header=True):\n",
    "    wszb.append(r)\n",
    "    \n",
    "wbzb.save('周报_ppt.xlsx')  "
   ]
  },
  {
   "cell_type": "code",
   "execution_count": 60,
   "metadata": {
    "ExecuteTime": {
     "end_time": "2021-12-28T06:46:54.526264Z",
     "start_time": "2021-12-28T06:46:54.523271Z"
    }
   },
   "outputs": [],
   "source": [
    "# 分隔"
   ]
  },
  {
   "cell_type": "code",
   "execution_count": 61,
   "metadata": {
    "ExecuteTime": {
     "end_time": "2021-12-28T06:46:54.541223Z",
     "start_time": "2021-12-28T06:46:54.527260Z"
    }
   },
   "outputs": [
    {
     "name": "stderr",
     "output_type": "stream",
     "text": [
      "C:\\Users\\shenyajun_i\\Anaconda3\\lib\\site-packages\\pandas\\core\\frame.py:4441: SettingWithCopyWarning: \n",
      "A value is trying to be set on a copy of a slice from a DataFrame\n",
      "\n",
      "See the caveats in the documentation: https://pandas.pydata.org/pandas-docs/stable/user_guide/indexing.html#returning-a-view-versus-a-copy\n",
      "  return super().rename(\n"
     ]
    },
    {
     "data": {
      "text/html": [
       "<div>\n",
       "<style scoped>\n",
       "    .dataframe tbody tr th:only-of-type {\n",
       "        vertical-align: middle;\n",
       "    }\n",
       "\n",
       "    .dataframe tbody tr th {\n",
       "        vertical-align: top;\n",
       "    }\n",
       "\n",
       "    .dataframe thead th {\n",
       "        text-align: right;\n",
       "    }\n",
       "</style>\n",
       "<table border=\"1\" class=\"dataframe\">\n",
       "  <thead>\n",
       "    <tr style=\"text-align: right;\">\n",
       "      <th></th>\n",
       "      <th>区域</th>\n",
       "      <th>队长月会到达率</th>\n",
       "    </tr>\n",
       "  </thead>\n",
       "  <tbody>\n",
       "    <tr>\n",
       "      <th>0</th>\n",
       "      <td>沪苏区域</td>\n",
       "      <td>0.944724</td>\n",
       "    </tr>\n",
       "    <tr>\n",
       "      <th>1</th>\n",
       "      <td>鲁津冀区域</td>\n",
       "      <td>0.928699</td>\n",
       "    </tr>\n",
       "    <tr>\n",
       "      <th>2</th>\n",
       "      <td>华东区域</td>\n",
       "      <td>0.926020</td>\n",
       "    </tr>\n",
       "    <tr>\n",
       "      <th>3</th>\n",
       "      <td>华北区域</td>\n",
       "      <td>0.895824</td>\n",
       "    </tr>\n",
       "    <tr>\n",
       "      <th>4</th>\n",
       "      <td>广东区域</td>\n",
       "      <td>0.856899</td>\n",
       "    </tr>\n",
       "    <tr>\n",
       "      <th>5</th>\n",
       "      <td>中南区域</td>\n",
       "      <td>0.832808</td>\n",
       "    </tr>\n",
       "    <tr>\n",
       "      <th>6</th>\n",
       "      <td>中西区域</td>\n",
       "      <td>0.733990</td>\n",
       "    </tr>\n",
       "    <tr>\n",
       "      <th>7</th>\n",
       "      <td>西南区域</td>\n",
       "      <td>0.669991</td>\n",
       "    </tr>\n",
       "    <tr>\n",
       "      <th>8</th>\n",
       "      <td>全国</td>\n",
       "      <td>0.846458</td>\n",
       "    </tr>\n",
       "  </tbody>\n",
       "</table>\n",
       "</div>"
      ],
      "text/plain": [
       "      区域   队长月会到达率\n",
       "0   沪苏区域  0.944724\n",
       "1  鲁津冀区域  0.928699\n",
       "2   华东区域  0.926020\n",
       "3   华北区域  0.895824\n",
       "4   广东区域  0.856899\n",
       "5   中南区域  0.832808\n",
       "6   中西区域  0.733990\n",
       "7   西南区域  0.669991\n",
       "8     全国  0.846458"
      ]
     },
     "execution_count": 61,
     "metadata": {},
     "output_type": "execute_result"
    }
   ],
   "source": [
    "yh = yh[['大区','队长月会到达率']]   #pandas选定列组成新列\n",
    "yh.rename(columns={'大区':'区域'},inplace=True)   #修改某列列名\n",
    "yh"
   ]
  },
  {
   "cell_type": "code",
   "execution_count": 62,
   "metadata": {
    "ExecuteTime": {
     "end_time": "2021-12-28T06:46:54.547206Z",
     "start_time": "2021-12-28T06:46:54.542220Z"
    }
   },
   "outputs": [
    {
     "name": "stderr",
     "output_type": "stream",
     "text": [
      "<ipython-input-62-ce62592335e4>:1: SettingWithCopyWarning: \n",
      "A value is trying to be set on a copy of a slice from a DataFrame.\n",
      "Try using .loc[row_indexer,col_indexer] = value instead\n",
      "\n",
      "See the caveats in the documentation: https://pandas.pydata.org/pandas-docs/stable/user_guide/indexing.html#returning-a-view-versus-a-copy\n",
      "  yh['当日目标值(18日)'] = '58%'\n"
     ]
    },
    {
     "data": {
      "text/plain": [
       "Index(['区域', '队长月会到达率', '当日目标值(18日)'], dtype='object')"
      ]
     },
     "execution_count": 62,
     "metadata": {},
     "output_type": "execute_result"
    }
   ],
   "source": [
    "yh['当日目标值(18日)'] = '58%'\n",
    "yh.columns"
   ]
  },
  {
   "cell_type": "markdown",
   "metadata": {},
   "source": [
    "### 队长任务目标达成率"
   ]
  },
  {
   "cell_type": "code",
   "execution_count": 63,
   "metadata": {
    "ExecuteTime": {
     "end_time": "2021-12-28T06:47:04.441997Z",
     "start_time": "2021-12-28T06:46:54.548203Z"
    }
   },
   "outputs": [
    {
     "name": "stdout",
     "output_type": "stream",
     "text": [
      "data_file_name: shenyajun_i任务目标达成率MTD20211228142731\n"
     ]
    },
    {
     "data": {
      "text/plain": [
       "'shenyajun_i任务目标达成率MTD20211228142731.csv'"
      ]
     },
     "execution_count": 63,
     "metadata": {},
     "output_type": "execute_result"
    }
   ],
   "source": [
    "# shenyajun_i任务目标达成率MTD20211116141005\n",
    "data_path2 = input('data_file_name: ')\n",
    "data_path2 = data_path2+'.csv'\n",
    "data_path2"
   ]
  },
  {
   "cell_type": "code",
   "execution_count": 64,
   "metadata": {
    "ExecuteTime": {
     "end_time": "2021-12-28T06:47:04.453964Z",
     "start_time": "2021-12-28T06:47:04.442994Z"
    }
   },
   "outputs": [
    {
     "data": {
      "text/html": [
       "<div>\n",
       "<style scoped>\n",
       "    .dataframe tbody tr th:only-of-type {\n",
       "        vertical-align: middle;\n",
       "    }\n",
       "\n",
       "    .dataframe tbody tr th {\n",
       "        vertical-align: top;\n",
       "    }\n",
       "\n",
       "    .dataframe thead th {\n",
       "        text-align: right;\n",
       "    }\n",
       "</style>\n",
       "<table border=\"1\" class=\"dataframe\">\n",
       "  <thead>\n",
       "    <tr style=\"text-align: right;\">\n",
       "      <th></th>\n",
       "      <th>区域</th>\n",
       "      <th>目标达成率</th>\n",
       "    </tr>\n",
       "  </thead>\n",
       "  <tbody>\n",
       "    <tr>\n",
       "      <th>0</th>\n",
       "      <td>中南区域</td>\n",
       "      <td>0.625995</td>\n",
       "    </tr>\n",
       "    <tr>\n",
       "      <th>1</th>\n",
       "      <td>中西区域</td>\n",
       "      <td>0.636845</td>\n",
       "    </tr>\n",
       "    <tr>\n",
       "      <th>2</th>\n",
       "      <td>华东区域</td>\n",
       "      <td>0.400361</td>\n",
       "    </tr>\n",
       "    <tr>\n",
       "      <th>3</th>\n",
       "      <td>华北区域</td>\n",
       "      <td>0.702536</td>\n",
       "    </tr>\n",
       "    <tr>\n",
       "      <th>4</th>\n",
       "      <td>广东区域</td>\n",
       "      <td>0.638704</td>\n",
       "    </tr>\n",
       "    <tr>\n",
       "      <th>5</th>\n",
       "      <td>全国</td>\n",
       "      <td>0.606208</td>\n",
       "    </tr>\n",
       "    <tr>\n",
       "      <th>6</th>\n",
       "      <td>沪苏区域</td>\n",
       "      <td>0.631409</td>\n",
       "    </tr>\n",
       "    <tr>\n",
       "      <th>7</th>\n",
       "      <td>西南区域</td>\n",
       "      <td>0.712421</td>\n",
       "    </tr>\n",
       "    <tr>\n",
       "      <th>8</th>\n",
       "      <td>鲁津冀区域</td>\n",
       "      <td>0.677207</td>\n",
       "    </tr>\n",
       "  </tbody>\n",
       "</table>\n",
       "</div>"
      ],
      "text/plain": [
       "      区域     目标达成率\n",
       "0   中南区域  0.625995\n",
       "1   中西区域  0.636845\n",
       "2   华东区域  0.400361\n",
       "3   华北区域  0.702536\n",
       "4   广东区域  0.638704\n",
       "5     全国  0.606208\n",
       "6   沪苏区域  0.631409\n",
       "7   西南区域  0.712421\n",
       "8  鲁津冀区域  0.677207"
      ]
     },
     "execution_count": 64,
     "metadata": {},
     "output_type": "execute_result"
    }
   ],
   "source": [
    "dc = pd.read_csv(data_path2,encoding='gbk')\n",
    "dc['区域'] = dc['区域'].replace('总计','全国')\n",
    "dc"
   ]
  },
  {
   "cell_type": "markdown",
   "metadata": {},
   "source": [
    "### 队长任务完成率"
   ]
  },
  {
   "cell_type": "code",
   "execution_count": 65,
   "metadata": {
    "ExecuteTime": {
     "end_time": "2021-12-28T06:47:09.852651Z",
     "start_time": "2021-12-28T06:47:04.454960Z"
    }
   },
   "outputs": [
    {
     "name": "stdout",
     "output_type": "stream",
     "text": [
      "data_file_name: shenyajun_i快车周区域维度不分任务类型任务完成率20211228112543\n"
     ]
    },
    {
     "data": {
      "text/plain": [
       "'shenyajun_i快车周区域维度不分任务类型任务完成率20211228112543.csv'"
      ]
     },
     "execution_count": 65,
     "metadata": {},
     "output_type": "execute_result"
    }
   ],
   "source": [
    "# shenyajun_i快车周区域维度不分任务类型任务完成率20211116140936\n",
    "data_path3 = input('data_file_name: ')\n",
    "data_path3 = data_path3+'.csv'\n",
    "data_path3"
   ]
  },
  {
   "cell_type": "code",
   "execution_count": 66,
   "metadata": {
    "ExecuteTime": {
     "end_time": "2021-12-28T06:47:09.864585Z",
     "start_time": "2021-12-28T06:47:09.853615Z"
    },
    "scrolled": true
   },
   "outputs": [
    {
     "data": {
      "text/html": [
       "<div>\n",
       "<style scoped>\n",
       "    .dataframe tbody tr th:only-of-type {\n",
       "        vertical-align: middle;\n",
       "    }\n",
       "\n",
       "    .dataframe tbody tr th {\n",
       "        vertical-align: top;\n",
       "    }\n",
       "\n",
       "    .dataframe thead th {\n",
       "        text-align: right;\n",
       "    }\n",
       "</style>\n",
       "<table border=\"1\" class=\"dataframe\">\n",
       "  <thead>\n",
       "    <tr style=\"text-align: right;\">\n",
       "      <th></th>\n",
       "      <th>区域</th>\n",
       "      <th>任务完成数</th>\n",
       "      <th>任务总数</th>\n",
       "      <th>任务完成率</th>\n",
       "    </tr>\n",
       "  </thead>\n",
       "  <tbody>\n",
       "    <tr>\n",
       "      <th>0</th>\n",
       "      <td>NaN</td>\n",
       "      <td>49034</td>\n",
       "      <td>51921</td>\n",
       "      <td>0.944396</td>\n",
       "    </tr>\n",
       "    <tr>\n",
       "      <th>1</th>\n",
       "      <td>中南区域</td>\n",
       "      <td>4417</td>\n",
       "      <td>4620</td>\n",
       "      <td>0.956061</td>\n",
       "    </tr>\n",
       "    <tr>\n",
       "      <th>2</th>\n",
       "      <td>中西区域</td>\n",
       "      <td>3191</td>\n",
       "      <td>3448</td>\n",
       "      <td>0.925464</td>\n",
       "    </tr>\n",
       "    <tr>\n",
       "      <th>3</th>\n",
       "      <td>华东区域</td>\n",
       "      <td>10557</td>\n",
       "      <td>10957</td>\n",
       "      <td>0.963494</td>\n",
       "    </tr>\n",
       "    <tr>\n",
       "      <th>4</th>\n",
       "      <td>华北区域</td>\n",
       "      <td>8751</td>\n",
       "      <td>8968</td>\n",
       "      <td>0.975803</td>\n",
       "    </tr>\n",
       "    <tr>\n",
       "      <th>5</th>\n",
       "      <td>广东区域</td>\n",
       "      <td>8565</td>\n",
       "      <td>9303</td>\n",
       "      <td>0.920671</td>\n",
       "    </tr>\n",
       "    <tr>\n",
       "      <th>6</th>\n",
       "      <td>沪苏区域</td>\n",
       "      <td>5273</td>\n",
       "      <td>5660</td>\n",
       "      <td>0.931625</td>\n",
       "    </tr>\n",
       "    <tr>\n",
       "      <th>7</th>\n",
       "      <td>西南区域</td>\n",
       "      <td>4064</td>\n",
       "      <td>4581</td>\n",
       "      <td>0.887143</td>\n",
       "    </tr>\n",
       "    <tr>\n",
       "      <th>8</th>\n",
       "      <td>鲁津冀区域</td>\n",
       "      <td>4216</td>\n",
       "      <td>4384</td>\n",
       "      <td>0.961679</td>\n",
       "    </tr>\n",
       "  </tbody>\n",
       "</table>\n",
       "</div>"
      ],
      "text/plain": [
       "      区域  任务完成数   任务总数     任务完成率\n",
       "0    NaN  49034  51921  0.944396\n",
       "1   中南区域   4417   4620  0.956061\n",
       "2   中西区域   3191   3448  0.925464\n",
       "3   华东区域  10557  10957  0.963494\n",
       "4   华北区域   8751   8968  0.975803\n",
       "5   广东区域   8565   9303  0.920671\n",
       "6   沪苏区域   5273   5660  0.931625\n",
       "7   西南区域   4064   4581  0.887143\n",
       "8  鲁津冀区域   4216   4384  0.961679"
      ]
     },
     "execution_count": 66,
     "metadata": {},
     "output_type": "execute_result"
    }
   ],
   "source": [
    "wc = pd.read_csv(data_path3,encoding='gbk')\n",
    "wc"
   ]
  },
  {
   "cell_type": "code",
   "execution_count": 67,
   "metadata": {
    "ExecuteTime": {
     "end_time": "2021-12-28T06:47:09.879546Z",
     "start_time": "2021-12-28T06:47:09.865583Z"
    }
   },
   "outputs": [
    {
     "data": {
      "text/html": [
       "<div>\n",
       "<style scoped>\n",
       "    .dataframe tbody tr th:only-of-type {\n",
       "        vertical-align: middle;\n",
       "    }\n",
       "\n",
       "    .dataframe tbody tr th {\n",
       "        vertical-align: top;\n",
       "    }\n",
       "\n",
       "    .dataframe thead th {\n",
       "        text-align: right;\n",
       "    }\n",
       "</style>\n",
       "<table border=\"1\" class=\"dataframe\">\n",
       "  <thead>\n",
       "    <tr style=\"text-align: right;\">\n",
       "      <th></th>\n",
       "      <th>区域</th>\n",
       "      <th>任务完成数</th>\n",
       "      <th>任务总数</th>\n",
       "      <th>任务完成率</th>\n",
       "    </tr>\n",
       "  </thead>\n",
       "  <tbody>\n",
       "    <tr>\n",
       "      <th>4</th>\n",
       "      <td>华北区域</td>\n",
       "      <td>8751</td>\n",
       "      <td>8968</td>\n",
       "      <td>0.975803</td>\n",
       "    </tr>\n",
       "    <tr>\n",
       "      <th>3</th>\n",
       "      <td>华东区域</td>\n",
       "      <td>10557</td>\n",
       "      <td>10957</td>\n",
       "      <td>0.963494</td>\n",
       "    </tr>\n",
       "    <tr>\n",
       "      <th>8</th>\n",
       "      <td>鲁津冀区域</td>\n",
       "      <td>4216</td>\n",
       "      <td>4384</td>\n",
       "      <td>0.961679</td>\n",
       "    </tr>\n",
       "    <tr>\n",
       "      <th>1</th>\n",
       "      <td>中南区域</td>\n",
       "      <td>4417</td>\n",
       "      <td>4620</td>\n",
       "      <td>0.956061</td>\n",
       "    </tr>\n",
       "    <tr>\n",
       "      <th>6</th>\n",
       "      <td>沪苏区域</td>\n",
       "      <td>5273</td>\n",
       "      <td>5660</td>\n",
       "      <td>0.931625</td>\n",
       "    </tr>\n",
       "    <tr>\n",
       "      <th>2</th>\n",
       "      <td>中西区域</td>\n",
       "      <td>3191</td>\n",
       "      <td>3448</td>\n",
       "      <td>0.925464</td>\n",
       "    </tr>\n",
       "    <tr>\n",
       "      <th>5</th>\n",
       "      <td>广东区域</td>\n",
       "      <td>8565</td>\n",
       "      <td>9303</td>\n",
       "      <td>0.920671</td>\n",
       "    </tr>\n",
       "    <tr>\n",
       "      <th>7</th>\n",
       "      <td>西南区域</td>\n",
       "      <td>4064</td>\n",
       "      <td>4581</td>\n",
       "      <td>0.887143</td>\n",
       "    </tr>\n",
       "    <tr>\n",
       "      <th>0</th>\n",
       "      <td>全国</td>\n",
       "      <td>49034</td>\n",
       "      <td>51921</td>\n",
       "      <td>0.944396</td>\n",
       "    </tr>\n",
       "  </tbody>\n",
       "</table>\n",
       "</div>"
      ],
      "text/plain": [
       "      区域  任务完成数   任务总数     任务完成率\n",
       "4   华北区域   8751   8968  0.975803\n",
       "3   华东区域  10557  10957  0.963494\n",
       "8  鲁津冀区域   4216   4384  0.961679\n",
       "1   中南区域   4417   4620  0.956061\n",
       "6   沪苏区域   5273   5660  0.931625\n",
       "2   中西区域   3191   3448  0.925464\n",
       "5   广东区域   8565   9303  0.920671\n",
       "7   西南区域   4064   4581  0.887143\n",
       "0     全国  49034  51921  0.944396"
      ]
     },
     "execution_count": 67,
     "metadata": {},
     "output_type": "execute_result"
    }
   ],
   "source": [
    "wc['区域'] = wc['区域'].replace(np.nan,'全国')\n",
    "wc = wc.iloc[1:,:].sort_values(by=['任务完成率'],ascending=False).append(wc.iloc[0])   #除最后一行外，其余行降序排列\n",
    "wc"
   ]
  },
  {
   "cell_type": "markdown",
   "metadata": {},
   "source": [
    "#### 周报cooper"
   ]
  },
  {
   "cell_type": "code",
   "execution_count": 68,
   "metadata": {
    "ExecuteTime": {
     "end_time": "2021-12-28T06:47:09.925464Z",
     "start_time": "2021-12-28T06:47:09.887524Z"
    }
   },
   "outputs": [
    {
     "data": {
      "text/html": [
       "<div>\n",
       "<style scoped>\n",
       "    .dataframe tbody tr th:only-of-type {\n",
       "        vertical-align: middle;\n",
       "    }\n",
       "\n",
       "    .dataframe tbody tr th {\n",
       "        vertical-align: top;\n",
       "    }\n",
       "\n",
       "    .dataframe thead th {\n",
       "        text-align: right;\n",
       "    }\n",
       "</style>\n",
       "<table border=\"1\" class=\"dataframe\">\n",
       "  <thead>\n",
       "    <tr style=\"text-align: right;\">\n",
       "      <th></th>\n",
       "      <th>区域</th>\n",
       "      <th>任务完成数</th>\n",
       "      <th>任务总数</th>\n",
       "      <th>任务完成率</th>\n",
       "    </tr>\n",
       "  </thead>\n",
       "  <tbody>\n",
       "    <tr>\n",
       "      <th>4</th>\n",
       "      <td>华北区域</td>\n",
       "      <td>8751</td>\n",
       "      <td>8968</td>\n",
       "      <td>97.58%</td>\n",
       "    </tr>\n",
       "    <tr>\n",
       "      <th>3</th>\n",
       "      <td>华东区域</td>\n",
       "      <td>10557</td>\n",
       "      <td>10957</td>\n",
       "      <td>96.35%</td>\n",
       "    </tr>\n",
       "    <tr>\n",
       "      <th>8</th>\n",
       "      <td>鲁津冀区域</td>\n",
       "      <td>4216</td>\n",
       "      <td>4384</td>\n",
       "      <td>96.17%</td>\n",
       "    </tr>\n",
       "    <tr>\n",
       "      <th>1</th>\n",
       "      <td>中南区域</td>\n",
       "      <td>4417</td>\n",
       "      <td>4620</td>\n",
       "      <td>95.61%</td>\n",
       "    </tr>\n",
       "    <tr>\n",
       "      <th>6</th>\n",
       "      <td>沪苏区域</td>\n",
       "      <td>5273</td>\n",
       "      <td>5660</td>\n",
       "      <td>93.16%</td>\n",
       "    </tr>\n",
       "    <tr>\n",
       "      <th>2</th>\n",
       "      <td>中西区域</td>\n",
       "      <td>3191</td>\n",
       "      <td>3448</td>\n",
       "      <td>92.55%</td>\n",
       "    </tr>\n",
       "    <tr>\n",
       "      <th>5</th>\n",
       "      <td>广东区域</td>\n",
       "      <td>8565</td>\n",
       "      <td>9303</td>\n",
       "      <td>92.07%</td>\n",
       "    </tr>\n",
       "    <tr>\n",
       "      <th>7</th>\n",
       "      <td>西南区域</td>\n",
       "      <td>4064</td>\n",
       "      <td>4581</td>\n",
       "      <td>88.71%</td>\n",
       "    </tr>\n",
       "    <tr>\n",
       "      <th>0</th>\n",
       "      <td>全国</td>\n",
       "      <td>49034</td>\n",
       "      <td>51921</td>\n",
       "      <td>94.44%</td>\n",
       "    </tr>\n",
       "  </tbody>\n",
       "</table>\n",
       "</div>"
      ],
      "text/plain": [
       "      区域  任务完成数   任务总数   任务完成率\n",
       "4   华北区域   8751   8968  97.58%\n",
       "3   华东区域  10557  10957  96.35%\n",
       "8  鲁津冀区域   4216   4384  96.17%\n",
       "1   中南区域   4417   4620  95.61%\n",
       "6   沪苏区域   5273   5660  93.16%\n",
       "2   中西区域   3191   3448  92.55%\n",
       "5   广东区域   8565   9303  92.07%\n",
       "7   西南区域   4064   4581  88.71%\n",
       "0     全国  49034  51921  94.44%"
      ]
     },
     "execution_count": 68,
     "metadata": {},
     "output_type": "execute_result"
    }
   ],
   "source": [
    "# 写入excel\n",
    "wc_zb = wc.copy()\n",
    "wc_zb['任务完成率'] = wc_zb['任务完成率'].map(lambda x:format(x,'.2%'))   #不要随意更改原数据的格式  num--->str\n",
    "wc_zb\n",
    "\n",
    "wbzb = load_workbook('周报_ppt.xlsx')   # excel中设置模板格式\n",
    "wszb = wbzb['周报']\n",
    "\n",
    "wszb.append([])\n",
    "wszb.append(['{0}队长任务{0}'.format('*'*20)])\n",
    "wszb.append([])  #添加空列，方便复制粘贴\n",
    "for r in dataframe_to_rows(wc_zb, index=False, header=True):\n",
    "    wszb.append(r)\n",
    "\n",
    "    \n",
    "wbzb.save('周报_ppt.xlsx')  "
   ]
  },
  {
   "cell_type": "code",
   "execution_count": 69,
   "metadata": {
    "ExecuteTime": {
     "end_time": "2021-12-28T06:47:09.930408Z",
     "start_time": "2021-12-28T06:47:09.927418Z"
    }
   },
   "outputs": [],
   "source": [
    "# 分割"
   ]
  },
  {
   "cell_type": "code",
   "execution_count": 70,
   "metadata": {
    "ExecuteTime": {
     "end_time": "2021-12-28T06:47:09.944372Z",
     "start_time": "2021-12-28T06:47:09.931407Z"
    },
    "scrolled": true
   },
   "outputs": [
    {
     "data": {
      "text/html": [
       "<div>\n",
       "<style scoped>\n",
       "    .dataframe tbody tr th:only-of-type {\n",
       "        vertical-align: middle;\n",
       "    }\n",
       "\n",
       "    .dataframe tbody tr th {\n",
       "        vertical-align: top;\n",
       "    }\n",
       "\n",
       "    .dataframe thead th {\n",
       "        text-align: right;\n",
       "    }\n",
       "</style>\n",
       "<table border=\"1\" class=\"dataframe\">\n",
       "  <thead>\n",
       "    <tr style=\"text-align: right;\">\n",
       "      <th></th>\n",
       "      <th>区域</th>\n",
       "      <th>任务完成率</th>\n",
       "    </tr>\n",
       "  </thead>\n",
       "  <tbody>\n",
       "    <tr>\n",
       "      <th>4</th>\n",
       "      <td>华北区域</td>\n",
       "      <td>0.975803</td>\n",
       "    </tr>\n",
       "    <tr>\n",
       "      <th>3</th>\n",
       "      <td>华东区域</td>\n",
       "      <td>0.963494</td>\n",
       "    </tr>\n",
       "    <tr>\n",
       "      <th>8</th>\n",
       "      <td>鲁津冀区域</td>\n",
       "      <td>0.961679</td>\n",
       "    </tr>\n",
       "    <tr>\n",
       "      <th>1</th>\n",
       "      <td>中南区域</td>\n",
       "      <td>0.956061</td>\n",
       "    </tr>\n",
       "    <tr>\n",
       "      <th>6</th>\n",
       "      <td>沪苏区域</td>\n",
       "      <td>0.931625</td>\n",
       "    </tr>\n",
       "    <tr>\n",
       "      <th>2</th>\n",
       "      <td>中西区域</td>\n",
       "      <td>0.925464</td>\n",
       "    </tr>\n",
       "    <tr>\n",
       "      <th>5</th>\n",
       "      <td>广东区域</td>\n",
       "      <td>0.920671</td>\n",
       "    </tr>\n",
       "    <tr>\n",
       "      <th>7</th>\n",
       "      <td>西南区域</td>\n",
       "      <td>0.887143</td>\n",
       "    </tr>\n",
       "    <tr>\n",
       "      <th>0</th>\n",
       "      <td>全国</td>\n",
       "      <td>0.944396</td>\n",
       "    </tr>\n",
       "  </tbody>\n",
       "</table>\n",
       "</div>"
      ],
      "text/plain": [
       "      区域     任务完成率\n",
       "4   华北区域  0.975803\n",
       "3   华东区域  0.963494\n",
       "8  鲁津冀区域  0.961679\n",
       "1   中南区域  0.956061\n",
       "6   沪苏区域  0.931625\n",
       "2   中西区域  0.925464\n",
       "5   广东区域  0.920671\n",
       "7   西南区域  0.887143\n",
       "0     全国  0.944396"
      ]
     },
     "execution_count": 70,
     "metadata": {},
     "output_type": "execute_result"
    }
   ],
   "source": [
    "wc = wc[['区域','任务完成率']]\n",
    "wc"
   ]
  },
  {
   "cell_type": "code",
   "execution_count": 71,
   "metadata": {
    "ExecuteTime": {
     "end_time": "2021-12-28T06:47:09.966312Z",
     "start_time": "2021-12-28T06:47:09.946368Z"
    },
    "scrolled": true
   },
   "outputs": [
    {
     "data": {
      "text/html": [
       "<div>\n",
       "<style scoped>\n",
       "    .dataframe tbody tr th:only-of-type {\n",
       "        vertical-align: middle;\n",
       "    }\n",
       "\n",
       "    .dataframe tbody tr th {\n",
       "        vertical-align: top;\n",
       "    }\n",
       "\n",
       "    .dataframe thead th {\n",
       "        text-align: right;\n",
       "    }\n",
       "</style>\n",
       "<table border=\"1\" class=\"dataframe\">\n",
       "  <thead>\n",
       "    <tr style=\"text-align: right;\">\n",
       "      <th></th>\n",
       "      <th>区域</th>\n",
       "      <th>队长月会到达率</th>\n",
       "      <th>当日目标值(18日)</th>\n",
       "      <th>目标达成率</th>\n",
       "      <th>任务完成率</th>\n",
       "    </tr>\n",
       "  </thead>\n",
       "  <tbody>\n",
       "    <tr>\n",
       "      <th>0</th>\n",
       "      <td>沪苏区域</td>\n",
       "      <td>0.944724</td>\n",
       "      <td>58%</td>\n",
       "      <td>0.631409</td>\n",
       "      <td>0.931625</td>\n",
       "    </tr>\n",
       "    <tr>\n",
       "      <th>1</th>\n",
       "      <td>鲁津冀区域</td>\n",
       "      <td>0.928699</td>\n",
       "      <td>58%</td>\n",
       "      <td>0.677207</td>\n",
       "      <td>0.961679</td>\n",
       "    </tr>\n",
       "    <tr>\n",
       "      <th>2</th>\n",
       "      <td>华东区域</td>\n",
       "      <td>0.926020</td>\n",
       "      <td>58%</td>\n",
       "      <td>0.400361</td>\n",
       "      <td>0.963494</td>\n",
       "    </tr>\n",
       "    <tr>\n",
       "      <th>3</th>\n",
       "      <td>华北区域</td>\n",
       "      <td>0.895824</td>\n",
       "      <td>58%</td>\n",
       "      <td>0.702536</td>\n",
       "      <td>0.975803</td>\n",
       "    </tr>\n",
       "    <tr>\n",
       "      <th>4</th>\n",
       "      <td>广东区域</td>\n",
       "      <td>0.856899</td>\n",
       "      <td>58%</td>\n",
       "      <td>0.638704</td>\n",
       "      <td>0.920671</td>\n",
       "    </tr>\n",
       "    <tr>\n",
       "      <th>5</th>\n",
       "      <td>中南区域</td>\n",
       "      <td>0.832808</td>\n",
       "      <td>58%</td>\n",
       "      <td>0.625995</td>\n",
       "      <td>0.956061</td>\n",
       "    </tr>\n",
       "    <tr>\n",
       "      <th>6</th>\n",
       "      <td>中西区域</td>\n",
       "      <td>0.733990</td>\n",
       "      <td>58%</td>\n",
       "      <td>0.636845</td>\n",
       "      <td>0.925464</td>\n",
       "    </tr>\n",
       "    <tr>\n",
       "      <th>7</th>\n",
       "      <td>西南区域</td>\n",
       "      <td>0.669991</td>\n",
       "      <td>58%</td>\n",
       "      <td>0.712421</td>\n",
       "      <td>0.887143</td>\n",
       "    </tr>\n",
       "    <tr>\n",
       "      <th>8</th>\n",
       "      <td>全国</td>\n",
       "      <td>0.846458</td>\n",
       "      <td>58%</td>\n",
       "      <td>0.606208</td>\n",
       "      <td>0.944396</td>\n",
       "    </tr>\n",
       "  </tbody>\n",
       "</table>\n",
       "</div>"
      ],
      "text/plain": [
       "      区域   队长月会到达率 当日目标值(18日)     目标达成率     任务完成率\n",
       "0   沪苏区域  0.944724        58%  0.631409  0.931625\n",
       "1  鲁津冀区域  0.928699        58%  0.677207  0.961679\n",
       "2   华东区域  0.926020        58%  0.400361  0.963494\n",
       "3   华北区域  0.895824        58%  0.702536  0.975803\n",
       "4   广东区域  0.856899        58%  0.638704  0.920671\n",
       "5   中南区域  0.832808        58%  0.625995  0.956061\n",
       "6   中西区域  0.733990        58%  0.636845  0.925464\n",
       "7   西南区域  0.669991        58%  0.712421  0.887143\n",
       "8     全国  0.846458        58%  0.606208  0.944396"
      ]
     },
     "execution_count": 71,
     "metadata": {},
     "output_type": "execute_result"
    }
   ],
   "source": [
    "# 合并三个表格\n",
    "dfm11 = pd.merge(yh,dc)\n",
    "dfm11 = pd.merge(dfm11,wc)\n",
    "dfm11"
   ]
  },
  {
   "cell_type": "markdown",
   "metadata": {},
   "source": [
    "## 汇总"
   ]
  },
  {
   "cell_type": "markdown",
   "metadata": {},
   "source": [
    "|DataFrame|content|\n",
    "|-|-|\n",
    "|dfm1|小队体系-邮件1|\n",
    "|dfm2|队长准出-邮件2|\n",
    "|fg|1-队长覆盖率|\n",
    "|zc|2-准出进度|\n",
    "|wbm|邮件.xlsx（草稿）|\n",
    "|wsm1|1-队长覆盖率|\n",
    "|wsm2|2-准出进度|\n",
    "|wsm3|4-安全辅导员|\n",
    "|wbmm|周报邮件版|\n",
    "|wbzb|周报_ppt[周报]|\n",
    "|wbpp|周报_ppt[ppt]|"
   ]
  },
  {
   "cell_type": "markdown",
   "metadata": {},
   "source": [
    "### 写入``邮件.xlsx``"
   ]
  },
  {
   "cell_type": "code",
   "execution_count": 72,
   "metadata": {
    "ExecuteTime": {
     "end_time": "2021-12-28T06:47:09.972297Z",
     "start_time": "2021-12-28T06:47:09.967309Z"
    }
   },
   "outputs": [
    {
     "name": "stdout",
     "output_type": "stream",
     "text": [
      "红线封禁情况： []\n"
     ]
    }
   ],
   "source": [
    "print('红线封禁情况： '+str(red_lt))"
   ]
  },
  {
   "cell_type": "code",
   "execution_count": 73,
   "metadata": {
    "ExecuteTime": {
     "end_time": "2021-12-28T06:50:53.976995Z",
     "start_time": "2021-12-28T06:47:09.974293Z"
    }
   },
   "outputs": [
    {
     "name": "stdout",
     "output_type": "stream",
     "text": [
      "请打开【2-准出进度.xlsx】手动检查并更新红线封禁列，保存并退出:(按任意键继续)  \n"
     ]
    },
    {
     "data": {
      "text/plain": [
       "''"
      ]
     },
     "execution_count": 73,
     "metadata": {},
     "output_type": "execute_result"
    }
   ],
   "source": [
    "input('请打开【2-准出进度.xlsx】手动检查并更新红线封禁列，保存并退出:(按任意键继续)  ')"
   ]
  },
  {
   "cell_type": "code",
   "execution_count": 74,
   "metadata": {
    "ExecuteTime": {
     "end_time": "2021-12-28T06:53:03.290412Z",
     "start_time": "2021-12-28T06:50:53.977993Z"
    }
   },
   "outputs": [
    {
     "name": "stdout",
     "output_type": "stream",
     "text": [
      "请打开【1-队长覆盖率.xlsx】【4-安全辅导员.xlsx】【3-队长月会.xlsx】手动检查，保存并退出:(按任意键继续)  \n"
     ]
    },
    {
     "data": {
      "text/plain": [
       "''"
      ]
     },
     "execution_count": 74,
     "metadata": {},
     "output_type": "execute_result"
    }
   ],
   "source": [
    "input('请打开【1-队长覆盖率.xlsx】【4-安全辅导员.xlsx】【3-队长月会.xlsx】手动检查，保存并退出:(按任意键继续)  ')"
   ]
  },
  {
   "cell_type": "code",
   "execution_count": 75,
   "metadata": {
    "ExecuteTime": {
     "end_time": "2021-12-28T06:53:03.295400Z",
     "start_time": "2021-12-28T06:53:03.291408Z"
    }
   },
   "outputs": [
    {
     "data": {
      "text/plain": [
       "'\\nfrom win32com.client import Dispatch\\n \\ndef just_open(filename):\\n    xlApp = Dispatch(\"Excel.Application\")\\n    xlApp.Visible = False\\n    xlBook = xlApp.Workbooks.Open(\\'D:/file/o/队长/周报/s/1120/\\'+filename)\\n    xlBook.SaveAs(filename)\\n    xlBook.Close() \\n    '"
      ]
     },
     "execution_count": 75,
     "metadata": {},
     "output_type": "execute_result"
    }
   ],
   "source": [
    "'''\n",
    "from win32com.client import Dispatch\n",
    " \n",
    "def just_open(filename):\n",
    "    xlApp = Dispatch(\"Excel.Application\")\n",
    "    xlApp.Visible = False\n",
    "    xlBook = xlApp.Workbooks.Open('D:/file/o/队长/周报/s/1120/'+filename)\n",
    "    xlBook.SaveAs(filename)\n",
    "    xlBook.Close() \n",
    "    '''"
   ]
  },
  {
   "cell_type": "code",
   "execution_count": 76,
   "metadata": {
    "ExecuteTime": {
     "end_time": "2021-12-28T06:53:03.300386Z",
     "start_time": "2021-12-28T06:53:03.296397Z"
    }
   },
   "outputs": [],
   "source": [
    "from openpyxl import Workbook\n",
    "from openpyxl import load_workbook"
   ]
  },
  {
   "cell_type": "code",
   "execution_count": 77,
   "metadata": {
    "ExecuteTime": {
     "end_time": "2021-12-28T06:53:03.306370Z",
     "start_time": "2021-12-28T06:53:03.301382Z"
    }
   },
   "outputs": [],
   "source": [
    "path1 = '1-队长覆盖率.xlsx'\n",
    "path2 = '2-准出进度.xlsx'\n",
    "path3 = '3-司服维稳.xlsx'  #没有用到\n",
    "path03 = '3-队长月会.xlsx'\n",
    "path4 = '4-安全辅导员.xlsx'\n",
    "wbm = Workbook()"
   ]
  },
  {
   "cell_type": "code",
   "execution_count": 78,
   "metadata": {
    "ExecuteTime": {
     "end_time": "2021-12-28T06:53:03.313351Z",
     "start_time": "2021-12-28T06:53:03.307366Z"
    }
   },
   "outputs": [],
   "source": [
    "def write_cells(cells,ws):\n",
    "    for row in cells:\n",
    "        ws.append([i.value for i in row])\n",
    "    ws.append([])"
   ]
  },
  {
   "cell_type": "code",
   "execution_count": 79,
   "metadata": {
    "ExecuteTime": {
     "end_time": "2021-12-28T06:53:03.319334Z",
     "start_time": "2021-12-28T06:53:03.314347Z"
    }
   },
   "outputs": [
    {
     "data": {
      "text/plain": [
       "\"\\nfrom xlrd import open_workbook\\nimport xlwt\\nfrom xlutils.copy import copy\\n\\nrb = open_workbook(path1,formatting_info=True)\\nrs = rb.sheet_by_name('1-队长覆盖率')\\n\\nwb1 = copy(rb)\\nws1 = wb1.get_sheet(0)\\n\\ncover1 = ws1['S1:AG10']  #队长覆盖\\ncover2 = ws1['AM1:AM2']  #城市覆盖率超过95%\\ncover3 = ws1['AO1:AT21']  #城市覆盖率\\n\\n# 将结果写入到新的excel\\nwsm1 = wbm.create_sheet('1-队长覆盖率')\\nwrite_cells(cover1, wsm1)\\nwrite_cells(cover2, wsm1)\\nwrite_cells(cover3, wsm1)\\nwbm.save('邮件.xlsx')\\n\""
      ]
     },
     "execution_count": 79,
     "metadata": {},
     "output_type": "execute_result"
    }
   ],
   "source": [
    "'''\n",
    "from xlrd import open_workbook\n",
    "import xlwt\n",
    "from xlutils.copy import copy\n",
    "\n",
    "rb = open_workbook(path1,formatting_info=True)\n",
    "rs = rb.sheet_by_name('1-队长覆盖率')\n",
    "\n",
    "wb1 = copy(rb)\n",
    "ws1 = wb1.get_sheet(0)\n",
    "\n",
    "cover1 = ws1['S1:AG10']  #队长覆盖\n",
    "cover2 = ws1['AM1:AM2']  #城市覆盖率超过95%\n",
    "cover3 = ws1['AO1:AT21']  #城市覆盖率\n",
    "\n",
    "# 将结果写入到新的excel\n",
    "wsm1 = wbm.create_sheet('1-队长覆盖率')\n",
    "write_cells(cover1, wsm1)\n",
    "write_cells(cover2, wsm1)\n",
    "write_cells(cover3, wsm1)\n",
    "wbm.save('邮件.xlsx')\n",
    "'''"
   ]
  },
  {
   "cell_type": "code",
   "execution_count": 80,
   "metadata": {
    "ExecuteTime": {
     "end_time": "2021-12-28T06:53:03.400156Z",
     "start_time": "2021-12-28T06:53:03.320332Z"
    }
   },
   "outputs": [],
   "source": [
    "wb1 = load_workbook(path1,data_only=True, read_only=True)\n",
    "ws1 = wb1['1-队长覆盖率']\n",
    "\n",
    "\n",
    "cover1 = ws1['S1:AD10']  #队长覆盖\n",
    "cover2 = ws1['AM1:AM2']  #城市覆盖率超过95%\n",
    "cover3 = ws1['AO1:AX21']  #城市覆盖率\n",
    "\n",
    "# 将结果写入到新的excel\n",
    "wsm1 = wbm.create_sheet('1-队长覆盖率')\n",
    "wsm12 = wbm.create_sheet('111-队长覆盖率')\n",
    "write_cells(cover1, wsm12)\n",
    "write_cells(cover2, wsm12)\n",
    "write_cells(cover3, wsm12)\n",
    "write_cells(cover1, wsm1)\n",
    "wbm.save('邮件.xlsx')"
   ]
  },
  {
   "cell_type": "code",
   "execution_count": 81,
   "metadata": {
    "ExecuteTime": {
     "end_time": "2021-12-28T06:53:04.075534Z",
     "start_time": "2021-12-28T06:53:03.401115Z"
    }
   },
   "outputs": [],
   "source": [
    "wb2 = load_workbook(path2,data_only=True)\n",
    "ws2 = wb2['2-准出进度']\n",
    "\n",
    "out2 = ws2['A1:S11']  #队长覆盖\n",
    "\n",
    "# 将结果写入到新的excel\n",
    "wsm2 = wbm.create_sheet('2-准出进度')\n",
    "write_cells(out2, wsm2)\n",
    "wbm.save('邮件.xlsx')"
   ]
  },
  {
   "cell_type": "code",
   "execution_count": 82,
   "metadata": {
    "ExecuteTime": {
     "end_time": "2021-12-28T06:53:04.185240Z",
     "start_time": "2021-12-28T06:53:04.076532Z"
    }
   },
   "outputs": [],
   "source": [
    "wb03 = load_workbook(path03,data_only=True)\n",
    "ws03 = wb03['3-队长月会']\n",
    "\n",
    "out03 = ws03['S3:Y12']  #队长覆盖\n",
    "\n",
    "# 将结果写入到新的excel\n",
    "wsm03 = wbm.create_sheet('3-队长月会')\n",
    "write_cells(out03, wsm03)\n",
    "wbm.save('邮件.xlsx')"
   ]
  },
  {
   "cell_type": "code",
   "execution_count": 83,
   "metadata": {
    "ExecuteTime": {
     "end_time": "2021-12-28T06:53:04.191227Z",
     "start_time": "2021-12-28T06:53:04.186239Z"
    }
   },
   "outputs": [
    {
     "data": {
      "text/plain": [
       "\"\\nwb3 = load_workbook(path3,data_only=True)\\nws3 = wb3['3-安全维稳']\\n\\nout3 = ws3['A1:S11']  #队长覆盖\\n\\n# 将结果写入到新的excel\\nwsm3 = wbm.create_sheet('3-安全维稳')\\nwrite_cells(out3, wsm3)\\nwbm.save('邮件.xlsx')\\n\""
      ]
     },
     "execution_count": 83,
     "metadata": {},
     "output_type": "execute_result"
    }
   ],
   "source": [
    "# 截图 不需要数据\n",
    "'''\n",
    "wb3 = load_workbook(path3,data_only=True)\n",
    "ws3 = wb3['3-安全维稳']\n",
    "\n",
    "out3 = ws3['A1:S11']  #队长覆盖\n",
    "\n",
    "# 将结果写入到新的excel\n",
    "wsm3 = wbm.create_sheet('3-安全维稳')\n",
    "write_cells(out3, wsm3)\n",
    "wbm.save('邮件.xlsx')\n",
    "'''"
   ]
  },
  {
   "cell_type": "code",
   "execution_count": 84,
   "metadata": {
    "ExecuteTime": {
     "end_time": "2021-12-28T06:53:04.258047Z",
     "start_time": "2021-12-28T06:53:04.192224Z"
    }
   },
   "outputs": [],
   "source": [
    "wb4 = load_workbook(path4,data_only=True)\n",
    "ws4 = wb4['4-安全辅导员']\n",
    "\n",
    "out4 = ws4['A2:I11']  #队长覆盖\n",
    "\n",
    "# 将结果写入到新的excel\n",
    "wsm4 = wbm.create_sheet('4-安全辅导员')\n",
    "write_cells(out4, wsm4)\n",
    "wbm.save('邮件.xlsx')"
   ]
  },
  {
   "cell_type": "markdown",
   "metadata": {},
   "source": [
    "### 队长覆盖率"
   ]
  },
  {
   "cell_type": "code",
   "execution_count": 85,
   "metadata": {
    "ExecuteTime": {
     "end_time": "2021-12-28T06:53:04.273006Z",
     "start_time": "2021-12-28T06:53:04.259044Z"
    }
   },
   "outputs": [
    {
     "data": {
      "text/html": [
       "<div>\n",
       "<style scoped>\n",
       "    .dataframe tbody tr th:only-of-type {\n",
       "        vertical-align: middle;\n",
       "    }\n",
       "\n",
       "    .dataframe tbody tr th {\n",
       "        vertical-align: top;\n",
       "    }\n",
       "\n",
       "    .dataframe thead th {\n",
       "        text-align: right;\n",
       "    }\n",
       "</style>\n",
       "<table border=\"1\" class=\"dataframe\">\n",
       "  <thead>\n",
       "    <tr style=\"text-align: right;\">\n",
       "      <th></th>\n",
       "      <th>0</th>\n",
       "      <th>1</th>\n",
       "      <th>2</th>\n",
       "      <th>3</th>\n",
       "      <th>4</th>\n",
       "      <th>5</th>\n",
       "      <th>6</th>\n",
       "      <th>7</th>\n",
       "      <th>8</th>\n",
       "      <th>9</th>\n",
       "      <th>10</th>\n",
       "      <th>11</th>\n",
       "    </tr>\n",
       "  </thead>\n",
       "  <tbody>\n",
       "    <tr>\n",
       "      <th>0</th>\n",
       "      <td>大区</td>\n",
       "      <td>整体覆盖率</td>\n",
       "      <td>目标对公</td>\n",
       "      <td>对公</td>\n",
       "      <td>对公覆盖率</td>\n",
       "      <td>目标橘子</td>\n",
       "      <td>橘子</td>\n",
       "      <td>橘子覆盖率</td>\n",
       "      <td>已有队长</td>\n",
       "      <td>杰出队长</td>\n",
       "      <td>普通队长</td>\n",
       "      <td>预备役队长</td>\n",
       "    </tr>\n",
       "    <tr>\n",
       "      <th>1</th>\n",
       "      <td>中西区域</td>\n",
       "      <td>0.948159</td>\n",
       "      <td>26436</td>\n",
       "      <td>25321</td>\n",
       "      <td>0.957823</td>\n",
       "      <td>46228</td>\n",
       "      <td>43576</td>\n",
       "      <td>0.942632</td>\n",
       "      <td>1449</td>\n",
       "      <td>226</td>\n",
       "      <td>1219</td>\n",
       "      <td>6</td>\n",
       "    </tr>\n",
       "    <tr>\n",
       "      <th>2</th>\n",
       "      <td>中南区域</td>\n",
       "      <td>0.97282</td>\n",
       "      <td>29999</td>\n",
       "      <td>29373</td>\n",
       "      <td>0.979133</td>\n",
       "      <td>68896</td>\n",
       "      <td>66834</td>\n",
       "      <td>0.970071</td>\n",
       "      <td>2065</td>\n",
       "      <td>258</td>\n",
       "      <td>1788</td>\n",
       "      <td>19</td>\n",
       "    </tr>\n",
       "    <tr>\n",
       "      <th>3</th>\n",
       "      <td>西南区域</td>\n",
       "      <td>0.889253</td>\n",
       "      <td>30527</td>\n",
       "      <td>23852</td>\n",
       "      <td>0.781341</td>\n",
       "      <td>115788</td>\n",
       "      <td>106259</td>\n",
       "      <td>0.917703</td>\n",
       "      <td>2945</td>\n",
       "      <td>410</td>\n",
       "      <td>2478</td>\n",
       "      <td>58</td>\n",
       "    </tr>\n",
       "    <tr>\n",
       "      <th>4</th>\n",
       "      <td>鲁津冀区域</td>\n",
       "      <td>0.966608</td>\n",
       "      <td>26424</td>\n",
       "      <td>25142</td>\n",
       "      <td>0.951483</td>\n",
       "      <td>72492</td>\n",
       "      <td>70471</td>\n",
       "      <td>0.972121</td>\n",
       "      <td>1846</td>\n",
       "      <td>271</td>\n",
       "      <td>1552</td>\n",
       "      <td>23</td>\n",
       "    </tr>\n",
       "    <tr>\n",
       "      <th>5</th>\n",
       "      <td>华东区域</td>\n",
       "      <td>0.940986</td>\n",
       "      <td>49151</td>\n",
       "      <td>45625</td>\n",
       "      <td>0.928262</td>\n",
       "      <td>123570</td>\n",
       "      <td>116903</td>\n",
       "      <td>0.946047</td>\n",
       "      <td>3295</td>\n",
       "      <td>0</td>\n",
       "      <td>3149</td>\n",
       "      <td>146</td>\n",
       "    </tr>\n",
       "    <tr>\n",
       "      <th>6</th>\n",
       "      <td>华北区域</td>\n",
       "      <td>0.961494</td>\n",
       "      <td>21440</td>\n",
       "      <td>20151</td>\n",
       "      <td>0.939879</td>\n",
       "      <td>99138</td>\n",
       "      <td>95784</td>\n",
       "      <td>0.966168</td>\n",
       "      <td>2542</td>\n",
       "      <td>28</td>\n",
       "      <td>2410</td>\n",
       "      <td>104</td>\n",
       "    </tr>\n",
       "    <tr>\n",
       "      <th>7</th>\n",
       "      <td>沪苏区域</td>\n",
       "      <td>0.969182</td>\n",
       "      <td>12804</td>\n",
       "      <td>12146</td>\n",
       "      <td>0.94861</td>\n",
       "      <td>37199</td>\n",
       "      <td>36316</td>\n",
       "      <td>0.976263</td>\n",
       "      <td>989</td>\n",
       "      <td>124</td>\n",
       "      <td>865</td>\n",
       "      <td>0</td>\n",
       "    </tr>\n",
       "    <tr>\n",
       "      <th>8</th>\n",
       "      <td>广东区域</td>\n",
       "      <td>0.959594</td>\n",
       "      <td>50376</td>\n",
       "      <td>47913</td>\n",
       "      <td>0.951108</td>\n",
       "      <td>161598</td>\n",
       "      <td>155496</td>\n",
       "      <td>0.96224</td>\n",
       "      <td>4053</td>\n",
       "      <td>299</td>\n",
       "      <td>3728</td>\n",
       "      <td>26</td>\n",
       "    </tr>\n",
       "    <tr>\n",
       "      <th>9</th>\n",
       "      <td>全国</td>\n",
       "      <td>0.947633</td>\n",
       "      <td>247157</td>\n",
       "      <td>229523</td>\n",
       "      <td>0.928653</td>\n",
       "      <td>724909</td>\n",
       "      <td>691639</td>\n",
       "      <td>0.954105</td>\n",
       "      <td>19184</td>\n",
       "      <td>1616</td>\n",
       "      <td>17189</td>\n",
       "      <td>382</td>\n",
       "    </tr>\n",
       "  </tbody>\n",
       "</table>\n",
       "</div>"
      ],
      "text/plain": [
       "      0         1       2       3         4       5       6         7      8   \\\n",
       "0     大区     整体覆盖率    目标对公      对公     对公覆盖率    目标橘子      橘子     橘子覆盖率   已有队长   \n",
       "1   中西区域  0.948159   26436   25321  0.957823   46228   43576  0.942632   1449   \n",
       "2   中南区域   0.97282   29999   29373  0.979133   68896   66834  0.970071   2065   \n",
       "3   西南区域  0.889253   30527   23852  0.781341  115788  106259  0.917703   2945   \n",
       "4  鲁津冀区域  0.966608   26424   25142  0.951483   72492   70471  0.972121   1846   \n",
       "5   华东区域  0.940986   49151   45625  0.928262  123570  116903  0.946047   3295   \n",
       "6   华北区域  0.961494   21440   20151  0.939879   99138   95784  0.966168   2542   \n",
       "7   沪苏区域  0.969182   12804   12146   0.94861   37199   36316  0.976263    989   \n",
       "8   广东区域  0.959594   50376   47913  0.951108  161598  155496   0.96224   4053   \n",
       "9     全国  0.947633  247157  229523  0.928653  724909  691639  0.954105  19184   \n",
       "\n",
       "     9      10     11  \n",
       "0  杰出队长   普通队长  预备役队长  \n",
       "1   226   1219      6  \n",
       "2   258   1788     19  \n",
       "3   410   2478     58  \n",
       "4   271   1552     23  \n",
       "5     0   3149    146  \n",
       "6    28   2410    104  \n",
       "7   124    865      0  \n",
       "8   299   3728     26  \n",
       "9  1616  17189    382  "
      ]
     },
     "execution_count": 85,
     "metadata": {},
     "output_type": "execute_result"
    }
   ],
   "source": [
    "fg = pd.DataFrame(wsm1.values)\n",
    "fg"
   ]
  },
  {
   "cell_type": "code",
   "execution_count": 86,
   "metadata": {
    "ExecuteTime": {
     "end_time": "2021-12-28T06:53:04.287966Z",
     "start_time": "2021-12-28T06:53:04.275003Z"
    }
   },
   "outputs": [
    {
     "data": {
      "text/html": [
       "<div>\n",
       "<style scoped>\n",
       "    .dataframe tbody tr th:only-of-type {\n",
       "        vertical-align: middle;\n",
       "    }\n",
       "\n",
       "    .dataframe tbody tr th {\n",
       "        vertical-align: top;\n",
       "    }\n",
       "\n",
       "    .dataframe thead th {\n",
       "        text-align: right;\n",
       "    }\n",
       "</style>\n",
       "<table border=\"1\" class=\"dataframe\">\n",
       "  <thead>\n",
       "    <tr style=\"text-align: right;\">\n",
       "      <th></th>\n",
       "      <th>区域</th>\n",
       "      <th>整体覆盖率</th>\n",
       "      <th>目标对公</th>\n",
       "      <th>对公</th>\n",
       "      <th>对公覆盖率</th>\n",
       "      <th>目标橘子</th>\n",
       "      <th>橘子</th>\n",
       "      <th>橘子覆盖率</th>\n",
       "      <th>已有队长</th>\n",
       "      <th>杰出队长</th>\n",
       "      <th>普通队长</th>\n",
       "      <th>预备役队长</th>\n",
       "    </tr>\n",
       "  </thead>\n",
       "  <tbody>\n",
       "    <tr>\n",
       "      <th>1</th>\n",
       "      <td>中西区域</td>\n",
       "      <td>0.948159</td>\n",
       "      <td>26436</td>\n",
       "      <td>25321</td>\n",
       "      <td>0.957823</td>\n",
       "      <td>46228</td>\n",
       "      <td>43576</td>\n",
       "      <td>0.942632</td>\n",
       "      <td>1449</td>\n",
       "      <td>226</td>\n",
       "      <td>1219</td>\n",
       "      <td>6</td>\n",
       "    </tr>\n",
       "    <tr>\n",
       "      <th>2</th>\n",
       "      <td>中南区域</td>\n",
       "      <td>0.97282</td>\n",
       "      <td>29999</td>\n",
       "      <td>29373</td>\n",
       "      <td>0.979133</td>\n",
       "      <td>68896</td>\n",
       "      <td>66834</td>\n",
       "      <td>0.970071</td>\n",
       "      <td>2065</td>\n",
       "      <td>258</td>\n",
       "      <td>1788</td>\n",
       "      <td>19</td>\n",
       "    </tr>\n",
       "  </tbody>\n",
       "</table>\n",
       "</div>"
      ],
      "text/plain": [
       "0    区域     整体覆盖率   目标对公     对公     对公覆盖率   目标橘子     橘子     橘子覆盖率  已有队长 杰出队长  \\\n",
       "1  中西区域  0.948159  26436  25321  0.957823  46228  43576  0.942632  1449  226   \n",
       "2  中南区域   0.97282  29999  29373  0.979133  68896  66834  0.970071  2065  258   \n",
       "\n",
       "0  普通队长 预备役队长  \n",
       "1  1219     6  \n",
       "2  1788    19  "
      ]
     },
     "execution_count": 86,
     "metadata": {},
     "output_type": "execute_result"
    }
   ],
   "source": [
    "fg.set_axis(fg.iloc[0],axis=1,inplace=True)  #将某一行设置为行索引\n",
    "fg = fg.drop(index=0) #drop掉第1行\n",
    "fg.rename(columns={'大区':'区域'},inplace=True)\n",
    "fg.head(2)"
   ]
  },
  {
   "cell_type": "markdown",
   "metadata": {},
   "source": [
    "#### ppt"
   ]
  },
  {
   "cell_type": "code",
   "execution_count": 87,
   "metadata": {
    "ExecuteTime": {
     "end_time": "2021-12-28T06:53:04.314930Z",
     "start_time": "2021-12-28T06:53:04.289963Z"
    }
   },
   "outputs": [
    {
     "data": {
      "text/html": [
       "<div>\n",
       "<style scoped>\n",
       "    .dataframe tbody tr th:only-of-type {\n",
       "        vertical-align: middle;\n",
       "    }\n",
       "\n",
       "    .dataframe tbody tr th {\n",
       "        vertical-align: top;\n",
       "    }\n",
       "\n",
       "    .dataframe thead th {\n",
       "        text-align: right;\n",
       "    }\n",
       "</style>\n",
       "<table border=\"1\" class=\"dataframe\">\n",
       "  <thead>\n",
       "    <tr style=\"text-align: right;\">\n",
       "      <th></th>\n",
       "      <th>区域</th>\n",
       "      <th>整体覆盖率</th>\n",
       "      <th>目标对公</th>\n",
       "      <th>对公</th>\n",
       "      <th>对公覆盖率</th>\n",
       "      <th>目标橘子</th>\n",
       "      <th>橘子</th>\n",
       "      <th>橘子覆盖率</th>\n",
       "      <th>已有队长</th>\n",
       "      <th>杰出队长</th>\n",
       "      <th>普通队长</th>\n",
       "      <th>预备役队长</th>\n",
       "    </tr>\n",
       "  </thead>\n",
       "  <tbody>\n",
       "    <tr>\n",
       "      <th>2</th>\n",
       "      <td>中南区域</td>\n",
       "      <td>0.97282</td>\n",
       "      <td>29999</td>\n",
       "      <td>29373</td>\n",
       "      <td>0.979133</td>\n",
       "      <td>68896</td>\n",
       "      <td>66834</td>\n",
       "      <td>0.970071</td>\n",
       "      <td>2065</td>\n",
       "      <td>258</td>\n",
       "      <td>1788</td>\n",
       "      <td>19</td>\n",
       "    </tr>\n",
       "    <tr>\n",
       "      <th>7</th>\n",
       "      <td>沪苏区域</td>\n",
       "      <td>0.969182</td>\n",
       "      <td>12804</td>\n",
       "      <td>12146</td>\n",
       "      <td>0.94861</td>\n",
       "      <td>37199</td>\n",
       "      <td>36316</td>\n",
       "      <td>0.976263</td>\n",
       "      <td>989</td>\n",
       "      <td>124</td>\n",
       "      <td>865</td>\n",
       "      <td>0</td>\n",
       "    </tr>\n",
       "    <tr>\n",
       "      <th>4</th>\n",
       "      <td>鲁津冀区域</td>\n",
       "      <td>0.966608</td>\n",
       "      <td>26424</td>\n",
       "      <td>25142</td>\n",
       "      <td>0.951483</td>\n",
       "      <td>72492</td>\n",
       "      <td>70471</td>\n",
       "      <td>0.972121</td>\n",
       "      <td>1846</td>\n",
       "      <td>271</td>\n",
       "      <td>1552</td>\n",
       "      <td>23</td>\n",
       "    </tr>\n",
       "    <tr>\n",
       "      <th>6</th>\n",
       "      <td>华北区域</td>\n",
       "      <td>0.961494</td>\n",
       "      <td>21440</td>\n",
       "      <td>20151</td>\n",
       "      <td>0.939879</td>\n",
       "      <td>99138</td>\n",
       "      <td>95784</td>\n",
       "      <td>0.966168</td>\n",
       "      <td>2542</td>\n",
       "      <td>28</td>\n",
       "      <td>2410</td>\n",
       "      <td>104</td>\n",
       "    </tr>\n",
       "    <tr>\n",
       "      <th>8</th>\n",
       "      <td>广东区域</td>\n",
       "      <td>0.959594</td>\n",
       "      <td>50376</td>\n",
       "      <td>47913</td>\n",
       "      <td>0.951108</td>\n",
       "      <td>161598</td>\n",
       "      <td>155496</td>\n",
       "      <td>0.96224</td>\n",
       "      <td>4053</td>\n",
       "      <td>299</td>\n",
       "      <td>3728</td>\n",
       "      <td>26</td>\n",
       "    </tr>\n",
       "    <tr>\n",
       "      <th>1</th>\n",
       "      <td>中西区域</td>\n",
       "      <td>0.948159</td>\n",
       "      <td>26436</td>\n",
       "      <td>25321</td>\n",
       "      <td>0.957823</td>\n",
       "      <td>46228</td>\n",
       "      <td>43576</td>\n",
       "      <td>0.942632</td>\n",
       "      <td>1449</td>\n",
       "      <td>226</td>\n",
       "      <td>1219</td>\n",
       "      <td>6</td>\n",
       "    </tr>\n",
       "    <tr>\n",
       "      <th>5</th>\n",
       "      <td>华东区域</td>\n",
       "      <td>0.940986</td>\n",
       "      <td>49151</td>\n",
       "      <td>45625</td>\n",
       "      <td>0.928262</td>\n",
       "      <td>123570</td>\n",
       "      <td>116903</td>\n",
       "      <td>0.946047</td>\n",
       "      <td>3295</td>\n",
       "      <td>0</td>\n",
       "      <td>3149</td>\n",
       "      <td>146</td>\n",
       "    </tr>\n",
       "    <tr>\n",
       "      <th>3</th>\n",
       "      <td>西南区域</td>\n",
       "      <td>0.889253</td>\n",
       "      <td>30527</td>\n",
       "      <td>23852</td>\n",
       "      <td>0.781341</td>\n",
       "      <td>115788</td>\n",
       "      <td>106259</td>\n",
       "      <td>0.917703</td>\n",
       "      <td>2945</td>\n",
       "      <td>410</td>\n",
       "      <td>2478</td>\n",
       "      <td>58</td>\n",
       "    </tr>\n",
       "    <tr>\n",
       "      <th>9</th>\n",
       "      <td>全国</td>\n",
       "      <td>0.947633</td>\n",
       "      <td>247157</td>\n",
       "      <td>229523</td>\n",
       "      <td>0.928653</td>\n",
       "      <td>724909</td>\n",
       "      <td>691639</td>\n",
       "      <td>0.954105</td>\n",
       "      <td>19184</td>\n",
       "      <td>1616</td>\n",
       "      <td>17189</td>\n",
       "      <td>382</td>\n",
       "    </tr>\n",
       "  </tbody>\n",
       "</table>\n",
       "</div>"
      ],
      "text/plain": [
       "0     区域     整体覆盖率    目标对公      对公     对公覆盖率    目标橘子      橘子     橘子覆盖率   已有队长  \\\n",
       "2   中南区域   0.97282   29999   29373  0.979133   68896   66834  0.970071   2065   \n",
       "7   沪苏区域  0.969182   12804   12146   0.94861   37199   36316  0.976263    989   \n",
       "4  鲁津冀区域  0.966608   26424   25142  0.951483   72492   70471  0.972121   1846   \n",
       "6   华北区域  0.961494   21440   20151  0.939879   99138   95784  0.966168   2542   \n",
       "8   广东区域  0.959594   50376   47913  0.951108  161598  155496   0.96224   4053   \n",
       "1   中西区域  0.948159   26436   25321  0.957823   46228   43576  0.942632   1449   \n",
       "5   华东区域  0.940986   49151   45625  0.928262  123570  116903  0.946047   3295   \n",
       "3   西南区域  0.889253   30527   23852  0.781341  115788  106259  0.917703   2945   \n",
       "9     全国  0.947633  247157  229523  0.928653  724909  691639  0.954105  19184   \n",
       "\n",
       "0  杰出队长   普通队长 预备役队长  \n",
       "2   258   1788    19  \n",
       "7   124    865     0  \n",
       "4   271   1552    23  \n",
       "6    28   2410   104  \n",
       "8   299   3728    26  \n",
       "1   226   1219     6  \n",
       "5     0   3149   146  \n",
       "3   410   2478    58  \n",
       "9  1616  17189   382  "
      ]
     },
     "execution_count": 87,
     "metadata": {},
     "output_type": "execute_result"
    }
   ],
   "source": [
    "fg_ppt = fg.iloc[:-1,:].sort_values(by=['整体覆盖率'],ascending=False).append(fg.iloc[-1])   #除最后一行外，其余行降序排列\n",
    "fg_ppt"
   ]
  },
  {
   "cell_type": "code",
   "execution_count": 88,
   "metadata": {
    "ExecuteTime": {
     "end_time": "2021-12-28T06:53:04.357817Z",
     "start_time": "2021-12-28T06:53:04.316891Z"
    }
   },
   "outputs": [],
   "source": [
    "# 写入excel\n",
    "\n",
    "wbpp = load_workbook('周报_ppt.xlsx')   # excel中设置模板格式\n",
    "wspp = wbpp['ppt']\n",
    "\n",
    "wspp.append([])\n",
    "wspp.append(['{0}1-队长覆盖率{0}'.format('*'*20)])\n",
    "wspp.append([])\n",
    "for r in dataframe_to_rows(fg_ppt, index=False, header=True):\n",
    "    wspp.append(r)\n",
    "    \n",
    "wbpp.save('周报_ppt.xlsx')  "
   ]
  },
  {
   "cell_type": "markdown",
   "metadata": {},
   "source": [
    "#### 周报cooper"
   ]
  },
  {
   "cell_type": "code",
   "execution_count": 89,
   "metadata": {
    "ExecuteTime": {
     "end_time": "2021-12-28T06:53:04.363768Z",
     "start_time": "2021-12-28T06:53:04.358777Z"
    }
   },
   "outputs": [
    {
     "data": {
      "text/plain": [
       "Index(['区域', '整体覆盖率', '目标对公', '对公', '对公覆盖率', '目标橘子', '橘子', '橘子覆盖率', '已有队长',\n",
       "       '杰出队长', '普通队长', '预备役队长'],\n",
       "      dtype='object', name=0)"
      ]
     },
     "execution_count": 89,
     "metadata": {},
     "output_type": "execute_result"
    }
   ],
   "source": [
    "fg.columns"
   ]
  },
  {
   "cell_type": "code",
   "execution_count": 90,
   "metadata": {
    "ExecuteTime": {
     "end_time": "2021-12-28T06:53:04.389695Z",
     "start_time": "2021-12-28T06:53:04.365759Z"
    }
   },
   "outputs": [
    {
     "data": {
      "text/html": [
       "<div>\n",
       "<style scoped>\n",
       "    .dataframe tbody tr th:only-of-type {\n",
       "        vertical-align: middle;\n",
       "    }\n",
       "\n",
       "    .dataframe tbody tr th {\n",
       "        vertical-align: top;\n",
       "    }\n",
       "\n",
       "    .dataframe thead th {\n",
       "        text-align: right;\n",
       "    }\n",
       "</style>\n",
       "<table border=\"1\" class=\"dataframe\">\n",
       "  <thead>\n",
       "    <tr style=\"text-align: right;\">\n",
       "      <th></th>\n",
       "      <th>区域</th>\n",
       "      <th>整体覆盖率</th>\n",
       "      <th>对公覆盖率</th>\n",
       "      <th>橘子覆盖率</th>\n",
       "      <th>已有队长</th>\n",
       "      <th>杰出队长</th>\n",
       "      <th>预备役队长</th>\n",
       "    </tr>\n",
       "  </thead>\n",
       "  <tbody>\n",
       "    <tr>\n",
       "      <th>2</th>\n",
       "      <td>中南区域</td>\n",
       "      <td>97.28%</td>\n",
       "      <td>97.91%</td>\n",
       "      <td>97.01%</td>\n",
       "      <td>2065</td>\n",
       "      <td>258</td>\n",
       "      <td>19</td>\n",
       "    </tr>\n",
       "    <tr>\n",
       "      <th>7</th>\n",
       "      <td>沪苏区域</td>\n",
       "      <td>96.92%</td>\n",
       "      <td>94.86%</td>\n",
       "      <td>97.63%</td>\n",
       "      <td>989</td>\n",
       "      <td>124</td>\n",
       "      <td>0</td>\n",
       "    </tr>\n",
       "    <tr>\n",
       "      <th>4</th>\n",
       "      <td>鲁津冀区域</td>\n",
       "      <td>96.66%</td>\n",
       "      <td>95.15%</td>\n",
       "      <td>97.21%</td>\n",
       "      <td>1846</td>\n",
       "      <td>271</td>\n",
       "      <td>23</td>\n",
       "    </tr>\n",
       "    <tr>\n",
       "      <th>6</th>\n",
       "      <td>华北区域</td>\n",
       "      <td>96.15%</td>\n",
       "      <td>93.99%</td>\n",
       "      <td>96.62%</td>\n",
       "      <td>2542</td>\n",
       "      <td>28</td>\n",
       "      <td>104</td>\n",
       "    </tr>\n",
       "    <tr>\n",
       "      <th>8</th>\n",
       "      <td>广东区域</td>\n",
       "      <td>95.96%</td>\n",
       "      <td>95.11%</td>\n",
       "      <td>96.22%</td>\n",
       "      <td>4053</td>\n",
       "      <td>299</td>\n",
       "      <td>26</td>\n",
       "    </tr>\n",
       "    <tr>\n",
       "      <th>1</th>\n",
       "      <td>中西区域</td>\n",
       "      <td>94.82%</td>\n",
       "      <td>95.78%</td>\n",
       "      <td>94.26%</td>\n",
       "      <td>1449</td>\n",
       "      <td>226</td>\n",
       "      <td>6</td>\n",
       "    </tr>\n",
       "    <tr>\n",
       "      <th>5</th>\n",
       "      <td>华东区域</td>\n",
       "      <td>94.10%</td>\n",
       "      <td>92.83%</td>\n",
       "      <td>94.60%</td>\n",
       "      <td>3295</td>\n",
       "      <td>0</td>\n",
       "      <td>146</td>\n",
       "    </tr>\n",
       "    <tr>\n",
       "      <th>3</th>\n",
       "      <td>西南区域</td>\n",
       "      <td>88.93%</td>\n",
       "      <td>78.13%</td>\n",
       "      <td>91.77%</td>\n",
       "      <td>2945</td>\n",
       "      <td>410</td>\n",
       "      <td>58</td>\n",
       "    </tr>\n",
       "    <tr>\n",
       "      <th>9</th>\n",
       "      <td>全国</td>\n",
       "      <td>94.76%</td>\n",
       "      <td>92.87%</td>\n",
       "      <td>95.41%</td>\n",
       "      <td>19184</td>\n",
       "      <td>1616</td>\n",
       "      <td>382</td>\n",
       "    </tr>\n",
       "  </tbody>\n",
       "</table>\n",
       "</div>"
      ],
      "text/plain": [
       "0     区域   整体覆盖率   对公覆盖率   橘子覆盖率   已有队长  杰出队长 预备役队长\n",
       "2   中南区域  97.28%  97.91%  97.01%   2065   258    19\n",
       "7   沪苏区域  96.92%  94.86%  97.63%    989   124     0\n",
       "4  鲁津冀区域  96.66%  95.15%  97.21%   1846   271    23\n",
       "6   华北区域  96.15%  93.99%  96.62%   2542    28   104\n",
       "8   广东区域  95.96%  95.11%  96.22%   4053   299    26\n",
       "1   中西区域  94.82%  95.78%  94.26%   1449   226     6\n",
       "5   华东区域  94.10%  92.83%  94.60%   3295     0   146\n",
       "3   西南区域  88.93%  78.13%  91.77%   2945   410    58\n",
       "9     全国  94.76%  92.87%  95.41%  19184  1616   382"
      ]
     },
     "execution_count": 90,
     "metadata": {},
     "output_type": "execute_result"
    }
   ],
   "source": [
    "fg_zb = fg[[ '区域', '整体覆盖率', '对公覆盖率','橘子覆盖率','已有队长',  '杰出队长', '预备役队长']]\n",
    "fg_zb = fg_zb.iloc[:-1,:].sort_values(by=['整体覆盖率'],ascending=False).append(fg_zb.iloc[-1])   #除最后一行外，其余行降序排列\n",
    "#fg_zb[['整体覆盖率', '对公覆盖率','橘子覆盖率']]= fg_zb[['整体覆盖率', '对公覆盖率','橘子覆盖率']].map(lambda x:format(x,'.2%'))  # 设置数据格式\n",
    "fg_zb['整体覆盖率'] = fg_zb['整体覆盖率'].apply(lambda x:format(x,'.2%'))\n",
    "fg_zb['对公覆盖率'] = fg_zb['对公覆盖率'].apply(lambda x:format(x,'.2%'))\n",
    "fg_zb['橘子覆盖率'] = fg_zb['橘子覆盖率'].apply(lambda x:format(x,'.2%'))\n",
    "fg_zb"
   ]
  },
  {
   "cell_type": "code",
   "execution_count": 91,
   "metadata": {
    "ExecuteTime": {
     "end_time": "2021-12-28T06:53:04.458511Z",
     "start_time": "2021-12-28T06:53:04.392688Z"
    }
   },
   "outputs": [],
   "source": [
    "# 写入excel\n",
    "\n",
    "wbzb = load_workbook('周报_ppt.xlsx')   # excel中设置模板格式\n",
    "wszb = wbzb['周报']\n",
    "\n",
    "wszb.append([])\n",
    "wszb.append(['{0}队长覆盖率{0}'.format('*'*20)])\n",
    "\n",
    "wszb.append([])\n",
    "for r in dataframe_to_rows(fg_zb, index=False, header=True):\n",
    "    wszb.append(r)\n",
    "    \n",
    "wbzb.save('周报_ppt.xlsx')  "
   ]
  },
  {
   "cell_type": "markdown",
   "metadata": {},
   "source": [
    "#### 邮件"
   ]
  },
  {
   "cell_type": "code",
   "execution_count": 92,
   "metadata": {
    "ExecuteTime": {
     "end_time": "2021-12-28T06:53:04.473471Z",
     "start_time": "2021-12-28T06:53:04.460507Z"
    }
   },
   "outputs": [
    {
     "data": {
      "text/html": [
       "<div>\n",
       "<style scoped>\n",
       "    .dataframe tbody tr th:only-of-type {\n",
       "        vertical-align: middle;\n",
       "    }\n",
       "\n",
       "    .dataframe tbody tr th {\n",
       "        vertical-align: top;\n",
       "    }\n",
       "\n",
       "    .dataframe thead th {\n",
       "        text-align: right;\n",
       "    }\n",
       "</style>\n",
       "<table border=\"1\" class=\"dataframe\">\n",
       "  <thead>\n",
       "    <tr style=\"text-align: right;\">\n",
       "      <th></th>\n",
       "      <th>区域</th>\n",
       "      <th>整体覆盖率</th>\n",
       "      <th>对公覆盖率</th>\n",
       "      <th>橘子覆盖率</th>\n",
       "    </tr>\n",
       "  </thead>\n",
       "  <tbody>\n",
       "    <tr>\n",
       "      <th>1</th>\n",
       "      <td>中西区域</td>\n",
       "      <td>0.948159</td>\n",
       "      <td>0.957823</td>\n",
       "      <td>0.942632</td>\n",
       "    </tr>\n",
       "    <tr>\n",
       "      <th>2</th>\n",
       "      <td>中南区域</td>\n",
       "      <td>0.97282</td>\n",
       "      <td>0.979133</td>\n",
       "      <td>0.970071</td>\n",
       "    </tr>\n",
       "    <tr>\n",
       "      <th>3</th>\n",
       "      <td>西南区域</td>\n",
       "      <td>0.889253</td>\n",
       "      <td>0.781341</td>\n",
       "      <td>0.917703</td>\n",
       "    </tr>\n",
       "    <tr>\n",
       "      <th>4</th>\n",
       "      <td>鲁津冀区域</td>\n",
       "      <td>0.966608</td>\n",
       "      <td>0.951483</td>\n",
       "      <td>0.972121</td>\n",
       "    </tr>\n",
       "    <tr>\n",
       "      <th>5</th>\n",
       "      <td>华东区域</td>\n",
       "      <td>0.940986</td>\n",
       "      <td>0.928262</td>\n",
       "      <td>0.946047</td>\n",
       "    </tr>\n",
       "    <tr>\n",
       "      <th>6</th>\n",
       "      <td>华北区域</td>\n",
       "      <td>0.961494</td>\n",
       "      <td>0.939879</td>\n",
       "      <td>0.966168</td>\n",
       "    </tr>\n",
       "    <tr>\n",
       "      <th>7</th>\n",
       "      <td>沪苏区域</td>\n",
       "      <td>0.969182</td>\n",
       "      <td>0.94861</td>\n",
       "      <td>0.976263</td>\n",
       "    </tr>\n",
       "    <tr>\n",
       "      <th>8</th>\n",
       "      <td>广东区域</td>\n",
       "      <td>0.959594</td>\n",
       "      <td>0.951108</td>\n",
       "      <td>0.96224</td>\n",
       "    </tr>\n",
       "    <tr>\n",
       "      <th>9</th>\n",
       "      <td>全国</td>\n",
       "      <td>0.947633</td>\n",
       "      <td>0.928653</td>\n",
       "      <td>0.954105</td>\n",
       "    </tr>\n",
       "  </tbody>\n",
       "</table>\n",
       "</div>"
      ],
      "text/plain": [
       "0     区域     整体覆盖率     对公覆盖率     橘子覆盖率\n",
       "1   中西区域  0.948159  0.957823  0.942632\n",
       "2   中南区域   0.97282  0.979133  0.970071\n",
       "3   西南区域  0.889253  0.781341  0.917703\n",
       "4  鲁津冀区域  0.966608  0.951483  0.972121\n",
       "5   华东区域  0.940986  0.928262  0.946047\n",
       "6   华北区域  0.961494  0.939879  0.966168\n",
       "7   沪苏区域  0.969182   0.94861  0.976263\n",
       "8   广东区域  0.959594  0.951108   0.96224\n",
       "9     全国  0.947633  0.928653  0.954105"
      ]
     },
     "execution_count": 92,
     "metadata": {},
     "output_type": "execute_result"
    }
   ],
   "source": [
    "fg_target = fg[['区域','整体覆盖率','对公覆盖率','橘子覆盖率']]\n",
    "fg_target"
   ]
  },
  {
   "cell_type": "code",
   "execution_count": 93,
   "metadata": {
    "ExecuteTime": {
     "end_time": "2021-12-28T06:53:04.499401Z",
     "start_time": "2021-12-28T06:53:04.475466Z"
    }
   },
   "outputs": [
    {
     "data": {
      "text/html": [
       "<div>\n",
       "<style scoped>\n",
       "    .dataframe tbody tr th:only-of-type {\n",
       "        vertical-align: middle;\n",
       "    }\n",
       "\n",
       "    .dataframe tbody tr th {\n",
       "        vertical-align: top;\n",
       "    }\n",
       "\n",
       "    .dataframe thead th {\n",
       "        text-align: right;\n",
       "    }\n",
       "</style>\n",
       "<table border=\"1\" class=\"dataframe\">\n",
       "  <thead>\n",
       "    <tr style=\"text-align: right;\">\n",
       "      <th></th>\n",
       "      <th>区域</th>\n",
       "      <th>整体覆盖率</th>\n",
       "      <th>对公覆盖率</th>\n",
       "      <th>橘子覆盖率</th>\n",
       "      <th>队长月会到达率</th>\n",
       "      <th>当日目标值(18日)</th>\n",
       "      <th>目标达成率</th>\n",
       "      <th>任务完成率</th>\n",
       "    </tr>\n",
       "  </thead>\n",
       "  <tbody>\n",
       "    <tr>\n",
       "      <th>0</th>\n",
       "      <td>中西区域</td>\n",
       "      <td>0.948159</td>\n",
       "      <td>0.957823</td>\n",
       "      <td>0.942632</td>\n",
       "      <td>0.733990</td>\n",
       "      <td>58%</td>\n",
       "      <td>0.636845</td>\n",
       "      <td>0.925464</td>\n",
       "    </tr>\n",
       "    <tr>\n",
       "      <th>1</th>\n",
       "      <td>中南区域</td>\n",
       "      <td>0.97282</td>\n",
       "      <td>0.979133</td>\n",
       "      <td>0.970071</td>\n",
       "      <td>0.832808</td>\n",
       "      <td>58%</td>\n",
       "      <td>0.625995</td>\n",
       "      <td>0.956061</td>\n",
       "    </tr>\n",
       "    <tr>\n",
       "      <th>2</th>\n",
       "      <td>西南区域</td>\n",
       "      <td>0.889253</td>\n",
       "      <td>0.781341</td>\n",
       "      <td>0.917703</td>\n",
       "      <td>0.669991</td>\n",
       "      <td>58%</td>\n",
       "      <td>0.712421</td>\n",
       "      <td>0.887143</td>\n",
       "    </tr>\n",
       "    <tr>\n",
       "      <th>3</th>\n",
       "      <td>鲁津冀区域</td>\n",
       "      <td>0.966608</td>\n",
       "      <td>0.951483</td>\n",
       "      <td>0.972121</td>\n",
       "      <td>0.928699</td>\n",
       "      <td>58%</td>\n",
       "      <td>0.677207</td>\n",
       "      <td>0.961679</td>\n",
       "    </tr>\n",
       "    <tr>\n",
       "      <th>4</th>\n",
       "      <td>华东区域</td>\n",
       "      <td>0.940986</td>\n",
       "      <td>0.928262</td>\n",
       "      <td>0.946047</td>\n",
       "      <td>0.926020</td>\n",
       "      <td>58%</td>\n",
       "      <td>0.400361</td>\n",
       "      <td>0.963494</td>\n",
       "    </tr>\n",
       "    <tr>\n",
       "      <th>5</th>\n",
       "      <td>华北区域</td>\n",
       "      <td>0.961494</td>\n",
       "      <td>0.939879</td>\n",
       "      <td>0.966168</td>\n",
       "      <td>0.895824</td>\n",
       "      <td>58%</td>\n",
       "      <td>0.702536</td>\n",
       "      <td>0.975803</td>\n",
       "    </tr>\n",
       "    <tr>\n",
       "      <th>6</th>\n",
       "      <td>沪苏区域</td>\n",
       "      <td>0.969182</td>\n",
       "      <td>0.94861</td>\n",
       "      <td>0.976263</td>\n",
       "      <td>0.944724</td>\n",
       "      <td>58%</td>\n",
       "      <td>0.631409</td>\n",
       "      <td>0.931625</td>\n",
       "    </tr>\n",
       "    <tr>\n",
       "      <th>7</th>\n",
       "      <td>广东区域</td>\n",
       "      <td>0.959594</td>\n",
       "      <td>0.951108</td>\n",
       "      <td>0.96224</td>\n",
       "      <td>0.856899</td>\n",
       "      <td>58%</td>\n",
       "      <td>0.638704</td>\n",
       "      <td>0.920671</td>\n",
       "    </tr>\n",
       "    <tr>\n",
       "      <th>8</th>\n",
       "      <td>全国</td>\n",
       "      <td>0.947633</td>\n",
       "      <td>0.928653</td>\n",
       "      <td>0.954105</td>\n",
       "      <td>0.846458</td>\n",
       "      <td>58%</td>\n",
       "      <td>0.606208</td>\n",
       "      <td>0.944396</td>\n",
       "    </tr>\n",
       "  </tbody>\n",
       "</table>\n",
       "</div>"
      ],
      "text/plain": [
       "      区域     整体覆盖率     对公覆盖率     橘子覆盖率   队长月会到达率 当日目标值(18日)     目标达成率  \\\n",
       "0   中西区域  0.948159  0.957823  0.942632  0.733990        58%  0.636845   \n",
       "1   中南区域   0.97282  0.979133  0.970071  0.832808        58%  0.625995   \n",
       "2   西南区域  0.889253  0.781341  0.917703  0.669991        58%  0.712421   \n",
       "3  鲁津冀区域  0.966608  0.951483  0.972121  0.928699        58%  0.677207   \n",
       "4   华东区域  0.940986  0.928262  0.946047  0.926020        58%  0.400361   \n",
       "5   华北区域  0.961494  0.939879  0.966168  0.895824        58%  0.702536   \n",
       "6   沪苏区域  0.969182   0.94861  0.976263  0.944724        58%  0.631409   \n",
       "7   广东区域  0.959594  0.951108   0.96224  0.856899        58%  0.638704   \n",
       "8     全国  0.947633  0.928653  0.954105  0.846458        58%  0.606208   \n",
       "\n",
       "      任务完成率  \n",
       "0  0.925464  \n",
       "1  0.956061  \n",
       "2  0.887143  \n",
       "3  0.961679  \n",
       "4  0.963494  \n",
       "5  0.975803  \n",
       "6  0.931625  \n",
       "7  0.920671  \n",
       "8  0.944396  "
      ]
     },
     "execution_count": 93,
     "metadata": {},
     "output_type": "execute_result"
    }
   ],
   "source": [
    "dfm1 = pd.merge(fg_target,dfm11)\n",
    "dfm1"
   ]
  },
  {
   "cell_type": "code",
   "execution_count": 94,
   "metadata": {
    "ExecuteTime": {
     "end_time": "2021-12-28T06:53:04.628057Z",
     "start_time": "2021-12-28T06:53:04.501396Z"
    },
    "scrolled": false
   },
   "outputs": [],
   "source": [
    "# 写入excel\n",
    "data = dfm1.values.tolist()   \n",
    "\n",
    "wbmm = load_workbook('周报邮件版.xlsx') \n",
    "wsmm = wbmm['小队体系-邮件']\n",
    "\n",
    "# 写入data\n",
    "# write_r_c(index,column,ws,lt)\n",
    "def write_r_c(index,column,ws,lt):\n",
    "    for i in range(len(lt)):\n",
    "        ws.cell(index,column+i).value = lt[i]\n",
    "            #选择填入某行的单元格\n",
    "            \n",
    "for i in range(len(data)):\n",
    "    write_r_c(5+i,1,wsmm,data[i])  #从C4开始写\n",
    "    \n",
    "wbmm.save('周报邮件版.xlsx')        "
   ]
  },
  {
   "cell_type": "markdown",
   "metadata": {},
   "source": [
    "### 队长准出"
   ]
  },
  {
   "cell_type": "code",
   "execution_count": 95,
   "metadata": {
    "ExecuteTime": {
     "end_time": "2021-12-28T06:53:04.648003Z",
     "start_time": "2021-12-28T06:53:04.629055Z"
    }
   },
   "outputs": [
    {
     "data": {
      "text/html": [
       "<div>\n",
       "<style scoped>\n",
       "    .dataframe tbody tr th:only-of-type {\n",
       "        vertical-align: middle;\n",
       "    }\n",
       "\n",
       "    .dataframe tbody tr th {\n",
       "        vertical-align: top;\n",
       "    }\n",
       "\n",
       "    .dataframe thead th {\n",
       "        text-align: right;\n",
       "    }\n",
       "</style>\n",
       "<table border=\"1\" class=\"dataframe\">\n",
       "  <thead>\n",
       "    <tr style=\"text-align: right;\">\n",
       "      <th></th>\n",
       "      <th>0</th>\n",
       "      <th>1</th>\n",
       "      <th>2</th>\n",
       "      <th>3</th>\n",
       "      <th>4</th>\n",
       "      <th>5</th>\n",
       "      <th>6</th>\n",
       "      <th>7</th>\n",
       "      <th>8</th>\n",
       "      <th>9</th>\n",
       "      <th>10</th>\n",
       "      <th>11</th>\n",
       "      <th>12</th>\n",
       "      <th>13</th>\n",
       "      <th>14</th>\n",
       "      <th>15</th>\n",
       "      <th>16</th>\n",
       "      <th>17</th>\n",
       "      <th>18</th>\n",
       "    </tr>\n",
       "  </thead>\n",
       "  <tbody>\n",
       "    <tr>\n",
       "      <th>0</th>\n",
       "      <td>区域</td>\n",
       "      <td>红线封禁\\n需准出</td>\n",
       "      <td>质量不合格需准出</td>\n",
       "      <td>None</td>\n",
       "      <td>None</td>\n",
       "      <td>None</td>\n",
       "      <td>质量不合格已准出</td>\n",
       "      <td>None</td>\n",
       "      <td>None</td>\n",
       "      <td>不合格</td>\n",
       "      <td>观察期</td>\n",
       "      <td>观察期</td>\n",
       "      <td>剔除观察期\\n</td>\n",
       "      <td>强准出</td>\n",
       "      <td>强准出</td>\n",
       "      <td>强准出</td>\n",
       "      <td>非磐石目标准出</td>\n",
       "      <td>非目标</td>\n",
       "      <td>非目标\\n准出进度</td>\n",
       "    </tr>\n",
       "    <tr>\n",
       "      <th>1</th>\n",
       "      <td>None</td>\n",
       "      <td>None</td>\n",
       "      <td>快车</td>\n",
       "      <td>优享</td>\n",
       "      <td>总计</td>\n",
       "      <td>总计（新）</td>\n",
       "      <td>快车</td>\n",
       "      <td>优享</td>\n",
       "      <td>总计</td>\n",
       "      <td>准出进度</td>\n",
       "      <td>总计</td>\n",
       "      <td>已准出</td>\n",
       "      <td>准出进度\\n</td>\n",
       "      <td>总计</td>\n",
       "      <td>已准出</td>\n",
       "      <td>准出进度</td>\n",
       "      <td>None</td>\n",
       "      <td>已准出</td>\n",
       "      <td>准出进度</td>\n",
       "    </tr>\n",
       "    <tr>\n",
       "      <th>2</th>\n",
       "      <td>中西区域</td>\n",
       "      <td>0</td>\n",
       "      <td>87</td>\n",
       "      <td>2</td>\n",
       "      <td>89</td>\n",
       "      <td>128</td>\n",
       "      <td>2</td>\n",
       "      <td>0</td>\n",
       "      <td>2</td>\n",
       "      <td>0.022472</td>\n",
       "      <td>58</td>\n",
       "      <td>0</td>\n",
       "      <td>0.064516</td>\n",
       "      <td>18</td>\n",
       "      <td>0</td>\n",
       "      <td>0</td>\n",
       "      <td>5</td>\n",
       "      <td>0</td>\n",
       "      <td>0</td>\n",
       "    </tr>\n",
       "    <tr>\n",
       "      <th>3</th>\n",
       "      <td>中南区域</td>\n",
       "      <td>0</td>\n",
       "      <td>37</td>\n",
       "      <td>1</td>\n",
       "      <td>38</td>\n",
       "      <td>80</td>\n",
       "      <td>4</td>\n",
       "      <td>0</td>\n",
       "      <td>4</td>\n",
       "      <td>0.105263</td>\n",
       "      <td>35</td>\n",
       "      <td>1</td>\n",
       "      <td>1</td>\n",
       "      <td>10</td>\n",
       "      <td>1</td>\n",
       "      <td>0.1</td>\n",
       "      <td>5</td>\n",
       "      <td>0</td>\n",
       "      <td>0</td>\n",
       "    </tr>\n",
       "    <tr>\n",
       "      <th>4</th>\n",
       "      <td>西南区域</td>\n",
       "      <td>0</td>\n",
       "      <td>83</td>\n",
       "      <td>12</td>\n",
       "      <td>95</td>\n",
       "      <td>262</td>\n",
       "      <td>20</td>\n",
       "      <td>1</td>\n",
       "      <td>21</td>\n",
       "      <td>0.221053</td>\n",
       "      <td>74</td>\n",
       "      <td>9</td>\n",
       "      <td>0.571429</td>\n",
       "      <td>0</td>\n",
       "      <td>0</td>\n",
       "      <td>——</td>\n",
       "      <td>3</td>\n",
       "      <td>0</td>\n",
       "      <td>0</td>\n",
       "    </tr>\n",
       "    <tr>\n",
       "      <th>5</th>\n",
       "      <td>鲁津冀区域</td>\n",
       "      <td>0</td>\n",
       "      <td>46</td>\n",
       "      <td>2</td>\n",
       "      <td>48</td>\n",
       "      <td>89</td>\n",
       "      <td>3</td>\n",
       "      <td>0</td>\n",
       "      <td>3</td>\n",
       "      <td>0.0625</td>\n",
       "      <td>30</td>\n",
       "      <td>1</td>\n",
       "      <td>0.111111</td>\n",
       "      <td>0</td>\n",
       "      <td>0</td>\n",
       "      <td>——</td>\n",
       "      <td>8</td>\n",
       "      <td>0</td>\n",
       "      <td>0</td>\n",
       "    </tr>\n",
       "    <tr>\n",
       "      <th>6</th>\n",
       "      <td>华东区域</td>\n",
       "      <td>0</td>\n",
       "      <td>104</td>\n",
       "      <td>0</td>\n",
       "      <td>104</td>\n",
       "      <td>250</td>\n",
       "      <td>24</td>\n",
       "      <td>0</td>\n",
       "      <td>24</td>\n",
       "      <td>0.230769</td>\n",
       "      <td>80</td>\n",
       "      <td>14</td>\n",
       "      <td>0.416667</td>\n",
       "      <td>0</td>\n",
       "      <td>0</td>\n",
       "      <td>——</td>\n",
       "      <td>9</td>\n",
       "      <td>0</td>\n",
       "      <td>0</td>\n",
       "    </tr>\n",
       "    <tr>\n",
       "      <th>7</th>\n",
       "      <td>华北区域</td>\n",
       "      <td>0</td>\n",
       "      <td>104</td>\n",
       "      <td>2</td>\n",
       "      <td>106</td>\n",
       "      <td>186</td>\n",
       "      <td>10</td>\n",
       "      <td>1</td>\n",
       "      <td>11</td>\n",
       "      <td>0.103774</td>\n",
       "      <td>0</td>\n",
       "      <td>0</td>\n",
       "      <td>0.103774</td>\n",
       "      <td>0</td>\n",
       "      <td>0</td>\n",
       "      <td>——</td>\n",
       "      <td>2</td>\n",
       "      <td>0</td>\n",
       "      <td>0</td>\n",
       "    </tr>\n",
       "    <tr>\n",
       "      <th>8</th>\n",
       "      <td>沪苏区域</td>\n",
       "      <td>0</td>\n",
       "      <td>31</td>\n",
       "      <td>1</td>\n",
       "      <td>32</td>\n",
       "      <td>64</td>\n",
       "      <td>3</td>\n",
       "      <td>0</td>\n",
       "      <td>3</td>\n",
       "      <td>0.09375</td>\n",
       "      <td>32</td>\n",
       "      <td>3</td>\n",
       "      <td>111.11</td>\n",
       "      <td>0</td>\n",
       "      <td>0</td>\n",
       "      <td>——</td>\n",
       "      <td>1</td>\n",
       "      <td>0</td>\n",
       "      <td>0</td>\n",
       "    </tr>\n",
       "    <tr>\n",
       "      <th>9</th>\n",
       "      <td>广东区域</td>\n",
       "      <td>0</td>\n",
       "      <td>102</td>\n",
       "      <td>3</td>\n",
       "      <td>105</td>\n",
       "      <td>194</td>\n",
       "      <td>9</td>\n",
       "      <td>0</td>\n",
       "      <td>9</td>\n",
       "      <td>0.085714</td>\n",
       "      <td>61</td>\n",
       "      <td>3</td>\n",
       "      <td>0.136364</td>\n",
       "      <td>36</td>\n",
       "      <td>6</td>\n",
       "      <td>0.166667</td>\n",
       "      <td>5</td>\n",
       "      <td>0</td>\n",
       "      <td>0</td>\n",
       "    </tr>\n",
       "    <tr>\n",
       "      <th>10</th>\n",
       "      <td>全国</td>\n",
       "      <td>0</td>\n",
       "      <td>594</td>\n",
       "      <td>23</td>\n",
       "      <td>617</td>\n",
       "      <td>1253</td>\n",
       "      <td>75</td>\n",
       "      <td>2</td>\n",
       "      <td>77</td>\n",
       "      <td>0.124797</td>\n",
       "      <td>370</td>\n",
       "      <td>31</td>\n",
       "      <td>0.186235</td>\n",
       "      <td>64</td>\n",
       "      <td>7</td>\n",
       "      <td>0.109375</td>\n",
       "      <td>38</td>\n",
       "      <td>0</td>\n",
       "      <td>0</td>\n",
       "    </tr>\n",
       "  </tbody>\n",
       "</table>\n",
       "</div>"
      ],
      "text/plain": [
       "       0          1         2     3     4      5         6     7     8   \\\n",
       "0      区域  红线封禁\\n需准出  质量不合格需准出  None  None   None  质量不合格已准出  None  None   \n",
       "1    None       None        快车    优享    总计  总计（新）        快车    优享    总计   \n",
       "2    中西区域          0        87     2    89    128         2     0     2   \n",
       "3    中南区域          0        37     1    38     80         4     0     4   \n",
       "4    西南区域          0        83    12    95    262        20     1    21   \n",
       "5   鲁津冀区域          0        46     2    48     89         3     0     3   \n",
       "6    华东区域          0       104     0   104    250        24     0    24   \n",
       "7    华北区域          0       104     2   106    186        10     1    11   \n",
       "8    沪苏区域          0        31     1    32     64         3     0     3   \n",
       "9    广东区域          0       102     3   105    194         9     0     9   \n",
       "10     全国          0       594    23   617   1253        75     2    77   \n",
       "\n",
       "          9    10   11        12   13   14        15       16   17         18  \n",
       "0        不合格  观察期  观察期   剔除观察期\\n  强准出  强准出       强准出  非磐石目标准出  非目标  非目标\\n准出进度  \n",
       "1       准出进度   总计  已准出    准出进度\\n   总计  已准出      准出进度     None  已准出       准出进度  \n",
       "2   0.022472   58    0  0.064516   18    0         0        5    0          0  \n",
       "3   0.105263   35    1         1   10    1       0.1        5    0          0  \n",
       "4   0.221053   74    9  0.571429    0    0        ——        3    0          0  \n",
       "5     0.0625   30    1  0.111111    0    0        ——        8    0          0  \n",
       "6   0.230769   80   14  0.416667    0    0        ——        9    0          0  \n",
       "7   0.103774    0    0  0.103774    0    0        ——        2    0          0  \n",
       "8    0.09375   32    3    111.11    0    0        ——        1    0          0  \n",
       "9   0.085714   61    3  0.136364   36    6  0.166667        5    0          0  \n",
       "10  0.124797  370   31  0.186235   64    7  0.109375       38    0          0  "
      ]
     },
     "execution_count": 95,
     "metadata": {},
     "output_type": "execute_result"
    }
   ],
   "source": [
    "zc = pd.DataFrame(wsm2.values)\n",
    "zc"
   ]
  },
  {
   "cell_type": "code",
   "execution_count": 96,
   "metadata": {
    "ExecuteTime": {
     "end_time": "2021-12-28T06:53:04.654987Z",
     "start_time": "2021-12-28T06:53:04.649999Z"
    }
   },
   "outputs": [
    {
     "data": {
      "text/plain": [
       "'\\nzc.set_axis(zc.iloc[1],axis=1,inplace=True)  #将某一行设置为行索引\\nzc = zc.drop(index=1) #drop掉第1行\\nzc.head(2)\\n'"
      ]
     },
     "execution_count": 96,
     "metadata": {},
     "output_type": "execute_result"
    }
   ],
   "source": [
    "'''\n",
    "zc.set_axis(zc.iloc[1],axis=1,inplace=True)  #将某一行设置为行索引\n",
    "zc = zc.drop(index=1) #drop掉第1行\n",
    "zc.head(2)\n",
    "'''"
   ]
  },
  {
   "cell_type": "code",
   "execution_count": 97,
   "metadata": {
    "ExecuteTime": {
     "end_time": "2021-12-28T06:53:04.682910Z",
     "start_time": "2021-12-28T06:53:04.657977Z"
    }
   },
   "outputs": [
    {
     "data": {
      "text/html": [
       "<div>\n",
       "<style scoped>\n",
       "    .dataframe tbody tr th:only-of-type {\n",
       "        vertical-align: middle;\n",
       "    }\n",
       "\n",
       "    .dataframe tbody tr th {\n",
       "        vertical-align: top;\n",
       "    }\n",
       "\n",
       "    .dataframe thead th {\n",
       "        text-align: right;\n",
       "    }\n",
       "</style>\n",
       "<table border=\"1\" class=\"dataframe\">\n",
       "  <thead>\n",
       "    <tr style=\"text-align: right;\">\n",
       "      <th></th>\n",
       "      <th>区域</th>\n",
       "      <th>红线封禁需准出</th>\n",
       "      <th>质量不合格需准出_快车</th>\n",
       "      <th>质量不合格需准出_优享</th>\n",
       "      <th>质量不合格需准出_总计</th>\n",
       "      <th>质量不合格需准出_总计（新）</th>\n",
       "      <th>质量不合格已准出_快车</th>\n",
       "      <th>质量不合格已准出_优享</th>\n",
       "      <th>质量不合格已准出_总计</th>\n",
       "      <th>不合格_准出进度</th>\n",
       "      <th>观察期_总计</th>\n",
       "      <th>观察期_已准出</th>\n",
       "      <th>剔除观察期_准出进度</th>\n",
       "      <th>强准出_总计</th>\n",
       "      <th>强准出_已准出</th>\n",
       "      <th>强准出_准出进度</th>\n",
       "      <th>非磐石目标准出</th>\n",
       "      <th>非目标_已准出</th>\n",
       "      <th>非目标准出进度</th>\n",
       "    </tr>\n",
       "  </thead>\n",
       "  <tbody>\n",
       "    <tr>\n",
       "      <th>2</th>\n",
       "      <td>中西区域</td>\n",
       "      <td>0</td>\n",
       "      <td>87</td>\n",
       "      <td>2</td>\n",
       "      <td>89</td>\n",
       "      <td>128</td>\n",
       "      <td>2</td>\n",
       "      <td>0</td>\n",
       "      <td>2</td>\n",
       "      <td>0.022472</td>\n",
       "      <td>58</td>\n",
       "      <td>0</td>\n",
       "      <td>0.064516</td>\n",
       "      <td>18</td>\n",
       "      <td>0</td>\n",
       "      <td>0</td>\n",
       "      <td>5</td>\n",
       "      <td>0</td>\n",
       "      <td>0</td>\n",
       "    </tr>\n",
       "    <tr>\n",
       "      <th>3</th>\n",
       "      <td>中南区域</td>\n",
       "      <td>0</td>\n",
       "      <td>37</td>\n",
       "      <td>1</td>\n",
       "      <td>38</td>\n",
       "      <td>80</td>\n",
       "      <td>4</td>\n",
       "      <td>0</td>\n",
       "      <td>4</td>\n",
       "      <td>0.105263</td>\n",
       "      <td>35</td>\n",
       "      <td>1</td>\n",
       "      <td>1</td>\n",
       "      <td>10</td>\n",
       "      <td>1</td>\n",
       "      <td>0.1</td>\n",
       "      <td>5</td>\n",
       "      <td>0</td>\n",
       "      <td>0</td>\n",
       "    </tr>\n",
       "    <tr>\n",
       "      <th>4</th>\n",
       "      <td>西南区域</td>\n",
       "      <td>0</td>\n",
       "      <td>83</td>\n",
       "      <td>12</td>\n",
       "      <td>95</td>\n",
       "      <td>262</td>\n",
       "      <td>20</td>\n",
       "      <td>1</td>\n",
       "      <td>21</td>\n",
       "      <td>0.221053</td>\n",
       "      <td>74</td>\n",
       "      <td>9</td>\n",
       "      <td>0.571429</td>\n",
       "      <td>0</td>\n",
       "      <td>0</td>\n",
       "      <td>——</td>\n",
       "      <td>3</td>\n",
       "      <td>0</td>\n",
       "      <td>0</td>\n",
       "    </tr>\n",
       "    <tr>\n",
       "      <th>5</th>\n",
       "      <td>鲁津冀区域</td>\n",
       "      <td>0</td>\n",
       "      <td>46</td>\n",
       "      <td>2</td>\n",
       "      <td>48</td>\n",
       "      <td>89</td>\n",
       "      <td>3</td>\n",
       "      <td>0</td>\n",
       "      <td>3</td>\n",
       "      <td>0.0625</td>\n",
       "      <td>30</td>\n",
       "      <td>1</td>\n",
       "      <td>0.111111</td>\n",
       "      <td>0</td>\n",
       "      <td>0</td>\n",
       "      <td>——</td>\n",
       "      <td>8</td>\n",
       "      <td>0</td>\n",
       "      <td>0</td>\n",
       "    </tr>\n",
       "    <tr>\n",
       "      <th>6</th>\n",
       "      <td>华东区域</td>\n",
       "      <td>0</td>\n",
       "      <td>104</td>\n",
       "      <td>0</td>\n",
       "      <td>104</td>\n",
       "      <td>250</td>\n",
       "      <td>24</td>\n",
       "      <td>0</td>\n",
       "      <td>24</td>\n",
       "      <td>0.230769</td>\n",
       "      <td>80</td>\n",
       "      <td>14</td>\n",
       "      <td>0.416667</td>\n",
       "      <td>0</td>\n",
       "      <td>0</td>\n",
       "      <td>——</td>\n",
       "      <td>9</td>\n",
       "      <td>0</td>\n",
       "      <td>0</td>\n",
       "    </tr>\n",
       "    <tr>\n",
       "      <th>7</th>\n",
       "      <td>华北区域</td>\n",
       "      <td>0</td>\n",
       "      <td>104</td>\n",
       "      <td>2</td>\n",
       "      <td>106</td>\n",
       "      <td>186</td>\n",
       "      <td>10</td>\n",
       "      <td>1</td>\n",
       "      <td>11</td>\n",
       "      <td>0.103774</td>\n",
       "      <td>0</td>\n",
       "      <td>0</td>\n",
       "      <td>0.103774</td>\n",
       "      <td>0</td>\n",
       "      <td>0</td>\n",
       "      <td>——</td>\n",
       "      <td>2</td>\n",
       "      <td>0</td>\n",
       "      <td>0</td>\n",
       "    </tr>\n",
       "    <tr>\n",
       "      <th>8</th>\n",
       "      <td>沪苏区域</td>\n",
       "      <td>0</td>\n",
       "      <td>31</td>\n",
       "      <td>1</td>\n",
       "      <td>32</td>\n",
       "      <td>64</td>\n",
       "      <td>3</td>\n",
       "      <td>0</td>\n",
       "      <td>3</td>\n",
       "      <td>0.09375</td>\n",
       "      <td>32</td>\n",
       "      <td>3</td>\n",
       "      <td>111.11</td>\n",
       "      <td>0</td>\n",
       "      <td>0</td>\n",
       "      <td>——</td>\n",
       "      <td>1</td>\n",
       "      <td>0</td>\n",
       "      <td>0</td>\n",
       "    </tr>\n",
       "    <tr>\n",
       "      <th>9</th>\n",
       "      <td>广东区域</td>\n",
       "      <td>0</td>\n",
       "      <td>102</td>\n",
       "      <td>3</td>\n",
       "      <td>105</td>\n",
       "      <td>194</td>\n",
       "      <td>9</td>\n",
       "      <td>0</td>\n",
       "      <td>9</td>\n",
       "      <td>0.085714</td>\n",
       "      <td>61</td>\n",
       "      <td>3</td>\n",
       "      <td>0.136364</td>\n",
       "      <td>36</td>\n",
       "      <td>6</td>\n",
       "      <td>0.166667</td>\n",
       "      <td>5</td>\n",
       "      <td>0</td>\n",
       "      <td>0</td>\n",
       "    </tr>\n",
       "    <tr>\n",
       "      <th>10</th>\n",
       "      <td>全国</td>\n",
       "      <td>0</td>\n",
       "      <td>594</td>\n",
       "      <td>23</td>\n",
       "      <td>617</td>\n",
       "      <td>1253</td>\n",
       "      <td>75</td>\n",
       "      <td>2</td>\n",
       "      <td>77</td>\n",
       "      <td>0.124797</td>\n",
       "      <td>370</td>\n",
       "      <td>31</td>\n",
       "      <td>0.186235</td>\n",
       "      <td>64</td>\n",
       "      <td>7</td>\n",
       "      <td>0.109375</td>\n",
       "      <td>38</td>\n",
       "      <td>0</td>\n",
       "      <td>0</td>\n",
       "    </tr>\n",
       "  </tbody>\n",
       "</table>\n",
       "</div>"
      ],
      "text/plain": [
       "       区域 红线封禁需准出 质量不合格需准出_快车 质量不合格需准出_优享 质量不合格需准出_总计 质量不合格需准出_总计（新）  \\\n",
       "2    中西区域       0          87           2          89            128   \n",
       "3    中南区域       0          37           1          38             80   \n",
       "4    西南区域       0          83          12          95            262   \n",
       "5   鲁津冀区域       0          46           2          48             89   \n",
       "6    华东区域       0         104           0         104            250   \n",
       "7    华北区域       0         104           2         106            186   \n",
       "8    沪苏区域       0          31           1          32             64   \n",
       "9    广东区域       0         102           3         105            194   \n",
       "10     全国       0         594          23         617           1253   \n",
       "\n",
       "   质量不合格已准出_快车 质量不合格已准出_优享 质量不合格已准出_总计  不合格_准出进度 观察期_总计 观察期_已准出 剔除观察期_准出进度  \\\n",
       "2            2           0           2  0.022472     58       0   0.064516   \n",
       "3            4           0           4  0.105263     35       1          1   \n",
       "4           20           1          21  0.221053     74       9   0.571429   \n",
       "5            3           0           3    0.0625     30       1   0.111111   \n",
       "6           24           0          24  0.230769     80      14   0.416667   \n",
       "7           10           1          11  0.103774      0       0   0.103774   \n",
       "8            3           0           3   0.09375     32       3     111.11   \n",
       "9            9           0           9  0.085714     61       3   0.136364   \n",
       "10          75           2          77  0.124797    370      31   0.186235   \n",
       "\n",
       "   强准出_总计 强准出_已准出  强准出_准出进度 非磐石目标准出 非目标_已准出 非目标准出进度  \n",
       "2      18       0         0       5       0       0  \n",
       "3      10       1       0.1       5       0       0  \n",
       "4       0       0        ——       3       0       0  \n",
       "5       0       0        ——       8       0       0  \n",
       "6       0       0        ——       9       0       0  \n",
       "7       0       0        ——       2       0       0  \n",
       "8       0       0        ——       1       0       0  \n",
       "9      36       6  0.166667       5       0       0  \n",
       "10     64       7  0.109375      38       0       0  "
      ]
     },
     "execution_count": 97,
     "metadata": {},
     "output_type": "execute_result"
    }
   ],
   "source": [
    "# rename()函数适合于修改个别的索引或者列名，如果需要大部分的修改或者全部修改的话就使用set_index()函数比较方便\n",
    "\n",
    "zc.set_axis(['区域','红线封禁需准出',\\\n",
    "                    '质量不合格需准出_快车','质量不合格需准出_优享','质量不合格需准出_总计','质量不合格需准出_总计（新）',\\\n",
    "                    '质量不合格已准出_快车','质量不合格已准出_优享','质量不合格已准出_总计',\\\n",
    "                    '不合格_准出进度',\\\n",
    "                    '观察期_总计','观察期_已准出','剔除观察期_准出进度',\\\n",
    "                    '强准出_总计','强准出_已准出','强准出_准出进度',\\\n",
    "                    '非磐石目标准出','非目标_已准出','非目标准出进度'],axis=1,inplace=True)\n",
    "\n",
    "zc = zc.drop(index=[0,1])\n",
    "zc"
   ]
  },
  {
   "cell_type": "code",
   "execution_count": 98,
   "metadata": {
    "ExecuteTime": {
     "end_time": "2021-12-28T06:53:04.690889Z",
     "start_time": "2021-12-28T06:53:04.684907Z"
    },
    "scrolled": true
   },
   "outputs": [
    {
     "data": {
      "text/plain": [
       "array(['中西区域', '中南区域', '西南区域', '鲁津冀区域', '华东区域', '华北区域', '沪苏区域', '广东区域',\n",
       "       '全国'], dtype=object)"
      ]
     },
     "execution_count": 98,
     "metadata": {},
     "output_type": "execute_result"
    }
   ],
   "source": [
    "zc['区域'].values"
   ]
  },
  {
   "cell_type": "markdown",
   "metadata": {},
   "source": [
    "#### ppt"
   ]
  },
  {
   "cell_type": "code",
   "execution_count": 99,
   "metadata": {
    "ExecuteTime": {
     "end_time": "2021-12-28T06:53:04.725796Z",
     "start_time": "2021-12-28T06:53:04.692885Z"
    }
   },
   "outputs": [
    {
     "data": {
      "text/html": [
       "<div>\n",
       "<style scoped>\n",
       "    .dataframe tbody tr th:only-of-type {\n",
       "        vertical-align: middle;\n",
       "    }\n",
       "\n",
       "    .dataframe tbody tr th {\n",
       "        vertical-align: top;\n",
       "    }\n",
       "\n",
       "    .dataframe thead th {\n",
       "        text-align: right;\n",
       "    }\n",
       "</style>\n",
       "<table border=\"1\" class=\"dataframe\">\n",
       "  <thead>\n",
       "    <tr style=\"text-align: right;\">\n",
       "      <th></th>\n",
       "      <th>区域</th>\n",
       "      <th>红线封禁需准出</th>\n",
       "      <th>质量不合格需准出_快车</th>\n",
       "      <th>质量不合格需准出_优享</th>\n",
       "      <th>质量不合格需准出_总计</th>\n",
       "      <th>质量不合格需准出_总计（新）</th>\n",
       "      <th>质量不合格已准出_快车</th>\n",
       "      <th>质量不合格已准出_优享</th>\n",
       "      <th>质量不合格已准出_总计</th>\n",
       "      <th>不合格_准出进度</th>\n",
       "      <th>观察期_总计</th>\n",
       "      <th>观察期_已准出</th>\n",
       "      <th>剔除观察期_准出进度</th>\n",
       "      <th>强准出_总计</th>\n",
       "      <th>强准出_已准出</th>\n",
       "      <th>强准出_准出进度</th>\n",
       "      <th>非磐石目标准出</th>\n",
       "      <th>非目标_已准出</th>\n",
       "      <th>非目标准出进度</th>\n",
       "    </tr>\n",
       "  </thead>\n",
       "  <tbody>\n",
       "    <tr>\n",
       "      <th>8</th>\n",
       "      <td>沪苏区域</td>\n",
       "      <td>0</td>\n",
       "      <td>31</td>\n",
       "      <td>1</td>\n",
       "      <td>32</td>\n",
       "      <td>64</td>\n",
       "      <td>3</td>\n",
       "      <td>0</td>\n",
       "      <td>3</td>\n",
       "      <td>0.09375</td>\n",
       "      <td>32</td>\n",
       "      <td>3</td>\n",
       "      <td>111.11</td>\n",
       "      <td>0</td>\n",
       "      <td>0</td>\n",
       "      <td>——</td>\n",
       "      <td>1</td>\n",
       "      <td>0</td>\n",
       "      <td>0</td>\n",
       "    </tr>\n",
       "    <tr>\n",
       "      <th>3</th>\n",
       "      <td>中南区域</td>\n",
       "      <td>0</td>\n",
       "      <td>37</td>\n",
       "      <td>1</td>\n",
       "      <td>38</td>\n",
       "      <td>80</td>\n",
       "      <td>4</td>\n",
       "      <td>0</td>\n",
       "      <td>4</td>\n",
       "      <td>0.105263</td>\n",
       "      <td>35</td>\n",
       "      <td>1</td>\n",
       "      <td>1</td>\n",
       "      <td>10</td>\n",
       "      <td>1</td>\n",
       "      <td>0.1</td>\n",
       "      <td>5</td>\n",
       "      <td>0</td>\n",
       "      <td>0</td>\n",
       "    </tr>\n",
       "    <tr>\n",
       "      <th>4</th>\n",
       "      <td>西南区域</td>\n",
       "      <td>0</td>\n",
       "      <td>83</td>\n",
       "      <td>12</td>\n",
       "      <td>95</td>\n",
       "      <td>262</td>\n",
       "      <td>20</td>\n",
       "      <td>1</td>\n",
       "      <td>21</td>\n",
       "      <td>0.221053</td>\n",
       "      <td>74</td>\n",
       "      <td>9</td>\n",
       "      <td>0.571429</td>\n",
       "      <td>0</td>\n",
       "      <td>0</td>\n",
       "      <td>——</td>\n",
       "      <td>3</td>\n",
       "      <td>0</td>\n",
       "      <td>0</td>\n",
       "    </tr>\n",
       "    <tr>\n",
       "      <th>6</th>\n",
       "      <td>华东区域</td>\n",
       "      <td>0</td>\n",
       "      <td>104</td>\n",
       "      <td>0</td>\n",
       "      <td>104</td>\n",
       "      <td>250</td>\n",
       "      <td>24</td>\n",
       "      <td>0</td>\n",
       "      <td>24</td>\n",
       "      <td>0.230769</td>\n",
       "      <td>80</td>\n",
       "      <td>14</td>\n",
       "      <td>0.416667</td>\n",
       "      <td>0</td>\n",
       "      <td>0</td>\n",
       "      <td>——</td>\n",
       "      <td>9</td>\n",
       "      <td>0</td>\n",
       "      <td>0</td>\n",
       "    </tr>\n",
       "    <tr>\n",
       "      <th>9</th>\n",
       "      <td>广东区域</td>\n",
       "      <td>0</td>\n",
       "      <td>102</td>\n",
       "      <td>3</td>\n",
       "      <td>105</td>\n",
       "      <td>194</td>\n",
       "      <td>9</td>\n",
       "      <td>0</td>\n",
       "      <td>9</td>\n",
       "      <td>0.085714</td>\n",
       "      <td>61</td>\n",
       "      <td>3</td>\n",
       "      <td>0.136364</td>\n",
       "      <td>36</td>\n",
       "      <td>6</td>\n",
       "      <td>0.166667</td>\n",
       "      <td>5</td>\n",
       "      <td>0</td>\n",
       "      <td>0</td>\n",
       "    </tr>\n",
       "    <tr>\n",
       "      <th>5</th>\n",
       "      <td>鲁津冀区域</td>\n",
       "      <td>0</td>\n",
       "      <td>46</td>\n",
       "      <td>2</td>\n",
       "      <td>48</td>\n",
       "      <td>89</td>\n",
       "      <td>3</td>\n",
       "      <td>0</td>\n",
       "      <td>3</td>\n",
       "      <td>0.0625</td>\n",
       "      <td>30</td>\n",
       "      <td>1</td>\n",
       "      <td>0.111111</td>\n",
       "      <td>0</td>\n",
       "      <td>0</td>\n",
       "      <td>——</td>\n",
       "      <td>8</td>\n",
       "      <td>0</td>\n",
       "      <td>0</td>\n",
       "    </tr>\n",
       "    <tr>\n",
       "      <th>7</th>\n",
       "      <td>华北区域</td>\n",
       "      <td>0</td>\n",
       "      <td>104</td>\n",
       "      <td>2</td>\n",
       "      <td>106</td>\n",
       "      <td>186</td>\n",
       "      <td>10</td>\n",
       "      <td>1</td>\n",
       "      <td>11</td>\n",
       "      <td>0.103774</td>\n",
       "      <td>0</td>\n",
       "      <td>0</td>\n",
       "      <td>0.103774</td>\n",
       "      <td>0</td>\n",
       "      <td>0</td>\n",
       "      <td>——</td>\n",
       "      <td>2</td>\n",
       "      <td>0</td>\n",
       "      <td>0</td>\n",
       "    </tr>\n",
       "    <tr>\n",
       "      <th>2</th>\n",
       "      <td>中西区域</td>\n",
       "      <td>0</td>\n",
       "      <td>87</td>\n",
       "      <td>2</td>\n",
       "      <td>89</td>\n",
       "      <td>128</td>\n",
       "      <td>2</td>\n",
       "      <td>0</td>\n",
       "      <td>2</td>\n",
       "      <td>0.022472</td>\n",
       "      <td>58</td>\n",
       "      <td>0</td>\n",
       "      <td>0.064516</td>\n",
       "      <td>18</td>\n",
       "      <td>0</td>\n",
       "      <td>0</td>\n",
       "      <td>5</td>\n",
       "      <td>0</td>\n",
       "      <td>0</td>\n",
       "    </tr>\n",
       "    <tr>\n",
       "      <th>10</th>\n",
       "      <td>全国</td>\n",
       "      <td>0</td>\n",
       "      <td>594</td>\n",
       "      <td>23</td>\n",
       "      <td>617</td>\n",
       "      <td>1253</td>\n",
       "      <td>75</td>\n",
       "      <td>2</td>\n",
       "      <td>77</td>\n",
       "      <td>0.124797</td>\n",
       "      <td>370</td>\n",
       "      <td>31</td>\n",
       "      <td>0.186235</td>\n",
       "      <td>64</td>\n",
       "      <td>7</td>\n",
       "      <td>0.109375</td>\n",
       "      <td>38</td>\n",
       "      <td>0</td>\n",
       "      <td>0</td>\n",
       "    </tr>\n",
       "  </tbody>\n",
       "</table>\n",
       "</div>"
      ],
      "text/plain": [
       "       区域 红线封禁需准出 质量不合格需准出_快车 质量不合格需准出_优享 质量不合格需准出_总计 质量不合格需准出_总计（新）  \\\n",
       "8    沪苏区域       0          31           1          32             64   \n",
       "3    中南区域       0          37           1          38             80   \n",
       "4    西南区域       0          83          12          95            262   \n",
       "6    华东区域       0         104           0         104            250   \n",
       "9    广东区域       0         102           3         105            194   \n",
       "5   鲁津冀区域       0          46           2          48             89   \n",
       "7    华北区域       0         104           2         106            186   \n",
       "2    中西区域       0          87           2          89            128   \n",
       "10     全国       0         594          23         617           1253   \n",
       "\n",
       "   质量不合格已准出_快车 质量不合格已准出_优享 质量不合格已准出_总计  不合格_准出进度 观察期_总计 观察期_已准出 剔除观察期_准出进度  \\\n",
       "8            3           0           3   0.09375     32       3     111.11   \n",
       "3            4           0           4  0.105263     35       1          1   \n",
       "4           20           1          21  0.221053     74       9   0.571429   \n",
       "6           24           0          24  0.230769     80      14   0.416667   \n",
       "9            9           0           9  0.085714     61       3   0.136364   \n",
       "5            3           0           3    0.0625     30       1   0.111111   \n",
       "7           10           1          11  0.103774      0       0   0.103774   \n",
       "2            2           0           2  0.022472     58       0   0.064516   \n",
       "10          75           2          77  0.124797    370      31   0.186235   \n",
       "\n",
       "   强准出_总计 强准出_已准出  强准出_准出进度 非磐石目标准出 非目标_已准出 非目标准出进度  \n",
       "8       0       0        ——       1       0       0  \n",
       "3      10       1       0.1       5       0       0  \n",
       "4       0       0        ——       3       0       0  \n",
       "6       0       0        ——       9       0       0  \n",
       "9      36       6  0.166667       5       0       0  \n",
       "5       0       0        ——       8       0       0  \n",
       "7       0       0        ——       2       0       0  \n",
       "2      18       0         0       5       0       0  \n",
       "10     64       7  0.109375      38       0       0  "
      ]
     },
     "execution_count": 99,
     "metadata": {},
     "output_type": "execute_result"
    }
   ],
   "source": [
    "zc_ppt = zc.iloc[:-1,:].sort_values(by=['剔除观察期_准出进度'],ascending=False).append(zc.iloc[-1])   #除最后一行外，其余行降序排列\n",
    "# zc_ppt = zc.iloc[:-1,:].sort_values(by=['不合格_准出进度'],ascending=False).append(zc.iloc[-1])   #除最后一行外，其余行降序排列\n",
    "zc_ppt"
   ]
  },
  {
   "cell_type": "code",
   "execution_count": 100,
   "metadata": {
    "ExecuteTime": {
     "end_time": "2021-12-28T06:53:04.786634Z",
     "start_time": "2021-12-28T06:53:04.727791Z"
    }
   },
   "outputs": [],
   "source": [
    "# 写入excel\n",
    "\n",
    "wbpp = load_workbook('周报_ppt.xlsx')   # excel中设置模板格式\n",
    "wspp = wbpp['ppt']\n",
    "\n",
    "wspp.append([])\n",
    "wspp.append(['{0}准出进度{0}'.format('*'*20)])\n",
    "wspp.append([])\n",
    "for r in dataframe_to_rows(zc_ppt, index=False, header=True):\n",
    "    wspp.append(r)\n",
    "    \n",
    "wbpp.save('周报_ppt.xlsx')  "
   ]
  },
  {
   "cell_type": "markdown",
   "metadata": {},
   "source": [
    "#### 邮件"
   ]
  },
  {
   "cell_type": "code",
   "execution_count": 101,
   "metadata": {
    "ExecuteTime": {
     "end_time": "2021-12-28T06:53:04.815557Z",
     "start_time": "2021-12-28T06:53:04.788629Z"
    }
   },
   "outputs": [
    {
     "data": {
      "text/html": [
       "<div>\n",
       "<style scoped>\n",
       "    .dataframe tbody tr th:only-of-type {\n",
       "        vertical-align: middle;\n",
       "    }\n",
       "\n",
       "    .dataframe tbody tr th {\n",
       "        vertical-align: top;\n",
       "    }\n",
       "\n",
       "    .dataframe thead th {\n",
       "        text-align: right;\n",
       "    }\n",
       "</style>\n",
       "<table border=\"1\" class=\"dataframe\">\n",
       "  <thead>\n",
       "    <tr style=\"text-align: right;\">\n",
       "      <th></th>\n",
       "      <th>区域</th>\n",
       "      <th>质量不合格需准出_总计</th>\n",
       "      <th>质量不合格已准出_总计</th>\n",
       "      <th>不合格_准出进度</th>\n",
       "      <th>观察期_总计</th>\n",
       "      <th>观察期_已准出</th>\n",
       "      <th>剔除观察期_准出进度</th>\n",
       "      <th>强准出_总计</th>\n",
       "      <th>强准出_已准出</th>\n",
       "      <th>强准出_准出进度</th>\n",
       "      <th>非磐石目标准出</th>\n",
       "      <th>非目标_已准出</th>\n",
       "      <th>非目标准出进度</th>\n",
       "    </tr>\n",
       "  </thead>\n",
       "  <tbody>\n",
       "    <tr>\n",
       "      <th>2</th>\n",
       "      <td>中西区域</td>\n",
       "      <td>89</td>\n",
       "      <td>2</td>\n",
       "      <td>0.022472</td>\n",
       "      <td>58</td>\n",
       "      <td>0</td>\n",
       "      <td>0.064516</td>\n",
       "      <td>18</td>\n",
       "      <td>0</td>\n",
       "      <td>0</td>\n",
       "      <td>5</td>\n",
       "      <td>0</td>\n",
       "      <td>0</td>\n",
       "    </tr>\n",
       "    <tr>\n",
       "      <th>3</th>\n",
       "      <td>中南区域</td>\n",
       "      <td>38</td>\n",
       "      <td>4</td>\n",
       "      <td>0.105263</td>\n",
       "      <td>35</td>\n",
       "      <td>1</td>\n",
       "      <td>1</td>\n",
       "      <td>10</td>\n",
       "      <td>1</td>\n",
       "      <td>0.1</td>\n",
       "      <td>5</td>\n",
       "      <td>0</td>\n",
       "      <td>0</td>\n",
       "    </tr>\n",
       "    <tr>\n",
       "      <th>4</th>\n",
       "      <td>西南区域</td>\n",
       "      <td>95</td>\n",
       "      <td>21</td>\n",
       "      <td>0.221053</td>\n",
       "      <td>74</td>\n",
       "      <td>9</td>\n",
       "      <td>0.571429</td>\n",
       "      <td>0</td>\n",
       "      <td>0</td>\n",
       "      <td>——</td>\n",
       "      <td>3</td>\n",
       "      <td>0</td>\n",
       "      <td>0</td>\n",
       "    </tr>\n",
       "    <tr>\n",
       "      <th>5</th>\n",
       "      <td>鲁津冀区域</td>\n",
       "      <td>48</td>\n",
       "      <td>3</td>\n",
       "      <td>0.0625</td>\n",
       "      <td>30</td>\n",
       "      <td>1</td>\n",
       "      <td>0.111111</td>\n",
       "      <td>0</td>\n",
       "      <td>0</td>\n",
       "      <td>——</td>\n",
       "      <td>8</td>\n",
       "      <td>0</td>\n",
       "      <td>0</td>\n",
       "    </tr>\n",
       "    <tr>\n",
       "      <th>6</th>\n",
       "      <td>华东区域</td>\n",
       "      <td>104</td>\n",
       "      <td>24</td>\n",
       "      <td>0.230769</td>\n",
       "      <td>80</td>\n",
       "      <td>14</td>\n",
       "      <td>0.416667</td>\n",
       "      <td>0</td>\n",
       "      <td>0</td>\n",
       "      <td>——</td>\n",
       "      <td>9</td>\n",
       "      <td>0</td>\n",
       "      <td>0</td>\n",
       "    </tr>\n",
       "    <tr>\n",
       "      <th>7</th>\n",
       "      <td>华北区域</td>\n",
       "      <td>106</td>\n",
       "      <td>11</td>\n",
       "      <td>0.103774</td>\n",
       "      <td>0</td>\n",
       "      <td>0</td>\n",
       "      <td>0.103774</td>\n",
       "      <td>0</td>\n",
       "      <td>0</td>\n",
       "      <td>——</td>\n",
       "      <td>2</td>\n",
       "      <td>0</td>\n",
       "      <td>0</td>\n",
       "    </tr>\n",
       "    <tr>\n",
       "      <th>8</th>\n",
       "      <td>沪苏区域</td>\n",
       "      <td>32</td>\n",
       "      <td>3</td>\n",
       "      <td>0.09375</td>\n",
       "      <td>32</td>\n",
       "      <td>3</td>\n",
       "      <td>111.11</td>\n",
       "      <td>0</td>\n",
       "      <td>0</td>\n",
       "      <td>——</td>\n",
       "      <td>1</td>\n",
       "      <td>0</td>\n",
       "      <td>0</td>\n",
       "    </tr>\n",
       "    <tr>\n",
       "      <th>9</th>\n",
       "      <td>广东区域</td>\n",
       "      <td>105</td>\n",
       "      <td>9</td>\n",
       "      <td>0.085714</td>\n",
       "      <td>61</td>\n",
       "      <td>3</td>\n",
       "      <td>0.136364</td>\n",
       "      <td>36</td>\n",
       "      <td>6</td>\n",
       "      <td>0.166667</td>\n",
       "      <td>5</td>\n",
       "      <td>0</td>\n",
       "      <td>0</td>\n",
       "    </tr>\n",
       "    <tr>\n",
       "      <th>10</th>\n",
       "      <td>全国</td>\n",
       "      <td>617</td>\n",
       "      <td>77</td>\n",
       "      <td>0.124797</td>\n",
       "      <td>370</td>\n",
       "      <td>31</td>\n",
       "      <td>0.186235</td>\n",
       "      <td>64</td>\n",
       "      <td>7</td>\n",
       "      <td>0.109375</td>\n",
       "      <td>38</td>\n",
       "      <td>0</td>\n",
       "      <td>0</td>\n",
       "    </tr>\n",
       "  </tbody>\n",
       "</table>\n",
       "</div>"
      ],
      "text/plain": [
       "       区域 质量不合格需准出_总计 质量不合格已准出_总计  不合格_准出进度 观察期_总计 观察期_已准出 剔除观察期_准出进度 强准出_总计  \\\n",
       "2    中西区域          89           2  0.022472     58       0   0.064516     18   \n",
       "3    中南区域          38           4  0.105263     35       1          1     10   \n",
       "4    西南区域          95          21  0.221053     74       9   0.571429      0   \n",
       "5   鲁津冀区域          48           3    0.0625     30       1   0.111111      0   \n",
       "6    华东区域         104          24  0.230769     80      14   0.416667      0   \n",
       "7    华北区域         106          11  0.103774      0       0   0.103774      0   \n",
       "8    沪苏区域          32           3   0.09375     32       3     111.11      0   \n",
       "9    广东区域         105           9  0.085714     61       3   0.136364     36   \n",
       "10     全国         617          77  0.124797    370      31   0.186235     64   \n",
       "\n",
       "   强准出_已准出  强准出_准出进度 非磐石目标准出 非目标_已准出 非目标准出进度  \n",
       "2        0         0       5       0       0  \n",
       "3        1       0.1       5       0       0  \n",
       "4        0        ——       3       0       0  \n",
       "5        0        ——       8       0       0  \n",
       "6        0        ——       9       0       0  \n",
       "7        0        ——       2       0       0  \n",
       "8        0        ——       1       0       0  \n",
       "9        6  0.166667       5       0       0  \n",
       "10       7  0.109375      38       0       0  "
      ]
     },
     "execution_count": 101,
     "metadata": {},
     "output_type": "execute_result"
    }
   ],
   "source": [
    "dfm2 = zc[['区域','质量不合格需准出_总计','质量不合格已准出_总计','不合格_准出进度',\\\n",
    "                  '观察期_总计','观察期_已准出','剔除观察期_准出进度',\\\n",
    "                  '强准出_总计','强准出_已准出','强准出_准出进度',\\\n",
    "                  '非磐石目标准出','非目标_已准出','非目标准出进度']]\n",
    "\n",
    "dfm2"
   ]
  },
  {
   "cell_type": "code",
   "execution_count": 102,
   "metadata": {
    "ExecuteTime": {
     "end_time": "2021-12-28T06:53:04.829520Z",
     "start_time": "2021-12-28T06:53:04.818549Z"
    }
   },
   "outputs": [
    {
     "data": {
      "text/plain": [
       "(['中西区域', '中南区域', '西南区域', '鲁津冀区域', '华东区域', '华北区域', '沪苏区域', '广东区域', '全国'],\n",
       " [[89, 2, 0.02247191011235955, 58, 0, 0.06451612903225806, 18, 0, 0, 5, 0, 0],\n",
       "  [38, 4, 0.10526315789473684, 35, 1, 1, 10, 1, 0.1, 5, 0, 0],\n",
       "  [95,\n",
       "   21,\n",
       "   0.22105263157894736,\n",
       "   74,\n",
       "   9,\n",
       "   0.5714285714285714,\n",
       "   0,\n",
       "   0,\n",
       "   '——',\n",
       "   3,\n",
       "   0,\n",
       "   0],\n",
       "  [48, 3, 0.0625, 30, 1, 0.1111111111111111, 0, 0, '——', 8, 0, 0],\n",
       "  [104,\n",
       "   24,\n",
       "   0.23076923076923078,\n",
       "   80,\n",
       "   14,\n",
       "   0.4166666666666667,\n",
       "   0,\n",
       "   0,\n",
       "   '——',\n",
       "   9,\n",
       "   0,\n",
       "   0],\n",
       "  [106,\n",
       "   11,\n",
       "   0.10377358490566038,\n",
       "   0,\n",
       "   0,\n",
       "   0.10377358490566038,\n",
       "   0,\n",
       "   0,\n",
       "   '——',\n",
       "   2,\n",
       "   0,\n",
       "   0],\n",
       "  [32, 3, 0.09375, 32, 3, 111.11, 0, 0, '——', 1, 0, 0],\n",
       "  [105,\n",
       "   9,\n",
       "   0.08571428571428572,\n",
       "   61,\n",
       "   3,\n",
       "   0.13636363636363635,\n",
       "   36,\n",
       "   6,\n",
       "   0.16666666666666666,\n",
       "   5,\n",
       "   0,\n",
       "   0],\n",
       "  [617,\n",
       "   77,\n",
       "   0.12479740680713128,\n",
       "   370,\n",
       "   31,\n",
       "   0.1862348178137652,\n",
       "   64,\n",
       "   7,\n",
       "   0.109375,\n",
       "   38,\n",
       "   0,\n",
       "   0]])"
      ]
     },
     "execution_count": 102,
     "metadata": {},
     "output_type": "execute_result"
    }
   ],
   "source": [
    "# 写入excel\n",
    "data1 = dfm2.iloc[:,0].values.tolist()\n",
    "data2 = dfm2.iloc[:,1:].values.tolist()   \n",
    "data1,data2"
   ]
  },
  {
   "cell_type": "code",
   "execution_count": 103,
   "metadata": {
    "ExecuteTime": {
     "end_time": "2021-12-28T06:53:04.937231Z",
     "start_time": "2021-12-28T06:53:04.831514Z"
    }
   },
   "outputs": [],
   "source": [
    "wbmm = load_workbook('周报邮件版.xlsx') \n",
    "wsmm = wbmm['队长准出-邮件']"
   ]
  },
  {
   "cell_type": "code",
   "execution_count": 104,
   "metadata": {
    "ExecuteTime": {
     "end_time": "2021-12-28T06:53:05.004052Z",
     "start_time": "2021-12-28T06:53:04.939226Z"
    }
   },
   "outputs": [],
   "source": [
    "# 写入data\n",
    "# write_r_c(index,column,ws,lt)\n",
    "def write_r_c(index,column,ws,lt):\n",
    "    for i in range(len(lt)):\n",
    "        ws.cell(index,column+i).value = lt[i]\n",
    "            #选择填入某行的单元格\n",
    "            \n",
    "def write_col(index,column,ws,lt):  #固定column行，填充列\n",
    "    for i in range(len(lt)):\n",
    "        ws.cell(index+i,column).value = lt[i]\n",
    "        \n",
    "write_col(4,1,wsmm,data1)   #从A4开始写\n",
    "\n",
    "for i in range(len(data2)):\n",
    "    write_r_c(4+i,3,wsmm,data2[i])  #从C4开始写\n",
    "    \n",
    "wbmm.save('周报邮件版.xlsx')        "
   ]
  },
  {
   "cell_type": "markdown",
   "metadata": {},
   "source": [
    "### 队长月会"
   ]
  },
  {
   "cell_type": "code",
   "execution_count": 105,
   "metadata": {
    "ExecuteTime": {
     "end_time": "2021-12-28T06:53:05.009039Z",
     "start_time": "2021-12-28T06:53:05.005049Z"
    }
   },
   "outputs": [],
   "source": [
    "yh_ppt = pd.DataFrame(wsm03.values)"
   ]
  },
  {
   "cell_type": "code",
   "execution_count": 106,
   "metadata": {
    "ExecuteTime": {
     "end_time": "2021-12-28T06:53:05.023999Z",
     "start_time": "2021-12-28T06:53:05.010037Z"
    }
   },
   "outputs": [
    {
     "data": {
      "text/html": [
       "<div>\n",
       "<style scoped>\n",
       "    .dataframe tbody tr th:only-of-type {\n",
       "        vertical-align: middle;\n",
       "    }\n",
       "\n",
       "    .dataframe tbody tr th {\n",
       "        vertical-align: top;\n",
       "    }\n",
       "\n",
       "    .dataframe thead th {\n",
       "        text-align: right;\n",
       "    }\n",
       "</style>\n",
       "<table border=\"1\" class=\"dataframe\">\n",
       "  <thead>\n",
       "    <tr style=\"text-align: right;\">\n",
       "      <th></th>\n",
       "      <th>区域</th>\n",
       "      <th>队长月会到场人数</th>\n",
       "      <th>队长人数</th>\n",
       "      <th>队长月会覆盖率</th>\n",
       "      <th>考试通过人数</th>\n",
       "      <th>考试总人数</th>\n",
       "      <th>考试通过率</th>\n",
       "    </tr>\n",
       "  </thead>\n",
       "  <tbody>\n",
       "    <tr>\n",
       "      <th>1</th>\n",
       "      <td>广东区域</td>\n",
       "      <td>3006</td>\n",
       "      <td>3508</td>\n",
       "      <td>0.856899</td>\n",
       "      <td>2995</td>\n",
       "      <td>2998</td>\n",
       "      <td>0.998999</td>\n",
       "    </tr>\n",
       "    <tr>\n",
       "      <th>2</th>\n",
       "      <td>沪苏区域</td>\n",
       "      <td>188</td>\n",
       "      <td>199</td>\n",
       "      <td>0.944724</td>\n",
       "      <td>188</td>\n",
       "      <td>188</td>\n",
       "      <td>1</td>\n",
       "    </tr>\n",
       "    <tr>\n",
       "      <th>3</th>\n",
       "      <td>华北区域</td>\n",
       "      <td>1995</td>\n",
       "      <td>2227</td>\n",
       "      <td>0.895824</td>\n",
       "      <td>1986</td>\n",
       "      <td>1990</td>\n",
       "      <td>0.99799</td>\n",
       "    </tr>\n",
       "    <tr>\n",
       "      <th>4</th>\n",
       "      <td>华东区域</td>\n",
       "      <td>2904</td>\n",
       "      <td>3136</td>\n",
       "      <td>0.92602</td>\n",
       "      <td>2859</td>\n",
       "      <td>2864</td>\n",
       "      <td>0.998254</td>\n",
       "    </tr>\n",
       "    <tr>\n",
       "      <th>5</th>\n",
       "      <td>鲁津冀区域</td>\n",
       "      <td>521</td>\n",
       "      <td>561</td>\n",
       "      <td>0.928699</td>\n",
       "      <td>518</td>\n",
       "      <td>519</td>\n",
       "      <td>0.998073</td>\n",
       "    </tr>\n",
       "    <tr>\n",
       "      <th>6</th>\n",
       "      <td>西南区域</td>\n",
       "      <td>1411</td>\n",
       "      <td>2106</td>\n",
       "      <td>0.669991</td>\n",
       "      <td>1340</td>\n",
       "      <td>1343</td>\n",
       "      <td>0.997766</td>\n",
       "    </tr>\n",
       "    <tr>\n",
       "      <th>7</th>\n",
       "      <td>中南区域</td>\n",
       "      <td>1320</td>\n",
       "      <td>1585</td>\n",
       "      <td>0.832808</td>\n",
       "      <td>1304</td>\n",
       "      <td>1311</td>\n",
       "      <td>0.994661</td>\n",
       "    </tr>\n",
       "    <tr>\n",
       "      <th>8</th>\n",
       "      <td>中西区域</td>\n",
       "      <td>447</td>\n",
       "      <td>609</td>\n",
       "      <td>0.73399</td>\n",
       "      <td>447</td>\n",
       "      <td>447</td>\n",
       "      <td>1</td>\n",
       "    </tr>\n",
       "    <tr>\n",
       "      <th>9</th>\n",
       "      <td>全国</td>\n",
       "      <td>11792</td>\n",
       "      <td>13931</td>\n",
       "      <td>0.846458</td>\n",
       "      <td>3877</td>\n",
       "      <td>3897</td>\n",
       "      <td>0.994868</td>\n",
       "    </tr>\n",
       "  </tbody>\n",
       "</table>\n",
       "</div>"
      ],
      "text/plain": [
       "0     区域 队长月会到场人数   队长人数   队长月会覆盖率 考试通过人数 考试总人数     考试通过率\n",
       "1   广东区域     3006   3508  0.856899   2995  2998  0.998999\n",
       "2   沪苏区域      188    199  0.944724    188   188         1\n",
       "3   华北区域     1995   2227  0.895824   1986  1990   0.99799\n",
       "4   华东区域     2904   3136   0.92602   2859  2864  0.998254\n",
       "5  鲁津冀区域      521    561  0.928699    518   519  0.998073\n",
       "6   西南区域     1411   2106  0.669991   1340  1343  0.997766\n",
       "7   中南区域     1320   1585  0.832808   1304  1311  0.994661\n",
       "8   中西区域      447    609   0.73399    447   447         1\n",
       "9     全国    11792  13931  0.846458   3877  3897  0.994868"
      ]
     },
     "execution_count": 106,
     "metadata": {},
     "output_type": "execute_result"
    }
   ],
   "source": [
    "yh_ppt.set_axis(yh_ppt.iloc[0],axis=1,inplace=True)  #将某一行设置为行索引\n",
    "yh_ppt = yh_ppt.drop(index=0) #drop掉第1行\n",
    "yh_ppt"
   ]
  },
  {
   "cell_type": "code",
   "execution_count": 107,
   "metadata": {
    "ExecuteTime": {
     "end_time": "2021-12-28T06:53:05.041950Z",
     "start_time": "2021-12-28T06:53:05.025994Z"
    }
   },
   "outputs": [
    {
     "data": {
      "text/html": [
       "<div>\n",
       "<style scoped>\n",
       "    .dataframe tbody tr th:only-of-type {\n",
       "        vertical-align: middle;\n",
       "    }\n",
       "\n",
       "    .dataframe tbody tr th {\n",
       "        vertical-align: top;\n",
       "    }\n",
       "\n",
       "    .dataframe thead th {\n",
       "        text-align: right;\n",
       "    }\n",
       "</style>\n",
       "<table border=\"1\" class=\"dataframe\">\n",
       "  <thead>\n",
       "    <tr style=\"text-align: right;\">\n",
       "      <th></th>\n",
       "      <th>区域</th>\n",
       "      <th>队长月会到场人数</th>\n",
       "      <th>队长人数</th>\n",
       "      <th>队长月会覆盖率</th>\n",
       "      <th>考试通过人数</th>\n",
       "      <th>考试总人数</th>\n",
       "      <th>考试通过率</th>\n",
       "    </tr>\n",
       "  </thead>\n",
       "  <tbody>\n",
       "    <tr>\n",
       "      <th>2</th>\n",
       "      <td>沪苏区域</td>\n",
       "      <td>188</td>\n",
       "      <td>199</td>\n",
       "      <td>0.944724</td>\n",
       "      <td>188</td>\n",
       "      <td>188</td>\n",
       "      <td>1</td>\n",
       "    </tr>\n",
       "    <tr>\n",
       "      <th>5</th>\n",
       "      <td>鲁津冀区域</td>\n",
       "      <td>521</td>\n",
       "      <td>561</td>\n",
       "      <td>0.928699</td>\n",
       "      <td>518</td>\n",
       "      <td>519</td>\n",
       "      <td>0.998073</td>\n",
       "    </tr>\n",
       "    <tr>\n",
       "      <th>4</th>\n",
       "      <td>华东区域</td>\n",
       "      <td>2904</td>\n",
       "      <td>3136</td>\n",
       "      <td>0.92602</td>\n",
       "      <td>2859</td>\n",
       "      <td>2864</td>\n",
       "      <td>0.998254</td>\n",
       "    </tr>\n",
       "    <tr>\n",
       "      <th>3</th>\n",
       "      <td>华北区域</td>\n",
       "      <td>1995</td>\n",
       "      <td>2227</td>\n",
       "      <td>0.895824</td>\n",
       "      <td>1986</td>\n",
       "      <td>1990</td>\n",
       "      <td>0.99799</td>\n",
       "    </tr>\n",
       "    <tr>\n",
       "      <th>1</th>\n",
       "      <td>广东区域</td>\n",
       "      <td>3006</td>\n",
       "      <td>3508</td>\n",
       "      <td>0.856899</td>\n",
       "      <td>2995</td>\n",
       "      <td>2998</td>\n",
       "      <td>0.998999</td>\n",
       "    </tr>\n",
       "    <tr>\n",
       "      <th>7</th>\n",
       "      <td>中南区域</td>\n",
       "      <td>1320</td>\n",
       "      <td>1585</td>\n",
       "      <td>0.832808</td>\n",
       "      <td>1304</td>\n",
       "      <td>1311</td>\n",
       "      <td>0.994661</td>\n",
       "    </tr>\n",
       "    <tr>\n",
       "      <th>8</th>\n",
       "      <td>中西区域</td>\n",
       "      <td>447</td>\n",
       "      <td>609</td>\n",
       "      <td>0.73399</td>\n",
       "      <td>447</td>\n",
       "      <td>447</td>\n",
       "      <td>1</td>\n",
       "    </tr>\n",
       "    <tr>\n",
       "      <th>6</th>\n",
       "      <td>西南区域</td>\n",
       "      <td>1411</td>\n",
       "      <td>2106</td>\n",
       "      <td>0.669991</td>\n",
       "      <td>1340</td>\n",
       "      <td>1343</td>\n",
       "      <td>0.997766</td>\n",
       "    </tr>\n",
       "    <tr>\n",
       "      <th>9</th>\n",
       "      <td>全国</td>\n",
       "      <td>11792</td>\n",
       "      <td>13931</td>\n",
       "      <td>0.846458</td>\n",
       "      <td>3877</td>\n",
       "      <td>3897</td>\n",
       "      <td>0.994868</td>\n",
       "    </tr>\n",
       "  </tbody>\n",
       "</table>\n",
       "</div>"
      ],
      "text/plain": [
       "0     区域 队长月会到场人数   队长人数   队长月会覆盖率 考试通过人数 考试总人数     考试通过率\n",
       "2   沪苏区域      188    199  0.944724    188   188         1\n",
       "5  鲁津冀区域      521    561  0.928699    518   519  0.998073\n",
       "4   华东区域     2904   3136   0.92602   2859  2864  0.998254\n",
       "3   华北区域     1995   2227  0.895824   1986  1990   0.99799\n",
       "1   广东区域     3006   3508  0.856899   2995  2998  0.998999\n",
       "7   中南区域     1320   1585  0.832808   1304  1311  0.994661\n",
       "8   中西区域      447    609   0.73399    447   447         1\n",
       "6   西南区域     1411   2106  0.669991   1340  1343  0.997766\n",
       "9     全国    11792  13931  0.846458   3877  3897  0.994868"
      ]
     },
     "execution_count": 107,
     "metadata": {},
     "output_type": "execute_result"
    }
   ],
   "source": [
    "yh_ppt = yh_ppt.iloc[:-1,:].sort_values(by=['队长月会覆盖率'],ascending=False).append(yh_ppt.iloc[-1])   #除最后一行外，其余行降序排列\n",
    "yh_ppt"
   ]
  },
  {
   "cell_type": "markdown",
   "metadata": {},
   "source": [
    "#### ppt\n",
    "> 在第一单元"
   ]
  },
  {
   "cell_type": "code",
   "execution_count": 108,
   "metadata": {
    "ExecuteTime": {
     "end_time": "2021-12-28T06:53:05.097801Z",
     "start_time": "2021-12-28T06:53:05.042948Z"
    }
   },
   "outputs": [],
   "source": [
    "# 写入excel\n",
    "\n",
    "wbpp = load_workbook('周报_ppt.xlsx')   # excel中设置模板格式\n",
    "wspp = wbpp['ppt']\n",
    "\n",
    "wspp.append([])\n",
    "wspp.append(['{0}3-队长月会{0}'.format('*'*15)])\n",
    "wspp.append([])\n",
    "for r in dataframe_to_rows(yh_ppt, index=False, header=True):\n",
    "    wspp.append(r)\n",
    "    \n",
    "wbpp.save('周报_ppt.xlsx')  "
   ]
  },
  {
   "cell_type": "markdown",
   "metadata": {},
   "source": [
    "### 安全辅导员"
   ]
  },
  {
   "cell_type": "code",
   "execution_count": 109,
   "metadata": {
    "ExecuteTime": {
     "end_time": "2021-12-28T06:53:05.121739Z",
     "start_time": "2021-12-28T06:53:05.098800Z"
    }
   },
   "outputs": [
    {
     "data": {
      "text/html": [
       "<div>\n",
       "<style scoped>\n",
       "    .dataframe tbody tr th:only-of-type {\n",
       "        vertical-align: middle;\n",
       "    }\n",
       "\n",
       "    .dataframe tbody tr th {\n",
       "        vertical-align: top;\n",
       "    }\n",
       "\n",
       "    .dataframe thead th {\n",
       "        text-align: right;\n",
       "    }\n",
       "</style>\n",
       "<table border=\"1\" class=\"dataframe\">\n",
       "  <thead>\n",
       "    <tr style=\"text-align: right;\">\n",
       "      <th></th>\n",
       "      <th>0</th>\n",
       "      <th>1</th>\n",
       "      <th>2</th>\n",
       "      <th>3</th>\n",
       "      <th>4</th>\n",
       "      <th>5</th>\n",
       "      <th>6</th>\n",
       "      <th>7</th>\n",
       "      <th>8</th>\n",
       "    </tr>\n",
       "  </thead>\n",
       "  <tbody>\n",
       "    <tr>\n",
       "      <th>0</th>\n",
       "      <td>大区</td>\n",
       "      <td>触发任务数</td>\n",
       "      <td>完成沟通任务数</td>\n",
       "      <td>上升线索数</td>\n",
       "      <td>有效线索数</td>\n",
       "      <td>任务完成率</td>\n",
       "      <td>有效线索率</td>\n",
       "      <td>沟通率目标</td>\n",
       "      <td>有效线索率目标</td>\n",
       "    </tr>\n",
       "    <tr>\n",
       "      <th>1</th>\n",
       "      <td>华东区域</td>\n",
       "      <td>3781</td>\n",
       "      <td>3566</td>\n",
       "      <td>378</td>\n",
       "      <td>144</td>\n",
       "      <td>0.943137</td>\n",
       "      <td>0.380952</td>\n",
       "      <td>0.9</td>\n",
       "      <td>0.3</td>\n",
       "    </tr>\n",
       "    <tr>\n",
       "      <th>2</th>\n",
       "      <td>广东区域</td>\n",
       "      <td>3390</td>\n",
       "      <td>3159</td>\n",
       "      <td>376</td>\n",
       "      <td>11</td>\n",
       "      <td>0.931858</td>\n",
       "      <td>0.029255</td>\n",
       "      <td>0.9</td>\n",
       "      <td>0.3</td>\n",
       "    </tr>\n",
       "    <tr>\n",
       "      <th>3</th>\n",
       "      <td>鲁津冀区域</td>\n",
       "      <td>2397</td>\n",
       "      <td>2270</td>\n",
       "      <td>230</td>\n",
       "      <td>34</td>\n",
       "      <td>0.947017</td>\n",
       "      <td>0.147826</td>\n",
       "      <td>0.9</td>\n",
       "      <td>0.3</td>\n",
       "    </tr>\n",
       "    <tr>\n",
       "      <th>4</th>\n",
       "      <td>西南区域</td>\n",
       "      <td>2019</td>\n",
       "      <td>1878</td>\n",
       "      <td>248</td>\n",
       "      <td>0</td>\n",
       "      <td>0.930163</td>\n",
       "      <td>0</td>\n",
       "      <td>0.9</td>\n",
       "      <td>0.3</td>\n",
       "    </tr>\n",
       "    <tr>\n",
       "      <th>5</th>\n",
       "      <td>华北区域</td>\n",
       "      <td>1803</td>\n",
       "      <td>1722</td>\n",
       "      <td>154</td>\n",
       "      <td>59</td>\n",
       "      <td>0.955075</td>\n",
       "      <td>0.383117</td>\n",
       "      <td>0.9</td>\n",
       "      <td>0.3</td>\n",
       "    </tr>\n",
       "    <tr>\n",
       "      <th>6</th>\n",
       "      <td>中南区域</td>\n",
       "      <td>1732</td>\n",
       "      <td>1675</td>\n",
       "      <td>160</td>\n",
       "      <td>39</td>\n",
       "      <td>0.96709</td>\n",
       "      <td>0.24375</td>\n",
       "      <td>0.9</td>\n",
       "      <td>0.3</td>\n",
       "    </tr>\n",
       "    <tr>\n",
       "      <th>7</th>\n",
       "      <td>沪苏区域</td>\n",
       "      <td>1618</td>\n",
       "      <td>1451</td>\n",
       "      <td>253</td>\n",
       "      <td>5</td>\n",
       "      <td>0.896786</td>\n",
       "      <td>0.019763</td>\n",
       "      <td>0.9</td>\n",
       "      <td>0.3</td>\n",
       "    </tr>\n",
       "    <tr>\n",
       "      <th>8</th>\n",
       "      <td>中西区域</td>\n",
       "      <td>1370</td>\n",
       "      <td>1253</td>\n",
       "      <td>166</td>\n",
       "      <td>77</td>\n",
       "      <td>0.914599</td>\n",
       "      <td>0.463855</td>\n",
       "      <td>0.9</td>\n",
       "      <td>0.3</td>\n",
       "    </tr>\n",
       "    <tr>\n",
       "      <th>9</th>\n",
       "      <td>全国</td>\n",
       "      <td>18110</td>\n",
       "      <td>16974</td>\n",
       "      <td>1965</td>\n",
       "      <td>369</td>\n",
       "      <td>0.937272</td>\n",
       "      <td>0.187786</td>\n",
       "      <td>0.9</td>\n",
       "      <td>0.3</td>\n",
       "    </tr>\n",
       "  </tbody>\n",
       "</table>\n",
       "</div>"
      ],
      "text/plain": [
       "       0      1        2      3      4         5         6      7        8\n",
       "0     大区  触发任务数  完成沟通任务数  上升线索数  有效线索数     任务完成率     有效线索率  沟通率目标  有效线索率目标\n",
       "1   华东区域   3781     3566    378    144  0.943137  0.380952    0.9      0.3\n",
       "2   广东区域   3390     3159    376     11  0.931858  0.029255    0.9      0.3\n",
       "3  鲁津冀区域   2397     2270    230     34  0.947017  0.147826    0.9      0.3\n",
       "4   西南区域   2019     1878    248      0  0.930163         0    0.9      0.3\n",
       "5   华北区域   1803     1722    154     59  0.955075  0.383117    0.9      0.3\n",
       "6   中南区域   1732     1675    160     39   0.96709   0.24375    0.9      0.3\n",
       "7   沪苏区域   1618     1451    253      5  0.896786  0.019763    0.9      0.3\n",
       "8   中西区域   1370     1253    166     77  0.914599  0.463855    0.9      0.3\n",
       "9     全国  18110    16974   1965    369  0.937272  0.187786    0.9      0.3"
      ]
     },
     "execution_count": 109,
     "metadata": {},
     "output_type": "execute_result"
    },
    {
     "data": {
      "text/html": [
       "<div>\n",
       "<style scoped>\n",
       "    .dataframe tbody tr th:only-of-type {\n",
       "        vertical-align: middle;\n",
       "    }\n",
       "\n",
       "    .dataframe tbody tr th {\n",
       "        vertical-align: top;\n",
       "    }\n",
       "\n",
       "    .dataframe thead th {\n",
       "        text-align: right;\n",
       "    }\n",
       "</style>\n",
       "<table border=\"1\" class=\"dataframe\">\n",
       "  <thead>\n",
       "    <tr style=\"text-align: right;\">\n",
       "      <th></th>\n",
       "      <th>区域</th>\n",
       "      <th>触发任务数</th>\n",
       "      <th>完成沟通任务数</th>\n",
       "      <th>上升线索数</th>\n",
       "      <th>有效线索数</th>\n",
       "      <th>任务完成率</th>\n",
       "      <th>有效线索率</th>\n",
       "      <th>沟通率目标</th>\n",
       "      <th>有效线索率目标</th>\n",
       "    </tr>\n",
       "  </thead>\n",
       "  <tbody>\n",
       "    <tr>\n",
       "      <th>1</th>\n",
       "      <td>华东区域</td>\n",
       "      <td>3781</td>\n",
       "      <td>3566</td>\n",
       "      <td>378</td>\n",
       "      <td>144</td>\n",
       "      <td>0.943137</td>\n",
       "      <td>0.380952</td>\n",
       "      <td>0.9</td>\n",
       "      <td>0.3</td>\n",
       "    </tr>\n",
       "    <tr>\n",
       "      <th>2</th>\n",
       "      <td>广东区域</td>\n",
       "      <td>3390</td>\n",
       "      <td>3159</td>\n",
       "      <td>376</td>\n",
       "      <td>11</td>\n",
       "      <td>0.931858</td>\n",
       "      <td>0.029255</td>\n",
       "      <td>0.9</td>\n",
       "      <td>0.3</td>\n",
       "    </tr>\n",
       "    <tr>\n",
       "      <th>3</th>\n",
       "      <td>鲁津冀区域</td>\n",
       "      <td>2397</td>\n",
       "      <td>2270</td>\n",
       "      <td>230</td>\n",
       "      <td>34</td>\n",
       "      <td>0.947017</td>\n",
       "      <td>0.147826</td>\n",
       "      <td>0.9</td>\n",
       "      <td>0.3</td>\n",
       "    </tr>\n",
       "    <tr>\n",
       "      <th>4</th>\n",
       "      <td>西南区域</td>\n",
       "      <td>2019</td>\n",
       "      <td>1878</td>\n",
       "      <td>248</td>\n",
       "      <td>0</td>\n",
       "      <td>0.930163</td>\n",
       "      <td>0</td>\n",
       "      <td>0.9</td>\n",
       "      <td>0.3</td>\n",
       "    </tr>\n",
       "    <tr>\n",
       "      <th>5</th>\n",
       "      <td>华北区域</td>\n",
       "      <td>1803</td>\n",
       "      <td>1722</td>\n",
       "      <td>154</td>\n",
       "      <td>59</td>\n",
       "      <td>0.955075</td>\n",
       "      <td>0.383117</td>\n",
       "      <td>0.9</td>\n",
       "      <td>0.3</td>\n",
       "    </tr>\n",
       "    <tr>\n",
       "      <th>6</th>\n",
       "      <td>中南区域</td>\n",
       "      <td>1732</td>\n",
       "      <td>1675</td>\n",
       "      <td>160</td>\n",
       "      <td>39</td>\n",
       "      <td>0.96709</td>\n",
       "      <td>0.24375</td>\n",
       "      <td>0.9</td>\n",
       "      <td>0.3</td>\n",
       "    </tr>\n",
       "    <tr>\n",
       "      <th>7</th>\n",
       "      <td>沪苏区域</td>\n",
       "      <td>1618</td>\n",
       "      <td>1451</td>\n",
       "      <td>253</td>\n",
       "      <td>5</td>\n",
       "      <td>0.896786</td>\n",
       "      <td>0.019763</td>\n",
       "      <td>0.9</td>\n",
       "      <td>0.3</td>\n",
       "    </tr>\n",
       "    <tr>\n",
       "      <th>8</th>\n",
       "      <td>中西区域</td>\n",
       "      <td>1370</td>\n",
       "      <td>1253</td>\n",
       "      <td>166</td>\n",
       "      <td>77</td>\n",
       "      <td>0.914599</td>\n",
       "      <td>0.463855</td>\n",
       "      <td>0.9</td>\n",
       "      <td>0.3</td>\n",
       "    </tr>\n",
       "    <tr>\n",
       "      <th>9</th>\n",
       "      <td>全国</td>\n",
       "      <td>18110</td>\n",
       "      <td>16974</td>\n",
       "      <td>1965</td>\n",
       "      <td>369</td>\n",
       "      <td>0.937272</td>\n",
       "      <td>0.187786</td>\n",
       "      <td>0.9</td>\n",
       "      <td>0.3</td>\n",
       "    </tr>\n",
       "  </tbody>\n",
       "</table>\n",
       "</div>"
      ],
      "text/plain": [
       "0     区域  触发任务数 完成沟通任务数 上升线索数 有效线索数     任务完成率     有效线索率 沟通率目标 有效线索率目标\n",
       "1   华东区域   3781    3566   378   144  0.943137  0.380952   0.9     0.3\n",
       "2   广东区域   3390    3159   376    11  0.931858  0.029255   0.9     0.3\n",
       "3  鲁津冀区域   2397    2270   230    34  0.947017  0.147826   0.9     0.3\n",
       "4   西南区域   2019    1878   248     0  0.930163         0   0.9     0.3\n",
       "5   华北区域   1803    1722   154    59  0.955075  0.383117   0.9     0.3\n",
       "6   中南区域   1732    1675   160    39   0.96709   0.24375   0.9     0.3\n",
       "7   沪苏区域   1618    1451   253     5  0.896786  0.019763   0.9     0.3\n",
       "8   中西区域   1370    1253   166    77  0.914599  0.463855   0.9     0.3\n",
       "9     全国  18110   16974  1965   369  0.937272  0.187786   0.9     0.3"
      ]
     },
     "execution_count": 109,
     "metadata": {},
     "output_type": "execute_result"
    }
   ],
   "source": [
    "fd = pd.DataFrame(wsm4.values)\n",
    "fd\n",
    "\n",
    "fd.set_axis(fd.iloc[0],axis=1,inplace=True)  #将某一行设置为行索引\n",
    "fd = fd.drop(index=0) #drop掉第1行\n",
    "fd.rename(columns={'大区':'区域'},inplace=True)\n",
    "fd"
   ]
  },
  {
   "cell_type": "markdown",
   "metadata": {},
   "source": [
    "#### ppt"
   ]
  },
  {
   "cell_type": "code",
   "execution_count": 110,
   "metadata": {
    "ExecuteTime": {
     "end_time": "2021-12-28T06:53:05.188559Z",
     "start_time": "2021-12-28T06:53:05.122735Z"
    },
    "scrolled": true
   },
   "outputs": [
    {
     "data": {
      "text/html": [
       "<div>\n",
       "<style scoped>\n",
       "    .dataframe tbody tr th:only-of-type {\n",
       "        vertical-align: middle;\n",
       "    }\n",
       "\n",
       "    .dataframe tbody tr th {\n",
       "        vertical-align: top;\n",
       "    }\n",
       "\n",
       "    .dataframe thead th {\n",
       "        text-align: right;\n",
       "    }\n",
       "</style>\n",
       "<table border=\"1\" class=\"dataframe\">\n",
       "  <thead>\n",
       "    <tr style=\"text-align: right;\">\n",
       "      <th></th>\n",
       "      <th>区域</th>\n",
       "      <th>触发任务数</th>\n",
       "      <th>完成沟通任务数</th>\n",
       "      <th>上升线索数</th>\n",
       "      <th>有效线索数</th>\n",
       "      <th>任务完成率</th>\n",
       "      <th>有效线索率</th>\n",
       "      <th>沟通率目标</th>\n",
       "      <th>有效线索率目标</th>\n",
       "    </tr>\n",
       "  </thead>\n",
       "  <tbody>\n",
       "    <tr>\n",
       "      <th>6</th>\n",
       "      <td>中南区域</td>\n",
       "      <td>1732</td>\n",
       "      <td>1675</td>\n",
       "      <td>160</td>\n",
       "      <td>39</td>\n",
       "      <td>0.96709</td>\n",
       "      <td>0.24375</td>\n",
       "      <td>0.9</td>\n",
       "      <td>0.3</td>\n",
       "    </tr>\n",
       "    <tr>\n",
       "      <th>5</th>\n",
       "      <td>华北区域</td>\n",
       "      <td>1803</td>\n",
       "      <td>1722</td>\n",
       "      <td>154</td>\n",
       "      <td>59</td>\n",
       "      <td>0.955075</td>\n",
       "      <td>0.383117</td>\n",
       "      <td>0.9</td>\n",
       "      <td>0.3</td>\n",
       "    </tr>\n",
       "    <tr>\n",
       "      <th>3</th>\n",
       "      <td>鲁津冀区域</td>\n",
       "      <td>2397</td>\n",
       "      <td>2270</td>\n",
       "      <td>230</td>\n",
       "      <td>34</td>\n",
       "      <td>0.947017</td>\n",
       "      <td>0.147826</td>\n",
       "      <td>0.9</td>\n",
       "      <td>0.3</td>\n",
       "    </tr>\n",
       "    <tr>\n",
       "      <th>1</th>\n",
       "      <td>华东区域</td>\n",
       "      <td>3781</td>\n",
       "      <td>3566</td>\n",
       "      <td>378</td>\n",
       "      <td>144</td>\n",
       "      <td>0.943137</td>\n",
       "      <td>0.380952</td>\n",
       "      <td>0.9</td>\n",
       "      <td>0.3</td>\n",
       "    </tr>\n",
       "    <tr>\n",
       "      <th>2</th>\n",
       "      <td>广东区域</td>\n",
       "      <td>3390</td>\n",
       "      <td>3159</td>\n",
       "      <td>376</td>\n",
       "      <td>11</td>\n",
       "      <td>0.931858</td>\n",
       "      <td>0.029255</td>\n",
       "      <td>0.9</td>\n",
       "      <td>0.3</td>\n",
       "    </tr>\n",
       "    <tr>\n",
       "      <th>4</th>\n",
       "      <td>西南区域</td>\n",
       "      <td>2019</td>\n",
       "      <td>1878</td>\n",
       "      <td>248</td>\n",
       "      <td>0</td>\n",
       "      <td>0.930163</td>\n",
       "      <td>0</td>\n",
       "      <td>0.9</td>\n",
       "      <td>0.3</td>\n",
       "    </tr>\n",
       "    <tr>\n",
       "      <th>8</th>\n",
       "      <td>中西区域</td>\n",
       "      <td>1370</td>\n",
       "      <td>1253</td>\n",
       "      <td>166</td>\n",
       "      <td>77</td>\n",
       "      <td>0.914599</td>\n",
       "      <td>0.463855</td>\n",
       "      <td>0.9</td>\n",
       "      <td>0.3</td>\n",
       "    </tr>\n",
       "    <tr>\n",
       "      <th>7</th>\n",
       "      <td>沪苏区域</td>\n",
       "      <td>1618</td>\n",
       "      <td>1451</td>\n",
       "      <td>253</td>\n",
       "      <td>5</td>\n",
       "      <td>0.896786</td>\n",
       "      <td>0.019763</td>\n",
       "      <td>0.9</td>\n",
       "      <td>0.3</td>\n",
       "    </tr>\n",
       "    <tr>\n",
       "      <th>9</th>\n",
       "      <td>全国</td>\n",
       "      <td>18110</td>\n",
       "      <td>16974</td>\n",
       "      <td>1965</td>\n",
       "      <td>369</td>\n",
       "      <td>0.937272</td>\n",
       "      <td>0.187786</td>\n",
       "      <td>0.9</td>\n",
       "      <td>0.3</td>\n",
       "    </tr>\n",
       "  </tbody>\n",
       "</table>\n",
       "</div>"
      ],
      "text/plain": [
       "0     区域  触发任务数 完成沟通任务数 上升线索数 有效线索数     任务完成率     有效线索率 沟通率目标 有效线索率目标\n",
       "6   中南区域   1732    1675   160    39   0.96709   0.24375   0.9     0.3\n",
       "5   华北区域   1803    1722   154    59  0.955075  0.383117   0.9     0.3\n",
       "3  鲁津冀区域   2397    2270   230    34  0.947017  0.147826   0.9     0.3\n",
       "1   华东区域   3781    3566   378   144  0.943137  0.380952   0.9     0.3\n",
       "2   广东区域   3390    3159   376    11  0.931858  0.029255   0.9     0.3\n",
       "4   西南区域   2019    1878   248     0  0.930163         0   0.9     0.3\n",
       "8   中西区域   1370    1253   166    77  0.914599  0.463855   0.9     0.3\n",
       "7   沪苏区域   1618    1451   253     5  0.896786  0.019763   0.9     0.3\n",
       "9     全国  18110   16974  1965   369  0.937272  0.187786   0.9     0.3"
      ]
     },
     "execution_count": 110,
     "metadata": {},
     "output_type": "execute_result"
    }
   ],
   "source": [
    "fd_ppt = fd.iloc[:-1,:].sort_values(by=['任务完成率'],ascending=False).append(fd.iloc[-1])   #除最后一行外，其余行降序排列\n",
    "fd_ppt\n",
    "\n",
    "# 写入excel\n",
    "\n",
    "wbpp = load_workbook('周报_ppt.xlsx')   # excel中设置模板格式\n",
    "wspp = wbpp['ppt']\n",
    "\n",
    "wspp.append([])\n",
    "wspp.append(['{0}4-安全辅导员{0}'.format('*'*15)])\n",
    "wspp.append([])\n",
    "for r in dataframe_to_rows(fd_ppt, index=False, header=True):\n",
    "    wspp.append(r)\n",
    "    \n",
    "wbpp.save('周报_ppt.xlsx')  "
   ]
  },
  {
   "cell_type": "code",
   "execution_count": 111,
   "metadata": {
    "ExecuteTime": {
     "end_time": "2021-12-28T06:53:06.638261Z",
     "start_time": "2021-12-28T06:53:05.189556Z"
    }
   },
   "outputs": [
    {
     "name": "stdout",
     "output_type": "stream",
     "text": [
      "完成  \n"
     ]
    },
    {
     "data": {
      "text/plain": [
       "''"
      ]
     },
     "execution_count": 111,
     "metadata": {},
     "output_type": "execute_result"
    }
   ],
   "source": [
    "input('完成  ')"
   ]
  },
  {
   "cell_type": "code",
   "execution_count": null,
   "metadata": {},
   "outputs": [],
   "source": []
  },
  {
   "cell_type": "code",
   "execution_count": null,
   "metadata": {},
   "outputs": [],
   "source": []
  }
 ],
 "metadata": {
  "kernelspec": {
   "display_name": "Python 3",
   "language": "python",
   "name": "python3"
  },
  "language_info": {
   "codemirror_mode": {
    "name": "ipython",
    "version": 3
   },
   "file_extension": ".py",
   "mimetype": "text/x-python",
   "name": "python",
   "nbconvert_exporter": "python",
   "pygments_lexer": "ipython3",
   "version": "3.7.0"
  },
  "toc": {
   "base_numbering": 1,
   "nav_menu": {},
   "number_sections": true,
   "sideBar": true,
   "skip_h1_title": false,
   "title_cell": "Table of Contents",
   "title_sidebar": "Contents",
   "toc_cell": false,
   "toc_position": {
    "height": "435.984px",
    "left": "1165.99px",
    "top": "145.919px",
    "width": "272.005px"
   },
   "toc_section_display": true,
   "toc_window_display": true
  }
 },
 "nbformat": 4,
 "nbformat_minor": 5
}
