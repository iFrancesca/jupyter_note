{
 "cells": [
  {
   "cell_type": "code",
   "execution_count": 1,
   "metadata": {
    "ExecuteTime": {
     "end_time": "2021-12-24T04:04:11.412619Z",
     "start_time": "2021-12-24T04:04:10.381348Z"
    }
   },
   "outputs": [],
   "source": [
    "import time\n",
    "import shutil\n",
    "import pandas as pd\n",
    "import numpy as np\n",
    "from datetime import datetime\n",
    "from openpyxl import load_workbook\n",
    "from openpyxl import Workbook\n",
    "from openpyxl.utils.dataframe import dataframe_to_rows\n",
    "\n",
    "from IPython.core.interactiveshell import InteractiveShell \n",
    "InteractiveShell.ast_node_interactivity = \"all\""
   ]
  },
  {
   "cell_type": "code",
   "execution_count": 2,
   "metadata": {
    "ExecuteTime": {
     "end_time": "2021-12-24T04:04:11.430570Z",
     "start_time": "2021-12-24T04:04:11.413620Z"
    }
   },
   "outputs": [
    {
     "name": "stdout",
     "output_type": "stream",
     "text": [
      "D:\\code\\jupyter\\邮件\n"
     ]
    },
    {
     "data": {
      "text/plain": [
       "'D:\\\\file\\\\o\\\\队长\\\\周报\\\\s\\\\1224'"
      ]
     },
     "execution_count": 2,
     "metadata": {},
     "output_type": "execute_result"
    }
   ],
   "source": [
    "import os\n",
    "print(os.getcwd())  #当前路径\n",
    "\n",
    "#更改当前路径\n",
    "os.chdir('D:/file/o/队长/周报/s/1224')\n",
    "os.getcwd()"
   ]
  },
  {
   "cell_type": "markdown",
   "metadata": {},
   "source": [
    "|df|content|\n",
    "|-|-|\n",
    "|cp_df|cp分润城市|\n",
    "|df|队长覆盖率-全部|\n",
    "|fg_c|分城市覆盖率|\n",
    "|fg|分城市覆盖率(计算)|\n",
    "|fg_q|分区域覆盖率|\n",
    "|fg_cq|覆盖率(城市+区域)|\n",
    "|fg|覆盖率(城市+区域+cp)|"
   ]
  },
  {
   "cell_type": "code",
   "execution_count": 3,
   "metadata": {
    "ExecuteTime": {
     "end_time": "2021-12-24T04:04:11.488415Z",
     "start_time": "2021-12-24T04:04:11.432565Z"
    }
   },
   "outputs": [
    {
     "data": {
      "text/plain": [
       "(19, 5)"
      ]
     },
     "execution_count": 3,
     "metadata": {},
     "output_type": "execute_result"
    },
    {
     "data": {
      "text/html": [
       "<div>\n",
       "<style scoped>\n",
       "    .dataframe tbody tr th:only-of-type {\n",
       "        vertical-align: middle;\n",
       "    }\n",
       "\n",
       "    .dataframe tbody tr th {\n",
       "        vertical-align: top;\n",
       "    }\n",
       "\n",
       "    .dataframe thead th {\n",
       "        text-align: right;\n",
       "    }\n",
       "</style>\n",
       "<table border=\"1\" class=\"dataframe\">\n",
       "  <thead>\n",
       "    <tr style=\"text-align: right;\">\n",
       "      <th></th>\n",
       "      <th>城市ID</th>\n",
       "      <th>大区</th>\n",
       "      <th>省份</th>\n",
       "      <th>城市名</th>\n",
       "      <th>备注</th>\n",
       "    </tr>\n",
       "  </thead>\n",
       "  <tbody>\n",
       "    <tr>\n",
       "      <th>0</th>\n",
       "      <td>17</td>\n",
       "      <td>西南区域</td>\n",
       "      <td>四川</td>\n",
       "      <td>成都市</td>\n",
       "      <td>7月15日开城</td>\n",
       "    </tr>\n",
       "    <tr>\n",
       "      <th>1</th>\n",
       "      <td>5</td>\n",
       "      <td>华东区域</td>\n",
       "      <td>浙江</td>\n",
       "      <td>杭州市</td>\n",
       "      <td>7月15日开城</td>\n",
       "    </tr>\n",
       "    <tr>\n",
       "      <th>2</th>\n",
       "      <td>11</td>\n",
       "      <td>沪苏区域</td>\n",
       "      <td>江苏</td>\n",
       "      <td>南京市</td>\n",
       "      <td>7月15日开城</td>\n",
       "    </tr>\n",
       "  </tbody>\n",
       "</table>\n",
       "</div>"
      ],
      "text/plain": [
       "   城市ID    大区  省份  城市名       备注\n",
       "0    17  西南区域  四川  成都市  7月15日开城\n",
       "1     5  华东区域  浙江  杭州市  7月15日开城\n",
       "2    11  沪苏区域  江苏  南京市  7月15日开城"
      ]
     },
     "execution_count": 3,
     "metadata": {},
     "output_type": "execute_result"
    }
   ],
   "source": [
    "cp_df = pd.read_excel('d:/file/o/队长/周报/s/模板/2-修改/CP分润19城list_810.xlsx',\\\n",
    "                       sheet_name='cp城')\n",
    "cp_df.shape\n",
    "cp_df.head(3)"
   ]
  },
  {
   "cell_type": "code",
   "execution_count": 4,
   "metadata": {
    "ExecuteTime": {
     "end_time": "2021-12-24T04:04:11.495400Z",
     "start_time": "2021-12-24T04:04:11.489415Z"
    }
   },
   "outputs": [
    {
     "data": {
      "text/plain": [
       "21"
      ]
     },
     "execution_count": 4,
     "metadata": {},
     "output_type": "execute_result"
    }
   ],
   "source": [
    "cp_lt = cp_df['城市名'].values.tolist()\n",
    "cp_lt.extend(['重庆主城','重庆郊县'])\n",
    "len(cp_lt)"
   ]
  },
  {
   "cell_type": "code",
   "execution_count": 5,
   "metadata": {
    "ExecuteTime": {
     "end_time": "2021-12-24T04:05:01.211226Z",
     "start_time": "2021-12-24T04:04:11.498391Z"
    }
   },
   "outputs": [
    {
     "name": "stdout",
     "output_type": "stream",
     "text": [
      "创建新的文件夹【分城】，并创建新的【队长覆盖率.xlsx】文件： \n"
     ]
    },
    {
     "data": {
      "text/plain": [
       "''"
      ]
     },
     "execution_count": 5,
     "metadata": {},
     "output_type": "execute_result"
    }
   ],
   "source": [
    "input('创建新的文件夹【分城】，并创建新的【队长覆盖率.xlsx】文件： ')"
   ]
  },
  {
   "cell_type": "code",
   "execution_count": 6,
   "metadata": {
    "ExecuteTime": {
     "end_time": "2021-12-24T04:05:11.485329Z",
     "start_time": "2021-12-24T04:05:01.212224Z"
    }
   },
   "outputs": [
    {
     "name": "stdout",
     "output_type": "stream",
     "text": [
      "date(e.g 1210):  1224\n"
     ]
    },
    {
     "data": {
      "text/html": [
       "<div>\n",
       "<style scoped>\n",
       "    .dataframe tbody tr th:only-of-type {\n",
       "        vertical-align: middle;\n",
       "    }\n",
       "\n",
       "    .dataframe tbody tr th {\n",
       "        vertical-align: top;\n",
       "    }\n",
       "\n",
       "    .dataframe thead th {\n",
       "        text-align: right;\n",
       "    }\n",
       "</style>\n",
       "<table border=\"1\" class=\"dataframe\">\n",
       "  <thead>\n",
       "    <tr style=\"text-align: right;\">\n",
       "      <th></th>\n",
       "      <th>区域</th>\n",
       "      <th>城市群</th>\n",
       "      <th>城市</th>\n",
       "      <th>队长总数</th>\n",
       "      <th>覆盖目标司机数</th>\n",
       "      <th>目标司机数</th>\n",
       "      <th>有队长对公目标司机数</th>\n",
       "      <th>对公目标司机数</th>\n",
       "      <th>有队长橘子目标司机数</th>\n",
       "      <th>橘子目标司机数</th>\n",
       "      <th>杰出队长数</th>\n",
       "      <th>普通队长数</th>\n",
       "      <th>预备役队长数</th>\n",
       "    </tr>\n",
       "  </thead>\n",
       "  <tbody>\n",
       "    <tr>\n",
       "      <th>0</th>\n",
       "      <td>广东区域</td>\n",
       "      <td>韶河梅汕城市群</td>\n",
       "      <td>梅州市</td>\n",
       "      <td>45</td>\n",
       "      <td>2027</td>\n",
       "      <td>2030</td>\n",
       "      <td>4</td>\n",
       "      <td>4</td>\n",
       "      <td>2023</td>\n",
       "      <td>2026</td>\n",
       "      <td>6</td>\n",
       "      <td>39</td>\n",
       "      <td>0</td>\n",
       "    </tr>\n",
       "    <tr>\n",
       "      <th>1</th>\n",
       "      <td>中西区域</td>\n",
       "      <td>豫西城市群</td>\n",
       "      <td>平顶山市</td>\n",
       "      <td>13</td>\n",
       "      <td>586</td>\n",
       "      <td>594</td>\n",
       "      <td>392</td>\n",
       "      <td>395</td>\n",
       "      <td>194</td>\n",
       "      <td>199</td>\n",
       "      <td>1</td>\n",
       "      <td>11</td>\n",
       "      <td>1</td>\n",
       "    </tr>\n",
       "  </tbody>\n",
       "</table>\n",
       "</div>"
      ],
      "text/plain": [
       "     区域      城市群    城市  队长总数  覆盖目标司机数  目标司机数  有队长对公目标司机数  对公目标司机数  有队长橘子目标司机数  \\\n",
       "0  广东区域  韶河梅汕城市群   梅州市    45     2027   2030           4        4        2023   \n",
       "1  中西区域    豫西城市群  平顶山市    13      586    594         392      395         194   \n",
       "\n",
       "   橘子目标司机数  杰出队长数  普通队长数  预备役队长数  \n",
       "0     2026      6     39       0  \n",
       "1      199      1     11       1  "
      ]
     },
     "execution_count": 6,
     "metadata": {},
     "output_type": "execute_result"
    },
    {
     "data": {
      "text/plain": [
       "(199, 13)"
      ]
     },
     "execution_count": 6,
     "metadata": {},
     "output_type": "execute_result"
    }
   ],
   "source": [
    "# 队长覆盖率-全部\n",
    "    # 队长覆盖率（区域用Q4）\n",
    "date = input('date(e.g 1210):  ')\n",
    "df = pd.read_excel('D:/file/o/队长/周报/s/{}/分城/队长覆盖率.xlsx'.format(date))\n",
    "df.head(2)\n",
    "df.shape"
   ]
  },
  {
   "cell_type": "code",
   "execution_count": 7,
   "metadata": {
    "ExecuteTime": {
     "end_time": "2021-12-24T04:05:11.493308Z",
     "start_time": "2021-12-24T04:05:11.487324Z"
    }
   },
   "outputs": [
    {
     "data": {
      "text/plain": [
       "Index(['区域', '城市群', '城市', '队长总数', '覆盖目标司机数', '目标司机数', '有队长对公目标司机数', '对公目标司机数',\n",
       "       '有队长橘子目标司机数', '橘子目标司机数', '杰出队长数', '普通队长数', '预备役队长数'],\n",
       "      dtype='object')"
      ]
     },
     "execution_count": 7,
     "metadata": {},
     "output_type": "execute_result"
    },
    {
     "data": {
      "text/plain": [
       "Index(['城市ID', '大区', '省份', '城市名', '备注'], dtype='object')"
      ]
     },
     "execution_count": 7,
     "metadata": {},
     "output_type": "execute_result"
    }
   ],
   "source": [
    "df.columns\n",
    "cp_df.columns"
   ]
  },
  {
   "cell_type": "code",
   "execution_count": 8,
   "metadata": {
    "ExecuteTime": {
     "end_time": "2021-12-24T04:05:11.528215Z",
     "start_time": "2021-12-24T04:05:11.495303Z"
    }
   },
   "outputs": [
    {
     "data": {
      "text/plain": [
       "(9, 12)"
      ]
     },
     "execution_count": 8,
     "metadata": {},
     "output_type": "execute_result"
    },
    {
     "data": {
      "text/html": [
       "<div>\n",
       "<style scoped>\n",
       "    .dataframe tbody tr th:only-of-type {\n",
       "        vertical-align: middle;\n",
       "    }\n",
       "\n",
       "    .dataframe tbody tr th {\n",
       "        vertical-align: top;\n",
       "    }\n",
       "\n",
       "    .dataframe thead th {\n",
       "        text-align: right;\n",
       "    }\n",
       "</style>\n",
       "<table border=\"1\" class=\"dataframe\">\n",
       "  <thead>\n",
       "    <tr style=\"text-align: right;\">\n",
       "      <th></th>\n",
       "      <th>区域_大区</th>\n",
       "      <th>区域_整体覆盖率</th>\n",
       "      <th>区域_目标对公</th>\n",
       "      <th>区域_对公</th>\n",
       "      <th>区域_对公覆盖率</th>\n",
       "      <th>区域_目标橘子</th>\n",
       "      <th>区域_橘子</th>\n",
       "      <th>区域_橘子覆盖率</th>\n",
       "      <th>区域_已有队长</th>\n",
       "      <th>区域_杰出队长</th>\n",
       "      <th>区域_普通队长</th>\n",
       "      <th>区域_预备役队长</th>\n",
       "    </tr>\n",
       "  </thead>\n",
       "  <tbody>\n",
       "    <tr>\n",
       "      <th>0</th>\n",
       "      <td>中西区域</td>\n",
       "      <td>0.952484</td>\n",
       "      <td>26694</td>\n",
       "      <td>25643</td>\n",
       "      <td>0.960628</td>\n",
       "      <td>45977</td>\n",
       "      <td>43575</td>\n",
       "      <td>0.947756</td>\n",
       "      <td>1455</td>\n",
       "      <td>226</td>\n",
       "      <td>1223</td>\n",
       "      <td>7</td>\n",
       "    </tr>\n",
       "    <tr>\n",
       "      <th>1</th>\n",
       "      <td>中南区域</td>\n",
       "      <td>0.974691</td>\n",
       "      <td>30523</td>\n",
       "      <td>29717</td>\n",
       "      <td>0.973594</td>\n",
       "      <td>68375</td>\n",
       "      <td>66678</td>\n",
       "      <td>0.975181</td>\n",
       "      <td>2085</td>\n",
       "      <td>258</td>\n",
       "      <td>1805</td>\n",
       "      <td>24</td>\n",
       "    </tr>\n",
       "  </tbody>\n",
       "</table>\n",
       "</div>"
      ],
      "text/plain": [
       "  区域_大区  区域_整体覆盖率  区域_目标对公  区域_对公  区域_对公覆盖率  区域_目标橘子  区域_橘子  区域_橘子覆盖率  \\\n",
       "0  中西区域  0.952484    26694  25643  0.960628    45977  43575  0.947756   \n",
       "1  中南区域  0.974691    30523  29717  0.973594    68375  66678  0.975181   \n",
       "\n",
       "   区域_已有队长  区域_杰出队长  区域_普通队长  区域_预备役队长  \n",
       "0     1455      226     1223         7  \n",
       "1     2085      258     1805        24  "
      ]
     },
     "execution_count": 8,
     "metadata": {},
     "output_type": "execute_result"
    }
   ],
   "source": [
    "# 队长覆盖率-大区维度\n",
    "    # 邮件\n",
    "fg_q = pd.read_excel('邮件.xlsx',sheet_name='1-队长覆盖率')\n",
    "fg_q = fg_q.add_prefix('区域_')\n",
    "fg_q.shape\n",
    "fg_q.head(2)"
   ]
  },
  {
   "cell_type": "code",
   "execution_count": 9,
   "metadata": {
    "ExecuteTime": {
     "end_time": "2021-12-24T04:05:11.535196Z",
     "start_time": "2021-12-24T04:05:11.530210Z"
    }
   },
   "outputs": [
    {
     "data": {
      "text/plain": [
       "Index(['区域', '城市群', '城市', '队长总数', '覆盖目标司机数', '目标司机数', '有队长对公目标司机数', '对公目标司机数',\n",
       "       '有队长橘子目标司机数', '橘子目标司机数', '杰出队长数', '普通队长数', '预备役队长数'],\n",
       "      dtype='object')"
      ]
     },
     "execution_count": 9,
     "metadata": {},
     "output_type": "execute_result"
    }
   ],
   "source": [
    "fg_c = df.copy()\n",
    "fg_c.columns"
   ]
  },
  {
   "cell_type": "code",
   "execution_count": 10,
   "metadata": {
    "ExecuteTime": {
     "end_time": "2021-12-24T04:05:11.566115Z",
     "start_time": "2021-12-24T04:05:11.537192Z"
    }
   },
   "outputs": [
    {
     "name": "stderr",
     "output_type": "stream",
     "text": [
      "<ipython-input-10-fcabe75a8de2>:3: SettingWithCopyWarning: \n",
      "A value is trying to be set on a copy of a slice from a DataFrame.\n",
      "Try using .loc[row_indexer,col_indexer] = value instead\n",
      "\n",
      "See the caveats in the documentation: https://pandas.pydata.org/pandas-docs/stable/user_guide/indexing.html#returning-a-view-versus-a-copy\n",
      "  fg['城市覆盖率'] = fg_c['覆盖目标司机数']/fg_c['目标司机数']\n",
      "<ipython-input-10-fcabe75a8de2>:4: SettingWithCopyWarning: \n",
      "A value is trying to be set on a copy of a slice from a DataFrame.\n",
      "Try using .loc[row_indexer,col_indexer] = value instead\n",
      "\n",
      "See the caveats in the documentation: https://pandas.pydata.org/pandas-docs/stable/user_guide/indexing.html#returning-a-view-versus-a-copy\n",
      "  fg['对公覆盖率'] = fg_c['有队长对公目标司机数']/fg_c['对公目标司机数']\n",
      "<ipython-input-10-fcabe75a8de2>:5: SettingWithCopyWarning: \n",
      "A value is trying to be set on a copy of a slice from a DataFrame.\n",
      "Try using .loc[row_indexer,col_indexer] = value instead\n",
      "\n",
      "See the caveats in the documentation: https://pandas.pydata.org/pandas-docs/stable/user_guide/indexing.html#returning-a-view-versus-a-copy\n",
      "  fg['橘子覆盖率'] = fg_c['有队长橘子目标司机数']/fg_c['橘子目标司机数']\n"
     ]
    },
    {
     "data": {
      "text/html": [
       "<div>\n",
       "<style scoped>\n",
       "    .dataframe tbody tr th:only-of-type {\n",
       "        vertical-align: middle;\n",
       "    }\n",
       "\n",
       "    .dataframe tbody tr th {\n",
       "        vertical-align: top;\n",
       "    }\n",
       "\n",
       "    .dataframe thead th {\n",
       "        text-align: right;\n",
       "    }\n",
       "</style>\n",
       "<table border=\"1\" class=\"dataframe\">\n",
       "  <thead>\n",
       "    <tr style=\"text-align: right;\">\n",
       "      <th></th>\n",
       "      <th>城市</th>\n",
       "      <th>区域</th>\n",
       "      <th>城市覆盖率</th>\n",
       "      <th>对公覆盖率</th>\n",
       "      <th>橘子覆盖率</th>\n",
       "    </tr>\n",
       "  </thead>\n",
       "  <tbody>\n",
       "    <tr>\n",
       "      <th>0</th>\n",
       "      <td>梅州市</td>\n",
       "      <td>广东区域</td>\n",
       "      <td>0.998522</td>\n",
       "      <td>1.000000</td>\n",
       "      <td>0.998519</td>\n",
       "    </tr>\n",
       "    <tr>\n",
       "      <th>1</th>\n",
       "      <td>平顶山市</td>\n",
       "      <td>中西区域</td>\n",
       "      <td>0.986532</td>\n",
       "      <td>0.992405</td>\n",
       "      <td>0.974874</td>\n",
       "    </tr>\n",
       "  </tbody>\n",
       "</table>\n",
       "</div>"
      ],
      "text/plain": [
       "     城市    区域     城市覆盖率     对公覆盖率     橘子覆盖率\n",
       "0   梅州市  广东区域  0.998522  1.000000  0.998519\n",
       "1  平顶山市  中西区域  0.986532  0.992405  0.974874"
      ]
     },
     "execution_count": 10,
     "metadata": {},
     "output_type": "execute_result"
    },
    {
     "data": {
      "text/plain": [
       "(199, 5)"
      ]
     },
     "execution_count": 10,
     "metadata": {},
     "output_type": "execute_result"
    }
   ],
   "source": [
    "# fg:存储城市维度信息（进一步计算城市维度信息）\n",
    "fg = fg_c[['城市','区域']]\n",
    "fg['城市覆盖率'] = fg_c['覆盖目标司机数']/fg_c['目标司机数']\n",
    "fg['对公覆盖率'] = fg_c['有队长对公目标司机数']/fg_c['对公目标司机数']\n",
    "fg['橘子覆盖率'] = fg_c['有队长橘子目标司机数']/fg_c['橘子目标司机数']\n",
    "fg.head(2)\n",
    "fg.shape"
   ]
  },
  {
   "cell_type": "code",
   "execution_count": 11,
   "metadata": {
    "ExecuteTime": {
     "end_time": "2021-12-24T04:05:11.572101Z",
     "start_time": "2021-12-24T04:05:11.567110Z"
    }
   },
   "outputs": [
    {
     "data": {
      "text/plain": [
       "Index(['区域_大区', '区域_整体覆盖率', '区域_目标对公', '区域_对公', '区域_对公覆盖率', '区域_目标橘子', '区域_橘子',\n",
       "       '区域_橘子覆盖率', '区域_已有队长', '区域_杰出队长', '区域_普通队长', '区域_预备役队长'],\n",
       "      dtype='object')"
      ]
     },
     "execution_count": 11,
     "metadata": {},
     "output_type": "execute_result"
    }
   ],
   "source": [
    "fg_q.columns"
   ]
  },
  {
   "cell_type": "code",
   "execution_count": 12,
   "metadata": {
    "ExecuteTime": {
     "end_time": "2021-12-24T04:05:11.591049Z",
     "start_time": "2021-12-24T04:05:11.574092Z"
    },
    "scrolled": true
   },
   "outputs": [
    {
     "data": {
      "text/html": [
       "<div>\n",
       "<style scoped>\n",
       "    .dataframe tbody tr th:only-of-type {\n",
       "        vertical-align: middle;\n",
       "    }\n",
       "\n",
       "    .dataframe tbody tr th {\n",
       "        vertical-align: top;\n",
       "    }\n",
       "\n",
       "    .dataframe thead th {\n",
       "        text-align: right;\n",
       "    }\n",
       "</style>\n",
       "<table border=\"1\" class=\"dataframe\">\n",
       "  <thead>\n",
       "    <tr style=\"text-align: right;\">\n",
       "      <th></th>\n",
       "      <th>城市</th>\n",
       "      <th>区域</th>\n",
       "      <th>城市覆盖率</th>\n",
       "      <th>对公覆盖率</th>\n",
       "      <th>橘子覆盖率</th>\n",
       "      <th>区域_整体覆盖率</th>\n",
       "    </tr>\n",
       "  </thead>\n",
       "  <tbody>\n",
       "    <tr>\n",
       "      <th>0</th>\n",
       "      <td>梅州市</td>\n",
       "      <td>广东区域</td>\n",
       "      <td>0.998522</td>\n",
       "      <td>1.0</td>\n",
       "      <td>0.998519</td>\n",
       "      <td>0.958118</td>\n",
       "    </tr>\n",
       "  </tbody>\n",
       "</table>\n",
       "</div>"
      ],
      "text/plain": [
       "    城市    区域     城市覆盖率  对公覆盖率     橘子覆盖率  区域_整体覆盖率\n",
       "0  梅州市  广东区域  0.998522    1.0  0.998519  0.958118"
      ]
     },
     "execution_count": 12,
     "metadata": {},
     "output_type": "execute_result"
    }
   ],
   "source": [
    "# 将【覆盖率】和 覆盖率-分区域】合并\n",
    "fg_cq = fg.copy()\n",
    "fg_cq = pd.merge(left=fg,right=fg_q[['区域_大区','区域_整体覆盖率']],left_on='区域',right_on='区域_大区')\n",
    "del fg_cq['区域_大区']\n",
    "fg_cq.head(1)"
   ]
  },
  {
   "cell_type": "code",
   "execution_count": 13,
   "metadata": {
    "ExecuteTime": {
     "end_time": "2021-12-24T04:05:11.597031Z",
     "start_time": "2021-12-24T04:05:11.593045Z"
    }
   },
   "outputs": [
    {
     "data": {
      "text/plain": [
       "(199, 6)"
      ]
     },
     "execution_count": 13,
     "metadata": {},
     "output_type": "execute_result"
    }
   ],
   "source": [
    "fg_cq.shape"
   ]
  },
  {
   "cell_type": "code",
   "execution_count": 14,
   "metadata": {
    "ExecuteTime": {
     "end_time": "2021-12-24T04:05:11.614983Z",
     "start_time": "2021-12-24T04:05:11.600023Z"
    }
   },
   "outputs": [
    {
     "data": {
      "text/html": [
       "<div>\n",
       "<style scoped>\n",
       "    .dataframe tbody tr th:only-of-type {\n",
       "        vertical-align: middle;\n",
       "    }\n",
       "\n",
       "    .dataframe tbody tr th {\n",
       "        vertical-align: top;\n",
       "    }\n",
       "\n",
       "    .dataframe thead th {\n",
       "        text-align: right;\n",
       "    }\n",
       "</style>\n",
       "<table border=\"1\" class=\"dataframe\">\n",
       "  <thead>\n",
       "    <tr style=\"text-align: right;\">\n",
       "      <th></th>\n",
       "      <th>城市</th>\n",
       "      <th>区域</th>\n",
       "      <th>城市覆盖率</th>\n",
       "      <th>对公覆盖率</th>\n",
       "      <th>橘子覆盖率</th>\n",
       "      <th>区域_整体覆盖率</th>\n",
       "    </tr>\n",
       "  </thead>\n",
       "  <tbody>\n",
       "    <tr>\n",
       "      <th>107</th>\n",
       "      <td>重庆郊县</td>\n",
       "      <td>西南区域</td>\n",
       "      <td>0.811759</td>\n",
       "      <td>0.631005</td>\n",
       "      <td>0.920828</td>\n",
       "      <td>0.908727</td>\n",
       "    </tr>\n",
       "    <tr>\n",
       "      <th>117</th>\n",
       "      <td>重庆主城</td>\n",
       "      <td>西南区域</td>\n",
       "      <td>0.949195</td>\n",
       "      <td>0.926665</td>\n",
       "      <td>0.956989</td>\n",
       "      <td>0.908727</td>\n",
       "    </tr>\n",
       "  </tbody>\n",
       "</table>\n",
       "</div>"
      ],
      "text/plain": [
       "       城市    区域     城市覆盖率     对公覆盖率     橘子覆盖率  区域_整体覆盖率\n",
       "107  重庆郊县  西南区域  0.811759  0.631005  0.920828  0.908727\n",
       "117  重庆主城  西南区域  0.949195  0.926665  0.956989  0.908727"
      ]
     },
     "execution_count": 14,
     "metadata": {},
     "output_type": "execute_result"
    }
   ],
   "source": [
    "chong = fg_cq.query('城市 in [\"重庆主城\",\"重庆郊县\"]')\n",
    "chong"
   ]
  },
  {
   "cell_type": "code",
   "execution_count": 15,
   "metadata": {
    "ExecuteTime": {
     "end_time": "2021-12-24T04:05:11.637924Z",
     "start_time": "2021-12-24T04:05:11.615982Z"
    }
   },
   "outputs": [
    {
     "data": {
      "text/plain": [
       "(19, 12)"
      ]
     },
     "execution_count": 15,
     "metadata": {},
     "output_type": "execute_result"
    },
    {
     "data": {
      "text/html": [
       "<div>\n",
       "<style scoped>\n",
       "    .dataframe tbody tr th:only-of-type {\n",
       "        vertical-align: middle;\n",
       "    }\n",
       "\n",
       "    .dataframe tbody tr th {\n",
       "        vertical-align: top;\n",
       "    }\n",
       "\n",
       "    .dataframe thead th {\n",
       "        text-align: right;\n",
       "    }\n",
       "</style>\n",
       "<table border=\"1\" class=\"dataframe\">\n",
       "  <thead>\n",
       "    <tr style=\"text-align: right;\">\n",
       "      <th></th>\n",
       "      <th>城市ID</th>\n",
       "      <th>大区</th>\n",
       "      <th>省份</th>\n",
       "      <th>城市名</th>\n",
       "      <th>备注</th>\n",
       "      <th>城市</th>\n",
       "      <th>城市覆盖率</th>\n",
       "      <th>对公覆盖率</th>\n",
       "      <th>橘子覆盖率</th>\n",
       "      <th>大区覆盖率</th>\n",
       "      <th>区域</th>\n",
       "      <th>区域_整体覆盖率</th>\n",
       "    </tr>\n",
       "  </thead>\n",
       "  <tbody>\n",
       "    <tr>\n",
       "      <th>0</th>\n",
       "      <td>17.0</td>\n",
       "      <td>西南区域</td>\n",
       "      <td>四川</td>\n",
       "      <td>成都市</td>\n",
       "      <td>7月15日开城</td>\n",
       "      <td>成都市</td>\n",
       "      <td>0.886203</td>\n",
       "      <td>0.802474</td>\n",
       "      <td>0.926924</td>\n",
       "      <td>0.908727</td>\n",
       "      <td>NaN</td>\n",
       "      <td>NaN</td>\n",
       "    </tr>\n",
       "  </tbody>\n",
       "</table>\n",
       "</div>"
      ],
      "text/plain": [
       "   城市ID    大区  省份  城市名       备注   城市     城市覆盖率     对公覆盖率     橘子覆盖率     大区覆盖率  \\\n",
       "0  17.0  西南区域  四川  成都市  7月15日开城  成都市  0.886203  0.802474  0.926924  0.908727   \n",
       "\n",
       "    区域  区域_整体覆盖率  \n",
       "0  NaN       NaN  "
      ]
     },
     "execution_count": 15,
     "metadata": {},
     "output_type": "execute_result"
    }
   ],
   "source": [
    "# 合并【cp城】\n",
    "df_fg = pd.merge(left=cp_df,right=fg_cq,left_on='城市名',right_on='城市')\n",
    "del df_fg['区域']\n",
    "df_fg.rename(columns={'区域_整体覆盖率':'大区覆盖率'},inplace=True)\n",
    "df_fg = df_fg.append(chong)\n",
    "df_fg.shape\n",
    "df_fg.head(1)"
   ]
  },
  {
   "cell_type": "code",
   "execution_count": 16,
   "metadata": {
    "ExecuteTime": {
     "end_time": "2021-12-24T04:05:11.710330Z",
     "start_time": "2021-12-24T04:05:11.639918Z"
    }
   },
   "outputs": [],
   "source": [
    "writer = pd.ExcelWriter('分城/队长覆盖率-城市维度.xlsx')\n",
    "df_fg.to_excel(writer,'队长覆盖率',index=False)"
   ]
  },
  {
   "cell_type": "markdown",
   "metadata": {},
   "source": [
    "## 取体量大的城市分析"
   ]
  },
  {
   "cell_type": "code",
   "execution_count": 17,
   "metadata": {
    "ExecuteTime": {
     "end_time": "2021-12-24T04:05:11.717306Z",
     "start_time": "2021-12-24T04:05:11.711322Z"
    }
   },
   "outputs": [
    {
     "data": {
      "text/plain": [
       "['西南区域', '华东区域', '广东区域', '沪苏区域', '中南区域', '鲁津冀区域', '中西区域', '华北区域', nan]"
      ]
     },
     "execution_count": 17,
     "metadata": {},
     "output_type": "execute_result"
    }
   ],
   "source": [
    "lt_q = df_fg['大区'].unique().tolist()\n",
    "lt_q"
   ]
  },
  {
   "cell_type": "code",
   "execution_count": 18,
   "metadata": {
    "ExecuteTime": {
     "end_time": "2021-12-24T04:05:11.758198Z",
     "start_time": "2021-12-24T04:05:11.718303Z"
    }
   },
   "outputs": [
    {
     "data": {
      "text/plain": [
       "['成都市', '重庆主城']"
      ]
     },
     "execution_count": 18,
     "metadata": {},
     "output_type": "execute_result"
    },
    {
     "data": {
      "text/plain": [
       "40"
      ]
     },
     "execution_count": 18,
     "metadata": {},
     "output_type": "execute_result"
    }
   ],
   "source": [
    "# 汇总每个区域的目标司机数top5的城市\n",
    "def top5(q_name,df):\n",
    "    df_q = df.query('区域 == @q_name')\n",
    "    df_q = df_q.sort_values(by=['目标司机数'],ascending=False)\n",
    "    city = df_q.head(5)['城市'].values.tolist()\n",
    "    return city\n",
    "city = []\n",
    "for q in lt_q:\n",
    "    city.extend(top5(q,fg_c))\n",
    "city[:2]\n",
    "len(city)"
   ]
  },
  {
   "cell_type": "code",
   "execution_count": 19,
   "metadata": {
    "ExecuteTime": {
     "end_time": "2021-12-24T04:05:11.775152Z",
     "start_time": "2021-12-24T04:05:11.759194Z"
    }
   },
   "outputs": [
    {
     "data": {
      "text/plain": [
       "(40, 6)"
      ]
     },
     "execution_count": 19,
     "metadata": {},
     "output_type": "execute_result"
    },
    {
     "data": {
      "text/html": [
       "<div>\n",
       "<style scoped>\n",
       "    .dataframe tbody tr th:only-of-type {\n",
       "        vertical-align: middle;\n",
       "    }\n",
       "\n",
       "    .dataframe tbody tr th {\n",
       "        vertical-align: top;\n",
       "    }\n",
       "\n",
       "    .dataframe thead th {\n",
       "        text-align: right;\n",
       "    }\n",
       "</style>\n",
       "<table border=\"1\" class=\"dataframe\">\n",
       "  <thead>\n",
       "    <tr style=\"text-align: right;\">\n",
       "      <th></th>\n",
       "      <th>城市</th>\n",
       "      <th>区域</th>\n",
       "      <th>城市覆盖率</th>\n",
       "      <th>对公覆盖率</th>\n",
       "      <th>橘子覆盖率</th>\n",
       "      <th>大区覆盖率</th>\n",
       "    </tr>\n",
       "  </thead>\n",
       "  <tbody>\n",
       "    <tr>\n",
       "      <th>4</th>\n",
       "      <td>深圳市</td>\n",
       "      <td>广东区域</td>\n",
       "      <td>0.960386</td>\n",
       "      <td>0.932926</td>\n",
       "      <td>0.975871</td>\n",
       "      <td>0.958118</td>\n",
       "    </tr>\n",
       "    <tr>\n",
       "      <th>9</th>\n",
       "      <td>惠州市</td>\n",
       "      <td>广东区域</td>\n",
       "      <td>0.936256</td>\n",
       "      <td>0.932376</td>\n",
       "      <td>0.937508</td>\n",
       "      <td>0.958118</td>\n",
       "    </tr>\n",
       "  </tbody>\n",
       "</table>\n",
       "</div>"
      ],
      "text/plain": [
       "    城市    区域     城市覆盖率     对公覆盖率     橘子覆盖率     大区覆盖率\n",
       "4  深圳市  广东区域  0.960386  0.932926  0.975871  0.958118\n",
       "9  惠州市  广东区域  0.936256  0.932376  0.937508  0.958118"
      ]
     },
     "execution_count": 19,
     "metadata": {},
     "output_type": "execute_result"
    }
   ],
   "source": [
    "fg_top5 = fg_cq.copy()\n",
    "fg_top5 = fg_top5.query('城市 in @city')\n",
    "fg_top5.rename(columns={'区域_整体覆盖率':'大区覆盖率'},inplace=True)\n",
    "fg_top5.shape\n",
    "fg_top5.head(2)"
   ]
  },
  {
   "cell_type": "code",
   "execution_count": 20,
   "metadata": {
    "ExecuteTime": {
     "end_time": "2021-12-24T04:05:11.792106Z",
     "start_time": "2021-12-24T04:05:11.776149Z"
    }
   },
   "outputs": [
    {
     "data": {
      "text/html": [
       "<div>\n",
       "<style scoped>\n",
       "    .dataframe tbody tr th:only-of-type {\n",
       "        vertical-align: middle;\n",
       "    }\n",
       "\n",
       "    .dataframe tbody tr th {\n",
       "        vertical-align: top;\n",
       "    }\n",
       "\n",
       "    .dataframe thead th {\n",
       "        text-align: right;\n",
       "    }\n",
       "</style>\n",
       "<table border=\"1\" class=\"dataframe\">\n",
       "  <thead>\n",
       "    <tr style=\"text-align: right;\">\n",
       "      <th></th>\n",
       "      <th>城市</th>\n",
       "      <th>区域</th>\n",
       "      <th>城市覆盖率</th>\n",
       "      <th>对公覆盖率</th>\n",
       "      <th>橘子覆盖率</th>\n",
       "      <th>大区覆盖率</th>\n",
       "    </tr>\n",
       "  </thead>\n",
       "  <tbody>\n",
       "    <tr>\n",
       "      <th>107</th>\n",
       "      <td>重庆郊县</td>\n",
       "      <td>西南区域</td>\n",
       "      <td>0.811759</td>\n",
       "      <td>0.631005</td>\n",
       "      <td>0.920828</td>\n",
       "      <td>0.908727</td>\n",
       "    </tr>\n",
       "    <tr>\n",
       "      <th>91</th>\n",
       "      <td>成都市</td>\n",
       "      <td>西南区域</td>\n",
       "      <td>0.886203</td>\n",
       "      <td>0.802474</td>\n",
       "      <td>0.926924</td>\n",
       "      <td>0.908727</td>\n",
       "    </tr>\n",
       "    <tr>\n",
       "      <th>25</th>\n",
       "      <td>郑州市</td>\n",
       "      <td>中西区域</td>\n",
       "      <td>0.891484</td>\n",
       "      <td>0.912504</td>\n",
       "      <td>0.881796</td>\n",
       "      <td>0.952484</td>\n",
       "    </tr>\n",
       "    <tr>\n",
       "      <th>73</th>\n",
       "      <td>厦门市</td>\n",
       "      <td>华东区域</td>\n",
       "      <td>0.918779</td>\n",
       "      <td>0.925000</td>\n",
       "      <td>0.915634</td>\n",
       "      <td>0.938954</td>\n",
       "    </tr>\n",
       "    <tr>\n",
       "      <th>9</th>\n",
       "      <td>惠州市</td>\n",
       "      <td>广东区域</td>\n",
       "      <td>0.936256</td>\n",
       "      <td>0.932376</td>\n",
       "      <td>0.937508</td>\n",
       "      <td>0.958118</td>\n",
       "    </tr>\n",
       "    <tr>\n",
       "      <th>70</th>\n",
       "      <td>温州市</td>\n",
       "      <td>华东区域</td>\n",
       "      <td>0.939373</td>\n",
       "      <td>0.919262</td>\n",
       "      <td>0.944318</td>\n",
       "      <td>0.938954</td>\n",
       "    </tr>\n",
       "    <tr>\n",
       "      <th>109</th>\n",
       "      <td>昆明市</td>\n",
       "      <td>西南区域</td>\n",
       "      <td>0.944592</td>\n",
       "      <td>0.945645</td>\n",
       "      <td>0.944365</td>\n",
       "      <td>0.908727</td>\n",
       "    </tr>\n",
       "    <tr>\n",
       "      <th>78</th>\n",
       "      <td>杭州市</td>\n",
       "      <td>华东区域</td>\n",
       "      <td>0.946254</td>\n",
       "      <td>0.921523</td>\n",
       "      <td>0.958020</td>\n",
       "      <td>0.938954</td>\n",
       "    </tr>\n",
       "    <tr>\n",
       "      <th>159</th>\n",
       "      <td>长沙市</td>\n",
       "      <td>中南区域</td>\n",
       "      <td>0.946310</td>\n",
       "      <td>0.954541</td>\n",
       "      <td>0.934988</td>\n",
       "      <td>0.974691</td>\n",
       "    </tr>\n",
       "    <tr>\n",
       "      <th>76</th>\n",
       "      <td>合肥市</td>\n",
       "      <td>华东区域</td>\n",
       "      <td>0.946432</td>\n",
       "      <td>0.930595</td>\n",
       "      <td>0.953493</td>\n",
       "      <td>0.938954</td>\n",
       "    </tr>\n",
       "  </tbody>\n",
       "</table>\n",
       "</div>"
      ],
      "text/plain": [
       "       城市    区域     城市覆盖率     对公覆盖率     橘子覆盖率     大区覆盖率\n",
       "107  重庆郊县  西南区域  0.811759  0.631005  0.920828  0.908727\n",
       "91    成都市  西南区域  0.886203  0.802474  0.926924  0.908727\n",
       "25    郑州市  中西区域  0.891484  0.912504  0.881796  0.952484\n",
       "73    厦门市  华东区域  0.918779  0.925000  0.915634  0.938954\n",
       "9     惠州市  广东区域  0.936256  0.932376  0.937508  0.958118\n",
       "70    温州市  华东区域  0.939373  0.919262  0.944318  0.938954\n",
       "109   昆明市  西南区域  0.944592  0.945645  0.944365  0.908727\n",
       "78    杭州市  华东区域  0.946254  0.921523  0.958020  0.938954\n",
       "159   长沙市  中南区域  0.946310  0.954541  0.934988  0.974691\n",
       "76    合肥市  华东区域  0.946432  0.930595  0.953493  0.938954"
      ]
     },
     "execution_count": 20,
     "metadata": {},
     "output_type": "execute_result"
    }
   ],
   "source": [
    "fg_top5.sort_values(by=['城市覆盖率'],ascending=True,inplace=True)\n",
    "fg_top5[:10]"
   ]
  },
  {
   "cell_type": "code",
   "execution_count": 21,
   "metadata": {
    "ExecuteTime": {
     "end_time": "2021-12-24T04:05:11.808064Z",
     "start_time": "2021-12-24T04:05:11.794102Z"
    }
   },
   "outputs": [
    {
     "data": {
      "text/html": [
       "<div>\n",
       "<style scoped>\n",
       "    .dataframe tbody tr th:only-of-type {\n",
       "        vertical-align: middle;\n",
       "    }\n",
       "\n",
       "    .dataframe tbody tr th {\n",
       "        vertical-align: top;\n",
       "    }\n",
       "\n",
       "    .dataframe thead th {\n",
       "        text-align: right;\n",
       "    }\n",
       "</style>\n",
       "<table border=\"1\" class=\"dataframe\">\n",
       "  <thead>\n",
       "    <tr style=\"text-align: right;\">\n",
       "      <th></th>\n",
       "      <th>城市</th>\n",
       "      <th>区域</th>\n",
       "      <th>城市覆盖率</th>\n",
       "      <th>对公覆盖率</th>\n",
       "      <th>橘子覆盖率</th>\n",
       "      <th>大区覆盖率</th>\n",
       "    </tr>\n",
       "  </thead>\n",
       "  <tbody>\n",
       "    <tr>\n",
       "      <th>107</th>\n",
       "      <td>重庆郊县</td>\n",
       "      <td>西南区域</td>\n",
       "      <td>0.811759</td>\n",
       "      <td>0.631005</td>\n",
       "      <td>0.920828</td>\n",
       "      <td>0.908727</td>\n",
       "    </tr>\n",
       "    <tr>\n",
       "      <th>91</th>\n",
       "      <td>成都市</td>\n",
       "      <td>西南区域</td>\n",
       "      <td>0.886203</td>\n",
       "      <td>0.802474</td>\n",
       "      <td>0.926924</td>\n",
       "      <td>0.908727</td>\n",
       "    </tr>\n",
       "    <tr>\n",
       "      <th>25</th>\n",
       "      <td>郑州市</td>\n",
       "      <td>中西区域</td>\n",
       "      <td>0.891484</td>\n",
       "      <td>0.912504</td>\n",
       "      <td>0.881796</td>\n",
       "      <td>0.952484</td>\n",
       "    </tr>\n",
       "    <tr>\n",
       "      <th>78</th>\n",
       "      <td>杭州市</td>\n",
       "      <td>华东区域</td>\n",
       "      <td>0.946254</td>\n",
       "      <td>0.921523</td>\n",
       "      <td>0.958020</td>\n",
       "      <td>0.938954</td>\n",
       "    </tr>\n",
       "    <tr>\n",
       "      <th>159</th>\n",
       "      <td>长沙市</td>\n",
       "      <td>中南区域</td>\n",
       "      <td>0.946310</td>\n",
       "      <td>0.954541</td>\n",
       "      <td>0.934988</td>\n",
       "      <td>0.974691</td>\n",
       "    </tr>\n",
       "    <tr>\n",
       "      <th>76</th>\n",
       "      <td>合肥市</td>\n",
       "      <td>华东区域</td>\n",
       "      <td>0.946432</td>\n",
       "      <td>0.930595</td>\n",
       "      <td>0.953493</td>\n",
       "      <td>0.938954</td>\n",
       "    </tr>\n",
       "  </tbody>\n",
       "</table>\n",
       "</div>"
      ],
      "text/plain": [
       "       城市    区域     城市覆盖率     对公覆盖率     橘子覆盖率     大区覆盖率\n",
       "107  重庆郊县  西南区域  0.811759  0.631005  0.920828  0.908727\n",
       "91    成都市  西南区域  0.886203  0.802474  0.926924  0.908727\n",
       "25    郑州市  中西区域  0.891484  0.912504  0.881796  0.952484\n",
       "78    杭州市  华东区域  0.946254  0.921523  0.958020  0.938954\n",
       "159   长沙市  中南区域  0.946310  0.954541  0.934988  0.974691\n",
       "76    合肥市  华东区域  0.946432  0.930595  0.953493  0.938954"
      ]
     },
     "execution_count": 21,
     "metadata": {},
     "output_type": "execute_result"
    }
   ],
   "source": [
    "fg_top5.head(10).query('城市 in @cp_lt')"
   ]
  },
  {
   "cell_type": "code",
   "execution_count": 22,
   "metadata": {
    "ExecuteTime": {
     "end_time": "2021-12-24T04:05:11.916859Z",
     "start_time": "2021-12-24T04:05:11.809060Z"
    }
   },
   "outputs": [],
   "source": [
    "fg_top5.to_excel(writer,'队长覆盖率-top5城市',index=False)\n",
    "writer.save()"
   ]
  },
  {
   "cell_type": "code",
   "execution_count": 23,
   "metadata": {
    "ExecuteTime": {
     "end_time": "2021-12-24T04:05:23.193250Z",
     "start_time": "2021-12-24T04:05:22.812012Z"
    }
   },
   "outputs": [
    {
     "name": "stdout",
     "output_type": "stream",
     "text": [
      "完成 \n"
     ]
    },
    {
     "data": {
      "text/plain": [
       "''"
      ]
     },
     "execution_count": 23,
     "metadata": {},
     "output_type": "execute_result"
    }
   ],
   "source": [
    "input('完成 ')"
   ]
  }
 ],
 "metadata": {
  "kernelspec": {
   "display_name": "Python 3",
   "language": "python",
   "name": "python3"
  },
  "language_info": {
   "codemirror_mode": {
    "name": "ipython",
    "version": 3
   },
   "file_extension": ".py",
   "mimetype": "text/x-python",
   "name": "python",
   "nbconvert_exporter": "python",
   "pygments_lexer": "ipython3",
   "version": "3.7.0"
  },
  "toc": {
   "base_numbering": 1,
   "nav_menu": {},
   "number_sections": true,
   "sideBar": true,
   "skip_h1_title": false,
   "title_cell": "Table of Contents",
   "title_sidebar": "Contents",
   "toc_cell": false,
   "toc_position": {},
   "toc_section_display": true,
   "toc_window_display": true
  }
 },
 "nbformat": 4,
 "nbformat_minor": 5
}
