{
 "cells": [
  {
   "cell_type": "code",
   "execution_count": 27,
   "id": "01a75b8d",
   "metadata": {
    "ExecuteTime": {
     "end_time": "2021-12-27T09:07:53.516711Z",
     "start_time": "2021-12-27T09:07:53.513129Z"
    }
   },
   "outputs": [],
   "source": [
    "import time\n",
    "import shutil\n",
    "import pandas as pd\n",
    "import numpy as np\n",
    "from datetime import datetime\n",
    "from openpyxl import load_workbook\n",
    "from openpyxl import Workbook\n",
    "from openpyxl.utils.dataframe import dataframe_to_rows\n",
    "import re\n",
    "import matplotlib.pyplot as plt\n",
    "\n",
    "from IPython.core.interactiveshell import InteractiveShell \n",
    "InteractiveShell.ast_node_interactivity = \"all\""
   ]
  },
  {
   "cell_type": "code",
   "execution_count": 29,
   "id": "e8babe50",
   "metadata": {
    "ExecuteTime": {
     "end_time": "2021-12-27T09:08:18.645783Z",
     "start_time": "2021-12-27T09:08:18.642052Z"
    }
   },
   "outputs": [],
   "source": [
    "pd.set_option('display.max_columns', None)\n",
    "\n",
    "plt.rcParams['font.family']= 'SimHei' #用来正常显示中文标签\n",
    "\n",
    "plt.rcParams['axes.unicode_minus'] = False  #用来正常负号"
   ]
  },
  {
   "cell_type": "code",
   "execution_count": 4,
   "id": "bb6dc2db",
   "metadata": {
    "ExecuteTime": {
     "end_time": "2021-12-27T08:50:39.160298Z",
     "start_time": "2021-12-27T08:50:39.151325Z"
    }
   },
   "outputs": [
    {
     "name": "stdout",
     "output_type": "stream",
     "text": [
      "D:\\code\\jupyter\\队长\\质量指标\n"
     ]
    },
    {
     "data": {
      "text/plain": [
       "'D:\\\\file\\\\o\\\\队长\\\\队长评分\\\\质量评分迭代\\\\指标'"
      ]
     },
     "execution_count": 4,
     "metadata": {},
     "output_type": "execute_result"
    }
   ],
   "source": [
    "import os\n",
    "print(os.getcwd())  #当前路径\n",
    "\n",
    "#更改当前路径\n",
    "os.chdir('D:\\\\file\\\\o\\\\队长\\\\队长评分\\\\质量评分迭代\\\\指标')\n",
    "os.getcwd()"
   ]
  },
  {
   "cell_type": "code",
   "execution_count": 167,
   "id": "c2097e0f",
   "metadata": {
    "ExecuteTime": {
     "end_time": "2021-12-27T10:08:19.696236Z",
     "start_time": "2021-12-27T10:08:07.621096Z"
    }
   },
   "outputs": [
    {
     "data": {
      "text/plain": [
       "(18309, 47)"
      ]
     },
     "execution_count": 167,
     "metadata": {},
     "output_type": "execute_result"
    }
   ],
   "source": [
    "df_all = pd.read_excel('data.xlsx','2.0data')\n",
    "df_all.shape"
   ]
  },
  {
   "cell_type": "code",
   "execution_count": 165,
   "id": "982bfa56",
   "metadata": {
    "ExecuteTime": {
     "end_time": "2021-12-27T10:05:51.749277Z",
     "start_time": "2021-12-27T10:05:51.742261Z"
    }
   },
   "outputs": [
    {
     "data": {
      "text/plain": [
       "(10, 10, 10)"
      ]
     },
     "execution_count": 165,
     "metadata": {},
     "output_type": "execute_result"
    }
   ],
   "source": [
    "lt_data = ['月会出勤率', '部落发言率', '任务完成率', '有效沟通率', '队长服务分', '队长CPO', '峰期时长', '双非时长', '队员评价', '司服评价']\n",
    "lt_value = ['出勤得分', '发言得分', '完成得分', '沟通得分', '服务分得分', 'CPO得分', '峰期得分', '双非得分', '队员评价得分', '司服评价得分' ]\n",
    "lt_range = [(0, 1), (0.433, 0.922), (0.78, 1), (0.06, 0.9), (110, 130), (0.00246, 0.00075), (2.531, 3.785), (6.578, 9.634), (66.7, 99), (70, 87)]\n",
    "len(lt_data), len(lt_value),len(lt_range)"
   ]
  },
  {
   "cell_type": "code",
   "execution_count": 168,
   "id": "7d808c9c",
   "metadata": {
    "ExecuteTime": {
     "end_time": "2021-12-27T10:08:36.841858Z",
     "start_time": "2021-12-27T10:08:36.776035Z"
    },
    "scrolled": true
   },
   "outputs": [
    {
     "data": {
      "text/html": [
       "<div>\n",
       "<style scoped>\n",
       "    .dataframe tbody tr th:only-of-type {\n",
       "        vertical-align: middle;\n",
       "    }\n",
       "\n",
       "    .dataframe tbody tr th {\n",
       "        vertical-align: top;\n",
       "    }\n",
       "\n",
       "    .dataframe thead th {\n",
       "        text-align: right;\n",
       "    }\n",
       "</style>\n",
       "<table border=\"1\" class=\"dataframe\">\n",
       "  <thead>\n",
       "    <tr style=\"text-align: right;\">\n",
       "      <th></th>\n",
       "      <th>大区</th>\n",
       "      <th>城市群</th>\n",
       "      <th>城市ID</th>\n",
       "      <th>城市</th>\n",
       "      <th>小队业务线</th>\n",
       "      <th>司机ID</th>\n",
       "      <th>司机姓名</th>\n",
       "      <th>司机类型</th>\n",
       "      <th>滴龄</th>\n",
       "      <th>队龄</th>\n",
       "      <th>司服ID</th>\n",
       "      <th>司服姓名</th>\n",
       "      <th>小队ID</th>\n",
       "      <th>队名</th>\n",
       "      <th>小队人数</th>\n",
       "      <th>队长类型</th>\n",
       "      <th>封禁类型</th>\n",
       "      <th>月会出勤率</th>\n",
       "      <th>出勤得分</th>\n",
       "      <th>部落发言率</th>\n",
       "      <th>发言得分</th>\n",
       "      <th>任务完成率</th>\n",
       "      <th>完成得分</th>\n",
       "      <th>有效沟通率</th>\n",
       "      <th>沟通得分</th>\n",
       "      <th>队长服务分</th>\n",
       "      <th>服务分得分</th>\n",
       "      <th>队长CPO</th>\n",
       "      <th>CPO得分</th>\n",
       "      <th>峰期时长</th>\n",
       "      <th>峰期得分</th>\n",
       "      <th>双非时长</th>\n",
       "      <th>双非得分</th>\n",
       "      <th>合规</th>\n",
       "      <th>合规得分</th>\n",
       "      <th>危险驾驶次数</th>\n",
       "      <th>危险驾驶扣分</th>\n",
       "      <th>队员评价</th>\n",
       "      <th>队员评价得分</th>\n",
       "      <th>司服评价</th>\n",
       "      <th>司服评价得分</th>\n",
       "      <th>最终得分</th>\n",
       "      <th>分段</th>\n",
       "      <th>队长级别</th>\n",
       "      <th>司服实际反馈队长级别</th>\n",
       "      <th>不一致原因（指标占比异议）</th>\n",
       "      <th>详细描述</th>\n",
       "    </tr>\n",
       "  </thead>\n",
       "  <tbody>\n",
       "    <tr>\n",
       "      <th>0</th>\n",
       "      <td>中南区域</td>\n",
       "      <td>桂西城市群</td>\n",
       "      <td>134</td>\n",
       "      <td>柳州市</td>\n",
       "      <td>快车</td>\n",
       "      <td>580543350190713</td>\n",
       "      <td>罗波义</td>\n",
       "      <td>A</td>\n",
       "      <td>817</td>\n",
       "      <td>669</td>\n",
       "      <td>189128</td>\n",
       "      <td>李君斯</td>\n",
       "      <td>59482</td>\n",
       "      <td>龙城铁军罗波义队</td>\n",
       "      <td>38.0</td>\n",
       "      <td>队长</td>\n",
       "      <td>NaN</td>\n",
       "      <td>1.0</td>\n",
       "      <td>10.0</td>\n",
       "      <td>1.000000</td>\n",
       "      <td>10.00</td>\n",
       "      <td>1.0</td>\n",
       "      <td>10.0</td>\n",
       "      <td>1.0</td>\n",
       "      <td>10.0</td>\n",
       "      <td>130</td>\n",
       "      <td>10.0</td>\n",
       "      <td>0.000444</td>\n",
       "      <td>10.00</td>\n",
       "      <td>4.077778</td>\n",
       "      <td>10.0</td>\n",
       "      <td>11.041667</td>\n",
       "      <td>10.0</td>\n",
       "      <td>双证</td>\n",
       "      <td>5.0</td>\n",
       "      <td>0</td>\n",
       "      <td>0</td>\n",
       "      <td>99.8</td>\n",
       "      <td>9.98</td>\n",
       "      <td>100.0</td>\n",
       "      <td>10.0</td>\n",
       "      <td>99.98</td>\n",
       "      <td>95-100</td>\n",
       "      <td>A</td>\n",
       "      <td>NaN</td>\n",
       "      <td>NaN</td>\n",
       "      <td>NaN</td>\n",
       "    </tr>\n",
       "    <tr>\n",
       "      <th>1</th>\n",
       "      <td>鲁津冀区域</td>\n",
       "      <td>冀南城市群</td>\n",
       "      <td>60</td>\n",
       "      <td>邯郸市</td>\n",
       "      <td>快车</td>\n",
       "      <td>564630993174841</td>\n",
       "      <td>布武强</td>\n",
       "      <td>A</td>\n",
       "      <td>995</td>\n",
       "      <td>709</td>\n",
       "      <td>889357076</td>\n",
       "      <td>秦亮</td>\n",
       "      <td>52038</td>\n",
       "      <td>秦亮-邯郸布武强小队</td>\n",
       "      <td>NaN</td>\n",
       "      <td>杰出队长</td>\n",
       "      <td>NaN</td>\n",
       "      <td>1.0</td>\n",
       "      <td>10.0</td>\n",
       "      <td>1.000000</td>\n",
       "      <td>10.00</td>\n",
       "      <td>1.0</td>\n",
       "      <td>10.0</td>\n",
       "      <td>1.0</td>\n",
       "      <td>10.0</td>\n",
       "      <td>130</td>\n",
       "      <td>10.0</td>\n",
       "      <td>0.0</td>\n",
       "      <td>10.00</td>\n",
       "      <td>4.831852</td>\n",
       "      <td>10.0</td>\n",
       "      <td>11.008889</td>\n",
       "      <td>10.0</td>\n",
       "      <td>无证</td>\n",
       "      <td>0.0</td>\n",
       "      <td>0</td>\n",
       "      <td>0</td>\n",
       "      <td>99.1</td>\n",
       "      <td>9.91</td>\n",
       "      <td>100.0</td>\n",
       "      <td>10.0</td>\n",
       "      <td>99.91</td>\n",
       "      <td>95-100</td>\n",
       "      <td>A</td>\n",
       "      <td>NaN</td>\n",
       "      <td>NaN</td>\n",
       "      <td>NaN</td>\n",
       "    </tr>\n",
       "    <tr>\n",
       "      <th>2</th>\n",
       "      <td>鲁津冀区域</td>\n",
       "      <td>鲁西南城市群</td>\n",
       "      <td>121</td>\n",
       "      <td>泰安市</td>\n",
       "      <td>快车</td>\n",
       "      <td>564618967652896</td>\n",
       "      <td>李强</td>\n",
       "      <td>A</td>\n",
       "      <td>2184</td>\n",
       "      <td>800</td>\n",
       "      <td>889779332</td>\n",
       "      <td>孙朋</td>\n",
       "      <td>32238</td>\n",
       "      <td>泰安如约精英三队</td>\n",
       "      <td>45.0</td>\n",
       "      <td>队长</td>\n",
       "      <td>NaN</td>\n",
       "      <td>1.0</td>\n",
       "      <td>10.0</td>\n",
       "      <td>0.988889</td>\n",
       "      <td>9.86</td>\n",
       "      <td>1.0</td>\n",
       "      <td>10.0</td>\n",
       "      <td>1.0</td>\n",
       "      <td>10.0</td>\n",
       "      <td>130</td>\n",
       "      <td>10.0</td>\n",
       "      <td>0.0</td>\n",
       "      <td>10.00</td>\n",
       "      <td>4.171296</td>\n",
       "      <td>10.0</td>\n",
       "      <td>10.190926</td>\n",
       "      <td>10.0</td>\n",
       "      <td>双证</td>\n",
       "      <td>5.0</td>\n",
       "      <td>0</td>\n",
       "      <td>0</td>\n",
       "      <td>100.0</td>\n",
       "      <td>10.00</td>\n",
       "      <td>100.0</td>\n",
       "      <td>10.0</td>\n",
       "      <td>99.86</td>\n",
       "      <td>95-100</td>\n",
       "      <td>A</td>\n",
       "      <td>NaN</td>\n",
       "      <td>NaN</td>\n",
       "      <td>NaN</td>\n",
       "    </tr>\n",
       "    <tr>\n",
       "      <th>3</th>\n",
       "      <td>鲁津冀区域</td>\n",
       "      <td>烟威城市群</td>\n",
       "      <td>42</td>\n",
       "      <td>威海市</td>\n",
       "      <td>快车</td>\n",
       "      <td>580542291896438</td>\n",
       "      <td>刘秀青</td>\n",
       "      <td>A</td>\n",
       "      <td>1435</td>\n",
       "      <td>573</td>\n",
       "      <td>250504</td>\n",
       "      <td>程鹏</td>\n",
       "      <td>287774</td>\n",
       "      <td>【程鹏】-刘秀青大队</td>\n",
       "      <td>NaN</td>\n",
       "      <td>杰出队长</td>\n",
       "      <td>NaN</td>\n",
       "      <td>1.0</td>\n",
       "      <td>10.0</td>\n",
       "      <td>0.988889</td>\n",
       "      <td>9.86</td>\n",
       "      <td>1.0</td>\n",
       "      <td>10.0</td>\n",
       "      <td>1.0</td>\n",
       "      <td>10.0</td>\n",
       "      <td>130</td>\n",
       "      <td>10.0</td>\n",
       "      <td>0.000864</td>\n",
       "      <td>9.98</td>\n",
       "      <td>4.611111</td>\n",
       "      <td>10.0</td>\n",
       "      <td>11.712593</td>\n",
       "      <td>10.0</td>\n",
       "      <td>双证</td>\n",
       "      <td>5.0</td>\n",
       "      <td>0</td>\n",
       "      <td>0</td>\n",
       "      <td>100.0</td>\n",
       "      <td>10.00</td>\n",
       "      <td>100.0</td>\n",
       "      <td>10.0</td>\n",
       "      <td>99.84</td>\n",
       "      <td>95-100</td>\n",
       "      <td>A</td>\n",
       "      <td>NaN</td>\n",
       "      <td>NaN</td>\n",
       "      <td>NaN</td>\n",
       "    </tr>\n",
       "    <tr>\n",
       "      <th>4</th>\n",
       "      <td>鲁津冀区域</td>\n",
       "      <td>烟威城市群</td>\n",
       "      <td>42</td>\n",
       "      <td>威海市</td>\n",
       "      <td>快车</td>\n",
       "      <td>565341837796940</td>\n",
       "      <td>高鹏</td>\n",
       "      <td>A</td>\n",
       "      <td>2057</td>\n",
       "      <td>784</td>\n",
       "      <td>250504</td>\n",
       "      <td>程鹏</td>\n",
       "      <td>219470</td>\n",
       "      <td>【程鹏】-高鹏大队</td>\n",
       "      <td>NaN</td>\n",
       "      <td>杰出队长</td>\n",
       "      <td>NaN</td>\n",
       "      <td>1.0</td>\n",
       "      <td>10.0</td>\n",
       "      <td>0.988889</td>\n",
       "      <td>9.86</td>\n",
       "      <td>1.0</td>\n",
       "      <td>10.0</td>\n",
       "      <td>1.0</td>\n",
       "      <td>10.0</td>\n",
       "      <td>130</td>\n",
       "      <td>10.0</td>\n",
       "      <td>0.0</td>\n",
       "      <td>10.00</td>\n",
       "      <td>4.353148</td>\n",
       "      <td>10.0</td>\n",
       "      <td>10.551667</td>\n",
       "      <td>10.0</td>\n",
       "      <td>双证</td>\n",
       "      <td>5.0</td>\n",
       "      <td>0</td>\n",
       "      <td>0</td>\n",
       "      <td>99.7</td>\n",
       "      <td>9.97</td>\n",
       "      <td>100.0</td>\n",
       "      <td>10.0</td>\n",
       "      <td>99.83</td>\n",
       "      <td>95-100</td>\n",
       "      <td>A</td>\n",
       "      <td>NaN</td>\n",
       "      <td>NaN</td>\n",
       "      <td>NaN</td>\n",
       "    </tr>\n",
       "  </tbody>\n",
       "</table>\n",
       "</div>"
      ],
      "text/plain": [
       "      大区     城市群  城市ID   城市 小队业务线             司机ID 司机姓名 司机类型    滴龄   队龄  \\\n",
       "0   中南区域   桂西城市群   134  柳州市    快车  580543350190713  罗波义    A   817  669   \n",
       "1  鲁津冀区域   冀南城市群    60  邯郸市    快车  564630993174841  布武强    A   995  709   \n",
       "2  鲁津冀区域  鲁西南城市群   121  泰安市    快车  564618967652896   李强    A  2184  800   \n",
       "3  鲁津冀区域   烟威城市群    42  威海市    快车  580542291896438  刘秀青    A  1435  573   \n",
       "4  鲁津冀区域   烟威城市群    42  威海市    快车  565341837796940   高鹏    A  2057  784   \n",
       "\n",
       "        司服ID 司服姓名    小队ID          队名  小队人数  队长类型 封禁类型 月会出勤率  出勤得分     部落发言率  \\\n",
       "0     189128  李君斯   59482    龙城铁军罗波义队  38.0    队长  NaN   1.0  10.0  1.000000   \n",
       "1  889357076   秦亮   52038  秦亮-邯郸布武强小队   NaN  杰出队长  NaN   1.0  10.0  1.000000   \n",
       "2  889779332   孙朋   32238    泰安如约精英三队  45.0    队长  NaN   1.0  10.0  0.988889   \n",
       "3     250504   程鹏  287774  【程鹏】-刘秀青大队   NaN  杰出队长  NaN   1.0  10.0  0.988889   \n",
       "4     250504   程鹏  219470   【程鹏】-高鹏大队   NaN  杰出队长  NaN   1.0  10.0  0.988889   \n",
       "\n",
       "    发言得分 任务完成率  完成得分 有效沟通率  沟通得分  队长服务分  服务分得分     队长CPO  CPO得分      峰期时长  \\\n",
       "0  10.00   1.0  10.0   1.0  10.0    130   10.0  0.000444  10.00  4.077778   \n",
       "1  10.00   1.0  10.0   1.0  10.0    130   10.0       0.0  10.00  4.831852   \n",
       "2   9.86   1.0  10.0   1.0  10.0    130   10.0       0.0  10.00  4.171296   \n",
       "3   9.86   1.0  10.0   1.0  10.0    130   10.0  0.000864   9.98  4.611111   \n",
       "4   9.86   1.0  10.0   1.0  10.0    130   10.0       0.0  10.00  4.353148   \n",
       "\n",
       "   峰期得分       双非时长  双非得分  合规  合规得分  危险驾驶次数  危险驾驶扣分   队员评价  队员评价得分   司服评价  \\\n",
       "0  10.0  11.041667  10.0  双证   5.0       0       0   99.8    9.98  100.0   \n",
       "1  10.0  11.008889  10.0  无证   0.0       0       0   99.1    9.91  100.0   \n",
       "2  10.0  10.190926  10.0  双证   5.0       0       0  100.0   10.00  100.0   \n",
       "3  10.0  11.712593  10.0  双证   5.0       0       0  100.0   10.00  100.0   \n",
       "4  10.0  10.551667  10.0  双证   5.0       0       0   99.7    9.97  100.0   \n",
       "\n",
       "   司服评价得分   最终得分      分段 队长级别 司服实际反馈队长级别 不一致原因（指标占比异议） 详细描述  \n",
       "0    10.0  99.98  95-100    A        NaN           NaN  NaN  \n",
       "1    10.0  99.91  95-100    A        NaN           NaN  NaN  \n",
       "2    10.0  99.86  95-100    A        NaN           NaN  NaN  \n",
       "3    10.0  99.84  95-100    A        NaN           NaN  NaN  \n",
       "4    10.0  99.83  95-100    A        NaN           NaN  NaN  "
      ]
     },
     "execution_count": 168,
     "metadata": {},
     "output_type": "execute_result"
    }
   ],
   "source": [
    "df_all[lt_data] = df_all[lt_data].apply(lambda x: x.fillna('null'))\n",
    "df_all.head()"
   ]
  },
  {
   "cell_type": "code",
   "execution_count": 158,
   "id": "dfcafad7",
   "metadata": {
    "ExecuteTime": {
     "end_time": "2021-12-27T10:01:52.061057Z",
     "start_time": "2021-12-27T10:01:52.046521Z"
    },
    "collapsed": true
   },
   "outputs": [
    {
     "data": {
      "text/plain": [
       "月会出勤率    True\n",
       "Name: 1, dtype: bool"
      ]
     },
     "execution_count": 158,
     "metadata": {},
     "output_type": "execute_result"
    }
   ],
   "source": [
    "d[['月会出勤率']].isnull()"
   ]
  },
  {
   "cell_type": "code",
   "execution_count": 169,
   "id": "903ee3b8",
   "metadata": {
    "ExecuteTime": {
     "end_time": "2021-12-27T10:08:42.269601Z",
     "start_time": "2021-12-27T10:08:42.263872Z"
    }
   },
   "outputs": [],
   "source": [
    "def func_y(x, v_min, v_max, column='other'):\n",
    "    try:\n",
    "        # 处理空值\n",
    "        if x == 'null':\n",
    "            y = 10\n",
    "        \n",
    "        if x < min(v_min, v_max):\n",
    "            if column == '队长CPO':\n",
    "                y = 10\n",
    "            else:\n",
    "                y = 0\n",
    "        elif x > max(v_max, v_min):\n",
    "            if column == '队长CPO':\n",
    "                y = 0\n",
    "            else:\n",
    "                y = 10\n",
    "        else:\n",
    "            y = (10*(x-v_min))/(v_max - v_min)\n",
    "        return y\n",
    "    except:\n",
    "        return 10\n"
   ]
  },
  {
   "cell_type": "code",
   "execution_count": 110,
   "id": "f37c1749",
   "metadata": {
    "ExecuteTime": {
     "end_time": "2021-12-27T09:42:44.059023Z",
     "start_time": "2021-12-27T09:42:44.055034Z"
    }
   },
   "outputs": [],
   "source": [
    "# df_all.columns[[17, 19, 21, 23, 25, 27, 29, 31, 33, 35]]\n",
    "# df_all.columns[range(18,36,2)]"
   ]
  },
  {
   "cell_type": "code",
   "execution_count": 170,
   "id": "25806743",
   "metadata": {
    "ExecuteTime": {
     "end_time": "2021-12-27T10:08:47.728846Z",
     "start_time": "2021-12-27T10:08:47.550815Z"
    }
   },
   "outputs": [],
   "source": [
    "# 给各列赋分\n",
    "for i in range(len(lt_data)):\n",
    "    value = lt_value[i]\n",
    "    data = lt_data[i]\n",
    "    v_min, v_max = lt_range[i]\n",
    "    df_all[value] = df_all[data].apply(lambda x: func_y(x, v_min, v_max))\n",
    "df_all.loc[:, 'CPO得分'] = df_all['队长CPO'].apply(lambda x: func_y(x, 0.00246, 0.00075, '队长CPO'))\n",
    "# df_all['最终得分'] = df_all.apply(lambda x: sum(x[i]) for i in grade)\n"
   ]
  },
  {
   "cell_type": "code",
   "execution_count": 172,
   "id": "d574d075",
   "metadata": {
    "ExecuteTime": {
     "end_time": "2021-12-27T10:09:32.980764Z",
     "start_time": "2021-12-27T10:09:32.958253Z"
    },
    "collapsed": true
   },
   "outputs": [
    {
     "ename": "TypeError",
     "evalue": "unsupported operand type(s) for +: 'int' and 'NoneType'",
     "output_type": "error",
     "traceback": [
      "\u001b[1;31m---------------------------------------------------------------------------\u001b[0m",
      "\u001b[1;31mTypeError\u001b[0m                                 Traceback (most recent call last)",
      "\u001b[1;32m<ipython-input-172-a0b73b2646b4>\u001b[0m in \u001b[0;36m<module>\u001b[1;34m\u001b[0m\n\u001b[0;32m      1\u001b[0m \u001b[0mgrade\u001b[0m \u001b[1;33m=\u001b[0m \u001b[1;33m[\u001b[0m\u001b[1;34m'出勤得分'\u001b[0m\u001b[1;33m,\u001b[0m \u001b[1;34m'发言得分'\u001b[0m\u001b[1;33m,\u001b[0m \u001b[1;34m'完成得分'\u001b[0m\u001b[1;33m,\u001b[0m \u001b[1;34m'沟通得分'\u001b[0m\u001b[1;33m,\u001b[0m \u001b[1;34m'服务分得分'\u001b[0m\u001b[1;33m,\u001b[0m \u001b[1;34m'CPO得分'\u001b[0m\u001b[1;33m,\u001b[0m \u001b[1;34m'峰期得分'\u001b[0m\u001b[1;33m,\u001b[0m \u001b[1;34m'双非得分'\u001b[0m\u001b[1;33m,\u001b[0m \u001b[1;34m'队员评价得分'\u001b[0m\u001b[1;33m,\u001b[0m \u001b[1;34m'司服评价得分'\u001b[0m \u001b[1;33m]\u001b[0m\u001b[1;33m\u001b[0m\u001b[1;33m\u001b[0m\u001b[0m\n\u001b[0;32m      2\u001b[0m \u001b[1;33m\u001b[0m\u001b[0m\n\u001b[1;32m----> 3\u001b[1;33m \u001b[0mdf_all\u001b[0m\u001b[1;33m[\u001b[0m\u001b[1;34m'最终得分'\u001b[0m\u001b[1;33m]\u001b[0m \u001b[1;33m=\u001b[0m \u001b[0mdf_all\u001b[0m\u001b[1;33m.\u001b[0m\u001b[0mapply\u001b[0m\u001b[1;33m(\u001b[0m\u001b[1;32mlambda\u001b[0m \u001b[0mx\u001b[0m\u001b[1;33m:\u001b[0m \u001b[0msum\u001b[0m\u001b[1;33m(\u001b[0m\u001b[0mlist\u001b[0m\u001b[1;33m(\u001b[0m \u001b[0mx\u001b[0m\u001b[1;33m.\u001b[0m\u001b[0mget\u001b[0m\u001b[1;33m(\u001b[0m\u001b[0mcol\u001b[0m\u001b[1;33m)\u001b[0m \u001b[1;32mfor\u001b[0m \u001b[0mcol\u001b[0m \u001b[1;32min\u001b[0m \u001b[0mgrade\u001b[0m\u001b[1;33m)\u001b[0m\u001b[1;33m)\u001b[0m \u001b[1;33m)\u001b[0m  \u001b[1;31m# 用.get， 用Loc或[]会报错\u001b[0m\u001b[1;33m\u001b[0m\u001b[1;33m\u001b[0m\u001b[0m\n\u001b[0m",
      "\u001b[1;32m~\\Anaconda3\\lib\\site-packages\\pandas\\core\\frame.py\u001b[0m in \u001b[0;36mapply\u001b[1;34m(self, func, axis, raw, result_type, args, **kwds)\u001b[0m\n\u001b[0;32m   7766\u001b[0m             \u001b[0mkwds\u001b[0m\u001b[1;33m=\u001b[0m\u001b[0mkwds\u001b[0m\u001b[1;33m,\u001b[0m\u001b[1;33m\u001b[0m\u001b[1;33m\u001b[0m\u001b[0m\n\u001b[0;32m   7767\u001b[0m         )\n\u001b[1;32m-> 7768\u001b[1;33m         \u001b[1;32mreturn\u001b[0m \u001b[0mop\u001b[0m\u001b[1;33m.\u001b[0m\u001b[0mget_result\u001b[0m\u001b[1;33m(\u001b[0m\u001b[1;33m)\u001b[0m\u001b[1;33m\u001b[0m\u001b[1;33m\u001b[0m\u001b[0m\n\u001b[0m\u001b[0;32m   7769\u001b[0m \u001b[1;33m\u001b[0m\u001b[0m\n\u001b[0;32m   7770\u001b[0m     \u001b[1;32mdef\u001b[0m \u001b[0mapplymap\u001b[0m\u001b[1;33m(\u001b[0m\u001b[0mself\u001b[0m\u001b[1;33m,\u001b[0m \u001b[0mfunc\u001b[0m\u001b[1;33m,\u001b[0m \u001b[0mna_action\u001b[0m\u001b[1;33m:\u001b[0m \u001b[0mOptional\u001b[0m\u001b[1;33m[\u001b[0m\u001b[0mstr\u001b[0m\u001b[1;33m]\u001b[0m \u001b[1;33m=\u001b[0m \u001b[1;32mNone\u001b[0m\u001b[1;33m)\u001b[0m \u001b[1;33m->\u001b[0m \u001b[0mDataFrame\u001b[0m\u001b[1;33m:\u001b[0m\u001b[1;33m\u001b[0m\u001b[1;33m\u001b[0m\u001b[0m\n",
      "\u001b[1;32m~\\Anaconda3\\lib\\site-packages\\pandas\\core\\apply.py\u001b[0m in \u001b[0;36mget_result\u001b[1;34m(self)\u001b[0m\n\u001b[0;32m    183\u001b[0m             \u001b[1;32mreturn\u001b[0m \u001b[0mself\u001b[0m\u001b[1;33m.\u001b[0m\u001b[0mapply_raw\u001b[0m\u001b[1;33m(\u001b[0m\u001b[1;33m)\u001b[0m\u001b[1;33m\u001b[0m\u001b[1;33m\u001b[0m\u001b[0m\n\u001b[0;32m    184\u001b[0m \u001b[1;33m\u001b[0m\u001b[0m\n\u001b[1;32m--> 185\u001b[1;33m         \u001b[1;32mreturn\u001b[0m \u001b[0mself\u001b[0m\u001b[1;33m.\u001b[0m\u001b[0mapply_standard\u001b[0m\u001b[1;33m(\u001b[0m\u001b[1;33m)\u001b[0m\u001b[1;33m\u001b[0m\u001b[1;33m\u001b[0m\u001b[0m\n\u001b[0m\u001b[0;32m    186\u001b[0m \u001b[1;33m\u001b[0m\u001b[0m\n\u001b[0;32m    187\u001b[0m     \u001b[1;32mdef\u001b[0m \u001b[0mapply_empty_result\u001b[0m\u001b[1;33m(\u001b[0m\u001b[0mself\u001b[0m\u001b[1;33m)\u001b[0m\u001b[1;33m:\u001b[0m\u001b[1;33m\u001b[0m\u001b[1;33m\u001b[0m\u001b[0m\n",
      "\u001b[1;32m~\\Anaconda3\\lib\\site-packages\\pandas\\core\\apply.py\u001b[0m in \u001b[0;36mapply_standard\u001b[1;34m(self)\u001b[0m\n\u001b[0;32m    274\u001b[0m \u001b[1;33m\u001b[0m\u001b[0m\n\u001b[0;32m    275\u001b[0m     \u001b[1;32mdef\u001b[0m \u001b[0mapply_standard\u001b[0m\u001b[1;33m(\u001b[0m\u001b[0mself\u001b[0m\u001b[1;33m)\u001b[0m\u001b[1;33m:\u001b[0m\u001b[1;33m\u001b[0m\u001b[1;33m\u001b[0m\u001b[0m\n\u001b[1;32m--> 276\u001b[1;33m         \u001b[0mresults\u001b[0m\u001b[1;33m,\u001b[0m \u001b[0mres_index\u001b[0m \u001b[1;33m=\u001b[0m \u001b[0mself\u001b[0m\u001b[1;33m.\u001b[0m\u001b[0mapply_series_generator\u001b[0m\u001b[1;33m(\u001b[0m\u001b[1;33m)\u001b[0m\u001b[1;33m\u001b[0m\u001b[1;33m\u001b[0m\u001b[0m\n\u001b[0m\u001b[0;32m    277\u001b[0m \u001b[1;33m\u001b[0m\u001b[0m\n\u001b[0;32m    278\u001b[0m         \u001b[1;31m# wrap results\u001b[0m\u001b[1;33m\u001b[0m\u001b[1;33m\u001b[0m\u001b[1;33m\u001b[0m\u001b[0m\n",
      "\u001b[1;32m~\\Anaconda3\\lib\\site-packages\\pandas\\core\\apply.py\u001b[0m in \u001b[0;36mapply_series_generator\u001b[1;34m(self)\u001b[0m\n\u001b[0;32m    288\u001b[0m             \u001b[1;32mfor\u001b[0m \u001b[0mi\u001b[0m\u001b[1;33m,\u001b[0m \u001b[0mv\u001b[0m \u001b[1;32min\u001b[0m \u001b[0menumerate\u001b[0m\u001b[1;33m(\u001b[0m\u001b[0mseries_gen\u001b[0m\u001b[1;33m)\u001b[0m\u001b[1;33m:\u001b[0m\u001b[1;33m\u001b[0m\u001b[1;33m\u001b[0m\u001b[0m\n\u001b[0;32m    289\u001b[0m                 \u001b[1;31m# ignore SettingWithCopy here in case the user mutates\u001b[0m\u001b[1;33m\u001b[0m\u001b[1;33m\u001b[0m\u001b[1;33m\u001b[0m\u001b[0m\n\u001b[1;32m--> 290\u001b[1;33m                 \u001b[0mresults\u001b[0m\u001b[1;33m[\u001b[0m\u001b[0mi\u001b[0m\u001b[1;33m]\u001b[0m \u001b[1;33m=\u001b[0m \u001b[0mself\u001b[0m\u001b[1;33m.\u001b[0m\u001b[0mf\u001b[0m\u001b[1;33m(\u001b[0m\u001b[0mv\u001b[0m\u001b[1;33m)\u001b[0m\u001b[1;33m\u001b[0m\u001b[1;33m\u001b[0m\u001b[0m\n\u001b[0m\u001b[0;32m    291\u001b[0m                 \u001b[1;32mif\u001b[0m \u001b[0misinstance\u001b[0m\u001b[1;33m(\u001b[0m\u001b[0mresults\u001b[0m\u001b[1;33m[\u001b[0m\u001b[0mi\u001b[0m\u001b[1;33m]\u001b[0m\u001b[1;33m,\u001b[0m \u001b[0mABCSeries\u001b[0m\u001b[1;33m)\u001b[0m\u001b[1;33m:\u001b[0m\u001b[1;33m\u001b[0m\u001b[1;33m\u001b[0m\u001b[0m\n\u001b[0;32m    292\u001b[0m                     \u001b[1;31m# If we have a view on v, we need to make a copy because\u001b[0m\u001b[1;33m\u001b[0m\u001b[1;33m\u001b[0m\u001b[1;33m\u001b[0m\u001b[0m\n",
      "\u001b[1;32m<ipython-input-172-a0b73b2646b4>\u001b[0m in \u001b[0;36m<lambda>\u001b[1;34m(x)\u001b[0m\n\u001b[0;32m      1\u001b[0m \u001b[0mgrade\u001b[0m \u001b[1;33m=\u001b[0m \u001b[1;33m[\u001b[0m\u001b[1;34m'出勤得分'\u001b[0m\u001b[1;33m,\u001b[0m \u001b[1;34m'发言得分'\u001b[0m\u001b[1;33m,\u001b[0m \u001b[1;34m'完成得分'\u001b[0m\u001b[1;33m,\u001b[0m \u001b[1;34m'沟通得分'\u001b[0m\u001b[1;33m,\u001b[0m \u001b[1;34m'服务分得分'\u001b[0m\u001b[1;33m,\u001b[0m \u001b[1;34m'CPO得分'\u001b[0m\u001b[1;33m,\u001b[0m \u001b[1;34m'峰期得分'\u001b[0m\u001b[1;33m,\u001b[0m \u001b[1;34m'双非得分'\u001b[0m\u001b[1;33m,\u001b[0m \u001b[1;34m'队员评价得分'\u001b[0m\u001b[1;33m,\u001b[0m \u001b[1;34m'司服评价得分'\u001b[0m \u001b[1;33m]\u001b[0m\u001b[1;33m\u001b[0m\u001b[1;33m\u001b[0m\u001b[0m\n\u001b[0;32m      2\u001b[0m \u001b[1;33m\u001b[0m\u001b[0m\n\u001b[1;32m----> 3\u001b[1;33m \u001b[0mdf_all\u001b[0m\u001b[1;33m[\u001b[0m\u001b[1;34m'最终得分'\u001b[0m\u001b[1;33m]\u001b[0m \u001b[1;33m=\u001b[0m \u001b[0mdf_all\u001b[0m\u001b[1;33m.\u001b[0m\u001b[0mapply\u001b[0m\u001b[1;33m(\u001b[0m\u001b[1;32mlambda\u001b[0m \u001b[0mx\u001b[0m\u001b[1;33m:\u001b[0m \u001b[0msum\u001b[0m\u001b[1;33m(\u001b[0m\u001b[0mlist\u001b[0m\u001b[1;33m(\u001b[0m \u001b[0mx\u001b[0m\u001b[1;33m.\u001b[0m\u001b[0mget\u001b[0m\u001b[1;33m(\u001b[0m\u001b[0mcol\u001b[0m\u001b[1;33m)\u001b[0m \u001b[1;32mfor\u001b[0m \u001b[0mcol\u001b[0m \u001b[1;32min\u001b[0m \u001b[0mgrade\u001b[0m\u001b[1;33m)\u001b[0m\u001b[1;33m)\u001b[0m \u001b[1;33m)\u001b[0m  \u001b[1;31m# 用.get， 用Loc或[]会报错\u001b[0m\u001b[1;33m\u001b[0m\u001b[1;33m\u001b[0m\u001b[0m\n\u001b[0m",
      "\u001b[1;31mTypeError\u001b[0m: unsupported operand type(s) for +: 'int' and 'NoneType'"
     ]
    }
   ],
   "source": [
    "grade = ['出勤得分', '发言得分', '完成得分', '沟通得分', '服务分得分', 'CPO得分', '峰期得分', '双非得分', '队员评价得分', '司服评价得分' ]\n",
    "# 计算有问题\n",
    "# df_all['最终得分'] = df_all.apply(lambda x: sum(list( x.get(col) for col in grade)) )  # 用.get， 用Loc或[]会报错"
   ]
  },
  {
   "cell_type": "code",
   "execution_count": 179,
   "id": "bc4a9fcd",
   "metadata": {
    "ExecuteTime": {
     "end_time": "2021-12-27T10:16:24.650643Z",
     "start_time": "2021-12-27T10:16:24.645153Z"
    }
   },
   "outputs": [],
   "source": [
    "df_all2 = df.copy()"
   ]
  },
  {
   "cell_type": "code",
   "execution_count": 196,
   "id": "b7d1e639",
   "metadata": {
    "ExecuteTime": {
     "end_time": "2021-12-27T10:24:34.666957Z",
     "start_time": "2021-12-27T10:24:34.655015Z"
    },
    "scrolled": true
   },
   "outputs": [
    {
     "data": {
      "text/html": [
       "<div>\n",
       "<style scoped>\n",
       "    .dataframe tbody tr th:only-of-type {\n",
       "        vertical-align: middle;\n",
       "    }\n",
       "\n",
       "    .dataframe tbody tr th {\n",
       "        vertical-align: top;\n",
       "    }\n",
       "\n",
       "    .dataframe thead th {\n",
       "        text-align: right;\n",
       "    }\n",
       "</style>\n",
       "<table border=\"1\" class=\"dataframe\">\n",
       "  <thead>\n",
       "    <tr style=\"text-align: right;\">\n",
       "      <th></th>\n",
       "      <th>30pp</th>\n",
       "      <th>80pp</th>\n",
       "    </tr>\n",
       "  </thead>\n",
       "  <tbody>\n",
       "    <tr>\n",
       "      <th>月会出勤率</th>\n",
       "      <td>NaN</td>\n",
       "      <td>NaN</td>\n",
       "    </tr>\n",
       "    <tr>\n",
       "      <th>部落发言率</th>\n",
       "      <td>NaN</td>\n",
       "      <td>NaN</td>\n",
       "    </tr>\n",
       "    <tr>\n",
       "      <th>任务完成率</th>\n",
       "      <td>NaN</td>\n",
       "      <td>NaN</td>\n",
       "    </tr>\n",
       "    <tr>\n",
       "      <th>有效沟通率</th>\n",
       "      <td>NaN</td>\n",
       "      <td>NaN</td>\n",
       "    </tr>\n",
       "    <tr>\n",
       "      <th>队长服务分</th>\n",
       "      <td>NaN</td>\n",
       "      <td>NaN</td>\n",
       "    </tr>\n",
       "    <tr>\n",
       "      <th>队长CPO</th>\n",
       "      <td>NaN</td>\n",
       "      <td>NaN</td>\n",
       "    </tr>\n",
       "    <tr>\n",
       "      <th>峰期时长</th>\n",
       "      <td>NaN</td>\n",
       "      <td>NaN</td>\n",
       "    </tr>\n",
       "    <tr>\n",
       "      <th>双非时长</th>\n",
       "      <td>NaN</td>\n",
       "      <td>NaN</td>\n",
       "    </tr>\n",
       "    <tr>\n",
       "      <th>队员评价</th>\n",
       "      <td>NaN</td>\n",
       "      <td>NaN</td>\n",
       "    </tr>\n",
       "    <tr>\n",
       "      <th>司服评价</th>\n",
       "      <td>NaN</td>\n",
       "      <td>NaN</td>\n",
       "    </tr>\n",
       "  </tbody>\n",
       "</table>\n",
       "</div>"
      ],
      "text/plain": [
       "      30pp 80pp\n",
       "月会出勤率  NaN  NaN\n",
       "部落发言率  NaN  NaN\n",
       "任务完成率  NaN  NaN\n",
       "有效沟通率  NaN  NaN\n",
       "队长服务分  NaN  NaN\n",
       "队长CPO  NaN  NaN\n",
       "峰期时长   NaN  NaN\n",
       "双非时长   NaN  NaN\n",
       "队员评价   NaN  NaN\n",
       "司服评价   NaN  NaN"
      ]
     },
     "execution_count": 196,
     "metadata": {},
     "output_type": "execute_result"
    }
   ],
   "source": [
    "## 方案一\n",
    "df = pd.DataFrame(columns=['30pp', '80pp'], index=lt_data)\n",
    "df\n",
    "\n",
    "for i in range(len(df.index)):\n",
    "    df.iloc[i, 0] =  np.percentile(df_all2[lt_value[i]], 70)\n",
    "    df.iloc[i, 1] =  np.percentile(df_all2[lt_value[i]], 20)\n",
    "    \n",
    "df"
   ]
  },
  {
   "cell_type": "code",
   "execution_count": 208,
   "id": "ad3792d7",
   "metadata": {
    "ExecuteTime": {
     "end_time": "2021-12-27T10:30:56.413882Z",
     "start_time": "2021-12-27T10:30:56.402888Z"
    },
    "collapsed": true
   },
   "outputs": [
    {
     "data": {
      "text/html": [
       "<div>\n",
       "<style scoped>\n",
       "    .dataframe tbody tr th:only-of-type {\n",
       "        vertical-align: middle;\n",
       "    }\n",
       "\n",
       "    .dataframe tbody tr th {\n",
       "        vertical-align: top;\n",
       "    }\n",
       "\n",
       "    .dataframe thead th {\n",
       "        text-align: right;\n",
       "    }\n",
       "</style>\n",
       "<table border=\"1\" class=\"dataframe\">\n",
       "  <thead>\n",
       "    <tr style=\"text-align: right;\">\n",
       "      <th></th>\n",
       "      <th>30pp</th>\n",
       "      <th>80pp</th>\n",
       "    </tr>\n",
       "  </thead>\n",
       "  <tbody>\n",
       "    <tr>\n",
       "      <th>月会出勤率</th>\n",
       "      <td>NaN</td>\n",
       "      <td>NaN</td>\n",
       "    </tr>\n",
       "    <tr>\n",
       "      <th>部落发言率</th>\n",
       "      <td>NaN</td>\n",
       "      <td>NaN</td>\n",
       "    </tr>\n",
       "    <tr>\n",
       "      <th>任务完成率</th>\n",
       "      <td>NaN</td>\n",
       "      <td>NaN</td>\n",
       "    </tr>\n",
       "    <tr>\n",
       "      <th>有效沟通率</th>\n",
       "      <td>NaN</td>\n",
       "      <td>NaN</td>\n",
       "    </tr>\n",
       "    <tr>\n",
       "      <th>队长服务分</th>\n",
       "      <td>NaN</td>\n",
       "      <td>NaN</td>\n",
       "    </tr>\n",
       "    <tr>\n",
       "      <th>队长CPO</th>\n",
       "      <td>NaN</td>\n",
       "      <td>NaN</td>\n",
       "    </tr>\n",
       "    <tr>\n",
       "      <th>峰期时长</th>\n",
       "      <td>NaN</td>\n",
       "      <td>NaN</td>\n",
       "    </tr>\n",
       "    <tr>\n",
       "      <th>双非时长</th>\n",
       "      <td>NaN</td>\n",
       "      <td>NaN</td>\n",
       "    </tr>\n",
       "    <tr>\n",
       "      <th>队员评价</th>\n",
       "      <td>NaN</td>\n",
       "      <td>NaN</td>\n",
       "    </tr>\n",
       "    <tr>\n",
       "      <th>司服评价</th>\n",
       "      <td>NaN</td>\n",
       "      <td>NaN</td>\n",
       "    </tr>\n",
       "  </tbody>\n",
       "</table>\n",
       "</div>"
      ],
      "text/plain": [
       "      30pp 80pp\n",
       "月会出勤率  NaN  NaN\n",
       "部落发言率  NaN  NaN\n",
       "任务完成率  NaN  NaN\n",
       "有效沟通率  NaN  NaN\n",
       "队长服务分  NaN  NaN\n",
       "队长CPO  NaN  NaN\n",
       "峰期时长   NaN  NaN\n",
       "双非时长   NaN  NaN\n",
       "队员评价   NaN  NaN\n",
       "司服评价   NaN  NaN"
      ]
     },
     "execution_count": 208,
     "metadata": {},
     "output_type": "execute_result"
    }
   ],
   "source": [
    "## 方案二\n",
    "df = pd.DataFrame(columns=['30pp', '80pp'], index=lt_data)\n",
    "df\n",
    "\n",
    "num = df_all2.shape[0]\n",
    "num1 = int(num*0.3)\n",
    "num2 = int(num*0.8)\n",
    "num1, num2\n",
    "d1 = df_all2.sort_values(by='最终得分', ascending=False)[:num1]\n",
    "d2 = df_all2.sort_values(by='最终得分', ascending=False)[num1+1:num2+1]\n",
    "d1.shape\n",
    "d2.shape\n",
    "\n",
    "# 中位数\n",
    "for i in range(len(df.index)):\n",
    "    df.iloc[i, 0] =  d1[lt_value[i]].median()\n",
    "    df.iloc[i, 1] =  d2[lt_value[i]].median()\n",
    "df\n",
    "\n",
    "# 平均数\n",
    "for i in range(len(df.index)):\n",
    "    df.iloc[i, 0] =  d1[lt_value[i]].mean()\n",
    "    df.iloc[i, 1] =  d2[lt_value[i]].mean()\n",
    "df\n",
    "df.to_clipboard()\n",
    "\n",
    "# 众数\n",
    "for i in range(len(df.index)):\n",
    "    df.iloc[i, 0] =  d1[lt_value[i]].mode()[0]\n",
    "    df.iloc[i, 1] =  d2[lt_value[i]].mode()[0]\n",
    "df\n",
    "df.to_clipboard()"
   ]
  },
  {
   "cell_type": "markdown",
   "id": "b8332256",
   "metadata": {},
   "source": [
    "## 得分分布统计"
   ]
  },
  {
   "cell_type": "code",
   "execution_count": 219,
   "id": "84668564",
   "metadata": {
    "ExecuteTime": {
     "end_time": "2021-12-27T10:39:58.735144Z",
     "start_time": "2021-12-27T10:39:58.445531Z"
    }
   },
   "outputs": [
    {
     "data": {
      "text/plain": [
       "(array([  19.,  126.,  416., 1072., 2123., 3296., 4048., 3715., 2556.,\n",
       "         938.]),\n",
       " array([ 13.25757576,  21.93181818,  30.60606061,  39.28030303,\n",
       "         47.95454546,  56.62878788,  65.3030303 ,  73.97727273,\n",
       "         82.65151515,  91.32575758, 100.        ]),\n",
       " <BarContainer object of 10 artists>)"
      ]
     },
     "execution_count": 219,
     "metadata": {},
     "output_type": "execute_result"
    },
    {
     "data": {
      "image/png": "[encoded data removed]",
      "text/plain": [
       "<Figure size 432x288 with 1 Axes>"
      ]
     },
     "metadata": {
      "needs_background": "light"
     },
     "output_type": "display_data"
    }
   ],
   "source": [
    "plt.hist(df_all2['最终得分'])"
   ]
  },
  {
   "cell_type": "code",
   "execution_count": 221,
   "id": "cc4d7a79",
   "metadata": {
    "ExecuteTime": {
     "end_time": "2021-12-27T10:47:36.664195Z",
     "start_time": "2021-12-27T10:47:35.068744Z"
    },
    "collapsed": true
   },
   "outputs": [
    {
     "data": {
      "text/plain": [
       "(array([  151.,     0.,     0.,  2287.,     0.,     0.,  1952.,     0.,\n",
       "            0., 13919.]),\n",
       " array([ 0.,  1.,  2.,  3.,  4.,  5.,  6.,  7.,  8.,  9., 10.]),\n",
       " <BarContainer object of 10 artists>)"
      ]
     },
     "execution_count": 221,
     "metadata": {},
     "output_type": "execute_result"
    },
    {
     "data": {
      "text/plain": [
       "Text(0.5, 1.0, '月会出勤率')"
      ]
     },
     "execution_count": 221,
     "metadata": {},
     "output_type": "execute_result"
    },
    {
     "data": {
      "image/png": "[encoded data removed]",
      "text/plain": [
       "<Figure size 432x288 with 1 Axes>"
      ]
     },
     "metadata": {
      "needs_background": "light"
     },
     "output_type": "display_data"
    },
    {
     "data": {
      "text/plain": [
       "(array([4457.,  781.,  986.,  815.,  742.,  916.,  847.,  999.,  918.,\n",
       "        6848.]),\n",
       " array([ 0.,  1.,  2.,  3.,  4.,  5.,  6.,  7.,  8.,  9., 10.]),\n",
       " <BarContainer object of 10 artists>)"
      ]
     },
     "execution_count": 221,
     "metadata": {},
     "output_type": "execute_result"
    },
    {
     "data": {
      "text/plain": [
       "Text(0.5, 1.0, '部落发言率')"
      ]
     },
     "execution_count": 221,
     "metadata": {},
     "output_type": "execute_result"
    },
    {
     "data": {
      "image/png": "[encoded data removed]",
      "text/plain": [
       "<Figure size 432x288 with 1 Axes>"
      ]
     },
     "metadata": {
      "needs_background": "light"
     },
     "output_type": "display_data"
    },
    {
     "data": {
      "text/plain": [
       "(array([ 1484.,   127.,   232.,   319.,   382.,   408.,   553.,   652.,\n",
       "          614., 13538.]),\n",
       " array([ 0.,  1.,  2.,  3.,  4.,  5.,  6.,  7.,  8.,  9., 10.]),\n",
       " <BarContainer object of 10 artists>)"
      ]
     },
     "execution_count": 221,
     "metadata": {},
     "output_type": "execute_result"
    },
    {
     "data": {
      "text/plain": [
       "Text(0.5, 1.0, '任务完成率')"
      ]
     },
     "execution_count": 221,
     "metadata": {},
     "output_type": "execute_result"
    },
    {
     "data": {
      "image/png": "[encoded data removed]",
      "text/plain": [
       "<Figure size 432x288 with 1 Axes>"
      ]
     },
     "metadata": {
      "needs_background": "light"
     },
     "output_type": "display_data"
    },
    {
     "data": {
      "text/plain": [
       "(array([4424.,  931.,  777.,  656.,  568.,  771.,  582.,  817.,  951.,\n",
       "        7832.]),\n",
       " array([ 0.,  1.,  2.,  3.,  4.,  5.,  6.,  7.,  8.,  9., 10.]),\n",
       " <BarContainer object of 10 artists>)"
      ]
     },
     "execution_count": 221,
     "metadata": {},
     "output_type": "execute_result"
    },
    {
     "data": {
      "text/plain": [
       "Text(0.5, 1.0, '有效沟通率')"
      ]
     },
     "execution_count": 221,
     "metadata": {},
     "output_type": "execute_result"
    },
    {
     "data": {
      "image/png": "[encoded data removed]",
      "text/plain": [
       "<Figure size 432x288 with 1 Axes>"
      ]
     },
     "metadata": {
      "needs_background": "light"
     },
     "output_type": "display_data"
    },
    {
     "data": {
      "text/plain": [
       "(array([ 697.,  438.,  310.,  377.,  924.,  733.,  145., 3437., 9234.,\n",
       "        2014.]),\n",
       " array([ 0.,  1.,  2.,  3.,  4.,  5.,  6.,  7.,  8.,  9., 10.]),\n",
       " <BarContainer object of 10 artists>)"
      ]
     },
     "execution_count": 221,
     "metadata": {},
     "output_type": "execute_result"
    },
    {
     "data": {
      "text/plain": [
       "Text(0.5, 1.0, '队长服务分')"
      ]
     },
     "execution_count": 221,
     "metadata": {},
     "output_type": "execute_result"
    },
    {
     "data": {
      "image/png": "[encoded data removed]",
      "text/plain": [
       "<Figure size 432x288 with 1 Axes>"
      ]
     },
     "metadata": {
      "needs_background": "light"
     },
     "output_type": "display_data"
    },
    {
     "data": {
      "text/plain": [
       "(array([ 1894.,   145.,   170.,   182.,   182.,   217.,   307.,   337.,\n",
       "          406., 14469.]),\n",
       " array([ 0.,  1.,  2.,  3.,  4.,  5.,  6.,  7.,  8.,  9., 10.]),\n",
       " <BarContainer object of 10 artists>)"
      ]
     },
     "execution_count": 221,
     "metadata": {},
     "output_type": "execute_result"
    },
    {
     "data": {
      "text/plain": [
       "Text(0.5, 1.0, '队长CPO')"
      ]
     },
     "execution_count": 221,
     "metadata": {},
     "output_type": "execute_result"
    },
    {
     "data": {
      "image/png": "[encoded data removed]",
      "text/plain": [
       "<Figure size 432x288 with 1 Axes>"
      ]
     },
     "metadata": {
      "needs_background": "light"
     },
     "output_type": "display_data"
    },
    {
     "data": {
      "text/plain": [
       "(array([4346.,  754.,  821.,  890.,  909., 1003., 1014., 1051., 1062.,\n",
       "        6459.]),\n",
       " array([ 0.,  1.,  2.,  3.,  4.,  5.,  6.,  7.,  8.,  9., 10.]),\n",
       " <BarContainer object of 10 artists>)"
      ]
     },
     "execution_count": 221,
     "metadata": {},
     "output_type": "execute_result"
    },
    {
     "data": {
      "text/plain": [
       "Text(0.5, 1.0, '峰期时长')"
      ]
     },
     "execution_count": 221,
     "metadata": {},
     "output_type": "execute_result"
    },
    {
     "data": {
      "image/png": "[encoded data removed]",
      "text/plain": [
       "<Figure size 432x288 with 1 Axes>"
      ]
     },
     "metadata": {
      "needs_background": "light"
     },
     "output_type": "display_data"
    },
    {
     "data": {
      "text/plain": [
       "(array([4305.,  742.,  800.,  881.,  945.,  994.,  935.,  955.,  927.,\n",
       "        6825.]),\n",
       " array([ 0.,  1.,  2.,  3.,  4.,  5.,  6.,  7.,  8.,  9., 10.]),\n",
       " <BarContainer object of 10 artists>)"
      ]
     },
     "execution_count": 221,
     "metadata": {},
     "output_type": "execute_result"
    },
    {
     "data": {
      "text/plain": [
       "Text(0.5, 1.0, '双非时长')"
      ]
     },
     "execution_count": 221,
     "metadata": {},
     "output_type": "execute_result"
    },
    {
     "data": {
      "image/png": "[encoded data removed]",
      "text/plain": [
       "<Figure size 432x288 with 1 Axes>"
      ]
     },
     "metadata": {
      "needs_background": "light"
     },
     "output_type": "display_data"
    },
    {
     "data": {
      "text/plain": [
       "(array([ 3281.,   260.,   409.,   238.,   581.,   504.,   526.,   691.,\n",
       "          870., 10949.]),\n",
       " array([ 0.,  1.,  2.,  3.,  4.,  5.,  6.,  7.,  8.,  9., 10.]),\n",
       " <BarContainer object of 10 artists>)"
      ]
     },
     "execution_count": 221,
     "metadata": {},
     "output_type": "execute_result"
    },
    {
     "data": {
      "text/plain": [
       "Text(0.5, 1.0, '队员评价')"
      ]
     },
     "execution_count": 221,
     "metadata": {},
     "output_type": "execute_result"
    },
    {
     "data": {
      "image/png": "[encoded data removed]",
      "text/plain": [
       "<Figure size 432x288 with 1 Axes>"
      ]
     },
     "metadata": {
      "needs_background": "light"
     },
     "output_type": "display_data"
    },
    {
     "data": {
      "text/plain": [
       "(array([3887.,  410.,   57.,  846.,    0., 6447.,    0., 1031.,   70.,\n",
       "        5561.]),\n",
       " array([ 0.,  1.,  2.,  3.,  4.,  5.,  6.,  7.,  8.,  9., 10.]),\n",
       " <BarContainer object of 10 artists>)"
      ]
     },
     "execution_count": 221,
     "metadata": {},
     "output_type": "execute_result"
    },
    {
     "data": {
      "text/plain": [
       "Text(0.5, 1.0, '司服评价')"
      ]
     },
     "execution_count": 221,
     "metadata": {},
     "output_type": "execute_result"
    },
    {
     "data": {
      "image/png": "[encoded data removed]",
      "text/plain": [
       "<Figure size 432x288 with 1 Axes>"
      ]
     },
     "metadata": {
      "needs_background": "light"
     },
     "output_type": "display_data"
    }
   ],
   "source": [
    "for i in range(len(lt_data)):\n",
    "    plt.hist(df_all2[lt_value[i]])\n",
    "    plt.title(lt_data[i])\n",
    "    plt.show()"
   ]
  },
  {
   "cell_type": "code",
   "execution_count": 227,
   "id": "7b5ba8a1",
   "metadata": {
    "ExecuteTime": {
     "end_time": "2021-12-27T10:51:45.289097Z",
     "start_time": "2021-12-27T10:51:43.688365Z"
    },
    "scrolled": true
   },
   "outputs": [
    {
     "data": {
      "text/plain": [
       "(array([2.000e+00, 0.000e+00, 0.000e+00, 1.470e+02, 0.000e+00, 0.000e+00,\n",
       "        3.840e+02, 0.000e+00, 0.000e+00, 4.959e+03]),\n",
       " array([ 0.,  1.,  2.,  3.,  4.,  5.,  6.,  7.,  8.,  9., 10.]),\n",
       " <BarContainer object of 10 artists>)"
      ]
     },
     "execution_count": 227,
     "metadata": {},
     "output_type": "execute_result"
    },
    {
     "data": {
      "text/plain": [
       "Text(0.5, 1.0, '月会出勤率')"
      ]
     },
     "execution_count": 227,
     "metadata": {},
     "output_type": "execute_result"
    },
    {
     "data": {
      "image/png": "[encoded data removed]",
      "text/plain": [
       "<Figure size 432x288 with 1 Axes>"
      ]
     },
     "metadata": {
      "needs_background": "light"
     },
     "output_type": "display_data"
    },
    {
     "data": {
      "text/plain": [
       "(array([ 313.,   64.,  118.,  111.,  139.,  183.,  214.,  307.,  331.,\n",
       "        3712.]),\n",
       " array([ 0.,  1.,  2.,  3.,  4.,  5.,  6.,  7.,  8.,  9., 10.]),\n",
       " <BarContainer object of 10 artists>)"
      ]
     },
     "execution_count": 227,
     "metadata": {},
     "output_type": "execute_result"
    },
    {
     "data": {
      "text/plain": [
       "Text(0.5, 1.0, '部落发言率')"
      ]
     },
     "execution_count": 227,
     "metadata": {},
     "output_type": "execute_result"
    },
    {
     "data": {
      "image/png": "[encoded data removed]",
      "text/plain": [
       "<Figure size 432x288 with 1 Axes>"
      ]
     },
     "metadata": {
      "needs_background": "light"
     },
     "output_type": "display_data"
    },
    {
     "data": {
      "text/plain": [
       "(array([2.500e+01, 2.000e+00, 1.800e+01, 1.900e+01, 3.600e+01, 5.200e+01,\n",
       "        7.100e+01, 1.280e+02, 1.960e+02, 4.945e+03]),\n",
       " array([ 0.,  1.,  2.,  3.,  4.,  5.,  6.,  7.,  8.,  9., 10.]),\n",
       " <BarContainer object of 10 artists>)"
      ]
     },
     "execution_count": 227,
     "metadata": {},
     "output_type": "execute_result"
    },
    {
     "data": {
      "text/plain": [
       "Text(0.5, 1.0, '任务完成率')"
      ]
     },
     "execution_count": 227,
     "metadata": {},
     "output_type": "execute_result"
    },
    {
     "data": {
      "image/png": "[encoded data removed]",
      "text/plain": [
       "<Figure size 432x288 with 1 Axes>"
      ]
     },
     "metadata": {
      "needs_background": "light"
     },
     "output_type": "display_data"
    },
    {
     "data": {
      "text/plain": [
       "(array([ 497.,  158.,  138.,  117.,  130.,  168.,  153.,  238.,  301.,\n",
       "        3592.]),\n",
       " array([ 0.,  1.,  2.,  3.,  4.,  5.,  6.,  7.,  8.,  9., 10.]),\n",
       " <BarContainer object of 10 artists>)"
      ]
     },
     "execution_count": 227,
     "metadata": {},
     "output_type": "execute_result"
    },
    {
     "data": {
      "text/plain": [
       "Text(0.5, 1.0, '有效沟通率')"
      ]
     },
     "execution_count": 227,
     "metadata": {},
     "output_type": "execute_result"
    },
    {
     "data": {
      "image/png": "[encoded data removed]",
      "text/plain": [
       "<Figure size 432x288 with 1 Axes>"
      ]
     },
     "metadata": {
      "needs_background": "light"
     },
     "output_type": "display_data"
    },
    {
     "data": {
      "text/plain": [
       "(array([  52.,   40.,   33.,   64.,  168.,  135.,   33., 1093., 3050.,\n",
       "         824.]),\n",
       " array([ 0.,  1.,  2.,  3.,  4.,  5.,  6.,  7.,  8.,  9., 10.]),\n",
       " <BarContainer object of 10 artists>)"
      ]
     },
     "execution_count": 227,
     "metadata": {},
     "output_type": "execute_result"
    },
    {
     "data": {
      "text/plain": [
       "Text(0.5, 1.0, '队长服务分')"
      ]
     },
     "execution_count": 227,
     "metadata": {},
     "output_type": "execute_result"
    },
    {
     "data": {
      "image/png": "[encoded data removed]",
      "text/plain": [
       "<Figure size 432x288 with 1 Axes>"
      ]
     },
     "metadata": {
      "needs_background": "light"
     },
     "output_type": "display_data"
    },
    {
     "data": {
      "text/plain": [
       "(array([ 252.,   21.,   24.,   35.,   34.,   46.,   85.,   97.,  134.,\n",
       "        4764.]),\n",
       " array([ 0.,  1.,  2.,  3.,  4.,  5.,  6.,  7.,  8.,  9., 10.]),\n",
       " <BarContainer object of 10 artists>)"
      ]
     },
     "execution_count": 227,
     "metadata": {},
     "output_type": "execute_result"
    },
    {
     "data": {
      "text/plain": [
       "Text(0.5, 1.0, '队长CPO')"
      ]
     },
     "execution_count": 227,
     "metadata": {},
     "output_type": "execute_result"
    },
    {
     "data": {
      "image/png": "[encoded data removed]",
      "text/plain": [
       "<Figure size 432x288 with 1 Axes>"
      ]
     },
     "metadata": {
      "needs_background": "light"
     },
     "output_type": "display_data"
    },
    {
     "data": {
      "text/plain": [
       "(array([ 127.,   55.,   93.,  135.,  182.,  257.,  315.,  389.,  446.,\n",
       "        3493.]),\n",
       " array([ 0.,  1.,  2.,  3.,  4.,  5.,  6.,  7.,  8.,  9., 10.]),\n",
       " <BarContainer object of 10 artists>)"
      ]
     },
     "execution_count": 227,
     "metadata": {},
     "output_type": "execute_result"
    },
    {
     "data": {
      "text/plain": [
       "Text(0.5, 1.0, '峰期时长')"
      ]
     },
     "execution_count": 227,
     "metadata": {},
     "output_type": "execute_result"
    },
    {
     "data": {
      "image/png": "[encoded data removed]",
      "text/plain": [
       "<Figure size 432x288 with 1 Axes>"
      ]
     },
     "metadata": {
      "needs_background": "light"
     },
     "output_type": "display_data"
    },
    {
     "data": {
      "text/plain": [
       "(array([ 156.,   62.,  107.,  161.,  213.,  274.,  332.,  356.,  399.,\n",
       "        3432.]),\n",
       " array([ 0.,  1.,  2.,  3.,  4.,  5.,  6.,  7.,  8.,  9., 10.]),\n",
       " <BarContainer object of 10 artists>)"
      ]
     },
     "execution_count": 227,
     "metadata": {},
     "output_type": "execute_result"
    },
    {
     "data": {
      "text/plain": [
       "Text(0.5, 1.0, '双非时长')"
      ]
     },
     "execution_count": 227,
     "metadata": {},
     "output_type": "execute_result"
    },
    {
     "data": {
      "image/png": "[encoded data removed]",
      "text/plain": [
       "<Figure size 432x288 with 1 Axes>"
      ]
     },
     "metadata": {
      "needs_background": "light"
     },
     "output_type": "display_data"
    },
    {
     "data": {
      "text/plain": [
       "(array([ 306.,   37.,   78.,   45.,  133.,  140.,  175.,  244.,  331.,\n",
       "        4003.]),\n",
       " array([ 0.,  1.,  2.,  3.,  4.,  5.,  6.,  7.,  8.,  9., 10.]),\n",
       " <BarContainer object of 10 artists>)"
      ]
     },
     "execution_count": 227,
     "metadata": {},
     "output_type": "execute_result"
    },
    {
     "data": {
      "text/plain": [
       "Text(0.5, 1.0, '队员评价')"
      ]
     },
     "execution_count": 227,
     "metadata": {},
     "output_type": "execute_result"
    },
    {
     "data": {
      "image/png": "[encoded data removed]",
      "text/plain": [
       "<Figure size 432x288 with 1 Axes>"
      ]
     },
     "metadata": {
      "needs_background": "light"
     },
     "output_type": "display_data"
    },
    {
     "data": {
      "text/plain": [
       "(array([ 459.,   54.,    5.,  175.,    0., 1452.,    0.,  433.,   19.,\n",
       "        2895.]),\n",
       " array([ 0.,  1.,  2.,  3.,  4.,  5.,  6.,  7.,  8.,  9., 10.]),\n",
       " <BarContainer object of 10 artists>)"
      ]
     },
     "execution_count": 227,
     "metadata": {},
     "output_type": "execute_result"
    },
    {
     "data": {
      "text/plain": [
       "Text(0.5, 1.0, '司服评价')"
      ]
     },
     "execution_count": 227,
     "metadata": {},
     "output_type": "execute_result"
    },
    {
     "data": {
      "image/png": "[encoded data removed]",
      "text/plain": [
       "<Figure size 432x288 with 1 Axes>"
      ]
     },
     "metadata": {
      "needs_background": "light"
     },
     "output_type": "display_data"
    }
   ],
   "source": [
    "# A类司机的\n",
    "for i in range(len(lt_data)):\n",
    "    plt.hist(d1[lt_value[i]])\n",
    "    plt.title(lt_data[i])\n",
    "    plt.show()"
   ]
  },
  {
   "cell_type": "code",
   "execution_count": 230,
   "id": "a985d482",
   "metadata": {
    "ExecuteTime": {
     "end_time": "2021-12-27T11:01:58.605150Z",
     "start_time": "2021-12-27T11:01:58.414149Z"
    },
    "collapsed": true
   },
   "outputs": [
    {
     "data": {
      "text/plain": [
       "count    18309.00\n",
       "mean        68.91\n",
       "std         14.69\n",
       "min         13.26\n",
       "25%         59.10\n",
       "50%         69.78\n",
       "75%         79.79\n",
       "max        100.00\n",
       "Name: 最终得分, dtype: float64"
      ]
     },
     "execution_count": 230,
     "metadata": {},
     "output_type": "execute_result"
    },
    {
     "data": {
      "text/plain": [
       "(array([  19.,  126.,  416., 1072., 2123., 3296., 4048., 3715., 2556.,\n",
       "         938.]),\n",
       " array([ 13.25757576,  21.93181818,  30.60606061,  39.28030303,\n",
       "         47.95454546,  56.62878788,  65.3030303 ,  73.97727273,\n",
       "         82.65151515,  91.32575758, 100.        ]),\n",
       " <BarContainer object of 10 artists>)"
      ]
     },
     "execution_count": 230,
     "metadata": {},
     "output_type": "execute_result"
    },
    {
     "data": {
      "text/plain": [
       "Text(0.5, 0, '最终得分')"
      ]
     },
     "execution_count": 230,
     "metadata": {},
     "output_type": "execute_result"
    },
    {
     "name": "stdout",
     "output_type": "stream",
     "text": [
      "2%: 36.4690633016\n",
      " 7%: 45.7862006652\n",
      " 20%: 56.343539398\n",
      " 45%: 67.851835948\n",
      " 70%: 77.65178971399999\n",
      "\n"
     ]
    },
    {
     "data": {
      "image/png": "[encoded data removed]",
      "text/plain": [
       "<Figure size 432x288 with 1 Axes>"
      ]
     },
     "metadata": {
      "needs_background": "light"
     },
     "output_type": "display_data"
    }
   ],
   "source": [
    "df = df_all2.copy()\n",
    "item='最终得分'\n",
    "\n",
    "df[item].describe().round(2).T\n",
    "\n",
    "plt.hist(df[item])\n",
    "plt.xlabel('最终得分')\n",
    "\n",
    "n1 = np.percentile(df[item], 2)  # 百分位数：np(s, n%)=x  ==>  不小于n%的数小于等于x\n",
    "n2 = np.percentile(df[item], 7)  # 百分位数：np(s, n%)=x  ==>  不小于n%的数小于等于x\n",
    "n3 = np.percentile(df[item], 20)  # 百分位数：np(s, n%)=x  ==>  不小于n%的数小于等于x\n",
    "n4 = np.percentile(df[item], 45)  # 百分位数：np(s, n%)=x  ==>  不小于n%的数小于等于x\n",
    "n5 = np.percentile(df[item], 70)  # 百分位数：np(s, n%)=x  ==>  不小于n%的数小于等于x\n",
    "# print('1分: {}\\n 2分: {}\\n 3分: {}\\n 4分: {}\\n 5分: {}\\n'.format( n1, n2, n3, n4, n5))\n",
    "print('2%: {}\\n 7%: {}\\n 20%: {}\\n 45%: {}\\n 70%: {}\\n'.format( n1, n2, n3, n4, n5))"
   ]
  },
  {
   "cell_type": "code",
   "execution_count": 231,
   "id": "d8fbed71",
   "metadata": {
    "ExecuteTime": {
     "end_time": "2021-12-27T11:02:53.552591Z",
     "start_time": "2021-12-27T11:02:53.420573Z"
    }
   },
   "outputs": [
    {
     "data": {
      "text/plain": [
       "<AxesSubplot:>"
      ]
     },
     "execution_count": 231,
     "metadata": {},
     "output_type": "execute_result"
    },
    {
     "data": {
      "image/png": "[encoded data removed]",
      "text/plain": [
       "<Figure size 432x288 with 1 Axes>"
      ]
     },
     "metadata": {
      "needs_background": "light"
     },
     "output_type": "display_data"
    }
   ],
   "source": [
    "df[item].plot(kind='box')"
   ]
  },
  {
   "cell_type": "code",
   "execution_count": 232,
   "id": "05dc7ec2",
   "metadata": {
    "ExecuteTime": {
     "end_time": "2021-12-27T11:03:27.660735Z",
     "start_time": "2021-12-27T11:03:27.446783Z"
    }
   },
   "outputs": [
    {
     "data": {
      "text/html": [
       "<div>\n",
       "<style scoped>\n",
       "    .dataframe tbody tr th:only-of-type {\n",
       "        vertical-align: middle;\n",
       "    }\n",
       "\n",
       "    .dataframe tbody tr th {\n",
       "        vertical-align: top;\n",
       "    }\n",
       "\n",
       "    .dataframe thead th {\n",
       "        text-align: right;\n",
       "    }\n",
       "</style>\n",
       "<table border=\"1\" class=\"dataframe\">\n",
       "  <thead>\n",
       "    <tr style=\"text-align: right;\">\n",
       "      <th></th>\n",
       "      <th>num</th>\n",
       "      <th>per</th>\n",
       "      <th>per_cum</th>\n",
       "    </tr>\n",
       "    <tr>\n",
       "      <th>最终得分</th>\n",
       "      <th></th>\n",
       "      <th></th>\n",
       "      <th></th>\n",
       "    </tr>\n",
       "  </thead>\n",
       "  <tbody>\n",
       "    <tr>\n",
       "      <th>[0.0, 36.469)</th>\n",
       "      <td>367</td>\n",
       "      <td>2.00%</td>\n",
       "      <td>2.00%</td>\n",
       "    </tr>\n",
       "    <tr>\n",
       "      <th>[36.469, 45.786)</th>\n",
       "      <td>915</td>\n",
       "      <td>5.00%</td>\n",
       "      <td>7.00%</td>\n",
       "    </tr>\n",
       "    <tr>\n",
       "      <th>[45.786, 56.344)</th>\n",
       "      <td>2380</td>\n",
       "      <td>13.00%</td>\n",
       "      <td>20.00%</td>\n",
       "    </tr>\n",
       "    <tr>\n",
       "      <th>[56.344, 67.852)</th>\n",
       "      <td>4577</td>\n",
       "      <td>25.00%</td>\n",
       "      <td>45.00%</td>\n",
       "    </tr>\n",
       "    <tr>\n",
       "      <th>[67.852, 77.652)</th>\n",
       "      <td>4577</td>\n",
       "      <td>25.00%</td>\n",
       "      <td>70.00%</td>\n",
       "    </tr>\n",
       "    <tr>\n",
       "      <th>[77.652, 100.1)</th>\n",
       "      <td>5493</td>\n",
       "      <td>30.00%</td>\n",
       "      <td>100.00%</td>\n",
       "    </tr>\n",
       "  </tbody>\n",
       "</table>\n",
       "</div>"
      ],
      "text/plain": [
       "                   num     per  per_cum\n",
       "最终得分                                   \n",
       "[0.0, 36.469)      367   2.00%    2.00%\n",
       "[36.469, 45.786)   915   5.00%    7.00%\n",
       "[45.786, 56.344)  2380  13.00%   20.00%\n",
       "[56.344, 67.852)  4577  25.00%   45.00%\n",
       "[67.852, 77.652)  4577  25.00%   70.00%\n",
       "[77.652, 100.1)   5493  30.00%  100.00%"
      ]
     },
     "execution_count": 232,
     "metadata": {},
     "output_type": "execute_result"
    },
    {
     "data": {
      "text/plain": [
       "<AxesSubplot:xlabel='最终得分'>"
      ]
     },
     "execution_count": 232,
     "metadata": {},
     "output_type": "execute_result"
    },
    {
     "data": {
      "image/png": "[encoded data removed]",
      "text/plain": [
       "<Figure size 432x288 with 1 Axes>"
      ]
     },
     "metadata": {
      "needs_background": "light"
     },
     "output_type": "display_data"
    }
   ],
   "source": [
    "bins=[0, n1, n2, n3, n4, n5, df[item].describe()['max']+0.1]\n",
    "# bins=[0, 44, 66.7, 82, 99, df[item].describe()['max']+0.1]\n",
    "fenzu = pd.cut(df[item], bins, right=False)\n",
    "#sort_index按区间顺序排序\n",
    "s = fenzu.value_counts()\n",
    "df_fenzu = pd.DataFrame( {item:s.index.values, 'num': s.values, 'per': s.values/s.cumsum().iloc[-1]} )\n",
    "df_fenzu.set_index([item], drop=True, inplace=True)\n",
    "df_fenzu.sort_index(ascending=True, inplace=True)\n",
    "df_fenzu['per_cum'] = df_fenzu['per'].cumsum()\n",
    "df_fenzu[['per', 'per_cum']] = df_fenzu[['per', 'per_cum']].applymap(lambda x: format(x, '.2%'))\n",
    "df_fenzu\n",
    "df_fenzu.plot.bar()  # align='center'"
   ]
  },
  {
   "cell_type": "code",
   "execution_count": null,
   "id": "36839e3f",
   "metadata": {},
   "outputs": [],
   "source": []
  }
 ],
 "metadata": {
  "kernelspec": {
   "display_name": "Python 3",
   "language": "python",
   "name": "python3"
  },
  "language_info": {
   "codemirror_mode": {
    "name": "ipython",
    "version": 3
   },
   "file_extension": ".py",
   "mimetype": "text/x-python",
   "name": "python",
   "nbconvert_exporter": "python",
   "pygments_lexer": "ipython3",
   "version": "3.8.8"
  },
  "toc": {
   "base_numbering": 1,
   "nav_menu": {},
   "number_sections": true,
   "sideBar": true,
   "skip_h1_title": false,
   "title_cell": "Table of Contents",
   "title_sidebar": "Contents",
   "toc_cell": false,
   "toc_position": {},
   "toc_section_display": true,
   "toc_window_display": false
  }
 },
 "nbformat": 4,
 "nbformat_minor": 5
}
