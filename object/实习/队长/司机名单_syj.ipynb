{
 "cells": [
  {
   "cell_type": "code",
   "execution_count": 1,
   "id": "99e5295c",
   "metadata": {
    "ExecuteTime": {
     "end_time": "2021-12-24T06:19:47.679852Z",
     "start_time": "2021-12-24T06:19:44.595855Z"
    }
   },
   "outputs": [],
   "source": [
    "import time\n",
    "import shutil\n",
    "import pandas as pd\n",
    "import numpy as np\n",
    "from datetime import datetime\n",
    "from openpyxl import load_workbook\n",
    "from openpyxl import Workbook\n",
    "from openpyxl.utils.dataframe import dataframe_to_rows\n",
    "\n",
    "from IPython.core.interactiveshell import InteractiveShell \n",
    "InteractiveShell.ast_node_interactivity = \"all\""
   ]
  },
  {
   "cell_type": "code",
   "execution_count": 2,
   "id": "d6a9fa8f",
   "metadata": {
    "ExecuteTime": {
     "end_time": "2021-12-24T06:20:37.615692Z",
     "start_time": "2021-12-24T06:20:37.604200Z"
    }
   },
   "outputs": [
    {
     "name": "stdout",
     "output_type": "stream",
     "text": [
      "D:\\code\\jupyter\\队长\n"
     ]
    },
    {
     "data": {
      "text/plain": [
       "'D:\\\\file\\\\o\\\\队长\\\\满意度\\\\队长名单\\\\12'"
      ]
     },
     "execution_count": 2,
     "metadata": {},
     "output_type": "execute_result"
    }
   ],
   "source": [
    "import os\n",
    "print(os.getcwd())  #当前路径\n",
    "\n",
    "#更改当前路径\n",
    "os.chdir('D:\\\\file\\o\\\\\\队长\\\\满意度\\\\队长名单\\\\12\\\\')\n",
    "os.getcwd()"
   ]
  },
  {
   "cell_type": "code",
   "execution_count": 22,
   "id": "c361decb",
   "metadata": {
    "ExecuteTime": {
     "end_time": "2021-12-24T06:30:38.149117Z",
     "start_time": "2021-12-24T06:30:37.746474Z"
    }
   },
   "outputs": [
    {
     "data": {
      "text/plain": [
       "(20514, 6)"
      ]
     },
     "execution_count": 22,
     "metadata": {},
     "output_type": "execute_result"
    },
    {
     "data": {
      "text/plain": [
       "(2021, 3)"
      ]
     },
     "execution_count": 22,
     "metadata": {},
     "output_type": "execute_result"
    }
   ],
   "source": [
    "#全部队长\n",
    "df_all = pd.read_csv('shenyajun_i20211224134735.csv', encoding='gbk')\n",
    "df_all.shape\n",
    "\n",
    "# D1队长\n",
    "df_d1 = pd.read_excel('D1品类司机明细-12.24.xlsx')\n",
    "df_d1.shape"
   ]
  },
  {
   "cell_type": "code",
   "execution_count": 5,
   "id": "457f8b91",
   "metadata": {
    "ExecuteTime": {
     "end_time": "2021-12-24T06:22:38.983400Z",
     "start_time": "2021-12-24T06:22:38.971779Z"
    }
   },
   "outputs": [
    {
     "data": {
      "text/plain": [
       "Index(['司机队长id', '司机队长姓名', '业务线id', '业务线名称', '司服id', '司服姓名'], dtype='object')"
      ]
     },
     "execution_count": 5,
     "metadata": {},
     "output_type": "execute_result"
    },
    {
     "data": {
      "text/plain": [
       "Index(['大区', '城市', '司机ID'], dtype='object')"
      ]
     },
     "execution_count": 5,
     "metadata": {},
     "output_type": "execute_result"
    }
   ],
   "source": [
    "df_all.columns\n",
    "df_d1.columns"
   ]
  },
  {
   "cell_type": "code",
   "execution_count": 27,
   "id": "cafea590",
   "metadata": {
    "ExecuteTime": {
     "end_time": "2021-12-24T06:40:14.855776Z",
     "start_time": "2021-12-24T06:40:14.805780Z"
    }
   },
   "outputs": [],
   "source": [
    "lt_d1 = df_d1['司机ID'].values.tolist()\n",
    "d1 = df_all.query('(司机队长id in @lt_d1) ')['司机队长id']\n",
    "kc = df_all.query('(司机队长id not in @lt_d1) and 业务线名称==\"快车\" ')['司机队长id']\n",
    "yx = df_all.query('(司机队长id not in @lt_d1) and 业务线名称==\"优享\" ')['司机队长id']"
   ]
  },
  {
   "cell_type": "code",
   "execution_count": 28,
   "id": "f7aab44d",
   "metadata": {
    "ExecuteTime": {
     "end_time": "2021-12-24T06:40:30.684273Z",
     "start_time": "2021-12-24T06:40:30.655451Z"
    }
   },
   "outputs": [
    {
     "data": {
      "text/plain": [
       "50"
      ]
     },
     "execution_count": 28,
     "metadata": {},
     "output_type": "execute_result"
    },
    {
     "data": {
      "text/plain": [
       "18611"
      ]
     },
     "execution_count": 28,
     "metadata": {},
     "output_type": "execute_result"
    },
    {
     "data": {
      "text/plain": [
       "1591"
      ]
     },
     "execution_count": 28,
     "metadata": {},
     "output_type": "execute_result"
    },
    {
     "data": {
      "text/plain": [
       "20252"
      ]
     },
     "execution_count": 28,
     "metadata": {},
     "output_type": "execute_result"
    }
   ],
   "source": [
    "len(d1)\n",
    "len(kc)\n",
    "len(yx)\n",
    "len(d1) + len(kc) + len(yx)"
   ]
  },
  {
   "cell_type": "code",
   "execution_count": 34,
   "id": "692de0c2",
   "metadata": {
    "ExecuteTime": {
     "end_time": "2021-12-24T06:55:13.356668Z",
     "start_time": "2021-12-24T06:55:11.918327Z"
    }
   },
   "outputs": [],
   "source": [
    "d1.to_excel('D1名单.xlsx', index=False)\n",
    "yx.to_excel('优享名单.xlsx', index=False)\n",
    "kc.to_excel('快车名单.xlsx', index=False)"
   ]
  },
  {
   "cell_type": "code",
   "execution_count": 31,
   "id": "16e5d88d",
   "metadata": {
    "ExecuteTime": {
     "end_time": "2021-12-24T06:42:17.854130Z",
     "start_time": "2021-12-24T06:42:17.763369Z"
    }
   },
   "outputs": [],
   "source": [
    "d1.to_csv('D1名单.txt', index=False)\n",
    "yx.to_csv('优享名单.txt', index=False)\n",
    "kc.to_csv('快车名单.txt', index=False)"
   ]
  }
 ],
 "metadata": {
  "kernelspec": {
   "display_name": "Python 3",
   "language": "python",
   "name": "python3"
  },
  "language_info": {
   "codemirror_mode": {
    "name": "ipython",
    "version": 3
   },
   "file_extension": ".py",
   "mimetype": "text/x-python",
   "name": "python",
   "nbconvert_exporter": "python",
   "pygments_lexer": "ipython3",
   "version": "3.8.8"
  },
  "toc": {
   "base_numbering": 1,
   "nav_menu": {},
   "number_sections": true,
   "sideBar": true,
   "skip_h1_title": false,
   "title_cell": "Table of Contents",
   "title_sidebar": "Contents",
   "toc_cell": false,
   "toc_position": {},
   "toc_section_display": true,
   "toc_window_display": false
  }
 },
 "nbformat": 4,
 "nbformat_minor": 5
}
