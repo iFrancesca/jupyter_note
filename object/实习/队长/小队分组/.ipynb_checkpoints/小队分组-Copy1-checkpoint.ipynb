{
 "cells": [
  {
   "cell_type": "code",
   "execution_count": 1,
   "id": "7f835c71",
   "metadata": {
    "ExecuteTime": {
     "end_time": "2021-12-21T03:32:20.752109Z",
     "start_time": "2021-12-21T03:32:18.270662Z"
    }
   },
   "outputs": [],
   "source": [
    "import time\n",
    "import shutil\n",
    "import pandas as pd\n",
    "import numpy as np\n",
    "from datetime import datetime\n",
    "from openpyxl import load_workbook\n",
    "from openpyxl import Workbook\n",
    "from openpyxl.utils.dataframe import dataframe_to_rows\n",
    "import re\n",
    "\n",
    "from IPython.core.interactiveshell import InteractiveShell \n",
    "InteractiveShell.ast_node_interactivity = \"all\"\n",
    "\n",
    "pd.set_option('display.max_columns', None)"
   ]
  },
  {
   "cell_type": "code",
   "execution_count": 2,
   "id": "3647d076",
   "metadata": {
    "ExecuteTime": {
     "end_time": "2021-12-21T03:32:21.384503Z",
     "start_time": "2021-12-21T03:32:21.372536Z"
    }
   },
   "outputs": [
    {
     "name": "stdout",
     "output_type": "stream",
     "text": [
      "D:\\code\\jupyter\\队长\n"
     ]
    },
    {
     "data": {
      "text/plain": [
       "'D:\\\\file\\\\o\\\\队长\\\\队长评分\\\\分队'"
      ]
     },
     "execution_count": 2,
     "metadata": {},
     "output_type": "execute_result"
    }
   ],
   "source": [
    "import os\n",
    "print(os.getcwd())  #当前路径\n",
    "\n",
    "#更改当前路径\n",
    "os.chdir('D:/file/o/队长/队长评分/分队/')\n",
    "os.getcwd()"
   ]
  },
  {
   "cell_type": "markdown",
   "id": "c57e060f",
   "metadata": {},
   "source": [
    "## 读取原数据"
   ]
  },
  {
   "cell_type": "code",
   "execution_count": 73,
   "id": "1018b300",
   "metadata": {
    "ExecuteTime": {
     "end_time": "2021-12-21T04:51:48.349538Z",
     "start_time": "2021-12-21T04:51:17.697011Z"
    }
   },
   "outputs": [
    {
     "data": {
      "text/plain": [
       "'\\nSpyder Editor\\n\\nThis is a temporary script file.\\n'"
      ]
     },
     "execution_count": 73,
     "metadata": {},
     "output_type": "execute_result"
    }
   ],
   "source": [
    "# -*- coding: utf-8 -*-\n",
    "\"\"\"\n",
    "Spyder Editor\n",
    "\n",
    "This is a temporary script file.\n",
    "\"\"\"\n",
    "import pandas as pd\n",
    "import numpy as np\n",
    "\n",
    "#存量小队\n",
    "# df_all = pd.read_excel(\"存量小队.xlsx\")\n",
    "df_all = pd.read_excel('data.xlsx', 'all')\n",
    "df_driver = pd.read_excel('data.xlsx', 'driver')\n",
    "df_group = pd.read_excel('data.xlsx', 'group')\n",
    "#公海\n",
    "df_sea = pd.read_excel(\"公海司机.xlsx\")"
   ]
  },
  {
   "cell_type": "code",
   "execution_count": 92,
   "id": "fc139348",
   "metadata": {
    "ExecuteTime": {
     "end_time": "2021-12-21T05:19:24.924416Z",
     "start_time": "2021-12-21T05:19:24.915468Z"
    }
   },
   "outputs": [
    {
     "data": {
      "text/plain": [
       "(16347, 4)"
      ]
     },
     "execution_count": 92,
     "metadata": {},
     "output_type": "execute_result"
    },
    {
     "data": {
      "text/plain": [
       "(50185, 34)"
      ]
     },
     "execution_count": 92,
     "metadata": {},
     "output_type": "execute_result"
    },
    {
     "data": {
      "text/plain": [
       "(50185, 15)"
      ]
     },
     "execution_count": 92,
     "metadata": {},
     "output_type": "execute_result"
    },
    {
     "data": {
      "text/plain": [
       "(1532, 27)"
      ]
     },
     "execution_count": 92,
     "metadata": {},
     "output_type": "execute_result"
    }
   ],
   "source": [
    "df_sea.shape # 公海\n",
    "df_all.shape \n",
    "df_driver.shape\n",
    "df_group.shape"
   ]
  },
  {
   "cell_type": "code",
   "execution_count": 75,
   "id": "82528813",
   "metadata": {
    "ExecuteTime": {
     "end_time": "2021-12-21T04:51:55.634620Z",
     "start_time": "2021-12-21T04:51:55.627639Z"
    },
    "collapsed": true
   },
   "outputs": [
    {
     "data": {
      "text/plain": [
       "区域        object\n",
       "城市id       int64\n",
       "城市        object\n",
       "小队ID       int64\n",
       "队长id       int64\n",
       "队长等级      object\n",
       "应带队人数      int64\n",
       "小队活跃区县    object\n",
       "a          int64\n",
       "b          int64\n",
       "c          int64\n",
       "d          int64\n",
       "a0         int64\n",
       "b0         int64\n",
       "c0         int64\n",
       "d0         int64\n",
       "待补充a人数     int64\n",
       "待补充b人数     int64\n",
       "待补充c人数     int64\n",
       "待补充d人数     int64\n",
       "总待补充人数     int64\n",
       "待剔除a人数     int64\n",
       "待剔除b人数     int64\n",
       "待剔除c人数     int64\n",
       "总待剔除人数     int64\n",
       "是否补充完      int64\n",
       "是否剔除完      int64\n",
       "dtype: object"
      ]
     },
     "execution_count": 75,
     "metadata": {},
     "output_type": "execute_result"
    }
   ],
   "source": [
    "df_group.dtypes"
   ]
  },
  {
   "cell_type": "code",
   "execution_count": 93,
   "id": "e73468d4",
   "metadata": {
    "ExecuteTime": {
     "end_time": "2021-12-21T05:21:07.280283Z",
     "start_time": "2021-12-21T05:21:07.233873Z"
    },
    "collapsed": true
   },
   "outputs": [
    {
     "data": {
      "text/plain": [
       "\"\\ndf_all[['a', 'b', 'c', 'd', 'a0', 'b0', 'c0', 'd0', '待补充a人数', '待补充b人数', '待补充c人数',\\n       '待补充d人数', '总待补充人数', '待剔除a人数', '待剔除b人数', '待剔除c人数', '总待剔除人数', '是否补充完',\\n       '是否剔除完']] = df_all[['a', 'b', 'c', 'd', 'a0', 'b0', 'c0', 'd0', '待补充a人数', '待补充b人数', '待补充c人数',\\n       '待补充d人数', '总待补充人数', '待剔除a人数', '待剔除b人数', '待剔除c人数', '总待剔除人数', '是否补充完',\\n       '是否剔除完']].astype('int64')\\n\""
      ]
     },
     "execution_count": 93,
     "metadata": {},
     "output_type": "execute_result"
    },
    {
     "data": {
      "text/html": [
       "<div>\n",
       "<style scoped>\n",
       "    .dataframe tbody tr th:only-of-type {\n",
       "        vertical-align: middle;\n",
       "    }\n",
       "\n",
       "    .dataframe tbody tr th {\n",
       "        vertical-align: top;\n",
       "    }\n",
       "\n",
       "    .dataframe thead th {\n",
       "        text-align: right;\n",
       "    }\n",
       "</style>\n",
       "<table border=\"1\" class=\"dataframe\">\n",
       "  <thead>\n",
       "    <tr style=\"text-align: right;\">\n",
       "      <th></th>\n",
       "      <th>区域</th>\n",
       "      <th>城市id</th>\n",
       "      <th>城市</th>\n",
       "      <th>小队ID</th>\n",
       "      <th>队长id</th>\n",
       "      <th>队长等级</th>\n",
       "      <th>应带队人数</th>\n",
       "      <th>小队活跃区县</th>\n",
       "      <th>队员id</th>\n",
       "      <th>队员等级</th>\n",
       "      <th>队员活跃区县</th>\n",
       "      <th>A类区县内a</th>\n",
       "      <th>A类区县外b</th>\n",
       "      <th>非A类区县内c</th>\n",
       "      <th>非A类区县外d</th>\n",
       "      <th>a</th>\n",
       "      <th>b</th>\n",
       "      <th>c</th>\n",
       "      <th>d</th>\n",
       "      <th>a0</th>\n",
       "      <th>b0</th>\n",
       "      <th>c0</th>\n",
       "      <th>d0</th>\n",
       "      <th>待补充a人数</th>\n",
       "      <th>待补充b人数</th>\n",
       "      <th>待补充c人数</th>\n",
       "      <th>待补充d人数</th>\n",
       "      <th>总待补充人数</th>\n",
       "      <th>待剔除a人数</th>\n",
       "      <th>待剔除b人数</th>\n",
       "      <th>待剔除c人数</th>\n",
       "      <th>总待剔除人数</th>\n",
       "      <th>是否补充完</th>\n",
       "      <th>是否剔除完</th>\n",
       "    </tr>\n",
       "  </thead>\n",
       "  <tbody>\n",
       "    <tr>\n",
       "      <th>16630</th>\n",
       "      <td>华北区域</td>\n",
       "      <td>1</td>\n",
       "      <td>北京市</td>\n",
       "      <td>313776</td>\n",
       "      <td>580542174467169</td>\n",
       "      <td>B</td>\n",
       "      <td>40</td>\n",
       "      <td>朝阳区</td>\n",
       "      <td>580544721359287</td>\n",
       "      <td>B</td>\n",
       "      <td>朝阳区</td>\n",
       "      <td>0</td>\n",
       "      <td>0</td>\n",
       "      <td>1</td>\n",
       "      <td>0</td>\n",
       "      <td>4</td>\n",
       "      <td>12</td>\n",
       "      <td>16</td>\n",
       "      <td>0</td>\n",
       "      <td>11</td>\n",
       "      <td>16</td>\n",
       "      <td>12</td>\n",
       "      <td>0</td>\n",
       "      <td>7</td>\n",
       "      <td>4</td>\n",
       "      <td>0</td>\n",
       "      <td>0</td>\n",
       "      <td>11</td>\n",
       "      <td>0</td>\n",
       "      <td>0</td>\n",
       "      <td>4</td>\n",
       "      <td>4</td>\n",
       "      <td>0</td>\n",
       "      <td>0</td>\n",
       "    </tr>\n",
       "    <tr>\n",
       "      <th>28970</th>\n",
       "      <td>华北区域</td>\n",
       "      <td>1</td>\n",
       "      <td>北京市</td>\n",
       "      <td>183310</td>\n",
       "      <td>566050733238558</td>\n",
       "      <td>A</td>\n",
       "      <td>50</td>\n",
       "      <td>朝阳区</td>\n",
       "      <td>580543429205034</td>\n",
       "      <td>B+</td>\n",
       "      <td>朝阳区</td>\n",
       "      <td>0</td>\n",
       "      <td>0</td>\n",
       "      <td>1</td>\n",
       "      <td>0</td>\n",
       "      <td>12</td>\n",
       "      <td>17</td>\n",
       "      <td>9</td>\n",
       "      <td>0</td>\n",
       "      <td>14</td>\n",
       "      <td>20</td>\n",
       "      <td>15</td>\n",
       "      <td>0</td>\n",
       "      <td>2</td>\n",
       "      <td>3</td>\n",
       "      <td>6</td>\n",
       "      <td>0</td>\n",
       "      <td>11</td>\n",
       "      <td>0</td>\n",
       "      <td>0</td>\n",
       "      <td>0</td>\n",
       "      <td>0</td>\n",
       "      <td>0</td>\n",
       "      <td>0</td>\n",
       "    </tr>\n",
       "    <tr>\n",
       "      <th>3197</th>\n",
       "      <td>华北区域</td>\n",
       "      <td>1</td>\n",
       "      <td>北京市</td>\n",
       "      <td>285398</td>\n",
       "      <td>565296256781257</td>\n",
       "      <td>B</td>\n",
       "      <td>40</td>\n",
       "      <td>朝阳区</td>\n",
       "      <td>580542442521949</td>\n",
       "      <td>A</td>\n",
       "      <td>通州区</td>\n",
       "      <td>0</td>\n",
       "      <td>1</td>\n",
       "      <td>0</td>\n",
       "      <td>0</td>\n",
       "      <td>23</td>\n",
       "      <td>15</td>\n",
       "      <td>18</td>\n",
       "      <td>0</td>\n",
       "      <td>11</td>\n",
       "      <td>16</td>\n",
       "      <td>12</td>\n",
       "      <td>0</td>\n",
       "      <td>0</td>\n",
       "      <td>1</td>\n",
       "      <td>0</td>\n",
       "      <td>0</td>\n",
       "      <td>1</td>\n",
       "      <td>12</td>\n",
       "      <td>0</td>\n",
       "      <td>6</td>\n",
       "      <td>18</td>\n",
       "      <td>0</td>\n",
       "      <td>0</td>\n",
       "    </tr>\n",
       "    <tr>\n",
       "      <th>42492</th>\n",
       "      <td>华北区域</td>\n",
       "      <td>1</td>\n",
       "      <td>北京市</td>\n",
       "      <td>530260</td>\n",
       "      <td>563683104333824</td>\n",
       "      <td>A</td>\n",
       "      <td>50</td>\n",
       "      <td>朝阳区</td>\n",
       "      <td>563283142975492</td>\n",
       "      <td>B</td>\n",
       "      <td>朝阳区</td>\n",
       "      <td>0</td>\n",
       "      <td>0</td>\n",
       "      <td>1</td>\n",
       "      <td>0</td>\n",
       "      <td>8</td>\n",
       "      <td>6</td>\n",
       "      <td>16</td>\n",
       "      <td>0</td>\n",
       "      <td>14</td>\n",
       "      <td>20</td>\n",
       "      <td>15</td>\n",
       "      <td>0</td>\n",
       "      <td>6</td>\n",
       "      <td>14</td>\n",
       "      <td>0</td>\n",
       "      <td>0</td>\n",
       "      <td>20</td>\n",
       "      <td>0</td>\n",
       "      <td>0</td>\n",
       "      <td>1</td>\n",
       "      <td>1</td>\n",
       "      <td>0</td>\n",
       "      <td>0</td>\n",
       "    </tr>\n",
       "    <tr>\n",
       "      <th>18627</th>\n",
       "      <td>华北区域</td>\n",
       "      <td>1</td>\n",
       "      <td>北京市</td>\n",
       "      <td>260412</td>\n",
       "      <td>567950017091106</td>\n",
       "      <td>A</td>\n",
       "      <td>50</td>\n",
       "      <td>朝阳区</td>\n",
       "      <td>565571044574407</td>\n",
       "      <td>A</td>\n",
       "      <td>丰台区</td>\n",
       "      <td>0</td>\n",
       "      <td>1</td>\n",
       "      <td>0</td>\n",
       "      <td>0</td>\n",
       "      <td>18</td>\n",
       "      <td>7</td>\n",
       "      <td>0</td>\n",
       "      <td>0</td>\n",
       "      <td>14</td>\n",
       "      <td>20</td>\n",
       "      <td>15</td>\n",
       "      <td>0</td>\n",
       "      <td>0</td>\n",
       "      <td>13</td>\n",
       "      <td>15</td>\n",
       "      <td>0</td>\n",
       "      <td>28</td>\n",
       "      <td>4</td>\n",
       "      <td>0</td>\n",
       "      <td>0</td>\n",
       "      <td>4</td>\n",
       "      <td>0</td>\n",
       "      <td>0</td>\n",
       "    </tr>\n",
       "  </tbody>\n",
       "</table>\n",
       "</div>"
      ],
      "text/plain": [
       "         区域  城市id   城市    小队ID             队长id 队长等级  应带队人数 小队活跃区县  \\\n",
       "16630  华北区域     1  北京市  313776  580542174467169    B     40    朝阳区   \n",
       "28970  华北区域     1  北京市  183310  566050733238558    A     50    朝阳区   \n",
       "3197   华北区域     1  北京市  285398  565296256781257    B     40    朝阳区   \n",
       "42492  华北区域     1  北京市  530260  563683104333824    A     50    朝阳区   \n",
       "18627  华北区域     1  北京市  260412  567950017091106    A     50    朝阳区   \n",
       "\n",
       "                  队员id 队员等级 队员活跃区县  A类区县内a  A类区县外b  非A类区县内c  非A类区县外d   a   b  \\\n",
       "16630  580544721359287    B    朝阳区       0       0        1        0   4  12   \n",
       "28970  580543429205034   B+    朝阳区       0       0        1        0  12  17   \n",
       "3197   580542442521949    A    通州区       0       1        0        0  23  15   \n",
       "42492  563283142975492    B    朝阳区       0       0        1        0   8   6   \n",
       "18627  565571044574407    A    丰台区       0       1        0        0  18   7   \n",
       "\n",
       "        c  d  a0  b0  c0  d0  待补充a人数  待补充b人数  待补充c人数  待补充d人数  总待补充人数  待剔除a人数  \\\n",
       "16630  16  0  11  16  12   0       7       4       0       0      11       0   \n",
       "28970   9  0  14  20  15   0       2       3       6       0      11       0   \n",
       "3197   18  0  11  16  12   0       0       1       0       0       1      12   \n",
       "42492  16  0  14  20  15   0       6      14       0       0      20       0   \n",
       "18627   0  0  14  20  15   0       0      13      15       0      28       4   \n",
       "\n",
       "       待剔除b人数  待剔除c人数  总待剔除人数  是否补充完  是否剔除完  \n",
       "16630       0       4       4      0      0  \n",
       "28970       0       0       0      0      0  \n",
       "3197        0       6      18      0      0  \n",
       "42492       0       1       1      0      0  \n",
       "18627       0       0       4      0      0  "
      ]
     },
     "execution_count": 93,
     "metadata": {},
     "output_type": "execute_result"
    }
   ],
   "source": [
    "# df_all = df_all.assign(是否补充完=0, 是否剔除完=0)\n",
    "'''\n",
    "df_all[['a', 'b', 'c', 'd', 'a0', 'b0', 'c0', 'd0', '待补充a人数', '待补充b人数', '待补充c人数',\n",
    "       '待补充d人数', '总待补充人数', '待剔除a人数', '待剔除b人数', '待剔除c人数', '总待剔除人数', '是否补充完',\n",
    "       '是否剔除完']] = df_all[['a', 'b', 'c', 'd', 'a0', 'b0', 'c0', 'd0', '待补充a人数', '待补充b人数', '待补充c人数',\n",
    "       '待补充d人数', '总待补充人数', '待剔除a人数', '待剔除b人数', '待剔除c人数', '总待剔除人数', '是否补充完',\n",
    "       '是否剔除完']].astype('int64')\n",
    "'''\n",
    "# 打乱df_all\n",
    "from sklearn.utils import shuffle  \n",
    "df_all = shuffle(df_all)  \n",
    "pd.set_option(\"display.max_columns\",None)  # 可以看到全部列\n",
    "df_all.head()"
   ]
  },
  {
   "cell_type": "code",
   "execution_count": 124,
   "id": "be5ef8bb",
   "metadata": {
    "ExecuteTime": {
     "end_time": "2021-12-21T09:33:37.203997Z",
     "start_time": "2021-12-21T09:33:37.197944Z"
    }
   },
   "outputs": [
    {
     "data": {
      "text/plain": [
       "Index(['区域', '城市id', '城市', '小队ID', '队长id', '队长等级', '应带队人数', '小队活跃区县', '队员id',\n",
       "       '队员等级', '队员活跃区县', 'A类区县内a', 'A类区县外b', '非A类区县内c', '非A类区县外d', '被补充',\n",
       "       '被剔除'],\n",
       "      dtype='object')"
      ]
     },
     "execution_count": 124,
     "metadata": {},
     "output_type": "execute_result"
    }
   ],
   "source": [
    "df_driver.columns"
   ]
  },
  {
   "cell_type": "code",
   "execution_count": 126,
   "id": "75b4e34b",
   "metadata": {
    "ExecuteTime": {
     "end_time": "2021-12-21T09:56:52.854609Z",
     "start_time": "2021-12-21T09:56:52.716544Z"
    },
    "scrolled": false
   },
   "outputs": [
    {
     "data": {
      "text/html": [
       "<div>\n",
       "<style scoped>\n",
       "    .dataframe tbody tr th:only-of-type {\n",
       "        vertical-align: middle;\n",
       "    }\n",
       "\n",
       "    .dataframe tbody tr th {\n",
       "        vertical-align: top;\n",
       "    }\n",
       "\n",
       "    .dataframe thead th {\n",
       "        text-align: right;\n",
       "    }\n",
       "</style>\n",
       "<table border=\"1\" class=\"dataframe\">\n",
       "  <thead>\n",
       "    <tr style=\"text-align: right;\">\n",
       "      <th></th>\n",
       "      <th>队员id</th>\n",
       "      <th>队员等级</th>\n",
       "      <th>队员活跃区县</th>\n",
       "      <th>重新定级</th>\n",
       "      <th>被补充</th>\n",
       "      <th>被剔除</th>\n",
       "    </tr>\n",
       "  </thead>\n",
       "  <tbody>\n",
       "    <tr>\n",
       "      <th>5120</th>\n",
       "      <td>565268126241919</td>\n",
       "      <td>B+</td>\n",
       "      <td>通州区</td>\n",
       "      <td>0</td>\n",
       "      <td>0</td>\n",
       "      <td>0</td>\n",
       "    </tr>\n",
       "    <tr>\n",
       "      <th>9003</th>\n",
       "      <td>563520613056512</td>\n",
       "      <td>B</td>\n",
       "      <td>房山区</td>\n",
       "      <td>0</td>\n",
       "      <td>0</td>\n",
       "      <td>0</td>\n",
       "    </tr>\n",
       "    <tr>\n",
       "      <th>6801</th>\n",
       "      <td>565281170467911</td>\n",
       "      <td>B</td>\n",
       "      <td>丰台区</td>\n",
       "      <td>0</td>\n",
       "      <td>0</td>\n",
       "      <td>0</td>\n",
       "    </tr>\n",
       "    <tr>\n",
       "      <th>9425</th>\n",
       "      <td>563884094324738</td>\n",
       "      <td>B</td>\n",
       "      <td>顺义区</td>\n",
       "      <td>0</td>\n",
       "      <td>0</td>\n",
       "      <td>0</td>\n",
       "    </tr>\n",
       "    <tr>\n",
       "      <th>4149</th>\n",
       "      <td>580543330992911</td>\n",
       "      <td>B+</td>\n",
       "      <td>朝阳区</td>\n",
       "      <td>0</td>\n",
       "      <td>0</td>\n",
       "      <td>0</td>\n",
       "    </tr>\n",
       "  </tbody>\n",
       "</table>\n",
       "</div>"
      ],
      "text/plain": [
       "                 队员id 队员等级 队员活跃区县  重新定级  被补充  被剔除\n",
       "5120  565268126241919   B+    通州区     0    0    0\n",
       "9003  563520613056512    B    房山区     0    0    0\n",
       "6801  565281170467911    B    丰台区     0    0    0\n",
       "9425  563884094324738    B    顺义区     0    0    0\n",
       "4149  580543330992911   B+    朝阳区     0    0    0"
      ]
     },
     "execution_count": 126,
     "metadata": {},
     "output_type": "execute_result"
    },
    {
     "data": {
      "text/html": [
       "<div>\n",
       "<style scoped>\n",
       "    .dataframe tbody tr th:only-of-type {\n",
       "        vertical-align: middle;\n",
       "    }\n",
       "\n",
       "    .dataframe tbody tr th {\n",
       "        vertical-align: top;\n",
       "    }\n",
       "\n",
       "    .dataframe thead th {\n",
       "        text-align: right;\n",
       "    }\n",
       "</style>\n",
       "<table border=\"1\" class=\"dataframe\">\n",
       "  <thead>\n",
       "    <tr style=\"text-align: right;\">\n",
       "      <th></th>\n",
       "      <th>区域</th>\n",
       "      <th>城市id</th>\n",
       "      <th>城市</th>\n",
       "      <th>小队ID</th>\n",
       "      <th>队长id</th>\n",
       "      <th>队长等级</th>\n",
       "      <th>应带队人数</th>\n",
       "      <th>小队活跃区县</th>\n",
       "      <th>队员id</th>\n",
       "      <th>队员等级</th>\n",
       "      <th>队员活跃区县</th>\n",
       "      <th>A类区县内a</th>\n",
       "      <th>A类区县外b</th>\n",
       "      <th>非A类区县内c</th>\n",
       "      <th>非A类区县外d</th>\n",
       "      <th>被补充</th>\n",
       "      <th>被剔除</th>\n",
       "    </tr>\n",
       "  </thead>\n",
       "  <tbody>\n",
       "    <tr>\n",
       "      <th>13376</th>\n",
       "      <td>华北区域</td>\n",
       "      <td>1</td>\n",
       "      <td>北京市</td>\n",
       "      <td>450696</td>\n",
       "      <td>563277019422721</td>\n",
       "      <td>A</td>\n",
       "      <td>50</td>\n",
       "      <td>朝阳区</td>\n",
       "      <td>565712478740724</td>\n",
       "      <td>B+</td>\n",
       "      <td>朝阳区</td>\n",
       "      <td>0</td>\n",
       "      <td>0</td>\n",
       "      <td>1</td>\n",
       "      <td>0</td>\n",
       "      <td>0</td>\n",
       "      <td>0</td>\n",
       "    </tr>\n",
       "    <tr>\n",
       "      <th>11164</th>\n",
       "      <td>华北区域</td>\n",
       "      <td>1</td>\n",
       "      <td>北京市</td>\n",
       "      <td>448314</td>\n",
       "      <td>580544721308978</td>\n",
       "      <td>B</td>\n",
       "      <td>40</td>\n",
       "      <td>朝阳区</td>\n",
       "      <td>563147667931139</td>\n",
       "      <td>B</td>\n",
       "      <td>朝阳区</td>\n",
       "      <td>0</td>\n",
       "      <td>0</td>\n",
       "      <td>1</td>\n",
       "      <td>0</td>\n",
       "      <td>0</td>\n",
       "      <td>0</td>\n",
       "    </tr>\n",
       "    <tr>\n",
       "      <th>37617</th>\n",
       "      <td>华北区域</td>\n",
       "      <td>1</td>\n",
       "      <td>北京市</td>\n",
       "      <td>159288</td>\n",
       "      <td>564111966806016</td>\n",
       "      <td>B</td>\n",
       "      <td>40</td>\n",
       "      <td>朝阳区</td>\n",
       "      <td>564111966806016</td>\n",
       "      <td>A</td>\n",
       "      <td>大兴区</td>\n",
       "      <td>0</td>\n",
       "      <td>1</td>\n",
       "      <td>0</td>\n",
       "      <td>0</td>\n",
       "      <td>0</td>\n",
       "      <td>0</td>\n",
       "    </tr>\n",
       "    <tr>\n",
       "      <th>7169</th>\n",
       "      <td>华北区域</td>\n",
       "      <td>1</td>\n",
       "      <td>北京市</td>\n",
       "      <td>186228</td>\n",
       "      <td>563492307927040</td>\n",
       "      <td>B</td>\n",
       "      <td>40</td>\n",
       "      <td>朝阳区</td>\n",
       "      <td>580542453635604</td>\n",
       "      <td>B+</td>\n",
       "      <td>朝阳区</td>\n",
       "      <td>0</td>\n",
       "      <td>0</td>\n",
       "      <td>1</td>\n",
       "      <td>0</td>\n",
       "      <td>0</td>\n",
       "      <td>0</td>\n",
       "    </tr>\n",
       "    <tr>\n",
       "      <th>19410</th>\n",
       "      <td>华北区域</td>\n",
       "      <td>1</td>\n",
       "      <td>北京市</td>\n",
       "      <td>48766</td>\n",
       "      <td>580543411779316</td>\n",
       "      <td>B</td>\n",
       "      <td>40</td>\n",
       "      <td>朝阳区</td>\n",
       "      <td>580542299622737</td>\n",
       "      <td>A</td>\n",
       "      <td>西城区</td>\n",
       "      <td>0</td>\n",
       "      <td>1</td>\n",
       "      <td>0</td>\n",
       "      <td>0</td>\n",
       "      <td>0</td>\n",
       "      <td>0</td>\n",
       "    </tr>\n",
       "  </tbody>\n",
       "</table>\n",
       "</div>"
      ],
      "text/plain": [
       "         区域  城市id   城市    小队ID             队长id 队长等级  应带队人数 小队活跃区县  \\\n",
       "13376  华北区域     1  北京市  450696  563277019422721    A     50    朝阳区   \n",
       "11164  华北区域     1  北京市  448314  580544721308978    B     40    朝阳区   \n",
       "37617  华北区域     1  北京市  159288  564111966806016    B     40    朝阳区   \n",
       "7169   华北区域     1  北京市  186228  563492307927040    B     40    朝阳区   \n",
       "19410  华北区域     1  北京市   48766  580543411779316    B     40    朝阳区   \n",
       "\n",
       "                  队员id 队员等级 队员活跃区县  A类区县内a  A类区县外b  非A类区县内c  非A类区县外d  被补充  被剔除  \n",
       "13376  565712478740724   B+    朝阳区       0       0        1        0    0    0  \n",
       "11164  563147667931139    B    朝阳区       0       0        1        0    0    0  \n",
       "37617  564111966806016    A    大兴区       0       1        0        0    0    0  \n",
       "7169   580542453635604   B+    朝阳区       0       0        1        0    0    0  \n",
       "19410  580542299622737    A    西城区       0       1        0        0    0    0  "
      ]
     },
     "execution_count": 126,
     "metadata": {},
     "output_type": "execute_result"
    },
    {
     "data": {
      "text/html": [
       "<div>\n",
       "<style scoped>\n",
       "    .dataframe tbody tr th:only-of-type {\n",
       "        vertical-align: middle;\n",
       "    }\n",
       "\n",
       "    .dataframe tbody tr th {\n",
       "        vertical-align: top;\n",
       "    }\n",
       "\n",
       "    .dataframe thead th {\n",
       "        text-align: right;\n",
       "    }\n",
       "</style>\n",
       "<table border=\"1\" class=\"dataframe\">\n",
       "  <thead>\n",
       "    <tr style=\"text-align: right;\">\n",
       "      <th></th>\n",
       "      <th>区域</th>\n",
       "      <th>城市id</th>\n",
       "      <th>城市</th>\n",
       "      <th>小队ID</th>\n",
       "      <th>队长id</th>\n",
       "      <th>队长等级</th>\n",
       "      <th>应带队人数</th>\n",
       "      <th>小队活跃区县</th>\n",
       "      <th>a</th>\n",
       "      <th>b</th>\n",
       "      <th>c</th>\n",
       "      <th>d</th>\n",
       "      <th>a0</th>\n",
       "      <th>b0</th>\n",
       "      <th>c0</th>\n",
       "      <th>d0</th>\n",
       "      <th>待补充a人数</th>\n",
       "      <th>待补充b人数</th>\n",
       "      <th>待补充c人数</th>\n",
       "      <th>待补充d人数</th>\n",
       "      <th>总待补充人数</th>\n",
       "      <th>待剔除a人数</th>\n",
       "      <th>待剔除b人数</th>\n",
       "      <th>待剔除c人数</th>\n",
       "      <th>总待剔除人数</th>\n",
       "      <th>是否补充完</th>\n",
       "      <th>是否剔除完</th>\n",
       "    </tr>\n",
       "  </thead>\n",
       "  <tbody>\n",
       "    <tr>\n",
       "      <th>0</th>\n",
       "      <td>华北区域</td>\n",
       "      <td>1</td>\n",
       "      <td>北京市</td>\n",
       "      <td>51092</td>\n",
       "      <td>563865054814208</td>\n",
       "      <td>C</td>\n",
       "      <td>30</td>\n",
       "      <td>朝阳区</td>\n",
       "      <td>13</td>\n",
       "      <td>12</td>\n",
       "      <td>0</td>\n",
       "      <td>0</td>\n",
       "      <td>8</td>\n",
       "      <td>12</td>\n",
       "      <td>9</td>\n",
       "      <td>0</td>\n",
       "      <td>0</td>\n",
       "      <td>0</td>\n",
       "      <td>9</td>\n",
       "      <td>0</td>\n",
       "      <td>9</td>\n",
       "      <td>5</td>\n",
       "      <td>0</td>\n",
       "      <td>0</td>\n",
       "      <td>5</td>\n",
       "      <td>0</td>\n",
       "      <td>0</td>\n",
       "    </tr>\n",
       "    <tr>\n",
       "      <th>1</th>\n",
       "      <td>华北区域</td>\n",
       "      <td>1</td>\n",
       "      <td>北京市</td>\n",
       "      <td>129076</td>\n",
       "      <td>567950018373800</td>\n",
       "      <td>C</td>\n",
       "      <td>30</td>\n",
       "      <td>朝阳区</td>\n",
       "      <td>14</td>\n",
       "      <td>10</td>\n",
       "      <td>1</td>\n",
       "      <td>0</td>\n",
       "      <td>8</td>\n",
       "      <td>12</td>\n",
       "      <td>9</td>\n",
       "      <td>0</td>\n",
       "      <td>0</td>\n",
       "      <td>2</td>\n",
       "      <td>8</td>\n",
       "      <td>0</td>\n",
       "      <td>10</td>\n",
       "      <td>6</td>\n",
       "      <td>0</td>\n",
       "      <td>0</td>\n",
       "      <td>6</td>\n",
       "      <td>0</td>\n",
       "      <td>0</td>\n",
       "    </tr>\n",
       "    <tr>\n",
       "      <th>2</th>\n",
       "      <td>华北区域</td>\n",
       "      <td>1</td>\n",
       "      <td>北京市</td>\n",
       "      <td>346956</td>\n",
       "      <td>563414262550528</td>\n",
       "      <td>B</td>\n",
       "      <td>40</td>\n",
       "      <td>朝阳区</td>\n",
       "      <td>13</td>\n",
       "      <td>11</td>\n",
       "      <td>0</td>\n",
       "      <td>0</td>\n",
       "      <td>11</td>\n",
       "      <td>16</td>\n",
       "      <td>12</td>\n",
       "      <td>0</td>\n",
       "      <td>0</td>\n",
       "      <td>5</td>\n",
       "      <td>12</td>\n",
       "      <td>0</td>\n",
       "      <td>17</td>\n",
       "      <td>2</td>\n",
       "      <td>0</td>\n",
       "      <td>0</td>\n",
       "      <td>2</td>\n",
       "      <td>0</td>\n",
       "      <td>0</td>\n",
       "    </tr>\n",
       "    <tr>\n",
       "      <th>3</th>\n",
       "      <td>华北区域</td>\n",
       "      <td>1</td>\n",
       "      <td>北京市</td>\n",
       "      <td>301930</td>\n",
       "      <td>580542246038446</td>\n",
       "      <td>B</td>\n",
       "      <td>40</td>\n",
       "      <td>朝阳区</td>\n",
       "      <td>15</td>\n",
       "      <td>11</td>\n",
       "      <td>15</td>\n",
       "      <td>0</td>\n",
       "      <td>11</td>\n",
       "      <td>16</td>\n",
       "      <td>12</td>\n",
       "      <td>0</td>\n",
       "      <td>0</td>\n",
       "      <td>5</td>\n",
       "      <td>0</td>\n",
       "      <td>0</td>\n",
       "      <td>5</td>\n",
       "      <td>4</td>\n",
       "      <td>0</td>\n",
       "      <td>3</td>\n",
       "      <td>7</td>\n",
       "      <td>0</td>\n",
       "      <td>0</td>\n",
       "    </tr>\n",
       "    <tr>\n",
       "      <th>4</th>\n",
       "      <td>华北区域</td>\n",
       "      <td>1</td>\n",
       "      <td>北京市</td>\n",
       "      <td>40572</td>\n",
       "      <td>565098320759301</td>\n",
       "      <td>C</td>\n",
       "      <td>30</td>\n",
       "      <td>朝阳区</td>\n",
       "      <td>15</td>\n",
       "      <td>10</td>\n",
       "      <td>2</td>\n",
       "      <td>0</td>\n",
       "      <td>8</td>\n",
       "      <td>12</td>\n",
       "      <td>9</td>\n",
       "      <td>0</td>\n",
       "      <td>0</td>\n",
       "      <td>2</td>\n",
       "      <td>7</td>\n",
       "      <td>0</td>\n",
       "      <td>9</td>\n",
       "      <td>7</td>\n",
       "      <td>0</td>\n",
       "      <td>0</td>\n",
       "      <td>7</td>\n",
       "      <td>0</td>\n",
       "      <td>0</td>\n",
       "    </tr>\n",
       "  </tbody>\n",
       "</table>\n",
       "</div>"
      ],
      "text/plain": [
       "     区域  城市id   城市    小队ID             队长id 队长等级  应带队人数 小队活跃区县   a   b   c  d  \\\n",
       "0  华北区域     1  北京市   51092  563865054814208    C     30    朝阳区  13  12   0  0   \n",
       "1  华北区域     1  北京市  129076  567950018373800    C     30    朝阳区  14  10   1  0   \n",
       "2  华北区域     1  北京市  346956  563414262550528    B     40    朝阳区  13  11   0  0   \n",
       "3  华北区域     1  北京市  301930  580542246038446    B     40    朝阳区  15  11  15  0   \n",
       "4  华北区域     1  北京市   40572  565098320759301    C     30    朝阳区  15  10   2  0   \n",
       "\n",
       "   a0  b0  c0  d0  待补充a人数  待补充b人数  待补充c人数  待补充d人数  总待补充人数  待剔除a人数  待剔除b人数  \\\n",
       "0   8  12   9   0       0       0       9       0       9       5       0   \n",
       "1   8  12   9   0       0       2       8       0      10       6       0   \n",
       "2  11  16  12   0       0       5      12       0      17       2       0   \n",
       "3  11  16  12   0       0       5       0       0       5       4       0   \n",
       "4   8  12   9   0       0       2       7       0       9       7       0   \n",
       "\n",
       "   待剔除c人数  总待剔除人数  是否补充完  是否剔除完  \n",
       "0       0       5      0      0  \n",
       "1       0       6      0      0  \n",
       "2       0       2      0      0  \n",
       "3       3       7      0      0  \n",
       "4       0       7      0      0  "
      ]
     },
     "execution_count": 126,
     "metadata": {},
     "output_type": "execute_result"
    }
   ],
   "source": [
    "df_sea = shuffle(df_sea.assign(被补充=0, 被剔除=0))\n",
    "df_driver = shuffle(df_driver.assign(被补充=0, 被剔除=0))\n",
    "df_group = df_group.assign(是否补充完=0, 是否剔除完=0)\n",
    "df_sea.head()\n",
    "df_driver.head()\n",
    "df_group.head()"
   ]
  },
  {
   "cell_type": "code",
   "execution_count": 83,
   "id": "d4967418",
   "metadata": {
    "ExecuteTime": {
     "end_time": "2021-12-21T04:55:38.216010Z",
     "start_time": "2021-12-21T04:55:38.206045Z"
    },
    "collapsed": true
   },
   "outputs": [
    {
     "data": {
      "text/plain": [
       "'\\nfrom IPython.display import display_html\\ndisplay_html(\"\"\"<button onclick=\"$(\\'.input, .prompt, .output_stderr, .output_error\\').toggle();\">Toggle Code</button>\"\"\", raw=True)\\n'"
      ]
     },
     "execution_count": 83,
     "metadata": {},
     "output_type": "execute_result"
    },
    {
     "data": {
      "text/plain": [
       "\"\\n# 存储司机信息的表\\ndf_driver = df_all[['区域', '城市id', '城市', '小队ID', '队长id', '队长等级', '应带队人数', '小队活跃区县', '队员id',\\n       '队员等级', '队员活跃区县', 'A类区县内a', 'A类区县外b', '非A类区县内c', '非A类区县外d']]\\ndf_driver.shape\\n# 存储小队信息的表\\ndf_group = df_all[['区域', '城市id', '城市', '小队ID', '队长id', '队长等级', '应带队人数', '小队活跃区县', 'a', 'b',\\n       'c', 'd', 'a0', 'b0', 'c0', 'd0', '待补充a人数', '待补充b人数', '待补充c人数',\\n       '待补充d人数', '总待补充人数', '待剔除a人数', '待剔除b人数', '待剔除c人数', '总待剔除人数', '是否补充完',\\n       '是否剔除完']].drop_duplicates('小队ID')\\n\\ndf_group.shape        \\n\\n# df_group[['待补充a人数', '待剔除a人数']] = df_group[['待补充a人数', '待剔除a人数']].apply(df_compute, args=(df_group['a'], df_group['a0'], 'a'))\\ndf_group['待补充a人数'] = df_group.apply(lambda x: max(x['a0'] - x['a'], 0), axis=1)\\ndf_group['待剔除a人数'] = df_group.apply(lambda x: max(x['a'] - x['a0'], 0), axis=1)\\ndf_group['待补充b人数'] = df_group.apply(lambda x: max(x['b0'] - x['b'], 0), axis=1)\\ndf_group['待剔除b人数'] = df_group.apply(lambda x: max(x['b'] - x['b0'], 0), axis=1)\\ndf_group['待补充c人数'] = df_group.apply(lambda x: max(x['c0'] - x['c'], 0), axis=1)\\ndf_group['待剔除c人数'] = df_group.apply(lambda x: max(x['c'] - x['c0'], 0), axis=1)\\ndf_group['总待补充人数'] = df_group[['待补充a人数', '待补充b人数', '待补充c人数']].apply(np.sum, axis=1)\\ndf_group['总待剔除人数'] = df_group[[ '待剔除a人数', '待剔除b人数', '待剔除c人数']].apply(np.sum, axis=1)\\ndf_group.head()\\n\""
      ]
     },
     "execution_count": 83,
     "metadata": {},
     "output_type": "execute_result"
    },
    {
     "data": {
      "text/plain": [
       "\"\\ndf_all = pd.merge(left=df_driver, right=df_group, how='left')\\ndf_all.head()\\n\\n\\nwriter = pd.ExcelWriter('data.xlsx')\\ndf_all.to_excel(writer,'all',index=False)\\ndf_driver.to_excel(writer,'driver',index=False)\\ndf_group.to_excel(writer,'group',index=False)\\nwriter.save()\\n\""
      ]
     },
     "execution_count": 83,
     "metadata": {},
     "output_type": "execute_result"
    }
   ],
   "source": [
    "# 隐藏代码\n",
    "'''\n",
    "from IPython.display import display_html\n",
    "display_html(\"\"\"<button onclick=\"$('.input, .prompt, .output_stderr, .output_error').toggle();\">Toggle Code</button>\"\"\", raw=True)\n",
    "'''\n",
    "# 生成司机信息表和小队信息表\n",
    "'''\n",
    "# 存储司机信息的表\n",
    "df_driver = df_all[['区域', '城市id', '城市', '小队ID', '队长id', '队长等级', '应带队人数', '小队活跃区县', '队员id',\n",
    "       '队员等级', '队员活跃区县', 'A类区县内a', 'A类区县外b', '非A类区县内c', '非A类区县外d']]\n",
    "df_driver.shape\n",
    "# 存储小队信息的表\n",
    "df_group = df_all[['区域', '城市id', '城市', '小队ID', '队长id', '队长等级', '应带队人数', '小队活跃区县', 'a', 'b',\n",
    "       'c', 'd', 'a0', 'b0', 'c0', 'd0', '待补充a人数', '待补充b人数', '待补充c人数',\n",
    "       '待补充d人数', '总待补充人数', '待剔除a人数', '待剔除b人数', '待剔除c人数', '总待剔除人数', '是否补充完',\n",
    "       '是否剔除完']].drop_duplicates('小队ID')\n",
    "\n",
    "df_group.shape        \n",
    "\n",
    "# df_group[['待补充a人数', '待剔除a人数']] = df_group[['待补充a人数', '待剔除a人数']].apply(df_compute, args=(df_group['a'], df_group['a0'], 'a'))\n",
    "df_group['待补充a人数'] = df_group.apply(lambda x: max(x['a0'] - x['a'], 0), axis=1)\n",
    "df_group['待剔除a人数'] = df_group.apply(lambda x: max(x['a'] - x['a0'], 0), axis=1)\n",
    "df_group['待补充b人数'] = df_group.apply(lambda x: max(x['b0'] - x['b'], 0), axis=1)\n",
    "df_group['待剔除b人数'] = df_group.apply(lambda x: max(x['b'] - x['b0'], 0), axis=1)\n",
    "df_group['待补充c人数'] = df_group.apply(lambda x: max(x['c0'] - x['c'], 0), axis=1)\n",
    "df_group['待剔除c人数'] = df_group.apply(lambda x: max(x['c'] - x['c0'], 0), axis=1)\n",
    "df_group['总待补充人数'] = df_group[['待补充a人数', '待补充b人数', '待补充c人数']].apply(np.sum, axis=1)\n",
    "df_group['总待剔除人数'] = df_group[[ '待剔除a人数', '待剔除b人数', '待剔除c人数']].apply(np.sum, axis=1)\n",
    "df_group.head()\n",
    "'''\n",
    "\n",
    "# 生成新的df_all\n",
    "'''\n",
    "df_all = pd.merge(left=df_driver, right=df_group, how='left')\n",
    "df_all.head()\n",
    "\n",
    "\n",
    "writer = pd.ExcelWriter('data.xlsx')\n",
    "df_all.to_excel(writer,'all',index=False)\n",
    "df_driver.to_excel(writer,'driver',index=False)\n",
    "df_group.to_excel(writer,'group',index=False)\n",
    "writer.save()\n",
    "'''"
   ]
  },
  {
   "cell_type": "code",
   "execution_count": 114,
   "id": "e09b3a74",
   "metadata": {
    "ExecuteTime": {
     "end_time": "2021-12-21T06:01:04.310450Z",
     "start_time": "2021-12-21T06:01:04.249034Z"
    }
   },
   "outputs": [
    {
     "data": {
      "text/plain": [
       "(3571, 34)"
      ]
     },
     "execution_count": 114,
     "metadata": {},
     "output_type": "execute_result"
    },
    {
     "data": {
      "text/plain": [
       "(0, 34)"
      ]
     },
     "execution_count": 114,
     "metadata": {},
     "output_type": "execute_result"
    },
    {
     "data": {
      "text/plain": [
       "(33618, 34)"
      ]
     },
     "execution_count": 114,
     "metadata": {},
     "output_type": "execute_result"
    },
    {
     "data": {
      "text/plain": [
       "(12996, 34)"
      ]
     },
     "execution_count": 114,
     "metadata": {},
     "output_type": "execute_result"
    },
    {
     "data": {
      "text/plain": [
       "(322, 27)"
      ]
     },
     "execution_count": 114,
     "metadata": {},
     "output_type": "execute_result"
    },
    {
     "data": {
      "text/plain": [
       "(0, 27)"
      ]
     },
     "execution_count": 114,
     "metadata": {},
     "output_type": "execute_result"
    },
    {
     "data": {
      "text/plain": [
       "(966, 27)"
      ]
     },
     "execution_count": 114,
     "metadata": {},
     "output_type": "execute_result"
    },
    {
     "data": {
      "text/plain": [
       "(244, 27)"
      ]
     },
     "execution_count": 114,
     "metadata": {},
     "output_type": "execute_result"
    }
   ],
   "source": [
    "# 小队可能存在四种情况\n",
    "# 司机\n",
    "df_all.query('总待补充人数>0 and 总待剔除人数==0').shape  # 5136\n",
    "df_all.query('总待补充人数==0 and 总待剔除人数==0').shape  # 0\n",
    "df_all.query('总待补充人数>0 and 总待剔除人数>0').shape    # 32053\n",
    "df_all.query('总待补充人数==0 and 总待剔除人数>0').shape   # 12996\n",
    "# 小队\n",
    "df_group.query('总待补充人数>0 and 总待剔除人数==0').shape  # 322\n",
    "df_group.query('总待补充人数==0 and 总待剔除人数==0').shape  # 0\n",
    "df_group.query('总待补充人数>0 and 总待剔除人数>0').shape    # 966\n",
    "df_group.query('总待补充人数==0 and 总待剔除人数>0').shape   # 244"
   ]
  },
  {
   "cell_type": "code",
   "execution_count": 115,
   "id": "46b1f302",
   "metadata": {
    "ExecuteTime": {
     "end_time": "2021-12-21T06:01:05.689458Z",
     "start_time": "2021-12-21T06:01:05.683479Z"
    }
   },
   "outputs": [
    {
     "data": {
      "text/plain": [
       "1288"
      ]
     },
     "execution_count": 115,
     "metadata": {},
     "output_type": "execute_result"
    },
    {
     "data": {
      "text/plain": [
       "1210"
      ]
     },
     "execution_count": 115,
     "metadata": {},
     "output_type": "execute_result"
    }
   ],
   "source": [
    "# 待补充和待剔除人数大于0的小队的数量\n",
    "322 + 966  # 待补充 1288\n",
    "966 + 244  # 待剔除 1210"
   ]
  },
  {
   "cell_type": "code",
   "execution_count": 116,
   "id": "ac16641f",
   "metadata": {
    "ExecuteTime": {
     "end_time": "2021-12-21T06:01:06.212995Z",
     "start_time": "2021-12-21T06:01:06.197039Z"
    },
    "scrolled": true
   },
   "outputs": [
    {
     "data": {
      "text/plain": [
       "(50185, 34)"
      ]
     },
     "execution_count": 116,
     "metadata": {},
     "output_type": "execute_result"
    },
    {
     "data": {
      "text/plain": [
       "(2232, 34)"
      ]
     },
     "execution_count": 116,
     "metadata": {},
     "output_type": "execute_result"
    }
   ],
   "source": [
    "# 不需要(补充和剔除)的司机的数量 \n",
    "df_all.shape  # 司机总数：50185人\n",
    "df_all.query('(a==a0 and A类区县内a==1) | (b==b0 and A类区县外b==1) | (c==c0 and 非A类区县内c==1)').shape  # 2232人"
   ]
  },
  {
   "cell_type": "code",
   "execution_count": 117,
   "id": "385d8f56",
   "metadata": {
    "ExecuteTime": {
     "end_time": "2021-12-21T06:01:06.584412Z",
     "start_time": "2021-12-21T06:01:06.580898Z"
    }
   },
   "outputs": [],
   "source": [
    "# 补充完的司机表\n",
    "df_bc_ok = pd.DataFrame()\n",
    "# 没有补充完的司机表\n",
    "df_bc_nok = pd.DataFrame()\n",
    "# 剔除了的司机表\n",
    "df_tc_table = pd.DataFrame()"
   ]
  },
  {
   "cell_type": "code",
   "execution_count": 118,
   "id": "f78b18b7",
   "metadata": {
    "ExecuteTime": {
     "end_time": "2021-12-21T06:01:06.968511Z",
     "start_time": "2021-12-21T06:01:06.952042Z"
    },
    "scrolled": true
   },
   "outputs": [
    {
     "name": "stderr",
     "output_type": "stream",
     "text": [
      "<ipython-input-118-37dfc8c1d820>:5: SettingWithCopyWarning: \n",
      "A value is trying to be set on a copy of a slice from a DataFrame\n",
      "\n",
      "See the caveats in the documentation: https://pandas.pydata.org/pandas-docs/stable/user_guide/indexing.html#returning-a-view-versus-a-copy\n",
      "  df_bc_group.sort_values(by=\"总待补充人数\",ascending=True, inplace=True)\n"
     ]
    },
    {
     "data": {
      "text/plain": [
       "(1288, 27)"
      ]
     },
     "execution_count": 118,
     "metadata": {},
     "output_type": "execute_result"
    }
   ],
   "source": [
    "#待补充的小队\n",
    "# df2 = df1.query('总待补充人数>=1')\n",
    "df_bc_group = df_group.query('总待补充人数>=1')\n",
    "#根据总待补充人数升序排列\n",
    "df_bc_group.sort_values(by=\"总待补充人数\",ascending=True, inplace=True)\n",
    "\n",
    "df_bc_group.shape  # 待补充小队里，小队表"
   ]
  },
  {
   "cell_type": "code",
   "execution_count": 122,
   "id": "331071c8",
   "metadata": {
    "ExecuteTime": {
     "end_time": "2021-12-21T06:02:00.465065Z",
     "start_time": "2021-12-21T06:02:00.423160Z"
    }
   },
   "outputs": [
    {
     "name": "stderr",
     "output_type": "stream",
     "text": [
      "<ipython-input-122-8948697bd377>:4: SettingWithCopyWarning: \n",
      "A value is trying to be set on a copy of a slice from a DataFrame\n",
      "\n",
      "See the caveats in the documentation: https://pandas.pydata.org/pandas-docs/stable/user_guide/indexing.html#returning-a-view-versus-a-copy\n",
      "  df_tc_group.sort_values(by=\"总待剔除人数\",ascending=False, inplace=True)\n"
     ]
    },
    {
     "data": {
      "text/plain": [
       "\"\\nframes = []\\nfor i in range(df_tc_group.shape[0]):\\n    group = df_tc_group.iloc[i]\\n    group_id = group['小队ID']\\n    \\n    if group['待补充a人数'] > 0:\\n        frames.append(df_driver.query('小队ID == @group_id and A类区县内a == 1'))\\n    if group['待补充b人数'] > 0:\\n        frames.append(df_driver.query('小队ID == @group_id and A类区县外b == 1'))\\n    if group['待补充c人数'] > 0:\\n        frames.append(df_driver.query('小队ID == @group_id and 非A类区县内c == 1'))\\n        \""
      ]
     },
     "execution_count": 122,
     "metadata": {},
     "output_type": "execute_result"
    },
    {
     "data": {
      "text/plain": [
       "(34917, 15)"
      ]
     },
     "execution_count": 122,
     "metadata": {},
     "output_type": "execute_result"
    },
    {
     "data": {
      "text/plain": [
       "(1210, 27)"
      ]
     },
     "execution_count": 122,
     "metadata": {},
     "output_type": "execute_result"
    }
   ],
   "source": [
    "#待剔除小队\n",
    "df_tc_group = df_group.query('总待剔除人数>=1')\n",
    "#根据总剔除人数降序排列\n",
    "df_tc_group.sort_values(by=\"总待剔除人数\",ascending=False, inplace=True)\n",
    "\n",
    "'''\n",
    "frames = []\n",
    "for i in range(df_tc_group.shape[0]):\n",
    "    group = df_tc_group.iloc[i]\n",
    "    group_id = group['小队ID']\n",
    "    \n",
    "    if group['待补充a人数'] > 0:\n",
    "        frames.append(df_driver.query('小队ID == @group_id and A类区县内a == 1'))\n",
    "    if group['待补充b人数'] > 0:\n",
    "        frames.append(df_driver.query('小队ID == @group_id and A类区县外b == 1'))\n",
    "    if group['待补充c人数'] > 0:\n",
    "        frames.append(df_driver.query('小队ID == @group_id and 非A类区县内c == 1'))\n",
    "        '''\n",
    "        \n",
    "df_tc = df_all.query('(待剔除a人数>0 and A类区县内a==1) | (待剔除b人数>0 and A类区县外b==1) | (待剔除c人数>0 and 非A类区县内c==1)')[df_driver.columns[:-2]]\n",
    "df_tc.shape  # 待剔除小队里，待剔除的司机表\n",
    "df_tc_group.shape  # 待剔除小队里，小队表"
   ]
  },
  {
   "cell_type": "code",
   "execution_count": 123,
   "id": "c8e59712",
   "metadata": {
    "ExecuteTime": {
     "end_time": "2021-12-21T06:02:11.979786Z",
     "start_time": "2021-12-21T06:02:11.963335Z"
    },
    "scrolled": true
   },
   "outputs": [
    {
     "data": {
      "text/plain": [
       "(3571, 2)"
      ]
     },
     "execution_count": 123,
     "metadata": {},
     "output_type": "execute_result"
    },
    {
     "data": {
      "text/plain": [
       "(322, 27)"
      ]
     },
     "execution_count": 123,
     "metadata": {},
     "output_type": "execute_result"
    }
   ],
   "source": [
    "# 剔除数为0的小队（这里全为待补充的小队），司机表\n",
    "df_tc0 = df_all.query('总待剔除人数 == 0')[df_driver.columns[:2]]\n",
    "df_tc0.shape\n",
    "\n",
    "# 小队表\n",
    "df_tc0_group = df_group.query('总待剔除人数 == 0')\n",
    "df_tc0_group.shape"
   ]
  },
  {
   "cell_type": "markdown",
   "id": "60ff8308",
   "metadata": {},
   "source": [
    "## 补充小队"
   ]
  },
  {
   "cell_type": "code",
   "execution_count": 106,
   "id": "efc9af3b",
   "metadata": {
    "ExecuteTime": {
     "end_time": "2021-12-21T05:26:42.430606Z",
     "start_time": "2021-12-21T05:26:42.413650Z"
    }
   },
   "outputs": [
    {
     "data": {
      "text/html": [
       "<div>\n",
       "<style scoped>\n",
       "    .dataframe tbody tr th:only-of-type {\n",
       "        vertical-align: middle;\n",
       "    }\n",
       "\n",
       "    .dataframe tbody tr th {\n",
       "        vertical-align: top;\n",
       "    }\n",
       "\n",
       "    .dataframe thead th {\n",
       "        text-align: right;\n",
       "    }\n",
       "</style>\n",
       "<table border=\"1\" class=\"dataframe\">\n",
       "  <thead>\n",
       "    <tr style=\"text-align: right;\">\n",
       "      <th></th>\n",
       "      <th>区域</th>\n",
       "      <th>城市id</th>\n",
       "      <th>城市</th>\n",
       "      <th>小队ID</th>\n",
       "      <th>队长id</th>\n",
       "      <th>队长等级</th>\n",
       "      <th>应带队人数</th>\n",
       "      <th>小队活跃区县</th>\n",
       "      <th>a</th>\n",
       "      <th>b</th>\n",
       "      <th>c</th>\n",
       "      <th>d</th>\n",
       "      <th>a0</th>\n",
       "      <th>b0</th>\n",
       "      <th>c0</th>\n",
       "      <th>d0</th>\n",
       "      <th>待补充a人数</th>\n",
       "      <th>待补充b人数</th>\n",
       "      <th>待补充c人数</th>\n",
       "      <th>待补充d人数</th>\n",
       "      <th>总待补充人数</th>\n",
       "      <th>待剔除a人数</th>\n",
       "      <th>待剔除b人数</th>\n",
       "      <th>待剔除c人数</th>\n",
       "      <th>总待剔除人数</th>\n",
       "      <th>是否补充完</th>\n",
       "      <th>是否剔除完</th>\n",
       "    </tr>\n",
       "  </thead>\n",
       "  <tbody>\n",
       "    <tr>\n",
       "      <th>797</th>\n",
       "      <td>华北区域</td>\n",
       "      <td>1</td>\n",
       "      <td>北京市</td>\n",
       "      <td>183310</td>\n",
       "      <td>566050733238558</td>\n",
       "      <td>A</td>\n",
       "      <td>50</td>\n",
       "      <td>朝阳区</td>\n",
       "      <td>12</td>\n",
       "      <td>17</td>\n",
       "      <td>9</td>\n",
       "      <td>0</td>\n",
       "      <td>14</td>\n",
       "      <td>20</td>\n",
       "      <td>15</td>\n",
       "      <td>0</td>\n",
       "      <td>2</td>\n",
       "      <td>3</td>\n",
       "      <td>6</td>\n",
       "      <td>0</td>\n",
       "      <td>11</td>\n",
       "      <td>0</td>\n",
       "      <td>0</td>\n",
       "      <td>0</td>\n",
       "      <td>0</td>\n",
       "      <td>0</td>\n",
       "      <td>0</td>\n",
       "    </tr>\n",
       "  </tbody>\n",
       "</table>\n",
       "</div>"
      ],
      "text/plain": [
       "       区域  城市id   城市    小队ID             队长id 队长等级  应带队人数 小队活跃区县   a   b  c  \\\n",
       "797  华北区域     1  北京市  183310  566050733238558    A     50    朝阳区  12  17  9   \n",
       "\n",
       "     d  a0  b0  c0  d0  待补充a人数  待补充b人数  待补充c人数  待补充d人数  总待补充人数  待剔除a人数  \\\n",
       "797  0  14  20  15   0       2       3       6       0      11       0   \n",
       "\n",
       "     待剔除b人数  待剔除c人数  总待剔除人数  是否补充完  是否剔除完  \n",
       "797       0       0       0      0      0  "
      ]
     },
     "execution_count": 106,
     "metadata": {},
     "output_type": "execute_result"
    }
   ],
   "source": [
    "group = df_bc_group.query('小队ID == 183310')\n",
    "# group = df_bc_group.iloc[0]\n",
    "\n",
    "#待补充人数最少的小队对应的待补充a,b,c人数和小队活跃区县\n",
    "group_id = group[\"小队ID\"]\n",
    "num_a = group[\"待补充a人数\"].iloc[0]\n",
    "num_b = group[\"待补充b人数\"].iloc[0]\n",
    "num_c = group[\"待补充c人数\"].iloc[0]\n",
    "city = group[\"小队活跃区县\"].iloc[0]\n",
    "    \n",
    "group"
   ]
  },
  {
   "cell_type": "code",
   "execution_count": 163,
   "id": "70810a70",
   "metadata": {
    "ExecuteTime": {
     "end_time": "2021-12-20T09:08:57.492455Z",
     "start_time": "2021-12-20T09:08:57.488466Z"
    }
   },
   "outputs": [],
   "source": [
    "# 记录小队补充情况\n",
    "log_a = []\n",
    "log_b = []\n",
    "log_c = []"
   ]
  },
  {
   "cell_type": "code",
   "execution_count": 164,
   "id": "55b5a695",
   "metadata": {
    "ExecuteTime": {
     "end_time": "2021-12-20T09:08:58.151363Z",
     "start_time": "2021-12-20T09:08:58.147403Z"
    }
   },
   "outputs": [],
   "source": [
    "# 补充完的小队加入列表\n",
    "a_lt = []  # 补充完的小队id加入列表\n",
    "b_lt = []  \n",
    "c_lt = []  "
   ]
  },
  {
   "cell_type": "markdown",
   "id": "9f59f8cf",
   "metadata": {},
   "source": [
    "## test-先补充一个小队内的c类司机"
   ]
  },
  {
   "cell_type": "code",
   "execution_count": 29,
   "id": "c5b732b3",
   "metadata": {
    "ExecuteTime": {
     "end_time": "2021-12-20T04:44:48.455478Z",
     "start_time": "2021-12-20T04:44:48.447241Z"
    }
   },
   "outputs": [
    {
     "data": {
      "text/plain": [
       "Index(['区域', '城市id', '城市', '小队ID', '队长id', '队长等级', '应带队人数', '小队活跃区县', '队员id',\n",
       "       '队员等级', '队员活跃区县', 'A类区县内a', 'A类区县外b', '非A类区县内c', '非A类区县外d', 'a', 'b',\n",
       "       'c', 'd', 'a0', 'b0', 'c0', 'd0', '待补充a人数', '待补充b人数', '待补充c人数',\n",
       "       '待补充d人数', '总待补充人数', '待剔除a人数', '待剔除b人数', '待剔除c人数', '总待剔除人数', '是否补充完',\n",
       "       '是否剔除完'],\n",
       "      dtype='object')"
      ]
     },
     "execution_count": 29,
     "metadata": {},
     "output_type": "execute_result"
    }
   ],
   "source": [
    "df_all.columns"
   ]
  },
  {
   "cell_type": "code",
   "execution_count": 217,
   "id": "1127837e",
   "metadata": {
    "ExecuteTime": {
     "end_time": "2021-12-20T14:44:20.678737Z",
     "start_time": "2021-12-20T14:44:20.635330Z"
    }
   },
   "outputs": [],
   "source": [
    "# 补充一个小队的司机\n",
    "def bc(driver, df_sea, num, abc):\n",
    "    global group_id, df_tc_table\n",
    "    \n",
    "    if abc == 'a':\n",
    "        df_sea_target = df_sea.query('队员活跃区县 == @city and 队员等级 != \"A\"')\n",
    "        \n",
    "        sea = df_sea_target[:num]  # 从公海取出需要的司机  # 按顺序取，这样可以按指定顺序取出待剔除小队的司机\n",
    "        \n",
    "        df_tc_table = pd.concat([df_tc_table, sea])\n",
    "        sea = sea.assign(A类区县内a=[1]*len(sea) )  # 取出的司机插入新的列\n",
    "        sea\n",
    "        log_a.append('{}: 补充前公海有{}人'.format(group_id, df_sea.shape[0]))\n",
    "    \n",
    "        df_sea = pd.concat([df_sea, sea], axis=0).drop_duplicates(subset=['队员id'], keep=False)  # 删除公海里取的司机\n",
    "        log_a.append('{}: 补充后公海有{}人'.format(group_id, df_sea.shape[0]))\n",
    "        \n",
    "        driver_new.loc[:, '待补充a人数'] = driver_new.loc[:, '待补充a人数'] - df_sea_target.shape[0]   # 更新类别的待补充人数\n",
    "        if driver_new.loc[:, '待补充a人数'] == 0:\n",
    "            driver_new.loc[:, '是否补充完'] = 1\n",
    "        \n",
    "    elif abc == 'b':\n",
    "        df_sea_target = df_sea.query('队员活跃区县 != @city and 队员等级 == \"A\"')\n",
    "        \n",
    "        sea = df_sea_target[:num]  # 从公海取出需要的司机\n",
    "        df_tc_table = pd.concat([df_tc_table, sea])\n",
    "        sea = sea.assign(A类区县外b=[1]*len(sea) )  # 取出的司机插入新的列\n",
    "        log_b.append('{}: 补充前公海有{}人'.format(group_id, df_sea.shape[0]))\n",
    "    \n",
    "        df_sea = pd.concat([df_sea, sea], axis=0).drop_duplicates(subset=['队员id'], keep=False)  # 删除公海里取的司机\n",
    "        log_b.append('{}: 补充后公海有{}人'.format(group_id, df_sea.shape[0]))\n",
    "        \n",
    "        driver_new.loc[:, '待补充b人数'] = driver_new.loc[:, '待补充b人数'] - df_sea_target.shape[0]   # 更新类别的待补充人数\n",
    "        if driver_new.loc[:, '待补充b人数'] == 0:\n",
    "            driver_new.loc[:, '是否补充完'] = 1\n",
    "        \n",
    "    elif abc == 'c':\n",
    "        df_sea_target = df_sea.query('队员活跃区县 == @city and 队员等级 != \"A\"')\n",
    "        \n",
    "        sea = df_sea_target[:num]  # 从公海取出需要的司机\n",
    "        df_tc_table = pd.concat([df_tc_table, sea])  # 将要剔除的司机的原始信息存储下来\n",
    "        # 更改司机信息，补充到待补充的司机表中\n",
    "        sea = sea.assign(非A类区县内c=[1]*len(sea) )  # 取出的司机插入新的列\n",
    "        log_c.append('{}: 补充前公海有{}人'.format(group_id, df_sea.shape[0]))\n",
    "    \n",
    "        df_sea = pd.concat([df_sea, sea], axis=0).drop_duplicates(subset=['队员id'], keep=False)  # 删除公海里取的司机\n",
    "        log_c.append('{}: 补充后公海有{}人'.format(group_id, df_sea.shape[0]))\n",
    "        \n",
    "        driver_new.loc[:, '待补充c人数'] = driver_new.loc[:, '待补充c人数'] - df_sea_target.shape[0]   # 更新类别的待补充人数\n",
    "        if driver_new.loc[:, '待补充c人数'] == 0:\n",
    "            driver_new.loc[:, '是否补充完'] = 1\n",
    "       \n",
    "    \n",
    "    \n",
    "    # 加入补充的司机\n",
    "    driver_new = pd.concat([driver, sea])\n",
    "    driver_new = driver_new.assign(组队后小队ID=[group_id]*len(driver_new))\n",
    "    \n",
    "  \n",
    "    return driver_new, df_sea"
   ]
  },
  {
   "cell_type": "code",
   "execution_count": null,
   "id": "b5ac379f",
   "metadata": {},
   "outputs": [],
   "source": [
    "# 补充一个小队的司机\n",
    "## 谢天谢地，不需要考虑这种情况了.....\n",
    "'''\n",
    "def bc_from_bc(driver, df_tc0, num, abc): \n",
    "    # 补充的司机来自于另一个小队待补充的司机\n",
    "    global group_id, df_tc_table\n",
    "    \n",
    "    if abc == 'a':\n",
    "        df_sea_target = df_sea.query('队员活跃区县 == @city and 队员等级 != \"A\"')\n",
    "        \n",
    "        sea = df_sea_target[:num]  # 从公海取出需要的司机  # 按顺序取，这样可以按指定顺序取出待剔除小队的司机\n",
    "        df_tc_table = pd.concat([df_tc_table, sea])\n",
    "        sea = sea.assign(A类区县内a=[1]*len(sea) )  # 取出的司机插入新的列\n",
    "        log_a.append('{}: 补充前公海有{}人'.format(group_id, df_sea.shape[0]))\n",
    "    \n",
    "        df_sea = pd.concat([df_sea, sea], axis=0).drop_duplicates(subset=['队员id'], keep=False)  # 删除公海里取的司机\n",
    "        log_a.append('{}: 补充后公海有{}人'.format(group_id, df_sea.shape[0]))\n",
    "        \n",
    "    elif abc == 'b':\n",
    "        df_sea_target = df_sea.query('队员活跃区县 != @city and 队员等级 == \"A\"')\n",
    "        \n",
    "        sea = df_sea_target[:num]  # 从公海取出需要的司机\n",
    "        df_tc_table = pd.concat([df_tc_table, sea])\n",
    "        sea = sea.assign(A类区县外b=[1]*len(sea) )  # 取出的司机插入新的列\n",
    "        log_b.append('{}: 补充前公海有{}人'.format(group_id, df_sea.shape[0]))\n",
    "    \n",
    "        df_sea = pd.concat([df_sea, sea], axis=0).drop_duplicates(subset=['队员id'], keep=False)  # 删除公海里取的司机\n",
    "        log_b.append('{}: 补充后公海有{}人'.format(group_id, df_sea.shape[0]))\n",
    "        \n",
    "    elif abc == 'c':\n",
    "        df_sea_target = df_sea.query('队员活跃区县 == @city and 队员等级 != \"A\"')\n",
    "        \n",
    "        sea = df_sea_target[:num]  # 从公海取出需要的司机\n",
    "        df_tc_table = pd.concat([df_tc_table, sea])  # 将要剔除的司机的原始信息存储下来\n",
    "        # 更改司机信息，补充到待补充的司机表中\n",
    "        sea = sea.assign(非A类区县内c=[1]*len(sea) )  # 取出的司机插入新的列\n",
    "        log_c.append('{}: 补充前公海有{}人'.format(group_id, df_sea.shape[0]))\n",
    "    \n",
    "        df_sea = pd.concat([df_sea, sea], axis=0).drop_duplicates(subset=['队员id'], keep=False)  # 删除公海里取的司机\n",
    "        log_c.append('{}: 补充后公海有{}人'.format(group_id, df_sea.shape[0]))\n",
    "       \n",
    "    \n",
    "    \n",
    "    # 加入补充的司机\n",
    "    driver_new = pd.concat([driver, sea])\n",
    "    driver_new = driver_new.assign(组队后小队id=[group_id]*len(driver_new))\n",
    "    # driver_new.loc[:, '是否补充完'] = 1\n",
    "  \n",
    "    return driver_new, df_sea\n",
    "    '''"
   ]
  },
  {
   "cell_type": "code",
   "execution_count": 213,
   "id": "f75e9bbe",
   "metadata": {
    "ExecuteTime": {
     "end_time": "2021-12-20T13:55:43.952507Z",
     "start_time": "2021-12-20T13:55:43.947421Z"
    }
   },
   "outputs": [],
   "source": [
    "query_mate = '队员活跃区县 == @city and 队员等级 != \"A\"'\n",
    "query_abc = '小队ID == @group_id and 非A类区县内c == 1'"
   ]
  },
  {
   "cell_type": "code",
   "execution_count": 216,
   "id": "a803b6b2",
   "metadata": {
    "ExecuteTime": {
     "end_time": "2021-12-20T14:28:19.879195Z",
     "start_time": "2021-12-20T14:28:19.166269Z"
    }
   },
   "outputs": [
    {
     "ename": "NameError",
     "evalue": "name 'df_tc0_sea' is not defined",
     "output_type": "error",
     "traceback": [
      "\u001b[1;31m---------------------------------------------------------------------------\u001b[0m",
      "\u001b[1;31mNameError\u001b[0m                                 Traceback (most recent call last)",
      "\u001b[1;32m<ipython-input-216-15689f919e03>\u001b[0m in \u001b[0;36m<module>\u001b[1;34m\u001b[0m\n\u001b[0;32m     52\u001b[0m \u001b[1;33m\u001b[0m\u001b[0m\n\u001b[0;32m     53\u001b[0m         \u001b[1;32mif\u001b[0m \u001b[0mnum_target\u001b[0m \u001b[1;33m<=\u001b[0m \u001b[1;36m0\u001b[0m \u001b[1;33m:\u001b[0m \u001b[1;31m# 能补充完\u001b[0m\u001b[1;33m\u001b[0m\u001b[1;33m\u001b[0m\u001b[0m\n\u001b[1;32m---> 54\u001b[1;33m             \u001b[0mdriver_c_new\u001b[0m\u001b[1;33m,\u001b[0m \u001b[0mdf_tc0_sea\u001b[0m \u001b[1;33m=\u001b[0m \u001b[0mbc\u001b[0m\u001b[1;33m(\u001b[0m\u001b[0mdriver_c_new\u001b[0m\u001b[1;33m,\u001b[0m \u001b[0mdf_tc0_sea\u001b[0m\u001b[1;33m,\u001b[0m  \u001b[0mnum_c\u001b[0m\u001b[1;33m,\u001b[0m \u001b[1;34m'c'\u001b[0m\u001b[1;33m)\u001b[0m\u001b[1;33m\u001b[0m\u001b[1;33m\u001b[0m\u001b[0m\n\u001b[0m\u001b[0;32m     55\u001b[0m             \u001b[0mdriver_c_new\u001b[0m\u001b[1;33m.\u001b[0m\u001b[0mloc\u001b[0m\u001b[1;33m[\u001b[0m\u001b[1;33m:\u001b[0m\u001b[1;33m,\u001b[0m \u001b[1;34m'是否补充完'\u001b[0m\u001b[1;33m]\u001b[0m \u001b[1;33m=\u001b[0m \u001b[1;36m1\u001b[0m\u001b[1;33m\u001b[0m\u001b[1;33m\u001b[0m\u001b[0m\n\u001b[0;32m     56\u001b[0m             \u001b[0mc_lt\u001b[0m\u001b[1;33m.\u001b[0m\u001b[0mappend\u001b[0m\u001b[1;33m(\u001b[0m\u001b[0mgroup_id\u001b[0m\u001b[1;33m)\u001b[0m\u001b[1;33m\u001b[0m\u001b[1;33m\u001b[0m\u001b[0m\n",
      "\u001b[1;31mNameError\u001b[0m: name 'df_tc0_sea' is not defined"
     ]
    }
   ],
   "source": [
    "# 某个小队--公海里匹配c类司机\n",
    "driver_c = df_all.query(query_abc)\n",
    "num_c = group[\"待补充c人数\"].iloc[0]\n",
    "\n",
    "df_sea_target = df_sea.query(query_mate)\n",
    "num_target = num_c - df_sea_target.shape[0] \n",
    "log_c.append('{}: 需要补充{}名, 【公海里】找到{}名'.format(group_id, num_c, df_sea_target.shape[0]))\n",
    "if num_target <= 0:  # 如果在公海里能找到人\n",
    "    driver_c_new, df_sea = bc(driver_c, df_sea, num_c, 'c')\n",
    "    c_lt.append(group_id)\n",
    "    log_c.append('公海里能补充完，{}: 现有c类司机{}名, 补充c类司机后:{}名'.format(group_id, driver_c.shape[0], driver_c_new.shape[0]))\n",
    "\n",
    "elif num_target > 0 :\n",
    "    ## 1、先补充公海里能补充的人\n",
    "    df_sea_target = df_sea.query(query_mate)\n",
    "    driver_c_new, df_sea = bc(driver_c, df_sea, df_sea_target.shape[0], 'c')\n",
    "    \n",
    "    num_c = num_target \n",
    "    log_c.append('公海里不能补充完-从公海里补充，{0}: 原有c类司机{1}名, 补充c类司机后:{2}名'.format(group_id, driver_c.shape[0], driver_c_new.shape[0]))  \n",
    "    \n",
    "    ## 2、然后从剔除人数大于0的小队补充\n",
    "    df_tc_sea_target = df_tc_sea.query(query_mate)\n",
    "    num_target = num_c - df_tc_sea_target.shape[0]  # num_target是 待补充人数num_c - 能够补充的人数df_sea_target.shape[0]\n",
    "    log_c.append('{}: 需要补充{}名, 【待剔除人数大于0的小队】里找到{}名'.format(group_id, num_c, df_tc_sea_target.shape[0]))\n",
    "    \n",
    "    \n",
    "    if num_target <= 0:  # 从待剔除司机里能补充完\n",
    "    # 还没有检测\n",
    "        driver_c_new, df_tc_sea = bc(driver_c_new, df_tc_sea,  num_c, 'c')\n",
    "         c_lt.append(group_id)\n",
    "        log_c.append('公海里不能补充完 -> 小队里能补充完，{}: 现有c类司机{}名, 补充c类司机后:{}名'.format(group_id, driver_c.shape[0], driver_c_new.shape[0]))\n",
    "     \n",
    "    \n",
    "    ## 3、仍然补充不完，则从剔除人数=0的小队补充    \n",
    "    elif num_target > 0:\n",
    "        \n",
    "        ### 1、先补充剔除人数大于0的小队里能补充的人\n",
    "        driver_c_new, df_tc_sea = bc(driver_c_new, df_tc_sea_target, df_sea_target.shape[0], 'c')\n",
    "        num_c = num_target\n",
    "        log_c.append('公海里不能补充完->小队里不能补完-从小队里补充，{}: 补充c类司机后:{}名'.format(group_id, driver_c_new.shape[0]))  \n",
    "\n",
    "         # 然后跳过这个小队\n",
    "        driver_new.loc[:, '是否补充完'] = 2  # 2表示补充结束，但没有补充完\n",
    "        df_bc_nok = pd.concat([df_bc_nok, driver_c_new])\n",
    "        log_c.append('公海里不能补充完 -> 小队里不能补充完 -> 小队0不能补充完-从小队0补充 -> 跳过这个小队，{}: 跳过该小队，有{}人未补充'.format(group_id, num_c))\n",
    "          \n",
    "        '''\n",
    "        ### 2、然后从剔除人数等于0的小队里补充人\n",
    "        df_tc0_sea_target = df_tc0.query(query_mate)\n",
    "        num_target = num_c - df_tc0_sea_target.shape[0]\n",
    "        log_c.append('{}: 需要补充{}名, 【待剔除人数为0的小队】里找到{}名'.format(group_id, num_c, df_tc0_sea_target.shape[0]))\n",
    "        \n",
    "        if num_target <= 0 : # 能补充完\n",
    "            driver_c_new, df_tc0_sea = bc(driver_c_new, df_tc0_sea,  num_c, 'c')\n",
    "            c_lt.append(group_id)\n",
    "            log_c.append('公海里不能补充完 -> 小队里不能补充完 -> 小队0能补充完，{}: 现有c类司机{}名, 补充c类司机后:{}名'.format(group_id, driver_c.shape[0], driver_c_new.shape[0]))\n",
    "        \n",
    "        elif num_target > 0:\n",
    "            # 1、补充能补充的人\n",
    "            driver_c_new, df_tc0_sea = bc(driver_c_new, df_tc0_sea, df_tc0_sea_targe.shape[0], 'c')\n",
    "            num_c = num_target\n",
    "            log_c.append('公海里不能补充完 -> 小队里不能补充完 -> 小队0不能补充完-从小队0补充，{}: 现有c类司机{}名, 补充c类司机后:{}名'.format(group_id, driver_c.shape[0], driver_c_new.shape[0]))\n",
    "            \n",
    "            # 然后跳过这个小队\n",
    "            driver_new.loc[:, '是否补充完'] = 2  # 2表示补充结束，但没有补充完\n",
    "            df_bc_nok = pd.concat([df_bc_nok, driver_c_new])\n",
    "            log_c.append('公海里不能补充完 -> 小队里不能补充完 -> 小队0不能补充完-从小队0补充 -> 跳过这个小队，{}: 跳过该小队，有{}人未补充'.format(group_id, num_c))\n",
    "           '''\n",
    "\n",
    "    \n",
    "df_bc_ok = pd.concat([df_bc_ok, driver_c_new])\n",
    "\n",
    "# log_c.clear()\n",
    "log_c"
   ]
  },
  {
   "cell_type": "code",
   "execution_count": 220,
   "id": "c66abdb7",
   "metadata": {
    "ExecuteTime": {
     "end_time": "2021-12-20T15:08:54.154413Z",
     "start_time": "2021-12-20T15:08:54.146885Z"
    }
   },
   "outputs": [
    {
     "data": {
      "text/plain": [
       "['312042: 需要补充8名, 公海里找到7名',\n",
       " '312042: 补充前公海有10人',\n",
       " '312042: 补充后公海有3人',\n",
       " '公海里不能补充完-从公海里补充，312042: 原有c类司机7名, 补充c类司机后:14名',\n",
       " '312042: 需要补充1名, 待剔除司机里找到0名',\n",
       " '312042: 需要补充8名, 【公海里】找到0名',\n",
       " '312042: 补充前公海有3人',\n",
       " '312042: 补充后公海有3人',\n",
       " '公海里不能补充完-从公海里补充，312042: 原有c类司机7名, 补充c类司机后:7名',\n",
       " '312042: 需要补充8名, 【待剔除人数大于0的小队】里找到0名',\n",
       " '312042: 补充前公海有0人',\n",
       " '312042: 补充后公海有0人',\n",
       " '公海里不能补充完->小队里不能补完-从小队里补充，312042: 补充c类司机后:7名',\n",
       " '312042: 需要补充8名, 【待剔除人数为0的小队】里找到922名']"
      ]
     },
     "execution_count": 220,
     "metadata": {},
     "output_type": "execute_result"
    }
   ],
   "source": [
    "log_c"
   ]
  },
  {
   "cell_type": "code",
   "execution_count": 206,
   "id": "fe592bea",
   "metadata": {
    "ExecuteTime": {
     "end_time": "2021-12-20T09:58:57.778192Z",
     "start_time": "2021-12-20T09:58:57.772205Z"
    }
   },
   "outputs": [
    {
     "data": {
      "text/plain": [
       "Index(['区域', '城市id', '城市', '小队ID', '队长id', '队长等级', '应带队人数', '小队活跃区县', '队员id',\n",
       "       '队员等级', '队员活跃区县', 'A类区县内a', 'A类区县外b', '非A类区县内c', '非A类区县外d', 'a', 'b',\n",
       "       'c', 'd', 'a0', 'b0', 'c0', 'd0', '待补充a人数', '待补充b人数', '待补充c人数',\n",
       "       '待补充d人数', '总待补充人数', '待剔除a人数', '待剔除b人数', '待剔除c人数', '总待剔除人数', '是否补充完',\n",
       "       '是否剔除完'],\n",
       "      dtype='object')"
      ]
     },
     "execution_count": 206,
     "metadata": {},
     "output_type": "execute_result"
    }
   ],
   "source": [
    "t = df_tc0\n",
    "t.columns"
   ]
  },
  {
   "cell_type": "code",
   "execution_count": 201,
   "id": "39649964",
   "metadata": {
    "ExecuteTime": {
     "end_time": "2021-12-20T09:57:10.966837Z",
     "start_time": "2021-12-20T09:57:10.959857Z"
    }
   },
   "outputs": [
    {
     "data": {
      "text/plain": [
       "(10, 6)"
      ]
     },
     "execution_count": 201,
     "metadata": {},
     "output_type": "execute_result"
    }
   ],
   "source": [
    "df_sea = df_sea2[:5].append(df_sea2[-5:])\n",
    "df_sea.shape"
   ]
  },
  {
   "cell_type": "code",
   "execution_count": 202,
   "id": "69cbae5f",
   "metadata": {
    "ExecuteTime": {
     "end_time": "2021-12-20T09:57:12.115430Z",
     "start_time": "2021-12-20T09:57:12.112826Z"
    }
   },
   "outputs": [],
   "source": [
    "log_c.clear()"
   ]
  },
  {
   "cell_type": "code",
   "execution_count": 204,
   "id": "a5e1736a",
   "metadata": {
    "ExecuteTime": {
     "end_time": "2021-12-20T09:57:23.598735Z",
     "start_time": "2021-12-20T09:57:23.539438Z"
    },
    "scrolled": true
   },
   "outputs": [
    {
     "data": {
      "text/html": [
       "<div>\n",
       "<style scoped>\n",
       "    .dataframe tbody tr th:only-of-type {\n",
       "        vertical-align: middle;\n",
       "    }\n",
       "\n",
       "    .dataframe tbody tr th {\n",
       "        vertical-align: top;\n",
       "    }\n",
       "\n",
       "    .dataframe thead th {\n",
       "        text-align: right;\n",
       "    }\n",
       "</style>\n",
       "<table border=\"1\" class=\"dataframe\">\n",
       "  <thead>\n",
       "    <tr style=\"text-align: right;\">\n",
       "      <th></th>\n",
       "      <th>区域</th>\n",
       "      <th>城市id</th>\n",
       "      <th>城市</th>\n",
       "      <th>小队ID</th>\n",
       "      <th>队长id</th>\n",
       "      <th>队长等级</th>\n",
       "      <th>应带队人数</th>\n",
       "      <th>小队活跃区县</th>\n",
       "      <th>队员id</th>\n",
       "      <th>队员等级</th>\n",
       "      <th>队员活跃区县</th>\n",
       "      <th>A类区县内a</th>\n",
       "      <th>A类区县外b</th>\n",
       "      <th>非A类区县内c</th>\n",
       "      <th>非A类区县外d</th>\n",
       "      <th>a</th>\n",
       "      <th>b</th>\n",
       "      <th>c</th>\n",
       "      <th>d</th>\n",
       "      <th>a0</th>\n",
       "      <th>b0</th>\n",
       "      <th>c0</th>\n",
       "      <th>d0</th>\n",
       "      <th>待补充a人数</th>\n",
       "      <th>待补充b人数</th>\n",
       "      <th>待补充c人数</th>\n",
       "      <th>待补充d人数</th>\n",
       "      <th>总待补充人数</th>\n",
       "      <th>待剔除a人数</th>\n",
       "      <th>待剔除b人数</th>\n",
       "      <th>待剔除c人数</th>\n",
       "      <th>总待剔除人数</th>\n",
       "      <th>是否补充完</th>\n",
       "      <th>是否剔除完</th>\n",
       "      <th>重新定级</th>\n",
       "      <th>组队后小队id</th>\n",
       "    </tr>\n",
       "  </thead>\n",
       "  <tbody>\n",
       "    <tr>\n",
       "      <th>29049</th>\n",
       "      <td>华北区域</td>\n",
       "      <td>1.0</td>\n",
       "      <td>北京市</td>\n",
       "      <td>312042</td>\n",
       "      <td>5.805422e+14</td>\n",
       "      <td>A</td>\n",
       "      <td>50.0</td>\n",
       "      <td>朝阳区</td>\n",
       "      <td>580544635091342</td>\n",
       "      <td>B</td>\n",
       "      <td>朝阳区</td>\n",
       "      <td>0.0</td>\n",
       "      <td>0.0</td>\n",
       "      <td>1</td>\n",
       "      <td>0.0</td>\n",
       "      <td>21.0</td>\n",
       "      <td>24.0</td>\n",
       "      <td>7.0</td>\n",
       "      <td>0.0</td>\n",
       "      <td>14.0</td>\n",
       "      <td>20.0</td>\n",
       "      <td>15.0</td>\n",
       "      <td>0.0</td>\n",
       "      <td>0.0</td>\n",
       "      <td>0.0</td>\n",
       "      <td>1</td>\n",
       "      <td>0.0</td>\n",
       "      <td>8.0</td>\n",
       "      <td>6.0</td>\n",
       "      <td>4.0</td>\n",
       "      <td>0.0</td>\n",
       "      <td>10.0</td>\n",
       "      <td>0.0</td>\n",
       "      <td>0.0</td>\n",
       "      <td>NaN</td>\n",
       "      <td>312042</td>\n",
       "    </tr>\n",
       "    <tr>\n",
       "      <th>29647</th>\n",
       "      <td>华北区域</td>\n",
       "      <td>1.0</td>\n",
       "      <td>北京市</td>\n",
       "      <td>312042</td>\n",
       "      <td>5.805422e+14</td>\n",
       "      <td>A</td>\n",
       "      <td>50.0</td>\n",
       "      <td>朝阳区</td>\n",
       "      <td>564730013950763</td>\n",
       "      <td>B</td>\n",
       "      <td>朝阳区</td>\n",
       "      <td>0.0</td>\n",
       "      <td>0.0</td>\n",
       "      <td>1</td>\n",
       "      <td>0.0</td>\n",
       "      <td>21.0</td>\n",
       "      <td>24.0</td>\n",
       "      <td>7.0</td>\n",
       "      <td>0.0</td>\n",
       "      <td>14.0</td>\n",
       "      <td>20.0</td>\n",
       "      <td>15.0</td>\n",
       "      <td>0.0</td>\n",
       "      <td>0.0</td>\n",
       "      <td>0.0</td>\n",
       "      <td>1</td>\n",
       "      <td>0.0</td>\n",
       "      <td>8.0</td>\n",
       "      <td>6.0</td>\n",
       "      <td>4.0</td>\n",
       "      <td>0.0</td>\n",
       "      <td>10.0</td>\n",
       "      <td>0.0</td>\n",
       "      <td>0.0</td>\n",
       "      <td>NaN</td>\n",
       "      <td>312042</td>\n",
       "    </tr>\n",
       "    <tr>\n",
       "      <th>29020</th>\n",
       "      <td>华北区域</td>\n",
       "      <td>1.0</td>\n",
       "      <td>北京市</td>\n",
       "      <td>312042</td>\n",
       "      <td>5.805422e+14</td>\n",
       "      <td>A</td>\n",
       "      <td>50.0</td>\n",
       "      <td>朝阳区</td>\n",
       "      <td>580542339672631</td>\n",
       "      <td>B</td>\n",
       "      <td>朝阳区</td>\n",
       "      <td>0.0</td>\n",
       "      <td>0.0</td>\n",
       "      <td>1</td>\n",
       "      <td>0.0</td>\n",
       "      <td>21.0</td>\n",
       "      <td>24.0</td>\n",
       "      <td>7.0</td>\n",
       "      <td>0.0</td>\n",
       "      <td>14.0</td>\n",
       "      <td>20.0</td>\n",
       "      <td>15.0</td>\n",
       "      <td>0.0</td>\n",
       "      <td>0.0</td>\n",
       "      <td>0.0</td>\n",
       "      <td>1</td>\n",
       "      <td>0.0</td>\n",
       "      <td>8.0</td>\n",
       "      <td>6.0</td>\n",
       "      <td>4.0</td>\n",
       "      <td>0.0</td>\n",
       "      <td>10.0</td>\n",
       "      <td>0.0</td>\n",
       "      <td>0.0</td>\n",
       "      <td>NaN</td>\n",
       "      <td>312042</td>\n",
       "    </tr>\n",
       "    <tr>\n",
       "      <th>29584</th>\n",
       "      <td>华北区域</td>\n",
       "      <td>1.0</td>\n",
       "      <td>北京市</td>\n",
       "      <td>312042</td>\n",
       "      <td>5.805422e+14</td>\n",
       "      <td>A</td>\n",
       "      <td>50.0</td>\n",
       "      <td>朝阳区</td>\n",
       "      <td>563790891130882</td>\n",
       "      <td>C</td>\n",
       "      <td>朝阳区</td>\n",
       "      <td>0.0</td>\n",
       "      <td>0.0</td>\n",
       "      <td>1</td>\n",
       "      <td>0.0</td>\n",
       "      <td>21.0</td>\n",
       "      <td>24.0</td>\n",
       "      <td>7.0</td>\n",
       "      <td>0.0</td>\n",
       "      <td>14.0</td>\n",
       "      <td>20.0</td>\n",
       "      <td>15.0</td>\n",
       "      <td>0.0</td>\n",
       "      <td>0.0</td>\n",
       "      <td>0.0</td>\n",
       "      <td>1</td>\n",
       "      <td>0.0</td>\n",
       "      <td>8.0</td>\n",
       "      <td>6.0</td>\n",
       "      <td>4.0</td>\n",
       "      <td>0.0</td>\n",
       "      <td>10.0</td>\n",
       "      <td>0.0</td>\n",
       "      <td>0.0</td>\n",
       "      <td>NaN</td>\n",
       "      <td>312042</td>\n",
       "    </tr>\n",
       "    <tr>\n",
       "      <th>29678</th>\n",
       "      <td>华北区域</td>\n",
       "      <td>1.0</td>\n",
       "      <td>北京市</td>\n",
       "      <td>312042</td>\n",
       "      <td>5.805422e+14</td>\n",
       "      <td>A</td>\n",
       "      <td>50.0</td>\n",
       "      <td>朝阳区</td>\n",
       "      <td>563456573964290</td>\n",
       "      <td>B+</td>\n",
       "      <td>朝阳区</td>\n",
       "      <td>0.0</td>\n",
       "      <td>0.0</td>\n",
       "      <td>1</td>\n",
       "      <td>0.0</td>\n",
       "      <td>21.0</td>\n",
       "      <td>24.0</td>\n",
       "      <td>7.0</td>\n",
       "      <td>0.0</td>\n",
       "      <td>14.0</td>\n",
       "      <td>20.0</td>\n",
       "      <td>15.0</td>\n",
       "      <td>0.0</td>\n",
       "      <td>0.0</td>\n",
       "      <td>0.0</td>\n",
       "      <td>1</td>\n",
       "      <td>0.0</td>\n",
       "      <td>8.0</td>\n",
       "      <td>6.0</td>\n",
       "      <td>4.0</td>\n",
       "      <td>0.0</td>\n",
       "      <td>10.0</td>\n",
       "      <td>0.0</td>\n",
       "      <td>0.0</td>\n",
       "      <td>NaN</td>\n",
       "      <td>312042</td>\n",
       "    </tr>\n",
       "    <tr>\n",
       "      <th>29676</th>\n",
       "      <td>华北区域</td>\n",
       "      <td>1.0</td>\n",
       "      <td>北京市</td>\n",
       "      <td>312042</td>\n",
       "      <td>5.805422e+14</td>\n",
       "      <td>A</td>\n",
       "      <td>50.0</td>\n",
       "      <td>朝阳区</td>\n",
       "      <td>563216107245569</td>\n",
       "      <td>B</td>\n",
       "      <td>朝阳区</td>\n",
       "      <td>0.0</td>\n",
       "      <td>0.0</td>\n",
       "      <td>1</td>\n",
       "      <td>0.0</td>\n",
       "      <td>21.0</td>\n",
       "      <td>24.0</td>\n",
       "      <td>7.0</td>\n",
       "      <td>0.0</td>\n",
       "      <td>14.0</td>\n",
       "      <td>20.0</td>\n",
       "      <td>15.0</td>\n",
       "      <td>0.0</td>\n",
       "      <td>0.0</td>\n",
       "      <td>0.0</td>\n",
       "      <td>1</td>\n",
       "      <td>0.0</td>\n",
       "      <td>8.0</td>\n",
       "      <td>6.0</td>\n",
       "      <td>4.0</td>\n",
       "      <td>0.0</td>\n",
       "      <td>10.0</td>\n",
       "      <td>0.0</td>\n",
       "      <td>0.0</td>\n",
       "      <td>NaN</td>\n",
       "      <td>312042</td>\n",
       "    </tr>\n",
       "    <tr>\n",
       "      <th>29084</th>\n",
       "      <td>华北区域</td>\n",
       "      <td>1.0</td>\n",
       "      <td>北京市</td>\n",
       "      <td>312042</td>\n",
       "      <td>5.805422e+14</td>\n",
       "      <td>A</td>\n",
       "      <td>50.0</td>\n",
       "      <td>朝阳区</td>\n",
       "      <td>563079118065668</td>\n",
       "      <td>B</td>\n",
       "      <td>朝阳区</td>\n",
       "      <td>0.0</td>\n",
       "      <td>0.0</td>\n",
       "      <td>1</td>\n",
       "      <td>0.0</td>\n",
       "      <td>21.0</td>\n",
       "      <td>24.0</td>\n",
       "      <td>7.0</td>\n",
       "      <td>0.0</td>\n",
       "      <td>14.0</td>\n",
       "      <td>20.0</td>\n",
       "      <td>15.0</td>\n",
       "      <td>0.0</td>\n",
       "      <td>0.0</td>\n",
       "      <td>0.0</td>\n",
       "      <td>1</td>\n",
       "      <td>0.0</td>\n",
       "      <td>8.0</td>\n",
       "      <td>6.0</td>\n",
       "      <td>4.0</td>\n",
       "      <td>0.0</td>\n",
       "      <td>10.0</td>\n",
       "      <td>0.0</td>\n",
       "      <td>0.0</td>\n",
       "      <td>NaN</td>\n",
       "      <td>312042</td>\n",
       "    </tr>\n",
       "    <tr>\n",
       "      <th>2</th>\n",
       "      <td>NaN</td>\n",
       "      <td>NaN</td>\n",
       "      <td>NaN</td>\n",
       "      <td>312042</td>\n",
       "      <td>NaN</td>\n",
       "      <td>NaN</td>\n",
       "      <td>NaN</td>\n",
       "      <td>NaN</td>\n",
       "      <td>580546275940025</td>\n",
       "      <td>B+</td>\n",
       "      <td>朝阳区</td>\n",
       "      <td>NaN</td>\n",
       "      <td>NaN</td>\n",
       "      <td>1</td>\n",
       "      <td>NaN</td>\n",
       "      <td>NaN</td>\n",
       "      <td>NaN</td>\n",
       "      <td>NaN</td>\n",
       "      <td>NaN</td>\n",
       "      <td>NaN</td>\n",
       "      <td>NaN</td>\n",
       "      <td>NaN</td>\n",
       "      <td>NaN</td>\n",
       "      <td>NaN</td>\n",
       "      <td>NaN</td>\n",
       "      <td>1</td>\n",
       "      <td>NaN</td>\n",
       "      <td>NaN</td>\n",
       "      <td>NaN</td>\n",
       "      <td>NaN</td>\n",
       "      <td>NaN</td>\n",
       "      <td>NaN</td>\n",
       "      <td>NaN</td>\n",
       "      <td>NaN</td>\n",
       "      <td>0.0</td>\n",
       "      <td>312042</td>\n",
       "    </tr>\n",
       "    <tr>\n",
       "      <th>4</th>\n",
       "      <td>NaN</td>\n",
       "      <td>NaN</td>\n",
       "      <td>NaN</td>\n",
       "      <td>312042</td>\n",
       "      <td>NaN</td>\n",
       "      <td>NaN</td>\n",
       "      <td>NaN</td>\n",
       "      <td>NaN</td>\n",
       "      <td>566101595719220</td>\n",
       "      <td>B+</td>\n",
       "      <td>朝阳区</td>\n",
       "      <td>NaN</td>\n",
       "      <td>NaN</td>\n",
       "      <td>1</td>\n",
       "      <td>NaN</td>\n",
       "      <td>NaN</td>\n",
       "      <td>NaN</td>\n",
       "      <td>NaN</td>\n",
       "      <td>NaN</td>\n",
       "      <td>NaN</td>\n",
       "      <td>NaN</td>\n",
       "      <td>NaN</td>\n",
       "      <td>NaN</td>\n",
       "      <td>NaN</td>\n",
       "      <td>NaN</td>\n",
       "      <td>1</td>\n",
       "      <td>NaN</td>\n",
       "      <td>NaN</td>\n",
       "      <td>NaN</td>\n",
       "      <td>NaN</td>\n",
       "      <td>NaN</td>\n",
       "      <td>NaN</td>\n",
       "      <td>NaN</td>\n",
       "      <td>NaN</td>\n",
       "      <td>0.0</td>\n",
       "      <td>312042</td>\n",
       "    </tr>\n",
       "    <tr>\n",
       "      <th>24</th>\n",
       "      <td>NaN</td>\n",
       "      <td>NaN</td>\n",
       "      <td>NaN</td>\n",
       "      <td>312042</td>\n",
       "      <td>NaN</td>\n",
       "      <td>NaN</td>\n",
       "      <td>NaN</td>\n",
       "      <td>NaN</td>\n",
       "      <td>563168282411010</td>\n",
       "      <td>B+</td>\n",
       "      <td>朝阳区</td>\n",
       "      <td>NaN</td>\n",
       "      <td>NaN</td>\n",
       "      <td>1</td>\n",
       "      <td>NaN</td>\n",
       "      <td>NaN</td>\n",
       "      <td>NaN</td>\n",
       "      <td>NaN</td>\n",
       "      <td>NaN</td>\n",
       "      <td>NaN</td>\n",
       "      <td>NaN</td>\n",
       "      <td>NaN</td>\n",
       "      <td>NaN</td>\n",
       "      <td>NaN</td>\n",
       "      <td>NaN</td>\n",
       "      <td>1</td>\n",
       "      <td>NaN</td>\n",
       "      <td>NaN</td>\n",
       "      <td>NaN</td>\n",
       "      <td>NaN</td>\n",
       "      <td>NaN</td>\n",
       "      <td>NaN</td>\n",
       "      <td>NaN</td>\n",
       "      <td>NaN</td>\n",
       "      <td>0.0</td>\n",
       "      <td>312042</td>\n",
       "    </tr>\n",
       "    <tr>\n",
       "      <th>27</th>\n",
       "      <td>NaN</td>\n",
       "      <td>NaN</td>\n",
       "      <td>NaN</td>\n",
       "      <td>312042</td>\n",
       "      <td>NaN</td>\n",
       "      <td>NaN</td>\n",
       "      <td>NaN</td>\n",
       "      <td>NaN</td>\n",
       "      <td>598134340265665</td>\n",
       "      <td>B+</td>\n",
       "      <td>朝阳区</td>\n",
       "      <td>NaN</td>\n",
       "      <td>NaN</td>\n",
       "      <td>1</td>\n",
       "      <td>NaN</td>\n",
       "      <td>NaN</td>\n",
       "      <td>NaN</td>\n",
       "      <td>NaN</td>\n",
       "      <td>NaN</td>\n",
       "      <td>NaN</td>\n",
       "      <td>NaN</td>\n",
       "      <td>NaN</td>\n",
       "      <td>NaN</td>\n",
       "      <td>NaN</td>\n",
       "      <td>NaN</td>\n",
       "      <td>1</td>\n",
       "      <td>NaN</td>\n",
       "      <td>NaN</td>\n",
       "      <td>NaN</td>\n",
       "      <td>NaN</td>\n",
       "      <td>NaN</td>\n",
       "      <td>NaN</td>\n",
       "      <td>NaN</td>\n",
       "      <td>NaN</td>\n",
       "      <td>0.0</td>\n",
       "      <td>312042</td>\n",
       "    </tr>\n",
       "    <tr>\n",
       "      <th>28</th>\n",
       "      <td>NaN</td>\n",
       "      <td>NaN</td>\n",
       "      <td>NaN</td>\n",
       "      <td>312042</td>\n",
       "      <td>NaN</td>\n",
       "      <td>NaN</td>\n",
       "      <td>NaN</td>\n",
       "      <td>NaN</td>\n",
       "      <td>566028318418519</td>\n",
       "      <td>B+</td>\n",
       "      <td>朝阳区</td>\n",
       "      <td>NaN</td>\n",
       "      <td>NaN</td>\n",
       "      <td>1</td>\n",
       "      <td>NaN</td>\n",
       "      <td>NaN</td>\n",
       "      <td>NaN</td>\n",
       "      <td>NaN</td>\n",
       "      <td>NaN</td>\n",
       "      <td>NaN</td>\n",
       "      <td>NaN</td>\n",
       "      <td>NaN</td>\n",
       "      <td>NaN</td>\n",
       "      <td>NaN</td>\n",
       "      <td>NaN</td>\n",
       "      <td>1</td>\n",
       "      <td>NaN</td>\n",
       "      <td>NaN</td>\n",
       "      <td>NaN</td>\n",
       "      <td>NaN</td>\n",
       "      <td>NaN</td>\n",
       "      <td>NaN</td>\n",
       "      <td>NaN</td>\n",
       "      <td>NaN</td>\n",
       "      <td>0.0</td>\n",
       "      <td>312042</td>\n",
       "    </tr>\n",
       "    <tr>\n",
       "      <th>27</th>\n",
       "      <td>NaN</td>\n",
       "      <td>NaN</td>\n",
       "      <td>NaN</td>\n",
       "      <td>312042</td>\n",
       "      <td>NaN</td>\n",
       "      <td>NaN</td>\n",
       "      <td>NaN</td>\n",
       "      <td>NaN</td>\n",
       "      <td>598134340265665</td>\n",
       "      <td>B+</td>\n",
       "      <td>朝阳区</td>\n",
       "      <td>NaN</td>\n",
       "      <td>NaN</td>\n",
       "      <td>1</td>\n",
       "      <td>NaN</td>\n",
       "      <td>NaN</td>\n",
       "      <td>NaN</td>\n",
       "      <td>NaN</td>\n",
       "      <td>NaN</td>\n",
       "      <td>NaN</td>\n",
       "      <td>NaN</td>\n",
       "      <td>NaN</td>\n",
       "      <td>NaN</td>\n",
       "      <td>NaN</td>\n",
       "      <td>NaN</td>\n",
       "      <td>1</td>\n",
       "      <td>NaN</td>\n",
       "      <td>NaN</td>\n",
       "      <td>NaN</td>\n",
       "      <td>NaN</td>\n",
       "      <td>NaN</td>\n",
       "      <td>NaN</td>\n",
       "      <td>NaN</td>\n",
       "      <td>NaN</td>\n",
       "      <td>0.0</td>\n",
       "      <td>312042</td>\n",
       "    </tr>\n",
       "    <tr>\n",
       "      <th>28</th>\n",
       "      <td>NaN</td>\n",
       "      <td>NaN</td>\n",
       "      <td>NaN</td>\n",
       "      <td>312042</td>\n",
       "      <td>NaN</td>\n",
       "      <td>NaN</td>\n",
       "      <td>NaN</td>\n",
       "      <td>NaN</td>\n",
       "      <td>566028318418519</td>\n",
       "      <td>B+</td>\n",
       "      <td>朝阳区</td>\n",
       "      <td>NaN</td>\n",
       "      <td>NaN</td>\n",
       "      <td>1</td>\n",
       "      <td>NaN</td>\n",
       "      <td>NaN</td>\n",
       "      <td>NaN</td>\n",
       "      <td>NaN</td>\n",
       "      <td>NaN</td>\n",
       "      <td>NaN</td>\n",
       "      <td>NaN</td>\n",
       "      <td>NaN</td>\n",
       "      <td>NaN</td>\n",
       "      <td>NaN</td>\n",
       "      <td>NaN</td>\n",
       "      <td>1</td>\n",
       "      <td>NaN</td>\n",
       "      <td>NaN</td>\n",
       "      <td>NaN</td>\n",
       "      <td>NaN</td>\n",
       "      <td>NaN</td>\n",
       "      <td>NaN</td>\n",
       "      <td>NaN</td>\n",
       "      <td>NaN</td>\n",
       "      <td>0.0</td>\n",
       "      <td>312042</td>\n",
       "    </tr>\n",
       "  </tbody>\n",
       "</table>\n",
       "</div>"
      ],
      "text/plain": [
       "         区域  城市id   城市    小队ID          队长id 队长等级  应带队人数 小队活跃区县  \\\n",
       "29049  华北区域   1.0  北京市  312042  5.805422e+14    A   50.0    朝阳区   \n",
       "29647  华北区域   1.0  北京市  312042  5.805422e+14    A   50.0    朝阳区   \n",
       "29020  华北区域   1.0  北京市  312042  5.805422e+14    A   50.0    朝阳区   \n",
       "29584  华北区域   1.0  北京市  312042  5.805422e+14    A   50.0    朝阳区   \n",
       "29678  华北区域   1.0  北京市  312042  5.805422e+14    A   50.0    朝阳区   \n",
       "29676  华北区域   1.0  北京市  312042  5.805422e+14    A   50.0    朝阳区   \n",
       "29084  华北区域   1.0  北京市  312042  5.805422e+14    A   50.0    朝阳区   \n",
       "2       NaN   NaN  NaN  312042           NaN  NaN    NaN    NaN   \n",
       "4       NaN   NaN  NaN  312042           NaN  NaN    NaN    NaN   \n",
       "24      NaN   NaN  NaN  312042           NaN  NaN    NaN    NaN   \n",
       "27      NaN   NaN  NaN  312042           NaN  NaN    NaN    NaN   \n",
       "28      NaN   NaN  NaN  312042           NaN  NaN    NaN    NaN   \n",
       "27      NaN   NaN  NaN  312042           NaN  NaN    NaN    NaN   \n",
       "28      NaN   NaN  NaN  312042           NaN  NaN    NaN    NaN   \n",
       "\n",
       "                  队员id 队员等级 队员活跃区县  A类区县内a  A类区县外b  非A类区县内c  非A类区县外d     a  \\\n",
       "29049  580544635091342    B    朝阳区     0.0     0.0        1      0.0  21.0   \n",
       "29647  564730013950763    B    朝阳区     0.0     0.0        1      0.0  21.0   \n",
       "29020  580542339672631    B    朝阳区     0.0     0.0        1      0.0  21.0   \n",
       "29584  563790891130882    C    朝阳区     0.0     0.0        1      0.0  21.0   \n",
       "29678  563456573964290   B+    朝阳区     0.0     0.0        1      0.0  21.0   \n",
       "29676  563216107245569    B    朝阳区     0.0     0.0        1      0.0  21.0   \n",
       "29084  563079118065668    B    朝阳区     0.0     0.0        1      0.0  21.0   \n",
       "2      580546275940025   B+    朝阳区     NaN     NaN        1      NaN   NaN   \n",
       "4      566101595719220   B+    朝阳区     NaN     NaN        1      NaN   NaN   \n",
       "24     563168282411010   B+    朝阳区     NaN     NaN        1      NaN   NaN   \n",
       "27     598134340265665   B+    朝阳区     NaN     NaN        1      NaN   NaN   \n",
       "28     566028318418519   B+    朝阳区     NaN     NaN        1      NaN   NaN   \n",
       "27     598134340265665   B+    朝阳区     NaN     NaN        1      NaN   NaN   \n",
       "28     566028318418519   B+    朝阳区     NaN     NaN        1      NaN   NaN   \n",
       "\n",
       "          b    c    d    a0    b0    c0   d0  待补充a人数  待补充b人数  待补充c人数  待补充d人数  \\\n",
       "29049  24.0  7.0  0.0  14.0  20.0  15.0  0.0     0.0     0.0       1     0.0   \n",
       "29647  24.0  7.0  0.0  14.0  20.0  15.0  0.0     0.0     0.0       1     0.0   \n",
       "29020  24.0  7.0  0.0  14.0  20.0  15.0  0.0     0.0     0.0       1     0.0   \n",
       "29584  24.0  7.0  0.0  14.0  20.0  15.0  0.0     0.0     0.0       1     0.0   \n",
       "29678  24.0  7.0  0.0  14.0  20.0  15.0  0.0     0.0     0.0       1     0.0   \n",
       "29676  24.0  7.0  0.0  14.0  20.0  15.0  0.0     0.0     0.0       1     0.0   \n",
       "29084  24.0  7.0  0.0  14.0  20.0  15.0  0.0     0.0     0.0       1     0.0   \n",
       "2       NaN  NaN  NaN   NaN   NaN   NaN  NaN     NaN     NaN       1     NaN   \n",
       "4       NaN  NaN  NaN   NaN   NaN   NaN  NaN     NaN     NaN       1     NaN   \n",
       "24      NaN  NaN  NaN   NaN   NaN   NaN  NaN     NaN     NaN       1     NaN   \n",
       "27      NaN  NaN  NaN   NaN   NaN   NaN  NaN     NaN     NaN       1     NaN   \n",
       "28      NaN  NaN  NaN   NaN   NaN   NaN  NaN     NaN     NaN       1     NaN   \n",
       "27      NaN  NaN  NaN   NaN   NaN   NaN  NaN     NaN     NaN       1     NaN   \n",
       "28      NaN  NaN  NaN   NaN   NaN   NaN  NaN     NaN     NaN       1     NaN   \n",
       "\n",
       "       总待补充人数  待剔除a人数  待剔除b人数  待剔除c人数  总待剔除人数  是否补充完  是否剔除完  重新定级  组队后小队id  \n",
       "29049     8.0     6.0     4.0     0.0    10.0    0.0    0.0   NaN   312042  \n",
       "29647     8.0     6.0     4.0     0.0    10.0    0.0    0.0   NaN   312042  \n",
       "29020     8.0     6.0     4.0     0.0    10.0    0.0    0.0   NaN   312042  \n",
       "29584     8.0     6.0     4.0     0.0    10.0    0.0    0.0   NaN   312042  \n",
       "29678     8.0     6.0     4.0     0.0    10.0    0.0    0.0   NaN   312042  \n",
       "29676     8.0     6.0     4.0     0.0    10.0    0.0    0.0   NaN   312042  \n",
       "29084     8.0     6.0     4.0     0.0    10.0    0.0    0.0   NaN   312042  \n",
       "2         NaN     NaN     NaN     NaN     NaN    NaN    NaN   0.0   312042  \n",
       "4         NaN     NaN     NaN     NaN     NaN    NaN    NaN   0.0   312042  \n",
       "24        NaN     NaN     NaN     NaN     NaN    NaN    NaN   0.0   312042  \n",
       "27        NaN     NaN     NaN     NaN     NaN    NaN    NaN   0.0   312042  \n",
       "28        NaN     NaN     NaN     NaN     NaN    NaN    NaN   0.0   312042  \n",
       "27        NaN     NaN     NaN     NaN     NaN    NaN    NaN   0.0   312042  \n",
       "28        NaN     NaN     NaN     NaN     NaN    NaN    NaN   0.0   312042  "
      ]
     },
     "execution_count": 204,
     "metadata": {},
     "output_type": "execute_result"
    }
   ],
   "source": [
    "driver_c_new1"
   ]
  },
  {
   "cell_type": "code",
   "execution_count": 106,
   "id": "78054969",
   "metadata": {
    "ExecuteTime": {
     "end_time": "2021-12-20T08:40:05.648488Z",
     "start_time": "2021-12-20T08:40:05.644498Z"
    }
   },
   "outputs": [
    {
     "data": {
      "text/plain": [
       "(26148, 34)"
      ]
     },
     "execution_count": 106,
     "metadata": {},
     "output_type": "execute_result"
    }
   ],
   "source": [
    "df_tc_sea.shape"
   ]
  },
  {
   "cell_type": "code",
   "execution_count": 95,
   "id": "5cb80592",
   "metadata": {
    "ExecuteTime": {
     "end_time": "2021-12-20T08:36:24.320432Z",
     "start_time": "2021-12-20T08:36:24.315410Z"
    }
   },
   "outputs": [
    {
     "data": {
      "text/plain": [
       "(26148, 34)"
      ]
     },
     "execution_count": 95,
     "metadata": {},
     "output_type": "execute_result"
    }
   ],
   "source": [
    "df_tc_sea.shape"
   ]
  },
  {
   "cell_type": "code",
   "execution_count": 107,
   "id": "5c6350c8",
   "metadata": {
    "ExecuteTime": {
     "end_time": "2021-12-20T08:40:08.512113Z",
     "start_time": "2021-12-20T08:40:08.507127Z"
    }
   },
   "outputs": [
    {
     "data": {
      "text/plain": [
       "0"
      ]
     },
     "execution_count": 107,
     "metadata": {},
     "output_type": "execute_result"
    }
   ],
   "source": [
    "df_tc_sea_target.shape[0]"
   ]
  },
  {
   "cell_type": "code",
   "execution_count": 71,
   "id": "5fea2560",
   "metadata": {
    "ExecuteTime": {
     "end_time": "2021-12-17T04:02:41.967707Z",
     "start_time": "2021-12-17T04:02:41.927806Z"
    },
    "scrolled": true
   },
   "outputs": [
    {
     "data": {
      "text/plain": [
       "'\\n            # if 剔除的人里能找到\\n            # else 去不需要剔除的人里找\\n    \\n'"
      ]
     },
     "execution_count": 71,
     "metadata": {},
     "output_type": "execute_result"
    }
   ],
   "source": [
    "#公海里匹配c类司机\n",
    "num_c = group[\"待补充c人数\"].value\n",
    "driver_c = df_all.query('小队ID == @group_id and 非A类区县内c == 1')\n",
    "\n",
    "df_sea_target = df_sea.query('队员活跃区县 == @city and 队员等级 != \"A\"')\n",
    "num_target = num_c - df_sea_target.shape[0] \n",
    "log_c.append('{}: 需要补充{}名, 公海里找到{}名'.format(group_id, num_c, df_sea_target.shape[0]))\n",
    "if num_target <= 0:  # 如果在公海里能找到人\n",
    "    \n",
    "    sea_c = df_sea_target.sample(num_c)  # 从公海取出需要的司机\n",
    "    sea_c = sea_c.assign( 小队ID=[group_id]*len(sea_c), 非A类区县内c=[1]*len(sea_c) )  # 取出的司机插入新的列\n",
    "    log_c.append('{}: 补充前公海有{}人'.format(group_id, df_sea.shape[0]))\n",
    "    \n",
    "    df_sea = pd.concat([df_sea, sea_c], axis=0).drop_duplicates(subset=['队员id'], keep=False)  # 删除公海里取的司机\n",
    "    log_c.append('{}: 补充后公海有{}人'.format(group_id, df_sea.shape[0]))\n",
    "    \n",
    "    # 加入补充的司机\n",
    "    driver_c_new = pd.concat([driver_c, sea_c])\n",
    "    num_c = max(num_c - len(sea_c), 0)        # 更改补充人数 num_c  # 取max便于测试用\n",
    "    driver_c_new.loc[:, '待补充c人数'] = num_c   # 更新类别的待补充人数\n",
    "    driver_c_new.loc[:, '是否补充完'] = 1\n",
    "    c_lt.append(group_id)\n",
    "    \n",
    "    log_c.append('公海里能补充完，{}: 现有c类司机{}名, 补充c类司机后:{}名'.format(group_id, driver_c.shape[0], driver_c_new.shape[0]))\n",
    "\n",
    "elif num_target > 0 :\n",
    "    ## 1、先补充公海里能补充的人\n",
    "    sea_c = df_sea_target  # 从公海取出需要的司机\n",
    "    sea_c = sea_c.assign( 小队ID=[group_id]*len(sea_c), 非A类区县内c=[1]*len(sea_c) )  # 取出的司机插入新的列\n",
    "    log_c.append('{}: 补充前公海有{}人'.format(group_id, df_sea.shape[0]))\n",
    "    df_sea = pd.concat([df_sea, sea_c], axis=0).drop_duplicates(subset=['队员id'], keep=False)  # 删除公海里取的司机\n",
    "    log_c.append('{}: 补充后公海有{}人'.format(group_id, df_sea.shape[0]))\n",
    "    \n",
    "    # 加入补充的司机\n",
    "    driver_c_new = pd.concat([driver_c, sea_c])\n",
    "    num_c1 = max(num_c - len(sea_c), 0)        # 从公海补充之后，更改补充人数 num_c1  # 取max便于测试用\n",
    "    driver_c_new.loc[:, '待补充c人数'] = num_c   # 更新待补充人数\n",
    "    \n",
    "    log_c.append('公海里不能补充完-从公海里补充，{0}: 原有c类司机{1}名, 需要补充c类司机{2}名, 补充c类司机后:{3}名'.format(group_id, driver_c.shape[0], num_c, driver_c_new.shape[0]))  \n",
    "    \n",
    "    ## 2、然后从剔除人数大于0的小队补充\n",
    "    df_tc_sea_target = df_tc_sea.query('队员活跃区县 == @city and 队员等级 != \"A\"')\n",
    "    num_target2 = num_c1 - df_tc_sea_target[0]\n",
    "    log_c.append('{}: 需要补充{}名, 待剔除司机里找到{}名'.format(group_id, num_c1, df_tc_sea_target.shape[0]))\n",
    "    \n",
    "    if num_target2 <= 0:  # 从待剔除司机里能补充完\n",
    "         sea_c = df_sea_target.sample(num_c)  # 从公海取出需要的司机\n",
    "        sea_c = sea_c.assign( 小队ID=[group_id]*len(sea_c), 非A类区县内c=[1]*len(sea_c) )  # 取出的司机插入新的列\n",
    "        log_c.append('{}: 补充前公海有{}人'.format(group_id, df_sea.shape[0]))\n",
    "    \n",
    "        df_sea = pd.concat([df_sea, sea_c], axis=0).drop_duplicates(subset=['队员id'], keep=False)  # 删除公海里取的司机\n",
    "        log_c.append('{}: 补充后公海有{}人'.format(group_id, df_sea.shape[0]))\n",
    "    \n",
    "        # 加入补充的司机\n",
    "        driver_c_new = pd.concat([driver_c, sea_c])\n",
    "        num_c = max(num_c - len(sea_c), 0)        # 更改补充人数 num_c  # 取max便于测试用\n",
    "        driver_c_new.loc[:, '待补充c人数'] = num_c   # 更新类别的待补充人数\n",
    "        driver_c_new.loc[:, '是否补充完'] = 1\n",
    "        c_lt.append(group_id)\n",
    "    \n",
    "    log_c.append('公海里能补充完，{}: 现有c类司机{}名, 补充c类司机后:{}名'.format(group_id, driver_c.shape[0], driver_c_new.shape[0]))\n",
    "\n",
    "        \n",
    "    \n",
    "    ## 3、仍然补充不完，则从剔除人数=0的小队补充\n",
    "    \n",
    "        \n",
    "    #else:\n",
    "    print('暂不处理')\n",
    "        # 先不处理复杂的情况，简单处理一下\n",
    "        # bc_from_tc()\n",
    "        # 去剔除的人里找\n",
    "'''\n",
    "            # if 剔除的人里能找到\n",
    "            # else 去不需要剔除的人里找\n",
    "    \n",
    "'''\n",
    "    # 最后生成小队内新的司机表  driver_c\n",
    "df_bc_ok = pd.concat([df_bc_ok, driver_c_new])\n",
    "\n",
    "# log_c.clear()\n",
    "log_c"
   ]
  },
  {
   "cell_type": "code",
   "execution_count": null,
   "id": "acce12d7",
   "metadata": {},
   "outputs": [],
   "source": [
    "    #待补充人数最少的小队表\n",
    "    '''\n",
    "    df7 = df1[df1['小队ID'].isin([index])]\n",
    "    for i in dfa1.shape(0):\n",
    "        if (dfa1[i-1:i][\"队员活跃区县\"] == group[\"小队活跃区县\"] and dfa1[i-1:i][\"队员等级\"]==\"A\"):\n",
    "            dfa1[i-1:i][\"重新定级\"]=1\n",
    "        elif (dfa1[i-1:i][\"队员活跃区县\"]!=group[\"小队活跃区县\"] and dfa1[i-1:i][\"队员等级\"]==\"A\"):\n",
    "            dfa1[i-1,i][\"重新定级\"]=2\n",
    "        elif (dfa1[i-1:i][\"队员活跃区县\"]==group[\"小队活跃区县\"] and dfa1[i-1:i][\"队员等级\"]!=\"A\"):\n",
    "            dfa1[i-1:i][\"重新定级\"]=3\n",
    "        else:\n",
    "            dfa1[i-1:i][\"重新定级\"] = 0\n",
    "            #公海中的a,b,c司机\n",
    "            dfaa=dfa1[dfa1['重新定级'].isin([1])]\n",
    "            dfab=dfa1[dfa1['重新定级'].isin([2])]\n",
    "            dfac=dfa1[dfa1['重新定级'].isin([3])]\n",
    "            '''\n",
    "\n",
    "\n",
    "\n",
    "   "
   ]
  },
  {
   "cell_type": "code",
   "execution_count": null,
   "id": "5acabade",
   "metadata": {},
   "outputs": [],
   "source": [
    "#判断待补充小队的司机是否可以全部从公海提取\n",
    "#if dfa2的行>=a，则可以补充dfa2中的a行进待补充小队\n",
    "#if dfa2的行<a,则将dfa2剩余的所有行补充进待补充小队，从待剔除人数最多的小队中抽取a-已从公海补充的司机数补充进待补充小队。\n",
    "\n",
    "#if dfa2的行>=b，则可以补充dfa2中的b行进待补充小队\n",
    "#if dfa2的行<b,则将dfa2剩余的所有行补充进待补充小队，从待剔除人数最多的小队中抽取b-已从公海补充的司机数补充进待补充小队。\n",
    "\n",
    "#if dfa2的行>=c，则可以补充dfa2中的c行进待补充小队\n",
    "#if dfa2的行<c,则将dfa2剩余的所有行补充进待补充小队，从待剔除人数最多的小队中抽取c-已从公海补充的司机数补充进待补充小队。\n",
    "\n",
    "#选择补充进待补充小队的司机\n",
    "dfa5=dfa2[0:a]\n",
    "dfa6=dfa3[0:b]\n",
    "dfa7=dfa4[0:c]\n",
    "\n",
    "#判断待剔除人数的小队队员的重新定级\n",
    "\n",
    "\n",
    "\n",
    "#选好的司机补充进待补充小队\n",
    "\n",
    "    "
   ]
  }
 ],
 "metadata": {
  "kernelspec": {
   "display_name": "Python 3",
   "language": "python",
   "name": "python3"
  },
  "language_info": {
   "codemirror_mode": {
    "name": "ipython",
    "version": 3
   },
   "file_extension": ".py",
   "mimetype": "text/x-python",
   "name": "python",
   "nbconvert_exporter": "python",
   "pygments_lexer": "ipython3",
   "version": "3.8.8"
  },
  "toc": {
   "base_numbering": 1,
   "nav_menu": {},
   "number_sections": true,
   "sideBar": true,
   "skip_h1_title": false,
   "title_cell": "Table of Contents",
   "title_sidebar": "Contents",
   "toc_cell": false,
   "toc_position": {
    "height": "calc(100% - 180px)",
    "left": "10px",
    "top": "150px",
    "width": "320px"
   },
   "toc_section_display": true,
   "toc_window_display": true
  }
 },
 "nbformat": 4,
 "nbformat_minor": 5
}
