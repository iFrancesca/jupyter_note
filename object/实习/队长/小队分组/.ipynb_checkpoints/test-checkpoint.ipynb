{
 "cells": [
  {
   "cell_type": "code",
   "execution_count": 1,
   "metadata": {
    "ExecuteTime": {
     "end_time": "2021-12-29T01:57:12.545168Z",
     "start_time": "2021-12-29T01:57:11.655451Z"
    }
   },
   "outputs": [],
   "source": [
    "import time\n",
    "import shutil\n",
    "import pandas as pd\n",
    "import numpy as np\n",
    "from datetime import datetime\n",
    "from openpyxl import load_workbook\n",
    "from openpyxl import Workbook\n",
    "from openpyxl.utils.dataframe import dataframe_to_rows\n",
    "import re\n",
    "import pandas as pd\n",
    "import numpy as np\n",
    "\n",
    "from IPython.core.interactiveshell import InteractiveShell\n",
    "\n",
    "InteractiveShell.ast_node_interactivity = \"all\"\n",
    "\n",
    "pd.set_option(\"display.max_columns\", None)  # 可以看到全部列\n",
    "pd.set_option('display.max_rows', None)"
   ]
  },
  {
   "cell_type": "code",
   "execution_count": 2,
   "metadata": {
    "ExecuteTime": {
     "end_time": "2021-12-29T01:57:12.560508Z",
     "start_time": "2021-12-29T01:57:12.547027Z"
    }
   },
   "outputs": [
    {
     "name": "stdout",
     "output_type": "stream",
     "text": [
      "d:\\base\\jupyter\\object\\实习\\队长\\小队分组\n"
     ]
    },
    {
     "data": {
      "text/plain": [
       "'d:\\\\base\\\\jupyter\\\\object\\\\实习\\\\队长\\\\小队分组\\\\data'"
      ]
     },
     "execution_count": 2,
     "metadata": {},
     "output_type": "execute_result"
    }
   ],
   "source": [
    "import os\n",
    "print(os.getcwd())  #当前路径\n",
    "\n",
    "#更改当前路径\n",
    "os.chdir('data\\\\')  # 当前目录的子目录\n",
    "os.getcwd()"
   ]
  },
  {
   "cell_type": "markdown",
   "metadata": {},
   "source": [
    "## 读取原数据"
   ]
  },
  {
   "cell_type": "code",
   "execution_count": 3,
   "metadata": {
    "ExecuteTime": {
     "end_time": "2021-12-29T01:57:15.451464Z",
     "start_time": "2021-12-29T01:57:12.562512Z"
    }
   },
   "outputs": [
    {
     "name": "stdout",
     "output_type": "stream",
     "text": [
      "csv文件【单元格格式】设置为数值,保留零位小数: \n"
     ]
    },
    {
     "data": {
      "text/plain": [
       "''"
      ]
     },
     "execution_count": 3,
     "metadata": {},
     "output_type": "execute_result"
    }
   ],
   "source": [
    "input('csv文件【单元格格式】设置为数值,保留零位小数: ')"
   ]
  },
  {
   "cell_type": "code",
   "execution_count": 4,
   "metadata": {
    "ExecuteTime": {
     "end_time": "2021-12-29T01:57:16.626182Z",
     "start_time": "2021-12-29T01:57:15.454869Z"
    }
   },
   "outputs": [
    {
     "name": "stdout",
     "output_type": "stream",
     "text": [
      "队员id、、、【显示全部】: \n"
     ]
    },
    {
     "data": {
      "text/plain": [
       "''"
      ]
     },
     "execution_count": 4,
     "metadata": {},
     "output_type": "execute_result"
    }
   ],
   "source": [
    "input('队员id、、、【显示全部】: ')"
   ]
  },
  {
   "cell_type": "code",
   "execution_count": 5,
   "metadata": {
    "ExecuteTime": {
     "end_time": "2021-12-29T01:57:16.891242Z",
     "start_time": "2021-12-29T01:57:16.628785Z"
    }
   },
   "outputs": [
    {
     "ename": "OSError",
     "evalue": "Initializing from file failed",
     "output_type": "error",
     "traceback": [
      "\u001b[1;31m---------------------------------------------------------------------------\u001b[0m",
      "\u001b[1;31mOSError\u001b[0m                                   Traceback (most recent call last)",
      "\u001b[1;32m<ipython-input-5-988f24311150>\u001b[0m in \u001b[0;36m<module>\u001b[1;34m\u001b[0m\n\u001b[1;32m----> 1\u001b[1;33m \u001b[0mdf_all\u001b[0m \u001b[1;33m=\u001b[0m \u001b[0mpd\u001b[0m\u001b[1;33m.\u001b[0m\u001b[0mread_csv\u001b[0m\u001b[1;33m(\u001b[0m\u001b[1;34m\"存量小队.csv\"\u001b[0m\u001b[1;33m,\u001b[0m \u001b[0mencoding\u001b[0m\u001b[1;33m=\u001b[0m\u001b[1;34m'gbk'\u001b[0m\u001b[1;33m)\u001b[0m    \u001b[1;31m# excel文件，数据格式出现改变  # csv文件单元格格式设置为数值,保留零位小数\u001b[0m\u001b[1;33m\u001b[0m\u001b[0m\n\u001b[0m\u001b[0;32m      2\u001b[0m \u001b[0mdf_sea\u001b[0m \u001b[1;33m=\u001b[0m \u001b[0mpd\u001b[0m\u001b[1;33m.\u001b[0m\u001b[0mread_excel\u001b[0m\u001b[1;33m(\u001b[0m\u001b[1;34m\"公海司机.xlsx\"\u001b[0m\u001b[1;33m)\u001b[0m\u001b[1;33m\u001b[0m\u001b[0m\n",
      "\u001b[1;32mD:\\programs\\code\\Anaconda3\\lib\\site-packages\\pandas\\io\\parsers.py\u001b[0m in \u001b[0;36mparser_f\u001b[1;34m(filepath_or_buffer, sep, delimiter, header, names, index_col, usecols, squeeze, prefix, mangle_dupe_cols, dtype, engine, converters, true_values, false_values, skipinitialspace, skiprows, nrows, na_values, keep_default_na, na_filter, verbose, skip_blank_lines, parse_dates, infer_datetime_format, keep_date_col, date_parser, dayfirst, iterator, chunksize, compression, thousands, decimal, lineterminator, quotechar, quoting, escapechar, comment, encoding, dialect, tupleize_cols, error_bad_lines, warn_bad_lines, skipfooter, doublequote, delim_whitespace, low_memory, memory_map, float_precision)\u001b[0m\n\u001b[0;32m    676\u001b[0m                     skip_blank_lines=skip_blank_lines)\n\u001b[0;32m    677\u001b[0m \u001b[1;33m\u001b[0m\u001b[0m\n\u001b[1;32m--> 678\u001b[1;33m         \u001b[1;32mreturn\u001b[0m \u001b[0m_read\u001b[0m\u001b[1;33m(\u001b[0m\u001b[0mfilepath_or_buffer\u001b[0m\u001b[1;33m,\u001b[0m \u001b[0mkwds\u001b[0m\u001b[1;33m)\u001b[0m\u001b[1;33m\u001b[0m\u001b[0m\n\u001b[0m\u001b[0;32m    679\u001b[0m \u001b[1;33m\u001b[0m\u001b[0m\n\u001b[0;32m    680\u001b[0m     \u001b[0mparser_f\u001b[0m\u001b[1;33m.\u001b[0m\u001b[0m__name__\u001b[0m \u001b[1;33m=\u001b[0m \u001b[0mname\u001b[0m\u001b[1;33m\u001b[0m\u001b[0m\n",
      "\u001b[1;32mD:\\programs\\code\\Anaconda3\\lib\\site-packages\\pandas\\io\\parsers.py\u001b[0m in \u001b[0;36m_read\u001b[1;34m(filepath_or_buffer, kwds)\u001b[0m\n\u001b[0;32m    438\u001b[0m \u001b[1;33m\u001b[0m\u001b[0m\n\u001b[0;32m    439\u001b[0m     \u001b[1;31m# Create the parser.\u001b[0m\u001b[1;33m\u001b[0m\u001b[1;33m\u001b[0m\u001b[0m\n\u001b[1;32m--> 440\u001b[1;33m     \u001b[0mparser\u001b[0m \u001b[1;33m=\u001b[0m \u001b[0mTextFileReader\u001b[0m\u001b[1;33m(\u001b[0m\u001b[0mfilepath_or_buffer\u001b[0m\u001b[1;33m,\u001b[0m \u001b[1;33m**\u001b[0m\u001b[0mkwds\u001b[0m\u001b[1;33m)\u001b[0m\u001b[1;33m\u001b[0m\u001b[0m\n\u001b[0m\u001b[0;32m    441\u001b[0m \u001b[1;33m\u001b[0m\u001b[0m\n\u001b[0;32m    442\u001b[0m     \u001b[1;32mif\u001b[0m \u001b[0mchunksize\u001b[0m \u001b[1;32mor\u001b[0m \u001b[0miterator\u001b[0m\u001b[1;33m:\u001b[0m\u001b[1;33m\u001b[0m\u001b[0m\n",
      "\u001b[1;32mD:\\programs\\code\\Anaconda3\\lib\\site-packages\\pandas\\io\\parsers.py\u001b[0m in \u001b[0;36m__init__\u001b[1;34m(self, f, engine, **kwds)\u001b[0m\n\u001b[0;32m    785\u001b[0m             \u001b[0mself\u001b[0m\u001b[1;33m.\u001b[0m\u001b[0moptions\u001b[0m\u001b[1;33m[\u001b[0m\u001b[1;34m'has_index_names'\u001b[0m\u001b[1;33m]\u001b[0m \u001b[1;33m=\u001b[0m \u001b[0mkwds\u001b[0m\u001b[1;33m[\u001b[0m\u001b[1;34m'has_index_names'\u001b[0m\u001b[1;33m]\u001b[0m\u001b[1;33m\u001b[0m\u001b[0m\n\u001b[0;32m    786\u001b[0m \u001b[1;33m\u001b[0m\u001b[0m\n\u001b[1;32m--> 787\u001b[1;33m         \u001b[0mself\u001b[0m\u001b[1;33m.\u001b[0m\u001b[0m_make_engine\u001b[0m\u001b[1;33m(\u001b[0m\u001b[0mself\u001b[0m\u001b[1;33m.\u001b[0m\u001b[0mengine\u001b[0m\u001b[1;33m)\u001b[0m\u001b[1;33m\u001b[0m\u001b[0m\n\u001b[0m\u001b[0;32m    788\u001b[0m \u001b[1;33m\u001b[0m\u001b[0m\n\u001b[0;32m    789\u001b[0m     \u001b[1;32mdef\u001b[0m \u001b[0mclose\u001b[0m\u001b[1;33m(\u001b[0m\u001b[0mself\u001b[0m\u001b[1;33m)\u001b[0m\u001b[1;33m:\u001b[0m\u001b[1;33m\u001b[0m\u001b[0m\n",
      "\u001b[1;32mD:\\programs\\code\\Anaconda3\\lib\\site-packages\\pandas\\io\\parsers.py\u001b[0m in \u001b[0;36m_make_engine\u001b[1;34m(self, engine)\u001b[0m\n\u001b[0;32m   1012\u001b[0m     \u001b[1;32mdef\u001b[0m \u001b[0m_make_engine\u001b[0m\u001b[1;33m(\u001b[0m\u001b[0mself\u001b[0m\u001b[1;33m,\u001b[0m \u001b[0mengine\u001b[0m\u001b[1;33m=\u001b[0m\u001b[1;34m'c'\u001b[0m\u001b[1;33m)\u001b[0m\u001b[1;33m:\u001b[0m\u001b[1;33m\u001b[0m\u001b[0m\n\u001b[0;32m   1013\u001b[0m         \u001b[1;32mif\u001b[0m \u001b[0mengine\u001b[0m \u001b[1;33m==\u001b[0m \u001b[1;34m'c'\u001b[0m\u001b[1;33m:\u001b[0m\u001b[1;33m\u001b[0m\u001b[0m\n\u001b[1;32m-> 1014\u001b[1;33m             \u001b[0mself\u001b[0m\u001b[1;33m.\u001b[0m\u001b[0m_engine\u001b[0m \u001b[1;33m=\u001b[0m \u001b[0mCParserWrapper\u001b[0m\u001b[1;33m(\u001b[0m\u001b[0mself\u001b[0m\u001b[1;33m.\u001b[0m\u001b[0mf\u001b[0m\u001b[1;33m,\u001b[0m \u001b[1;33m**\u001b[0m\u001b[0mself\u001b[0m\u001b[1;33m.\u001b[0m\u001b[0moptions\u001b[0m\u001b[1;33m)\u001b[0m\u001b[1;33m\u001b[0m\u001b[0m\n\u001b[0m\u001b[0;32m   1015\u001b[0m         \u001b[1;32melse\u001b[0m\u001b[1;33m:\u001b[0m\u001b[1;33m\u001b[0m\u001b[0m\n\u001b[0;32m   1016\u001b[0m             \u001b[1;32mif\u001b[0m \u001b[0mengine\u001b[0m \u001b[1;33m==\u001b[0m \u001b[1;34m'python'\u001b[0m\u001b[1;33m:\u001b[0m\u001b[1;33m\u001b[0m\u001b[0m\n",
      "\u001b[1;32mD:\\programs\\code\\Anaconda3\\lib\\site-packages\\pandas\\io\\parsers.py\u001b[0m in \u001b[0;36m__init__\u001b[1;34m(self, src, **kwds)\u001b[0m\n\u001b[0;32m   1706\u001b[0m         \u001b[0mkwds\u001b[0m\u001b[1;33m[\u001b[0m\u001b[1;34m'usecols'\u001b[0m\u001b[1;33m]\u001b[0m \u001b[1;33m=\u001b[0m \u001b[0mself\u001b[0m\u001b[1;33m.\u001b[0m\u001b[0musecols\u001b[0m\u001b[1;33m\u001b[0m\u001b[0m\n\u001b[0;32m   1707\u001b[0m \u001b[1;33m\u001b[0m\u001b[0m\n\u001b[1;32m-> 1708\u001b[1;33m         \u001b[0mself\u001b[0m\u001b[1;33m.\u001b[0m\u001b[0m_reader\u001b[0m \u001b[1;33m=\u001b[0m \u001b[0mparsers\u001b[0m\u001b[1;33m.\u001b[0m\u001b[0mTextReader\u001b[0m\u001b[1;33m(\u001b[0m\u001b[0msrc\u001b[0m\u001b[1;33m,\u001b[0m \u001b[1;33m**\u001b[0m\u001b[0mkwds\u001b[0m\u001b[1;33m)\u001b[0m\u001b[1;33m\u001b[0m\u001b[0m\n\u001b[0m\u001b[0;32m   1709\u001b[0m \u001b[1;33m\u001b[0m\u001b[0m\n\u001b[0;32m   1710\u001b[0m         \u001b[0mpassed_names\u001b[0m \u001b[1;33m=\u001b[0m \u001b[0mself\u001b[0m\u001b[1;33m.\u001b[0m\u001b[0mnames\u001b[0m \u001b[1;32mis\u001b[0m \u001b[1;32mNone\u001b[0m\u001b[1;33m\u001b[0m\u001b[0m\n",
      "\u001b[1;32mpandas\\_libs\\parsers.pyx\u001b[0m in \u001b[0;36mpandas._libs.parsers.TextReader.__cinit__\u001b[1;34m()\u001b[0m\n",
      "\u001b[1;32mpandas\\_libs\\parsers.pyx\u001b[0m in \u001b[0;36mpandas._libs.parsers.TextReader._setup_parser_source\u001b[1;34m()\u001b[0m\n",
      "\u001b[1;31mOSError\u001b[0m: Initializing from file failed"
     ]
    }
   ],
   "source": [
    "df_all = pd.read_csv(\"存量小队.csv\", encoding='gbk')    # excel文件，数据格式出现改变  # csv文件单元格格式设置为数值,保留零位小数\n",
    "df_sea = pd.read_excel(\"公海司机.xlsx\")"
   ]
  },
  {
   "cell_type": "code",
   "execution_count": null,
   "metadata": {
    "ExecuteTime": {
     "end_time": "2021-12-29T01:57:16.891747Z",
     "start_time": "2021-12-29T01:57:11.650Z"
    }
   },
   "outputs": [],
   "source": [
    "df_all"
   ]
  },
  {
   "cell_type": "code",
   "execution_count": null,
   "metadata": {
    "ExecuteTime": {
     "end_time": "2021-12-29T01:57:16.893978Z",
     "start_time": "2021-12-29T01:57:11.652Z"
    }
   },
   "outputs": [],
   "source": [
    "# 隐藏代码\n",
    "'''\n",
    "from IPython.display import display_html\n",
    "display_html(\"\"\"<button onclick=\"$('.input, .prompt, .output_stderr, .output_error').toggle();\">Toggle Code</button>\"\"\", raw=True)\n",
    "'''\n",
    "# 生成司机信息表和小队信息表\n",
    "\n",
    "# 存储司机信息的表\n",
    "df_driver = df_all[['区域', '城市id', '城市', '小队ID', '队长id', '队长等级', '应带队人数', '小队活跃区县', '队员id',\n",
    "       '队员等级', '队员活跃区县', 'A类区县内a', 'A类区县外b', '非A类区县内c', '非A类区县外d']]\n",
    "df_driver.shape\n",
    "# 存储小队信息的表\n",
    "df_group = df_all[['区域', '城市id', '城市', '小队ID', '队长id', '队长等级', '应带队人数', '小队活跃区县', 'a', 'b',\n",
    "       'c', 'd', 'a0', 'b0', 'c0', 'd0', '待补充a人数', '待补充b人数', '待补充c人数',\n",
    "       '待补充d人数', '总待补充人数', '待剔除a人数', '待剔除b人数', '待剔除c人数', '总待剔除人数']].drop_duplicates('小队ID')\n",
    "\n",
    "df_group.shape        \n",
    "df_group.head()\n",
    "\n",
    "# 生成新的df_all\n",
    "\n",
    "df_all = pd.merge(left=df_driver, right=df_group, how='left')\n",
    "df_all.head()\n",
    "\n",
    "\n",
    "writer = pd.ExcelWriter('data.xlsx')\n",
    "df_all.to_excel(writer,'all',index=False)\n",
    "df_driver.to_excel(writer,'driver',index=False)\n",
    "df_group.to_excel(writer,'group',index=False)\n",
    "writer.save()\n"
   ]
  },
  {
   "cell_type": "code",
   "execution_count": null,
   "metadata": {
    "ExecuteTime": {
     "end_time": "2021-12-29T01:57:16.895040Z",
     "start_time": "2021-12-29T01:57:11.654Z"
    }
   },
   "outputs": [],
   "source": [
    "df_all.dtypes"
   ]
  },
  {
   "cell_type": "code",
   "execution_count": null,
   "metadata": {
    "ExecuteTime": {
     "end_time": "2021-12-29T01:57:16.896033Z",
     "start_time": "2021-12-29T01:57:11.657Z"
    }
   },
   "outputs": [],
   "source": [
    "df_sea.shape # 公海\n",
    "df_all.shape \n",
    "df_driver.shape\n",
    "df_group.shape"
   ]
  },
  {
   "cell_type": "code",
   "execution_count": null,
   "metadata": {
    "ExecuteTime": {
     "end_time": "2021-12-29T01:57:16.897033Z",
     "start_time": "2021-12-29T01:57:11.659Z"
    },
    "scrolled": true
   },
   "outputs": [],
   "source": [
    "'''\n",
    "df_all[df_all.columns] = df_all[df_all.columns].astype('int64')\n",
    "'''\n",
    "# 打乱df_all\n",
    "from sklearn.utils import shuffle  \n",
    "df_all = shuffle(df_all)  \n",
    "df_all.head()"
   ]
  },
  {
   "cell_type": "code",
   "execution_count": null,
   "metadata": {
    "ExecuteTime": {
     "end_time": "2021-12-29T01:57:16.897768Z",
     "start_time": "2021-12-29T01:57:11.661Z"
    }
   },
   "outputs": [],
   "source": [
    "df_driver.columns"
   ]
  },
  {
   "cell_type": "code",
   "execution_count": null,
   "metadata": {
    "ExecuteTime": {
     "end_time": "2021-12-29T01:57:16.898834Z",
     "start_time": "2021-12-29T01:57:11.662Z"
    }
   },
   "outputs": [],
   "source": [
    "df_all = shuffle(df_all.assign(补充情况=0)) # b补充情况 0-没有补充 1-补充且补全了 2-补充但没补全\n",
    "df_driver = shuffle(df_driver.assign(补充情况=0)) # b补充情况 0-没有补充 1-补充且补全了 2-补充但没补全\n",
    "df_driver = df_driver.assign(补充后小队ID=0)\n",
    "'''\n",
    "df_sea = shuffle(df_sea.assign(被补充=0, 被剔除=0))\n",
    "df_driver = shuffle(df_driver.assign(被补充=0, 被剔除=0))\n",
    "df_group = df_group.assign(是否补充完=0, 是否剔除完=0)\n",
    "df_sea.head()\n",
    "df_driver.head()\n",
    "df_group.head()\n",
    "'''"
   ]
  },
  {
   "cell_type": "code",
   "execution_count": null,
   "metadata": {
    "ExecuteTime": {
     "end_time": "2021-12-29T01:57:16.899931Z",
     "start_time": "2021-12-29T01:57:11.665Z"
    }
   },
   "outputs": [],
   "source": [
    "# 以防万一\n",
    "df1 = df_all.copy()\n",
    "df2 = df_driver.copy()\n",
    "df3 = df_group.copy()\n",
    "df4 = df_sea.copy()"
   ]
  },
  {
   "cell_type": "code",
   "execution_count": null,
   "metadata": {},
   "outputs": [],
   "source": []
  },
  {
   "cell_type": "code",
   "execution_count": null,
   "metadata": {
    "ExecuteTime": {
     "end_time": "2021-12-29T01:57:16.901008Z",
     "start_time": "2021-12-29T01:57:11.668Z"
    }
   },
   "outputs": [],
   "source": [
    "df_all.columns"
   ]
  },
  {
   "cell_type": "code",
   "execution_count": null,
   "metadata": {
    "ExecuteTime": {
     "end_time": "2021-12-29T01:57:16.902105Z",
     "start_time": "2021-12-29T01:57:11.670Z"
    }
   },
   "outputs": [],
   "source": [
    "# 小队可能存在四种情况\n",
    "# 司机\n",
    "df_all.query('总待补充人数>0 and 总待剔除人数==0').shape  # 23\n",
    "df_all.query('总待补充人数==0 and 总待剔除人数==0').shape  # 20\n",
    "df_all.query('总待补充人数>0 and 总待剔除人数>0').shape    # 51\n",
    "df_all.query('总待补充人数==0 and 总待剔除人数>0').shape   # 28\n",
    "print('-'*50)\n",
    "## 需要补充\n",
    "df_all.query(' (a<a0 and A类区县内a==1) | (b<b0 and A类区县外b==1) | (c<c0 and 非A类区县内c==1) ').shape  # 43 \n",
    "## 需要剔除\n",
    "df_all.query(' (a>a0 and A类区县内a==1) | (b>b0 and A类区县外b==1) | (c>c0 and 非A类区县内c==1) ').shape   # 53\n",
    "## 不需要补充或剔除\n",
    "df_all.query(' (a==a0 and A类区县内a==1) | (b==b0 and A类区县外b==1) | (c==c0 and 非A类区县内c==1) ').shape  # 26\n",
    "print('-'*50)\n",
    "# 小队\n",
    "df_group.query('总待补充人数>0 and 总待剔除人数==0').shape  # 1\n",
    "df_group.query('总待补充人数==0 and 总待剔除人数==0').shape  # 1\n",
    "df_group.query('总待补充人数>0 and 总待剔除人数>0').shape    # 2\n",
    "df_group.query('总待补充人数==0 and 总待剔除人数>0').shape   # 1"
   ]
  },
  {
   "cell_type": "code",
   "execution_count": null,
   "metadata": {
    "ExecuteTime": {
     "end_time": "2021-12-29T01:57:16.903243Z",
     "start_time": "2021-12-29T01:57:11.673Z"
    }
   },
   "outputs": [],
   "source": [
    "# 待补充和待剔除人数大于0的小队的数量\n",
    "1 + 1 # 待补充 2\n",
    "2 + 1  # 待剔除 3"
   ]
  },
  {
   "cell_type": "code",
   "execution_count": null,
   "metadata": {
    "ExecuteTime": {
     "end_time": "2021-12-29T01:57:16.904244Z",
     "start_time": "2021-12-29T01:57:11.674Z"
    },
    "scrolled": true
   },
   "outputs": [],
   "source": [
    "# 不需要(补充和剔除)的司机的数量 \n",
    "df_all.shape  # 司机总数：122人\n",
    "df_all.query('(a==a0 and A类区县内a==1) | (b==b0 and A类区县外b==1) | (c==c0 and 非A类区县内c==1)').shape  # 8人"
   ]
  },
  {
   "cell_type": "markdown",
   "metadata": {},
   "source": [
    "## 标记不需要补充、不需要剔除的司机"
   ]
  },
  {
   "cell_type": "code",
   "execution_count": null,
   "metadata": {
    "ExecuteTime": {
     "end_time": "2021-12-29T01:57:16.904765Z",
     "start_time": "2021-12-29T01:57:11.677Z"
    }
   },
   "outputs": [],
   "source": [
    "df_driver.columns"
   ]
  },
  {
   "cell_type": "code",
   "execution_count": null,
   "metadata": {
    "ExecuteTime": {
     "end_time": "2021-12-29T01:57:16.905887Z",
     "start_time": "2021-12-29T01:57:11.678Z"
    }
   },
   "outputs": [],
   "source": [
    "lt_no_bt = df_all.query(' (a==a0 and A类区县内a==1) | (b==b0 and A类区县外b==1) | (c==c0 and 非A类区县内c==1) ')['队员id'].values.tolist()\n",
    "df_driver.loc[df_driver['队员id'].isin(lt_no_bt), '补充情况'] = 1  # 不需要补充、不需要剔除的司机，补充情况标记为1\n",
    "# df_driver.loc[df_driver['队员id'].isin(lt_no_bt), '补充后小队ID'] = df_driver.loc[df_driver['队员id'].isin(lt_no_bt), '补充后小队ID']  # 不需要补充、不需要剔除的司机，补充情况标记为1\n",
    "df_driver.loc[:, '补充后小队ID'] = df_driver.apply(lambda x: x['小队ID'] if x['补充情况']==1 else 0, axis=1) # axis=1？？？？"
   ]
  },
  {
   "cell_type": "code",
   "execution_count": null,
   "metadata": {
    "ExecuteTime": {
     "end_time": "2021-12-29T01:57:16.906887Z",
     "start_time": "2021-12-29T01:57:11.680Z"
    }
   },
   "outputs": [],
   "source": [
    "df_group"
   ]
  },
  {
   "cell_type": "markdown",
   "metadata": {},
   "source": [
    "## 补充小队"
   ]
  },
  {
   "cell_type": "code",
   "execution_count": null,
   "metadata": {
    "ExecuteTime": {
     "end_time": "2021-12-29T01:57:16.908070Z",
     "start_time": "2021-12-29T01:57:11.683Z"
    },
    "scrolled": true
   },
   "outputs": [],
   "source": [
    "#待补充的小队\n",
    "# df2 = df1.query('总待补充人数>=1')\n",
    "df_bc_group = df_group.query('总待补充人数>=1')\n",
    "#根据总待补充人数升序排列\n",
    "df_bc_group.sort_values(by=\"总待补充人数\",ascending=True, inplace=True)\n",
    "\n",
    "df_bc_group.shape  # 待补充小队里，小队表"
   ]
  },
  {
   "cell_type": "code",
   "execution_count": null,
   "metadata": {
    "ExecuteTime": {
     "end_time": "2021-12-29T01:57:16.909069Z",
     "start_time": "2021-12-29T01:57:11.685Z"
    },
    "scrolled": true
   },
   "outputs": [],
   "source": [
    "#待剔除小队\n",
    "# df_tc_group = df_group.query('总待剔除人数>=1')\n",
    "#根据总剔除人数降序排列\n",
    "# df_tc_group.sort_values(by=\"总待剔除人数\",ascending=False, inplace=True)\n",
    "\n",
    "'''\n",
    "frames = []\n",
    "for i in range(df_tc_group.shape[0]):\n",
    "    group = df_tc_group.iloc[i]\n",
    "    group_id = group['小队ID']\n",
    "    \n",
    "    if group['待补充a人数'] > 0:\n",
    "        frames.append(df_driver.query('小队ID == @group_id and A类区县内a == 1'))\n",
    "    if group['待补充b人数'] > 0:\n",
    "        frames.append(df_driver.query('小队ID == @group_id and A类区县外b == 1'))\n",
    "    if group['待补充c人数'] > 0:\n",
    "        frames.append(df_driver.query('小队ID == @group_id and 非A类区县内c == 1'))\n",
    "        '''\n",
    "''''''        \n",
    "# df_tc = df_all.query('(待剔除a人数>0 and A类区县内a==1) | (待剔除b人数>0 and A类区县外b==1) | (待剔除c人数>0 and 非A类区县内c==1)')[df_driver.columns[:-2]]\n",
    "df_tc_sea = df_all.query('(待剔除a人数>0 and A类区县内a==1) | (待剔除b人数>0 and A类区县外b==1) | (待剔除c人数>0 and 非A类区县内c==1)')\n",
    "df_tc_sea.sort_values(by = [\"总待剔除人数\"],ascending=False, inplace=True)\n",
    "df_tc_sea = df_tc_sea[df_driver.columns[:-1]]\n",
    "df_tc_sea.shape  \n",
    "df_tc_group = df_tc_sea.groupby('小队ID')[ 'A类区县内a', 'A类区县外b', '非A类区县内c'].sum()\n",
    "df_tc_group"
   ]
  },
  {
   "cell_type": "code",
   "execution_count": null,
   "metadata": {
    "ExecuteTime": {
     "end_time": "2021-12-29T01:57:16.910070Z",
     "start_time": "2021-12-29T01:57:11.687Z"
    }
   },
   "outputs": [],
   "source": [
    "# 补充完的司机表\n",
    "df_bc_ok = pd.DataFrame()\n",
    "# 没有补充完的司机表\n",
    "df_bc_nok = pd.DataFrame()\n",
    "# 剔除了的司机表\n",
    "df_tc_table = pd.DataFrame()"
   ]
  },
  {
   "cell_type": "code",
   "execution_count": null,
   "metadata": {
    "ExecuteTime": {
     "end_time": "2021-12-29T01:57:16.910845Z",
     "start_time": "2021-12-29T01:57:11.689Z"
    },
    "scrolled": true
   },
   "outputs": [],
   "source": [
    "'''\n",
    "# 剔除数为0的小队（这里全为待补充的小队），司机表\n",
    "df_tc0 = df_all.query('总待剔除人数 == 0')[df_driver.columns[:2]]\n",
    "df_tc0.shape\n",
    "\n",
    "# 小队表\n",
    "df_tc0_group = df_group.query('总待剔除人数 == 0')\n",
    "df_tc0_group.shape\n",
    "'''"
   ]
  },
  {
   "cell_type": "code",
   "execution_count": null,
   "metadata": {
    "ExecuteTime": {
     "end_time": "2021-12-29T01:57:16.912033Z",
     "start_time": "2021-12-29T01:57:11.692Z"
    }
   },
   "outputs": [],
   "source": [
    "# 记录小队补充情况\n",
    "log_a = []\n",
    "log_b = []\n",
    "log_c = []"
   ]
  },
  {
   "cell_type": "code",
   "execution_count": null,
   "metadata": {
    "ExecuteTime": {
     "end_time": "2021-12-29T01:57:16.912738Z",
     "start_time": "2021-12-29T01:57:11.694Z"
    }
   },
   "outputs": [],
   "source": [
    "\n",
    "# 补充完的小队加入列表   # 用列表-->提高性能\n",
    "a_lt = []  # 补充完的小队id加入列表\n",
    "b_lt = []  \n",
    "c_lt = []  \n"
   ]
  },
  {
   "cell_type": "markdown",
   "metadata": {},
   "source": [
    "## test-先补充一个小队内的c类司机"
   ]
  },
  {
   "cell_type": "code",
   "execution_count": null,
   "metadata": {
    "ExecuteTime": {
     "end_time": "2021-12-29T01:57:16.914177Z",
     "start_time": "2021-12-29T01:57:11.697Z"
    }
   },
   "outputs": [],
   "source": [
    "# 补充一个小队的司机\n",
    "def bc(driver, df_sea, num, abc):\n",
    "    global group_id, df_tc_table, df_group\n",
    "    \n",
    "    if abc == 'a':\n",
    "        df_sea_target = df_sea.query('队员活跃区县 == @city and 队员等级 == \"A\"')\n",
    "        \n",
    "        sea = df_sea_target[:num]  # 从公海取出需要的司机  # 按顺序取，这样可以按指定顺序取出待剔除小队的司机\n",
    "        \n",
    "        df_tc_table = pd.concat([df_tc_table, sea])\n",
    "        log_a.append('{}: 补充前公海有{}人'.format(group_id, df_sea.shape[0]))\n",
    "    \n",
    "        df_sea = pd.concat([df_sea, sea], axis=0).drop_duplicates(subset=['队员id'], keep=False)  # 删除公海里取的司机\n",
    "        log_a.append('{}: 补充后公海有{}人'.format(group_id, df_sea.shape[0]))\n",
    "        \n",
    "        # 更新该类别的待补充人数\n",
    "        df_group.loc[df_group['小队ID']==group_id, '待补充a人数'] = df_group.loc[df_group['小队ID']==group_id, '待补充a人数'].iloc[0] - sea.shape[0]\n",
    "        df_group.loc[df_group['小队ID']==group_id, 'a'] = df_group.loc[df_group['小队ID']==group_id, 'a'].iloc[0] + sea.shape[0]\n",
    "        df_group.loc[df_group['小队ID']==group_id, '总待补充人数'] = df_group.loc[df_group['小队ID']==group_id, '总待补充人数'] - sea.shape[0]\n",
    "\n",
    "        \n",
    "    elif abc == 'b':\n",
    "        df_sea_target = df_sea.query('队员活跃区县 != @city and 队员等级 == \"A\"')\n",
    "        \n",
    "        sea = df_sea_target[:num]  # 从公海取出需要的司机\n",
    "        df_tc_table = pd.concat([df_tc_table, sea])\n",
    "        log_b.append('{}: 补充前公海有{}人'.format(group_id, df_sea.shape[0]))\n",
    "    \n",
    "        df_sea = pd.concat([df_sea, sea], axis=0).drop_duplicates(subset=['队员id'], keep=False)  # 删除公海里取的司机\n",
    "        log_b.append('{}: 补充后公海有{}人'.format(group_id, df_sea.shape[0]))\n",
    "        \n",
    "        # 更新该类别的待补充人数\n",
    "        df_group.loc[df_group['小队ID']==group_id, '待补充b人数'] = df_group.loc[df_group['小队ID']==group_id, '待补充b人数'].iloc[0] - sea.shape[0]\n",
    "        df_group.loc[df_group['小队ID']==group_id, 'b'] = df_group.loc[df_group['小队ID']==group_id, 'b'].iloc[0] + sea.shape[0]\n",
    "        df_group.loc[df_group['小队ID']==group_id, '总待补充人数'] = df_group.loc[df_group['小队ID']==group_id, '总待补充人数'] - sea.shape[0]\n",
    "    \n",
    "\n",
    "        \n",
    "    elif abc == 'c':\n",
    "        df_sea_target = df_sea.query('队员活跃区县 == @city and 队员等级 != \"A\"')\n",
    "        \n",
    "        sea = df_sea_target[:num]  # 从公海取出需要的司机\n",
    "        df_tc_table = pd.concat([df_tc_table, sea])  # 将要剔除的司机的原始信息存储下来\n",
    "        \n",
    "        log_c.append('{}: 补充前公海有{}人'.format(group_id, df_sea.shape[0]))\n",
    "    \n",
    "        df_sea = pd.concat([df_sea, sea], axis=0).drop_duplicates(subset=['队员id'], keep=False)  # 删除公海里取的司机\n",
    "        log_c.append('{}: 补充后公海有{}人'.format(group_id, df_sea.shape[0]))\n",
    "        \n",
    "        # 更新该类别的待补充人数\n",
    "        df_group.loc[df_group['小队ID']==group_id, '待补充c人数'] = df_group.loc[df_group['小队ID']==group_id, '待补充c人数'].iloc[0] - sea.shape[0]\n",
    "        df_group.loc[df_group['小队ID']==group_id, 'c'] = df_group.loc[df_group['小队ID']==group_id, 'c'].iloc[0] + sea.shape[0]\n",
    "        df_group.loc[df_group['小队ID']==group_id, '总待补充人数'] = df_group.loc[df_group['小队ID']==group_id, '总待补充人数'] - sea.shape[0]\n",
    "    \n",
    "    \n",
    "    \n",
    "    # 加入补充的司机\n",
    "    driver_new = pd.concat([driver, sea])\n",
    "    driver_new = driver_new.assign(补充后小队ID=[group_id]*len(driver_new))\n",
    "    \n",
    "    if abc == 'a':\n",
    "        driver_new.loc[:, 'A类区县内a'] = 1 \n",
    "        driver_new.loc[:, 'A类区县外b'] = 0\n",
    "        driver_new.loc[:, '非A类区县内c'] = 0\n",
    "    elif abc == 'b':\n",
    "        driver_new.loc[:, 'A类区县内a'] = 0 \n",
    "        driver_new.loc[:, 'A类区县外b'] = 1\n",
    "        driver_new.loc[:, '非A类区县内c'] = 0\n",
    "    elif abc == 'c':\n",
    "        driver_new.loc[:, 'A类区县内a'] = 0 \n",
    "        driver_new.loc[:, 'A类区县外b'] = 0\n",
    "        driver_new.loc[:, '非A类区县内c'] = 1\n",
    "    \n",
    "  \n",
    "    return driver_new, df_sea"
   ]
  },
  {
   "cell_type": "code",
   "execution_count": null,
   "metadata": {
    "ExecuteTime": {
     "end_time": "2021-12-29T01:57:16.915345Z",
     "start_time": "2021-12-29T01:57:11.699Z"
    }
   },
   "outputs": [],
   "source": [
    "def bc_abc(group_id, abc):\n",
    "    \n",
    "    global df_driver, df_group, df_bc_group\n",
    "    global df_sea, df_tc_sea\n",
    "    global df_bc_ok, df_bc_nok\n",
    "    \n",
    "    # 某个小队--公海里匹配c类司机\n",
    "    # group = df_bc_group.query('小队ID == @group_id')\n",
    "    # num_s = \"待补充{}人数\".format(abc)\n",
    "    # num = group[num_s].iloc[0]\n",
    "        \n",
    "    \n",
    "    if abc == 'a':\n",
    "        query_mate = '队员活跃区县 == @city and 队员等级 == \"A\"'\n",
    "        query_abc = '小队ID == @group_id and A类区县内a == 1'\n",
    "        log_abc = log_a\n",
    "        abc_lt = a_lt\n",
    "        num = num_a\n",
    "    elif abc == 'b':\n",
    "        query_mate = '队员活跃区县 != @city and 队员等级 == \"A\"'\n",
    "        query_abc = '小队ID == @group_id and A类区县外b == 1'\n",
    "        log_abc = log_b\n",
    "        abc_lt = b_lt\n",
    "        num = num_b\n",
    "    elif abc == 'c':\n",
    "        query_mate = '队员活跃区县 == @city and 队员等级 != \"A\"'\n",
    "        query_abc = '小队ID == @group_id and 非A类区县内c == 1'\n",
    "        log_abc = log_c\n",
    "        abc_lt = c_lt\n",
    "        num = num_c\n",
    "    \n",
    "    driver = df_driver.query(query_abc)\n",
    "\n",
    "    df_sea_target = df_sea.query(query_mate)\n",
    "    num_target = num - df_sea_target.shape[0] \n",
    "    log_abc.append('{}: 需要补充{}名, 【公海里】找到{}名'.format(group_id, num, df_sea_target.shape[0]))\n",
    "    if num_target <= 0:  # 如果在公海里能找到人\n",
    "        driver_new, df_sea = bc(driver, df_sea, num, abc)\n",
    "        driver_new.loc[:, '补充情况'] = 1  # 1表示补充结束，且能补充完\n",
    "        abc_lt.append(group_id)\n",
    "        df_bc_ok = pd.concat([df_bc_ok, driver_new])\n",
    "        log_abc.append('公海里能补充完，{0}: 原有{1}类司机{2}名, 补充{1}类司机后:{3}名'.format(group_id, abc, driver.shape[0], driver_new.shape[0]))\n",
    "\n",
    "    elif num_target > 0 :\n",
    "        ## 1、先补充公海里能补充的人\n",
    "        df_sea_target = df_sea.query(query_mate)\n",
    "        driver_new, df_sea = bc(driver, df_sea, df_sea_target.shape[0], abc)\n",
    "    \n",
    "        num = num_target \n",
    "        log_abc.append('公海里不能补充完-从公海里补充，{0}: 原有{1}类司机{2}名, 补充{1}类司机后:{3}名'.format(group_id, abc, driver.shape[0], driver_new.shape[0]))  \n",
    "    \n",
    "        ## 2、然后从剔除人数大于0的小队补充\n",
    "        df_tc_sea_target = df_tc_sea.query(query_mate)\n",
    "        num_target = num - df_tc_sea_target.shape[0]  # num_target是 待补充人数num - 能够补充的人数df_sea_target.shape[0]\n",
    "        log_abc.append('{}: 需要补充{}名, 【待剔除人数大于0的小队】里找到{}名'.format(group_id, num, df_tc_sea_target.shape[0]))\n",
    "    \n",
    "    \n",
    "        if num_target <= 0:  # 从待剔除司机里能补充完\n",
    "        # 还没有检测\n",
    "            driver_new, df_tc_sea = bc(driver_new, df_tc_sea,  num, abc)\n",
    "            driver_new.loc[:, '补充情况'] = 1\n",
    "            abc_lt.append(group_id)\n",
    "            df_bc_ok = pd.concat([df_bc_ok, driver_new])\n",
    "            log_abc.append('公海里不能补充完 -> 小队里能补充完，{0}: 原有{1}类司机{2}名, 补充{1}类司机后:{3}名'.format(group_id, abc, driver.shape[0], driver_new.shape[0]))\n",
    "            \n",
    "    \n",
    "        ## 3、从待剔除司机里仍然补充不完\n",
    "        elif num_target > 0:\n",
    "        \n",
    "            ### 1、先补充剔除人数大于0的小队里能补充的人\n",
    "            driver_new, df_tc_sea = bc(driver_new, df_tc_sea, df_tc_sea_target.shape[0], abc)\n",
    "            num = num_target\n",
    "            log_abc.append('公海里不能补充完->小队里不能补完-从小队里补充，{0}: 补充{1}类司机后:{2}名'.format(group_id, abc, driver_new.shape[0]))  \n",
    "\n",
    "            # 然后跳过这个小队\n",
    "            driver_new.loc[:, '补充情况'] = 2  # 2表示补充结束，但没有补充完\n",
    "            df_bc_nok = pd.concat([df_bc_nok, driver_new])\n",
    "            log_abc.append('公海里不能补充完 -> 小队里不能补充完 -> 小队0不能补充完-从小队0补充 -> 跳过这个小队，{}: 跳过该小队，有{}人未补充'.format(group_id, num_c))\n",
    "                  \n",
    "\n",
    "    # log_c.clear()\n",
    "    print(log_abc)\n",
    "    return None"
   ]
  },
  {
   "cell_type": "code",
   "execution_count": null,
   "metadata": {
    "ExecuteTime": {
     "end_time": "2021-12-29T01:57:16.916346Z",
     "start_time": "2021-12-29T01:57:11.701Z"
    }
   },
   "outputs": [],
   "source": [
    "def bc_group(group_id):\n",
    "    \n",
    "    global city\n",
    "    global num_a, num_b, num_c  # 在每次使用变量之前，不要立即进行全局声明，只需要在函数开始处使用它一次就行了，下面是正确的写法\n",
    "    \n",
    "    group = df_bc_group.query('小队ID == @group_id')\n",
    "    num_a = group[\"待补充a人数\"].iloc[0]\n",
    "    num_b = group[\"待补充b人数\"].iloc[0]\n",
    "    num_c = group[\"待补充c人数\"].iloc[0]\n",
    "    city = group['小队活跃区县'].iloc[0]\n",
    "    \n",
    "    \n",
    "    \n",
    "    if num_a > 0:\n",
    "        bc_abc(group_id, 'a')\n",
    "    if num_b > 0:\n",
    "        bc_abc(group_id, 'b')\n",
    "    if num_c > 0:\n",
    "        bc_abc(group_id, 'c')\n",
    "        \n",
    "    return None"
   ]
  },
  {
   "cell_type": "code",
   "execution_count": null,
   "metadata": {
    "ExecuteTime": {
     "end_time": "2021-12-29T01:57:16.916547Z",
     "start_time": "2021-12-29T01:57:11.703Z"
    }
   },
   "outputs": [],
   "source": [
    "# 以防万一\n",
    "'''\n",
    "df_all = df1.copy()\n",
    "df_driver = df2.copy()\n",
    "df_group = df3.copy()\n",
    "df_sea = df4.copy()\n",
    "'''"
   ]
  },
  {
   "cell_type": "code",
   "execution_count": null,
   "metadata": {
    "ExecuteTime": {
     "end_time": "2021-12-29T01:57:16.917561Z",
     "start_time": "2021-12-29T01:57:11.705Z"
    }
   },
   "outputs": [],
   "source": [
    "df_bc_group"
   ]
  },
  {
   "cell_type": "code",
   "execution_count": null,
   "metadata": {
    "ExecuteTime": {
     "end_time": "2021-12-29T01:57:16.918282Z",
     "start_time": "2021-12-29T01:57:11.707Z"
    }
   },
   "outputs": [],
   "source": [
    "group_id_lt = df_bc_group['小队ID'].values.tolist()\n",
    "for group_id in group_id_lt:\n",
    "    bc_group(group_id)"
   ]
  },
  {
   "cell_type": "code",
   "execution_count": null,
   "metadata": {
    "ExecuteTime": {
     "end_time": "2021-12-29T01:57:16.919362Z",
     "start_time": "2021-12-29T01:57:11.709Z"
    }
   },
   "outputs": [],
   "source": [
    "log_a"
   ]
  },
  {
   "cell_type": "code",
   "execution_count": null,
   "metadata": {
    "ExecuteTime": {
     "end_time": "2021-12-29T01:57:16.920362Z",
     "start_time": "2021-12-29T01:57:11.711Z"
    }
   },
   "outputs": [],
   "source": [
    "df_group"
   ]
  },
  {
   "cell_type": "code",
   "execution_count": null,
   "metadata": {
    "ExecuteTime": {
     "end_time": "2021-12-29T01:57:16.921363Z",
     "start_time": "2021-12-29T01:57:11.713Z"
    }
   },
   "outputs": [],
   "source": [
    "df_bc_nok.shape\n",
    "df_bc_ok.shape\n",
    "df_driver.shape"
   ]
  },
  {
   "cell_type": "code",
   "execution_count": null,
   "metadata": {
    "ExecuteTime": {
     "end_time": "2021-12-29T01:57:16.921363Z",
     "start_time": "2021-12-29T01:57:11.715Z"
    }
   },
   "outputs": [],
   "source": [
    "df_driver2 = pd.concat([df_driver, df_bc_ok, df_bc_nok], axis=0).drop_duplicates(subset='队员id', keep='last')\n",
    "df_driver2.shape\n",
    "df_driver2.query('补充情况 != 0').shape"
   ]
  },
  {
   "cell_type": "markdown",
   "metadata": {},
   "source": [
    "## 更新小队里剔除的情况"
   ]
  },
  {
   "cell_type": "code",
   "execution_count": null,
   "metadata": {
    "ExecuteTime": {
     "end_time": "2021-12-29T01:57:16.922938Z",
     "start_time": "2021-12-29T01:57:11.718Z"
    }
   },
   "outputs": [],
   "source": [
    "df_driver2.shape\n",
    "df_bc_ok.shape\n",
    "print('-'*50)\n",
    "df_driver2[np.isnan(df_driver2['小队ID'])].shape   # 公海-8  # np.nan查看缺失值\n",
    "df_driver2.query('小队ID != 补充后小队ID').shape  # 公海-8 + 代剔除补充司机-53\n",
    "df_driver2.query('小队ID == 补充后小队ID').shape  # 补充为0 -26 + 待补充司机 - \n",
    "df_driver2.query('补充后小队ID==0').shape  # 待剔除司机里--未被补充的司机\n",
    "df_driver2.query('补充情况==0').shape  # 待剔除司机里--未被补充的司机"
   ]
  },
  {
   "cell_type": "code",
   "execution_count": null,
   "metadata": {
    "ExecuteTime": {
     "end_time": "2021-12-29T01:57:16.924048Z",
     "start_time": "2021-12-29T01:57:11.720Z"
    }
   },
   "outputs": [],
   "source": [
    "df_out = df_driver2.query('补充情况 != 0')\n",
    "df_out.shape"
   ]
  },
  {
   "cell_type": "code",
   "execution_count": null,
   "metadata": {
    "ExecuteTime": {
     "end_time": "2021-12-29T01:57:16.925140Z",
     "start_time": "2021-12-29T01:57:11.723Z"
    }
   },
   "outputs": [],
   "source": [
    "# 待剔除司机\n",
    "df_tc_sea.shape\n",
    "df_driver2.query('补充情况 == 0').shape\n",
    "df_driver2.query('补充情况 == 1').shape"
   ]
  },
  {
   "cell_type": "code",
   "execution_count": null,
   "metadata": {
    "ExecuteTime": {
     "end_time": "2021-12-29T01:57:16.926236Z",
     "start_time": "2021-12-29T01:57:11.725Z"
    }
   },
   "outputs": [],
   "source": [
    "'''\n",
    "df_group2 = df_group.copy()\n",
    "df_group2['a'] = df_tc_sea['A类区县内a'].sum()\n",
    "df_group2['b'] = df_tc_sea['A类区县外b'].sum()\n",
    "df_group2['c'] = df_tc_sea['非A类区县内c'].sum()\n",
    "df_group2['待剔除a人数'] = df_group2.apply(lambda x: max(x['a'] - x['a0'], 0), axis=1)\n",
    "df_group2['待剔除b人数'] = df_group2.apply(lambda x: max(x['b'] - x['b0'], 0), axis=1)\n",
    "df_group2['待剔除c人数'] = df_group2.apply(lambda x: max(x['c'] - x['c0'], 0), axis=1)\n",
    "df_group2['总待剔除人数'] = df_group2[[ '待剔除a人数', '待剔除b人数', '待剔除c人数']].apply(np.sum, axis=1)\n",
    "'''"
   ]
  },
  {
   "cell_type": "markdown",
   "metadata": {},
   "source": [
    "## 检验结果"
   ]
  },
  {
   "cell_type": "code",
   "execution_count": null,
   "metadata": {
    "ExecuteTime": {
     "end_time": "2021-12-29T01:57:16.927778Z",
     "start_time": "2021-12-29T01:57:11.736Z"
    }
   },
   "outputs": [],
   "source": [
    "df_bc_ok[np.isnan(df_bc_ok['小队ID'])].shape   # 公海-8  # np.nan查看缺失值\n",
    "df_bc_ok.query('小队ID != 补充后小队ID').shape  # 公海-8 + 加入的 待剔除司机-3\n",
    "df_bc_ok.query('小队ID == 补充后小队ID').shape  # 待补充司机 - 43\n",
    "df_bc_ok.query('补充后小队ID==0').shape  # 待剔除司机里--未被补充的司机"
   ]
  },
  {
   "cell_type": "code",
   "execution_count": null,
   "metadata": {
    "ExecuteTime": {
     "end_time": "2021-12-29T01:57:16.928779Z",
     "start_time": "2021-12-29T01:57:11.740Z"
    }
   },
   "outputs": [],
   "source": [
    "df_bc_ok"
   ]
  },
  {
   "cell_type": "code",
   "execution_count": null,
   "metadata": {
    "ExecuteTime": {
     "end_time": "2021-12-29T01:57:16.930278Z",
     "start_time": "2021-12-29T01:57:11.744Z"
    }
   },
   "outputs": [],
   "source": [
    "df_bc_ok.shape\n",
    "df_bc_nok.shape\n",
    "df_bc_ok.shape[0] + df_bc_nok.shape[0]"
   ]
  },
  {
   "cell_type": "code",
   "execution_count": null,
   "metadata": {
    "ExecuteTime": {
     "end_time": "2021-12-29T01:57:16.931284Z",
     "start_time": "2021-12-29T01:57:11.748Z"
    }
   },
   "outputs": [],
   "source": [
    "df_tc_sea.shape\n",
    "df_tc_table.shape\n",
    "df_tc_sea.shape[0] + df_tc_table.shape[0]"
   ]
  },
  {
   "cell_type": "code",
   "execution_count": null,
   "metadata": {
    "ExecuteTime": {
     "end_time": "2021-12-29T01:57:16.932792Z",
     "start_time": "2021-12-29T01:57:11.751Z"
    }
   },
   "outputs": [],
   "source": [
    "df_driver.shape\n",
    "df_sea.shape"
   ]
  },
  {
   "cell_type": "markdown",
   "metadata": {},
   "source": [
    "## 组队不成功司机重新组队"
   ]
  },
  {
   "cell_type": "code",
   "execution_count": null,
   "metadata": {
    "ExecuteTime": {
     "end_time": "2021-12-29T01:57:16.934800Z",
     "start_time": "2021-12-29T01:57:11.754Z"
    }
   },
   "outputs": [],
   "source": [
    "df_group_bf = df_group.copy()   # 补充后的group备份\n",
    "df_group_bf"
   ]
  },
  {
   "cell_type": "code",
   "execution_count": null,
   "metadata": {
    "ExecuteTime": {
     "end_time": "2021-12-29T01:57:16.934800Z",
     "start_time": "2021-12-29T01:57:11.762Z"
    }
   },
   "outputs": [],
   "source": [
    "# 更新小队情况\n",
    "\n",
    "def update_group(df_group):    \n",
    "    df_group['待补充a人数'] = df_group.apply(lambda x: max(x['a0'] - x['a'], 0), axis=1)\n",
    "    df_group['待剔除a人数'] = df_group.apply(lambda x: max(x['a'] - x['a0'], 0), axis=1)\n",
    "    df_group['待补充b人数'] = df_group.apply(lambda x: max(x['b0'] - x['b'], 0), axis=1)\n",
    "    df_group['待剔除b人数'] = df_group.apply(lambda x: max(x['b'] - x['b0'], 0), axis=1)\n",
    "    df_group['待补充c人数'] = df_group.apply(lambda x: max(x['c0'] - x['c'], 0), axis=1)\n",
    "    df_group['待剔除c人数'] = df_group.apply(lambda x: max(x['c'] - x['c0'], 0), axis=1)\n",
    "    df_group['总待补充人数'] = df_group[['待补充a人数', '待补充b人数', '待补充c人数']].apply(np.sum, axis=1)\n",
    "    df_group['总待剔除人数'] = df_group[[ '待剔除a人数', '待剔除b人数', '待剔除c人数']].apply(np.sum, axis=1)\n",
    "    return df_group\n",
    "  "
   ]
  },
  {
   "cell_type": "code",
   "execution_count": null,
   "metadata": {
    "ExecuteTime": {
     "end_time": "2021-12-29T01:57:16.935794Z",
     "start_time": "2021-12-29T01:57:11.765Z"
    }
   },
   "outputs": [],
   "source": [
    "# 先更新原待剔除小队的情况\n",
    "df_tc_group_update = df_tc_sea.groupby('小队ID')['A类区县内a', 'A类区县外b', '非A类区县内c'].sum() # 待剔除小队现在的情况\n",
    "df_tc_group_ch = df_tc_group_update - df_tc_group  # 剔除小队的人数变化\n",
    "\n",
    "for group_id in df_tc_group_update.index.tolist():\n",
    "    group = df_tc_group_ch.loc[group_id]\n",
    "    d_group = df_group.query('小队ID == @group_id')\n",
    "    num_a = d_group['a'].iloc[0]\n",
    "    num_b = d_group['b'].iloc[0]\n",
    "    num_c = d_group['c'].iloc[0]\n",
    "    df_group.loc[df_group['小队ID']==group_id, 'a'] = num_a + group['A类区县内a']\n",
    "    df_group.loc[df_group['小队ID']==group_id, 'b'] = num_b + group['A类区县外b']\n",
    "    df_group.loc[df_group['小队ID']==group_id, 'c'] = num_c + group['非A类区县内c']\n",
    "# 更新小队 待补充、待剔除人数\n",
    "df_group = update_group(df_group)\n",
    "df_group.head()"
   ]
  },
  {
   "cell_type": "code",
   "execution_count": null,
   "metadata": {
    "ExecuteTime": {
     "end_time": "2021-12-29T01:57:16.937191Z",
     "start_time": "2021-12-29T01:57:11.767Z"
    }
   },
   "outputs": [],
   "source": [
    "df_tc_group_update\n",
    "df_tc_group\n",
    "df_tc_group_ch = df_tc_group_update - df_tc_group\n",
    "df_tc_group_ch"
   ]
  },
  {
   "cell_type": "code",
   "execution_count": null,
   "metadata": {
    "ExecuteTime": {
     "end_time": "2021-12-29T01:57:16.938421Z",
     "start_time": "2021-12-29T01:57:11.769Z"
    }
   },
   "outputs": [],
   "source": [
    "# 待剔除小队---> 加入分组成功 / 分组不成功\n",
    "df_tc_sea_nok = pd.DataFrame()\n",
    "df_tc_sea_ok = pd.DataFrame()\n",
    "\n",
    "for group_id in df_tc_group.index.tolist():\n",
    "    group = df_group.query('小队ID == @group_id')\n",
    "    a_t = group['待剔除a人数'].iloc[0]\n",
    "    b_t = group['待剔除b人数'].iloc[0]\n",
    "    c_t = group['待剔除c人数'].iloc[0]\n",
    "    a0 = group['a0'].iloc[0]\n",
    "    b0 = group['b0'].iloc[0]\n",
    "    c0 = group['c0'].iloc[0]\n",
    "    \n",
    "    # 待剔除数=0\n",
    "    a_driver = df_tc_sea.query('小队ID == @group_id and A类区县内a==1') if a_t == 0 else None  # if的简化语句\n",
    "    b_driver = df_tc_sea.query('小队ID == @group_id and A类区县外b==1') if b_t == 0 else None\n",
    "    c_driver = df_tc_sea.query('小队ID == @group_id and 非A类区县内c==1') if c_t == 0 else None\n",
    "    df_tc_sea_ok = pd.concat([df_tc_sea_ok, a_driver, b_driver, c_driver])\n",
    "    \n",
    "    \n",
    "    # 待剔除数>0 取出指定数目司机组队，剩下的人未组队成功\n",
    "    a_driver2 = df_tc_sea.query('小队ID == @group_id and A类区县内a==1').sample(a0) if a_t > 0 else None\n",
    "    b_driver2 = df_tc_sea.query('小队ID == @group_id and A类区县外b==1').sample(b0) if b_t > 0 else None\n",
    "    c_driver2 = df_tc_sea.query('小队ID == @group_id and 非A类区县内c==1').sample(c0) if c_t > 0 else None\n",
    "    df_tc_sea_ok = pd.concat([df_tc_sea_ok, a_driver2, b_driver2, c_driver2])\n",
    "    \n",
    "    df_tc_sea_ok.loc[:, '补充情况'] = 11\n",
    "    \n",
    "    \n",
    "    # 剔除小队中，组队成功的人 df_tc_sea - df_tc_sea_nok\n",
    "    df_tc_sea_nok = pd.concat([df_tc_sea, df_tc_sea_ok, df_tc_sea_ok]).drop_duplicates(subset='队员id', keep=False)\n",
    "    \n",
    "df_tc_sea_ok['补充后小队ID'] = df_tc_sea_ok['小队ID']\n",
    "df_tc_sea.shape\n",
    "df_tc_sea_ok.shape\n",
    "df_tc_sea_nok.shape"
   ]
  },
  {
   "cell_type": "code",
   "execution_count": null,
   "metadata": {
    "ExecuteTime": {
     "end_time": "2021-12-29T01:57:16.939421Z",
     "start_time": "2021-12-29T01:57:11.771Z"
    }
   },
   "outputs": [],
   "source": [
    "# 更新司机里补充情况\n",
    "df_driver3 = df_driver2.copy()\n",
    "df_driver3['补充后小队ID'] = df_driver3['补充后小队ID'].astype('int')\n",
    "\n",
    "print('组队成功司机-前：{}'.format(df_driver3.query('补充情况 != 0').shape[0]))\n",
    "\n",
    "df_driver3 = pd.concat([df_driver3, df_tc_sea_ok], axis=0).drop_duplicates(subset='队员id', keep='last')\n",
    "\n",
    "print('全部司机: {}'.format(df_driver3.shape[0]))\n",
    "print('组队成功司机-后: {}'.format(df_driver3.query('补充情况 != 0').shape[0]))"
   ]
  },
  {
   "cell_type": "code",
   "execution_count": null,
   "metadata": {
    "ExecuteTime": {
     "end_time": "2021-12-29T01:57:16.940421Z",
     "start_time": "2021-12-29T01:57:11.773Z"
    }
   },
   "outputs": [],
   "source": [
    "# 更新小队abc类司机人数\n",
    "df_group_update = df_driver3.groupby('补充后小队ID')[ ['A类区县内a', 'A类区县外b', '非A类区县内c', '非A类区县外d']].sum()\n",
    "df_group_update.columns = ['a', 'b', 'c', 'd']  \n",
    "df_group_update.reset_index(inplace=True)\n",
    "df_group_update = df_group_update.query('补充后小队ID != 0')  # 不包括组队不成功的司机\n",
    "df_group_update"
   ]
  },
  {
   "cell_type": "code",
   "execution_count": null,
   "metadata": {
    "ExecuteTime": {
     "end_time": "2021-12-29T01:57:16.941421Z",
     "start_time": "2021-12-29T01:57:11.774Z"
    }
   },
   "outputs": [],
   "source": [
    "# 补充小队信息\n",
    "df_group_update = df_group_update.merge(df_group[['区域', '城市id', '城市', '小队ID', '队长id', '队长等级', '应带队人数', '小队活跃区县',  'a0', 'b0', 'c0', 'd0']], \\\n",
    "                               left_on='补充后小队ID', right_on='小队ID')\n",
    "# 重新组织列名顺序\n",
    "df_group_update = df_group_update[['区域', '城市id', '城市', '小队ID', '队长id', '队长等级', '应带队人数', '小队活跃区县', 'a', 'b', 'c', 'd', 'a0', 'b0', 'c0', 'd0']]"
   ]
  },
  {
   "cell_type": "code",
   "execution_count": null,
   "metadata": {
    "ExecuteTime": {
     "end_time": "2021-12-29T01:57:16.942421Z",
     "start_time": "2021-12-29T01:57:11.776Z"
    }
   },
   "outputs": [],
   "source": [
    "# 计算待剔除、待补充人数\n",
    "df_group_update = update_group(df_group_update) \n",
    "df_group_update"
   ]
  },
  {
   "cell_type": "code",
   "execution_count": null,
   "metadata": {
    "ExecuteTime": {
     "end_time": "2021-12-29T01:57:16.943423Z",
     "start_time": "2021-12-29T01:57:11.778Z"
    }
   },
   "outputs": [],
   "source": [
    "df_group"
   ]
  },
  {
   "cell_type": "markdown",
   "metadata": {},
   "source": [
    "## 写入文件"
   ]
  },
  {
   "cell_type": "code",
   "execution_count": null,
   "metadata": {
    "ExecuteTime": {
     "end_time": "2021-12-29T01:57:16.944420Z",
     "start_time": "2021-12-29T01:57:11.780Z"
    }
   },
   "outputs": [],
   "source": [
    "# 第一次组队不成功的司机\n",
    "tc_sea = pd.concat([df_tc_sea_nok, df_sea], axis=0)\n",
    "tc_sea.shape"
   ]
  },
  {
   "cell_type": "code",
   "execution_count": null,
   "metadata": {
    "ExecuteTime": {
     "end_time": "2021-12-29T01:57:16.946425Z",
     "start_time": "2021-12-29T01:57:11.781Z"
    }
   },
   "outputs": [],
   "source": [
    "# 组队成功的司机\n",
    "df_out = df_driver3.query('补充情况 != 0')\n",
    "df_out.shape"
   ]
  },
  {
   "cell_type": "code",
   "execution_count": null,
   "metadata": {
    "ExecuteTime": {
     "end_time": "2021-12-29T01:57:16.946425Z",
     "start_time": "2021-12-29T01:57:11.783Z"
    }
   },
   "outputs": [],
   "source": [
    "writer = pd.ExcelWriter('out.xlsx')\n",
    "df_out.to_excel(writer, '组队成功', index=False)\n",
    "tc_sea.to_excel(writer, '组队不成功', index=False)\n",
    "df_group_update.to_excel(writer, '第一次分组结果-小队', index=False)\n",
    "writer.save()"
   ]
  },
  {
   "cell_type": "code",
   "execution_count": null,
   "metadata": {
    "ExecuteTime": {
     "end_time": "2021-12-29T01:57:16.947421Z",
     "start_time": "2021-12-29T01:57:11.786Z"
    }
   },
   "outputs": [],
   "source": [
    "def write_log(file, lt):\n",
    "    with open(file, 'a') as f:\n",
    "        for line in lt:\n",
    "            f.write(line)\n",
    "            f.write('\\n')"
   ]
  },
  {
   "cell_type": "code",
   "execution_count": null,
   "metadata": {
    "ExecuteTime": {
     "end_time": "2021-12-29T01:57:16.948421Z",
     "start_time": "2021-12-29T01:57:11.788Z"
    }
   },
   "outputs": [],
   "source": [
    "write_log('log_a.txt', log_a)\n",
    "write_log('log_b.txt', log_b)\n",
    "write_log('log_c.txt', log_c)"
   ]
  },
  {
   "cell_type": "code",
   "execution_count": null,
   "metadata": {
    "ExecuteTime": {
     "end_time": "2021-12-29T01:57:16.949422Z",
     "start_time": "2021-12-29T01:57:11.790Z"
    }
   },
   "outputs": [],
   "source": [
    "input('组队成功!: ')"
   ]
  }
 ],
 "metadata": {
  "kernelspec": {
   "display_name": "Python 3",
   "language": "python",
   "name": "python3"
  },
  "language_info": {
   "codemirror_mode": {
    "name": "ipython",
    "version": 3
   },
   "file_extension": ".py",
   "mimetype": "text/x-python",
   "name": "python",
   "nbconvert_exporter": "python",
   "pygments_lexer": "ipython3",
   "version": "3.7.0"
  },
  "toc": {
   "base_numbering": 1,
   "nav_menu": {},
   "number_sections": true,
   "sideBar": true,
   "skip_h1_title": false,
   "title_cell": "Table of Contents",
   "title_sidebar": "Contents",
   "toc_cell": false,
   "toc_position": {
    "height": "calc(100% - 180px)",
    "left": "10px",
    "top": "150px",
    "width": "319.977px"
   },
   "toc_section_display": true,
   "toc_window_display": true
  }
 },
 "nbformat": 4,
 "nbformat_minor": 5
}
