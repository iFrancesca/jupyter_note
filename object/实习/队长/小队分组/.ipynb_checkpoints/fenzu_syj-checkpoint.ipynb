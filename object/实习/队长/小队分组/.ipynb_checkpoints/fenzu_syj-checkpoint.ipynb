{
 "cells": [
  {
   "cell_type": "code",
   "execution_count": 1,
   "id": "7f835c71",
   "metadata": {
    "ExecuteTime": {
     "end_time": "2021-12-23T08:33:10.400484Z",
     "start_time": "2021-12-23T08:33:08.085824Z"
    }
   },
   "outputs": [],
   "source": [
    "import time\n",
    "import shutil\n",
    "import pandas as pd\n",
    "import numpy as np\n",
    "from datetime import datetime\n",
    "from openpyxl import load_workbook\n",
    "from openpyxl import Workbook\n",
    "from openpyxl.utils.dataframe import dataframe_to_rows\n",
    "import re\n",
    "import pandas as pd\n",
    "import numpy as np\n",
    "\n",
    "from IPython.core.interactiveshell import InteractiveShell \n",
    "InteractiveShell.ast_node_interactivity = \"all\"\n"
   ]
  },
  {
   "cell_type": "code",
   "execution_count": 2,
   "id": "3647d076",
   "metadata": {
    "ExecuteTime": {
     "end_time": "2021-12-23T08:33:10.418418Z",
     "start_time": "2021-12-23T08:33:10.402402Z"
    }
   },
   "outputs": [
    {
     "name": "stdout",
     "output_type": "stream",
     "text": [
      "D:\\code\\jupyter\\队长\\小队分组\n"
     ]
    },
    {
     "data": {
      "text/plain": [
       "'D:\\\\file\\\\o\\\\队长\\\\队长评分\\\\分队\\\\test'"
      ]
     },
     "execution_count": 2,
     "metadata": {},
     "output_type": "execute_result"
    }
   ],
   "source": [
    "import os\n",
    "print(os.getcwd())  #当前路径\n",
    "\n",
    "#更改当前路径\n",
    "os.chdir('D:/file/o/队长/队长评分/分队/test/')\n",
    "os.getcwd()"
   ]
  },
  {
   "cell_type": "markdown",
   "id": "c57e060f",
   "metadata": {},
   "source": [
    "## 读取原数据"
   ]
  },
  {
   "cell_type": "code",
   "execution_count": 3,
   "id": "b96d23cb",
   "metadata": {
    "ExecuteTime": {
     "end_time": "2021-12-23T08:33:13.729900Z",
     "start_time": "2021-12-23T08:33:10.420349Z"
    }
   },
   "outputs": [
    {
     "name": "stdout",
     "output_type": "stream",
     "text": [
      "csv文件【单元格格式】设置为数值,保留零位小数: \n"
     ]
    },
    {
     "data": {
      "text/plain": [
       "''"
      ]
     },
     "execution_count": 3,
     "metadata": {},
     "output_type": "execute_result"
    }
   ],
   "source": [
    "input('csv文件【单元格格式】设置为数值,保留零位小数: ')"
   ]
  },
  {
   "cell_type": "code",
   "execution_count": 4,
   "id": "b2ac6e92",
   "metadata": {
    "ExecuteTime": {
     "end_time": "2021-12-23T08:33:14.307791Z",
     "start_time": "2021-12-23T08:33:13.730885Z"
    }
   },
   "outputs": [
    {
     "name": "stdout",
     "output_type": "stream",
     "text": [
      "队员id、、、【显示全部】: \n"
     ]
    },
    {
     "data": {
      "text/plain": [
       "''"
      ]
     },
     "execution_count": 4,
     "metadata": {},
     "output_type": "execute_result"
    }
   ],
   "source": [
    "input('队员id、、、【显示全部】: ')"
   ]
  },
  {
   "cell_type": "code",
   "execution_count": 5,
   "id": "d56f8b81",
   "metadata": {
    "ExecuteTime": {
     "end_time": "2021-12-23T08:33:14.399530Z",
     "start_time": "2021-12-23T08:33:14.315052Z"
    }
   },
   "outputs": [],
   "source": [
    "df_all = pd.read_csv(\"存量小队（2）.csv\", encoding='gbk')    # excel文件，数据格式出现改变  # csv文件单元格格式设置为数值,保留零位小数\n",
    "df_sea = pd.read_excel(\"公海司机（2）.xlsx\")"
   ]
  },
  {
   "cell_type": "code",
   "execution_count": 7,
   "id": "5476e024",
   "metadata": {
    "ExecuteTime": {
     "end_time": "2021-12-23T08:33:15.033111Z",
     "start_time": "2021-12-23T08:33:14.641426Z"
    }
   },
   "outputs": [
    {
     "data": {
      "text/plain": [
       "'\\nfrom IPython.display import display_html\\ndisplay_html(\"\"\"<button onclick=\"$(\\'.input, .prompt, .output_stderr, .output_error\\').toggle();\">Toggle Code</button>\"\"\", raw=True)\\n'"
      ]
     },
     "execution_count": 7,
     "metadata": {},
     "output_type": "execute_result"
    },
    {
     "data": {
      "text/plain": [
       "(122, 15)"
      ]
     },
     "execution_count": 7,
     "metadata": {},
     "output_type": "execute_result"
    },
    {
     "data": {
      "text/plain": [
       "(5, 25)"
      ]
     },
     "execution_count": 7,
     "metadata": {},
     "output_type": "execute_result"
    },
    {
     "data": {
      "text/html": [
       "<div>\n",
       "<style scoped>\n",
       "    .dataframe tbody tr th:only-of-type {\n",
       "        vertical-align: middle;\n",
       "    }\n",
       "\n",
       "    .dataframe tbody tr th {\n",
       "        vertical-align: top;\n",
       "    }\n",
       "\n",
       "    .dataframe thead th {\n",
       "        text-align: right;\n",
       "    }\n",
       "</style>\n",
       "<table border=\"1\" class=\"dataframe\">\n",
       "  <thead>\n",
       "    <tr style=\"text-align: right;\">\n",
       "      <th></th>\n",
       "      <th>区域</th>\n",
       "      <th>城市id</th>\n",
       "      <th>城市</th>\n",
       "      <th>小队ID</th>\n",
       "      <th>队长id</th>\n",
       "      <th>队长等级</th>\n",
       "      <th>应带队人数</th>\n",
       "      <th>小队活跃区县</th>\n",
       "      <th>a</th>\n",
       "      <th>b</th>\n",
       "      <th>c</th>\n",
       "      <th>d</th>\n",
       "      <th>a0</th>\n",
       "      <th>b0</th>\n",
       "      <th>c0</th>\n",
       "      <th>d0</th>\n",
       "      <th>待补充a人数</th>\n",
       "      <th>待补充b人数</th>\n",
       "      <th>待补充c人数</th>\n",
       "      <th>待补充d人数</th>\n",
       "      <th>总待补充人数</th>\n",
       "      <th>待剔除a人数</th>\n",
       "      <th>待剔除b人数</th>\n",
       "      <th>待剔除c人数</th>\n",
       "      <th>总待剔除人数</th>\n",
       "    </tr>\n",
       "  </thead>\n",
       "  <tbody>\n",
       "    <tr>\n",
       "      <th>0</th>\n",
       "      <td>华北区域</td>\n",
       "      <td>1</td>\n",
       "      <td>北京</td>\n",
       "      <td>309040</td>\n",
       "      <td>580542290665999</td>\n",
       "      <td>B</td>\n",
       "      <td>20</td>\n",
       "      <td>朝阳区</td>\n",
       "      <td>6</td>\n",
       "      <td>8</td>\n",
       "      <td>6</td>\n",
       "      <td>0</td>\n",
       "      <td>6</td>\n",
       "      <td>8</td>\n",
       "      <td>6</td>\n",
       "      <td>0</td>\n",
       "      <td>0</td>\n",
       "      <td>0</td>\n",
       "      <td>0</td>\n",
       "      <td>0</td>\n",
       "      <td>0</td>\n",
       "      <td>0</td>\n",
       "      <td>0</td>\n",
       "      <td>0</td>\n",
       "      <td>0</td>\n",
       "    </tr>\n",
       "    <tr>\n",
       "      <th>20</th>\n",
       "      <td>华北区域</td>\n",
       "      <td>1</td>\n",
       "      <td>北京</td>\n",
       "      <td>309041</td>\n",
       "      <td>580542290666000</td>\n",
       "      <td>A</td>\n",
       "      <td>30</td>\n",
       "      <td>海淀区</td>\n",
       "      <td>6</td>\n",
       "      <td>10</td>\n",
       "      <td>7</td>\n",
       "      <td>0</td>\n",
       "      <td>9</td>\n",
       "      <td>12</td>\n",
       "      <td>9</td>\n",
       "      <td>0</td>\n",
       "      <td>3</td>\n",
       "      <td>2</td>\n",
       "      <td>2</td>\n",
       "      <td>0</td>\n",
       "      <td>7</td>\n",
       "      <td>0</td>\n",
       "      <td>0</td>\n",
       "      <td>0</td>\n",
       "      <td>0</td>\n",
       "    </tr>\n",
       "    <tr>\n",
       "      <th>43</th>\n",
       "      <td>华北区域</td>\n",
       "      <td>1</td>\n",
       "      <td>北京</td>\n",
       "      <td>309042</td>\n",
       "      <td>580542290666001</td>\n",
       "      <td>B</td>\n",
       "      <td>20</td>\n",
       "      <td>朝阳区</td>\n",
       "      <td>9</td>\n",
       "      <td>10</td>\n",
       "      <td>9</td>\n",
       "      <td>0</td>\n",
       "      <td>6</td>\n",
       "      <td>8</td>\n",
       "      <td>6</td>\n",
       "      <td>0</td>\n",
       "      <td>0</td>\n",
       "      <td>0</td>\n",
       "      <td>0</td>\n",
       "      <td>0</td>\n",
       "      <td>0</td>\n",
       "      <td>3</td>\n",
       "      <td>2</td>\n",
       "      <td>3</td>\n",
       "      <td>8</td>\n",
       "    </tr>\n",
       "    <tr>\n",
       "      <th>71</th>\n",
       "      <td>华北区域</td>\n",
       "      <td>1</td>\n",
       "      <td>北京</td>\n",
       "      <td>309043</td>\n",
       "      <td>580542290666002</td>\n",
       "      <td>A</td>\n",
       "      <td>30</td>\n",
       "      <td>顺义区</td>\n",
       "      <td>7</td>\n",
       "      <td>15</td>\n",
       "      <td>8</td>\n",
       "      <td>0</td>\n",
       "      <td>9</td>\n",
       "      <td>12</td>\n",
       "      <td>9</td>\n",
       "      <td>0</td>\n",
       "      <td>2</td>\n",
       "      <td>0</td>\n",
       "      <td>1</td>\n",
       "      <td>0</td>\n",
       "      <td>3</td>\n",
       "      <td>0</td>\n",
       "      <td>3</td>\n",
       "      <td>0</td>\n",
       "      <td>3</td>\n",
       "    </tr>\n",
       "    <tr>\n",
       "      <th>101</th>\n",
       "      <td>华北区域</td>\n",
       "      <td>1</td>\n",
       "      <td>北京</td>\n",
       "      <td>309044</td>\n",
       "      <td>580542290666003</td>\n",
       "      <td>B</td>\n",
       "      <td>20</td>\n",
       "      <td>昌平区</td>\n",
       "      <td>6</td>\n",
       "      <td>10</td>\n",
       "      <td>5</td>\n",
       "      <td>0</td>\n",
       "      <td>6</td>\n",
       "      <td>8</td>\n",
       "      <td>6</td>\n",
       "      <td>0</td>\n",
       "      <td>0</td>\n",
       "      <td>0</td>\n",
       "      <td>1</td>\n",
       "      <td>0</td>\n",
       "      <td>1</td>\n",
       "      <td>0</td>\n",
       "      <td>2</td>\n",
       "      <td>0</td>\n",
       "      <td>2</td>\n",
       "    </tr>\n",
       "  </tbody>\n",
       "</table>\n",
       "</div>"
      ],
      "text/plain": [
       "       区域  城市id  城市    小队ID             队长id 队长等级  应带队人数 小队活跃区县  a   b  c  d  \\\n",
       "0    华北区域     1  北京  309040  580542290665999    B     20    朝阳区  6   8  6  0   \n",
       "20   华北区域     1  北京  309041  580542290666000    A     30    海淀区  6  10  7  0   \n",
       "43   华北区域     1  北京  309042  580542290666001    B     20    朝阳区  9  10  9  0   \n",
       "71   华北区域     1  北京  309043  580542290666002    A     30    顺义区  7  15  8  0   \n",
       "101  华北区域     1  北京  309044  580542290666003    B     20    昌平区  6  10  5  0   \n",
       "\n",
       "     a0  b0  c0  d0  待补充a人数  待补充b人数  待补充c人数  待补充d人数  总待补充人数  待剔除a人数  待剔除b人数  \\\n",
       "0     6   8   6   0       0       0       0       0       0       0       0   \n",
       "20    9  12   9   0       3       2       2       0       7       0       0   \n",
       "43    6   8   6   0       0       0       0       0       0       3       2   \n",
       "71    9  12   9   0       2       0       1       0       3       0       3   \n",
       "101   6   8   6   0       0       0       1       0       1       0       2   \n",
       "\n",
       "     待剔除c人数  总待剔除人数  \n",
       "0         0       0  \n",
       "20        0       0  \n",
       "43        3       8  \n",
       "71        0       3  \n",
       "101       0       2  "
      ]
     },
     "execution_count": 7,
     "metadata": {},
     "output_type": "execute_result"
    },
    {
     "data": {
      "text/html": [
       "<div>\n",
       "<style scoped>\n",
       "    .dataframe tbody tr th:only-of-type {\n",
       "        vertical-align: middle;\n",
       "    }\n",
       "\n",
       "    .dataframe tbody tr th {\n",
       "        vertical-align: top;\n",
       "    }\n",
       "\n",
       "    .dataframe thead th {\n",
       "        text-align: right;\n",
       "    }\n",
       "</style>\n",
       "<table border=\"1\" class=\"dataframe\">\n",
       "  <thead>\n",
       "    <tr style=\"text-align: right;\">\n",
       "      <th></th>\n",
       "      <th>区域</th>\n",
       "      <th>城市id</th>\n",
       "      <th>城市</th>\n",
       "      <th>小队ID</th>\n",
       "      <th>队长id</th>\n",
       "      <th>队长等级</th>\n",
       "      <th>应带队人数</th>\n",
       "      <th>小队活跃区县</th>\n",
       "      <th>队员id</th>\n",
       "      <th>队员等级</th>\n",
       "      <th>队员活跃区县</th>\n",
       "      <th>A类区县内a</th>\n",
       "      <th>A类区县外b</th>\n",
       "      <th>非A类区县内c</th>\n",
       "      <th>非A类区县外d</th>\n",
       "      <th>a</th>\n",
       "      <th>b</th>\n",
       "      <th>c</th>\n",
       "      <th>d</th>\n",
       "      <th>a0</th>\n",
       "      <th>b0</th>\n",
       "      <th>c0</th>\n",
       "      <th>d0</th>\n",
       "      <th>待补充a人数</th>\n",
       "      <th>待补充b人数</th>\n",
       "      <th>待补充c人数</th>\n",
       "      <th>待补充d人数</th>\n",
       "      <th>总待补充人数</th>\n",
       "      <th>待剔除a人数</th>\n",
       "      <th>待剔除b人数</th>\n",
       "      <th>待剔除c人数</th>\n",
       "      <th>总待剔除人数</th>\n",
       "    </tr>\n",
       "  </thead>\n",
       "  <tbody>\n",
       "    <tr>\n",
       "      <th>0</th>\n",
       "      <td>华北区域</td>\n",
       "      <td>1</td>\n",
       "      <td>北京</td>\n",
       "      <td>309040</td>\n",
       "      <td>580542290665999</td>\n",
       "      <td>B</td>\n",
       "      <td>20</td>\n",
       "      <td>朝阳区</td>\n",
       "      <td>564968020839319</td>\n",
       "      <td>A</td>\n",
       "      <td>朝阳区</td>\n",
       "      <td>1</td>\n",
       "      <td>0</td>\n",
       "      <td>0</td>\n",
       "      <td>0</td>\n",
       "      <td>6</td>\n",
       "      <td>8</td>\n",
       "      <td>6</td>\n",
       "      <td>0</td>\n",
       "      <td>6</td>\n",
       "      <td>8</td>\n",
       "      <td>6</td>\n",
       "      <td>0</td>\n",
       "      <td>0</td>\n",
       "      <td>0</td>\n",
       "      <td>0</td>\n",
       "      <td>0</td>\n",
       "      <td>0</td>\n",
       "      <td>0</td>\n",
       "      <td>0</td>\n",
       "      <td>0</td>\n",
       "      <td>0</td>\n",
       "    </tr>\n",
       "    <tr>\n",
       "      <th>1</th>\n",
       "      <td>华北区域</td>\n",
       "      <td>1</td>\n",
       "      <td>北京</td>\n",
       "      <td>309040</td>\n",
       "      <td>580542290665999</td>\n",
       "      <td>B</td>\n",
       "      <td>20</td>\n",
       "      <td>朝阳区</td>\n",
       "      <td>564968020839320</td>\n",
       "      <td>A</td>\n",
       "      <td>朝阳区</td>\n",
       "      <td>1</td>\n",
       "      <td>0</td>\n",
       "      <td>0</td>\n",
       "      <td>0</td>\n",
       "      <td>6</td>\n",
       "      <td>8</td>\n",
       "      <td>6</td>\n",
       "      <td>0</td>\n",
       "      <td>6</td>\n",
       "      <td>8</td>\n",
       "      <td>6</td>\n",
       "      <td>0</td>\n",
       "      <td>0</td>\n",
       "      <td>0</td>\n",
       "      <td>0</td>\n",
       "      <td>0</td>\n",
       "      <td>0</td>\n",
       "      <td>0</td>\n",
       "      <td>0</td>\n",
       "      <td>0</td>\n",
       "      <td>0</td>\n",
       "    </tr>\n",
       "    <tr>\n",
       "      <th>2</th>\n",
       "      <td>华北区域</td>\n",
       "      <td>1</td>\n",
       "      <td>北京</td>\n",
       "      <td>309040</td>\n",
       "      <td>580542290665999</td>\n",
       "      <td>B</td>\n",
       "      <td>20</td>\n",
       "      <td>朝阳区</td>\n",
       "      <td>564968020839321</td>\n",
       "      <td>A</td>\n",
       "      <td>朝阳区</td>\n",
       "      <td>1</td>\n",
       "      <td>0</td>\n",
       "      <td>0</td>\n",
       "      <td>0</td>\n",
       "      <td>6</td>\n",
       "      <td>8</td>\n",
       "      <td>6</td>\n",
       "      <td>0</td>\n",
       "      <td>6</td>\n",
       "      <td>8</td>\n",
       "      <td>6</td>\n",
       "      <td>0</td>\n",
       "      <td>0</td>\n",
       "      <td>0</td>\n",
       "      <td>0</td>\n",
       "      <td>0</td>\n",
       "      <td>0</td>\n",
       "      <td>0</td>\n",
       "      <td>0</td>\n",
       "      <td>0</td>\n",
       "      <td>0</td>\n",
       "    </tr>\n",
       "    <tr>\n",
       "      <th>3</th>\n",
       "      <td>华北区域</td>\n",
       "      <td>1</td>\n",
       "      <td>北京</td>\n",
       "      <td>309040</td>\n",
       "      <td>580542290665999</td>\n",
       "      <td>B</td>\n",
       "      <td>20</td>\n",
       "      <td>朝阳区</td>\n",
       "      <td>564968020839322</td>\n",
       "      <td>A</td>\n",
       "      <td>朝阳区</td>\n",
       "      <td>1</td>\n",
       "      <td>0</td>\n",
       "      <td>0</td>\n",
       "      <td>0</td>\n",
       "      <td>6</td>\n",
       "      <td>8</td>\n",
       "      <td>6</td>\n",
       "      <td>0</td>\n",
       "      <td>6</td>\n",
       "      <td>8</td>\n",
       "      <td>6</td>\n",
       "      <td>0</td>\n",
       "      <td>0</td>\n",
       "      <td>0</td>\n",
       "      <td>0</td>\n",
       "      <td>0</td>\n",
       "      <td>0</td>\n",
       "      <td>0</td>\n",
       "      <td>0</td>\n",
       "      <td>0</td>\n",
       "      <td>0</td>\n",
       "    </tr>\n",
       "    <tr>\n",
       "      <th>4</th>\n",
       "      <td>华北区域</td>\n",
       "      <td>1</td>\n",
       "      <td>北京</td>\n",
       "      <td>309040</td>\n",
       "      <td>580542290665999</td>\n",
       "      <td>B</td>\n",
       "      <td>20</td>\n",
       "      <td>朝阳区</td>\n",
       "      <td>564968020839323</td>\n",
       "      <td>A</td>\n",
       "      <td>朝阳区</td>\n",
       "      <td>1</td>\n",
       "      <td>0</td>\n",
       "      <td>0</td>\n",
       "      <td>0</td>\n",
       "      <td>6</td>\n",
       "      <td>8</td>\n",
       "      <td>6</td>\n",
       "      <td>0</td>\n",
       "      <td>6</td>\n",
       "      <td>8</td>\n",
       "      <td>6</td>\n",
       "      <td>0</td>\n",
       "      <td>0</td>\n",
       "      <td>0</td>\n",
       "      <td>0</td>\n",
       "      <td>0</td>\n",
       "      <td>0</td>\n",
       "      <td>0</td>\n",
       "      <td>0</td>\n",
       "      <td>0</td>\n",
       "      <td>0</td>\n",
       "    </tr>\n",
       "  </tbody>\n",
       "</table>\n",
       "</div>"
      ],
      "text/plain": [
       "     区域  城市id  城市    小队ID             队长id 队长等级  应带队人数 小队活跃区县  \\\n",
       "0  华北区域     1  北京  309040  580542290665999    B     20    朝阳区   \n",
       "1  华北区域     1  北京  309040  580542290665999    B     20    朝阳区   \n",
       "2  华北区域     1  北京  309040  580542290665999    B     20    朝阳区   \n",
       "3  华北区域     1  北京  309040  580542290665999    B     20    朝阳区   \n",
       "4  华北区域     1  北京  309040  580542290665999    B     20    朝阳区   \n",
       "\n",
       "              队员id 队员等级 队员活跃区县  A类区县内a  A类区县外b  非A类区县内c  非A类区县外d  a  b  c  d  \\\n",
       "0  564968020839319    A    朝阳区       1       0        0        0  6  8  6  0   \n",
       "1  564968020839320    A    朝阳区       1       0        0        0  6  8  6  0   \n",
       "2  564968020839321    A    朝阳区       1       0        0        0  6  8  6  0   \n",
       "3  564968020839322    A    朝阳区       1       0        0        0  6  8  6  0   \n",
       "4  564968020839323    A    朝阳区       1       0        0        0  6  8  6  0   \n",
       "\n",
       "   a0  b0  c0  d0  待补充a人数  待补充b人数  待补充c人数  待补充d人数  总待补充人数  待剔除a人数  待剔除b人数  \\\n",
       "0   6   8   6   0       0       0       0       0       0       0       0   \n",
       "1   6   8   6   0       0       0       0       0       0       0       0   \n",
       "2   6   8   6   0       0       0       0       0       0       0       0   \n",
       "3   6   8   6   0       0       0       0       0       0       0       0   \n",
       "4   6   8   6   0       0       0       0       0       0       0       0   \n",
       "\n",
       "   待剔除c人数  总待剔除人数  \n",
       "0       0       0  \n",
       "1       0       0  \n",
       "2       0       0  \n",
       "3       0       0  \n",
       "4       0       0  "
      ]
     },
     "execution_count": 7,
     "metadata": {},
     "output_type": "execute_result"
    }
   ],
   "source": [
    "# 司机\n",
    "df_driver = df_all[['区域', '城市id', '城市', '小队ID', '队长id', '队长等级', '应带队人数', '小队活跃区县', '队员id',\n",
    "       '队员等级', '队员活跃区县', 'A类区县内a', 'A类区县外b', '非A类区县内c', '非A类区县外d']]\n",
    "df_driver.shape\n",
    "# 小队\n",
    "df_group = df_all[['区域', '城市id', '城市', '小队ID', '队长id', '队长等级', '应带队人数', '小队活跃区县', 'a', 'b',\n",
    "       'c', 'd', 'a0', 'b0', 'c0', 'd0', '待补充a人数', '待补充b人数', '待补充c人数',\n",
    "       '待补充d人数', '总待补充人数', '待剔除a人数', '待剔除b人数', '待剔除c人数', '总待剔除人数']].drop_duplicates('小队ID')\n",
    "\n",
    "df_all = pd.merge(left=df_driver, right=df_group, how='left')\n",
    "df_all.head()\n",
    "\n",
    "\n",
    "writer = pd.ExcelWriter('data.xlsx')\n",
    "df_all.to_excel(writer,'all',index=False)\n",
    "df_driver.to_excel(writer,'driver',index=False)\n",
    "df_group.to_excel(writer,'group',index=False)\n",
    "writer.save()\n"
   ]
  },
  {
   "cell_type": "code",
   "execution_count": 10,
   "id": "e73468d4",
   "metadata": {
    "ExecuteTime": {
     "end_time": "2021-12-23T08:33:18.217868Z",
     "start_time": "2021-12-23T08:33:15.062816Z"
    },
    "scrolled": true
   },
   "outputs": [
    {
     "data": {
      "text/plain": [
       "\"\\ndf_all[df_all.columns] = df_all[df_all.columns].astype('int64')\\n\""
      ]
     },
     "execution_count": 10,
     "metadata": {},
     "output_type": "execute_result"
    },
    {
     "data": {
      "text/html": [
       "<div>\n",
       "<style scoped>\n",
       "    .dataframe tbody tr th:only-of-type {\n",
       "        vertical-align: middle;\n",
       "    }\n",
       "\n",
       "    .dataframe tbody tr th {\n",
       "        vertical-align: top;\n",
       "    }\n",
       "\n",
       "    .dataframe thead th {\n",
       "        text-align: right;\n",
       "    }\n",
       "</style>\n",
       "<table border=\"1\" class=\"dataframe\">\n",
       "  <thead>\n",
       "    <tr style=\"text-align: right;\">\n",
       "      <th></th>\n",
       "      <th>区域</th>\n",
       "      <th>城市id</th>\n",
       "      <th>城市</th>\n",
       "      <th>小队ID</th>\n",
       "      <th>队长id</th>\n",
       "      <th>队长等级</th>\n",
       "      <th>应带队人数</th>\n",
       "      <th>小队活跃区县</th>\n",
       "      <th>队员id</th>\n",
       "      <th>队员等级</th>\n",
       "      <th>队员活跃区县</th>\n",
       "      <th>A类区县内a</th>\n",
       "      <th>A类区县外b</th>\n",
       "      <th>非A类区县内c</th>\n",
       "      <th>非A类区县外d</th>\n",
       "      <th>a</th>\n",
       "      <th>b</th>\n",
       "      <th>c</th>\n",
       "      <th>d</th>\n",
       "      <th>a0</th>\n",
       "      <th>b0</th>\n",
       "      <th>c0</th>\n",
       "      <th>d0</th>\n",
       "      <th>待补充a人数</th>\n",
       "      <th>待补充b人数</th>\n",
       "      <th>待补充c人数</th>\n",
       "      <th>待补充d人数</th>\n",
       "      <th>总待补充人数</th>\n",
       "      <th>待剔除a人数</th>\n",
       "      <th>待剔除b人数</th>\n",
       "      <th>待剔除c人数</th>\n",
       "      <th>总待剔除人数</th>\n",
       "    </tr>\n",
       "  </thead>\n",
       "  <tbody>\n",
       "    <tr>\n",
       "      <th>16</th>\n",
       "      <td>华北区域</td>\n",
       "      <td>1</td>\n",
       "      <td>北京</td>\n",
       "      <td>309040</td>\n",
       "      <td>580542290665999</td>\n",
       "      <td>B</td>\n",
       "      <td>20</td>\n",
       "      <td>朝阳区</td>\n",
       "      <td>564968020839335</td>\n",
       "      <td>B</td>\n",
       "      <td>朝阳区</td>\n",
       "      <td>0</td>\n",
       "      <td>0</td>\n",
       "      <td>1</td>\n",
       "      <td>0</td>\n",
       "      <td>6</td>\n",
       "      <td>8</td>\n",
       "      <td>6</td>\n",
       "      <td>0</td>\n",
       "      <td>6</td>\n",
       "      <td>8</td>\n",
       "      <td>6</td>\n",
       "      <td>0</td>\n",
       "      <td>0</td>\n",
       "      <td>0</td>\n",
       "      <td>0</td>\n",
       "      <td>0</td>\n",
       "      <td>0</td>\n",
       "      <td>0</td>\n",
       "      <td>0</td>\n",
       "      <td>0</td>\n",
       "      <td>0</td>\n",
       "    </tr>\n",
       "    <tr>\n",
       "      <th>65</th>\n",
       "      <td>华北区域</td>\n",
       "      <td>1</td>\n",
       "      <td>北京</td>\n",
       "      <td>309042</td>\n",
       "      <td>580542290666001</td>\n",
       "      <td>B</td>\n",
       "      <td>20</td>\n",
       "      <td>朝阳区</td>\n",
       "      <td>564968020839384</td>\n",
       "      <td>B</td>\n",
       "      <td>朝阳区</td>\n",
       "      <td>0</td>\n",
       "      <td>0</td>\n",
       "      <td>1</td>\n",
       "      <td>0</td>\n",
       "      <td>9</td>\n",
       "      <td>10</td>\n",
       "      <td>9</td>\n",
       "      <td>0</td>\n",
       "      <td>6</td>\n",
       "      <td>8</td>\n",
       "      <td>6</td>\n",
       "      <td>0</td>\n",
       "      <td>0</td>\n",
       "      <td>0</td>\n",
       "      <td>0</td>\n",
       "      <td>0</td>\n",
       "      <td>0</td>\n",
       "      <td>3</td>\n",
       "      <td>2</td>\n",
       "      <td>3</td>\n",
       "      <td>8</td>\n",
       "    </tr>\n",
       "    <tr>\n",
       "      <th>20</th>\n",
       "      <td>华北区域</td>\n",
       "      <td>1</td>\n",
       "      <td>北京</td>\n",
       "      <td>309041</td>\n",
       "      <td>580542290666000</td>\n",
       "      <td>A</td>\n",
       "      <td>30</td>\n",
       "      <td>海淀区</td>\n",
       "      <td>564968020839339</td>\n",
       "      <td>A</td>\n",
       "      <td>海淀区</td>\n",
       "      <td>1</td>\n",
       "      <td>0</td>\n",
       "      <td>0</td>\n",
       "      <td>0</td>\n",
       "      <td>6</td>\n",
       "      <td>10</td>\n",
       "      <td>7</td>\n",
       "      <td>0</td>\n",
       "      <td>9</td>\n",
       "      <td>12</td>\n",
       "      <td>9</td>\n",
       "      <td>0</td>\n",
       "      <td>3</td>\n",
       "      <td>2</td>\n",
       "      <td>2</td>\n",
       "      <td>0</td>\n",
       "      <td>7</td>\n",
       "      <td>0</td>\n",
       "      <td>0</td>\n",
       "      <td>0</td>\n",
       "      <td>0</td>\n",
       "    </tr>\n",
       "    <tr>\n",
       "      <th>50</th>\n",
       "      <td>华北区域</td>\n",
       "      <td>1</td>\n",
       "      <td>北京</td>\n",
       "      <td>309042</td>\n",
       "      <td>580542290666001</td>\n",
       "      <td>B</td>\n",
       "      <td>20</td>\n",
       "      <td>朝阳区</td>\n",
       "      <td>564968020839369</td>\n",
       "      <td>A</td>\n",
       "      <td>朝阳区</td>\n",
       "      <td>1</td>\n",
       "      <td>0</td>\n",
       "      <td>0</td>\n",
       "      <td>0</td>\n",
       "      <td>9</td>\n",
       "      <td>10</td>\n",
       "      <td>9</td>\n",
       "      <td>0</td>\n",
       "      <td>6</td>\n",
       "      <td>8</td>\n",
       "      <td>6</td>\n",
       "      <td>0</td>\n",
       "      <td>0</td>\n",
       "      <td>0</td>\n",
       "      <td>0</td>\n",
       "      <td>0</td>\n",
       "      <td>0</td>\n",
       "      <td>3</td>\n",
       "      <td>2</td>\n",
       "      <td>3</td>\n",
       "      <td>8</td>\n",
       "    </tr>\n",
       "    <tr>\n",
       "      <th>118</th>\n",
       "      <td>华北区域</td>\n",
       "      <td>1</td>\n",
       "      <td>北京</td>\n",
       "      <td>309044</td>\n",
       "      <td>580542290666003</td>\n",
       "      <td>B</td>\n",
       "      <td>20</td>\n",
       "      <td>昌平区</td>\n",
       "      <td>564968020839437</td>\n",
       "      <td>B</td>\n",
       "      <td>昌平区</td>\n",
       "      <td>0</td>\n",
       "      <td>0</td>\n",
       "      <td>1</td>\n",
       "      <td>0</td>\n",
       "      <td>6</td>\n",
       "      <td>10</td>\n",
       "      <td>5</td>\n",
       "      <td>0</td>\n",
       "      <td>6</td>\n",
       "      <td>8</td>\n",
       "      <td>6</td>\n",
       "      <td>0</td>\n",
       "      <td>0</td>\n",
       "      <td>0</td>\n",
       "      <td>1</td>\n",
       "      <td>0</td>\n",
       "      <td>1</td>\n",
       "      <td>0</td>\n",
       "      <td>2</td>\n",
       "      <td>0</td>\n",
       "      <td>2</td>\n",
       "    </tr>\n",
       "  </tbody>\n",
       "</table>\n",
       "</div>"
      ],
      "text/plain": [
       "       区域  城市id  城市    小队ID             队长id 队长等级  应带队人数 小队活跃区县  \\\n",
       "16   华北区域     1  北京  309040  580542290665999    B     20    朝阳区   \n",
       "65   华北区域     1  北京  309042  580542290666001    B     20    朝阳区   \n",
       "20   华北区域     1  北京  309041  580542290666000    A     30    海淀区   \n",
       "50   华北区域     1  北京  309042  580542290666001    B     20    朝阳区   \n",
       "118  华北区域     1  北京  309044  580542290666003    B     20    昌平区   \n",
       "\n",
       "                队员id 队员等级 队员活跃区县  A类区县内a  A类区县外b  非A类区县内c  非A类区县外d  a   b  c  \\\n",
       "16   564968020839335    B    朝阳区       0       0        1        0  6   8  6   \n",
       "65   564968020839384    B    朝阳区       0       0        1        0  9  10  9   \n",
       "20   564968020839339    A    海淀区       1       0        0        0  6  10  7   \n",
       "50   564968020839369    A    朝阳区       1       0        0        0  9  10  9   \n",
       "118  564968020839437    B    昌平区       0       0        1        0  6  10  5   \n",
       "\n",
       "     d  a0  b0  c0  d0  待补充a人数  待补充b人数  待补充c人数  待补充d人数  总待补充人数  待剔除a人数  \\\n",
       "16   0   6   8   6   0       0       0       0       0       0       0   \n",
       "65   0   6   8   6   0       0       0       0       0       0       3   \n",
       "20   0   9  12   9   0       3       2       2       0       7       0   \n",
       "50   0   6   8   6   0       0       0       0       0       0       3   \n",
       "118  0   6   8   6   0       0       0       1       0       1       0   \n",
       "\n",
       "     待剔除b人数  待剔除c人数  总待剔除人数  \n",
       "16        0       0       0  \n",
       "65        2       3       8  \n",
       "20        0       0       0  \n",
       "50        2       3       8  \n",
       "118       2       0       2  "
      ]
     },
     "execution_count": 10,
     "metadata": {},
     "output_type": "execute_result"
    }
   ],
   "source": [
    "# 打乱df_all\n",
    "from sklearn.utils import shuffle  \n",
    "df_all = shuffle(df_all)  \n",
    "df_all.head()"
   ]
  },
  {
   "cell_type": "code",
   "execution_count": 12,
   "id": "ec180e22",
   "metadata": {
    "ExecuteTime": {
     "end_time": "2021-12-23T08:33:18.236417Z",
     "start_time": "2021-12-23T08:33:18.226832Z"
    }
   },
   "outputs": [
    {
     "data": {
      "text/plain": [
       "'\\ndf_sea = shuffle(df_sea.assign(被补充=0, 被剔除=0))\\ndf_driver = shuffle(df_driver.assign(被补充=0, 被剔除=0))\\ndf_group = df_group.assign(是否补充完=0, 是否剔除完=0)\\ndf_sea.head()\\ndf_driver.head()\\ndf_group.head()\\n'"
      ]
     },
     "execution_count": 12,
     "metadata": {},
     "output_type": "execute_result"
    }
   ],
   "source": [
    "df_all = shuffle(df_all.assign(补充情况=0)) # b补充情况 0-没有补充 1-补充且补全了 2-补充但没补全\n",
    "df_driver = shuffle(df_driver.assign(补充情况=0)) # b补充情况 0-没有补充 1-补充且补全了 2-补充但没补全\n",
    "df_driver = df_driver.assign(补充后小队ID=0)"
   ]
  },
  {
   "cell_type": "code",
   "execution_count": 16,
   "id": "4d479514",
   "metadata": {
    "ExecuteTime": {
     "end_time": "2021-12-23T08:33:18.377817Z",
     "start_time": "2021-12-23T08:33:18.371833Z"
    }
   },
   "outputs": [
    {
     "data": {
      "text/plain": [
       "2"
      ]
     },
     "execution_count": 16,
     "metadata": {},
     "output_type": "execute_result"
    },
    {
     "data": {
      "text/plain": [
       "3"
      ]
     },
     "execution_count": 16,
     "metadata": {},
     "output_type": "execute_result"
    }
   ],
   "source": [
    "# 待补充和待剔除人数大于0的小队的数量\n",
    "1 + 1 # 待补充 2\n",
    "2 + 1  # 待剔除 3"
   ]
  },
  {
   "cell_type": "markdown",
   "id": "9427e231",
   "metadata": {},
   "source": [
    "## 标记不需要补充、不需要剔除的司机"
   ]
  },
  {
   "cell_type": "code",
   "execution_count": 19,
   "id": "5d83801e",
   "metadata": {
    "ExecuteTime": {
     "end_time": "2021-12-23T08:33:18.421461Z",
     "start_time": "2021-12-23T08:33:18.401333Z"
    }
   },
   "outputs": [],
   "source": [
    "lt_no_bt = df_all.query(' (a==a0 and A类区县内a==1) | (b==b0 and A类区县外b==1) | (c==c0 and 非A类区县内c==1) ')['队员id'].values.tolist()\n",
    "df_driver.loc[df_driver['队员id'].isin(lt_no_bt), '补充情况'] = 1 \n",
    "df_driver.loc[:, '补充后小队ID'] = df_driver.apply(lambda x: x['小队ID'] if x['补充情况']==1 else 0, axis=1) "
   ]
  },
  {
   "cell_type": "markdown",
   "id": "60ff8308",
   "metadata": {},
   "source": [
    "## 补充小队"
   ]
  },
  {
   "cell_type": "code",
   "execution_count": 21,
   "id": "f78b18b7",
   "metadata": {
    "ExecuteTime": {
     "end_time": "2021-12-23T08:33:18.454573Z",
     "start_time": "2021-12-23T08:33:18.444365Z"
    },
    "scrolled": true
   },
   "outputs": [
    {
     "name": "stderr",
     "output_type": "stream",
     "text": [
      "<ipython-input-21-37dfc8c1d820>:5: SettingWithCopyWarning: \n",
      "A value is trying to be set on a copy of a slice from a DataFrame\n",
      "\n",
      "See the caveats in the documentation: https://pandas.pydata.org/pandas-docs/stable/user_guide/indexing.html#returning-a-view-versus-a-copy\n",
      "  df_bc_group.sort_values(by=\"总待补充人数\",ascending=True, inplace=True)\n"
     ]
    },
    {
     "data": {
      "text/plain": [
       "(3, 25)"
      ]
     },
     "execution_count": 21,
     "metadata": {},
     "output_type": "execute_result"
    }
   ],
   "source": [
    "#待补充的小队\n",
    "df_bc_group = df_group.query('总待补充人数>=1')\n",
    "df_bc_group.sort_values(by=\"总待补充人数\",ascending=True, inplace=True)"
   ]
  },
  {
   "cell_type": "code",
   "execution_count": 22,
   "id": "d774ad1c",
   "metadata": {
    "ExecuteTime": {
     "end_time": "2021-12-23T08:33:18.477749Z",
     "start_time": "2021-12-23T08:33:18.456796Z"
    },
    "scrolled": true
   },
   "outputs": [
    {
     "data": {
      "text/plain": [
       "\"\\nframes = []\\nfor i in range(df_tc_group.shape[0]):\\n    group = df_tc_group.iloc[i]\\n    group_id = group['小队ID']\\n    \\n    if group['待补充a人数'] > 0:\\n        frames.append(df_driver.query('小队ID == @group_id and A类区县内a == 1'))\\n    if group['待补充b人数'] > 0:\\n        frames.append(df_driver.query('小队ID == @group_id and A类区县外b == 1'))\\n    if group['待补充c人数'] > 0:\\n        frames.append(df_driver.query('小队ID == @group_id and 非A类区县内c == 1'))\\n        \""
      ]
     },
     "execution_count": 22,
     "metadata": {},
     "output_type": "execute_result"
    },
    {
     "data": {
      "text/plain": [
       "''"
      ]
     },
     "execution_count": 22,
     "metadata": {},
     "output_type": "execute_result"
    },
    {
     "name": "stderr",
     "output_type": "stream",
     "text": [
      "<ipython-input-22-9adfa5ba5ddd>:22: SettingWithCopyWarning: \n",
      "A value is trying to be set on a copy of a slice from a DataFrame\n",
      "\n",
      "See the caveats in the documentation: https://pandas.pydata.org/pandas-docs/stable/user_guide/indexing.html#returning-a-view-versus-a-copy\n",
      "  df_tc_sea.sort_values(by = [\"总待剔除人数\"],ascending=False, inplace=True)\n"
     ]
    },
    {
     "data": {
      "text/plain": [
       "(53, 16)"
      ]
     },
     "execution_count": 22,
     "metadata": {},
     "output_type": "execute_result"
    }
   ],
   "source": [
    "#待剔除小队\n",
    "df_tc_sea = df_all.query('(待剔除a人数>0 and A类区县内a==1) | (待剔除b人数>0 and A类区县外b==1) | (待剔除c人数>0 and 非A类区县内c==1)')\n",
    "df_tc_sea.sort_values(by = [\"总待剔除人数\"],ascending=False, inplace=True)\n",
    "df_tc_sea = df_tc_sea[df_driver.columns[:-1]]\n",
    "df_tc_sea.shape  "
   ]
  },
  {
   "cell_type": "code",
   "execution_count": 23,
   "id": "385d8f56",
   "metadata": {
    "ExecuteTime": {
     "end_time": "2021-12-23T08:33:18.486718Z",
     "start_time": "2021-12-23T08:33:18.481730Z"
    }
   },
   "outputs": [],
   "source": [
    "# 补充完的司机表\n",
    "df_bc_ok = pd.DataFrame()\n",
    "# 没有补充完的司机表\n",
    "df_bc_nok = pd.DataFrame()\n",
    "# 剔除了的司机表\n",
    "df_tc_table = pd.DataFrame()"
   ]
  },
  {
   "cell_type": "code",
   "execution_count": 25,
   "id": "70810a70",
   "metadata": {
    "ExecuteTime": {
     "end_time": "2021-12-23T08:33:18.502557Z",
     "start_time": "2021-12-23T08:33:18.499556Z"
    }
   },
   "outputs": [],
   "source": [
    "# 记录小队补充情况\n",
    "log_a = []\n",
    "log_b = []\n",
    "log_c = []"
   ]
  },
  {
   "cell_type": "code",
   "execution_count": 26,
   "id": "55b5a695",
   "metadata": {
    "ExecuteTime": {
     "end_time": "2021-12-23T08:33:18.510045Z",
     "start_time": "2021-12-23T08:33:18.504541Z"
    }
   },
   "outputs": [],
   "source": [
    "# 补充完的小队加入列表\n",
    "a_lt = []\n",
    "b_lt = []  \n",
    "c_lt = []  "
   ]
  },
  {
   "cell_type": "markdown",
   "id": "9f59f8cf",
   "metadata": {},
   "source": [
    "## test-先补充一个小队内的c类司机"
   ]
  },
  {
   "cell_type": "code",
   "execution_count": 27,
   "id": "1127837e",
   "metadata": {
    "ExecuteTime": {
     "end_time": "2021-12-23T08:33:18.539037Z",
     "start_time": "2021-12-23T08:33:18.513082Z"
    }
   },
   "outputs": [],
   "source": [
    "# 补充一个小队的司机\n",
    "def bc(driver, df_sea, num, abc):\n",
    "    global group_id, df_tc_table, df_group\n",
    "    \n",
    "    if abc == 'a':\n",
    "        df_sea_target = df_sea.query('队员活跃区县 == @city and 队员等级 == \"A\"')\n",
    "        \n",
    "        sea = df_sea_target[:num] \n",
    "        \n",
    "        df_tc_table = pd.concat([df_tc_table, sea])\n",
    "        log_a.append('{}: 补充前公海有{}人'.format(group_id, df_sea.shape[0]))\n",
    "    \n",
    "        df_sea = pd.concat([df_sea, sea], axis=0).drop_duplicates(subset=['队员id'], keep=False) \n",
    "        log_a.append('{}: 补充后公海有{}人'.format(group_id, df_sea.shape[0]))\n",
    "    \n",
    "        df_group.loc[df_group['小队ID']==group_id, '待补充a人数'] = df_group.loc[df_group['小队ID']==group_id, '待补充a人数'].iloc[0] - sea.shape[0]\n",
    "        df_group.loc[df_group['小队ID']==group_id, 'a'] = df_group.loc[df_group['小队ID']==group_id, 'a'].iloc[0] + sea.shape[0]\n",
    "        df_group.loc[df_group['小队ID']==group_id, '总待补充人数'] = df_group.loc[df_group['小队ID']==group_id, '总待补充人数'] - sea.shape[0]\n",
    "\n",
    "        \n",
    "    elif abc == 'b':\n",
    "        df_sea_target = df_sea.query('队员活跃区县 != @city and 队员等级 == \"A\"')\n",
    "        sea = df_sea_target[:num] \n",
    "        df_tc_table = pd.concat([df_tc_table, sea])\n",
    "        log_b.append('{}: 补充前公海有{}人'.format(group_id, df_sea.shape[0]))\n",
    "        df_sea = pd.concat([df_sea, sea], axis=0).drop_duplicates(subset=['队员id'], keep=False) \n",
    "        log_b.append('{}: 补充后公海有{}人'.format(group_id, df_sea.shape[0]))\n",
    "        df_group.loc[df_group['小队ID']==group_id, '待补充b人数'] = df_group.loc[df_group['小队ID']==group_id, '待补充b人数'].iloc[0] - sea.shape[0]\n",
    "        df_group.loc[df_group['小队ID']==group_id, 'b'] = df_group.loc[df_group['小队ID']==group_id, 'b'].iloc[0] + sea.shape[0]\n",
    "        df_group.loc[df_group['小队ID']==group_id, '总待补充人数'] = df_group.loc[df_group['小队ID']==group_id, '总待补充人数'] - sea.shape[0]\n",
    "        \n",
    "    elif abc == 'c':\n",
    "        df_sea_target = df_sea.query('队员活跃区县 == @city and 队员等级 != \"A\"')\n",
    "        sea = df_sea_target[:num]  \n",
    "        df_tc_table = pd.concat([df_tc_table, sea]) \n",
    "        \n",
    "        log_c.append('{}: 补充前公海有{}人'.format(group_id, df_sea.shape[0]))\n",
    "    \n",
    "        df_sea = pd.concat([df_sea, sea], axis=0).drop_duplicates(subset=['队员id'], keep=False)\n",
    "        log_c.append('{}: 补充后公海有{}人'.format(group_id, df_sea.shape[0]))\n",
    "        \n",
    "        # 更新该类别的待补充人数\n",
    "        df_group.loc[df_group['小队ID']==group_id, '待补充c人数'] = df_group.loc[df_group['小队ID']==group_id, '待补充c人数'].iloc[0] - sea.shape[0]\n",
    "        df_group.loc[df_group['小队ID']==group_id, 'c'] = df_group.loc[df_group['小队ID']==group_id, 'c'].iloc[0] + sea.shape[0]\n",
    "        df_group.loc[df_group['小队ID']==group_id, '总待补充人数'] = df_group.loc[df_group['小队ID']==group_id, '总待补充人数'] - sea.shape[0]    \n",
    "    \n",
    "    # 加入补充的司机\n",
    "    driver_new = pd.concat([driver, sea])\n",
    "    driver_new = driver_new.assign(补充后小队ID=[group_id]*len(driver_new))\n",
    "    if abc == 'a':\n",
    "        driver_new.loc[:, 'A类区县内a'] = 1 \n",
    "        driver_new.loc[:, 'A类区县外b'] = 0\n",
    "        driver_new.loc[:, '非A类区县内c'] = 0\n",
    "    elif abc == 'b':\n",
    "        driver_new.loc[:, 'A类区县内a'] = 0 \n",
    "        driver_new.loc[:, 'A类区县外b'] = 1\n",
    "        driver_new.loc[:, '非A类区县内c'] = 0\n",
    "    elif abc == 'c':\n",
    "        driver_new.loc[:, 'A类区县内a'] = 0 \n",
    "        driver_new.loc[:, 'A类区县外b'] = 0\n",
    "        driver_new.loc[:, '非A类区县内c'] = 1\n",
    "    \n",
    "  \n",
    "    return driver_new, df_sea"
   ]
  },
  {
   "cell_type": "code",
   "execution_count": 28,
   "id": "fbb4d87d",
   "metadata": {
    "ExecuteTime": {
     "end_time": "2021-12-23T08:33:18.557909Z",
     "start_time": "2021-12-23T08:33:18.540898Z"
    }
   },
   "outputs": [],
   "source": [
    "def bc_abc(group_id, abc):\n",
    "    \n",
    "    global df_driver, df_group, df_bc_group\n",
    "    global df_sea, df_tc_sea\n",
    "    global df_bc_ok, df_bc_nok\n",
    "    \n",
    "    if abc == 'a':\n",
    "        query_mate = '队员活跃区县 == @city and 队员等级 == \"A\"'\n",
    "        query_abc = '小队ID == @group_id and A类区县内a == 1'\n",
    "        log_abc = log_a\n",
    "        abc_lt = a_lt\n",
    "        num = num_a\n",
    "    elif abc == 'b':\n",
    "        query_mate = '队员活跃区县 != @city and 队员等级 == \"A\"'\n",
    "        query_abc = '小队ID == @group_id and A类区县外b == 1'\n",
    "        log_abc = log_b\n",
    "        abc_lt = b_lt\n",
    "        num = num_b\n",
    "    elif abc == 'c':\n",
    "        query_mate = '队员活跃区县 == @city and 队员等级 != \"A\"'\n",
    "        query_abc = '小队ID == @group_id and 非A类区县内c == 1'\n",
    "        log_abc = log_c\n",
    "        abc_lt = c_lt\n",
    "        num = num_c\n",
    "    \n",
    "    driver = df_driver.query(query_abc)\n",
    "\n",
    "    df_sea_target = df_sea.query(query_mate)\n",
    "    num_target = num - df_sea_target.shape[0] \n",
    "    log_abc.append('{}: 需要补充{}名, 【公海里】找到{}名'.format(group_id, num, df_sea_target.shape[0]))\n",
    "    if num_target <= 0:  \n",
    "        driver_new, df_sea = bc(driver, df_sea, num, abc)\n",
    "        driver_new.loc[:, '补充情况'] = 1 \n",
    "        abc_lt.append(group_id)\n",
    "        df_bc_ok = pd.concat([df_bc_ok, driver_new])\n",
    "        log_abc.append('公海里能补充完，{0}: 原有{1}类司机{2}名, 补充{1}类司机后:{3}名'.format(group_id, abc, driver.shape[0], driver_new.shape[0]))\n",
    "\n",
    "    elif num_target > 0 :\n",
    "        df_sea_target = df_sea.query(query_mate)\n",
    "        driver_new, df_sea = bc(driver, df_sea, df_sea_target.shape[0], abc)\n",
    "    \n",
    "        num = num_target \n",
    "        log_abc.append('公海里不能补充完-从公海里补充，{0}: 原有{1}类司机{2}名, 补充{1}类司机后:{3}名'.format(group_id, abc, driver.shape[0], driver_new.shape[0]))  \n",
    "        \n",
    "        df_tc_sea_target = df_tc_sea.query(query_mate)\n",
    "        num_target = num - df_tc_sea_target.shape[0]  \n",
    "        log_abc.append('{}: 需要补充{}名, 【待剔除人数大于0的小队】里找到{}名'.format(group_id, num, df_tc_sea_target.shape[0]))  \n",
    "        if num_target <= 0:  \n",
    "            driver_new, df_tc_sea = bc(driver_new, df_tc_sea,  num, abc)\n",
    "            driver_new.loc[:, '补充情况'] = 1\n",
    "            abc_lt.append(group_id)\n",
    "            df_bc_ok = pd.concat([df_bc_ok, driver_new])\n",
    "            log_abc.append('公海里不能补充完 -> 小队里能补充完，{0}: 原有{1}类司机{2}名, 补充{1}类司机后:{3}名'.format(group_id, abc, driver.shape[0], driver_new.shape[0]))  \n",
    "        elif num_target > 0:\n",
    "        \n",
    "            driver_new, df_tc_sea = bc(driver_new, df_tc_sea, df_tc_sea_target.shape[0], abc)\n",
    "            num = num_target\n",
    "            log_abc.append('公海里不能补充完->小队里不能补完-从小队里补充，{0}: 补充{1}类司机后:{2}名'.format(group_id, abc, driver_new.shape[0]))  \n",
    "            driver_new.loc[:, '补充情况'] = 2 \n",
    "            df_bc_nok = pd.concat([df_bc_nok, driver_new])\n",
    "            log_abc.append('公海里不能补充完 -> 小队里不能补充完 -> 小队0不能补充完-从小队0补充 -> 跳过这个小队，{}: 跳过该小队，有{}人未补充'.format(group_id, num_c))\n",
    "\n",
    "    print(log_abc)\n",
    "    return None"
   ]
  },
  {
   "cell_type": "code",
   "execution_count": 29,
   "id": "93104931",
   "metadata": {
    "ExecuteTime": {
     "end_time": "2021-12-23T08:33:18.564387Z",
     "start_time": "2021-12-23T08:33:18.558934Z"
    }
   },
   "outputs": [],
   "source": [
    "def bc_group(group_id):\n",
    "    \n",
    "    global city\n",
    "    global num_a, num_b, num_c  \n",
    "    group = df_bc_group.query('小队ID == @group_id')\n",
    "    num_a = group[\"待补充a人数\"].iloc[0]\n",
    "    num_b = group[\"待补充b人数\"].iloc[0]\n",
    "    num_c = group[\"待补充c人数\"].iloc[0]\n",
    "    city = group['小队活跃区县'].iloc[0]\n",
    "    \n",
    "    if num_a > 0:\n",
    "        bc_abc(group_id, 'a')\n",
    "    if num_b > 0:\n",
    "        bc_abc(group_id, 'b')\n",
    "    if num_c > 0:\n",
    "        bc_abc(group_id, 'c')\n",
    "        \n",
    "    return None"
   ]
  },
  {
   "cell_type": "code",
   "execution_count": 32,
   "id": "b1c13fad",
   "metadata": {
    "ExecuteTime": {
     "end_time": "2021-12-23T08:33:18.858471Z",
     "start_time": "2021-12-23T08:33:18.607702Z"
    }
   },
   "outputs": [
    {
     "name": "stdout",
     "output_type": "stream",
     "text": [
      "['309044: 需要补充1名, 【公海里】找到2名', '309044: 补充前公海有34人', '309044: 补充后公海有33人', '公海里能补充完，309044: 原有c类司机5名, 补充c类司机后:6名']\n",
      "['309043: 需要补充2名, 【公海里】找到1名', '309043: 补充前公海有33人', '309043: 补充后公海有32人', '公海里不能补充完-从公海里补充，309043: 原有a类司机7名, 补充a类司机后:8名', '309043: 需要补充1名, 【待剔除人数大于0的小队】里找到4名', '309043: 补充前公海有53人', '309043: 补充后公海有52人', '公海里不能补充完 -> 小队里能补充完，309043: 原有a类司机7名, 补充a类司机后:9名']\n",
      "['309044: 需要补充1名, 【公海里】找到2名', '309044: 补充前公海有34人', '309044: 补充后公海有33人', '公海里能补充完，309044: 原有c类司机5名, 补充c类司机后:6名', '309043: 需要补充1名, 【公海里】找到4名', '309043: 补充前公海有32人', '309043: 补充后公海有31人', '公海里能补充完，309043: 原有c类司机8名, 补充c类司机后:9名']\n",
      "['309043: 需要补充2名, 【公海里】找到1名', '309043: 补充前公海有33人', '309043: 补充后公海有32人', '公海里不能补充完-从公海里补充，309043: 原有a类司机7名, 补充a类司机后:8名', '309043: 需要补充1名, 【待剔除人数大于0的小队】里找到4名', '309043: 补充前公海有53人', '309043: 补充后公海有52人', '公海里不能补充完 -> 小队里能补充完，309043: 原有a类司机7名, 补充a类司机后:9名', '309041: 需要补充3名, 【公海里】找到1名', '309041: 补充前公海有31人', '309041: 补充后公海有30人', '公海里不能补充完-从公海里补充，309041: 原有a类司机6名, 补充a类司机后:7名', '309041: 需要补充2名, 【待剔除人数大于0的小队】里找到17名', '309041: 补充前公海有52人', '309041: 补充后公海有50人', '公海里不能补充完 -> 小队里能补充完，309041: 原有a类司机6名, 补充a类司机后:9名']\n",
      "['309041: 需要补充2名, 【公海里】找到16名', '309041: 补充前公海有30人', '309041: 补充后公海有28人', '公海里能补充完，309041: 原有b类司机10名, 补充b类司机后:12名']\n",
      "['309044: 需要补充1名, 【公海里】找到2名', '309044: 补充前公海有34人', '309044: 补充后公海有33人', '公海里能补充完，309044: 原有c类司机5名, 补充c类司机后:6名', '309043: 需要补充1名, 【公海里】找到4名', '309043: 补充前公海有32人', '309043: 补充后公海有31人', '公海里能补充完，309043: 原有c类司机8名, 补充c类司机后:9名', '309041: 需要补充2名, 【公海里】找到4名', '309041: 补充前公海有28人', '309041: 补充后公海有26人', '公海里能补充完，309041: 原有c类司机7名, 补充c类司机后:9名']\n"
     ]
    }
   ],
   "source": [
    "group_id_lt = df_bc_group['小队ID'].values.tolist()\n",
    "for group_id in group_id_lt:\n",
    "    bc_group(group_id)"
   ]
  },
  {
   "cell_type": "markdown",
   "id": "ea3681b9",
   "metadata": {},
   "source": [
    "## 写入文件"
   ]
  },
  {
   "cell_type": "code",
   "execution_count": 53,
   "id": "ecf97c77",
   "metadata": {
    "ExecuteTime": {
     "end_time": "2021-12-23T08:40:06.479531Z",
     "start_time": "2021-12-23T08:40:06.273158Z"
    }
   },
   "outputs": [],
   "source": [
    "writer = pd.ExcelWriter('out.xlsx')\n",
    "df_out.to_excel(writer, '组队成功', index=False)\n",
    "tc_sea.to_excel(writer, '组队不成功', index=False)\n",
    "writer.save()"
   ]
  },
  {
   "cell_type": "code",
   "execution_count": 47,
   "id": "57ce5f99",
   "metadata": {
    "ExecuteTime": {
     "end_time": "2021-12-23T08:33:19.320411Z",
     "start_time": "2021-12-23T08:33:19.315454Z"
    }
   },
   "outputs": [],
   "source": [
    "def write_log(file, lt):\n",
    "    with open(file, 'a') as f:\n",
    "        for line in lt:\n",
    "            f.write(line)\n",
    "            f.write('\\n')"
   ]
  },
  {
   "cell_type": "code",
   "execution_count": 48,
   "id": "0eb8ebbc",
   "metadata": {
    "ExecuteTime": {
     "end_time": "2021-12-23T08:33:19.329389Z",
     "start_time": "2021-12-23T08:33:19.322407Z"
    }
   },
   "outputs": [],
   "source": [
    "write_log('log_a.txt', log_a)\n",
    "write_log('log_b.txt', log_b)\n",
    "write_log('log_c.txt', log_c)"
   ]
  }
 ],
 "metadata": {
  "kernelspec": {
   "display_name": "Python 3",
   "language": "python",
   "name": "python3"
  },
  "language_info": {
   "codemirror_mode": {
    "name": "ipython",
    "version": 3
   },
   "file_extension": ".py",
   "mimetype": "text/x-python",
   "name": "python",
   "nbconvert_exporter": "python",
   "pygments_lexer": "ipython3",
   "version": "3.8.8"
  },
  "toc": {
   "base_numbering": 1,
   "nav_menu": {},
   "number_sections": true,
   "sideBar": true,
   "skip_h1_title": false,
   "title_cell": "Table of Contents",
   "title_sidebar": "Contents",
   "toc_cell": false,
   "toc_position": {
    "height": "calc(100% - 180px)",
    "left": "10px",
    "top": "150px",
    "width": "319.977px"
   },
   "toc_section_display": true,
   "toc_window_display": false
  }
 },
 "nbformat": 4,
 "nbformat_minor": 5
}
