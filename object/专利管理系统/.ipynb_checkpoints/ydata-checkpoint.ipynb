{
 "cells": [
  {
   "cell_type": "code",
   "execution_count": 29,
   "metadata": {
    "ExecuteTime": {
     "end_time": "2022-02-18T08:44:54.069682Z",
     "start_time": "2022-02-18T08:44:54.053066Z"
    }
   },
   "outputs": [
    {
     "data": {
      "text/plain": [
       "'D:\\\\file\\\\course\\\\大四\\\\毕设'"
      ]
     },
     "execution_count": 29,
     "metadata": {},
     "output_type": "execute_result"
    }
   ],
   "source": [
    "import pandas as pd\n",
    "from IPython.core.interactiveshell import InteractiveShell \n",
    "InteractiveShell.ast_node_interactivity = \"all\"\n",
    "\n",
    "pd.set_option('display.max_colwidth', 10000)  # pandas设置最大列宽  # 显示单元格全部内容\n",
    "pd.set_option('display.max_columns', None)  # pandas设置最大列宽  # 显示单元格全部内容\n",
    "\n",
    "import os\n",
    "\n",
    "os.getcwd()\n",
    "\n",
    "os.chdir('D:\\\\file\\\\course\\\\大四\\\\毕设\\\\')\n",
    "\n",
    "import csv\n",
    "from datetime import *"
   ]
  },
  {
   "cell_type": "code",
   "execution_count": 20,
   "metadata": {
    "ExecuteTime": {
     "end_time": "2022-02-18T08:38:49.620593Z",
     "start_time": "2022-02-18T08:38:37.430386Z"
    }
   },
   "outputs": [
    {
     "data": {
      "text/plain": [
       "(8378, 99)"
      ]
     },
     "execution_count": 20,
     "metadata": {},
     "output_type": "execute_result"
    }
   ],
   "source": [
    "df = pd.read_excel('ydata.xlsx')\n",
    "df.shape"
   ]
  },
  {
   "cell_type": "code",
   "execution_count": 6,
   "metadata": {
    "ExecuteTime": {
     "end_time": "2022-02-18T08:32:56.691129Z",
     "start_time": "2022-02-18T08:32:56.673767Z"
    }
   },
   "outputs": [
    {
     "data": {
      "text/plain": [
       "Index(['id', '申请年', '施引专利计数', '公开号', 'INPADOC_同族专利_ID', '标题', '标题_原始语言_',\n",
       "       '标题_英语_', '标题_DWPI', '摘要', '摘要_原始语言_', '摘要_英语_', '摘要_DWPI',\n",
       "       '摘要_DWPI_新颖性', '摘要_DWPI_详细说明', '摘要_DWPI_生物活性', '摘要_DWPI_生物学机制',\n",
       "       '摘要_DWPI_用途', '摘要_DWPI_优势', '摘要_DWPI_技术要点', '权利要求', '权利要求_英语_',\n",
       "       '权利要求计数', '独立权利要求', '专利权人_申请人', '专利权人_标准化', '专利权人_原始', '专利权人_原始_带有地址_',\n",
       "       '专利权人_原始_国家_地区', '终属母公司', '专利权人_DWPI', '专利权人代码_DWPI', '专利权人计数', '发明人',\n",
       "       '发明人_原始', '发明人_带有地址', '发明人_DWPI', '发明人计数', 'DWPI_入藏号', '公开国家_地区代码',\n",
       "       '公开日期', '失效_有效', '申请国家_地区', '申请日期', '优先权号', '优先权号_优先权日_DWPI',\n",
       "       '优先权国家_地区', '优先权国家_地区_DWPI', '优先权日', '优先权日_DWPI', '优先权日_最早', '相关专利申请',\n",
       "       '相关专利申请号', '相关专利申请日期', 'PCT_申请号', 'PCT_申请日期', 'PCT_公开号', 'IPC_现版',\n",
       "       'IPC_现版完整', 'IPC_现版完整_4_个字符_', 'IPC_现版_DWPI', 'CPC_现版', 'CPC_现版_DWPI',\n",
       "       'CPC_现版_指定专利局', 'CPC_现版_指定专利局_DWPI', 'CPC_原始_指定专利局',\n",
       "       'CPC_原始_指定专利局_DWPI', 'CPC_分类', '美国分类', 'ECLA', 'DWPI_分类', 'DWPI_手工代码',\n",
       "       '引用的参考文献_专利', '引用的参考文献详细信息_专利', '引用的参考文献数_专利', '引用的专利第一专利权人',\n",
       "       '引用的参考文献_非专利', '引用的非专利_DOI', '引用的参考文献计数_非专利', '引用的专利_DPCI',\n",
       "       '引用的专利计数_DPCI', '引用的引用计数_DPCI', '引用的专利详细信息_DPCI', '引用的非专利_DPCI',\n",
       "       '引用的非专利计数_DPCI', '施引的引用计数_DPCI', '施引专利', '施引专利第一专利权人', '施引参考文献详细信息_专利',\n",
       "       '施引专利_DPCI', '施引专利计数_DPCI', '施引专利详细信息_DPCI', 'INPADOC_法律状态',\n",
       "       'INPADOC_法律状态代码', 'INPADOC_同族专利成员', 'DWPI_同族专利成员', 'DWPI_同族专利成员计数',\n",
       "       'DWPI_同族专利国家_地区计数', '综合专利影响力'],\n",
       "      dtype='object')"
      ]
     },
     "execution_count": 6,
     "metadata": {},
     "output_type": "execute_result"
    }
   ],
   "source": [
    "df.columns"
   ]
  },
  {
   "cell_type": "code",
   "execution_count": 71,
   "metadata": {
    "ExecuteTime": {
     "end_time": "2022-02-18T09:09:35.821040Z",
     "start_time": "2022-02-18T09:09:35.787451Z"
    }
   },
   "outputs": [
    {
     "data": {
      "text/plain": [
       "(8378, 99)"
      ]
     },
     "execution_count": 71,
     "metadata": {},
     "output_type": "execute_result"
    }
   ],
   "source": [
    "d = df.copy()\n",
    "d.shape"
   ]
  },
  {
   "cell_type": "code",
   "execution_count": 92,
   "metadata": {
    "ExecuteTime": {
     "end_time": "2022-02-18T09:52:57.560414Z",
     "start_time": "2022-02-18T09:52:57.544345Z"
    }
   },
   "outputs": [
    {
     "data": {
      "text/plain": [
       "str"
      ]
     },
     "execution_count": 92,
     "metadata": {},
     "output_type": "execute_result"
    }
   ],
   "source": [
    "type(d['公开号'][12])"
   ]
  },
  {
   "cell_type": "code",
   "execution_count": 84,
   "metadata": {
    "ExecuteTime": {
     "end_time": "2022-02-18T09:16:46.723198Z",
     "start_time": "2022-02-18T09:16:46.678704Z"
    }
   },
   "outputs": [],
   "source": [
    "d['公开年'] = d['公开号'].apply(lambda x: x.year)   \n",
    "# datetime.strftime   # 如果存在空值 --> 先填充然后处理数据"
   ]
  },
  {
   "cell_type": "code",
   "execution_count": 86,
   "metadata": {
    "ExecuteTime": {
     "end_time": "2022-02-18T09:18:34.396196Z",
     "start_time": "2022-02-18T09:18:34.384755Z"
    }
   },
   "outputs": [
    {
     "data": {
      "text/plain": [
       "(8378, 100)"
      ]
     },
     "execution_count": 86,
     "metadata": {},
     "output_type": "execute_result"
    }
   ],
   "source": [
    "d.shape"
   ]
  },
  {
   "cell_type": "code",
   "execution_count": 88,
   "metadata": {
    "ExecuteTime": {
     "end_time": "2022-02-18T09:20:01.899685Z",
     "start_time": "2022-02-18T09:19:49.868643Z"
    }
   },
   "outputs": [],
   "source": [
    "writer = pd.ExcelWriter('y02.xlsx')\n",
    "d.to_excel(writer,index=False)\n",
    "writer.save()"
   ]
  }
 ],
 "metadata": {
  "kernelspec": {
   "display_name": "Python 3",
   "language": "python",
   "name": "python3"
  },
  "language_info": {
   "codemirror_mode": {
    "name": "ipython",
    "version": 3
   },
   "file_extension": ".py",
   "mimetype": "text/x-python",
   "name": "python",
   "nbconvert_exporter": "python",
   "pygments_lexer": "ipython3",
   "version": "3.7.0"
  },
  "toc": {
   "base_numbering": 1,
   "nav_menu": {},
   "number_sections": true,
   "sideBar": true,
   "skip_h1_title": false,
   "title_cell": "Table of Contents",
   "title_sidebar": "Contents",
   "toc_cell": false,
   "toc_position": {},
   "toc_section_display": true,
   "toc_window_display": false
  }
 },
 "nbformat": 4,
 "nbformat_minor": 2
}
