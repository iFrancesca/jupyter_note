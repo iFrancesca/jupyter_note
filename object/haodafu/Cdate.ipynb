{
 "cells": [
  {
   "cell_type": "code",
   "execution_count": 1,
   "metadata": {},
   "outputs": [],
   "source": [
    "# -*- coding: utf-8 -*-\n",
    "\"\"\"\n",
    "Created on Mon Jan 11 13:27:13 2021\n",
    "\n",
    "@author: 11581\n",
    "\"\"\"\n",
    "\n",
    "import time\n",
    "import datetime\n",
    " \n",
    "#计算两个日期相差天数，自定义函数名，和两个日期的变量名。\n",
    "def Caltime(date1,date2):\n",
    "    try:\n",
    "    #%Y-%m-%d为日期格式，其中的-可以用其他代替或者不写，但是要统一，同理后面的时分秒也一样；可以只计算日期，不计算时间。\n",
    "    #date1=time.strptime(date1,\"%Y-%m-%d %H:%M:%S\") \n",
    "    #date2=time.strptime(date2,\"%Y-%m-%d %H:%M:%S\")\n",
    "        #date1=time.strptime(date1,\"%Y/%m/%d\")\n",
    "        #date2=time.strptime(date2,\"%Y/%m/%d\")\n",
    "    #根据上面需要计算日期还是日期时间，来确定需要几个数组段。下标0表示年，小标1表示月，依次类推...\n",
    "    #date1=datetime.datetime(date1[0],date1[1],date1[2],date1[3],date1[4],date1[5])\n",
    "    #date2=datetime.datetime(date2[0],date2[1],date2[2],date2[3],date2[4],date2[5])\n",
    "        date1=datetime.datetime(date1[0],date1[1],date1[2])\n",
    "        date2=datetime.datetime(date2[0],date2[1],date2[2])\n",
    "    #返回两个变量相差的值，就是相差天数\n",
    "        return (date2-date1).days\n",
    "    except:\n",
    "        print(\"error:{} & {}\".format(date1,date2))\n",
    "        return None\n"
   ]
  },
  {
   "cell_type": "code",
   "execution_count": 18,
   "metadata": {},
   "outputs": [
    {
     "data": {
      "text/plain": [
       "0.41979029080811425"
      ]
     },
     "execution_count": 18,
     "metadata": {},
     "output_type": "execute_result"
    }
   ],
   "source": [
    "import math\n",
    "a = math.e\n",
    "b= -0.868\n",
    "pow(a,b)"
   ]
  }
 ],
 "metadata": {
  "kernelspec": {
   "display_name": "Python 3",
   "language": "python",
   "name": "python3"
  },
  "language_info": {
   "codemirror_mode": {
    "name": "ipython",
    "version": 3
   },
   "file_extension": ".py",
   "mimetype": "text/x-python",
   "name": "python",
   "nbconvert_exporter": "python",
   "pygments_lexer": "ipython3",
   "version": "3.7.0"
  }
 },
 "nbformat": 4,
 "nbformat_minor": 2
}
