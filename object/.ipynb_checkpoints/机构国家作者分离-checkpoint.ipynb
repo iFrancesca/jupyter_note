{
 "cells": [
  {
   "cell_type": "code",
   "execution_count": 50,
   "metadata": {},
   "outputs": [],
   "source": [
    "import re\n",
    "\n",
    "txt=\"[Zhang, Rongrong; Wang, Li; Pan, Lun; Chen, Zhichao; Jia, Wenyan; Zhang, Xiangwen; Zou, Ji-Jun] Tianjin Univ, Sch Chem Engn & Technol, Key Lab Green Chem Technol, Minist Educ, Tianjin 300072, Peoples R China; [Zhang, Rongrong; Wang, Li; Pan, Lun; Chen, Zhichao; Jia, Wenyan; Zhang, Xiangwen; Zou, Ji-Jun] Collaborat Innovat Ctr Chem Sci & Engn Tianjin, Tianjin 300072, Peoples R China; \""
   ]
  },
  {
   "cell_type": "code",
   "execution_count": 44,
   "metadata": {},
   "outputs": [
    {
     "data": {
      "text/plain": [
       "['Tianjin Univ, Sch Chem Engn & Technol, Key Lab Green Chem Technol, Minist Educ, Tianjin 300072, Peoples R China']"
      ]
     },
     "execution_count": 44,
     "metadata": {},
     "output_type": "execute_result"
    }
   ],
   "source": [
    "two = re.findall(r\"\\[.*?\\] (.*?); \",txt)\n",
    "two"
   ]
  },
  {
   "cell_type": "code",
   "execution_count": 49,
   "metadata": {},
   "outputs": [
    {
     "data": {
      "text/plain": [
       "['Tianjin Univ, Sch Chem Engn & Technol, Key Lab Green Chem Technol, Minist Educ, Tianjin 300072, Peoples R China',\n",
       " 'Collaborat Innovat Ctr Chem Sci & Engn Tianjin, Tianjin 300072, Peoples R China']"
      ]
     },
     "execution_count": 49,
     "metadata": {},
     "output_type": "execute_result"
    }
   ],
   "source": [
    "Rtwo = re.compile(r\"\\[.*?\\] (.*?); \")\n",
    "two = Rtwo.findall(txt)\n",
    "two"
   ]
  },
  {
   "cell_type": "code",
   "execution_count": 64,
   "metadata": {},
   "outputs": [
    {
     "name": "stdout",
     "output_type": "stream",
     "text": [
      "[['Tianjin Univ', ' Sch Chem Engn & Technol', ' Key Lab Green Chem Technol', ' Minist Educ', ' Tianjin 300072'], ['Collaborat Innovat Ctr Chem Sci & Engn Tianjin', ' Tianjin 300072']]\n",
      "[' Peoples R China', ' Peoples R China']\n",
      "['Zhang, Rongrong; Wang, Li; Pan, Lun; Chen, Zhichao; Jia, Wenyan; Zhang, Xiangwen; Zou, Ji-Jun', 'Zhang, Rongrong; Wang, Li; Pan, Lun; Chen, Zhichao; Jia, Wenyan; Zhang, Xiangwen; Zou, Ji-Jun']\n"
     ]
    }
   ],
   "source": [
    "def get(two_single):\n",
    "    lt = two_single.split(\",\")\n",
    "    \n",
    "    return ins,cou\n",
    "def process(txt):\n",
    "    Rtwo = re.compile(r\"\\[.*?\\] (.*?); \")\n",
    "    two = Rtwo.findall(txt)\n",
    "    ins = [single.split(\",\")[:-1] for single in two]\n",
    "    cou = [single.split(\",\")[-1] for single in two]\n",
    "    Rpeople = re.compile(r\"\\[(.*?)\\] .*?; \")\n",
    "    peo = Rpeople.findall(txt)\n",
    "    return ins,cou,peo\n",
    "ins,cou,peo = process(txt)\n",
    "print(ins)\n",
    "print(cou)\n",
    "print(peo)"
   ]
  },
  {
   "cell_type": "code",
   "execution_count": 56,
   "metadata": {},
   "outputs": [],
   "source": [
    "Rtwo = re.compile(r\"\\[.*?\\] (.*?); \")\n",
    "two = Rtwo.findall(txt)\n",
    "two = map\n",
    "\n"
   ]
  },
  {
   "cell_type": "code",
   "execution_count": 63,
   "metadata": {},
   "outputs": [
    {
     "name": "stdout",
     "output_type": "stream",
     "text": [
      "[['Tianjin Univ', ' Sch Chem Engn & Technol', ' Key Lab Green Chem Technol', ' Minist Educ', ' Tianjin 300072'], ['Collaborat Innovat Ctr Chem Sci & Engn Tianjin', ' Tianjin 300072']]\n",
      "[' Peoples R China', ' Peoples R China']\n"
     ]
    }
   ],
   "source": [
    "ins = [single.split(\",\")[:-1] for single in two]\n",
    "cou = [single.split(\",\")[-1] for single in two]\n",
    "print(ins)\n",
    "print(cou)"
   ]
  }
 ],
 "metadata": {
  "kernelspec": {
   "display_name": "Python 3",
   "language": "python",
   "name": "python3"
  },
  "language_info": {
   "codemirror_mode": {
    "name": "ipython",
    "version": 3
   },
   "file_extension": ".py",
   "mimetype": "text/x-python",
   "name": "python",
   "nbconvert_exporter": "python",
   "pygments_lexer": "ipython3",
   "version": "3.7.0"
  }
 },
 "nbformat": 4,
 "nbformat_minor": 2
}
